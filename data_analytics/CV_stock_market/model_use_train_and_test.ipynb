{
 "cells": [
  {
   "cell_type": "code",
   "execution_count": 1,
   "metadata": {},
   "outputs": [],
   "source": [
    "import tensorflow as tf\n",
    "import keras\n",
    "from draw_candle_image import *\n",
    "import pandas as pd\n",
    "import numpy as np\n",
    "import matplotlib.pyplot as plt\n",
    "import ta.trend\n",
    "from ta import add_all_ta_features\n",
    "from ta.utils import dropna\n",
    "import ta\n",
    "import ta.momentum\n",
    "import json\n",
    "from common_train_utils import *\n",
    "from functools import partial\n",
    "import tensorflow_docs as tfdocs\n",
    "import tensorflow_docs.plots\n",
    "import pathlib\n",
    "import shutil\n",
    "import tempfile\n",
    "import tensorflow_docs.modeling\n",
    "from model_code import *\n",
    "import os"
   ]
  },
  {
   "cell_type": "code",
   "execution_count": 2,
   "metadata": {},
   "outputs": [],
   "source": [
    "logdir = pathlib.Path(tempfile.mkdtemp())/\"tensorboard_logs\"\n",
    "shutil.rmtree(logdir, ignore_errors=True)"
   ]
  },
  {
   "cell_type": "code",
   "execution_count": 3,
   "metadata": {},
   "outputs": [
    {
     "name": "stdout",
     "output_type": "stream",
     "text": [
      "C:\\Users\\ADMIN\\AppData\\Local\\Temp\\tmp94yuv9av\\tensorboard_logs\n"
     ]
    }
   ],
   "source": [
    "print(logdir)"
   ]
  },
  {
   "cell_type": "code",
   "execution_count": 4,
   "metadata": {},
   "outputs": [],
   "source": [
    "dataset_folder = \"./dataset/vn30_dataset_0_2_3_2012_2024_test_2023_2024\""
   ]
  },
  {
   "cell_type": "code",
   "execution_count": 5,
   "metadata": {},
   "outputs": [],
   "source": [
    "config = read_config(dataset_folder)\n",
    "candle_type_and_directory_save: dict = config[\"candle_type_and_directory_save\"]\n",
    "previous_days = config[\"previous_days\"]\n",
    "next_days = config[\"next_days\"]\n",
    "days_result = config[\"days_result\"]"
   ]
  },
  {
   "cell_type": "code",
   "execution_count": 6,
   "metadata": {},
   "outputs": [
    {
     "name": "stdout",
     "output_type": "stream",
     "text": [
      "folder: bullish_engulfing, \t\t total: 10 images\n",
      "folder: bearish_engulfing, \t\t total: 11 images\n",
      "folder: star_doji, \t\t total: 0 images\n",
      "folder: dragonfly_doji, \t\t total: 0 images\n",
      "folder: gravestone_doji, \t\t total: 0 images\n",
      "folder: morning_star, \t\t total: 13 images\n",
      "folder: evening_star, \t\t total: 0 images\n",
      "folder: hammer, \t\t total: 13 images\n",
      "folder: inverted_hammer, \t\t total: 15 images\n",
      "folder: harami_down, \t\t total: 30 images\n",
      "folder: harami_up, \t\t total: 40 images\n",
      "folder: tweezer_top, \t\t total: 0 images\n",
      "folder: tweezer_bottom, \t\t total: 6 images\n",
      "folder: marubozu, \t\t total: 19 images\n",
      "folder: spin, \t\t total: 7 images\n",
      "folder: next_3_day_up, \t\t total: 41 images\n",
      "folder: next_3_day_down, \t\t total: 31 images\n"
     ]
    }
   ],
   "source": [
    "dataset_test = load_dataset_of_each_type_and_combine(f\"{dataset_folder}/test\", candle_type_and_directory_save)\n",
    "total_data_test = len(dataset_test)"
   ]
  },
  {
   "cell_type": "code",
   "execution_count": 7,
   "metadata": {},
   "outputs": [
    {
     "name": "stdout",
     "output_type": "stream",
     "text": [
      "folder: bullish_engulfing, \t\t total: 27 images\n",
      "folder: bearish_engulfing, \t\t total: 32 images\n",
      "folder: star_doji, \t\t total: 9 images\n",
      "folder: dragonfly_doji, \t\t total: 9 images\n",
      "folder: gravestone_doji, \t\t total: 14 images\n",
      "folder: morning_star, \t\t total: 39 images\n",
      "folder: evening_star, \t\t total: 54 images\n",
      "folder: hammer, \t\t total: 46 images\n",
      "folder: inverted_hammer, \t\t total: 71 images\n",
      "folder: harami_down, \t\t total: 170 images\n",
      "folder: harami_up, \t\t total: 164 images\n",
      "folder: tweezer_top, \t\t total: 47 images\n",
      "folder: tweezer_bottom, \t\t total: 35 images\n",
      "folder: marubozu, \t\t total: 124 images\n",
      "folder: spin, \t\t total: 54 images\n",
      "folder: next_3_day_up, \t\t total: 219 images\n",
      "folder: next_3_day_down, \t\t total: 166 images\n"
     ]
    }
   ],
   "source": [
    "dataset_train = load_dataset_of_each_type_and_combine(f\"{dataset_folder}/train\", candle_type_and_directory_save)\n",
    "total_data_train = len(dataset_train)"
   ]
  },
  {
   "cell_type": "code",
   "execution_count": 37,
   "metadata": {},
   "outputs": [],
   "source": [
    "def split_cnn(image_shape, days_result):\n",
    "    inputs = keras.layers.Input(shape=image_shape)\n",
    "        \n",
    "    # Các lớp CNN để trích xuất đặc trưng từ ảnh\n",
    "    x = keras.layers.Conv2D(days_result, (3, 3), activation='relu')(inputs)\n",
    "    x = keras.layers.MaxPooling2D((3, 3))(x)\n",
    "\n",
    "    a = keras.layers.Permute((3, 1, 2))(x)\n",
    "    \n",
    "    flatten = keras.layers.TimeDistributed(keras.layers.Flatten())(a)\n",
    "    flatten = keras.layers.TimeDistributed(keras.layers.Dense(32))(flatten)\n",
    "    flatten = keras.layers.TimeDistributed(keras.layers.Dense(32))(flatten)\n",
    "    lstm_1 = keras.layers.LSTM(64, return_sequences=True)(flatten)\n",
    "    lstm_1 = keras.layers.TimeDistributed(keras.layers.Dense(2))(lstm_1)\n",
    "     # Chỉ lấy 3 bước thời gian đầu tiên\n",
    "    output = keras.layers.Lambda(lambda x: x[:, :days_result, :])(lstm_1)  # Lấy 3 bước đầu\n",
    "    \n",
    "    # Xây dựng mô hình\n",
    "    model = keras.models.Model(inputs=[inputs], outputs=output)\n",
    "    return model, \"split_cnn\""
   ]
  },
  {
   "cell_type": "code",
   "execution_count": 38,
   "metadata": {},
   "outputs": [
    {
     "name": "stdout",
     "output_type": "stream",
     "text": [
      "WARNING:tensorflow:From d:\\code\\selenium\\.venv\\lib\\site-packages\\keras\\src\\backend\\tensorflow\\core.py:204: The name tf.placeholder is deprecated. Please use tf.compat.v1.placeholder instead.\n",
      "\n"
     ]
    }
   ],
   "source": [
    "for images_train, labels_train, dates_train in dataset_train.take(1):\n",
    "    break\n",
    "image_shape = tuple(images_train.shape)\n",
    "model, model_name = split_cnn(image_shape, days_result)"
   ]
  },
  {
   "cell_type": "code",
   "execution_count": 39,
   "metadata": {},
   "outputs": [],
   "source": [
    "batch_size = 64\n",
    "STEPS_PER_EPOCH = total_data_train // batch_size + 1\n",
    "name_sub_folder_save_metrics = f\"{model_name}_{dataset_folder}\"\n",
    "name_folder_save_metrics = f\"sizes/{model_name}_{dataset_folder}\"\n",
    "max_epochs = 1\n",
    "metric_name = \"mean_absolute_error\"\n",
    "metric_object = keras.metrics.MeanAbsoluteError(name=metric_name)\n",
    "val_loss_metric_to_stop = 0.5699\n",
    "start_learning_rate = 0.01\n",
    "shuffle_buffer = 300\n",
    "number_epochs_to_decrease_lr = 5\n",
    "number_epochs_to_wait = 10"
   ]
  },
  {
   "cell_type": "code",
   "execution_count": 40,
   "metadata": {},
   "outputs": [
    {
     "data": {
      "text/plain": [
       "'split_cnn'"
      ]
     },
     "execution_count": 40,
     "metadata": {},
     "output_type": "execute_result"
    }
   ],
   "source": [
    "model_name"
   ]
  },
  {
   "cell_type": "code",
   "execution_count": 41,
   "metadata": {},
   "outputs": [
    {
     "data": {
      "text/plain": [
       "21"
      ]
     },
     "execution_count": 41,
     "metadata": {},
     "output_type": "execute_result"
    }
   ],
   "source": [
    "STEPS_PER_EPOCH"
   ]
  },
  {
   "cell_type": "code",
   "execution_count": 42,
   "metadata": {},
   "outputs": [
    {
     "data": {
      "text/html": [
       "<pre style=\"white-space:pre;overflow-x:auto;line-height:normal;font-family:Menlo,'DejaVu Sans Mono',consolas,'Courier New',monospace\"><span style=\"font-weight: bold\">Model: \"functional_1\"</span>\n",
       "</pre>\n"
      ],
      "text/plain": [
       "\u001b[1mModel: \"functional_1\"\u001b[0m\n"
      ]
     },
     "metadata": {},
     "output_type": "display_data"
    },
    {
     "data": {
      "text/html": [
       "<pre style=\"white-space:pre;overflow-x:auto;line-height:normal;font-family:Menlo,'DejaVu Sans Mono',consolas,'Courier New',monospace\">┏━━━━━━━━━━━━━━━━━━━━━━━━━━━━━━━━━┳━━━━━━━━━━━━━━━━━━━━━━━━┳━━━━━━━━━━━━━━━┓\n",
       "┃<span style=\"font-weight: bold\"> Layer (type)                    </span>┃<span style=\"font-weight: bold\"> Output Shape           </span>┃<span style=\"font-weight: bold\">       Param # </span>┃\n",
       "┡━━━━━━━━━━━━━━━━━━━━━━━━━━━━━━━━━╇━━━━━━━━━━━━━━━━━━━━━━━━╇━━━━━━━━━━━━━━━┩\n",
       "│ input_layer_1 (<span style=\"color: #0087ff; text-decoration-color: #0087ff\">InputLayer</span>)      │ (<span style=\"color: #00d7ff; text-decoration-color: #00d7ff\">None</span>, <span style=\"color: #00af00; text-decoration-color: #00af00\">287</span>, <span style=\"color: #00af00; text-decoration-color: #00af00\">287</span>, <span style=\"color: #00af00; text-decoration-color: #00af00\">3</span>)    │             <span style=\"color: #00af00; text-decoration-color: #00af00\">0</span> │\n",
       "├─────────────────────────────────┼────────────────────────┼───────────────┤\n",
       "│ conv2d_1 (<span style=\"color: #0087ff; text-decoration-color: #0087ff\">Conv2D</span>)               │ (<span style=\"color: #00d7ff; text-decoration-color: #00d7ff\">None</span>, <span style=\"color: #00af00; text-decoration-color: #00af00\">285</span>, <span style=\"color: #00af00; text-decoration-color: #00af00\">285</span>, <span style=\"color: #00af00; text-decoration-color: #00af00\">3</span>)    │            <span style=\"color: #00af00; text-decoration-color: #00af00\">84</span> │\n",
       "├─────────────────────────────────┼────────────────────────┼───────────────┤\n",
       "│ max_pooling2d_1 (<span style=\"color: #0087ff; text-decoration-color: #0087ff\">MaxPooling2D</span>)  │ (<span style=\"color: #00d7ff; text-decoration-color: #00d7ff\">None</span>, <span style=\"color: #00af00; text-decoration-color: #00af00\">95</span>, <span style=\"color: #00af00; text-decoration-color: #00af00\">95</span>, <span style=\"color: #00af00; text-decoration-color: #00af00\">3</span>)      │             <span style=\"color: #00af00; text-decoration-color: #00af00\">0</span> │\n",
       "├─────────────────────────────────┼────────────────────────┼───────────────┤\n",
       "│ permute_1 (<span style=\"color: #0087ff; text-decoration-color: #0087ff\">Permute</span>)             │ (<span style=\"color: #00d7ff; text-decoration-color: #00d7ff\">None</span>, <span style=\"color: #00af00; text-decoration-color: #00af00\">3</span>, <span style=\"color: #00af00; text-decoration-color: #00af00\">95</span>, <span style=\"color: #00af00; text-decoration-color: #00af00\">95</span>)      │             <span style=\"color: #00af00; text-decoration-color: #00af00\">0</span> │\n",
       "├─────────────────────────────────┼────────────────────────┼───────────────┤\n",
       "│ time_distributed_4              │ (<span style=\"color: #00d7ff; text-decoration-color: #00d7ff\">None</span>, <span style=\"color: #00af00; text-decoration-color: #00af00\">3</span>, <span style=\"color: #00af00; text-decoration-color: #00af00\">9025</span>)        │             <span style=\"color: #00af00; text-decoration-color: #00af00\">0</span> │\n",
       "│ (<span style=\"color: #0087ff; text-decoration-color: #0087ff\">TimeDistributed</span>)               │                        │               │\n",
       "├─────────────────────────────────┼────────────────────────┼───────────────┤\n",
       "│ time_distributed_5              │ (<span style=\"color: #00d7ff; text-decoration-color: #00d7ff\">None</span>, <span style=\"color: #00af00; text-decoration-color: #00af00\">3</span>, <span style=\"color: #00af00; text-decoration-color: #00af00\">32</span>)          │       <span style=\"color: #00af00; text-decoration-color: #00af00\">288,832</span> │\n",
       "│ (<span style=\"color: #0087ff; text-decoration-color: #0087ff\">TimeDistributed</span>)               │                        │               │\n",
       "├─────────────────────────────────┼────────────────────────┼───────────────┤\n",
       "│ time_distributed_6              │ (<span style=\"color: #00d7ff; text-decoration-color: #00d7ff\">None</span>, <span style=\"color: #00af00; text-decoration-color: #00af00\">3</span>, <span style=\"color: #00af00; text-decoration-color: #00af00\">32</span>)          │         <span style=\"color: #00af00; text-decoration-color: #00af00\">1,056</span> │\n",
       "│ (<span style=\"color: #0087ff; text-decoration-color: #0087ff\">TimeDistributed</span>)               │                        │               │\n",
       "├─────────────────────────────────┼────────────────────────┼───────────────┤\n",
       "│ lstm_1 (<span style=\"color: #0087ff; text-decoration-color: #0087ff\">LSTM</span>)                   │ (<span style=\"color: #00d7ff; text-decoration-color: #00d7ff\">None</span>, <span style=\"color: #00af00; text-decoration-color: #00af00\">3</span>, <span style=\"color: #00af00; text-decoration-color: #00af00\">64</span>)          │        <span style=\"color: #00af00; text-decoration-color: #00af00\">24,832</span> │\n",
       "├─────────────────────────────────┼────────────────────────┼───────────────┤\n",
       "│ time_distributed_7              │ (<span style=\"color: #00d7ff; text-decoration-color: #00d7ff\">None</span>, <span style=\"color: #00af00; text-decoration-color: #00af00\">3</span>, <span style=\"color: #00af00; text-decoration-color: #00af00\">2</span>)           │           <span style=\"color: #00af00; text-decoration-color: #00af00\">130</span> │\n",
       "│ (<span style=\"color: #0087ff; text-decoration-color: #0087ff\">TimeDistributed</span>)               │                        │               │\n",
       "├─────────────────────────────────┼────────────────────────┼───────────────┤\n",
       "│ lambda_1 (<span style=\"color: #0087ff; text-decoration-color: #0087ff\">Lambda</span>)               │ (<span style=\"color: #00d7ff; text-decoration-color: #00d7ff\">None</span>, <span style=\"color: #00af00; text-decoration-color: #00af00\">3</span>, <span style=\"color: #00af00; text-decoration-color: #00af00\">2</span>)           │             <span style=\"color: #00af00; text-decoration-color: #00af00\">0</span> │\n",
       "└─────────────────────────────────┴────────────────────────┴───────────────┘\n",
       "</pre>\n"
      ],
      "text/plain": [
       "┏━━━━━━━━━━━━━━━━━━━━━━━━━━━━━━━━━┳━━━━━━━━━━━━━━━━━━━━━━━━┳━━━━━━━━━━━━━━━┓\n",
       "┃\u001b[1m \u001b[0m\u001b[1mLayer (type)                   \u001b[0m\u001b[1m \u001b[0m┃\u001b[1m \u001b[0m\u001b[1mOutput Shape          \u001b[0m\u001b[1m \u001b[0m┃\u001b[1m \u001b[0m\u001b[1m      Param #\u001b[0m\u001b[1m \u001b[0m┃\n",
       "┡━━━━━━━━━━━━━━━━━━━━━━━━━━━━━━━━━╇━━━━━━━━━━━━━━━━━━━━━━━━╇━━━━━━━━━━━━━━━┩\n",
       "│ input_layer_1 (\u001b[38;5;33mInputLayer\u001b[0m)      │ (\u001b[38;5;45mNone\u001b[0m, \u001b[38;5;34m287\u001b[0m, \u001b[38;5;34m287\u001b[0m, \u001b[38;5;34m3\u001b[0m)    │             \u001b[38;5;34m0\u001b[0m │\n",
       "├─────────────────────────────────┼────────────────────────┼───────────────┤\n",
       "│ conv2d_1 (\u001b[38;5;33mConv2D\u001b[0m)               │ (\u001b[38;5;45mNone\u001b[0m, \u001b[38;5;34m285\u001b[0m, \u001b[38;5;34m285\u001b[0m, \u001b[38;5;34m3\u001b[0m)    │            \u001b[38;5;34m84\u001b[0m │\n",
       "├─────────────────────────────────┼────────────────────────┼───────────────┤\n",
       "│ max_pooling2d_1 (\u001b[38;5;33mMaxPooling2D\u001b[0m)  │ (\u001b[38;5;45mNone\u001b[0m, \u001b[38;5;34m95\u001b[0m, \u001b[38;5;34m95\u001b[0m, \u001b[38;5;34m3\u001b[0m)      │             \u001b[38;5;34m0\u001b[0m │\n",
       "├─────────────────────────────────┼────────────────────────┼───────────────┤\n",
       "│ permute_1 (\u001b[38;5;33mPermute\u001b[0m)             │ (\u001b[38;5;45mNone\u001b[0m, \u001b[38;5;34m3\u001b[0m, \u001b[38;5;34m95\u001b[0m, \u001b[38;5;34m95\u001b[0m)      │             \u001b[38;5;34m0\u001b[0m │\n",
       "├─────────────────────────────────┼────────────────────────┼───────────────┤\n",
       "│ time_distributed_4              │ (\u001b[38;5;45mNone\u001b[0m, \u001b[38;5;34m3\u001b[0m, \u001b[38;5;34m9025\u001b[0m)        │             \u001b[38;5;34m0\u001b[0m │\n",
       "│ (\u001b[38;5;33mTimeDistributed\u001b[0m)               │                        │               │\n",
       "├─────────────────────────────────┼────────────────────────┼───────────────┤\n",
       "│ time_distributed_5              │ (\u001b[38;5;45mNone\u001b[0m, \u001b[38;5;34m3\u001b[0m, \u001b[38;5;34m32\u001b[0m)          │       \u001b[38;5;34m288,832\u001b[0m │\n",
       "│ (\u001b[38;5;33mTimeDistributed\u001b[0m)               │                        │               │\n",
       "├─────────────────────────────────┼────────────────────────┼───────────────┤\n",
       "│ time_distributed_6              │ (\u001b[38;5;45mNone\u001b[0m, \u001b[38;5;34m3\u001b[0m, \u001b[38;5;34m32\u001b[0m)          │         \u001b[38;5;34m1,056\u001b[0m │\n",
       "│ (\u001b[38;5;33mTimeDistributed\u001b[0m)               │                        │               │\n",
       "├─────────────────────────────────┼────────────────────────┼───────────────┤\n",
       "│ lstm_1 (\u001b[38;5;33mLSTM\u001b[0m)                   │ (\u001b[38;5;45mNone\u001b[0m, \u001b[38;5;34m3\u001b[0m, \u001b[38;5;34m64\u001b[0m)          │        \u001b[38;5;34m24,832\u001b[0m │\n",
       "├─────────────────────────────────┼────────────────────────┼───────────────┤\n",
       "│ time_distributed_7              │ (\u001b[38;5;45mNone\u001b[0m, \u001b[38;5;34m3\u001b[0m, \u001b[38;5;34m2\u001b[0m)           │           \u001b[38;5;34m130\u001b[0m │\n",
       "│ (\u001b[38;5;33mTimeDistributed\u001b[0m)               │                        │               │\n",
       "├─────────────────────────────────┼────────────────────────┼───────────────┤\n",
       "│ lambda_1 (\u001b[38;5;33mLambda\u001b[0m)               │ (\u001b[38;5;45mNone\u001b[0m, \u001b[38;5;34m3\u001b[0m, \u001b[38;5;34m2\u001b[0m)           │             \u001b[38;5;34m0\u001b[0m │\n",
       "└─────────────────────────────────┴────────────────────────┴───────────────┘\n"
      ]
     },
     "metadata": {},
     "output_type": "display_data"
    },
    {
     "data": {
      "text/html": [
       "<pre style=\"white-space:pre;overflow-x:auto;line-height:normal;font-family:Menlo,'DejaVu Sans Mono',consolas,'Courier New',monospace\"><span style=\"font-weight: bold\"> Total params: </span><span style=\"color: #00af00; text-decoration-color: #00af00\">314,934</span> (1.20 MB)\n",
       "</pre>\n"
      ],
      "text/plain": [
       "\u001b[1m Total params: \u001b[0m\u001b[38;5;34m314,934\u001b[0m (1.20 MB)\n"
      ]
     },
     "metadata": {},
     "output_type": "display_data"
    },
    {
     "data": {
      "text/html": [
       "<pre style=\"white-space:pre;overflow-x:auto;line-height:normal;font-family:Menlo,'DejaVu Sans Mono',consolas,'Courier New',monospace\"><span style=\"font-weight: bold\"> Trainable params: </span><span style=\"color: #00af00; text-decoration-color: #00af00\">314,934</span> (1.20 MB)\n",
       "</pre>\n"
      ],
      "text/plain": [
       "\u001b[1m Trainable params: \u001b[0m\u001b[38;5;34m314,934\u001b[0m (1.20 MB)\n"
      ]
     },
     "metadata": {},
     "output_type": "display_data"
    },
    {
     "data": {
      "text/html": [
       "<pre style=\"white-space:pre;overflow-x:auto;line-height:normal;font-family:Menlo,'DejaVu Sans Mono',consolas,'Courier New',monospace\"><span style=\"font-weight: bold\"> Non-trainable params: </span><span style=\"color: #00af00; text-decoration-color: #00af00\">0</span> (0.00 B)\n",
       "</pre>\n"
      ],
      "text/plain": [
       "\u001b[1m Non-trainable params: \u001b[0m\u001b[38;5;34m0\u001b[0m (0.00 B)\n"
      ]
     },
     "metadata": {},
     "output_type": "display_data"
    }
   ],
   "source": [
    "model.summary()"
   ]
  },
  {
   "cell_type": "code",
   "execution_count": 43,
   "metadata": {},
   "outputs": [
    {
     "data": {
      "text/plain": [
       "(1280, 236)"
      ]
     },
     "execution_count": 43,
     "metadata": {},
     "output_type": "execute_result"
    }
   ],
   "source": [
    "(total_data_train, total_data_test)"
   ]
  },
  {
   "cell_type": "code",
   "execution_count": 44,
   "metadata": {},
   "outputs": [
    {
     "data": {
      "text/plain": [
       "<matplotlib.image.AxesImage at 0x166df3a7190>"
      ]
     },
     "execution_count": 44,
     "metadata": {},
     "output_type": "execute_result"
    },
    {
     "data": {
      "image/png": "[encoded data removed]",
      "text/plain": [
       "<Figure size 640x480 with 1 Axes>"
      ]
     },
     "metadata": {},
     "output_type": "display_data"
    }
   ],
   "source": [
    "plt.imshow(images_train)"
   ]
  },
  {
   "cell_type": "code",
   "execution_count": 45,
   "metadata": {},
   "outputs": [],
   "source": [
    "output = model.layers[1](tf.expand_dims(images_train, axis=0))[0]"
   ]
  },
  {
   "cell_type": "code",
   "execution_count": 46,
   "metadata": {},
   "outputs": [
    {
     "data": {
      "text/plain": [
       "<matplotlib.image.AxesImage at 0x166df51d400>"
      ]
     },
     "execution_count": 46,
     "metadata": {},
     "output_type": "execute_result"
    },
    {
     "data": {
      "image/png": "[encoded data removed]",
      "text/plain": [
       "<Figure size 640x480 with 1 Axes>"
      ]
     },
     "metadata": {},
     "output_type": "display_data"
    }
   ],
   "source": [
    "plt.imshow(output[:,:, 0])"
   ]
  },
  {
   "cell_type": "code",
   "execution_count": 47,
   "metadata": {},
   "outputs": [],
   "source": [
    "dataset_train_1 = dataset_train.shuffle(shuffle_buffer)\n",
    "dataset_test_1 = dataset_test.shuffle(shuffle_buffer)\n",
    "\n",
    "dataset_train_2 = dataset_train_1.batch(batch_size)\n",
    "dataset_test_2 = dataset_test_1.batch(batch_size)\n",
    "\n",
    "transform_function = partial(get_open_close_prices_percent_of_last_days_result, days_result)\n",
    "dataset_train_3 = dataset_train_2.map(transform_function)\n",
    "dataset_test_3 = dataset_test_2.map(transform_function)"
   ]
  },
  {
   "cell_type": "code",
   "execution_count": 48,
   "metadata": {},
   "outputs": [
    {
     "data": {
      "text/plain": [
       "(20, 4)"
      ]
     },
     "execution_count": 48,
     "metadata": {},
     "output_type": "execute_result"
    }
   ],
   "source": [
    "(len(dataset_train_3), len(dataset_test_3))"
   ]
  },
  {
   "cell_type": "code",
   "execution_count": 49,
   "metadata": {},
   "outputs": [],
   "source": [
    "class StopAtLossValue(keras.callbacks.Callback):\n",
    "    def __init__(self, target_loss, metric_name):\n",
    "        super(StopAtLossValue, self).__init__()\n",
    "        self.target_loss = target_loss\n",
    "        self.metric_name = metric_name\n",
    "\n",
    "    def on_epoch_end(self, epoch, logs=None):\n",
    "        # Lấy giá trị loss từ logs\n",
    "        current_loss = logs.get(f\"val_{self.metric_name}\")\n",
    "        if current_loss is not None and current_loss <= self.target_loss:\n",
    "            print(f\"\\nĐạt target loss = {self.target_loss}, dừng training tại epoch {epoch + 1}\")\n",
    "            self.model.stop_training = True"
   ]
  },
  {
   "cell_type": "code",
   "execution_count": 50,
   "metadata": {},
   "outputs": [],
   "source": [
    "def get_optimizer(start_learning_rate, number_epochs_to_decrease_lr):\n",
    "    lr_schedule = keras.optimizers.schedules.InverseTimeDecay(\n",
    "        start_learning_rate,\n",
    "        decay_steps=STEPS_PER_EPOCH*number_epochs_to_decrease_lr,\n",
    "        decay_rate=1,\n",
    "        staircase=False\n",
    "    )\n",
    "    \n",
    "    return keras.optimizers.Adam(lr_schedule)\n",
    "\n",
    "\n",
    "def get_callbacks(name, metric_name, number_epochs_to_wait):\n",
    "    return [\n",
    "        tfdocs.modeling.EpochDots(),\n",
    "        StopAtLossValue(val_loss_metric_to_stop, metric_name),\n",
    "        keras.callbacks.EarlyStopping(monitor=f'val_{metric_name}', patience=number_epochs_to_wait),\n",
    "        keras.callbacks.TensorBoard(logdir/name)\n",
    "    ]\n",
    "  \n",
    "  \n",
    "model.compile(\n",
    "    loss=keras.losses.MeanSquaredError(),\n",
    "    optimizer=get_optimizer(start_learning_rate, number_epochs_to_decrease_lr),\n",
    "    metrics=[\n",
    "        metric_object,\n",
    "    ],\n",
    ")\n"
   ]
  },
  {
   "cell_type": "code",
   "execution_count": 51,
   "metadata": {},
   "outputs": [
    {
     "name": "stderr",
     "output_type": "stream",
     "text": [
      "d:\\code\\selenium\\.venv\\lib\\site-packages\\keras\\src\\models\\functional.py:225: UserWarning: The structure of `inputs` doesn't match the expected structure: ['keras_tensor_12']. Received: the structure of inputs=*\n",
      "  warnings.warn(\n"
     ]
    },
    {
     "name": "stdout",
     "output_type": "stream",
     "text": [
      "\u001b[1m20/21\u001b[0m \u001b[32m━━━━━━━━━━━━━━━━━━━\u001b[0m\u001b[37m━\u001b[0m \u001b[1m0s\u001b[0m 187ms/step - loss: 1.2368 - mean_absolute_error: 0.7397\n",
      "Epoch: 0, loss:1.2000,  mean_absolute_error:0.7194,  val_loss:0.7685,  val_mean_absolute_error:0.5888,  \n",
      "\u001b[1m21/21\u001b[0m \u001b[32m━━━━━━━━━━━━━━━━━━━━\u001b[0m\u001b[37m\u001b[0m \u001b[1m8s\u001b[0m 226ms/step - loss: 1.2351 - mean_absolute_error: 0.7387 - val_loss: 0.7685 - val_mean_absolute_error: 0.5888\n"
     ]
    }
   ],
   "source": [
    "is_start_train = input(\"Start train? (y/n): \").lower()[0] == \"y\"\n",
    "if is_start_train:\n",
    "    history = model.fit(\n",
    "        dataset_train_3, \n",
    "        validation_data=dataset_test_3,\n",
    "        epochs=max_epochs, \n",
    "        steps_per_epoch=STEPS_PER_EPOCH,\n",
    "        callbacks=get_callbacks(name_folder_save_metrics, metric_name, number_epochs_to_wait)\n",
    "    )"
   ]
  },
  {
   "cell_type": "code",
   "execution_count": 52,
   "metadata": {},
   "outputs": [],
   "source": [
    "def save_dataset(prefix, dataset_test, model_name):\n",
    "    prefix_of_folder = prefix\n",
    "    path_save = f\"{dataset_folder}/{prefix_of_folder}_of_{model_name}\"\n",
    "    while os.path.exists(path_save):\n",
    "        print(f\"-- {path_save} already exists\")\n",
    "        prefix_of_folder = prefix_of_folder + \"_1\"\n",
    "        path_save = f\"{dataset_folder}/{prefix_of_folder}_of_{model_name}\"\n",
    "        print(f\"-- Change to {path_save}\")\n",
    "    \n",
    "    print(f\"Save to {path_save}\")\n",
    "    tf.data.Dataset.save(dataset_test, path_save)"
   ]
  },
  {
   "cell_type": "code",
   "execution_count": 53,
   "metadata": {},
   "outputs": [],
   "source": [
    "def save_model(model: keras.Sequential, model_name):\n",
    "    path_save = f\"{dataset_folder}/model_save/{model_name}.keras\"\n",
    "    while os.path.exists(path_save):\n",
    "        print(f\"-- {path_save} already exists\")\n",
    "        model_name = model_name + \"_1\"\n",
    "        path_save = f\"{dataset_folder}/model_save/{model_name}.keras\"\n",
    "        print(f\"-- Change to {path_save}\")\n",
    "    \n",
    "    print(f\"Save to {path_save}\")\n",
    "    model.save(path_save)\n",
    "    return os.path.basename(path_save).split('.')[0]"
   ]
  },
  {
   "cell_type": "code",
   "execution_count": 54,
   "metadata": {},
   "outputs": [
    {
     "name": "stdout",
     "output_type": "stream",
     "text": [
      "-- ./dataset/vn30_dataset_0_2_3_2012_2024_test_2023_2024/model_save/split_cnn.keras already exists\n",
      "-- Change to ./dataset/vn30_dataset_0_2_3_2012_2024_test_2023_2024/model_save/split_cnn_1.keras\n",
      "Save to ./dataset/vn30_dataset_0_2_3_2012_2024_test_2023_2024/model_save/split_cnn_1.keras\n"
     ]
    }
   ],
   "source": [
    "model_name_saved = save_model(model, model_name)"
   ]
  },
  {
   "cell_type": "code",
   "execution_count": 55,
   "metadata": {},
   "outputs": [],
   "source": [
    "size_histories = {}"
   ]
  },
  {
   "cell_type": "code",
   "execution_count": 56,
   "metadata": {},
   "outputs": [],
   "source": [
    "size_histories[name_sub_folder_save_metrics] = history "
   ]
  },
  {
   "cell_type": "code",
   "execution_count": 57,
   "metadata": {},
   "outputs": [
    {
     "name": "stderr",
     "output_type": "stream",
     "text": [
      "d:\\code\\selenium\\.venv\\lib\\site-packages\\tensorflow_docs\\plots\\__init__.py:111: UserWarning: Attempting to set identical low and high xlims makes transformation singular; automatically expanding.\n",
      "  plt.xlim(\n"
     ]
    },
    {
     "data": {
      "text/plain": [
       "(0.0, 2.0)"
      ]
     },
     "execution_count": 57,
     "metadata": {},
     "output_type": "execute_result"
    },
    {
     "data": {
      "image/png": "[encoded data removed]",
      "text/plain": [
       "<Figure size 640x480 with 1 Axes>"
      ]
     },
     "metadata": {},
     "output_type": "display_data"
    }
   ],
   "source": [
    "plotter = tfdocs.plots.HistoryPlotter(metric=metric_name, smoothing_std=10)\n",
    "plotter.plot(size_histories)\n",
    "plt.ylim([0,2])"
   ]
  },
  {
   "cell_type": "code",
   "execution_count": 58,
   "metadata": {},
   "outputs": [],
   "source": [
    "train_dataset = tf.data.Dataset.load(f'{dataset_folder}/train/next_3_day_up')\n",
    "test_dataset = tf.data.Dataset.load(f'{dataset_folder}/test/next_3_day_up')"
   ]
  },
  {
   "cell_type": "code",
   "execution_count": 59,
   "metadata": {},
   "outputs": [],
   "source": [
    "for x_train, y_train, date_train in train_dataset.take(2):\n",
    "    pass\n",
    "for x_test, y_test, date_test in test_dataset.take(2):\n",
    "    pass"
   ]
  },
  {
   "cell_type": "code",
   "execution_count": 60,
   "metadata": {},
   "outputs": [
    {
     "data": {
      "text/plain": [
       "<matplotlib.image.AxesImage at 0x16769131490>"
      ]
     },
     "execution_count": 60,
     "metadata": {},
     "output_type": "execute_result"
    },
    {
     "data": {
      "image/png": "[encoded data removed]",
      "text/plain": [
       "<Figure size 640x480 with 1 Axes>"
      ]
     },
     "metadata": {},
     "output_type": "display_data"
    }
   ],
   "source": [
    "plt.imshow(x_train)"
   ]
  },
  {
   "cell_type": "code",
   "execution_count": 61,
   "metadata": {},
   "outputs": [
    {
     "data": {
      "text/plain": [
       "<tf.Tensor: shape=(6, 4), dtype=float64, numpy=\n",
       "array([[483.19, 479.93, 485.18, 478.85],\n",
       "       [488.36, 488.36, 491.01, 485.55],\n",
       "       [503.74, 495.69, 503.54, 495.45],\n",
       "       [538.98, 534.73, 508.41, 507.2 ],\n",
       "       [506.49, 500.2 , 505.9 , 494.59],\n",
       "       [503.39, 495.63, 489.05, 494.47]])>"
      ]
     },
     "execution_count": 61,
     "metadata": {},
     "output_type": "execute_result"
    }
   ],
   "source": [
    "y_train"
   ]
  },
  {
   "cell_type": "code",
   "execution_count": 62,
   "metadata": {},
   "outputs": [
    {
     "data": {
      "text/plain": [
       "<matplotlib.image.AxesImage at 0x16768115a90>"
      ]
     },
     "execution_count": 62,
     "metadata": {},
     "output_type": "execute_result"
    },
    {
     "data": {
      "image/png": "[encoded data removed]",
      "text/plain": [
       "<Figure size 640x480 with 1 Axes>"
      ]
     },
     "metadata": {},
     "output_type": "display_data"
    }
   ],
   "source": [
    "plt.imshow(x_test)"
   ]
  },
  {
   "cell_type": "code",
   "execution_count": 63,
   "metadata": {},
   "outputs": [
    {
     "data": {
      "text/plain": [
       "<tf.Tensor: shape=(6, 4), dtype=float64, numpy=\n",
       "array([[1076.22, 1060.53, 1065.22, 1060.53],\n",
       "       [1072.81, 1065.22, 1066.24, 1059.52],\n",
       "       [1077.45, 1066.24, 1069.86, 1063.68],\n",
       "       [1076.97, 1069.86, 1075.71, 1066.78],\n",
       "       [1103.73, 1075.71, 1103.73, 1075.71],\n",
       "       [1117.23, 1106.89, 1115.72, 1104.98]])>"
      ]
     },
     "execution_count": 63,
     "metadata": {},
     "output_type": "execute_result"
    }
   ],
   "source": [
    "y_test"
   ]
  },
  {
   "cell_type": "code",
   "execution_count": 64,
   "metadata": {},
   "outputs": [
    {
     "data": {
      "text/plain": [
       "'split_cnn_1'"
      ]
     },
     "execution_count": 64,
     "metadata": {},
     "output_type": "execute_result"
    }
   ],
   "source": [
    "model_name_saved"
   ]
  },
  {
   "cell_type": "code",
   "execution_count": 65,
   "metadata": {},
   "outputs": [
    {
     "data": {
      "text/plain": [
       "'./dataset/vn30_dataset_0_2_3_2012_2024_test_2023_2024'"
      ]
     },
     "execution_count": 65,
     "metadata": {},
     "output_type": "execute_result"
    }
   ],
   "source": [
    "dataset_folder"
   ]
  },
  {
   "cell_type": "code",
   "execution_count": null,
   "metadata": {},
   "outputs": [],
   "source": []
  }
 ],
 "metadata": {
  "kernelspec": {
   "display_name": ".venv",
   "language": "python",
   "name": "python3"
  },
  "language_info": {
   "codemirror_mode": {
    "name": "ipython",
    "version": 3
   },
   "file_extension": ".py",
   "mimetype": "text/x-python",
   "name": "python",
   "nbconvert_exporter": "python",
   "pygments_lexer": "ipython3",
   "version": "3.9.7"
  }
 },
 "nbformat": 4,
 "nbformat_minor": 2
}
