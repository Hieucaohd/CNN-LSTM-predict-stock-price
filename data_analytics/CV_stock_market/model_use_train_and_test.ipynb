{
 "cells": [
  {
   "cell_type": "code",
   "execution_count": 1,
   "metadata": {},
   "outputs": [],
   "source": [
    "import tensorflow as tf\n",
    "import keras\n",
    "from draw_candle_image import *\n",
    "import pandas as pd\n",
    "import numpy as np\n",
    "import matplotlib.pyplot as plt\n",
    "import ta.trend\n",
    "from ta import add_all_ta_features\n",
    "from ta.utils import dropna\n",
    "import ta\n",
    "import ta.momentum\n",
    "import json\n",
    "from common_train_utils import *\n",
    "from functools import partial\n",
    "import tensorflow_docs as tfdocs\n",
    "import tensorflow_docs.plots\n",
    "import pathlib\n",
    "import shutil\n",
    "import tempfile\n",
    "import tensorflow_docs.modeling\n",
    "from model_code import *\n",
    "import os"
   ]
  },
  {
   "cell_type": "code",
   "execution_count": 2,
   "metadata": {},
   "outputs": [],
   "source": [
    "logdir = pathlib.Path(tempfile.mkdtemp())/\"tensorboard_logs\"\n",
    "shutil.rmtree(logdir, ignore_errors=True)"
   ]
  },
  {
   "cell_type": "code",
   "execution_count": 3,
   "metadata": {},
   "outputs": [
    {
     "name": "stdout",
     "output_type": "stream",
     "text": [
      "C:\\Users\\ADMIN\\AppData\\Local\\Temp\\tmptko99y45\\tensorboard_logs\n"
     ]
    }
   ],
   "source": [
    "print(logdir)"
   ]
  },
  {
   "cell_type": "code",
   "execution_count": 4,
   "metadata": {},
   "outputs": [],
   "source": [
    "dataset_folder = \"./dataset/btc_dataset_0_2_3_2014_2024_test_2023_2024\""
   ]
  },
  {
   "cell_type": "code",
   "execution_count": 5,
   "metadata": {},
   "outputs": [],
   "source": [
    "config = read_config(dataset_folder)\n",
    "candle_type_and_directory_save: dict = config[\"candle_type_and_directory_save\"]\n",
    "previous_days = config[\"previous_days\"]\n",
    "next_days = config[\"next_days\"]\n",
    "days_result = config[\"days_result\"]"
   ]
  },
  {
   "cell_type": "code",
   "execution_count": 6,
   "metadata": {},
   "outputs": [
    {
     "name": "stdout",
     "output_type": "stream",
     "text": [
      "folder: bullish_engulfing, \t\t total: 19 images\n",
      "folder: bearish_engulfing, \t\t total: 15 images\n",
      "folder: star_doji, \t\t total: 0 images\n",
      "folder: dragonfly_doji, \t\t total: 0 images\n",
      "folder: gravestone_doji, \t\t total: 0 images\n",
      "folder: morning_star, \t\t total: 14 images\n",
      "folder: evening_star, \t\t total: 14 images\n",
      "folder: hammer, \t\t total: 0 images\n",
      "folder: inverted_hammer, \t\t total: 0 images\n",
      "folder: harami_down, \t\t total: 88 images\n",
      "folder: harami_up, \t\t total: 72 images\n",
      "folder: tweezer_top, \t\t total: 14 images\n",
      "folder: tweezer_bottom, \t\t total: 14 images\n",
      "folder: marubozu, \t\t total: 0 images\n",
      "folder: spin, \t\t total: 21 images\n",
      "folder: next_3_day_up, \t\t total: 44 images\n",
      "folder: next_3_day_down, \t\t total: 42 images\n"
     ]
    }
   ],
   "source": [
    "dataset_test = load_dataset_of_each_type_and_combine(f\"{dataset_folder}/test\", candle_type_and_directory_save)\n",
    "total_data_test = len(dataset_test)"
   ]
  },
  {
   "cell_type": "code",
   "execution_count": 7,
   "metadata": {},
   "outputs": [
    {
     "name": "stdout",
     "output_type": "stream",
     "text": [
      "folder: bullish_engulfing, \t\t total: 62 images\n",
      "folder: bearish_engulfing, \t\t total: 70 images\n",
      "folder: star_doji, \t\t total: 20 images\n",
      "folder: dragonfly_doji, \t\t total: 6 images\n",
      "folder: gravestone_doji, \t\t total: 11 images\n",
      "folder: morning_star, \t\t total: 57 images\n",
      "folder: evening_star, \t\t total: 54 images\n",
      "folder: hammer, \t\t total: 19 images\n",
      "folder: inverted_hammer, \t\t total: 6 images\n",
      "folder: harami_down, \t\t total: 368 images\n",
      "folder: harami_up, \t\t total: 328 images\n",
      "folder: tweezer_top, \t\t total: 41 images\n",
      "folder: tweezer_bottom, \t\t total: 37 images\n",
      "folder: marubozu, \t\t total: 46 images\n",
      "folder: spin, \t\t total: 88 images\n",
      "folder: next_3_day_up, \t\t total: 237 images\n",
      "folder: next_3_day_down, \t\t total: 168 images\n"
     ]
    }
   ],
   "source": [
    "dataset_train = load_dataset_of_each_type_and_combine(f\"{dataset_folder}/train\", candle_type_and_directory_save)\n",
    "total_data_train = len(dataset_train)"
   ]
  },
  {
   "cell_type": "code",
   "execution_count": 8,
   "metadata": {},
   "outputs": [],
   "source": [
    "def model_5_biLSTM(image_shape, days_result):\n",
    "    model = keras.Sequential([\n",
    "        keras.layers.Input(image_shape),\n",
    "        keras.layers.Conv2D(8, (2, 2), activation='relu'),\n",
    "        keras.layers.MaxPooling2D((2, 2), strides=(2, 2)),\n",
    "        keras.layers.Conv2D(8, (3, 3), activation='relu'),\n",
    "        keras.layers.MaxPooling2D((2, 2)),\n",
    "        keras.layers.Flatten(),\n",
    "        keras.layers.Dense(32, activation='relu'),\n",
    "        keras.layers.Dropout(0.1),  # Giảm tỷ lệ Dropout\n",
    "        keras.layers.Dense(32, activation='relu'),\n",
    "        keras.layers.Dropout(0.1),\n",
    "        keras.layers.RepeatVector(days_result),\n",
    "        keras.layers.LSTM(64, activation='tanh', return_sequences=True),\n",
    "        keras.layers.Dropout(0.1),\n",
    "        keras.layers.LSTM(64, activation='tanh', return_sequences=True),\n",
    "        keras.layers.TimeDistributed(keras.layers.Dense(2))\n",
    "    ])\n",
    "    \n",
    "    return model, \"model_5_biLSTM\""
   ]
  },
  {
   "cell_type": "code",
   "execution_count": 9,
   "metadata": {},
   "outputs": [],
   "source": [
    "for images_train, labels_train, dates_train in dataset_train.take(1):\n",
    "    break\n",
    "image_shape = tuple(images_train.shape)\n",
    "model, model_name = model_5_biLSTM(image_shape, days_result)"
   ]
  },
  {
   "cell_type": "code",
   "execution_count": 10,
   "metadata": {},
   "outputs": [],
   "source": [
    "batch_size = 64\n",
    "STEPS_PER_EPOCH = total_data_train // batch_size + 1\n",
    "name_sub_folder_save_metrics = f\"{model_name}_{dataset_folder}\"\n",
    "name_folder_save_metrics = f\"sizes/{model_name}_{dataset_folder}\"\n",
    "max_epochs = 100\n",
    "metric_name = \"mean_absolute_error\"\n",
    "metric_object = keras.metrics.MeanAbsoluteError(name=metric_name)\n",
    "val_loss_metric_to_stop = 1.3199\n",
    "start_learning_rate = 0.01\n",
    "shuffle_buffer = 300\n",
    "number_epochs_to_decrease_lr = 30\n",
    "number_epochs_to_wait = 10"
   ]
  },
  {
   "cell_type": "code",
   "execution_count": 11,
   "metadata": {},
   "outputs": [
    {
     "data": {
      "text/plain": [
       "'model_5_biLSTM'"
      ]
     },
     "execution_count": 11,
     "metadata": {},
     "output_type": "execute_result"
    }
   ],
   "source": [
    "model_name"
   ]
  },
  {
   "cell_type": "code",
   "execution_count": 12,
   "metadata": {},
   "outputs": [
    {
     "data": {
      "text/plain": [
       "26"
      ]
     },
     "execution_count": 12,
     "metadata": {},
     "output_type": "execute_result"
    }
   ],
   "source": [
    "STEPS_PER_EPOCH"
   ]
  },
  {
   "cell_type": "code",
   "execution_count": 13,
   "metadata": {},
   "outputs": [
    {
     "data": {
      "text/html": [
       "<pre style=\"white-space:pre;overflow-x:auto;line-height:normal;font-family:Menlo,'DejaVu Sans Mono',consolas,'Courier New',monospace\"><span style=\"font-weight: bold\">Model: \"sequential\"</span>\n",
       "</pre>\n"
      ],
      "text/plain": [
       "\u001b[1mModel: \"sequential\"\u001b[0m\n"
      ]
     },
     "metadata": {},
     "output_type": "display_data"
    },
    {
     "data": {
      "text/html": [
       "<pre style=\"white-space:pre;overflow-x:auto;line-height:normal;font-family:Menlo,'DejaVu Sans Mono',consolas,'Courier New',monospace\">┏━━━━━━━━━━━━━━━━━━━━━━━━━━━━━━━━━┳━━━━━━━━━━━━━━━━━━━━━━━━┳━━━━━━━━━━━━━━━┓\n",
       "┃<span style=\"font-weight: bold\"> Layer (type)                    </span>┃<span style=\"font-weight: bold\"> Output Shape           </span>┃<span style=\"font-weight: bold\">       Param # </span>┃\n",
       "┡━━━━━━━━━━━━━━━━━━━━━━━━━━━━━━━━━╇━━━━━━━━━━━━━━━━━━━━━━━━╇━━━━━━━━━━━━━━━┩\n",
       "│ conv2d (<span style=\"color: #0087ff; text-decoration-color: #0087ff\">Conv2D</span>)                 │ (<span style=\"color: #00d7ff; text-decoration-color: #00d7ff\">None</span>, <span style=\"color: #00af00; text-decoration-color: #00af00\">286</span>, <span style=\"color: #00af00; text-decoration-color: #00af00\">286</span>, <span style=\"color: #00af00; text-decoration-color: #00af00\">8</span>)    │           <span style=\"color: #00af00; text-decoration-color: #00af00\">104</span> │\n",
       "├─────────────────────────────────┼────────────────────────┼───────────────┤\n",
       "│ max_pooling2d (<span style=\"color: #0087ff; text-decoration-color: #0087ff\">MaxPooling2D</span>)    │ (<span style=\"color: #00d7ff; text-decoration-color: #00d7ff\">None</span>, <span style=\"color: #00af00; text-decoration-color: #00af00\">143</span>, <span style=\"color: #00af00; text-decoration-color: #00af00\">143</span>, <span style=\"color: #00af00; text-decoration-color: #00af00\">8</span>)    │             <span style=\"color: #00af00; text-decoration-color: #00af00\">0</span> │\n",
       "├─────────────────────────────────┼────────────────────────┼───────────────┤\n",
       "│ conv2d_1 (<span style=\"color: #0087ff; text-decoration-color: #0087ff\">Conv2D</span>)               │ (<span style=\"color: #00d7ff; text-decoration-color: #00d7ff\">None</span>, <span style=\"color: #00af00; text-decoration-color: #00af00\">141</span>, <span style=\"color: #00af00; text-decoration-color: #00af00\">141</span>, <span style=\"color: #00af00; text-decoration-color: #00af00\">8</span>)    │           <span style=\"color: #00af00; text-decoration-color: #00af00\">584</span> │\n",
       "├─────────────────────────────────┼────────────────────────┼───────────────┤\n",
       "│ max_pooling2d_1 (<span style=\"color: #0087ff; text-decoration-color: #0087ff\">MaxPooling2D</span>)  │ (<span style=\"color: #00d7ff; text-decoration-color: #00d7ff\">None</span>, <span style=\"color: #00af00; text-decoration-color: #00af00\">70</span>, <span style=\"color: #00af00; text-decoration-color: #00af00\">70</span>, <span style=\"color: #00af00; text-decoration-color: #00af00\">8</span>)      │             <span style=\"color: #00af00; text-decoration-color: #00af00\">0</span> │\n",
       "├─────────────────────────────────┼────────────────────────┼───────────────┤\n",
       "│ flatten (<span style=\"color: #0087ff; text-decoration-color: #0087ff\">Flatten</span>)               │ (<span style=\"color: #00d7ff; text-decoration-color: #00d7ff\">None</span>, <span style=\"color: #00af00; text-decoration-color: #00af00\">39200</span>)          │             <span style=\"color: #00af00; text-decoration-color: #00af00\">0</span> │\n",
       "├─────────────────────────────────┼────────────────────────┼───────────────┤\n",
       "│ dense (<span style=\"color: #0087ff; text-decoration-color: #0087ff\">Dense</span>)                   │ (<span style=\"color: #00d7ff; text-decoration-color: #00d7ff\">None</span>, <span style=\"color: #00af00; text-decoration-color: #00af00\">32</span>)             │     <span style=\"color: #00af00; text-decoration-color: #00af00\">1,254,432</span> │\n",
       "├─────────────────────────────────┼────────────────────────┼───────────────┤\n",
       "│ dropout (<span style=\"color: #0087ff; text-decoration-color: #0087ff\">Dropout</span>)               │ (<span style=\"color: #00d7ff; text-decoration-color: #00d7ff\">None</span>, <span style=\"color: #00af00; text-decoration-color: #00af00\">32</span>)             │             <span style=\"color: #00af00; text-decoration-color: #00af00\">0</span> │\n",
       "├─────────────────────────────────┼────────────────────────┼───────────────┤\n",
       "│ dense_1 (<span style=\"color: #0087ff; text-decoration-color: #0087ff\">Dense</span>)                 │ (<span style=\"color: #00d7ff; text-decoration-color: #00d7ff\">None</span>, <span style=\"color: #00af00; text-decoration-color: #00af00\">32</span>)             │         <span style=\"color: #00af00; text-decoration-color: #00af00\">1,056</span> │\n",
       "├─────────────────────────────────┼────────────────────────┼───────────────┤\n",
       "│ dropout_1 (<span style=\"color: #0087ff; text-decoration-color: #0087ff\">Dropout</span>)             │ (<span style=\"color: #00d7ff; text-decoration-color: #00d7ff\">None</span>, <span style=\"color: #00af00; text-decoration-color: #00af00\">32</span>)             │             <span style=\"color: #00af00; text-decoration-color: #00af00\">0</span> │\n",
       "├─────────────────────────────────┼────────────────────────┼───────────────┤\n",
       "│ repeat_vector (<span style=\"color: #0087ff; text-decoration-color: #0087ff\">RepeatVector</span>)    │ (<span style=\"color: #00d7ff; text-decoration-color: #00d7ff\">None</span>, <span style=\"color: #00af00; text-decoration-color: #00af00\">3</span>, <span style=\"color: #00af00; text-decoration-color: #00af00\">32</span>)          │             <span style=\"color: #00af00; text-decoration-color: #00af00\">0</span> │\n",
       "├─────────────────────────────────┼────────────────────────┼───────────────┤\n",
       "│ lstm (<span style=\"color: #0087ff; text-decoration-color: #0087ff\">LSTM</span>)                     │ (<span style=\"color: #00d7ff; text-decoration-color: #00d7ff\">None</span>, <span style=\"color: #00af00; text-decoration-color: #00af00\">3</span>, <span style=\"color: #00af00; text-decoration-color: #00af00\">64</span>)          │        <span style=\"color: #00af00; text-decoration-color: #00af00\">24,832</span> │\n",
       "├─────────────────────────────────┼────────────────────────┼───────────────┤\n",
       "│ dropout_2 (<span style=\"color: #0087ff; text-decoration-color: #0087ff\">Dropout</span>)             │ (<span style=\"color: #00d7ff; text-decoration-color: #00d7ff\">None</span>, <span style=\"color: #00af00; text-decoration-color: #00af00\">3</span>, <span style=\"color: #00af00; text-decoration-color: #00af00\">64</span>)          │             <span style=\"color: #00af00; text-decoration-color: #00af00\">0</span> │\n",
       "├─────────────────────────────────┼────────────────────────┼───────────────┤\n",
       "│ lstm_1 (<span style=\"color: #0087ff; text-decoration-color: #0087ff\">LSTM</span>)                   │ (<span style=\"color: #00d7ff; text-decoration-color: #00d7ff\">None</span>, <span style=\"color: #00af00; text-decoration-color: #00af00\">3</span>, <span style=\"color: #00af00; text-decoration-color: #00af00\">64</span>)          │        <span style=\"color: #00af00; text-decoration-color: #00af00\">33,024</span> │\n",
       "├─────────────────────────────────┼────────────────────────┼───────────────┤\n",
       "│ time_distributed                │ (<span style=\"color: #00d7ff; text-decoration-color: #00d7ff\">None</span>, <span style=\"color: #00af00; text-decoration-color: #00af00\">3</span>, <span style=\"color: #00af00; text-decoration-color: #00af00\">2</span>)           │           <span style=\"color: #00af00; text-decoration-color: #00af00\">130</span> │\n",
       "│ (<span style=\"color: #0087ff; text-decoration-color: #0087ff\">TimeDistributed</span>)               │                        │               │\n",
       "└─────────────────────────────────┴────────────────────────┴───────────────┘\n",
       "</pre>\n"
      ],
      "text/plain": [
       "┏━━━━━━━━━━━━━━━━━━━━━━━━━━━━━━━━━┳━━━━━━━━━━━━━━━━━━━━━━━━┳━━━━━━━━━━━━━━━┓\n",
       "┃\u001b[1m \u001b[0m\u001b[1mLayer (type)                   \u001b[0m\u001b[1m \u001b[0m┃\u001b[1m \u001b[0m\u001b[1mOutput Shape          \u001b[0m\u001b[1m \u001b[0m┃\u001b[1m \u001b[0m\u001b[1m      Param #\u001b[0m\u001b[1m \u001b[0m┃\n",
       "┡━━━━━━━━━━━━━━━━━━━━━━━━━━━━━━━━━╇━━━━━━━━━━━━━━━━━━━━━━━━╇━━━━━━━━━━━━━━━┩\n",
       "│ conv2d (\u001b[38;5;33mConv2D\u001b[0m)                 │ (\u001b[38;5;45mNone\u001b[0m, \u001b[38;5;34m286\u001b[0m, \u001b[38;5;34m286\u001b[0m, \u001b[38;5;34m8\u001b[0m)    │           \u001b[38;5;34m104\u001b[0m │\n",
       "├─────────────────────────────────┼────────────────────────┼───────────────┤\n",
       "│ max_pooling2d (\u001b[38;5;33mMaxPooling2D\u001b[0m)    │ (\u001b[38;5;45mNone\u001b[0m, \u001b[38;5;34m143\u001b[0m, \u001b[38;5;34m143\u001b[0m, \u001b[38;5;34m8\u001b[0m)    │             \u001b[38;5;34m0\u001b[0m │\n",
       "├─────────────────────────────────┼────────────────────────┼───────────────┤\n",
       "│ conv2d_1 (\u001b[38;5;33mConv2D\u001b[0m)               │ (\u001b[38;5;45mNone\u001b[0m, \u001b[38;5;34m141\u001b[0m, \u001b[38;5;34m141\u001b[0m, \u001b[38;5;34m8\u001b[0m)    │           \u001b[38;5;34m584\u001b[0m │\n",
       "├─────────────────────────────────┼────────────────────────┼───────────────┤\n",
       "│ max_pooling2d_1 (\u001b[38;5;33mMaxPooling2D\u001b[0m)  │ (\u001b[38;5;45mNone\u001b[0m, \u001b[38;5;34m70\u001b[0m, \u001b[38;5;34m70\u001b[0m, \u001b[38;5;34m8\u001b[0m)      │             \u001b[38;5;34m0\u001b[0m │\n",
       "├─────────────────────────────────┼────────────────────────┼───────────────┤\n",
       "│ flatten (\u001b[38;5;33mFlatten\u001b[0m)               │ (\u001b[38;5;45mNone\u001b[0m, \u001b[38;5;34m39200\u001b[0m)          │             \u001b[38;5;34m0\u001b[0m │\n",
       "├─────────────────────────────────┼────────────────────────┼───────────────┤\n",
       "│ dense (\u001b[38;5;33mDense\u001b[0m)                   │ (\u001b[38;5;45mNone\u001b[0m, \u001b[38;5;34m32\u001b[0m)             │     \u001b[38;5;34m1,254,432\u001b[0m │\n",
       "├─────────────────────────────────┼────────────────────────┼───────────────┤\n",
       "│ dropout (\u001b[38;5;33mDropout\u001b[0m)               │ (\u001b[38;5;45mNone\u001b[0m, \u001b[38;5;34m32\u001b[0m)             │             \u001b[38;5;34m0\u001b[0m │\n",
       "├─────────────────────────────────┼────────────────────────┼───────────────┤\n",
       "│ dense_1 (\u001b[38;5;33mDense\u001b[0m)                 │ (\u001b[38;5;45mNone\u001b[0m, \u001b[38;5;34m32\u001b[0m)             │         \u001b[38;5;34m1,056\u001b[0m │\n",
       "├─────────────────────────────────┼────────────────────────┼───────────────┤\n",
       "│ dropout_1 (\u001b[38;5;33mDropout\u001b[0m)             │ (\u001b[38;5;45mNone\u001b[0m, \u001b[38;5;34m32\u001b[0m)             │             \u001b[38;5;34m0\u001b[0m │\n",
       "├─────────────────────────────────┼────────────────────────┼───────────────┤\n",
       "│ repeat_vector (\u001b[38;5;33mRepeatVector\u001b[0m)    │ (\u001b[38;5;45mNone\u001b[0m, \u001b[38;5;34m3\u001b[0m, \u001b[38;5;34m32\u001b[0m)          │             \u001b[38;5;34m0\u001b[0m │\n",
       "├─────────────────────────────────┼────────────────────────┼───────────────┤\n",
       "│ lstm (\u001b[38;5;33mLSTM\u001b[0m)                     │ (\u001b[38;5;45mNone\u001b[0m, \u001b[38;5;34m3\u001b[0m, \u001b[38;5;34m64\u001b[0m)          │        \u001b[38;5;34m24,832\u001b[0m │\n",
       "├─────────────────────────────────┼────────────────────────┼───────────────┤\n",
       "│ dropout_2 (\u001b[38;5;33mDropout\u001b[0m)             │ (\u001b[38;5;45mNone\u001b[0m, \u001b[38;5;34m3\u001b[0m, \u001b[38;5;34m64\u001b[0m)          │             \u001b[38;5;34m0\u001b[0m │\n",
       "├─────────────────────────────────┼────────────────────────┼───────────────┤\n",
       "│ lstm_1 (\u001b[38;5;33mLSTM\u001b[0m)                   │ (\u001b[38;5;45mNone\u001b[0m, \u001b[38;5;34m3\u001b[0m, \u001b[38;5;34m64\u001b[0m)          │        \u001b[38;5;34m33,024\u001b[0m │\n",
       "├─────────────────────────────────┼────────────────────────┼───────────────┤\n",
       "│ time_distributed                │ (\u001b[38;5;45mNone\u001b[0m, \u001b[38;5;34m3\u001b[0m, \u001b[38;5;34m2\u001b[0m)           │           \u001b[38;5;34m130\u001b[0m │\n",
       "│ (\u001b[38;5;33mTimeDistributed\u001b[0m)               │                        │               │\n",
       "└─────────────────────────────────┴────────────────────────┴───────────────┘\n"
      ]
     },
     "metadata": {},
     "output_type": "display_data"
    },
    {
     "data": {
      "text/html": [
       "<pre style=\"white-space:pre;overflow-x:auto;line-height:normal;font-family:Menlo,'DejaVu Sans Mono',consolas,'Courier New',monospace\"><span style=\"font-weight: bold\"> Total params: </span><span style=\"color: #00af00; text-decoration-color: #00af00\">1,314,162</span> (5.01 MB)\n",
       "</pre>\n"
      ],
      "text/plain": [
       "\u001b[1m Total params: \u001b[0m\u001b[38;5;34m1,314,162\u001b[0m (5.01 MB)\n"
      ]
     },
     "metadata": {},
     "output_type": "display_data"
    },
    {
     "data": {
      "text/html": [
       "<pre style=\"white-space:pre;overflow-x:auto;line-height:normal;font-family:Menlo,'DejaVu Sans Mono',consolas,'Courier New',monospace\"><span style=\"font-weight: bold\"> Trainable params: </span><span style=\"color: #00af00; text-decoration-color: #00af00\">1,314,162</span> (5.01 MB)\n",
       "</pre>\n"
      ],
      "text/plain": [
       "\u001b[1m Trainable params: \u001b[0m\u001b[38;5;34m1,314,162\u001b[0m (5.01 MB)\n"
      ]
     },
     "metadata": {},
     "output_type": "display_data"
    },
    {
     "data": {
      "text/html": [
       "<pre style=\"white-space:pre;overflow-x:auto;line-height:normal;font-family:Menlo,'DejaVu Sans Mono',consolas,'Courier New',monospace\"><span style=\"font-weight: bold\"> Non-trainable params: </span><span style=\"color: #00af00; text-decoration-color: #00af00\">0</span> (0.00 B)\n",
       "</pre>\n"
      ],
      "text/plain": [
       "\u001b[1m Non-trainable params: \u001b[0m\u001b[38;5;34m0\u001b[0m (0.00 B)\n"
      ]
     },
     "metadata": {},
     "output_type": "display_data"
    }
   ],
   "source": [
    "model.summary()"
   ]
  },
  {
   "cell_type": "code",
   "execution_count": 14,
   "metadata": {},
   "outputs": [
    {
     "data": {
      "text/plain": [
       "(1618, 357)"
      ]
     },
     "execution_count": 14,
     "metadata": {},
     "output_type": "execute_result"
    }
   ],
   "source": [
    "(total_data_train, total_data_test)"
   ]
  },
  {
   "cell_type": "code",
   "execution_count": 15,
   "metadata": {},
   "outputs": [
    {
     "data": {
      "text/plain": [
       "<matplotlib.image.AxesImage at 0x16367bc2760>"
      ]
     },
     "execution_count": 15,
     "metadata": {},
     "output_type": "execute_result"
    },
    {
     "data": {
      "image/png": "[encoded data removed]",
      "text/plain": [
       "<Figure size 640x480 with 1 Axes>"
      ]
     },
     "metadata": {},
     "output_type": "display_data"
    }
   ],
   "source": [
    "plt.imshow(images_train)"
   ]
  },
  {
   "cell_type": "code",
   "execution_count": 16,
   "metadata": {},
   "outputs": [],
   "source": [
    "output = model.layers[1](tf.expand_dims(images_train, axis=0))[0]"
   ]
  },
  {
   "cell_type": "code",
   "execution_count": 17,
   "metadata": {},
   "outputs": [
    {
     "data": {
      "text/plain": [
       "<matplotlib.image.AxesImage at 0x1636ce6a310>"
      ]
     },
     "execution_count": 17,
     "metadata": {},
     "output_type": "execute_result"
    },
    {
     "data": {
      "image/png": "[encoded data removed]",
      "text/plain": [
       "<Figure size 640x480 with 1 Axes>"
      ]
     },
     "metadata": {},
     "output_type": "display_data"
    }
   ],
   "source": [
    "plt.imshow(output[:,:, 0])"
   ]
  },
  {
   "cell_type": "code",
   "execution_count": 18,
   "metadata": {},
   "outputs": [],
   "source": [
    "dataset_train_1 = dataset_train.shuffle(shuffle_buffer)\n",
    "dataset_test_1 = dataset_test.shuffle(shuffle_buffer)\n",
    "\n",
    "dataset_train_2 = dataset_train_1.batch(batch_size)\n",
    "dataset_test_2 = dataset_test_1.batch(batch_size)\n",
    "\n",
    "transform_function = partial(get_open_close_prices_percent_of_last_days_result, days_result)\n",
    "dataset_train_3 = dataset_train_2.map(transform_function)\n",
    "dataset_test_3 = dataset_test_2.map(transform_function)"
   ]
  },
  {
   "cell_type": "code",
   "execution_count": 19,
   "metadata": {},
   "outputs": [
    {
     "data": {
      "text/plain": [
       "(26, 6)"
      ]
     },
     "execution_count": 19,
     "metadata": {},
     "output_type": "execute_result"
    }
   ],
   "source": [
    "(len(dataset_train_3), len(dataset_test_3))"
   ]
  },
  {
   "cell_type": "code",
   "execution_count": 20,
   "metadata": {},
   "outputs": [],
   "source": [
    "class StopAtLossValue(keras.callbacks.Callback):\n",
    "    def __init__(self, target_loss, metric_name):\n",
    "        super(StopAtLossValue, self).__init__()\n",
    "        self.target_loss = target_loss\n",
    "        self.metric_name = metric_name\n",
    "\n",
    "    def on_epoch_end(self, epoch, logs=None):\n",
    "        # Lấy giá trị loss từ logs\n",
    "        current_loss = logs.get(f\"val_{self.metric_name}\")\n",
    "        if current_loss is not None and current_loss <= self.target_loss:\n",
    "            print(f\"\\nĐạt target loss = {self.target_loss}, dừng training tại epoch {epoch + 1}\")\n",
    "            self.model.stop_training = True"
   ]
  },
  {
   "cell_type": "code",
   "execution_count": 21,
   "metadata": {},
   "outputs": [],
   "source": [
    "def get_optimizer(start_learning_rate, number_epochs_to_decrease_lr):\n",
    "    lr_schedule = keras.optimizers.schedules.InverseTimeDecay(\n",
    "        start_learning_rate,\n",
    "        decay_steps=STEPS_PER_EPOCH*number_epochs_to_decrease_lr,\n",
    "        decay_rate=1,\n",
    "        staircase=False\n",
    "    )\n",
    "    \n",
    "    return keras.optimizers.Adam(lr_schedule)\n",
    "\n",
    "\n",
    "def get_callbacks(name, metric_name, number_epochs_to_wait):\n",
    "    return [\n",
    "        tfdocs.modeling.EpochDots(),\n",
    "        StopAtLossValue(val_loss_metric_to_stop, metric_name),\n",
    "        keras.callbacks.EarlyStopping(monitor=f'val_{metric_name}', patience=number_epochs_to_wait),\n",
    "        keras.callbacks.TensorBoard(logdir/name)\n",
    "    ]\n",
    "  \n",
    "  \n",
    "model.compile(\n",
    "    loss=keras.losses.MeanSquaredError(),\n",
    "    optimizer=get_optimizer(start_learning_rate, number_epochs_to_decrease_lr),\n",
    "    metrics=[\n",
    "        metric_object,\n",
    "    ],\n",
    ")\n"
   ]
  },
  {
   "cell_type": "code",
   "execution_count": 22,
   "metadata": {},
   "outputs": [
    {
     "name": "stdout",
     "output_type": "stream",
     "text": [
      "Epoch 1/100\n",
      "\u001b[1m26/26\u001b[0m \u001b[32m━━━━━━━━━━━━━━━━━━━━\u001b[0m\u001b[37m\u001b[0m \u001b[1m0s\u001b[0m 203ms/step - loss: 10.0727 - mean_absolute_error: 1.8747\n",
      "Epoch: 0, loss:10.2478,  mean_absolute_error:1.8770,  val_loss:4.3160,  val_mean_absolute_error:1.2879,  \n",
      ".\n",
      "Đạt target loss = 1.3199, dừng training tại epoch 1\n",
      "\u001b[1m26/26\u001b[0m \u001b[32m━━━━━━━━━━━━━━━━━━━━\u001b[0m\u001b[37m\u001b[0m \u001b[1m10s\u001b[0m 253ms/step - loss: 10.0792 - mean_absolute_error: 1.8748 - val_loss: 4.3160 - val_mean_absolute_error: 1.2879\n"
     ]
    }
   ],
   "source": [
    "is_start_train = input(\"Start train? (y/n): \").lower()[0] == \"y\"\n",
    "if is_start_train:\n",
    "    history = model.fit(\n",
    "        dataset_train_3, \n",
    "        validation_data=dataset_test_3,\n",
    "        epochs=max_epochs, \n",
    "        steps_per_epoch=STEPS_PER_EPOCH,\n",
    "        callbacks=get_callbacks(name_folder_save_metrics, metric_name, number_epochs_to_wait)\n",
    "    )"
   ]
  },
  {
   "cell_type": "code",
   "execution_count": 23,
   "metadata": {},
   "outputs": [],
   "source": [
    "def save_dataset(prefix, dataset_test, model_name):\n",
    "    prefix_of_folder = prefix\n",
    "    path_save = f\"{dataset_folder}/{prefix_of_folder}_of_{model_name}\"\n",
    "    while os.path.exists(path_save):\n",
    "        print(f\"-- {path_save} already exists\")\n",
    "        prefix_of_folder = prefix_of_folder + \"_1\"\n",
    "        path_save = f\"{dataset_folder}/{prefix_of_folder}_of_{model_name}\"\n",
    "        print(f\"-- Change to {path_save}\")\n",
    "    \n",
    "    print(f\"Save to {path_save}\")\n",
    "    tf.data.Dataset.save(dataset_test, path_save)"
   ]
  },
  {
   "cell_type": "code",
   "execution_count": 24,
   "metadata": {},
   "outputs": [],
   "source": [
    "def save_model(model: keras.Sequential, model_name):\n",
    "    path_save = f\"{dataset_folder}/model_save/{model_name}.keras\"\n",
    "    while os.path.exists(path_save):\n",
    "        print(f\"-- {path_save} already exists\")\n",
    "        model_name = model_name + \"_1\"\n",
    "        path_save = f\"{dataset_folder}/model_save/{model_name}.keras\"\n",
    "        print(f\"-- Change to {path_save}\")\n",
    "    \n",
    "    print(f\"Save to {path_save}\")\n",
    "    model.save(path_save)\n",
    "    return os.path.basename(path_save).split('.')[0]"
   ]
  },
  {
   "cell_type": "code",
   "execution_count": 25,
   "metadata": {},
   "outputs": [
    {
     "name": "stdout",
     "output_type": "stream",
     "text": [
      "-- ./dataset/btc_dataset_0_2_3_2014_2024_test_2023_2024/model_save/model_5_biLSTM.keras already exists\n",
      "-- Change to ./dataset/btc_dataset_0_2_3_2014_2024_test_2023_2024/model_save/model_5_biLSTM_1.keras\n",
      "-- ./dataset/btc_dataset_0_2_3_2014_2024_test_2023_2024/model_save/model_5_biLSTM_1.keras already exists\n",
      "-- Change to ./dataset/btc_dataset_0_2_3_2014_2024_test_2023_2024/model_save/model_5_biLSTM_1_1.keras\n",
      "-- ./dataset/btc_dataset_0_2_3_2014_2024_test_2023_2024/model_save/model_5_biLSTM_1_1.keras already exists\n",
      "-- Change to ./dataset/btc_dataset_0_2_3_2014_2024_test_2023_2024/model_save/model_5_biLSTM_1_1_1.keras\n",
      "Save to ./dataset/btc_dataset_0_2_3_2014_2024_test_2023_2024/model_save/model_5_biLSTM_1_1_1.keras\n"
     ]
    }
   ],
   "source": [
    "model_name_saved = save_model(model, model_name)"
   ]
  },
  {
   "cell_type": "code",
   "execution_count": 26,
   "metadata": {},
   "outputs": [],
   "source": [
    "size_histories = {}"
   ]
  },
  {
   "cell_type": "code",
   "execution_count": 27,
   "metadata": {},
   "outputs": [],
   "source": [
    "size_histories[name_sub_folder_save_metrics] = history "
   ]
  },
  {
   "cell_type": "code",
   "execution_count": 28,
   "metadata": {},
   "outputs": [
    {
     "name": "stderr",
     "output_type": "stream",
     "text": [
      "d:\\code\\selenium\\.venv\\lib\\site-packages\\tensorflow_docs\\plots\\__init__.py:111: UserWarning: Attempting to set identical low and high xlims makes transformation singular; automatically expanding.\n",
      "  plt.xlim(\n"
     ]
    },
    {
     "data": {
      "text/plain": [
       "(0.0, 2.0)"
      ]
     },
     "execution_count": 28,
     "metadata": {},
     "output_type": "execute_result"
    },
    {
     "data": {
      "image/png": "[encoded data removed]",
      "text/plain": [
       "<Figure size 640x480 with 1 Axes>"
      ]
     },
     "metadata": {},
     "output_type": "display_data"
    }
   ],
   "source": [
    "plotter = tfdocs.plots.HistoryPlotter(metric=metric_name, smoothing_std=10)\n",
    "plotter.plot(size_histories)\n",
    "plt.ylim([0,2])"
   ]
  },
  {
   "cell_type": "code",
   "execution_count": 29,
   "metadata": {},
   "outputs": [],
   "source": [
    "train_dataset = tf.data.Dataset.load(f'{dataset_folder}/train/next_3_day_up')\n",
    "test_dataset = tf.data.Dataset.load(f'{dataset_folder}/test/next_3_day_up')"
   ]
  },
  {
   "cell_type": "code",
   "execution_count": 30,
   "metadata": {},
   "outputs": [],
   "source": [
    "for x_train, y_train, date_train in train_dataset.take(2):\n",
    "    pass\n",
    "for x_test, y_test, date_test in test_dataset.take(2):\n",
    "    pass"
   ]
  },
  {
   "cell_type": "code",
   "execution_count": 31,
   "metadata": {},
   "outputs": [
    {
     "data": {
      "text/plain": [
       "<matplotlib.image.AxesImage at 0x16373544b80>"
      ]
     },
     "execution_count": 31,
     "metadata": {},
     "output_type": "execute_result"
    },
    {
     "data": {
      "image/png": "[encoded data removed]",
      "text/plain": [
       "<Figure size 640x480 with 1 Axes>"
      ]
     },
     "metadata": {},
     "output_type": "display_data"
    }
   ],
   "source": [
    "plt.imshow(x_train)"
   ]
  },
  {
   "cell_type": "code",
   "execution_count": 32,
   "metadata": {},
   "outputs": [
    {
     "data": {
      "text/plain": [
       "<tf.Tensor: shape=(6, 4), dtype=float64, numpy=\n",
       "array([[367.19100952, 361.36199951, 362.29901123, 355.95098877],\n",
       "       [379.43301392, 362.60598755, 378.54901123, 356.14401245],\n",
       "       [397.22601318, 377.92098999, 390.41400146, 368.89700317],\n",
       "       [411.69799805, 391.69198608, 400.86999512, 391.32400513],\n",
       "       [402.22698975, 400.95498657, 394.77301025, 388.76599121],\n",
       "       [398.80700684, 394.51800537, 382.55599976, 373.07000732]])>"
      ]
     },
     "execution_count": 32,
     "metadata": {},
     "output_type": "execute_result"
    }
   ],
   "source": [
    "y_train"
   ]
  },
  {
   "cell_type": "code",
   "execution_count": 33,
   "metadata": {},
   "outputs": [
    {
     "data": {
      "text/plain": [
       "<matplotlib.image.AxesImage at 0x16373566f10>"
      ]
     },
     "execution_count": 33,
     "metadata": {},
     "output_type": "execute_result"
    },
    {
     "data": {
      "image/png": "[encoded data removed]",
      "text/plain": [
       "<Figure size 640x480 with 1 Axes>"
      ]
     },
     "metadata": {},
     "output_type": "display_data"
    }
   ],
   "source": [
    "plt.imshow(x_test)"
   ]
  },
  {
   "cell_type": "code",
   "execution_count": 34,
   "metadata": {},
   "outputs": [
    {
     "data": {
      "text/plain": [
       "<tf.Tensor: shape=(6, 4), dtype=float64, numpy=\n",
       "array([[17389.95703125, 17093.9921875 , 17196.5546875 , 17093.9921875 ],\n",
       "       [17484.72070312, 17192.94921875, 17446.29296875, 17162.99023438],\n",
       "       [17934.89648438, 17446.359375  , 17934.89648438, 17337.99414062],\n",
       "       [19030.08789062, 18117.59375   , 18869.58789062, 17995.203125  ],\n",
       "       [19964.32226562, 18868.90625   , 19909.57421875, 18753.1640625 ],\n",
       "       [21075.14257812, 19910.53710938, 20976.29882812, 19907.828125  ]])>"
      ]
     },
     "execution_count": 34,
     "metadata": {},
     "output_type": "execute_result"
    }
   ],
   "source": [
    "y_test"
   ]
  },
  {
   "cell_type": "code",
   "execution_count": 35,
   "metadata": {},
   "outputs": [
    {
     "data": {
      "text/plain": [
       "'model_5_biLSTM_1_1_1'"
      ]
     },
     "execution_count": 35,
     "metadata": {},
     "output_type": "execute_result"
    }
   ],
   "source": [
    "model_name_saved"
   ]
  },
  {
   "cell_type": "code",
   "execution_count": 36,
   "metadata": {},
   "outputs": [
    {
     "data": {
      "text/plain": [
       "'./dataset/btc_dataset_0_2_3_2014_2024_test_2023_2024'"
      ]
     },
     "execution_count": 36,
     "metadata": {},
     "output_type": "execute_result"
    }
   ],
   "source": [
    "dataset_folder"
   ]
  },
  {
   "cell_type": "code",
   "execution_count": null,
   "metadata": {},
   "outputs": [],
   "source": []
  }
 ],
 "metadata": {
  "kernelspec": {
   "display_name": ".venv",
   "language": "python",
   "name": "python3"
  },
  "language_info": {
   "codemirror_mode": {
    "name": "ipython",
    "version": 3
   },
   "file_extension": ".py",
   "mimetype": "text/x-python",
   "name": "python",
   "nbconvert_exporter": "python",
   "pygments_lexer": "ipython3",
   "version": "3.9.7"
  }
 },
 "nbformat": 4,
 "nbformat_minor": 2
}
