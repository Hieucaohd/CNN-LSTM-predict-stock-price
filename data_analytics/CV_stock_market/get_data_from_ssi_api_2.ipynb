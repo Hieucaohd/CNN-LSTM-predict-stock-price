{
 "cells": [
  {
   "cell_type": "code",
   "execution_count": 1,
   "metadata": {},
   "outputs": [],
   "source": [
    "import requests\n",
    "import pandas as pd\n",
    "import numpy as np\n",
    "from datetime import datetime"
   ]
  },
  {
   "cell_type": "code",
   "execution_count": 2,
   "metadata": {},
   "outputs": [],
   "source": [
    "symbol = 'VNINDEX'"
   ]
  },
  {
   "cell_type": "code",
   "execution_count": 3,
   "metadata": {},
   "outputs": [],
   "source": [
    "query_string = {\n",
    "    'symbol': symbol, \n",
    "}"
   ]
  },
  {
   "cell_type": "code",
   "execution_count": 4,
   "metadata": {},
   "outputs": [],
   "source": [
    "query_string[\"resolution\"] = \"1D\"\n",
    "query_string[\"from\"] = str(datetime(2000, 1, 1).timestamp())\n",
    "query_string[\"to\"] = str(datetime.now().timestamp())"
   ]
  },
  {
   "cell_type": "code",
   "execution_count": 5,
   "metadata": {},
   "outputs": [
    {
     "data": {
      "text/plain": [
       "{'symbol': 'VNINDEX',\n",
       " 'resolution': '1D',\n",
       " 'from': '946659600.0',\n",
       " 'to': '1731586689.714374'}"
      ]
     },
     "execution_count": 5,
     "metadata": {},
     "output_type": "execute_result"
    }
   ],
   "source": [
    "query_string"
   ]
  },
  {
   "cell_type": "code",
   "execution_count": 6,
   "metadata": {},
   "outputs": [],
   "source": [
    "headers = {'accept': 'application/json, text/plain, */*',\n",
    "           'accept-encoding': 'gzip, deflate, br, zstd',\n",
    "           'accept-language': 'en-US,en;q=0.9',\n",
    "           'origin': 'https://iboard.ssi.com.vn',\n",
    "           'priority': 'u=1, i',\n",
    "           'referer': 'https://iboard.ssi.com.vn/',\n",
    "           'sec-ch-ua': '\"Not/A)Brand\";v=\"8\", \"Chromium\";v=\"126\", \"Microsoft Edge\";v=\"126\"',\n",
    "           'sec-ch-ua-mobile': '?0',\n",
    "           'sec-ch-ua-platform': '\"Windows\"',\n",
    "           'sec-fetch-dest': 'empty',\n",
    "           'sec-fetch-mode': 'cors',\n",
    "           'sec-fetch-site': 'same-site',\n",
    "           'user-agent': 'Mozilla/5.0 (Windows NT 10.0; Win64; x64) AppleWebKit/537.36 (KHTML, like Gecko) Chrome/126.0.0.0 Safari/537.36 Edg/126.0.0.0'}"
   ]
  },
  {
   "cell_type": "code",
   "execution_count": 7,
   "metadata": {},
   "outputs": [],
   "source": [
    "url_without_params = 'https://iboard-api.ssi.com.vn/statistics/charts/history'"
   ]
  },
  {
   "cell_type": "code",
   "execution_count": 8,
   "metadata": {},
   "outputs": [],
   "source": [
    "response = requests.get(\n",
    "    url=url_without_params,\n",
    "    headers=headers,\n",
    "    params=query_string\n",
    ")"
   ]
  },
  {
   "cell_type": "code",
   "execution_count": 9,
   "metadata": {},
   "outputs": [
    {
     "data": {
      "text/plain": [
       "200"
      ]
     },
     "execution_count": 9,
     "metadata": {},
     "output_type": "execute_result"
    }
   ],
   "source": [
    "response.status_code"
   ]
  },
  {
   "cell_type": "code",
   "execution_count": 10,
   "metadata": {},
   "outputs": [],
   "source": [
    "df = pd.DataFrame(response.json()[\"data\"])"
   ]
  },
  {
   "cell_type": "code",
   "execution_count": 11,
   "metadata": {},
   "outputs": [
    {
     "data": {
      "text/html": [
       "<div>\n",
       "<style scoped>\n",
       "    .dataframe tbody tr th:only-of-type {\n",
       "        vertical-align: middle;\n",
       "    }\n",
       "\n",
       "    .dataframe tbody tr th {\n",
       "        vertical-align: top;\n",
       "    }\n",
       "\n",
       "    .dataframe thead th {\n",
       "        text-align: right;\n",
       "    }\n",
       "</style>\n",
       "<table border=\"1\" class=\"dataframe\">\n",
       "  <thead>\n",
       "    <tr style=\"text-align: right;\">\n",
       "      <th></th>\n",
       "      <th>t</th>\n",
       "      <th>c</th>\n",
       "      <th>o</th>\n",
       "      <th>h</th>\n",
       "      <th>l</th>\n",
       "      <th>v</th>\n",
       "      <th>s</th>\n",
       "    </tr>\n",
       "  </thead>\n",
       "  <tbody>\n",
       "    <tr>\n",
       "      <th>0</th>\n",
       "      <td>964742400</td>\n",
       "      <td>100.00</td>\n",
       "      <td>100.00</td>\n",
       "      <td>100.00</td>\n",
       "      <td>100.00</td>\n",
       "      <td>4200</td>\n",
       "      <td>ok</td>\n",
       "    </tr>\n",
       "    <tr>\n",
       "      <th>1</th>\n",
       "      <td>965001600</td>\n",
       "      <td>101.55</td>\n",
       "      <td>101.55</td>\n",
       "      <td>101.55</td>\n",
       "      <td>101.55</td>\n",
       "      <td>10300</td>\n",
       "      <td>ok</td>\n",
       "    </tr>\n",
       "    <tr>\n",
       "      <th>2</th>\n",
       "      <td>965174400</td>\n",
       "      <td>103.38</td>\n",
       "      <td>103.38</td>\n",
       "      <td>103.38</td>\n",
       "      <td>103.38</td>\n",
       "      <td>300</td>\n",
       "      <td>ok</td>\n",
       "    </tr>\n",
       "    <tr>\n",
       "      <th>3</th>\n",
       "      <td>965347200</td>\n",
       "      <td>105.20</td>\n",
       "      <td>105.20</td>\n",
       "      <td>105.20</td>\n",
       "      <td>105.20</td>\n",
       "      <td>3800</td>\n",
       "      <td>ok</td>\n",
       "    </tr>\n",
       "    <tr>\n",
       "      <th>4</th>\n",
       "      <td>965606400</td>\n",
       "      <td>106.92</td>\n",
       "      <td>106.92</td>\n",
       "      <td>106.92</td>\n",
       "      <td>106.92</td>\n",
       "      <td>13200</td>\n",
       "      <td>ok</td>\n",
       "    </tr>\n",
       "    <tr>\n",
       "      <th>...</th>\n",
       "      <td>...</td>\n",
       "      <td>...</td>\n",
       "      <td>...</td>\n",
       "      <td>...</td>\n",
       "      <td>...</td>\n",
       "      <td>...</td>\n",
       "      <td>...</td>\n",
       "    </tr>\n",
       "    <tr>\n",
       "      <th>5902</th>\n",
       "      <td>1731024000</td>\n",
       "      <td>1252.56</td>\n",
       "      <td>1262.84</td>\n",
       "      <td>1264.09</td>\n",
       "      <td>1250.77</td>\n",
       "      <td>503244952</td>\n",
       "      <td>ok</td>\n",
       "    </tr>\n",
       "    <tr>\n",
       "      <th>5903</th>\n",
       "      <td>1731283200</td>\n",
       "      <td>1250.32</td>\n",
       "      <td>1253.81</td>\n",
       "      <td>1253.87</td>\n",
       "      <td>1241.29</td>\n",
       "      <td>712083666</td>\n",
       "      <td>ok</td>\n",
       "    </tr>\n",
       "    <tr>\n",
       "      <th>5904</th>\n",
       "      <td>1731369600</td>\n",
       "      <td>1244.82</td>\n",
       "      <td>1251.79</td>\n",
       "      <td>1257.02</td>\n",
       "      <td>1242.91</td>\n",
       "      <td>516346103</td>\n",
       "      <td>ok</td>\n",
       "    </tr>\n",
       "    <tr>\n",
       "      <th>5905</th>\n",
       "      <td>1731456000</td>\n",
       "      <td>1246.04</td>\n",
       "      <td>1242.94</td>\n",
       "      <td>1247.04</td>\n",
       "      <td>1234.62</td>\n",
       "      <td>587703568</td>\n",
       "      <td>ok</td>\n",
       "    </tr>\n",
       "    <tr>\n",
       "      <th>5906</th>\n",
       "      <td>1731542400</td>\n",
       "      <td>1231.89</td>\n",
       "      <td>1243.85</td>\n",
       "      <td>1247.07</td>\n",
       "      <td>1231.69</td>\n",
       "      <td>555483270</td>\n",
       "      <td>ok</td>\n",
       "    </tr>\n",
       "  </tbody>\n",
       "</table>\n",
       "<p>5907 rows × 7 columns</p>\n",
       "</div>"
      ],
      "text/plain": [
       "               t        c        o        h        l          v   s\n",
       "0      964742400   100.00   100.00   100.00   100.00       4200  ok\n",
       "1      965001600   101.55   101.55   101.55   101.55      10300  ok\n",
       "2      965174400   103.38   103.38   103.38   103.38        300  ok\n",
       "3      965347200   105.20   105.20   105.20   105.20       3800  ok\n",
       "4      965606400   106.92   106.92   106.92   106.92      13200  ok\n",
       "...          ...      ...      ...      ...      ...        ...  ..\n",
       "5902  1731024000  1252.56  1262.84  1264.09  1250.77  503244952  ok\n",
       "5903  1731283200  1250.32  1253.81  1253.87  1241.29  712083666  ok\n",
       "5904  1731369600  1244.82  1251.79  1257.02  1242.91  516346103  ok\n",
       "5905  1731456000  1246.04  1242.94  1247.04  1234.62  587703568  ok\n",
       "5906  1731542400  1231.89  1243.85  1247.07  1231.69  555483270  ok\n",
       "\n",
       "[5907 rows x 7 columns]"
      ]
     },
     "execution_count": 11,
     "metadata": {},
     "output_type": "execute_result"
    }
   ],
   "source": [
    "df"
   ]
  },
  {
   "cell_type": "code",
   "execution_count": 12,
   "metadata": {},
   "outputs": [],
   "source": [
    "df['t'] = pd.to_datetime(df['t'], unit='s').dt.strftime('%Y%m%d')\n",
    "# df['t'] = pd.to_datetime(df['t'])"
   ]
  },
  {
   "cell_type": "code",
   "execution_count": 13,
   "metadata": {},
   "outputs": [
    {
     "data": {
      "text/html": [
       "<div>\n",
       "<style scoped>\n",
       "    .dataframe tbody tr th:only-of-type {\n",
       "        vertical-align: middle;\n",
       "    }\n",
       "\n",
       "    .dataframe tbody tr th {\n",
       "        vertical-align: top;\n",
       "    }\n",
       "\n",
       "    .dataframe thead th {\n",
       "        text-align: right;\n",
       "    }\n",
       "</style>\n",
       "<table border=\"1\" class=\"dataframe\">\n",
       "  <thead>\n",
       "    <tr style=\"text-align: right;\">\n",
       "      <th></th>\n",
       "      <th>t</th>\n",
       "      <th>c</th>\n",
       "      <th>o</th>\n",
       "      <th>h</th>\n",
       "      <th>l</th>\n",
       "      <th>v</th>\n",
       "      <th>s</th>\n",
       "    </tr>\n",
       "  </thead>\n",
       "  <tbody>\n",
       "    <tr>\n",
       "      <th>0</th>\n",
       "      <td>20000728</td>\n",
       "      <td>100.00</td>\n",
       "      <td>100.00</td>\n",
       "      <td>100.00</td>\n",
       "      <td>100.00</td>\n",
       "      <td>4200</td>\n",
       "      <td>ok</td>\n",
       "    </tr>\n",
       "    <tr>\n",
       "      <th>1</th>\n",
       "      <td>20000731</td>\n",
       "      <td>101.55</td>\n",
       "      <td>101.55</td>\n",
       "      <td>101.55</td>\n",
       "      <td>101.55</td>\n",
       "      <td>10300</td>\n",
       "      <td>ok</td>\n",
       "    </tr>\n",
       "    <tr>\n",
       "      <th>2</th>\n",
       "      <td>20000802</td>\n",
       "      <td>103.38</td>\n",
       "      <td>103.38</td>\n",
       "      <td>103.38</td>\n",
       "      <td>103.38</td>\n",
       "      <td>300</td>\n",
       "      <td>ok</td>\n",
       "    </tr>\n",
       "    <tr>\n",
       "      <th>3</th>\n",
       "      <td>20000804</td>\n",
       "      <td>105.20</td>\n",
       "      <td>105.20</td>\n",
       "      <td>105.20</td>\n",
       "      <td>105.20</td>\n",
       "      <td>3800</td>\n",
       "      <td>ok</td>\n",
       "    </tr>\n",
       "    <tr>\n",
       "      <th>4</th>\n",
       "      <td>20000807</td>\n",
       "      <td>106.92</td>\n",
       "      <td>106.92</td>\n",
       "      <td>106.92</td>\n",
       "      <td>106.92</td>\n",
       "      <td>13200</td>\n",
       "      <td>ok</td>\n",
       "    </tr>\n",
       "    <tr>\n",
       "      <th>...</th>\n",
       "      <td>...</td>\n",
       "      <td>...</td>\n",
       "      <td>...</td>\n",
       "      <td>...</td>\n",
       "      <td>...</td>\n",
       "      <td>...</td>\n",
       "      <td>...</td>\n",
       "    </tr>\n",
       "    <tr>\n",
       "      <th>5902</th>\n",
       "      <td>20241108</td>\n",
       "      <td>1252.56</td>\n",
       "      <td>1262.84</td>\n",
       "      <td>1264.09</td>\n",
       "      <td>1250.77</td>\n",
       "      <td>503244952</td>\n",
       "      <td>ok</td>\n",
       "    </tr>\n",
       "    <tr>\n",
       "      <th>5903</th>\n",
       "      <td>20241111</td>\n",
       "      <td>1250.32</td>\n",
       "      <td>1253.81</td>\n",
       "      <td>1253.87</td>\n",
       "      <td>1241.29</td>\n",
       "      <td>712083666</td>\n",
       "      <td>ok</td>\n",
       "    </tr>\n",
       "    <tr>\n",
       "      <th>5904</th>\n",
       "      <td>20241112</td>\n",
       "      <td>1244.82</td>\n",
       "      <td>1251.79</td>\n",
       "      <td>1257.02</td>\n",
       "      <td>1242.91</td>\n",
       "      <td>516346103</td>\n",
       "      <td>ok</td>\n",
       "    </tr>\n",
       "    <tr>\n",
       "      <th>5905</th>\n",
       "      <td>20241113</td>\n",
       "      <td>1246.04</td>\n",
       "      <td>1242.94</td>\n",
       "      <td>1247.04</td>\n",
       "      <td>1234.62</td>\n",
       "      <td>587703568</td>\n",
       "      <td>ok</td>\n",
       "    </tr>\n",
       "    <tr>\n",
       "      <th>5906</th>\n",
       "      <td>20241114</td>\n",
       "      <td>1231.89</td>\n",
       "      <td>1243.85</td>\n",
       "      <td>1247.07</td>\n",
       "      <td>1231.69</td>\n",
       "      <td>555483270</td>\n",
       "      <td>ok</td>\n",
       "    </tr>\n",
       "  </tbody>\n",
       "</table>\n",
       "<p>5907 rows × 7 columns</p>\n",
       "</div>"
      ],
      "text/plain": [
       "             t        c        o        h        l          v   s\n",
       "0     20000728   100.00   100.00   100.00   100.00       4200  ok\n",
       "1     20000731   101.55   101.55   101.55   101.55      10300  ok\n",
       "2     20000802   103.38   103.38   103.38   103.38        300  ok\n",
       "3     20000804   105.20   105.20   105.20   105.20       3800  ok\n",
       "4     20000807   106.92   106.92   106.92   106.92      13200  ok\n",
       "...        ...      ...      ...      ...      ...        ...  ..\n",
       "5902  20241108  1252.56  1262.84  1264.09  1250.77  503244952  ok\n",
       "5903  20241111  1250.32  1253.81  1253.87  1241.29  712083666  ok\n",
       "5904  20241112  1244.82  1251.79  1257.02  1242.91  516346103  ok\n",
       "5905  20241113  1246.04  1242.94  1247.04  1234.62  587703568  ok\n",
       "5906  20241114  1231.89  1243.85  1247.07  1231.69  555483270  ok\n",
       "\n",
       "[5907 rows x 7 columns]"
      ]
     },
     "execution_count": 13,
     "metadata": {},
     "output_type": "execute_result"
    }
   ],
   "source": [
    "df"
   ]
  },
  {
   "cell_type": "code",
   "execution_count": 14,
   "metadata": {},
   "outputs": [],
   "source": [
    "df.rename(\n",
    "    columns={\n",
    "        \"t\": \"trade_date\",\n",
    "        \"c\": \"close\",\n",
    "        \"o\": \"open\",\n",
    "        \"h\": \"high\",\n",
    "        \"l\": \"low\",\n",
    "        \"v\": \"volume\"\n",
    "    },\n",
    "    inplace=True\n",
    ")\n",
    "df.drop(columns=[\"s\"], inplace=True)"
   ]
  },
  {
   "cell_type": "code",
   "execution_count": 15,
   "metadata": {},
   "outputs": [
    {
     "data": {
      "text/html": [
       "<div>\n",
       "<style scoped>\n",
       "    .dataframe tbody tr th:only-of-type {\n",
       "        vertical-align: middle;\n",
       "    }\n",
       "\n",
       "    .dataframe tbody tr th {\n",
       "        vertical-align: top;\n",
       "    }\n",
       "\n",
       "    .dataframe thead th {\n",
       "        text-align: right;\n",
       "    }\n",
       "</style>\n",
       "<table border=\"1\" class=\"dataframe\">\n",
       "  <thead>\n",
       "    <tr style=\"text-align: right;\">\n",
       "      <th></th>\n",
       "      <th>trade_date</th>\n",
       "      <th>close</th>\n",
       "      <th>open</th>\n",
       "      <th>high</th>\n",
       "      <th>low</th>\n",
       "      <th>volume</th>\n",
       "    </tr>\n",
       "  </thead>\n",
       "  <tbody>\n",
       "    <tr>\n",
       "      <th>0</th>\n",
       "      <td>20000728</td>\n",
       "      <td>100.00</td>\n",
       "      <td>100.00</td>\n",
       "      <td>100.00</td>\n",
       "      <td>100.00</td>\n",
       "      <td>4200</td>\n",
       "    </tr>\n",
       "    <tr>\n",
       "      <th>1</th>\n",
       "      <td>20000731</td>\n",
       "      <td>101.55</td>\n",
       "      <td>101.55</td>\n",
       "      <td>101.55</td>\n",
       "      <td>101.55</td>\n",
       "      <td>10300</td>\n",
       "    </tr>\n",
       "    <tr>\n",
       "      <th>2</th>\n",
       "      <td>20000802</td>\n",
       "      <td>103.38</td>\n",
       "      <td>103.38</td>\n",
       "      <td>103.38</td>\n",
       "      <td>103.38</td>\n",
       "      <td>300</td>\n",
       "    </tr>\n",
       "    <tr>\n",
       "      <th>3</th>\n",
       "      <td>20000804</td>\n",
       "      <td>105.20</td>\n",
       "      <td>105.20</td>\n",
       "      <td>105.20</td>\n",
       "      <td>105.20</td>\n",
       "      <td>3800</td>\n",
       "    </tr>\n",
       "    <tr>\n",
       "      <th>4</th>\n",
       "      <td>20000807</td>\n",
       "      <td>106.92</td>\n",
       "      <td>106.92</td>\n",
       "      <td>106.92</td>\n",
       "      <td>106.92</td>\n",
       "      <td>13200</td>\n",
       "    </tr>\n",
       "    <tr>\n",
       "      <th>...</th>\n",
       "      <td>...</td>\n",
       "      <td>...</td>\n",
       "      <td>...</td>\n",
       "      <td>...</td>\n",
       "      <td>...</td>\n",
       "      <td>...</td>\n",
       "    </tr>\n",
       "    <tr>\n",
       "      <th>5902</th>\n",
       "      <td>20241108</td>\n",
       "      <td>1252.56</td>\n",
       "      <td>1262.84</td>\n",
       "      <td>1264.09</td>\n",
       "      <td>1250.77</td>\n",
       "      <td>503244952</td>\n",
       "    </tr>\n",
       "    <tr>\n",
       "      <th>5903</th>\n",
       "      <td>20241111</td>\n",
       "      <td>1250.32</td>\n",
       "      <td>1253.81</td>\n",
       "      <td>1253.87</td>\n",
       "      <td>1241.29</td>\n",
       "      <td>712083666</td>\n",
       "    </tr>\n",
       "    <tr>\n",
       "      <th>5904</th>\n",
       "      <td>20241112</td>\n",
       "      <td>1244.82</td>\n",
       "      <td>1251.79</td>\n",
       "      <td>1257.02</td>\n",
       "      <td>1242.91</td>\n",
       "      <td>516346103</td>\n",
       "    </tr>\n",
       "    <tr>\n",
       "      <th>5905</th>\n",
       "      <td>20241113</td>\n",
       "      <td>1246.04</td>\n",
       "      <td>1242.94</td>\n",
       "      <td>1247.04</td>\n",
       "      <td>1234.62</td>\n",
       "      <td>587703568</td>\n",
       "    </tr>\n",
       "    <tr>\n",
       "      <th>5906</th>\n",
       "      <td>20241114</td>\n",
       "      <td>1231.89</td>\n",
       "      <td>1243.85</td>\n",
       "      <td>1247.07</td>\n",
       "      <td>1231.69</td>\n",
       "      <td>555483270</td>\n",
       "    </tr>\n",
       "  </tbody>\n",
       "</table>\n",
       "<p>5907 rows × 6 columns</p>\n",
       "</div>"
      ],
      "text/plain": [
       "     trade_date    close     open     high      low     volume\n",
       "0      20000728   100.00   100.00   100.00   100.00       4200\n",
       "1      20000731   101.55   101.55   101.55   101.55      10300\n",
       "2      20000802   103.38   103.38   103.38   103.38        300\n",
       "3      20000804   105.20   105.20   105.20   105.20       3800\n",
       "4      20000807   106.92   106.92   106.92   106.92      13200\n",
       "...         ...      ...      ...      ...      ...        ...\n",
       "5902   20241108  1252.56  1262.84  1264.09  1250.77  503244952\n",
       "5903   20241111  1250.32  1253.81  1253.87  1241.29  712083666\n",
       "5904   20241112  1244.82  1251.79  1257.02  1242.91  516346103\n",
       "5905   20241113  1246.04  1242.94  1247.04  1234.62  587703568\n",
       "5906   20241114  1231.89  1243.85  1247.07  1231.69  555483270\n",
       "\n",
       "[5907 rows x 6 columns]"
      ]
     },
     "execution_count": 15,
     "metadata": {},
     "output_type": "execute_result"
    }
   ],
   "source": [
    "df"
   ]
  },
  {
   "cell_type": "code",
   "execution_count": 16,
   "metadata": {},
   "outputs": [
    {
     "data": {
      "text/plain": [
       "'20000728'"
      ]
     },
     "execution_count": 16,
     "metadata": {},
     "output_type": "execute_result"
    }
   ],
   "source": [
    "df[\"trade_date\"].min()"
   ]
  },
  {
   "cell_type": "code",
   "execution_count": 17,
   "metadata": {},
   "outputs": [
    {
     "data": {
      "text/plain": [
       "'20241114'"
      ]
     },
     "execution_count": 17,
     "metadata": {},
     "output_type": "execute_result"
    }
   ],
   "source": [
    "df[\"trade_date\"].max()"
   ]
  },
  {
   "cell_type": "code",
   "execution_count": 18,
   "metadata": {},
   "outputs": [],
   "source": [
    "symbol = symbol.replace(\".\", \"_\").lower()"
   ]
  },
  {
   "cell_type": "code",
   "execution_count": 19,
   "metadata": {},
   "outputs": [],
   "source": [
    "# min_date = df[\"trade_date\"].min().date()\n",
    "# max_date = df[\"trade_date\"].max().date()\n",
    "file_name = f\"./data/{symbol}-2000-07-28-to-2024-11-14.csv\""
   ]
  },
  {
   "cell_type": "code",
   "execution_count": 20,
   "metadata": {},
   "outputs": [],
   "source": [
    "file_name = file_name.replace(\"-\", \"_\")"
   ]
  },
  {
   "cell_type": "code",
   "execution_count": 21,
   "metadata": {},
   "outputs": [
    {
     "data": {
      "text/plain": [
       "'./data/vnindex_2000_07_28_to_2024_11_14.csv'"
      ]
     },
     "execution_count": 21,
     "metadata": {},
     "output_type": "execute_result"
    }
   ],
   "source": [
    "file_name"
   ]
  },
  {
   "cell_type": "code",
   "execution_count": 22,
   "metadata": {},
   "outputs": [],
   "source": [
    "df.to_csv(file_name, index=False)"
   ]
  }
 ],
 "metadata": {
  "kernelspec": {
   "display_name": ".venv",
   "language": "python",
   "name": "python3"
  },
  "language_info": {
   "codemirror_mode": {
    "name": "ipython",
    "version": 3
   },
   "file_extension": ".py",
   "mimetype": "text/x-python",
   "name": "python",
   "nbconvert_exporter": "python",
   "pygments_lexer": "ipython3",
   "version": "3.9.7"
  }
 },
 "nbformat": 4,
 "nbformat_minor": 2
}
