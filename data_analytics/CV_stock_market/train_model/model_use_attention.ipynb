{
 "cells": [
  {
   "cell_type": "code",
   "execution_count": 1,
   "metadata": {},
   "outputs": [],
   "source": [
    "import sys\n",
    "sys.path.append(\"../\")"
   ]
  },
  {
   "cell_type": "code",
   "execution_count": 2,
   "metadata": {},
   "outputs": [
    {
     "name": "stderr",
     "output_type": "stream",
     "text": [
      "2024-12-12 04:46:35.885706: I tensorflow/core/util/port.cc:153] oneDNN custom operations are on. You may see slightly different numerical results due to floating-point round-off errors from different computation orders. To turn them off, set the environment variable `TF_ENABLE_ONEDNN_OPTS=0`.\n",
      "2024-12-12 04:46:35.922303: E external/local_xla/xla/stream_executor/cuda/cuda_fft.cc:485] Unable to register cuFFT factory: Attempting to register factory for plugin cuFFT when one has already been registered\n",
      "2024-12-12 04:46:35.940184: E external/local_xla/xla/stream_executor/cuda/cuda_dnn.cc:8454] Unable to register cuDNN factory: Attempting to register factory for plugin cuDNN when one has already been registered\n",
      "2024-12-12 04:46:35.946050: E external/local_xla/xla/stream_executor/cuda/cuda_blas.cc:1452] Unable to register cuBLAS factory: Attempting to register factory for plugin cuBLAS when one has already been registered\n",
      "2024-12-12 04:46:35.968872: I tensorflow/core/platform/cpu_feature_guard.cc:210] This TensorFlow binary is optimized to use available CPU instructions in performance-critical operations.\n",
      "To enable the following instructions: AVX2 AVX_VNNI FMA, in other operations, rebuild TensorFlow with the appropriate compiler flags.\n",
      "2024-12-12 04:46:37.203043: W tensorflow/compiler/tf2tensorrt/utils/py_utils.cc:38] TF-TRT Warning: Could not find TensorRT\n"
     ]
    }
   ],
   "source": [
    "from utils.common_train_utils import *\n",
    "from utils.draw_candle_image import *\n",
    "from utils.evaluate_old_models import *\n",
    "from functools import partial\n",
    "from model_code import *\n",
    "from attention_model import *\n",
    "from ta import add_all_ta_features\n",
    "from ta.utils import dropna\n",
    "import json\n",
    "import keras\n",
    "import matplotlib.pyplot as plt\n",
    "import numpy as np\n",
    "import os\n",
    "import pandas as pd\n",
    "import pathlib\n",
    "import shutil\n",
    "import ta\n",
    "import ta.momentum\n",
    "import ta.trend\n",
    "import tempfile\n",
    "import tensorflow as tf\n",
    "import tensorflow_docs as tfdocs\n",
    "import tensorflow_docs.modeling\n",
    "import tensorflow_docs.plots\n",
    "import inspect\n",
    "import random"
   ]
  },
  {
   "cell_type": "code",
   "execution_count": 3,
   "metadata": {},
   "outputs": [
    {
     "name": "stdout",
     "output_type": "stream",
     "text": [
      "Using GPU: PhysicalDevice(name='/physical_device:GPU:0', device_type='GPU')\n"
     ]
    },
    {
     "name": "stderr",
     "output_type": "stream",
     "text": [
      "WARNING: All log messages before absl::InitializeLog() is called are written to STDERR\n",
      "I0000 00:00:1733978799.130992  112511 cuda_executor.cc:1001] could not open file to read NUMA node: /sys/bus/pci/devices/0000:01:00.0/numa_node\n",
      "Your kernel may have been built without NUMA support.\n",
      "I0000 00:00:1733978799.225279  112511 cuda_executor.cc:1001] could not open file to read NUMA node: /sys/bus/pci/devices/0000:01:00.0/numa_node\n",
      "Your kernel may have been built without NUMA support.\n",
      "I0000 00:00:1733978799.225381  112511 cuda_executor.cc:1001] could not open file to read NUMA node: /sys/bus/pci/devices/0000:01:00.0/numa_node\n",
      "Your kernel may have been built without NUMA support.\n"
     ]
    }
   ],
   "source": [
    "gpus = tf.config.experimental.list_physical_devices('GPU')\n",
    "if gpus:\n",
    "    try:\n",
    "        tf.config.experimental.set_visible_devices(gpus[0], 'GPU')\n",
    "        print(\"Using GPU:\", gpus[0])\n",
    "    except RuntimeError as e:\n",
    "        print(e)"
   ]
  },
  {
   "cell_type": "code",
   "execution_count": 4,
   "metadata": {},
   "outputs": [],
   "source": [
    "logdir = pathlib.Path(tempfile.mkdtemp())/\"tensorboard_logs\"\n",
    "shutil.rmtree(logdir, ignore_errors=True)"
   ]
  },
  {
   "cell_type": "code",
   "execution_count": 5,
   "metadata": {},
   "outputs": [
    {
     "name": "stdout",
     "output_type": "stream",
     "text": [
      "/tmp/tmpbd5ektix/tensorboard_logs\n"
     ]
    }
   ],
   "source": [
    "print(logdir)"
   ]
  },
  {
   "cell_type": "code",
   "execution_count": 6,
   "metadata": {},
   "outputs": [],
   "source": [
    "symbol = input(\"symbol = \").strip().lower()"
   ]
  },
  {
   "cell_type": "code",
   "execution_count": 7,
   "metadata": {},
   "outputs": [],
   "source": [
    "dataset_folder = f\"../dataset/{symbol}_with_three_image_ema_macd\""
   ]
  },
  {
   "cell_type": "code",
   "execution_count": 8,
   "metadata": {},
   "outputs": [],
   "source": [
    "config = read_config(dataset_folder)\n",
    "candle_type_and_directory_save: dict = config[\"candle_type_and_directory_save\"]\n",
    "previous_days = config[\"previous_days\"]\n",
    "next_days = config[\"next_days\"]\n",
    "days_result = config[\"days_result\"]"
   ]
  },
  {
   "cell_type": "code",
   "execution_count": 9,
   "metadata": {},
   "outputs": [
    {
     "name": "stderr",
     "output_type": "stream",
     "text": [
      "I0000 00:00:1733978802.757859  112511 cuda_executor.cc:1001] could not open file to read NUMA node: /sys/bus/pci/devices/0000:01:00.0/numa_node\n",
      "Your kernel may have been built without NUMA support.\n",
      "I0000 00:00:1733978802.757934  112511 cuda_executor.cc:1001] could not open file to read NUMA node: /sys/bus/pci/devices/0000:01:00.0/numa_node\n",
      "Your kernel may have been built without NUMA support.\n",
      "I0000 00:00:1733978802.757948  112511 cuda_executor.cc:1001] could not open file to read NUMA node: /sys/bus/pci/devices/0000:01:00.0/numa_node\n",
      "Your kernel may have been built without NUMA support.\n",
      "I0000 00:00:1733978802.948800  112511 cuda_executor.cc:1001] could not open file to read NUMA node: /sys/bus/pci/devices/0000:01:00.0/numa_node\n",
      "Your kernel may have been built without NUMA support.\n",
      "I0000 00:00:1733978802.948861  112511 cuda_executor.cc:1001] could not open file to read NUMA node: /sys/bus/pci/devices/0000:01:00.0/numa_node\n",
      "Your kernel may have been built without NUMA support.\n",
      "2024-12-12 04:46:42.948871: I tensorflow/core/common_runtime/gpu/gpu_device.cc:2112] Could not identify NUMA node of platform GPU id 0, defaulting to 0.  Your kernel may not have been built with NUMA support.\n",
      "I0000 00:00:1733978802.948900  112511 cuda_executor.cc:1001] could not open file to read NUMA node: /sys/bus/pci/devices/0000:01:00.0/numa_node\n",
      "Your kernel may have been built without NUMA support.\n",
      "2024-12-12 04:46:42.948951: I tensorflow/core/common_runtime/gpu/gpu_device.cc:2021] Created device /job:localhost/replica:0/task:0/device:GPU:0 with 5632 MB memory:  -> device: 0, name: NVIDIA GeForce RTX 3060, pci bus id: 0000:01:00.0, compute capability: 8.6\n"
     ]
    }
   ],
   "source": [
    "dataset_test = load_dataset_of_each_type_and_combine(f\"{dataset_folder}/test\", candle_type_and_directory_save)\n",
    "total_data_test = len(dataset_test)"
   ]
  },
  {
   "cell_type": "code",
   "execution_count": null,
   "metadata": {},
   "outputs": [],
   "source": [
    "dataset_train = load_dataset_of_each_type_and_combine(f\"{dataset_folder}/train\", candle_type_and_directory_save)\n",
    "total_data_train = len(dataset_train)"
   ]
  },
  {
   "cell_type": "code",
   "execution_count": 13,
   "metadata": {},
   "outputs": [],
   "source": [
    "def image_time_series(image_shape, days_result, units=128):\n",
    "    image_time_series_model = ImageTimeSeries(units)\n",
    "    \n",
    "    return image_time_series_model, \"image_time_series\""
   ]
  },
  {
   "cell_type": "code",
   "execution_count": null,
   "metadata": {},
   "outputs": [],
   "source": [
    "UNITS = 256\n",
    "function_transform_origin = get_open_close_prices_percent_of_last_days_result_for_three_image_dataset\n",
    "model_function = image_time_series\n",
    "image_shape = get_image_shape(dataset_train, index_of_image=0)\n",
    "model, model_name = model_function(image_shape, days_result)"
   ]
  },
  {
   "cell_type": "code",
   "execution_count": 15,
   "metadata": {},
   "outputs": [],
   "source": [
    "# batch_size = 2**int(input(\"batch_size = 2^x, x = \").strip())\n",
    "batch_size = int(input(\"batch_size = \").strip())\n",
    "STEPS_PER_EPOCH = total_data_train // batch_size + 1\n",
    "name_sub_folder_save_metrics = f\"{model_name}_{os.path.basename(dataset_folder)}\"\n",
    "name_folder_save_metrics = f\"sizes/{model_name}_{os.path.basename(dataset_folder)}\"\n",
    "max_epochs = int(input(f\"max_epochs = \"))\n",
    "metric_mae_name = \"mae\"\n",
    "metric_mae_object = keras.metrics.MeanAbsoluteError(name=metric_mae_name)\n",
    "metric_mse_name = \"mse\"\n",
    "metric_mse_object = keras.metrics.MeanSquaredError(name=metric_mse_name)\n",
    "val_loss_metric_mae_to_stop = float(input(\"val_loss_metric_mae_to_stop = \"))\n",
    "val_loss_metric_mse_to_stop = float(input(\"val_loss_metric_mse_to_stop = \"))\n",
    "start_learning_rate = float(input(\"start_learning_rate = \").strip())\n",
    "shuffle_buffer = 300\n",
    "number_epochs_to_decrease_lr = int(input(\"number_epochs_to_decrease_lr = \"))\n",
    "number_epochs_to_wait = int(input(\"number_epochs_to_wait = \"))"
   ]
  },
  {
   "cell_type": "code",
   "execution_count": 16,
   "metadata": {},
   "outputs": [
    {
     "name": "stdout",
     "output_type": "stream",
     "text": [
      "2^1.584962500721156\n",
      "batch_size=3\n",
      "max_epochs=100\n",
      "start_learning_rate=0.01\n",
      "STEPS_PER_EPOCH=839\n",
      "val_loss_metric_mae_to_stop=-1.0\n",
      "val_loss_metric_mse_to_stop=-1.0\n",
      "number_epochs_to_decrease_lr=10\n",
      "number_epochs_to_wait=10\n"
     ]
    }
   ],
   "source": [
    "print(f\"2^{np.log2(batch_size)}\")\n",
    "print(f\"{batch_size=}\")\n",
    "print(f\"{max_epochs=}\")\n",
    "print(f\"{start_learning_rate=}\")\n",
    "print(f\"{STEPS_PER_EPOCH=}\")\n",
    "print(f\"{val_loss_metric_mae_to_stop=}\")\n",
    "print(f\"{val_loss_metric_mse_to_stop=}\")\n",
    "print(f\"{number_epochs_to_decrease_lr=}\")\n",
    "print(f\"{number_epochs_to_wait=}\")"
   ]
  },
  {
   "cell_type": "code",
   "execution_count": 17,
   "metadata": {},
   "outputs": [
    {
     "data": {
      "text/plain": [
       "'image_time_series'"
      ]
     },
     "execution_count": 17,
     "metadata": {},
     "output_type": "execute_result"
    }
   ],
   "source": [
    "model_name"
   ]
  },
  {
   "cell_type": "code",
   "execution_count": 18,
   "metadata": {},
   "outputs": [
    {
     "data": {
      "text/plain": [
       "(2515, 64)"
      ]
     },
     "execution_count": 18,
     "metadata": {},
     "output_type": "execute_result"
    }
   ],
   "source": [
    "(total_data_train, total_data_test)"
   ]
  },
  {
   "cell_type": "code",
   "execution_count": 19,
   "metadata": {},
   "outputs": [],
   "source": [
    "dataset_train_1 = dataset_train.shuffle(shuffle_buffer)\n",
    "dataset_test_1 = dataset_test.shuffle(shuffle_buffer)\n",
    "\n",
    "dataset_train_2 = dataset_train_1.batch(batch_size)\n",
    "dataset_test_2 = dataset_test_1.batch(batch_size)\n",
    "\n",
    "transform_function = partial(function_transform_origin, days_result)\n",
    "dataset_train_3 = dataset_train_2.map(transform_function)\n",
    "dataset_test_3 = dataset_test_2.map(transform_function)"
   ]
  },
  {
   "cell_type": "code",
   "execution_count": 20,
   "metadata": {},
   "outputs": [],
   "source": [
    "# for item in dataset_test_2:\n",
    "#     print(item[0].shape)\n",
    "#     print(item[1].shape)\n",
    "#     print(item[2].shape)\n",
    "#     print(item[3].shape)\n",
    "#     print(item[4].shape)\n",
    "#     print(item[5].shape)\n",
    "#     print(item[6].shape)\n",
    "    \n",
    "#     item = None\n",
    "#     break"
   ]
  },
  {
   "cell_type": "code",
   "execution_count": 21,
   "metadata": {},
   "outputs": [],
   "source": [
    "\n",
    "# for (\n",
    "#         list_images_30_days,\n",
    "#         list_images_7_days,\n",
    "#         list_images_3_days,\n",
    "#         percent_change_of_open_close_in,\n",
    "#     ), percent_change_of_open_close_out in dataset_train_3:\n",
    "#     print(list_images_30_days.shape)\n",
    "#     print(list_images_7_days.shape)\n",
    "#     print(list_images_3_days.shape)\n",
    "#     print(percent_change_of_open_close_in.shape)\n",
    "#     print(percent_change_of_open_close_out.shape)\n",
    "    \n",
    "#     list_images_30_days = None\n",
    "#     list_images_7_days = None\n",
    "#     list_images_3_days = None\n",
    "#     percent_change_of_open_close_in = None\n",
    "#     percent_change_of_open_close_out = None\n",
    "#     break"
   ]
  },
  {
   "cell_type": "code",
   "execution_count": 22,
   "metadata": {},
   "outputs": [],
   "source": [
    "# for features, labels in dataset_train_3.take(1):\n",
    "#     print(features[0].shape)\n",
    "#     print(features[1].shape)\n",
    "#     print(labels.shape)"
   ]
  },
  {
   "cell_type": "code",
   "execution_count": 23,
   "metadata": {},
   "outputs": [
    {
     "data": {
      "text/plain": [
       "(839, 22)"
      ]
     },
     "execution_count": 23,
     "metadata": {},
     "output_type": "execute_result"
    }
   ],
   "source": [
    "(len(dataset_train_3), len(dataset_test_3))"
   ]
  },
  {
   "cell_type": "code",
   "execution_count": null,
   "metadata": {},
   "outputs": [],
   "source": [
    "class StopAtLossValue(keras.callbacks.Callback):\n",
    "    def __init__(self, target_loss, metric_name):\n",
    "        super(StopAtLossValue, self).__init__()\n",
    "        self.target_loss = target_loss\n",
    "        self.metric_name = metric_name\n",
    "\n",
    "    def on_epoch_end(self, epoch, logs=None):\n",
    "        # Lấy giá trị loss từ logs\n",
    "        current_loss = logs.get(f\"val_{self.metric_name}\")\n",
    "        if current_loss is not None and current_loss <= self.target_loss:\n",
    "            print(f\"\\nĐạt target loss = {self.target_loss}, dừng training tại epoch {epoch + 1}\")\n",
    "            self.model.stop_training = True\n",
    "\n",
    "\n",
    "class SaveModelCallback(keras.callbacks.Callback):\n",
    "    def __init__(self, save_path):\n",
    "        super().__init__()\n",
    "        self.save_path = save_path\n",
    "\n",
    "    def on_epoch_end(self, epoch, logs=None):\n",
    "        # Tạo tên file với số epoch\n",
    "        folder_tmp = f\"{self.save_path}/tmp_model\"\n",
    "        file_name = f\"{folder_tmp}/model_tmp_{epoch}.keras\"\n",
    "        self.model.save(file_name)  # Lưu toàn bộ model\n",
    "        \n",
    "\n",
    "class TrackingLossCallback(keras.callbacks.Callback):\n",
    "    def __init__(self, metric_mse_name, metric_mae_name):\n",
    "        super().__init__()\n",
    "        self.list_epochs = []\n",
    "        self.list_val_mse_loss = []\n",
    "        self.list_train_mse_loss = []\n",
    "        self.list_val_mae_loss = []\n",
    "        self.list_train_mae_loss = []\n",
    "        self.metric_mse_name = metric_mse_name\n",
    "        self.metric_mae_name = metric_mae_name\n",
    "        self.val_mse_loss_key = f\"val_{self.metric_mse_name}\"\n",
    "        self.train_mse_loss_key = f\"{self.metric_mse_name}\"\n",
    "        self.val_mae_loss_key = f\"val_{self.metric_mae_name}\"\n",
    "        self.train_mae_loss_key = f\"{self.metric_mae_name}\"\n",
    "\n",
    "    def on_epoch_end(self, epoch, logs=None):\n",
    "        # Tạo tên file với số epoch\n",
    "        self.list_epochs.append(epoch)\n",
    "        self.list_val_mse_loss.append(logs.get(self.val_mse_loss_key))\n",
    "        self.list_train_mse_loss.append(logs.get(self.train_mse_loss_key))\n",
    "        self.list_val_mae_loss.append(logs.get(self.val_mae_loss_key))\n",
    "        self.list_train_mae_loss.append(logs.get(self.train_mae_loss_key))\n",
    "    \n",
    "    def get_df_result(self):\n",
    "        df = pd.DataFrame({\n",
    "            \"epoch\": self.list_epochs,\n",
    "            self.val_mse_loss_key: self.list_val_mse_loss,\n",
    "            self.train_mse_loss_key: self.list_train_mse_loss,\n",
    "            self.val_mae_loss_key: self.list_val_mae_loss,\n",
    "            self.train_mae_loss_key: self.list_train_mae_loss,\n",
    "        })\n",
    "        df.sort_values(self.val_mse_loss_key, inplace=True)\n",
    "        return df"
   ]
  },
  {
   "cell_type": "code",
   "execution_count": 25,
   "metadata": {},
   "outputs": [],
   "source": [
    "def get_optimizer(start_learning_rate, number_epochs_to_decrease_lr):\n",
    "    lr_schedule = keras.optimizers.schedules.InverseTimeDecay(\n",
    "        start_learning_rate,\n",
    "        decay_steps=STEPS_PER_EPOCH*number_epochs_to_decrease_lr,\n",
    "        decay_rate=1,\n",
    "        staircase=False\n",
    "    )\n",
    "    \n",
    "    return keras.optimizers.Adam(lr_schedule)\n",
    "\n",
    "tracking_loss_callback = TrackingLossCallback(metric_mse_name)\n",
    "def get_callbacks(name, metric_name, number_epochs_to_wait):\n",
    "    return [\n",
    "        tfdocs.modeling.EpochDots(),\n",
    "        StopAtLossValue(val_loss_metric_mae_to_stop, metric_mae_name),\n",
    "        StopAtLossValue(val_loss_metric_mse_to_stop, metric_mse_name),\n",
    "        SaveModelCallback(dataset_folder),\n",
    "        tracking_loss_callback,\n",
    "        keras.callbacks.EarlyStopping(monitor=f'val_loss', patience=number_epochs_to_wait),\n",
    "        keras.callbacks.TensorBoard(logdir/name)\n",
    "    ]\n",
    "  \n",
    "  \n",
    "model.compile(\n",
    "    loss=keras.losses.MeanSquaredError(),\n",
    "    optimizer=get_optimizer(start_learning_rate, number_epochs_to_decrease_lr),\n",
    "    metrics=[\n",
    "        metric_mae_object,\n",
    "        metric_mse_object\n",
    "    ],\n",
    ")\n"
   ]
  },
  {
   "cell_type": "code",
   "execution_count": 26,
   "metadata": {},
   "outputs": [
    {
     "data": {
      "text/html": [
       "<div>\n",
       "<style scoped>\n",
       "    .dataframe tbody tr th:only-of-type {\n",
       "        vertical-align: middle;\n",
       "    }\n",
       "\n",
       "    .dataframe tbody tr th {\n",
       "        vertical-align: top;\n",
       "    }\n",
       "\n",
       "    .dataframe thead th {\n",
       "        text-align: right;\n",
       "    }\n",
       "</style>\n",
       "<table border=\"1\" class=\"dataframe\">\n",
       "  <thead>\n",
       "    <tr style=\"text-align: right;\">\n",
       "      <th></th>\n",
       "      <th>model_name</th>\n",
       "      <th>mse</th>\n",
       "      <th>mae</th>\n",
       "    </tr>\n",
       "  </thead>\n",
       "  <tbody>\n",
       "  </tbody>\n",
       "</table>\n",
       "</div>"
      ],
      "text/plain": [
       "Empty DataFrame\n",
       "Columns: [model_name, mse, mae]\n",
       "Index: []"
      ]
     },
     "execution_count": 26,
     "metadata": {},
     "output_type": "execute_result"
    }
   ],
   "source": [
    "# Ví dụ\n",
    "all_models_folder_path = os.path.join(os.path.abspath(dataset_folder), \"model_save\")\n",
    "evaluate_all_models_in_dataset_folder(\n",
    "    all_models_folder_path, \n",
    "    dataset_test_2,\n",
    "    days_result\n",
    ")"
   ]
  },
  {
   "cell_type": "code",
   "execution_count": 27,
   "metadata": {},
   "outputs": [
    {
     "name": "stdout",
     "output_type": "stream",
     "text": [
      "Epoch 1/100\n"
     ]
    },
    {
     "name": "stderr",
     "output_type": "stream",
     "text": [
      "/home/hieucaohd/code/CNN-LSTM-predict-stock-price/.venv/lib/python3.9/site-packages/keras/src/layers/layer.py:391: UserWarning: `build()` was called on layer 'image_time_series', however the layer does not have a `build()` method implemented and it looks like it has unbuilt state. This will cause the layer to be marked as built, despite not being actually built, which may cause failures down the line. Make sure to implement a proper `build()` method.\n",
      "  warnings.warn(\n",
      "2024-12-12 04:47:08.795329: I external/local_xla/xla/stream_executor/cuda/cuda_dnn.cc:531] Loaded cuDNN version 8907\n"
     ]
    },
    {
     "name": "stdout",
     "output_type": "stream",
     "text": [
      "\u001b[1m839/839\u001b[0m \u001b[32m━━━━━━━━━━━━━━━━━━━━\u001b[0m\u001b[37m\u001b[0m \u001b[1m0s\u001b[0m 185ms/step - loss: 9.8715 - mae: 1.9853 - mse: 9.8715\n",
      "Epoch: 0, loss:9.1300,  mae:1.8822,  mse:9.1300,  val_loss:4.6953,  val_mae:1.4080,  val_mse:4.6953,  \n",
      "\u001b[1m839/839\u001b[0m \u001b[32m━━━━━━━━━━━━━━━━━━━━\u001b[0m\u001b[37m\u001b[0m \u001b[1m183s\u001b[0m 207ms/step - loss: 9.8706 - mae: 1.9852 - mse: 9.8706 - val_loss: 4.6953 - val_mae: 1.4080 - val_mse: 4.6953\n",
      "Epoch 2/100\n"
     ]
    },
    {
     "name": "stderr",
     "output_type": "stream",
     "text": [
      "2024-12-12 04:50:03.227340: I tensorflow/core/framework/local_rendezvous.cc:404] Local rendezvous is aborting with status: OUT_OF_RANGE: End of sequence\n",
      "\t [[{{node IteratorGetNext}}]]\n",
      "2024-12-12 04:50:03.227436: I tensorflow/core/framework/local_rendezvous.cc:404] Local rendezvous is aborting with status: OUT_OF_RANGE: End of sequence\n",
      "\t [[{{node IteratorGetNext}}]]\n",
      "\t [[IteratorGetNext/_6]]\n",
      "/usr/local/lib/python3.9/contextlib.py:137: UserWarning: Your input ran out of data; interrupting training. Make sure that your dataset or generator can generate at least `steps_per_epoch * epochs` batches. You may need to use the `.repeat()` function when building your dataset.\n",
      "  self.gen.throw(typ, value, traceback)\n"
     ]
    },
    {
     "name": "stdout",
     "output_type": "stream",
     "text": [
      "\u001b[1m839/839\u001b[0m \u001b[32m━━━━━━━━━━━━━━━━━━━━\u001b[0m\u001b[37m\u001b[0m \u001b[1m8s\u001b[0m 10ms/step - loss: 0.0000e+00 - mae: 0.0000e+00 - mse: 0.0000e+00 - val_loss: 4.6953 - val_mae: 1.4080 - val_mse: 4.6953\n",
      "Epoch 3/100\n",
      "\u001b[1m839/839\u001b[0m \u001b[32m━━━━━━━━━━━━━━━━━━━━\u001b[0m\u001b[37m\u001b[0m \u001b[1m181s\u001b[0m 212ms/step - loss: 8.0007 - mae: 1.7400 - mse: 8.0007 - val_loss: 4.0483 - val_mae: 1.3354 - val_mse: 4.0483\n",
      "Epoch 4/100\n"
     ]
    },
    {
     "name": "stderr",
     "output_type": "stream",
     "text": [
      "2024-12-12 04:53:12.341657: I tensorflow/core/framework/local_rendezvous.cc:404] Local rendezvous is aborting with status: OUT_OF_RANGE: End of sequence\n",
      "\t [[{{node IteratorGetNext}}]]\n",
      "\t [[StatefulPartitionedCall/gradient_tape/compile_loss/mean_squared_error/sub/Shape/_26]]\n",
      "2024-12-12 04:53:12.341830: I tensorflow/core/framework/local_rendezvous.cc:423] Local rendezvous recv item cancelled. Key hash: 3694610670293527553\n",
      "2024-12-12 04:53:12.341845: I tensorflow/core/framework/local_rendezvous.cc:423] Local rendezvous recv item cancelled. Key hash: 10416104353115618293\n",
      "2024-12-12 04:53:12.341852: I tensorflow/core/framework/local_rendezvous.cc:423] Local rendezvous recv item cancelled. Key hash: 5829941912950885509\n",
      "2024-12-12 04:53:12.341869: I tensorflow/core/framework/local_rendezvous.cc:423] Local rendezvous recv item cancelled. Key hash: 2318951099373730935\n",
      "2024-12-12 04:53:12.341876: I tensorflow/core/framework/local_rendezvous.cc:423] Local rendezvous recv item cancelled. Key hash: 4338022324332526885\n",
      "2024-12-12 04:53:12.341894: I tensorflow/core/framework/local_rendezvous.cc:423] Local rendezvous recv item cancelled. Key hash: 9208902580134126120\n",
      "2024-12-12 04:53:12.341907: I tensorflow/core/framework/local_rendezvous.cc:423] Local rendezvous recv item cancelled. Key hash: 12005338413203418584\n",
      "2024-12-12 04:53:12.341918: I tensorflow/core/framework/local_rendezvous.cc:423] Local rendezvous recv item cancelled. Key hash: 5528032038435415644\n"
     ]
    },
    {
     "name": "stdout",
     "output_type": "stream",
     "text": [
      "\u001b[1m839/839\u001b[0m \u001b[32m━━━━━━━━━━━━━━━━━━━━\u001b[0m\u001b[37m\u001b[0m \u001b[1m7s\u001b[0m 8ms/step - loss: 0.0000e+00 - mae: 0.0000e+00 - mse: 0.0000e+00 - val_loss: 4.0483 - val_mae: 1.3354 - val_mse: 4.0483\n",
      "Epoch 5/100\n",
      "\u001b[1m839/839\u001b[0m \u001b[32m━━━━━━━━━━━━━━━━━━━━\u001b[0m\u001b[37m\u001b[0m \u001b[1m176s\u001b[0m 208ms/step - loss: 7.0796 - mae: 1.6629 - mse: 7.0796 - val_loss: 3.3543 - val_mae: 1.2818 - val_mse: 3.3543\n",
      "Epoch 6/100\n",
      "\u001b[1m839/839\u001b[0m \u001b[32m━━━━━━━━━━━━━━━━━━━━\u001b[0m\u001b[37m\u001b[0m \u001b[1m8s\u001b[0m 9ms/step - loss: 0.0000e+00 - mae: 0.0000e+00 - mse: 0.0000e+00 - val_loss: 3.3543 - val_mae: 1.2818 - val_mse: 3.3543\n",
      "Epoch 7/100\n",
      "\u001b[1m839/839\u001b[0m \u001b[32m━━━━━━━━━━━━━━━━━━━━\u001b[0m\u001b[37m\u001b[0m \u001b[1m174s\u001b[0m 205ms/step - loss: 6.1939 - mae: 1.6101 - mse: 6.1939 - val_loss: 3.4306 - val_mae: 1.3049 - val_mse: 3.4306\n",
      "Epoch 8/100\n"
     ]
    },
    {
     "name": "stderr",
     "output_type": "stream",
     "text": [
      "2024-12-12 04:59:16.110931: I tensorflow/core/framework/local_rendezvous.cc:404] Local rendezvous is aborting with status: OUT_OF_RANGE: End of sequence\n",
      "\t [[{{node IteratorGetNext}}]]\n",
      "\t [[StatefulPartitionedCall/gradient_tape/compile_loss/mean_squared_error/sub/Shape/_26]]\n",
      "2024-12-12 04:59:16.111154: I tensorflow/core/framework/local_rendezvous.cc:423] Local rendezvous recv item cancelled. Key hash: 3694610670293527553\n",
      "2024-12-12 04:59:16.111164: I tensorflow/core/framework/local_rendezvous.cc:427] Local rendezvous send item cancelled. Key hash: 16212156025217726085\n",
      "2024-12-12 04:59:16.111168: I tensorflow/core/framework/local_rendezvous.cc:427] Local rendezvous send item cancelled. Key hash: 13659923981527758597\n",
      "2024-12-12 04:59:16.111173: I tensorflow/core/framework/local_rendezvous.cc:423] Local rendezvous recv item cancelled. Key hash: 10416104353115618293\n",
      "2024-12-12 04:59:16.111178: I tensorflow/core/framework/local_rendezvous.cc:423] Local rendezvous recv item cancelled. Key hash: 5829941912950885509\n",
      "2024-12-12 04:59:16.111182: I tensorflow/core/framework/local_rendezvous.cc:423] Local rendezvous recv item cancelled. Key hash: 2318951099373730935\n",
      "2024-12-12 04:59:16.111185: I tensorflow/core/framework/local_rendezvous.cc:423] Local rendezvous recv item cancelled. Key hash: 4338022324332526885\n",
      "2024-12-12 04:59:16.111187: I tensorflow/core/framework/local_rendezvous.cc:427] Local rendezvous send item cancelled. Key hash: 15065482890116210623\n",
      "2024-12-12 04:59:16.111193: I tensorflow/core/framework/local_rendezvous.cc:423] Local rendezvous recv item cancelled. Key hash: 9208902580134126120\n",
      "2024-12-12 04:59:16.111196: I tensorflow/core/framework/local_rendezvous.cc:423] Local rendezvous recv item cancelled. Key hash: 12005338413203418584\n",
      "2024-12-12 04:59:16.111201: I tensorflow/core/framework/local_rendezvous.cc:423] Local rendezvous recv item cancelled. Key hash: 5528032038435415644\n"
     ]
    },
    {
     "name": "stdout",
     "output_type": "stream",
     "text": [
      "\u001b[1m839/839\u001b[0m \u001b[32m━━━━━━━━━━━━━━━━━━━━\u001b[0m\u001b[37m\u001b[0m \u001b[1m10s\u001b[0m 12ms/step - loss: 0.0000e+00 - mae: 0.0000e+00 - mse: 0.0000e+00 - val_loss: 3.4306 - val_mae: 1.3049 - val_mse: 3.4306\n",
      "Epoch 9/100\n",
      "\u001b[1m839/839\u001b[0m \u001b[32m━━━━━━━━━━━━━━━━━━━━\u001b[0m\u001b[37m\u001b[0m \u001b[1m172s\u001b[0m 203ms/step - loss: 6.5296 - mae: 1.6387 - mse: 6.5296 - val_loss: 3.9209 - val_mae: 1.4051 - val_mse: 3.9209\n",
      "Epoch 10/100\n",
      "\u001b[1m839/839\u001b[0m \u001b[32m━━━━━━━━━━━━━━━━━━━━\u001b[0m\u001b[37m\u001b[0m \u001b[1m9s\u001b[0m 10ms/step - loss: 0.0000e+00 - mae: 0.0000e+00 - mse: 0.0000e+00 - val_loss: 3.9209 - val_mae: 1.4051 - val_mse: 3.9209\n",
      "Epoch 11/100\n",
      "\u001b[1m839/839\u001b[0m \u001b[32m━━━━━━━━━━━━━━━━━━━━\u001b[0m\u001b[37m\u001b[0m \u001b[1m185s\u001b[0m 218ms/step - loss: 6.0862 - mae: 1.5984 - mse: 6.0862 - val_loss: 3.3465 - val_mae: 1.2989 - val_mse: 3.3465\n",
      "Epoch 12/100\n"
     ]
    },
    {
     "name": "stderr",
     "output_type": "stream",
     "text": [
      "2024-12-12 05:05:32.316488: I tensorflow/core/framework/local_rendezvous.cc:423] Local rendezvous recv item cancelled. Key hash: 3694610670293527553\n",
      "2024-12-12 05:05:32.316860: I tensorflow/core/framework/local_rendezvous.cc:423] Local rendezvous recv item cancelled. Key hash: 10416104353115618293\n",
      "2024-12-12 05:05:32.316874: I tensorflow/core/framework/local_rendezvous.cc:423] Local rendezvous recv item cancelled. Key hash: 5829941912950885509\n",
      "2024-12-12 05:05:32.316881: I tensorflow/core/framework/local_rendezvous.cc:423] Local rendezvous recv item cancelled. Key hash: 2318951099373730935\n",
      "2024-12-12 05:05:32.316887: I tensorflow/core/framework/local_rendezvous.cc:423] Local rendezvous recv item cancelled. Key hash: 4338022324332526885\n",
      "2024-12-12 05:05:32.317425: I tensorflow/core/framework/local_rendezvous.cc:423] Local rendezvous recv item cancelled. Key hash: 9208902580134126120\n",
      "2024-12-12 05:05:32.317440: I tensorflow/core/framework/local_rendezvous.cc:423] Local rendezvous recv item cancelled. Key hash: 12005338413203418584\n",
      "2024-12-12 05:05:32.317448: I tensorflow/core/framework/local_rendezvous.cc:423] Local rendezvous recv item cancelled. Key hash: 5528032038435415644\n"
     ]
    },
    {
     "name": "stdout",
     "output_type": "stream",
     "text": [
      "\u001b[1m839/839\u001b[0m \u001b[32m━━━━━━━━━━━━━━━━━━━━\u001b[0m\u001b[37m\u001b[0m \u001b[1m8s\u001b[0m 9ms/step - loss: 0.0000e+00 - mae: 0.0000e+00 - mse: 0.0000e+00 - val_loss: 3.3465 - val_mae: 1.2989 - val_mse: 3.3465\n",
      "Epoch 13/100\n",
      "\u001b[1m839/839\u001b[0m \u001b[32m━━━━━━━━━━━━━━━━━━━━\u001b[0m\u001b[37m\u001b[0m \u001b[1m182s\u001b[0m 214ms/step - loss: 6.1977 - mae: 1.6061 - mse: 6.1977 - val_loss: 3.2716 - val_mae: 1.2549 - val_mse: 3.2716\n",
      "Epoch 14/100\n",
      "\u001b[1m839/839\u001b[0m \u001b[32m━━━━━━━━━━━━━━━━━━━━\u001b[0m\u001b[37m\u001b[0m \u001b[1m9s\u001b[0m 11ms/step - loss: 0.0000e+00 - mae: 0.0000e+00 - mse: 0.0000e+00 - val_loss: 3.2716 - val_mae: 1.2549 - val_mse: 3.2716\n",
      "Epoch 15/100\n",
      "\u001b[1m839/839\u001b[0m \u001b[32m━━━━━━━━━━━━━━━━━━━━\u001b[0m\u001b[37m\u001b[0m \u001b[1m178s\u001b[0m 210ms/step - loss: 6.2272 - mae: 1.6050 - mse: 6.2272 - val_loss: 3.3407 - val_mae: 1.2354 - val_mse: 3.3407\n",
      "Epoch 16/100\n"
     ]
    },
    {
     "name": "stderr",
     "output_type": "stream",
     "text": [
      "2024-12-12 05:11:49.347546: I tensorflow/core/framework/local_rendezvous.cc:404] Local rendezvous is aborting with status: OUT_OF_RANGE: End of sequence\n",
      "\t [[{{node IteratorGetNext}}]]\n",
      "\t [[IteratorGetNext/_6]]\n"
     ]
    },
    {
     "name": "stdout",
     "output_type": "stream",
     "text": [
      "\u001b[1m839/839\u001b[0m \u001b[32m━━━━━━━━━━━━━━━━━━━━\u001b[0m\u001b[37m\u001b[0m \u001b[1m7s\u001b[0m 8ms/step - loss: 0.0000e+00 - mae: 0.0000e+00 - mse: 0.0000e+00 - val_loss: 3.3407 - val_mae: 1.2354 - val_mse: 3.3407\n",
      "Epoch 17/100\n",
      "\u001b[1m839/839\u001b[0m \u001b[32m━━━━━━━━━━━━━━━━━━━━\u001b[0m\u001b[37m\u001b[0m \u001b[1m181s\u001b[0m 213ms/step - loss: 6.4112 - mae: 1.6245 - mse: 6.4112 - val_loss: 3.3577 - val_mae: 1.2330 - val_mse: 3.3577\n",
      "Epoch 18/100\n",
      "\u001b[1m839/839\u001b[0m \u001b[32m━━━━━━━━━━━━━━━━━━━━\u001b[0m\u001b[37m\u001b[0m \u001b[1m7s\u001b[0m 8ms/step - loss: 0.0000e+00 - mae: 0.0000e+00 - mse: 0.0000e+00 - val_loss: 3.3577 - val_mae: 1.2330 - val_mse: 3.3577\n",
      "Epoch 19/100\n",
      "\u001b[1m839/839\u001b[0m \u001b[32m━━━━━━━━━━━━━━━━━━━━\u001b[0m\u001b[37m\u001b[0m \u001b[1m181s\u001b[0m 212ms/step - loss: 6.1678 - mae: 1.5990 - mse: 6.1678 - val_loss: 3.3052 - val_mae: 1.2403 - val_mse: 3.3052\n",
      "Epoch 20/100\n",
      "\u001b[1m839/839\u001b[0m \u001b[32m━━━━━━━━━━━━━━━━━━━━\u001b[0m\u001b[37m\u001b[0m \u001b[1m10s\u001b[0m 12ms/step - loss: 0.0000e+00 - mae: 0.0000e+00 - mse: 0.0000e+00 - val_loss: 3.3052 - val_mae: 1.2403 - val_mse: 3.3052\n",
      "Epoch 21/100\n",
      "\u001b[1m839/839\u001b[0m \u001b[32m━━━━━━━━━━━━━━━━━━━━\u001b[0m\u001b[37m\u001b[0m \u001b[1m177s\u001b[0m 207ms/step - loss: 6.6790 - mae: 1.6656 - mse: 6.6790 - val_loss: 3.3835 - val_mae: 1.2354 - val_mse: 3.3835\n",
      "Epoch 22/100\n",
      "\u001b[1m839/839\u001b[0m \u001b[32m━━━━━━━━━━━━━━━━━━━━\u001b[0m\u001b[37m\u001b[0m \u001b[1m8s\u001b[0m 10ms/step - loss: 0.0000e+00 - mae: 0.0000e+00 - mse: 0.0000e+00 - val_loss: 3.3835 - val_mae: 1.2354 - val_mse: 3.3835\n",
      "Epoch 23/100\n",
      "\u001b[1m839/839\u001b[0m \u001b[32m━━━━━━━━━━━━━━━━━━━━\u001b[0m\u001b[37m\u001b[0m \u001b[1m192s\u001b[0m 224ms/step - loss: 6.4535 - mae: 1.6187 - mse: 6.4536 - val_loss: 3.3233 - val_mae: 1.2415 - val_mse: 3.3233\n",
      "Epoch 24/100\n",
      "\u001b[1m839/839\u001b[0m \u001b[32m━━━━━━━━━━━━━━━━━━━━\u001b[0m\u001b[37m\u001b[0m \u001b[1m6s\u001b[0m 7ms/step - loss: 0.0000e+00 - mae: 0.0000e+00 - mse: 0.0000e+00 - val_loss: 3.3233 - val_mae: 1.2415 - val_mse: 3.3233\n"
     ]
    }
   ],
   "source": [
    "is_start_train = input(\"Start train? (y/n): \").lower()[0] == \"y\"\n",
    "if is_start_train:\n",
    "    folder_tmp = f\"{dataset_folder}/tmp_model\"\n",
    "    os.makedirs(folder_tmp, exist_ok=False)\n",
    "    history = model.fit(\n",
    "        dataset_train_3, \n",
    "        validation_data=dataset_test_3,\n",
    "        epochs=max_epochs, \n",
    "        steps_per_epoch=STEPS_PER_EPOCH,\n",
    "        callbacks=get_callbacks(name_folder_save_metrics, metric_mse_name, number_epochs_to_wait)\n",
    "    )"
   ]
  },
  {
   "cell_type": "code",
   "execution_count": 28,
   "metadata": {},
   "outputs": [
    {
     "name": "stdout",
     "output_type": "stream",
     "text": [
      "22/22 - 1s - 53ms/step - loss: 3.3233 - mae: 1.2415 - mse: 3.3233\n"
     ]
    }
   ],
   "source": [
    "loss = model.evaluate(dataset_test_3, verbose=2)"
   ]
  },
  {
   "cell_type": "code",
   "execution_count": 29,
   "metadata": {},
   "outputs": [
    {
     "data": {
      "text/plain": [
       "[3.3233330249786377, 1.2414765357971191, 3.323333263397217]"
      ]
     },
     "execution_count": 29,
     "metadata": {},
     "output_type": "execute_result"
    }
   ],
   "source": [
    "loss"
   ]
  },
  {
   "cell_type": "code",
   "execution_count": 30,
   "metadata": {},
   "outputs": [],
   "source": [
    "def get_folder_path_to_save_model(model_name):\n",
    "    new_model_name = model_name\n",
    "    path_save = f\"{dataset_folder}/model_save/{new_model_name}\"\n",
    "    while os.path.exists(path_save):\n",
    "        print(f\"-- {path_save} already exists\")\n",
    "        random_index = random.randint(0, 100)\n",
    "        new_model_name = new_model_name + f\"_{random_index}\"\n",
    "        path_save = f\"{dataset_folder}/model_save/{new_model_name}\"\n",
    "        print(f\"-- Change to {path_save}\")\n",
    "    os.makedirs(path_save, exist_ok=False)\n",
    "    return path_save, new_model_name "
   ]
  },
  {
   "cell_type": "code",
   "execution_count": 31,
   "metadata": {},
   "outputs": [],
   "source": [
    "def save_model(model: keras.Sequential, folder_path, new_model_name):\n",
    "    path_save = f\"{folder_path}/{new_model_name}.keras\"\n",
    "    abspath_save = os.path.abspath(path_save)\n",
    "    model.save(abspath_save)\n",
    "    return path_save"
   ]
  },
  {
   "cell_type": "code",
   "execution_count": 32,
   "metadata": {},
   "outputs": [],
   "source": [
    "def save_model_and_config(model: keras.Sequential, epoch):\n",
    "    folder_path, new_model_name = get_folder_path_to_save_model(f\"{model_name}_epoch_{epoch}\")\n",
    "    model_name_saved = save_model(model, folder_path, new_model_name)\n",
    "    loss = model.evaluate(dataset_test_3)\n",
    "    config_and_loss = {\n",
    "        \"config\": {\n",
    "            \"batch_size\": batch_size,\n",
    "            \"STEPS_PER_EPOCH\": STEPS_PER_EPOCH,\n",
    "            \"name_sub_folder_save_metrics\": name_sub_folder_save_metrics,\n",
    "            \"name_folder_save_metrics\": name_folder_save_metrics,\n",
    "            \"max_epochs\": max_epochs,\n",
    "            \"val_loss_metric_mae_to_stop\": val_loss_metric_mae_to_stop,\n",
    "            \"val_loss_metric_mse_to_stop\": val_loss_metric_mse_to_stop,\n",
    "            \"start_learning_rate\": start_learning_rate,\n",
    "            \"shuffle_buffer\": shuffle_buffer,\n",
    "            \"number_epochs_to_decrease_lr\": number_epochs_to_decrease_lr,\n",
    "            \"number_epochs_to_wait\": number_epochs_to_wait,\n",
    "            \"model_function\": function_transform_origin.__name__,\n",
    "            \"time_created\": str(datetime.now()),\n",
    "            \"epoch\": epoch\n",
    "        },\n",
    "        \"loss\": {\n",
    "            \"val_mse_loss\": loss[0],\n",
    "            \"val_mae_loss\": loss[1],\n",
    "        }\n",
    "    }\n",
    "    with open(f\"{folder_path}/config_and_loss.json\", \"w\") as file:\n",
    "        json.dump(config_and_loss, file, indent=2)\n",
    "    code_str = inspect.getsource(model_function)\n",
    "    with open(f\"{folder_path}/model_function_code.py\", \"w\", encoding=\"utf8\") as file:\n",
    "        file.write(code_str)\n",
    "    \n",
    "    return new_model_name"
   ]
  },
  {
   "cell_type": "code",
   "execution_count": 33,
   "metadata": {},
   "outputs": [],
   "source": [
    "list_name_models = []\n",
    "list_models = []\n",
    "df_result = tracking_loss_callback.get_df_result()"
   ]
  },
  {
   "cell_type": "code",
   "execution_count": 34,
   "metadata": {},
   "outputs": [
    {
     "data": {
      "text/html": [
       "<div>\n",
       "<style scoped>\n",
       "    .dataframe tbody tr th:only-of-type {\n",
       "        vertical-align: middle;\n",
       "    }\n",
       "\n",
       "    .dataframe tbody tr th {\n",
       "        vertical-align: top;\n",
       "    }\n",
       "\n",
       "    .dataframe thead th {\n",
       "        text-align: right;\n",
       "    }\n",
       "</style>\n",
       "<table border=\"1\" class=\"dataframe\">\n",
       "  <thead>\n",
       "    <tr style=\"text-align: right;\">\n",
       "      <th></th>\n",
       "      <th>epoch</th>\n",
       "      <th>val_mse</th>\n",
       "      <th>mse</th>\n",
       "    </tr>\n",
       "  </thead>\n",
       "  <tbody>\n",
       "    <tr>\n",
       "      <th>13</th>\n",
       "      <td>13</td>\n",
       "      <td>3.271569</td>\n",
       "      <td>0.000000</td>\n",
       "    </tr>\n",
       "    <tr>\n",
       "      <th>12</th>\n",
       "      <td>12</td>\n",
       "      <td>3.271569</td>\n",
       "      <td>6.706611</td>\n",
       "    </tr>\n",
       "    <tr>\n",
       "      <th>19</th>\n",
       "      <td>19</td>\n",
       "      <td>3.305242</td>\n",
       "      <td>0.000000</td>\n",
       "    </tr>\n",
       "    <tr>\n",
       "      <th>18</th>\n",
       "      <td>18</td>\n",
       "      <td>3.305242</td>\n",
       "      <td>6.515516</td>\n",
       "    </tr>\n",
       "    <tr>\n",
       "      <th>23</th>\n",
       "      <td>23</td>\n",
       "      <td>3.323333</td>\n",
       "      <td>0.000000</td>\n",
       "    </tr>\n",
       "    <tr>\n",
       "      <th>22</th>\n",
       "      <td>22</td>\n",
       "      <td>3.323333</td>\n",
       "      <td>6.645270</td>\n",
       "    </tr>\n",
       "    <tr>\n",
       "      <th>15</th>\n",
       "      <td>15</td>\n",
       "      <td>3.340685</td>\n",
       "      <td>0.000000</td>\n",
       "    </tr>\n",
       "    <tr>\n",
       "      <th>14</th>\n",
       "      <td>14</td>\n",
       "      <td>3.340685</td>\n",
       "      <td>6.674662</td>\n",
       "    </tr>\n",
       "    <tr>\n",
       "      <th>11</th>\n",
       "      <td>11</td>\n",
       "      <td>3.346451</td>\n",
       "      <td>0.000000</td>\n",
       "    </tr>\n",
       "    <tr>\n",
       "      <th>10</th>\n",
       "      <td>10</td>\n",
       "      <td>3.346452</td>\n",
       "      <td>6.719624</td>\n",
       "    </tr>\n",
       "    <tr>\n",
       "      <th>4</th>\n",
       "      <td>4</td>\n",
       "      <td>3.354311</td>\n",
       "      <td>7.177196</td>\n",
       "    </tr>\n",
       "    <tr>\n",
       "      <th>5</th>\n",
       "      <td>5</td>\n",
       "      <td>3.354311</td>\n",
       "      <td>0.000000</td>\n",
       "    </tr>\n",
       "    <tr>\n",
       "      <th>16</th>\n",
       "      <td>16</td>\n",
       "      <td>3.357718</td>\n",
       "      <td>6.593991</td>\n",
       "    </tr>\n",
       "    <tr>\n",
       "      <th>17</th>\n",
       "      <td>17</td>\n",
       "      <td>3.357718</td>\n",
       "      <td>0.000000</td>\n",
       "    </tr>\n",
       "    <tr>\n",
       "      <th>20</th>\n",
       "      <td>20</td>\n",
       "      <td>3.383531</td>\n",
       "      <td>6.796724</td>\n",
       "    </tr>\n",
       "    <tr>\n",
       "      <th>21</th>\n",
       "      <td>21</td>\n",
       "      <td>3.383531</td>\n",
       "      <td>0.000000</td>\n",
       "    </tr>\n",
       "    <tr>\n",
       "      <th>7</th>\n",
       "      <td>7</td>\n",
       "      <td>3.430607</td>\n",
       "      <td>0.000000</td>\n",
       "    </tr>\n",
       "    <tr>\n",
       "      <th>6</th>\n",
       "      <td>6</td>\n",
       "      <td>3.430607</td>\n",
       "      <td>6.845962</td>\n",
       "    </tr>\n",
       "    <tr>\n",
       "      <th>9</th>\n",
       "      <td>9</td>\n",
       "      <td>3.920940</td>\n",
       "      <td>0.000000</td>\n",
       "    </tr>\n",
       "    <tr>\n",
       "      <th>8</th>\n",
       "      <td>8</td>\n",
       "      <td>3.920940</td>\n",
       "      <td>6.757080</td>\n",
       "    </tr>\n",
       "    <tr>\n",
       "      <th>2</th>\n",
       "      <td>2</td>\n",
       "      <td>4.048269</td>\n",
       "      <td>8.647797</td>\n",
       "    </tr>\n",
       "    <tr>\n",
       "      <th>3</th>\n",
       "      <td>3</td>\n",
       "      <td>4.048270</td>\n",
       "      <td>0.000000</td>\n",
       "    </tr>\n",
       "    <tr>\n",
       "      <th>0</th>\n",
       "      <td>0</td>\n",
       "      <td>4.695263</td>\n",
       "      <td>9.129958</td>\n",
       "    </tr>\n",
       "    <tr>\n",
       "      <th>1</th>\n",
       "      <td>1</td>\n",
       "      <td>4.695263</td>\n",
       "      <td>0.000000</td>\n",
       "    </tr>\n",
       "  </tbody>\n",
       "</table>\n",
       "</div>"
      ],
      "text/plain": [
       "    epoch   val_mse       mse\n",
       "13     13  3.271569  0.000000\n",
       "12     12  3.271569  6.706611\n",
       "19     19  3.305242  0.000000\n",
       "18     18  3.305242  6.515516\n",
       "23     23  3.323333  0.000000\n",
       "22     22  3.323333  6.645270\n",
       "15     15  3.340685  0.000000\n",
       "14     14  3.340685  6.674662\n",
       "11     11  3.346451  0.000000\n",
       "10     10  3.346452  6.719624\n",
       "4       4  3.354311  7.177196\n",
       "5       5  3.354311  0.000000\n",
       "16     16  3.357718  6.593991\n",
       "17     17  3.357718  0.000000\n",
       "20     20  3.383531  6.796724\n",
       "21     21  3.383531  0.000000\n",
       "7       7  3.430607  0.000000\n",
       "6       6  3.430607  6.845962\n",
       "9       9  3.920940  0.000000\n",
       "8       8  3.920940  6.757080\n",
       "2       2  4.048269  8.647797\n",
       "3       3  4.048270  0.000000\n",
       "0       0  4.695263  9.129958\n",
       "1       1  4.695263  0.000000"
      ]
     },
     "execution_count": 34,
     "metadata": {},
     "output_type": "execute_result"
    }
   ],
   "source": [
    "df_result"
   ]
  },
  {
   "cell_type": "code",
   "execution_count": 63,
   "metadata": {},
   "outputs": [],
   "source": [
    "now = datetime.now()\n",
    "result = now.strftime(\"%Y-%m-%d %H:%M:%S\")\n",
    "df_result.sort_values(\"epoch\").to_excel(f\"{dataset_folder}/loss_train/{result}.xlsx\", index=False)"
   ]
  },
  {
   "cell_type": "code",
   "execution_count": 44,
   "metadata": {},
   "outputs": [
    {
     "name": "stdout",
     "output_type": "stream",
     "text": [
      "Save model_tmp_9.keras\n",
      "<class 'attention_model.ImageTimeSeries'> could not be deserialized properly. Please ensure that components that are Python object instances (layers, models, etc.) returned by `get_config()` are explicitly deserialized in the model's `from_config()` method.\n",
      "\n",
      "config={'module': 'attention_model', 'class_name': 'ImageTimeSeries', 'config': {'trainable': True, 'dtype': {'module': 'keras', 'class_name': 'DTypePolicy', 'config': {'name': 'float32'}, 'registered_name': None}}, 'registered_name': 'ImageTimeSeries', 'build_config': {'input_shape': [[None, 287, 287, 3], [None, 287, 287, 3], [None, 287, 287, 3], [None, 3, 2]]}, 'compile_config': {'optimizer': {'module': 'keras.optimizers', 'class_name': 'Adam', 'config': {'name': 'adam', 'learning_rate': {'module': 'keras.optimizers.schedules', 'class_name': 'InverseTimeDecay', 'config': {'initial_learning_rate': 0.01, 'decay_steps': 8390, 'decay_rate': 1, 'staircase': False, 'name': 'InverseTimeDecay'}, 'registered_name': None}, 'weight_decay': None, 'clipnorm': None, 'global_clipnorm': None, 'clipvalue': None, 'use_ema': False, 'ema_momentum': 0.99, 'ema_overwrite_frequency': None, 'loss_scale_factor': None, 'gradient_accumulation_steps': None, 'beta_1': 0.9, 'beta_2': 0.999, 'epsilon': 1e-07, 'amsgrad': False}, 'registered_name': None}, 'loss': {'module': 'keras.losses', 'class_name': 'MeanSquaredError', 'config': {'name': 'mean_squared_error', 'reduction': 'sum_over_batch_size'}, 'registered_name': None}, 'loss_weights': None, 'metrics': [{'module': 'keras.metrics', 'class_name': 'MeanAbsoluteError', 'config': {'name': 'mae', 'dtype': 'float32'}, 'registered_name': None}, {'module': 'keras.metrics', 'class_name': 'MeanSquaredError', 'config': {'name': 'mse', 'dtype': 'float32'}, 'registered_name': None}], 'weighted_metrics': None, 'run_eagerly': False, 'steps_per_execution': 1, 'jit_compile': False}}.\n",
      "\n",
      "Exception encountered: Unable to revive model from config. When overriding the `get_config()` method, make sure that the returned config contains all items used as arguments in the  constructor to <class 'attention_model.ImageTimeSeries'>, which is the default behavior. You can override this default behavior by defining a `from_config(cls, config)` class method to specify how to create an instance of ImageTimeSeries from its config.\n",
      "\n",
      "Received config={'trainable': True, 'dtype': {'module': 'keras', 'class_name': 'DTypePolicy', 'config': {'name': 'float32'}, 'registered_name': None}}\n",
      "\n",
      "Error encountered during deserialization: __init__() got an unexpected keyword argument 'trainable'\n",
      "Save model_tmp_10.keras\n",
      "<class 'attention_model.ImageTimeSeries'> could not be deserialized properly. Please ensure that components that are Python object instances (layers, models, etc.) returned by `get_config()` are explicitly deserialized in the model's `from_config()` method.\n",
      "\n",
      "config={'module': 'attention_model', 'class_name': 'ImageTimeSeries', 'config': {'trainable': True, 'dtype': {'module': 'keras', 'class_name': 'DTypePolicy', 'config': {'name': 'float32'}, 'registered_name': None}}, 'registered_name': 'ImageTimeSeries', 'build_config': {'input_shape': [[None, 287, 287, 3], [None, 287, 287, 3], [None, 287, 287, 3], [None, 3, 2]]}, 'compile_config': {'optimizer': {'module': 'keras.optimizers', 'class_name': 'Adam', 'config': {'name': 'adam', 'learning_rate': {'module': 'keras.optimizers.schedules', 'class_name': 'InverseTimeDecay', 'config': {'initial_learning_rate': 0.01, 'decay_steps': 8390, 'decay_rate': 1, 'staircase': False, 'name': 'InverseTimeDecay'}, 'registered_name': None}, 'weight_decay': None, 'clipnorm': None, 'global_clipnorm': None, 'clipvalue': None, 'use_ema': False, 'ema_momentum': 0.99, 'ema_overwrite_frequency': None, 'loss_scale_factor': None, 'gradient_accumulation_steps': None, 'beta_1': 0.9, 'beta_2': 0.999, 'epsilon': 1e-07, 'amsgrad': False}, 'registered_name': None}, 'loss': {'module': 'keras.losses', 'class_name': 'MeanSquaredError', 'config': {'name': 'mean_squared_error', 'reduction': 'sum_over_batch_size'}, 'registered_name': None}, 'loss_weights': None, 'metrics': [{'module': 'keras.metrics', 'class_name': 'MeanAbsoluteError', 'config': {'name': 'mae', 'dtype': 'float32'}, 'registered_name': None}, {'module': 'keras.metrics', 'class_name': 'MeanSquaredError', 'config': {'name': 'mse', 'dtype': 'float32'}, 'registered_name': None}], 'weighted_metrics': None, 'run_eagerly': False, 'steps_per_execution': 1, 'jit_compile': False}}.\n",
      "\n",
      "Exception encountered: Unable to revive model from config. When overriding the `get_config()` method, make sure that the returned config contains all items used as arguments in the  constructor to <class 'attention_model.ImageTimeSeries'>, which is the default behavior. You can override this default behavior by defining a `from_config(cls, config)` class method to specify how to create an instance of ImageTimeSeries from its config.\n",
      "\n",
      "Received config={'trainable': True, 'dtype': {'module': 'keras', 'class_name': 'DTypePolicy', 'config': {'name': 'float32'}, 'registered_name': None}}\n",
      "\n",
      "Error encountered during deserialization: __init__() got an unexpected keyword argument 'trainable'\n"
     ]
    }
   ],
   "source": [
    "if input(\"save model? (y/n): \").lower()[0] == \"y\":\n",
    "    is_save_model_from_tmp = input(\"Save model from tmp file? (y/n): \").lower()[0] == \"y\"\n",
    "    \n",
    "    if is_save_model_from_tmp:\n",
    "        while True and os.path.exists(folder_tmp):\n",
    "            epoch = input(f\"Epoch = (s for stop)\")\n",
    "            if not str.isdigit(epoch):\n",
    "                break\n",
    "            else:\n",
    "                epoch = int(epoch)\n",
    "            \n",
    "            model_tmp_name = f\"model_tmp_{epoch}.keras\"\n",
    "            print(f\"Save {model_tmp_name}\")\n",
    "            model_tmp_path = f\"{folder_tmp}/{model_tmp_name}\"\n",
    "            if not os.path.exists(model_tmp_path):\n",
    "                print(f\"model {model_tmp_path} does not exist.\")\n",
    "                continue\n",
    "            \n",
    "            try:\n",
    "                model_tmp = keras.models.load_model(model_tmp_path)\n",
    "                name_model_tmp_saved = save_model_and_config(model_tmp, epoch)\n",
    "                list_name_models.append(name_model_tmp_saved)\n",
    "                list_models.append(model_tmp)\n",
    "            except Exception as err:\n",
    "                print(err)\n",
    "                continue\n",
    "    \n",
    "    is_save_last_model = input(\"Save last model? (y/n): \").lower()[0] == \"y\"\n",
    "    if is_save_last_model:\n",
    "        name_last_model_saved = save_model_and_config(model, \"last\")\n",
    "        list_name_models.append(name_last_model_saved)\n",
    "        list_models.append(model)\n",
    "\n",
    "is_delete_tmp_model_folder = input(\"Delete model tmp folder? (y/n): \").lower()[0] == \"y\"\n",
    "if is_delete_tmp_model_folder:\n",
    "    if os.path.exists(folder_tmp):\n",
    "        shutil.rmtree(folder_tmp)\n",
    "    else:\n",
    "        print(f\"{folder_tmp} does not exist.\")\n",
    "    "
   ]
  },
  {
   "cell_type": "code",
   "execution_count": 45,
   "metadata": {},
   "outputs": [],
   "source": [
    "for model_loaded, model_name_loaded in zip(list_models, list_name_models):\n",
    "    loss = model_loaded.evaluate(dataset_test_3)\n",
    "    print(f\"{model_name_loaded}: {loss}\")"
   ]
  },
  {
   "cell_type": "code",
   "execution_count": 46,
   "metadata": {},
   "outputs": [],
   "source": [
    "size_histories = {}"
   ]
  },
  {
   "cell_type": "code",
   "execution_count": 47,
   "metadata": {},
   "outputs": [],
   "source": [
    "size_histories[name_sub_folder_save_metrics] = history "
   ]
  },
  {
   "cell_type": "code",
   "execution_count": null,
   "metadata": {},
   "outputs": [
    {
     "data": {
      "text/plain": [
       "(3.2573320698738097, 4.709500329494476)"
      ]
     },
     "execution_count": 48,
     "metadata": {},
     "output_type": "execute_result"
    },
    {
     "data": {
      "image/png": "[encoded data removed]",
      "text/plain": [
       "<Figure size 640x480 with 1 Axes>"
      ]
     },
     "metadata": {},
     "output_type": "display_data"
    }
   ],
   "source": [
    "min_val_loss = df_result[tracking_loss_callback.val_mse_loss_key].min()\n",
    "max_val_loss = df_result[tracking_loss_callback.val_mse_loss_key].max()\n",
    "scale = (max_val_loss - min_val_loss) / 100\n",
    "plotter = tfdocs.plots.HistoryPlotter(metric=metric_mse_name)\n",
    "plotter.plot(size_histories)\n",
    "plt.ylim([min_val_loss - scale, max_val_loss + scale])"
   ]
  },
  {
   "cell_type": "code",
   "execution_count": null,
   "metadata": {},
   "outputs": [
    {
     "data": {
      "text/plain": [
       "(-0.09129958152770996, 9.221257734298707)"
      ]
     },
     "execution_count": 49,
     "metadata": {},
     "output_type": "execute_result"
    },
    {
     "data": {
      "image/png": "[encoded data removed]",
      "text/plain": [
       "<Figure size 640x480 with 1 Axes>"
      ]
     },
     "metadata": {},
     "output_type": "display_data"
    }
   ],
   "source": [
    "min_train_loss = df_result[tracking_loss_callback.train_mse_loss_key].min()\n",
    "max_train_loss = df_result[tracking_loss_callback.train_mse_loss_key].max()\n",
    "scale = (max_train_loss - min_train_loss) / 100\n",
    "plotter = tfdocs.plots.HistoryPlotter(metric=metric_mse_name)\n",
    "plotter.plot(size_histories)\n",
    "plt.ylim([min_train_loss - scale, max_train_loss + scale])"
   ]
  },
  {
   "cell_type": "code",
   "execution_count": 50,
   "metadata": {},
   "outputs": [],
   "source": [
    "# train_dataset = tf.data.Dataset.load(f'{dataset_folder}/train/next_3_day_up')\n",
    "# test_dataset = tf.data.Dataset.load(f'{dataset_folder}/test/next_3_day_up')\n",
    "# for x_train, y_train, date_train in train_dataset.take(2):\n",
    "#     pass\n",
    "# for x_test, y_test, date_test in test_dataset.take(2):\n",
    "#     pass\n",
    "# plt.imshow(x_train)\n",
    "# y_train\n",
    "# plt.imshow(x_test)\n",
    "# y_test"
   ]
  },
  {
   "cell_type": "code",
   "execution_count": 51,
   "metadata": {},
   "outputs": [
    {
     "data": {
      "text/plain": [
       "[]"
      ]
     },
     "execution_count": 51,
     "metadata": {},
     "output_type": "execute_result"
    }
   ],
   "source": [
    "list_name_models"
   ]
  },
  {
   "cell_type": "code",
   "execution_count": 52,
   "metadata": {},
   "outputs": [
    {
     "data": {
      "text/plain": [
       "'../dataset/btc_with_three_image_ema_macd'"
      ]
     },
     "execution_count": 52,
     "metadata": {},
     "output_type": "execute_result"
    }
   ],
   "source": [
    "dataset_folder"
   ]
  }
 ],
 "metadata": {
  "kernelspec": {
   "display_name": ".venv",
   "language": "python",
   "name": "python3"
  },
  "language_info": {
   "codemirror_mode": {
    "name": "ipython",
    "version": 3
   },
   "file_extension": ".py",
   "mimetype": "text/x-python",
   "name": "python",
   "nbconvert_exporter": "python",
   "pygments_lexer": "ipython3",
   "version": "3.9.7"
  }
 },
 "nbformat": 4,
 "nbformat_minor": 2
}
