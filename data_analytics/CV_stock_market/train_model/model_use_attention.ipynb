{
 "cells": [
  {
   "cell_type": "code",
   "execution_count": 55,
   "metadata": {},
   "outputs": [],
   "source": [
    "import sys\n",
    "sys.path.append(\"../\")"
   ]
  },
  {
   "cell_type": "code",
   "execution_count": 56,
   "metadata": {},
   "outputs": [],
   "source": [
    "from utils.common_train_utils import *\n",
    "from utils.draw_candle_image import *\n",
    "from utils.evaluate_old_models import *\n",
    "from functools import partial\n",
    "from model_code import *\n",
    "from attention_model import *\n",
    "from ta import add_all_ta_features\n",
    "from ta.utils import dropna\n",
    "import json\n",
    "import keras\n",
    "import matplotlib.pyplot as plt\n",
    "import numpy as np\n",
    "import os\n",
    "import pandas as pd\n",
    "import pathlib\n",
    "import shutil\n",
    "import ta\n",
    "import ta.momentum\n",
    "import ta.trend\n",
    "import tempfile\n",
    "import tensorflow as tf\n",
    "import tensorflow_docs as tfdocs\n",
    "import tensorflow_docs.modeling\n",
    "import tensorflow_docs.plots\n",
    "import inspect\n",
    "import random"
   ]
  },
  {
   "cell_type": "code",
   "execution_count": 57,
   "metadata": {},
   "outputs": [
    {
     "name": "stdout",
     "output_type": "stream",
     "text": [
      "Using GPU: PhysicalDevice(name='/physical_device:GPU:0', device_type='GPU')\n"
     ]
    }
   ],
   "source": [
    "gpus = tf.config.experimental.list_physical_devices('GPU')\n",
    "if gpus:\n",
    "    try:\n",
    "        tf.config.experimental.set_visible_devices(gpus[0], 'GPU')\n",
    "        print(\"Using GPU:\", gpus[0])\n",
    "    except RuntimeError as e:\n",
    "        print(e)"
   ]
  },
  {
   "cell_type": "code",
   "execution_count": 58,
   "metadata": {},
   "outputs": [],
   "source": [
    "logdir = pathlib.Path(tempfile.mkdtemp())/\"tensorboard_logs\"\n",
    "shutil.rmtree(logdir, ignore_errors=True)"
   ]
  },
  {
   "cell_type": "code",
   "execution_count": 59,
   "metadata": {},
   "outputs": [
    {
     "name": "stdout",
     "output_type": "stream",
     "text": [
      "/tmp/tmprj5vt28x/tensorboard_logs\n"
     ]
    }
   ],
   "source": [
    "print(logdir)"
   ]
  },
  {
   "cell_type": "code",
   "execution_count": 60,
   "metadata": {},
   "outputs": [],
   "source": [
    "symbol = input(\"symbol = \").strip().lower()"
   ]
  },
  {
   "cell_type": "code",
   "execution_count": 61,
   "metadata": {},
   "outputs": [],
   "source": [
    "dataset_folder = f\"../dataset/{symbol}_with_three_image_ema_macd\""
   ]
  },
  {
   "cell_type": "code",
   "execution_count": 62,
   "metadata": {},
   "outputs": [],
   "source": [
    "config = read_config(dataset_folder)\n",
    "candle_type_and_directory_save: dict = config[\"candle_type_and_directory_save\"]\n",
    "previous_days = config[\"previous_days\"]\n",
    "next_days = config[\"next_days\"]\n",
    "days_result = config[\"days_result\"]"
   ]
  },
  {
   "cell_type": "code",
   "execution_count": 63,
   "metadata": {},
   "outputs": [],
   "source": [
    "dataset_test = load_dataset_of_each_type_and_combine(f\"{dataset_folder}/test\", candle_type_and_directory_save)\n",
    "total_data_test = len(dataset_test)"
   ]
  },
  {
   "cell_type": "code",
   "execution_count": 64,
   "metadata": {},
   "outputs": [],
   "source": [
    "dataset_train = load_dataset_of_each_type_and_combine(f\"{dataset_folder}/train\", candle_type_and_directory_save)\n",
    "total_data_train = len(dataset_train)"
   ]
  },
  {
   "cell_type": "code",
   "execution_count": 65,
   "metadata": {},
   "outputs": [],
   "source": [
    "def image_time_series(image_shape, days_result, units=128):\n",
    "    image_time_series_model = CNNAttention(units)\n",
    "    \n",
    "    return image_time_series_model, \"cnn_attention\""
   ]
  },
  {
   "cell_type": "code",
   "execution_count": 66,
   "metadata": {},
   "outputs": [],
   "source": [
    "UNITS = 256\n",
    "function_transform_origin = get_open_close_prices_percent_of_last_days_result_for_three_image_dataset\n",
    "model_function = image_time_series\n",
    "image_shape = get_image_shape(dataset_train, index_of_image=0)\n",
    "model, model_name = model_function(image_shape, days_result)"
   ]
  },
  {
   "cell_type": "code",
   "execution_count": 67,
   "metadata": {},
   "outputs": [],
   "source": [
    "# batch_size = 2**int(input(\"batch_size = 2^x, x = \").strip())\n",
    "is_quick_input_param = input(\"Quick input parameter? (y/n)\").strip().lower() == \"y\"\n",
    "\n",
    "if is_quick_input_param:\n",
    "    batch_size = 3\n",
    "    STEPS_PER_EPOCH = total_data_train // batch_size + 1\n",
    "    name_sub_folder_save_metrics = f\"{model_name}_{os.path.basename(dataset_folder)}\"\n",
    "    name_folder_save_metrics = f\"sizes/{model_name}_{os.path.basename(dataset_folder)}\"\n",
    "    max_epochs = 100\n",
    "    metric_mae_name = \"mae\"\n",
    "    metric_mae_object = keras.metrics.MeanAbsoluteError(name=metric_mae_name)\n",
    "    metric_mse_name = \"mse\"\n",
    "    metric_mse_object = keras.metrics.MeanSquaredError(name=metric_mse_name)\n",
    "    val_loss_metric_mae_to_stop = -1\n",
    "    val_loss_metric_mse_to_stop = -1\n",
    "    start_learning_rate = 0.01\n",
    "    shuffle_buffer = 300\n",
    "    number_epochs_to_decrease_lr = 10\n",
    "    number_epochs_to_wait = 10\n",
    "else:\n",
    "    batch_size = int(input(\"batch_size = \").strip())\n",
    "    STEPS_PER_EPOCH = total_data_train // batch_size + 1\n",
    "    name_sub_folder_save_metrics = f\"{model_name}_{os.path.basename(dataset_folder)}\"\n",
    "    name_folder_save_metrics = f\"sizes/{model_name}_{os.path.basename(dataset_folder)}\"\n",
    "    max_epochs = int(input(f\"max_epochs = \"))\n",
    "    metric_mae_name = \"mae\"\n",
    "    metric_mae_object = keras.metrics.MeanAbsoluteError(name=metric_mae_name)\n",
    "    metric_mse_name = \"mse\"\n",
    "    metric_mse_object = keras.metrics.MeanSquaredError(name=metric_mse_name)\n",
    "    val_loss_metric_mae_to_stop = float(input(\"val_loss_metric_mae_to_stop = \"))\n",
    "    val_loss_metric_mse_to_stop = float(input(\"val_loss_metric_mse_to_stop = \"))\n",
    "    start_learning_rate = float(input(\"start_learning_rate = \").strip())\n",
    "    shuffle_buffer = 300\n",
    "    number_epochs_to_decrease_lr = int(input(\"number_epochs_to_decrease_lr = \"))\n",
    "    number_epochs_to_wait = int(input(\"number_epochs_to_wait = \"))"
   ]
  },
  {
   "cell_type": "code",
   "execution_count": 68,
   "metadata": {},
   "outputs": [
    {
     "name": "stdout",
     "output_type": "stream",
     "text": [
      "2^1.584962500721156\n",
      "batch_size=3\n",
      "max_epochs=3\n",
      "start_learning_rate=0.01\n",
      "STEPS_PER_EPOCH=839\n",
      "val_loss_metric_mae_to_stop=-1.0\n",
      "val_loss_metric_mse_to_stop=-1.0\n",
      "number_epochs_to_decrease_lr=10\n",
      "number_epochs_to_wait=10\n"
     ]
    }
   ],
   "source": [
    "print(f\"2^{np.log2(batch_size)}\")\n",
    "print(f\"{batch_size=}\")\n",
    "print(f\"{max_epochs=}\")\n",
    "print(f\"{start_learning_rate=}\")\n",
    "print(f\"{STEPS_PER_EPOCH=}\")\n",
    "print(f\"{val_loss_metric_mae_to_stop=}\")\n",
    "print(f\"{val_loss_metric_mse_to_stop=}\")\n",
    "print(f\"{number_epochs_to_decrease_lr=}\")\n",
    "print(f\"{number_epochs_to_wait=}\")"
   ]
  },
  {
   "cell_type": "code",
   "execution_count": 69,
   "metadata": {},
   "outputs": [
    {
     "data": {
      "text/plain": [
       "'cnn_attention'"
      ]
     },
     "execution_count": 69,
     "metadata": {},
     "output_type": "execute_result"
    }
   ],
   "source": [
    "model_name"
   ]
  },
  {
   "cell_type": "code",
   "execution_count": 70,
   "metadata": {},
   "outputs": [
    {
     "data": {
      "text/plain": [
       "(2515, 64)"
      ]
     },
     "execution_count": 70,
     "metadata": {},
     "output_type": "execute_result"
    }
   ],
   "source": [
    "(total_data_train, total_data_test)"
   ]
  },
  {
   "cell_type": "code",
   "execution_count": 71,
   "metadata": {},
   "outputs": [],
   "source": [
    "dataset_train_1 = dataset_train.shuffle(shuffle_buffer)\n",
    "dataset_test_1 = dataset_test.shuffle(shuffle_buffer)\n",
    "\n",
    "dataset_train_2 = dataset_train_1.batch(batch_size)\n",
    "dataset_test_2 = dataset_test_1.batch(batch_size)\n",
    "\n",
    "transform_function = partial(function_transform_origin, days_result)\n",
    "dataset_train_3 = dataset_train_2.map(transform_function)\n",
    "dataset_test_3 = dataset_test_2.map(transform_function)"
   ]
  },
  {
   "cell_type": "code",
   "execution_count": 72,
   "metadata": {},
   "outputs": [],
   "source": [
    "# for item in dataset_test_2:\n",
    "#     print(item[0].shape)\n",
    "#     print(item[1].shape)\n",
    "#     print(item[2].shape)\n",
    "#     print(item[3].shape)\n",
    "#     print(item[4].shape)\n",
    "#     print(item[5].shape)\n",
    "#     print(item[6].shape)\n",
    "    \n",
    "#     item = None\n",
    "#     break"
   ]
  },
  {
   "cell_type": "code",
   "execution_count": 73,
   "metadata": {},
   "outputs": [],
   "source": [
    "\n",
    "# for (\n",
    "#         list_images_30_days,\n",
    "#         list_images_7_days,\n",
    "#         list_images_3_days,\n",
    "#         percent_change_of_open_close_in,\n",
    "#     ), percent_change_of_open_close_out in dataset_train_3:\n",
    "#     print(list_images_30_days.shape)\n",
    "#     print(list_images_7_days.shape)\n",
    "#     print(list_images_3_days.shape)\n",
    "#     print(percent_change_of_open_close_in.shape)\n",
    "#     print(percent_change_of_open_close_out.shape)\n",
    "    \n",
    "#     list_images_30_days = None\n",
    "#     list_images_7_days = None\n",
    "#     list_images_3_days = None\n",
    "#     percent_change_of_open_close_in = None\n",
    "#     percent_change_of_open_close_out = None\n",
    "#     break"
   ]
  },
  {
   "cell_type": "code",
   "execution_count": 74,
   "metadata": {},
   "outputs": [],
   "source": [
    "# for features, labels in dataset_train_3.take(1):\n",
    "#     print(features[0].shape)\n",
    "#     print(features[1].shape)\n",
    "#     print(labels.shape)"
   ]
  },
  {
   "cell_type": "code",
   "execution_count": 75,
   "metadata": {},
   "outputs": [
    {
     "name": "stdout",
     "output_type": "stream",
     "text": [
      "(3, 287, 287, 3)\n",
      "(3, 287, 287, 3)\n",
      "(3, 287, 287, 3)\n",
      "(3, 4, 2)\n",
      "(3, 4, 2)\n"
     ]
    }
   ],
   "source": [
    "for (\n",
    "        list_images_30_days,\n",
    "        list_images_7_days,\n",
    "        list_images_3_days,\n",
    "        percent_change_of_open_close_in,\n",
    "    ), percent_change_of_open_close_out in dataset_test_3.take(1):\n",
    "        print(list_images_30_days.shape)\n",
    "        print(list_images_7_days.shape)\n",
    "        print(list_images_3_days.shape)\n",
    "        print(percent_change_of_open_close_in.shape)\n",
    "        print(percent_change_of_open_close_out.shape)\n",
    "        break"
   ]
  },
  {
   "cell_type": "code",
   "execution_count": 76,
   "metadata": {},
   "outputs": [
    {
     "data": {
      "text/plain": [
       "(839, 22)"
      ]
     },
     "execution_count": 76,
     "metadata": {},
     "output_type": "execute_result"
    }
   ],
   "source": [
    "(len(dataset_train_3), len(dataset_test_3))"
   ]
  },
  {
   "cell_type": "code",
   "execution_count": 77,
   "metadata": {},
   "outputs": [],
   "source": [
    "class StopAtLossValue(keras.callbacks.Callback):\n",
    "    def __init__(self, target_loss, metric_name):\n",
    "        super(StopAtLossValue, self).__init__()\n",
    "        self.target_loss = target_loss\n",
    "        self.metric_name = metric_name\n",
    "\n",
    "    def on_epoch_end(self, epoch, logs=None):\n",
    "        # Lấy giá trị loss từ logs\n",
    "        current_loss = logs.get(f\"val_{self.metric_name}\")\n",
    "        if current_loss is not None and current_loss <= self.target_loss:\n",
    "            print(f\"\\nĐạt target loss = {self.target_loss}, dừng training tại epoch {epoch + 1}\")\n",
    "            self.model.stop_training = True\n",
    "\n",
    "\n",
    "class SaveModelCallback(keras.callbacks.Callback):\n",
    "    def __init__(self, save_path):\n",
    "        super().__init__()\n",
    "        self.save_path = save_path\n",
    "\n",
    "    def on_epoch_end(self, epoch, logs=None):\n",
    "        # Tạo tên file với số epoch\n",
    "        folder_tmp = f\"{self.save_path}/tmp_model\"\n",
    "        file_name = f\"{folder_tmp}/model_tmp_{epoch}.keras\"\n",
    "        self.model.save(file_name)  # Lưu toàn bộ model\n",
    "        \n",
    "\n",
    "class TrackingLossCallback(keras.callbacks.Callback):\n",
    "    def __init__(self, metric_mse_name, metric_mae_name):\n",
    "        super().__init__()\n",
    "        self.list_epochs = []\n",
    "        self.list_val_mse_loss = []\n",
    "        self.list_train_mse_loss = []\n",
    "        self.list_val_mae_loss = []\n",
    "        self.list_train_mae_loss = []\n",
    "        self.metric_mse_name = metric_mse_name\n",
    "        self.metric_mae_name = metric_mae_name\n",
    "        self.val_mse_loss_key = f\"val_{self.metric_mse_name}\"\n",
    "        self.train_mse_loss_key = f\"{self.metric_mse_name}\"\n",
    "        self.val_mae_loss_key = f\"val_{self.metric_mae_name}\"\n",
    "        self.train_mae_loss_key = f\"{self.metric_mae_name}\"\n",
    "\n",
    "    def on_epoch_end(self, epoch, logs=None):\n",
    "        # Tạo tên file với số epoch\n",
    "        self.list_epochs.append(epoch)\n",
    "        self.list_val_mse_loss.append(logs.get(self.val_mse_loss_key))\n",
    "        self.list_train_mse_loss.append(logs.get(self.train_mse_loss_key))\n",
    "        self.list_val_mae_loss.append(logs.get(self.val_mae_loss_key))\n",
    "        self.list_train_mae_loss.append(logs.get(self.train_mae_loss_key))\n",
    "    \n",
    "    def get_df_result(self):\n",
    "        df = pd.DataFrame({\n",
    "            \"epoch\": self.list_epochs,\n",
    "            self.val_mse_loss_key: self.list_val_mse_loss,\n",
    "            self.train_mse_loss_key: self.list_train_mse_loss,\n",
    "            self.val_mae_loss_key: self.list_val_mae_loss,\n",
    "            self.train_mae_loss_key: self.list_train_mae_loss,\n",
    "        })\n",
    "        df.sort_values(self.val_mse_loss_key, inplace=True)\n",
    "        return df"
   ]
  },
  {
   "cell_type": "code",
   "execution_count": 78,
   "metadata": {},
   "outputs": [],
   "source": [
    "def get_optimizer(start_learning_rate, number_epochs_to_decrease_lr):\n",
    "    lr_schedule = keras.optimizers.schedules.InverseTimeDecay(\n",
    "        start_learning_rate,\n",
    "        decay_steps=STEPS_PER_EPOCH*number_epochs_to_decrease_lr,\n",
    "        decay_rate=1,\n",
    "        staircase=False\n",
    "    )\n",
    "    \n",
    "    return keras.optimizers.Adam(lr_schedule)\n",
    "\n",
    "tracking_loss_callback = TrackingLossCallback(metric_mse_name, metric_mae_name)\n",
    "def get_callbacks(name, metric_name, number_epochs_to_wait):\n",
    "    return [\n",
    "        tfdocs.modeling.EpochDots(),\n",
    "        StopAtLossValue(val_loss_metric_mae_to_stop, metric_mae_name),\n",
    "        StopAtLossValue(val_loss_metric_mse_to_stop, metric_mse_name),\n",
    "        SaveModelCallback(dataset_folder),\n",
    "        tracking_loss_callback,\n",
    "        keras.callbacks.EarlyStopping(monitor=f'val_loss', patience=number_epochs_to_wait),\n",
    "        keras.callbacks.TensorBoard(logdir/name)\n",
    "    ]\n",
    "  \n",
    "  \n",
    "model.compile(\n",
    "    loss=keras.losses.MeanSquaredError(),\n",
    "    optimizer=get_optimizer(start_learning_rate, number_epochs_to_decrease_lr),\n",
    "    metrics=[\n",
    "        metric_mae_object,\n",
    "        metric_mse_object\n",
    "    ],\n",
    ")\n"
   ]
  },
  {
   "cell_type": "code",
   "execution_count": 79,
   "metadata": {},
   "outputs": [],
   "source": [
    "# # Ví dụ\n",
    "# all_models_folder_path = os.path.join(os.path.abspath(dataset_folder), \"model_save\")\n",
    "# evaluate_all_models_in_dataset_folder(\n",
    "#     all_models_folder_path, \n",
    "#     dataset_test_2,\n",
    "#     days_result\n",
    "# )"
   ]
  },
  {
   "cell_type": "code",
   "execution_count": 80,
   "metadata": {},
   "outputs": [],
   "source": [
    "# # Ví dụ\n",
    "# all_models_folder_path = os.path.join(os.path.abspath(dataset_folder), \"model_save\")\n",
    "# evaluate_all_models_in_dataset_folder(\n",
    "#     all_models_folder_path, \n",
    "#     dataset_test_2,\n",
    "#     days_result\n",
    "# )"
   ]
  },
  {
   "cell_type": "code",
   "execution_count": 81,
   "metadata": {},
   "outputs": [
    {
     "data": {
      "text/html": [
       "<pre style=\"white-space:pre;overflow-x:auto;line-height:normal;font-family:Menlo,'DejaVu Sans Mono',consolas,'Courier New',monospace\"><span style=\"font-weight: bold\">Model: \"cnn_attention_1\"</span>\n",
       "</pre>\n"
      ],
      "text/plain": [
       "\u001b[1mModel: \"cnn_attention_1\"\u001b[0m\n"
      ]
     },
     "metadata": {},
     "output_type": "display_data"
    },
    {
     "data": {
      "text/html": [
       "<pre style=\"white-space:pre;overflow-x:auto;line-height:normal;font-family:Menlo,'DejaVu Sans Mono',consolas,'Courier New',monospace\">┏━━━━━━━━━━━━━━━━━━━━━━━━━━━━━━━━━┳━━━━━━━━━━━━━━━━━━━━━━━━┳━━━━━━━━━━━━━━━┓\n",
       "┃<span style=\"font-weight: bold\"> Layer (type)                    </span>┃<span style=\"font-weight: bold\"> Output Shape           </span>┃<span style=\"font-weight: bold\">       Param # </span>┃\n",
       "┡━━━━━━━━━━━━━━━━━━━━━━━━━━━━━━━━━╇━━━━━━━━━━━━━━━━━━━━━━━━╇━━━━━━━━━━━━━━━┩\n",
       "│ cnn_encoder_2 (<span style=\"color: #0087ff; text-decoration-color: #0087ff\">CNNEncoder</span>)      │ ?                      │   <span style=\"color: #00af00; text-decoration-color: #00af00\">0</span> (unbuilt) │\n",
       "├─────────────────────────────────┼────────────────────────┼───────────────┤\n",
       "│ decoder_2 (<span style=\"color: #0087ff; text-decoration-color: #0087ff\">Decoder</span>)             │ ?                      │   <span style=\"color: #00af00; text-decoration-color: #00af00\">0</span> (unbuilt) │\n",
       "└─────────────────────────────────┴────────────────────────┴───────────────┘\n",
       "</pre>\n"
      ],
      "text/plain": [
       "┏━━━━━━━━━━━━━━━━━━━━━━━━━━━━━━━━━┳━━━━━━━━━━━━━━━━━━━━━━━━┳━━━━━━━━━━━━━━━┓\n",
       "┃\u001b[1m \u001b[0m\u001b[1mLayer (type)                   \u001b[0m\u001b[1m \u001b[0m┃\u001b[1m \u001b[0m\u001b[1mOutput Shape          \u001b[0m\u001b[1m \u001b[0m┃\u001b[1m \u001b[0m\u001b[1m      Param #\u001b[0m\u001b[1m \u001b[0m┃\n",
       "┡━━━━━━━━━━━━━━━━━━━━━━━━━━━━━━━━━╇━━━━━━━━━━━━━━━━━━━━━━━━╇━━━━━━━━━━━━━━━┩\n",
       "│ cnn_encoder_2 (\u001b[38;5;33mCNNEncoder\u001b[0m)      │ ?                      │   \u001b[38;5;34m0\u001b[0m (unbuilt) │\n",
       "├─────────────────────────────────┼────────────────────────┼───────────────┤\n",
       "│ decoder_2 (\u001b[38;5;33mDecoder\u001b[0m)             │ ?                      │   \u001b[38;5;34m0\u001b[0m (unbuilt) │\n",
       "└─────────────────────────────────┴────────────────────────┴───────────────┘\n"
      ]
     },
     "metadata": {},
     "output_type": "display_data"
    },
    {
     "data": {
      "text/html": [
       "<pre style=\"white-space:pre;overflow-x:auto;line-height:normal;font-family:Menlo,'DejaVu Sans Mono',consolas,'Courier New',monospace\"><span style=\"font-weight: bold\"> Total params: </span><span style=\"color: #00af00; text-decoration-color: #00af00\">0</span> (0.00 B)\n",
       "</pre>\n"
      ],
      "text/plain": [
       "\u001b[1m Total params: \u001b[0m\u001b[38;5;34m0\u001b[0m (0.00 B)\n"
      ]
     },
     "metadata": {},
     "output_type": "display_data"
    },
    {
     "data": {
      "text/html": [
       "<pre style=\"white-space:pre;overflow-x:auto;line-height:normal;font-family:Menlo,'DejaVu Sans Mono',consolas,'Courier New',monospace\"><span style=\"font-weight: bold\"> Trainable params: </span><span style=\"color: #00af00; text-decoration-color: #00af00\">0</span> (0.00 B)\n",
       "</pre>\n"
      ],
      "text/plain": [
       "\u001b[1m Trainable params: \u001b[0m\u001b[38;5;34m0\u001b[0m (0.00 B)\n"
      ]
     },
     "metadata": {},
     "output_type": "display_data"
    },
    {
     "data": {
      "text/html": [
       "<pre style=\"white-space:pre;overflow-x:auto;line-height:normal;font-family:Menlo,'DejaVu Sans Mono',consolas,'Courier New',monospace\"><span style=\"font-weight: bold\"> Non-trainable params: </span><span style=\"color: #00af00; text-decoration-color: #00af00\">0</span> (0.00 B)\n",
       "</pre>\n"
      ],
      "text/plain": [
       "\u001b[1m Non-trainable params: \u001b[0m\u001b[38;5;34m0\u001b[0m (0.00 B)\n"
      ]
     },
     "metadata": {},
     "output_type": "display_data"
    }
   ],
   "source": [
    "model.summary()"
   ]
  },
  {
   "cell_type": "code",
   "execution_count": 82,
   "metadata": {},
   "outputs": [],
   "source": [
    "encoder_output, last_state = model.encoder({\n",
    "    \"list_images_30_days\": list_images_30_days,\n",
    "    \"list_images_7_days\": list_images_7_days,\n",
    "    \"list_images_3_days\": list_images_3_days,\n",
    "})"
   ]
  },
  {
   "cell_type": "code",
   "execution_count": 83,
   "metadata": {},
   "outputs": [
    {
     "data": {
      "text/plain": [
       "TensorShape([3, 2, 128])"
      ]
     },
     "execution_count": 83,
     "metadata": {},
     "output_type": "execute_result"
    }
   ],
   "source": [
    "encoder_output.shape"
   ]
  },
  {
   "cell_type": "code",
   "execution_count": 84,
   "metadata": {},
   "outputs": [
    {
     "data": {
      "text/plain": [
       "TensorShape([3, 128])"
      ]
     },
     "execution_count": 84,
     "metadata": {},
     "output_type": "execute_result"
    }
   ],
   "source": [
    "last_state.shape"
   ]
  },
  {
   "cell_type": "code",
   "execution_count": 85,
   "metadata": {},
   "outputs": [],
   "source": [
    "decoder_output, last_state = model.decoder(encoder_output, percent_change_of_open_close_in, last_state)"
   ]
  },
  {
   "cell_type": "code",
   "execution_count": 86,
   "metadata": {},
   "outputs": [
    {
     "data": {
      "text/plain": [
       "TensorShape([3, 4, 2])"
      ]
     },
     "execution_count": 86,
     "metadata": {},
     "output_type": "execute_result"
    }
   ],
   "source": [
    "decoder_output.shape"
   ]
  },
  {
   "cell_type": "code",
   "execution_count": 87,
   "metadata": {},
   "outputs": [
    {
     "data": {
      "text/plain": [
       "TensorShape([3, 128])"
      ]
     },
     "execution_count": 87,
     "metadata": {},
     "output_type": "execute_result"
    }
   ],
   "source": [
    "last_state.shape"
   ]
  },
  {
   "cell_type": "code",
   "execution_count": 88,
   "metadata": {},
   "outputs": [
    {
     "data": {
      "text/plain": [
       "<tf.Tensor: shape=(3, 4, 2), dtype=float32, numpy=\n",
       "array([[[-2.7158315 ,  0.7454988 ],\n",
       "        [-2.964531  ,  0.8110235 ],\n",
       "        [-1.8570753 ,  0.33938158],\n",
       "        [-1.4873322 ,  0.38197994]],\n",
       "\n",
       "       [[ 0.21059568, -0.26418126],\n",
       "        [-0.72793615,  0.01992054],\n",
       "        [-2.2738156 ,  0.4588189 ],\n",
       "        [-1.225419  ,  0.00330043]],\n",
       "\n",
       "       [[ 1.09746   , -0.28865194],\n",
       "        [ 0.70654833, -0.09101695],\n",
       "        [ 0.36520863,  0.08364975],\n",
       "        [-0.7433624 ,  0.26725197]]], dtype=float32)>"
      ]
     },
     "execution_count": 88,
     "metadata": {},
     "output_type": "execute_result"
    }
   ],
   "source": [
    "decoder_output"
   ]
  },
  {
   "cell_type": "code",
   "execution_count": 89,
   "metadata": {},
   "outputs": [
    {
     "data": {
      "text/plain": [
       "<tf.Tensor: shape=(3, 4, 2), dtype=float32, numpy=\n",
       "array([[[ 4.8105097 ,  0.22663566],\n",
       "        [10.297076  ,  4.8105097 ],\n",
       "        [ 0.        ,  9.431123  ],\n",
       "        [ 1.9483926 ,  0.        ]],\n",
       "\n",
       "       [[ 0.        ,  0.5189159 ],\n",
       "        [ 0.8611495 ,  0.        ],\n",
       "        [ 4.068614  ,  1.3853297 ],\n",
       "        [ 0.        ,  3.20082   ]],\n",
       "\n",
       "       [[-1.132419  , -0.17448169],\n",
       "        [-0.17448169, -0.86306614],\n",
       "        [-0.86306614, -1.3463886 ],\n",
       "        [ 0.8665814 ,  0.        ]]], dtype=float32)>"
      ]
     },
     "execution_count": 89,
     "metadata": {},
     "output_type": "execute_result"
    }
   ],
   "source": [
    "percent_change_of_open_close_out"
   ]
  },
  {
   "cell_type": "code",
   "execution_count": 90,
   "metadata": {},
   "outputs": [
    {
     "data": {
      "text/plain": [
       "<tf.Tensor: shape=(), dtype=float32, numpy=17.308678>"
      ]
     },
     "execution_count": 90,
     "metadata": {},
     "output_type": "execute_result"
    }
   ],
   "source": [
    "loss = keras.losses.MeanSquaredError()\n",
    "loss(percent_change_of_open_close_out, decoder_output)"
   ]
  },
  {
   "cell_type": "code",
   "execution_count": 91,
   "metadata": {},
   "outputs": [
    {
     "name": "stdout",
     "output_type": "stream",
     "text": [
      "Epoch 1/3\n",
      "\u001b[1m839/839\u001b[0m \u001b[32m━━━━━━━━━━━━━━━━━━━━\u001b[0m\u001b[37m\u001b[0m \u001b[1m0s\u001b[0m 74ms/step - loss: 9.5387 - mae: 1.9249 - mse: 9.5387\n",
      "Epoch: 0, loss:9.8687,  mae:1.8953,  mse:9.8687,  val_loss:5.7117,  val_mae:1.4590,  val_mse:5.7117,  \n",
      "\u001b[1m839/839\u001b[0m \u001b[32m━━━━━━━━━━━━━━━━━━━━\u001b[0m\u001b[37m\u001b[0m \u001b[1m80s\u001b[0m 78ms/step - loss: 9.5390 - mae: 1.9248 - mse: 9.5390 - val_loss: 5.7117 - val_mae: 1.4590 - val_mse: 5.7117\n",
      "Epoch 2/3\n"
     ]
    },
    {
     "name": "stderr",
     "output_type": "stream",
     "text": [
      "2024-12-15 07:05:28.654849: I tensorflow/core/framework/local_rendezvous.cc:404] Local rendezvous is aborting with status: OUT_OF_RANGE: End of sequence\n",
      "\t [[{{node IteratorGetNext}}]]\n",
      "\t [[IteratorGetNext/_16]]\n",
      "/usr/local/lib/python3.9/contextlib.py:137: UserWarning: Your input ran out of data; interrupting training. Make sure that your dataset or generator can generate at least `steps_per_epoch * epochs` batches. You may need to use the `.repeat()` function when building your dataset.\n",
      "  self.gen.throw(typ, value, traceback)\n"
     ]
    },
    {
     "name": "stdout",
     "output_type": "stream",
     "text": [
      "\u001b[1m839/839\u001b[0m \u001b[32m━━━━━━━━━━━━━━━━━━━━\u001b[0m\u001b[37m\u001b[0m \u001b[1m3s\u001b[0m 4ms/step - loss: 0.0000e+00 - mae: 0.0000e+00 - mse: 0.0000e+00 - val_loss: 5.7117 - val_mae: 1.4590 - val_mse: 5.7117\n",
      "Epoch 3/3\n",
      "\u001b[1m839/839\u001b[0m \u001b[32m━━━━━━━━━━━━━━━━━━━━\u001b[0m\u001b[37m\u001b[0m \u001b[1m71s\u001b[0m 79ms/step - loss: 9.2521 - mae: 1.7468 - mse: 9.2521 - val_loss: 5.5825 - val_mae: 1.4572 - val_mse: 5.5825\n"
     ]
    }
   ],
   "source": [
    "is_start_train = input(\"Start train? (y/n): \").lower()[0] == \"y\"\n",
    "folder_tmp = f\"{dataset_folder}/tmp_model\"\n",
    "if is_start_train:\n",
    "    os.makedirs(folder_tmp, exist_ok=False)\n",
    "    history = model.fit(\n",
    "        dataset_train_3, \n",
    "        validation_data=dataset_test_3,\n",
    "        epochs=max_epochs, \n",
    "        steps_per_epoch=STEPS_PER_EPOCH,\n",
    "        callbacks=get_callbacks(name_folder_save_metrics, metric_mse_name, number_epochs_to_wait)\n",
    "    )"
   ]
  },
  {
   "cell_type": "code",
   "execution_count": 92,
   "metadata": {},
   "outputs": [],
   "source": [
    "# reloaded = tf.saved_model.load(f'{dataset_folder}/cnn_attention')\n",
    "\n",
    "# reloaded.predict_next_3_days_prices(\n",
    "    \n",
    "#     tf.cast(list_images_7_days, dtype=tf.float64),\n",
    "#     tf.cast(list_images_3_days, dtype=tf.float64),\n",
    "#     tf.cast(percent_change_of_open_close_start, dtype=tf.float64)\n",
    "    \n",
    "# )"
   ]
  },
  {
   "cell_type": "code",
   "execution_count": 93,
   "metadata": {},
   "outputs": [],
   "source": [
    "def get_folder_path_to_save_model(model_name):\n",
    "    new_model_name = model_name\n",
    "    path_save = f\"{dataset_folder}/model_save/{new_model_name}\"\n",
    "    while os.path.exists(path_save):\n",
    "        print(f\"-- {path_save} already exists\")\n",
    "        random_index = random.randint(0, 100)\n",
    "        new_model_name = new_model_name + f\"_{random_index}\"\n",
    "        path_save = f\"{dataset_folder}/model_save/{new_model_name}\"\n",
    "        print(f\"-- Change to {path_save}\")\n",
    "    os.makedirs(path_save, exist_ok=False)\n",
    "    return path_save, new_model_name "
   ]
  },
  {
   "cell_type": "code",
   "execution_count": 94,
   "metadata": {},
   "outputs": [],
   "source": [
    "def save_model(model: keras.Sequential, folder_path, new_model_name):\n",
    "    path_save = f\"{folder_path}/{new_model_name}.keras\"\n",
    "    abspath_save = os.path.abspath(path_save)\n",
    "    model.save(abspath_save)\n",
    "    return path_save"
   ]
  },
  {
   "cell_type": "code",
   "execution_count": 95,
   "metadata": {},
   "outputs": [],
   "source": [
    "def save_model_and_config(model: keras.Sequential, epoch):\n",
    "    folder_path, new_model_name = get_folder_path_to_save_model(f\"{model_name}_epoch_{epoch}\")\n",
    "    model_name_saved = save_model(model, folder_path, new_model_name)\n",
    "    loss = model.evaluate(dataset_test_3)\n",
    "    config_and_loss = {\n",
    "        \"config\": {\n",
    "            \"batch_size\": batch_size,\n",
    "            \"STEPS_PER_EPOCH\": STEPS_PER_EPOCH,\n",
    "            \"name_sub_folder_save_metrics\": name_sub_folder_save_metrics,\n",
    "            \"name_folder_save_metrics\": name_folder_save_metrics,\n",
    "            \"max_epochs\": max_epochs,\n",
    "            \"val_loss_metric_mae_to_stop\": val_loss_metric_mae_to_stop,\n",
    "            \"val_loss_metric_mse_to_stop\": val_loss_metric_mse_to_stop,\n",
    "            \"start_learning_rate\": start_learning_rate,\n",
    "            \"shuffle_buffer\": shuffle_buffer,\n",
    "            \"number_epochs_to_decrease_lr\": number_epochs_to_decrease_lr,\n",
    "            \"number_epochs_to_wait\": number_epochs_to_wait,\n",
    "            \"model_function\": function_transform_origin.__name__,\n",
    "            \"time_created\": str(datetime.now()),\n",
    "            \"epoch\": epoch\n",
    "        },\n",
    "        \"loss\": {\n",
    "            \"val_mse_loss\": loss[0],\n",
    "            \"val_mae_loss\": loss[1],\n",
    "        }\n",
    "    }\n",
    "    with open(f\"{folder_path}/config_and_loss.json\", \"w\") as file:\n",
    "        json.dump(config_and_loss, file, indent=2)\n",
    "        \n",
    "    with open(\"./attention_model.py\", \"r\") as file_code:\n",
    "        code_str = file_code.read()\n",
    "    \n",
    "    with open(f\"{folder_path}/model_function_code.py\", \"w\", encoding=\"utf8\") as file:\n",
    "        file.write(code_str)\n",
    "    \n",
    "    return new_model_name"
   ]
  },
  {
   "cell_type": "code",
   "execution_count": 96,
   "metadata": {},
   "outputs": [],
   "source": [
    "list_name_models = []\n",
    "list_models = []\n",
    "df_result = tracking_loss_callback.get_df_result()"
   ]
  },
  {
   "cell_type": "code",
   "execution_count": 97,
   "metadata": {},
   "outputs": [
    {
     "data": {
      "text/html": [
       "<div>\n",
       "<style scoped>\n",
       "    .dataframe tbody tr th:only-of-type {\n",
       "        vertical-align: middle;\n",
       "    }\n",
       "\n",
       "    .dataframe tbody tr th {\n",
       "        vertical-align: top;\n",
       "    }\n",
       "\n",
       "    .dataframe thead th {\n",
       "        text-align: right;\n",
       "    }\n",
       "</style>\n",
       "<table border=\"1\" class=\"dataframe\">\n",
       "  <thead>\n",
       "    <tr style=\"text-align: right;\">\n",
       "      <th></th>\n",
       "      <th>epoch</th>\n",
       "      <th>val_mse</th>\n",
       "      <th>mse</th>\n",
       "      <th>val_mae</th>\n",
       "      <th>mae</th>\n",
       "    </tr>\n",
       "  </thead>\n",
       "  <tbody>\n",
       "    <tr>\n",
       "      <th>2</th>\n",
       "      <td>2</td>\n",
       "      <td>5.582462</td>\n",
       "      <td>10.129103</td>\n",
       "      <td>1.457167</td>\n",
       "      <td>1.827435</td>\n",
       "    </tr>\n",
       "    <tr>\n",
       "      <th>0</th>\n",
       "      <td>0</td>\n",
       "      <td>5.711746</td>\n",
       "      <td>9.868653</td>\n",
       "      <td>1.458955</td>\n",
       "      <td>1.895273</td>\n",
       "    </tr>\n",
       "    <tr>\n",
       "      <th>1</th>\n",
       "      <td>1</td>\n",
       "      <td>5.711746</td>\n",
       "      <td>0.000000</td>\n",
       "      <td>1.458955</td>\n",
       "      <td>0.000000</td>\n",
       "    </tr>\n",
       "  </tbody>\n",
       "</table>\n",
       "</div>"
      ],
      "text/plain": [
       "   epoch   val_mse        mse   val_mae       mae\n",
       "2      2  5.582462  10.129103  1.457167  1.827435\n",
       "0      0  5.711746   9.868653  1.458955  1.895273\n",
       "1      1  5.711746   0.000000  1.458955  0.000000"
      ]
     },
     "execution_count": 97,
     "metadata": {},
     "output_type": "execute_result"
    }
   ],
   "source": [
    "df_result"
   ]
  },
  {
   "cell_type": "code",
   "execution_count": 98,
   "metadata": {},
   "outputs": [],
   "source": [
    "if len(df_result) > 0:\n",
    "    now = datetime.now()\n",
    "    result = now.strftime(\"%Y-%m-%d %H:%M:%S\")\n",
    "    os.makedirs(f\"{dataset_folder}/loss_train\", exist_ok=True)\n",
    "    df_result.sort_values(\"epoch\").to_excel(f\"{dataset_folder}/loss_train/{result}.xlsx\", index=False)"
   ]
  },
  {
   "cell_type": "code",
   "execution_count": 99,
   "metadata": {},
   "outputs": [
    {
     "name": "stdout",
     "output_type": "stream",
     "text": [
      "Save model_tmp_2.keras\n",
      "-- ../dataset/btc_with_three_image_ema_macd/model_save/cnn_attention_epoch_2 already exists\n",
      "-- Change to ../dataset/btc_with_three_image_ema_macd/model_save/cnn_attention_epoch_2_0\n",
      "\u001b[1m22/22\u001b[0m \u001b[32m━━━━━━━━━━━━━━━━━━━━\u001b[0m\u001b[37m\u001b[0m \u001b[1m1s\u001b[0m 16ms/step - loss: 6.3486 - mae: 1.5226 - mse: 6.3486\n"
     ]
    }
   ],
   "source": [
    "if input(\"save model? (y/n): \").lower()[0] == \"y\":\n",
    "    is_save_model_from_tmp = input(\"Save model from tmp file? (y/n): \").lower()[0] == \"y\"\n",
    "    \n",
    "    if is_save_model_from_tmp:\n",
    "        while True and os.path.exists(folder_tmp):\n",
    "            epoch = input(f\"Epoch = (s for stop)\")\n",
    "            if not str.isdigit(epoch):\n",
    "                break\n",
    "            else:\n",
    "                epoch = int(epoch)\n",
    "            \n",
    "            model_tmp_name = f\"model_tmp_{epoch}.keras\"\n",
    "            print(f\"Save {model_tmp_name}\")\n",
    "            model_tmp_path = f\"{folder_tmp}/{model_tmp_name}\"\n",
    "            if not os.path.exists(model_tmp_path):\n",
    "                print(f\"model {model_tmp_path} does not exist.\")\n",
    "                continue\n",
    "            \n",
    "            try:\n",
    "                model_tmp = keras.models.load_model(model_tmp_path)\n",
    "                name_model_tmp_saved = save_model_and_config(model_tmp, epoch)\n",
    "                list_name_models.append(name_model_tmp_saved)\n",
    "                list_models.append(model_tmp)\n",
    "            except Exception as err:\n",
    "                print(f\"Error: {err}\")\n",
    "                continue\n",
    "    \n",
    "    is_save_last_model = input(\"Save last model? (y/n): \").lower()[0] == \"y\"\n",
    "    if is_save_last_model:\n",
    "        name_last_model_saved = save_model_and_config(model, \"last\")\n",
    "        list_name_models.append(name_last_model_saved)\n",
    "        list_models.append(model)\n",
    "\n",
    "is_delete_tmp_model_folder = input(\"Delete model tmp folder? (y/n): \").lower()[0] == \"y\"\n",
    "if is_delete_tmp_model_folder:\n",
    "    if os.path.exists(folder_tmp):\n",
    "        shutil.rmtree(folder_tmp)\n",
    "    else:\n",
    "        print(f\"{folder_tmp} does not exist.\")\n",
    "    "
   ]
  },
  {
   "cell_type": "code",
   "execution_count": 100,
   "metadata": {},
   "outputs": [
    {
     "name": "stdout",
     "output_type": "stream",
     "text": [
      "\u001b[1m22/22\u001b[0m \u001b[32m━━━━━━━━━━━━━━━━━━━━\u001b[0m\u001b[37m\u001b[0m \u001b[1m1s\u001b[0m 21ms/step - loss: 4.9886 - mae: 1.3772 - mse: 4.9886\n",
      "cnn_attention_epoch_2_0: [5.582462787628174, 1.4571666717529297, 5.582462787628174]\n"
     ]
    }
   ],
   "source": [
    "for model_loaded, model_name_loaded in zip(list_models, list_name_models):\n",
    "    loss = model_loaded.evaluate(dataset_test_3)\n",
    "    print(f\"{model_name_loaded}: {loss}\")"
   ]
  },
  {
   "cell_type": "code",
   "execution_count": 101,
   "metadata": {},
   "outputs": [],
   "source": [
    "# size_histories = {}\n",
    "# size_histories[name_sub_folder_save_metrics] = history "
   ]
  },
  {
   "cell_type": "code",
   "execution_count": 102,
   "metadata": {},
   "outputs": [],
   "source": [
    "def draw_line(df_result, list_keys, list_labels, title=None):\n",
    "    if len(df_result) == 0:\n",
    "        return\n",
    "    \n",
    "    list_epochs = df_result[\"epoch\"]\n",
    "    \n",
    "    is_need_scale = len(list_keys) == 1\n",
    "    \n",
    "    for key, label in zip(list_keys, list_labels):\n",
    "        list_values = df_result[key]\n",
    "        \n",
    "        marker = None\n",
    "        if is_need_scale:\n",
    "            marker = \"o\"\n",
    "        plt.plot(list_epochs, list_values, label=label, marker=marker)\n",
    "        \n",
    "    if is_need_scale:\n",
    "        min_loss = df_result[list_keys[0]].min()\n",
    "        max_loss = df_result[list_keys[0]].max()\n",
    "        scale = (max_loss - min_loss) / 100\n",
    "        plt.ylim([min_loss - scale, max_loss + scale])\n",
    "    \n",
    "    plt.title(title)\n",
    "    plt.xlabel('Epoch')  # Nhãn trục X\n",
    "    plt.ylabel('Giá trị mất mát')  # Nhãn trục Y\n",
    "    plt.axhline(0, color='black', linewidth=0.5)  # Trục ngang\n",
    "    plt.axvline(0, color='black', linewidth=0.5)  # Trục dọc\n",
    "    plt.grid(True, linestyle='--', alpha=0.5)  # Thêm lưới\n",
    "    plt.legend()  # Hiển thị chú thích\n",
    "    plt.show()\n",
    "\n",
    "    \n",
    "df_result_to_draw = df_result.sort_values(\"epoch\", ascending=False)"
   ]
  },
  {
   "cell_type": "code",
   "execution_count": 103,
   "metadata": {},
   "outputs": [
    {
     "data": {
      "image/png": "[encoded data removed]",
      "text/plain": [
       "<Figure size 640x480 with 1 Axes>"
      ]
     },
     "metadata": {},
     "output_type": "display_data"
    }
   ],
   "source": [
    "draw_line(\n",
    "    df_result=df_result_to_draw,\n",
    "    list_keys=[\n",
    "        # tracking_loss_callback.train_mse_loss_key,\n",
    "        tracking_loss_callback.val_mse_loss_key,\n",
    "    ],\n",
    "    list_labels=[\n",
    "        # \"Train MSE\",\n",
    "        \"Val MSE\",\n",
    "    ],\n",
    "    title=f\"{symbol.upper()}\"\n",
    ")"
   ]
  },
  {
   "cell_type": "code",
   "execution_count": 104,
   "metadata": {},
   "outputs": [
    {
     "data": {
      "image/png": "[encoded data removed]",
      "text/plain": [
       "<Figure size 640x480 with 1 Axes>"
      ]
     },
     "metadata": {},
     "output_type": "display_data"
    }
   ],
   "source": [
    "draw_line(\n",
    "    df_result=df_result_to_draw,\n",
    "    list_keys=[\n",
    "        tracking_loss_callback.train_mse_loss_key,\n",
    "        # tracking_loss_callback.val_mse_loss_key,\n",
    "    ],\n",
    "    list_labels=[\n",
    "        \"Train MSE\",\n",
    "        # \"Val MSE\",\n",
    "    ],\n",
    "    title=f\"{symbol.upper()}\"\n",
    ")"
   ]
  },
  {
   "cell_type": "code",
   "execution_count": 105,
   "metadata": {},
   "outputs": [
    {
     "data": {
      "image/png": "[encoded data removed]",
      "text/plain": [
       "<Figure size 640x480 with 1 Axes>"
      ]
     },
     "metadata": {},
     "output_type": "display_data"
    }
   ],
   "source": [
    "draw_line(\n",
    "    df_result=df_result_to_draw,\n",
    "    list_keys=[\n",
    "        # tracking_loss_callback.train_mae_loss_key,\n",
    "        tracking_loss_callback.val_mae_loss_key,\n",
    "    ],\n",
    "    list_labels=[\n",
    "        # \"Train MAE\",\n",
    "        \"Val MAE\",\n",
    "    ],\n",
    "    title=f\"{symbol.upper()}\"\n",
    ")"
   ]
  },
  {
   "cell_type": "code",
   "execution_count": 106,
   "metadata": {},
   "outputs": [
    {
     "data": {
      "image/png": "[encoded data removed]",
      "text/plain": [
       "<Figure size 640x480 with 1 Axes>"
      ]
     },
     "metadata": {},
     "output_type": "display_data"
    }
   ],
   "source": [
    "draw_line(\n",
    "    df_result=df_result_to_draw,\n",
    "    list_keys=[\n",
    "        tracking_loss_callback.train_mae_loss_key,\n",
    "        # tracking_loss_callback.val_mae_loss_key,\n",
    "    ],\n",
    "    list_labels=[\n",
    "        \"Train MAE\",\n",
    "        # \"Val MAE\",\n",
    "    ],\n",
    "    title=f\"{symbol.upper()}\"\n",
    ")"
   ]
  },
  {
   "cell_type": "code",
   "execution_count": 107,
   "metadata": {},
   "outputs": [
    {
     "data": {
      "text/plain": [
       "['cnn_attention_epoch_2_0']"
      ]
     },
     "execution_count": 107,
     "metadata": {},
     "output_type": "execute_result"
    }
   ],
   "source": [
    "list_name_models"
   ]
  },
  {
   "cell_type": "code",
   "execution_count": 108,
   "metadata": {},
   "outputs": [
    {
     "data": {
      "text/plain": [
       "'../dataset/btc_with_three_image_ema_macd'"
      ]
     },
     "execution_count": 108,
     "metadata": {},
     "output_type": "execute_result"
    }
   ],
   "source": [
    "dataset_folder"
   ]
  }
 ],
 "metadata": {
  "kernelspec": {
   "display_name": ".venv",
   "language": "python",
   "name": "python3"
  },
  "language_info": {
   "codemirror_mode": {
    "name": "ipython",
    "version": 3
   },
   "file_extension": ".py",
   "mimetype": "text/x-python",
   "name": "python",
   "nbconvert_exporter": "python",
   "pygments_lexer": "ipython3",
   "version": "3.9.7"
  }
 },
 "nbformat": 4,
 "nbformat_minor": 2
}
