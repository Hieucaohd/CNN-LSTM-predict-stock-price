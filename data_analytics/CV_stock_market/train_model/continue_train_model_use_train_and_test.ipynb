{
 "cells": [
  {
   "cell_type": "code",
   "execution_count": 1,
   "metadata": {},
   "outputs": [],
   "source": [
    "import sys\n",
    "sys.path.append(\"../\")"
   ]
  },
  {
   "cell_type": "code",
   "execution_count": 2,
   "metadata": {},
   "outputs": [],
   "source": [
    "from utils.common_train_utils import *\n",
    "from utils.draw_candle_image import *\n",
    "from utils.evaluate_old_models import *\n",
    "from functools import partial\n",
    "from model_code import *\n",
    "from ta import add_all_ta_features\n",
    "from ta.utils import dropna\n",
    "import json\n",
    "import keras\n",
    "import matplotlib.pyplot as plt\n",
    "import numpy as np\n",
    "import os\n",
    "import pandas as pd\n",
    "import pathlib\n",
    "import shutil\n",
    "import ta\n",
    "import ta.momentum\n",
    "import ta.trend\n",
    "import tempfile\n",
    "import tensorflow as tf\n",
    "import tensorflow_docs as tfdocs\n",
    "import tensorflow_docs.modeling\n",
    "import tensorflow_docs.plots\n",
    "import inspect"
   ]
  },
  {
   "cell_type": "code",
   "execution_count": 3,
   "metadata": {},
   "outputs": [],
   "source": [
    "logdir = pathlib.Path(tempfile.mkdtemp())/\"tensorboard_logs\"\n",
    "shutil.rmtree(logdir, ignore_errors=True)"
   ]
  },
  {
   "cell_type": "code",
   "execution_count": 4,
   "metadata": {},
   "outputs": [
    {
     "name": "stdout",
     "output_type": "stream",
     "text": [
      "C:\\Users\\ADMIN\\AppData\\Local\\Temp\\tmp2l0qqod8\\tensorboard_logs\n"
     ]
    }
   ],
   "source": [
    "print(logdir)"
   ]
  },
  {
   "cell_type": "code",
   "execution_count": 5,
   "metadata": {},
   "outputs": [],
   "source": [
    "dataset_folder = \"../dataset/tcb_dataset_0_2_3_2018_2024_test_2024_2024_with_ema_macd_trend\""
   ]
  },
  {
   "cell_type": "code",
   "execution_count": 6,
   "metadata": {},
   "outputs": [],
   "source": [
    "config = read_config(dataset_folder)\n",
    "candle_type_and_directory_save: dict = config[\"candle_type_and_directory_save\"]\n",
    "previous_days = config[\"previous_days\"]\n",
    "next_days = config[\"next_days\"]\n",
    "days_result = config[\"days_result\"]"
   ]
  },
  {
   "cell_type": "code",
   "execution_count": 7,
   "metadata": {},
   "outputs": [],
   "source": [
    "dataset_test = load_dataset_of_each_type_and_combine(f\"{dataset_folder}/test\", candle_type_and_directory_save)\n",
    "total_data_test = len(dataset_test)"
   ]
  },
  {
   "cell_type": "code",
   "execution_count": 8,
   "metadata": {},
   "outputs": [],
   "source": [
    "dataset_train = load_dataset_of_each_type_and_combine(f\"{dataset_folder}/train\", candle_type_and_directory_save)\n",
    "total_data_train = len(dataset_train)"
   ]
  },
  {
   "cell_type": "code",
   "execution_count": 9,
   "metadata": {},
   "outputs": [
    {
     "data": {
      "text/plain": [
       "<_ConcatenateDataset element_spec=(TensorSpec(shape=(6, 1), dtype=tf.float64, name=None), TensorSpec(shape=(6, 1), dtype=tf.float64, name=None), TensorSpec(shape=(1,), dtype=tf.int32, name=None), TensorSpec(shape=(287, 287, 3), dtype=tf.float64, name=None), TensorSpec(shape=(6, 4), dtype=tf.float64, name=None), TensorSpec(shape=(), dtype=tf.string, name=None))>"
      ]
     },
     "execution_count": 9,
     "metadata": {},
     "output_type": "execute_result"
    }
   ],
   "source": [
    "dataset_train"
   ]
  },
  {
   "cell_type": "code",
   "execution_count": 10,
   "metadata": {},
   "outputs": [],
   "source": [
    "def model_5_biLSTM_with_ema_macd_trend(image_shape, days_result, days_of_ema_9=2, days_of_macd_history=2):\n",
    "    trend_type_input = keras.layers.Input(shape=(1,), name=\"trend_type_input\")\n",
    "    x1 = keras.layers.Dense(8, activation='relu')(trend_type_input)\n",
    "    \n",
    "    image_input = keras.layers.Input(shape=image_shape, name=\"image_input\")\n",
    "    x2 = keras.layers.Conv2D(8, (2, 2), activation='relu')(image_input)\n",
    "    x2 = keras.layers.MaxPooling2D((2, 2), strides=(2, 2))(x2)\n",
    "    x2 = keras.layers.Flatten()(image_input)\n",
    "    x2 = keras.layers.Dense(64, activation='relu')(x2)\n",
    "    x2 = keras.layers.Dropout(0.1)(x2)\n",
    "    \n",
    "    ema_9_input = keras.layers.Input(shape=(days_of_ema_9,), name=\"ema_9_input\")\n",
    "    x3 = keras.layers.Dense(8, activation='relu')(ema_9_input)\n",
    "    \n",
    "    macd_history_input = keras.layers.Input(shape=(days_of_macd_history,), name=\"macd_history_input\")\n",
    "    x4 = keras.layers.Dense(8, activation='relu')(macd_history_input)\n",
    "    \n",
    "    combined = keras.layers.concatenate([x3, x4, x1, x2])\n",
    "    \n",
    "    z = keras.layers.Dense(64, activation='relu')(combined)\n",
    "    z = keras.layers.Dropout(0.1)(z)\n",
    "    z = keras.layers.Dense(64, activation='relu')(z)\n",
    "    \n",
    "    input_lstm = keras.layers.RepeatVector(days_result)(z)\n",
    "    lstm = keras.layers.Bidirectional(keras.layers.LSTM(128, activation=\"tanh\", return_sequences=True))(input_lstm)\n",
    "    lstm = keras.layers.Dropout(0.1)(lstm)\n",
    "    lstm = keras.layers.Bidirectional(keras.layers.LSTM(128, activation=\"tanh\", return_sequences=True))(lstm)\n",
    "    lstm = keras.layers.Dropout(0.1)(lstm)\n",
    "    output_lstm = keras.layers.TimeDistributed(keras.layers.Dense(2))(lstm)\n",
    "    \n",
    "    model = keras.models.Model(inputs=[ema_9_input, macd_history_input, trend_type_input, image_input], outputs=output_lstm)\n",
    "    \n",
    "    return model, \"model_5_bi2LSTM_ema_macd_trend\"\n"
   ]
  },
  {
   "cell_type": "code",
   "execution_count": 11,
   "metadata": {},
   "outputs": [],
   "source": [
    "function_transform_origin = get_open_close_prices_percent_of_last_days_result_for_ema_macd_trend_dataset\n",
    "model_function = model_5_biLSTM_with_ema_macd_trend\n",
    "function_evaluate_old_model = evaluate_fpt_model_5_biLSTM_with_trend_type_2023_2024\n",
    "image_shape = get_image_shape(dataset_train, index_of_image=3)\n",
    "model, model_name = model_function(image_shape, days_result)"
   ]
  },
  {
   "cell_type": "code",
   "execution_count": 12,
   "metadata": {},
   "outputs": [
    {
     "name": "stdout",
     "output_type": "stream",
     "text": [
      "STEPS_PER_EPOCH=10\n"
     ]
    }
   ],
   "source": [
    "batch_size = 64\n",
    "STEPS_PER_EPOCH = total_data_train // batch_size + 1\n",
    "name_sub_folder_save_metrics = f\"{model_name}_{os.path.basename(dataset_folder)}\"\n",
    "name_folder_save_metrics = f\"sizes/{model_name}_{os.path.basename(dataset_folder)}\"\n",
    "max_epochs = int(input(f\"max_epochs = \"))\n",
    "metric_mae_name = \"mae\"\n",
    "metric_mae_object = keras.metrics.MeanAbsoluteError(name=metric_mae_name)\n",
    "metric_mse_name = \"mse\"\n",
    "metric_mse_object = keras.metrics.MeanSquaredError(name=metric_mse_name)\n",
    "val_loss_metric_mae_to_stop = float(input(\"val_loss_metric_mae_to_stop = \"))\n",
    "val_loss_metric_mse_to_stop = float(input(\"val_loss_metric_mse_to_stop = \"))\n",
    "start_learning_rate = 0.01\n",
    "shuffle_buffer = 300\n",
    "print(f\"{STEPS_PER_EPOCH=}\")\n",
    "number_epochs_to_decrease_lr = int(input(\"number_epochs_to_decrease_lr = \"))\n",
    "number_epochs_to_wait = int(input(\"number_epochs_to_wait = \"))"
   ]
  },
  {
   "cell_type": "code",
   "execution_count": 13,
   "metadata": {},
   "outputs": [
    {
     "name": "stdout",
     "output_type": "stream",
     "text": [
      "STEPS_PER_EPOCH=10\n",
      "val_loss_metric_mae_to_stop=-1.0\n",
      "val_loss_metric_mse_to_stop=-1.0\n",
      "number_epochs_to_decrease_lr=8\n",
      "number_epochs_to_wait=10\n"
     ]
    }
   ],
   "source": [
    "print(f\"{STEPS_PER_EPOCH=}\")\n",
    "print(f\"{val_loss_metric_mae_to_stop=}\")\n",
    "print(f\"{val_loss_metric_mse_to_stop=}\")\n",
    "print(f\"{number_epochs_to_decrease_lr=}\")\n",
    "print(f\"{number_epochs_to_wait=}\")"
   ]
  },
  {
   "cell_type": "code",
   "execution_count": 14,
   "metadata": {},
   "outputs": [
    {
     "data": {
      "text/plain": [
       "'model_5_bi2LSTM_ema_macd_trend'"
      ]
     },
     "execution_count": 14,
     "metadata": {},
     "output_type": "execute_result"
    }
   ],
   "source": [
    "model_name"
   ]
  },
  {
   "cell_type": "code",
   "execution_count": 15,
   "metadata": {},
   "outputs": [
    {
     "data": {
      "text/plain": [
       "(638, 77)"
      ]
     },
     "execution_count": 15,
     "metadata": {},
     "output_type": "execute_result"
    }
   ],
   "source": [
    "(total_data_train, total_data_test)"
   ]
  },
  {
   "cell_type": "code",
   "execution_count": 16,
   "metadata": {},
   "outputs": [],
   "source": [
    "dataset_train_1 = dataset_train.shuffle(shuffle_buffer)\n",
    "dataset_test_1 = dataset_test.shuffle(shuffle_buffer)\n",
    "\n",
    "dataset_train_2 = dataset_train_1.batch(batch_size)\n",
    "dataset_test_2 = dataset_test_1.batch(batch_size)\n",
    "\n",
    "transform_function = partial(function_transform_origin, days_result)\n",
    "dataset_train_3 = dataset_train_2.map(transform_function)\n",
    "dataset_test_3 = dataset_test_2.map(transform_function)"
   ]
  },
  {
   "cell_type": "code",
   "execution_count": 17,
   "metadata": {},
   "outputs": [],
   "source": [
    "# for features, labels in dataset_train_3.take(1):\n",
    "#     print(features[0].shape)\n",
    "#     print(features[1].shape)\n",
    "#     print(labels.shape)"
   ]
  },
  {
   "cell_type": "code",
   "execution_count": 18,
   "metadata": {},
   "outputs": [
    {
     "data": {
      "text/plain": [
       "(10, 2)"
      ]
     },
     "execution_count": 18,
     "metadata": {},
     "output_type": "execute_result"
    }
   ],
   "source": [
    "(len(dataset_train_3), len(dataset_test_3))"
   ]
  },
  {
   "cell_type": "code",
   "execution_count": 19,
   "metadata": {},
   "outputs": [],
   "source": [
    "class StopAtLossValue(keras.callbacks.Callback):\n",
    "    def __init__(self, target_loss, metric_name):\n",
    "        super(StopAtLossValue, self).__init__()\n",
    "        self.target_loss = target_loss\n",
    "        self.metric_name = metric_name\n",
    "\n",
    "    def on_epoch_end(self, epoch, logs=None):\n",
    "        # Lấy giá trị loss từ logs\n",
    "        current_loss = logs.get(f\"val_{self.metric_name}\")\n",
    "        if current_loss is not None and current_loss <= self.target_loss:\n",
    "            print(f\"\\nĐạt target loss = {self.target_loss}, dừng training tại epoch {epoch + 1}\")\n",
    "            self.model.stop_training = True\n",
    "\n",
    "\n",
    "class SaveModelCallback(keras.callbacks.Callback):\n",
    "    def __init__(self, save_path):\n",
    "        super().__init__()\n",
    "        self.save_path = save_path\n",
    "\n",
    "    def on_epoch_end(self, epoch, logs=None):\n",
    "        # Tạo tên file với số epoch\n",
    "        folder_tmp = f\"{self.save_path}/tmp_model\"\n",
    "        file_name = f\"{folder_tmp}/model_tmp_{epoch}.keras\"\n",
    "        self.model.save(file_name)  # Lưu toàn bộ model\n",
    "        \n",
    "\n",
    "class TrackingLossCallback(keras.callbacks.Callback):\n",
    "    def __init__(self, metric_name):\n",
    "        super().__init__()\n",
    "        self.list_epochs = []\n",
    "        self.list_loss = []\n",
    "        self.metric_name = metric_name\n",
    "        self.loss_key = f\"val_{self.metric_name}\"\n",
    "\n",
    "    def on_epoch_end(self, epoch, logs=None):\n",
    "        # Tạo tên file với số epoch\n",
    "        self.list_epochs.append(epoch)\n",
    "        self.list_loss.append(logs.get(self.loss_key))\n",
    "    \n",
    "    def get_df_result(self):\n",
    "        df = pd.DataFrame({\n",
    "            \"epoch\": self.list_epochs,\n",
    "            self.loss_key: self.list_loss\n",
    "        })\n",
    "        df.sort_values(self.loss_key, inplace=True)\n",
    "        return df"
   ]
  },
  {
   "cell_type": "code",
   "execution_count": 20,
   "metadata": {},
   "outputs": [],
   "source": [
    "def get_optimizer(start_learning_rate, number_epochs_to_decrease_lr):\n",
    "    lr_schedule = keras.optimizers.schedules.InverseTimeDecay(\n",
    "        start_learning_rate,\n",
    "        decay_steps=STEPS_PER_EPOCH*number_epochs_to_decrease_lr,\n",
    "        decay_rate=1,\n",
    "        staircase=False\n",
    "    )\n",
    "    \n",
    "    return keras.optimizers.Adam(lr_schedule)\n",
    "\n",
    "tracking_loss_callback = TrackingLossCallback(metric_mse_name)\n",
    "def get_callbacks(name, metric_name, number_epochs_to_wait):\n",
    "    return [\n",
    "        tfdocs.modeling.EpochDots(),\n",
    "        StopAtLossValue(val_loss_metric_mae_to_stop, metric_mae_name),\n",
    "        StopAtLossValue(val_loss_metric_mse_to_stop, metric_mse_name),\n",
    "        SaveModelCallback(dataset_folder),\n",
    "        tracking_loss_callback,\n",
    "        keras.callbacks.EarlyStopping(monitor=f'val_loss', patience=number_epochs_to_wait),\n",
    "        keras.callbacks.TensorBoard(logdir/name)\n",
    "    ]\n",
    "  \n",
    "  \n",
    "model.compile(\n",
    "    loss=keras.losses.MeanSquaredError(),\n",
    "    optimizer=get_optimizer(start_learning_rate, number_epochs_to_decrease_lr),\n",
    "    metrics=[\n",
    "        metric_mae_object,\n",
    "        metric_mse_object\n",
    "    ],\n",
    ")\n"
   ]
  },
  {
   "cell_type": "code",
   "execution_count": 21,
   "metadata": {},
   "outputs": [
    {
     "name": "stderr",
     "output_type": "stream",
     "text": [
      "d:\\code\\selenium\\.venv\\lib\\site-packages\\keras\\src\\models\\functional.py:225: UserWarning: The structure of `inputs` doesn't match the expected structure: ['ema_9_input', 'macd_history_input', 'trend_type_input', 'image_input']. Received: the structure of inputs=('*', '*', '*', '*')\n",
      "  warnings.warn(\n"
     ]
    },
    {
     "name": "stdout",
     "output_type": "stream",
     "text": [
      "\u001b[1m2/2\u001b[0m \u001b[32m━━━━━━━━━━━━━━━━━━━━\u001b[0m\u001b[37m\u001b[0m \u001b[1m1s\u001b[0m 22ms/step - loss: 1.2914 - mae: 0.8200 - mse: 1.2914\n",
      "\u001b[1m2/2\u001b[0m \u001b[32m━━━━━━━━━━━━━━━━━━━━\u001b[0m\u001b[37m\u001b[0m \u001b[1m1s\u001b[0m 15ms/step - loss: 1.2846 - mae: 0.8201 - mse: 1.2846 \n",
      "\u001b[1m2/2\u001b[0m \u001b[32m━━━━━━━━━━━━━━━━━━━━\u001b[0m\u001b[37m\u001b[0m \u001b[1m1s\u001b[0m 35ms/step - loss: 1.2599 - mae: 0.8226 - mse: 1.2599\n",
      "\u001b[1m2/2\u001b[0m \u001b[32m━━━━━━━━━━━━━━━━━━━━\u001b[0m\u001b[37m\u001b[0m \u001b[1m1s\u001b[0m 12ms/step - loss: 1.2662 - mae: 0.8217 - mse: 1.2662 \n"
     ]
    },
    {
     "data": {
      "text/html": [
       "<div>\n",
       "<style scoped>\n",
       "    .dataframe tbody tr th:only-of-type {\n",
       "        vertical-align: middle;\n",
       "    }\n",
       "\n",
       "    .dataframe tbody tr th {\n",
       "        vertical-align: top;\n",
       "    }\n",
       "\n",
       "    .dataframe thead th {\n",
       "        text-align: right;\n",
       "    }\n",
       "</style>\n",
       "<table border=\"1\" class=\"dataframe\">\n",
       "  <thead>\n",
       "    <tr style=\"text-align: right;\">\n",
       "      <th></th>\n",
       "      <th>model_name</th>\n",
       "      <th>mse</th>\n",
       "      <th>mae</th>\n",
       "    </tr>\n",
       "  </thead>\n",
       "  <tbody>\n",
       "    <tr>\n",
       "      <th>0</th>\n",
       "      <td>model_5_bi2LSTM_ema_macd_trend</td>\n",
       "      <td>1.269986</td>\n",
       "      <td>0.816022</td>\n",
       "    </tr>\n",
       "    <tr>\n",
       "      <th>1</th>\n",
       "      <td>model_5_bi2LSTM_ema_macd_trend_1</td>\n",
       "      <td>1.269986</td>\n",
       "      <td>0.816022</td>\n",
       "    </tr>\n",
       "    <tr>\n",
       "      <th>2</th>\n",
       "      <td>model_5_bi2LSTM_ema_macd_trend_1_1</td>\n",
       "      <td>1.271023</td>\n",
       "      <td>0.824266</td>\n",
       "    </tr>\n",
       "    <tr>\n",
       "      <th>3</th>\n",
       "      <td>model_5_bi2LSTM_ema_macd_trend_1_1_1</td>\n",
       "      <td>1.271023</td>\n",
       "      <td>0.824266</td>\n",
       "    </tr>\n",
       "  </tbody>\n",
       "</table>\n",
       "</div>"
      ],
      "text/plain": [
       "                             model_name       mse       mae\n",
       "0        model_5_bi2LSTM_ema_macd_trend  1.269986  0.816022\n",
       "1      model_5_bi2LSTM_ema_macd_trend_1  1.269986  0.816022\n",
       "2    model_5_bi2LSTM_ema_macd_trend_1_1  1.271023  0.824266\n",
       "3  model_5_bi2LSTM_ema_macd_trend_1_1_1  1.271023  0.824266"
      ]
     },
     "execution_count": 21,
     "metadata": {},
     "output_type": "execute_result"
    }
   ],
   "source": [
    "# Ví dụ\n",
    "all_models_folder_path = os.path.join(os.path.abspath(dataset_folder), \"model_save\")\n",
    "evaluate_all_models_in_dataset_folder(\n",
    "    all_models_folder_path, \n",
    "    dataset_test_2,\n",
    "    days_result\n",
    ")"
   ]
  },
  {
   "cell_type": "code",
   "execution_count": 22,
   "metadata": {},
   "outputs": [
    {
     "name": "stdout",
     "output_type": "stream",
     "text": [
      "Epoch 1/100\n"
     ]
    },
    {
     "name": "stderr",
     "output_type": "stream",
     "text": [
      "d:\\code\\selenium\\.venv\\lib\\site-packages\\keras\\src\\models\\functional.py:225: UserWarning: The structure of `inputs` doesn't match the expected structure: ['ema_9_input', 'macd_history_input', 'trend_type_input', 'image_input']. Received: the structure of inputs=('*', '*', '*', '*')\n",
      "  warnings.warn(\n"
     ]
    },
    {
     "name": "stdout",
     "output_type": "stream",
     "text": [
      "\u001b[1m10/10\u001b[0m \u001b[32m━━━━━━━━━━━━━━━━━━━━\u001b[0m\u001b[37m\u001b[0m \u001b[1m0s\u001b[0m 168ms/step - loss: 5.5382 - mae: 1.6465 - mse: 5.5382WARNING:tensorflow:5 out of the last 9 calls to <function TensorFlowTrainer.make_test_function.<locals>.one_step_on_iterator at 0x000002230A345790> triggered tf.function retracing. Tracing is expensive and the excessive number of tracings could be due to (1) creating @tf.function repeatedly in a loop, (2) passing tensors with different shapes, (3) passing Python objects instead of tensors. For (1), please define your @tf.function outside of the loop. For (2), @tf.function has reduce_retracing=True option that can avoid unnecessary retracing. For (3), please refer to https://www.tensorflow.org/guide/function#controlling_retracing and https://www.tensorflow.org/api_docs/python/tf/function for  more details.\n",
      "\n",
      "Epoch: 0, loss:4.9309,  mae:1.5052,  mse:4.9309,  val_loss:1.4546,  val_mae:0.8777,  val_mse:1.4546,  \n",
      "\u001b[1m10/10\u001b[0m \u001b[32m━━━━━━━━━━━━━━━━━━━━\u001b[0m\u001b[37m\u001b[0m \u001b[1m9s\u001b[0m 332ms/step - loss: 5.4830 - mae: 1.6337 - mse: 5.4830 - val_loss: 1.4546 - val_mae: 0.8777 - val_mse: 1.4546\n",
      "Epoch 2/100\n"
     ]
    },
    {
     "name": "stderr",
     "output_type": "stream",
     "text": [
      "C:\\Users\\ADMIN\\AppData\\Local\\Programs\\Python\\Python39\\lib\\contextlib.py:137: UserWarning: Your input ran out of data; interrupting training. Make sure that your dataset or generator can generate at least `steps_per_epoch * epochs` batches. You may need to use the `.repeat()` function when building your dataset.\n",
      "  self.gen.throw(typ, value, traceback)\n"
     ]
    },
    {
     "name": "stdout",
     "output_type": "stream",
     "text": [
      "\u001b[1m10/10\u001b[0m \u001b[32m━━━━━━━━━━━━━━━━━━━━\u001b[0m\u001b[37m\u001b[0m \u001b[1m1s\u001b[0m 93ms/step - loss: 0.0000e+00 - mae: 0.0000e+00 - mse: 0.0000e+00 - val_loss: 1.4546 - val_mae: 0.8777 - val_mse: 1.4546\n",
      "Epoch 3/100\n",
      "\u001b[1m10/10\u001b[0m \u001b[32m━━━━━━━━━━━━━━━━━━━━\u001b[0m\u001b[37m\u001b[0m \u001b[1m4s\u001b[0m 319ms/step - loss: 4.0240 - mae: 1.3067 - mse: 4.0240 - val_loss: 1.4519 - val_mae: 0.8929 - val_mse: 1.4519\n",
      "Epoch 4/100\n",
      "\u001b[1m10/10\u001b[0m \u001b[32m━━━━━━━━━━━━━━━━━━━━\u001b[0m\u001b[37m\u001b[0m \u001b[1m1s\u001b[0m 86ms/step - loss: 0.0000e+00 - mae: 0.0000e+00 - mse: 0.0000e+00 - val_loss: 1.4519 - val_mae: 0.8929 - val_mse: 1.4519\n",
      "Epoch 5/100\n",
      "\u001b[1m10/10\u001b[0m \u001b[32m━━━━━━━━━━━━━━━━━━━━\u001b[0m\u001b[37m\u001b[0m \u001b[1m4s\u001b[0m 316ms/step - loss: 3.9087 - mae: 1.2976 - mse: 3.9087 - val_loss: 1.4284 - val_mae: 0.8714 - val_mse: 1.4284\n",
      "Epoch 6/100\n",
      "\u001b[1m10/10\u001b[0m \u001b[32m━━━━━━━━━━━━━━━━━━━━\u001b[0m\u001b[37m\u001b[0m \u001b[1m1s\u001b[0m 94ms/step - loss: 0.0000e+00 - mae: 0.0000e+00 - mse: 0.0000e+00 - val_loss: 1.4284 - val_mae: 0.8714 - val_mse: 1.4284\n",
      "Epoch 7/100\n",
      "\u001b[1m10/10\u001b[0m \u001b[32m━━━━━━━━━━━━━━━━━━━━\u001b[0m\u001b[37m\u001b[0m \u001b[1m4s\u001b[0m 317ms/step - loss: 3.8431 - mae: 1.2957 - mse: 3.8431 - val_loss: 1.3652 - val_mae: 0.8521 - val_mse: 1.3652\n",
      "Epoch 8/100\n",
      "\u001b[1m10/10\u001b[0m \u001b[32m━━━━━━━━━━━━━━━━━━━━\u001b[0m\u001b[37m\u001b[0m \u001b[1m1s\u001b[0m 90ms/step - loss: 0.0000e+00 - mae: 0.0000e+00 - mse: 0.0000e+00 - val_loss: 1.3652 - val_mae: 0.8521 - val_mse: 1.3652\n",
      "Epoch 9/100\n",
      "\u001b[1m10/10\u001b[0m \u001b[32m━━━━━━━━━━━━━━━━━━━━\u001b[0m\u001b[37m\u001b[0m \u001b[1m4s\u001b[0m 331ms/step - loss: 4.0083 - mae: 1.3328 - mse: 4.0083 - val_loss: 1.3521 - val_mae: 0.8403 - val_mse: 1.3521\n",
      "Epoch 10/100\n",
      "\u001b[1m10/10\u001b[0m \u001b[32m━━━━━━━━━━━━━━━━━━━━\u001b[0m\u001b[37m\u001b[0m \u001b[1m1s\u001b[0m 126ms/step - loss: 0.0000e+00 - mae: 0.0000e+00 - mse: 0.0000e+00 - val_loss: 1.3521 - val_mae: 0.8403 - val_mse: 1.3521\n",
      "Epoch 11/100\n",
      "\u001b[1m10/10\u001b[0m \u001b[32m━━━━━━━━━━━━━━━━━━━━\u001b[0m\u001b[37m\u001b[0m \u001b[1m4s\u001b[0m 335ms/step - loss: 3.8463 - mae: 1.3090 - mse: 3.8463 - val_loss: 1.3741 - val_mae: 0.8516 - val_mse: 1.3741\n",
      "Epoch 12/100\n",
      "\u001b[1m10/10\u001b[0m \u001b[32m━━━━━━━━━━━━━━━━━━━━\u001b[0m\u001b[37m\u001b[0m \u001b[1m1s\u001b[0m 118ms/step - loss: 0.0000e+00 - mae: 0.0000e+00 - mse: 0.0000e+00 - val_loss: 1.3741 - val_mae: 0.8516 - val_mse: 1.3741\n",
      "Epoch 13/100\n",
      "\u001b[1m10/10\u001b[0m \u001b[32m━━━━━━━━━━━━━━━━━━━━\u001b[0m\u001b[37m\u001b[0m \u001b[1m4s\u001b[0m 336ms/step - loss: 4.0413 - mae: 1.3405 - mse: 4.0413 - val_loss: 1.3599 - val_mae: 0.8616 - val_mse: 1.3599\n",
      "Epoch 14/100\n",
      "\u001b[1m10/10\u001b[0m \u001b[32m━━━━━━━━━━━━━━━━━━━━\u001b[0m\u001b[37m\u001b[0m \u001b[1m1s\u001b[0m 121ms/step - loss: 0.0000e+00 - mae: 0.0000e+00 - mse: 0.0000e+00 - val_loss: 1.3599 - val_mae: 0.8616 - val_mse: 1.3599\n",
      "Epoch 15/100\n",
      "\u001b[1m10/10\u001b[0m \u001b[32m━━━━━━━━━━━━━━━━━━━━\u001b[0m\u001b[37m\u001b[0m \u001b[1m4s\u001b[0m 334ms/step - loss: 3.7358 - mae: 1.3074 - mse: 3.7358 - val_loss: 1.3295 - val_mae: 0.8486 - val_mse: 1.3295\n",
      "Epoch 16/100\n",
      "\u001b[1m10/10\u001b[0m \u001b[32m━━━━━━━━━━━━━━━━━━━━\u001b[0m\u001b[37m\u001b[0m \u001b[1m1s\u001b[0m 119ms/step - loss: 0.0000e+00 - mae: 0.0000e+00 - mse: 0.0000e+00 - val_loss: 1.3295 - val_mae: 0.8486 - val_mse: 1.3295\n",
      "Epoch 17/100\n",
      "\u001b[1m10/10\u001b[0m \u001b[32m━━━━━━━━━━━━━━━━━━━━\u001b[0m\u001b[37m\u001b[0m \u001b[1m4s\u001b[0m 331ms/step - loss: 3.9303 - mae: 1.3219 - mse: 3.9303 - val_loss: 1.4019 - val_mae: 0.8827 - val_mse: 1.4019\n",
      "Epoch 18/100\n",
      "\u001b[1m10/10\u001b[0m \u001b[32m━━━━━━━━━━━━━━━━━━━━\u001b[0m\u001b[37m\u001b[0m \u001b[1m1s\u001b[0m 116ms/step - loss: 0.0000e+00 - mae: 0.0000e+00 - mse: 0.0000e+00 - val_loss: 1.4019 - val_mae: 0.8827 - val_mse: 1.4019\n",
      "Epoch 19/100\n",
      "\u001b[1m10/10\u001b[0m \u001b[32m━━━━━━━━━━━━━━━━━━━━\u001b[0m\u001b[37m\u001b[0m \u001b[1m4s\u001b[0m 332ms/step - loss: 3.8734 - mae: 1.3213 - mse: 3.8734 - val_loss: 1.3970 - val_mae: 0.8653 - val_mse: 1.3970\n",
      "Epoch 20/100\n",
      "\u001b[1m10/10\u001b[0m \u001b[32m━━━━━━━━━━━━━━━━━━━━\u001b[0m\u001b[37m\u001b[0m \u001b[1m1s\u001b[0m 116ms/step - loss: 0.0000e+00 - mae: 0.0000e+00 - mse: 0.0000e+00 - val_loss: 1.3970 - val_mae: 0.8653 - val_mse: 1.3970\n",
      "Epoch 21/100\n",
      "\u001b[1m10/10\u001b[0m \u001b[32m━━━━━━━━━━━━━━━━━━━━\u001b[0m\u001b[37m\u001b[0m \u001b[1m4s\u001b[0m 336ms/step - loss: 3.9519 - mae: 1.3228 - mse: 3.9519 - val_loss: 1.3788 - val_mae: 0.8601 - val_mse: 1.3788\n",
      "Epoch 22/100\n",
      "\u001b[1m10/10\u001b[0m \u001b[32m━━━━━━━━━━━━━━━━━━━━\u001b[0m\u001b[37m\u001b[0m \u001b[1m1s\u001b[0m 121ms/step - loss: 0.0000e+00 - mae: 0.0000e+00 - mse: 0.0000e+00 - val_loss: 1.3788 - val_mae: 0.8601 - val_mse: 1.3788\n",
      "Epoch 23/100\n",
      "\u001b[1m10/10\u001b[0m \u001b[32m━━━━━━━━━━━━━━━━━━━━\u001b[0m\u001b[37m\u001b[0m \u001b[1m4s\u001b[0m 330ms/step - loss: 4.1021 - mae: 1.3379 - mse: 4.1021 - val_loss: 1.3848 - val_mae: 0.8775 - val_mse: 1.3848\n",
      "Epoch 24/100\n",
      "\u001b[1m10/10\u001b[0m \u001b[32m━━━━━━━━━━━━━━━━━━━━\u001b[0m\u001b[37m\u001b[0m \u001b[1m1s\u001b[0m 109ms/step - loss: 0.0000e+00 - mae: 0.0000e+00 - mse: 0.0000e+00 - val_loss: 1.3848 - val_mae: 0.8775 - val_mse: 1.3848\n",
      "Epoch 25/100\n",
      "\u001b[1m10/10\u001b[0m \u001b[32m━━━━━━━━━━━━━━━━━━━━\u001b[0m\u001b[37m\u001b[0m \u001b[1m4s\u001b[0m 335ms/step - loss: 4.0695 - mae: 1.3508 - mse: 4.0695 - val_loss: 1.3879 - val_mae: 0.8802 - val_mse: 1.3879\n"
     ]
    }
   ],
   "source": [
    "is_start_train = input(\"Start train? (y/n): \").lower()[0] == \"y\"\n",
    "if is_start_train:\n",
    "    folder_tmp = f\"{dataset_folder}/tmp_model\"\n",
    "    os.makedirs(folder_tmp, exist_ok=False)\n",
    "    history = model.fit(\n",
    "        dataset_train_3, \n",
    "        validation_data=dataset_test_3,\n",
    "        epochs=max_epochs, \n",
    "        steps_per_epoch=STEPS_PER_EPOCH,\n",
    "        callbacks=get_callbacks(name_folder_save_metrics, metric_mse_name, number_epochs_to_wait)\n",
    "    )"
   ]
  },
  {
   "cell_type": "code",
   "execution_count": 23,
   "metadata": {},
   "outputs": [
    {
     "name": "stdout",
     "output_type": "stream",
     "text": [
      "2/2 - 0s - 171ms/step - loss: 1.3879 - mae: 0.8802 - mse: 1.3879\n"
     ]
    }
   ],
   "source": [
    "loss = model.evaluate(dataset_test_3, verbose=2)"
   ]
  },
  {
   "cell_type": "code",
   "execution_count": 24,
   "metadata": {},
   "outputs": [
    {
     "data": {
      "text/plain": [
       "[1.3878543376922607, 0.8802412748336792, 1.3878543376922607]"
      ]
     },
     "execution_count": 24,
     "metadata": {},
     "output_type": "execute_result"
    }
   ],
   "source": [
    "loss"
   ]
  },
  {
   "cell_type": "code",
   "execution_count": 25,
   "metadata": {},
   "outputs": [],
   "source": [
    "def get_folder_path_to_save_model(model_name):\n",
    "    new_model_name = model_name\n",
    "    path_save = f\"{dataset_folder}/model_save/{new_model_name}\"\n",
    "    while os.path.exists(path_save):\n",
    "        print(f\"-- {path_save} already exists\")\n",
    "        new_model_name = new_model_name + \"_1\"\n",
    "        path_save = f\"{dataset_folder}/model_save/{new_model_name}\"\n",
    "        print(f\"-- Change to {path_save}\")\n",
    "    os.makedirs(path_save, exist_ok=False)\n",
    "    return path_save, new_model_name "
   ]
  },
  {
   "cell_type": "code",
   "execution_count": 26,
   "metadata": {},
   "outputs": [],
   "source": [
    "def save_model(model: keras.Sequential, folder_path, new_model_name):\n",
    "    path_save = f\"{folder_path}/{new_model_name}.keras\"\n",
    "    abspath_save = os.path.abspath(path_save)\n",
    "    model.save(abspath_save)\n",
    "    return path_save"
   ]
  },
  {
   "cell_type": "code",
   "execution_count": 27,
   "metadata": {},
   "outputs": [],
   "source": [
    "def save_model_and_config(model: keras.Sequential):\n",
    "    folder_path, new_model_name = get_folder_path_to_save_model(model_name)\n",
    "    model_name_saved = save_model(model, folder_path, new_model_name)\n",
    "    loss = model.evaluate(dataset_test_3)\n",
    "    config_and_loss = {\n",
    "        \"config\": {\n",
    "            \"batch_size\": batch_size,\n",
    "            \"STEPS_PER_EPOCH\": STEPS_PER_EPOCH,\n",
    "            \"name_sub_folder_save_metrics\": name_sub_folder_save_metrics,\n",
    "            \"name_folder_save_metrics\": name_folder_save_metrics,\n",
    "            \"max_epochs\": max_epochs,\n",
    "            \"val_loss_metric_mae_to_stop\": val_loss_metric_mae_to_stop,\n",
    "            \"val_loss_metric_mse_to_stop\": val_loss_metric_mse_to_stop,\n",
    "            \"start_learning_rate\": start_learning_rate,\n",
    "            \"shuffle_buffer\": shuffle_buffer,\n",
    "            \"number_epochs_to_decrease_lr\": number_epochs_to_decrease_lr,\n",
    "            \"number_epochs_to_wait\": number_epochs_to_wait,\n",
    "            \"model_function\": function_transform_origin.__name__,\n",
    "        },\n",
    "        \"loss\": {\n",
    "            \"val_mse_loss\": loss[0],\n",
    "            \"val_mae_loss\": loss[1],\n",
    "        }\n",
    "    }\n",
    "    with open(f\"{folder_path}/config_and_loss.json\", \"w\") as file:\n",
    "        json.dump(config_and_loss, file, indent=2)\n",
    "    code_str = inspect.getsource(model_function)\n",
    "    with open(f\"{folder_path}/model_function_code.py\", \"w\") as file:\n",
    "        file.write(code_str)\n",
    "    \n",
    "    return new_model_name"
   ]
  },
  {
   "cell_type": "code",
   "execution_count": 28,
   "metadata": {},
   "outputs": [],
   "source": [
    "list_name_models = []\n",
    "list_models = []"
   ]
  },
  {
   "cell_type": "code",
   "execution_count": 29,
   "metadata": {},
   "outputs": [
    {
     "data": {
      "text/html": [
       "<div>\n",
       "<style scoped>\n",
       "    .dataframe tbody tr th:only-of-type {\n",
       "        vertical-align: middle;\n",
       "    }\n",
       "\n",
       "    .dataframe tbody tr th {\n",
       "        vertical-align: top;\n",
       "    }\n",
       "\n",
       "    .dataframe thead th {\n",
       "        text-align: right;\n",
       "    }\n",
       "</style>\n",
       "<table border=\"1\" class=\"dataframe\">\n",
       "  <thead>\n",
       "    <tr style=\"text-align: right;\">\n",
       "      <th></th>\n",
       "      <th>epoch</th>\n",
       "      <th>val_mse</th>\n",
       "    </tr>\n",
       "  </thead>\n",
       "  <tbody>\n",
       "    <tr>\n",
       "      <th>15</th>\n",
       "      <td>15</td>\n",
       "      <td>1.329476</td>\n",
       "    </tr>\n",
       "    <tr>\n",
       "      <th>14</th>\n",
       "      <td>14</td>\n",
       "      <td>1.329476</td>\n",
       "    </tr>\n",
       "    <tr>\n",
       "      <th>8</th>\n",
       "      <td>8</td>\n",
       "      <td>1.352119</td>\n",
       "    </tr>\n",
       "    <tr>\n",
       "      <th>9</th>\n",
       "      <td>9</td>\n",
       "      <td>1.352119</td>\n",
       "    </tr>\n",
       "    <tr>\n",
       "      <th>12</th>\n",
       "      <td>12</td>\n",
       "      <td>1.359881</td>\n",
       "    </tr>\n",
       "    <tr>\n",
       "      <th>13</th>\n",
       "      <td>13</td>\n",
       "      <td>1.359881</td>\n",
       "    </tr>\n",
       "    <tr>\n",
       "      <th>7</th>\n",
       "      <td>7</td>\n",
       "      <td>1.365169</td>\n",
       "    </tr>\n",
       "    <tr>\n",
       "      <th>6</th>\n",
       "      <td>6</td>\n",
       "      <td>1.365169</td>\n",
       "    </tr>\n",
       "    <tr>\n",
       "      <th>10</th>\n",
       "      <td>10</td>\n",
       "      <td>1.374091</td>\n",
       "    </tr>\n",
       "    <tr>\n",
       "      <th>11</th>\n",
       "      <td>11</td>\n",
       "      <td>1.374091</td>\n",
       "    </tr>\n",
       "    <tr>\n",
       "      <th>21</th>\n",
       "      <td>21</td>\n",
       "      <td>1.378809</td>\n",
       "    </tr>\n",
       "    <tr>\n",
       "      <th>20</th>\n",
       "      <td>20</td>\n",
       "      <td>1.378809</td>\n",
       "    </tr>\n",
       "    <tr>\n",
       "      <th>23</th>\n",
       "      <td>23</td>\n",
       "      <td>1.384841</td>\n",
       "    </tr>\n",
       "    <tr>\n",
       "      <th>22</th>\n",
       "      <td>22</td>\n",
       "      <td>1.384841</td>\n",
       "    </tr>\n",
       "    <tr>\n",
       "      <th>24</th>\n",
       "      <td>24</td>\n",
       "      <td>1.387854</td>\n",
       "    </tr>\n",
       "    <tr>\n",
       "      <th>18</th>\n",
       "      <td>18</td>\n",
       "      <td>1.397024</td>\n",
       "    </tr>\n",
       "    <tr>\n",
       "      <th>19</th>\n",
       "      <td>19</td>\n",
       "      <td>1.397024</td>\n",
       "    </tr>\n",
       "    <tr>\n",
       "      <th>16</th>\n",
       "      <td>16</td>\n",
       "      <td>1.401864</td>\n",
       "    </tr>\n",
       "    <tr>\n",
       "      <th>17</th>\n",
       "      <td>17</td>\n",
       "      <td>1.401864</td>\n",
       "    </tr>\n",
       "    <tr>\n",
       "      <th>4</th>\n",
       "      <td>4</td>\n",
       "      <td>1.428383</td>\n",
       "    </tr>\n",
       "    <tr>\n",
       "      <th>5</th>\n",
       "      <td>5</td>\n",
       "      <td>1.428383</td>\n",
       "    </tr>\n",
       "    <tr>\n",
       "      <th>3</th>\n",
       "      <td>3</td>\n",
       "      <td>1.451900</td>\n",
       "    </tr>\n",
       "    <tr>\n",
       "      <th>2</th>\n",
       "      <td>2</td>\n",
       "      <td>1.451900</td>\n",
       "    </tr>\n",
       "    <tr>\n",
       "      <th>1</th>\n",
       "      <td>1</td>\n",
       "      <td>1.454557</td>\n",
       "    </tr>\n",
       "    <tr>\n",
       "      <th>0</th>\n",
       "      <td>0</td>\n",
       "      <td>1.454557</td>\n",
       "    </tr>\n",
       "  </tbody>\n",
       "</table>\n",
       "</div>"
      ],
      "text/plain": [
       "    epoch   val_mse\n",
       "15     15  1.329476\n",
       "14     14  1.329476\n",
       "8       8  1.352119\n",
       "9       9  1.352119\n",
       "12     12  1.359881\n",
       "13     13  1.359881\n",
       "7       7  1.365169\n",
       "6       6  1.365169\n",
       "10     10  1.374091\n",
       "11     11  1.374091\n",
       "21     21  1.378809\n",
       "20     20  1.378809\n",
       "23     23  1.384841\n",
       "22     22  1.384841\n",
       "24     24  1.387854\n",
       "18     18  1.397024\n",
       "19     19  1.397024\n",
       "16     16  1.401864\n",
       "17     17  1.401864\n",
       "4       4  1.428383\n",
       "5       5  1.428383\n",
       "3       3  1.451900\n",
       "2       2  1.451900\n",
       "1       1  1.454557\n",
       "0       0  1.454557"
      ]
     },
     "execution_count": 29,
     "metadata": {},
     "output_type": "execute_result"
    }
   ],
   "source": [
    "tracking_loss_callback.get_df_result()"
   ]
  },
  {
   "cell_type": "code",
   "execution_count": 30,
   "metadata": {},
   "outputs": [],
   "source": [
    "if input(\"save model? (y/n): \").lower()[0] == \"y\":\n",
    "    is_save_model_from_tmp = input(\"Save model from tmp file? (y/n): \").lower()[0] == \"y\"\n",
    "    \n",
    "    if is_save_model_from_tmp:\n",
    "        while True and os.path.exists(folder_tmp):\n",
    "            epoch = input(f\"Epoch = \")\n",
    "            if not str.isdigit(epoch):\n",
    "                break\n",
    "            else:\n",
    "                epoch = int(epoch)\n",
    "            \n",
    "            model_tmp_name = f\"model_tmp_{epoch}.keras\"\n",
    "            print(f\"Save {model_tmp_name}\")\n",
    "            model_tmp_path = f\"{folder_tmp}/{model_tmp_name}\"\n",
    "            if not os.path.exists(model_tmp_path):\n",
    "                print(f\"model {model_tmp_path} does not exist.\")\n",
    "                continue\n",
    "            \n",
    "            try:\n",
    "                model_tmp = keras.models.load_model(model_tmp_path)\n",
    "                name_model_tmp_saved = save_model_and_config(model_tmp)\n",
    "                list_name_models.append(name_model_tmp_saved)\n",
    "                list_models.append(model_tmp)\n",
    "            except Exception as err:\n",
    "                print(err)\n",
    "                continue\n",
    "    \n",
    "    is_save_last_model = input(\"Save last model? (y/n): \").lower()[0] == \"y\"\n",
    "    if is_save_last_model:\n",
    "        name_last_model_saved = save_model_and_config(model)\n",
    "        list_name_models.append(name_last_model_saved)\n",
    "        list_models.append(model)\n",
    "\n",
    "is_delete_tmp_model_folder = input(\"Delete model tmp folder? (y/n): \").lower()[0] == \"y\"\n",
    "if is_delete_tmp_model_folder:\n",
    "    if os.path.exists(folder_tmp):\n",
    "        shutil.rmtree(folder_tmp)\n",
    "    else:\n",
    "        print(f\"{folder_tmp} does not exist.\")\n",
    "    "
   ]
  },
  {
   "cell_type": "code",
   "execution_count": 31,
   "metadata": {},
   "outputs": [],
   "source": [
    "for model_loaded, model_name_loaded in zip(list_models, list_name_models):\n",
    "    loss = model_loaded.evaluate(dataset_test_3)\n",
    "    print(f\"{model_name_loaded}: {loss}\")"
   ]
  },
  {
   "cell_type": "code",
   "execution_count": 32,
   "metadata": {},
   "outputs": [],
   "source": [
    "size_histories = {}"
   ]
  },
  {
   "cell_type": "code",
   "execution_count": 33,
   "metadata": {},
   "outputs": [],
   "source": [
    "size_histories[name_sub_folder_save_metrics] = history "
   ]
  },
  {
   "cell_type": "code",
   "execution_count": 34,
   "metadata": {},
   "outputs": [
    {
     "data": {
      "text/plain": [
       "(0.0, 4.0)"
      ]
     },
     "execution_count": 34,
     "metadata": {},
     "output_type": "execute_result"
    },
    {
     "data": {
      "image/png": "[encoded data removed]",
      "text/plain": [
       "<Figure size 640x480 with 1 Axes>"
      ]
     },
     "metadata": {},
     "output_type": "display_data"
    }
   ],
   "source": [
    "plotter = tfdocs.plots.HistoryPlotter(metric=metric_mse_name, smoothing_std=10)\n",
    "plotter.plot(size_histories)\n",
    "plt.ylim([0,4])"
   ]
  },
  {
   "cell_type": "code",
   "execution_count": 35,
   "metadata": {},
   "outputs": [],
   "source": [
    "# train_dataset = tf.data.Dataset.load(f'{dataset_folder}/train/next_3_day_up')\n",
    "# test_dataset = tf.data.Dataset.load(f'{dataset_folder}/test/next_3_day_up')\n",
    "# for x_train, y_train, date_train in train_dataset.take(2):\n",
    "#     pass\n",
    "# for x_test, y_test, date_test in test_dataset.take(2):\n",
    "#     pass\n",
    "# plt.imshow(x_train)\n",
    "# y_train\n",
    "# plt.imshow(x_test)\n",
    "# y_test"
   ]
  },
  {
   "cell_type": "code",
   "execution_count": 36,
   "metadata": {},
   "outputs": [
    {
     "data": {
      "text/plain": [
       "[]"
      ]
     },
     "execution_count": 36,
     "metadata": {},
     "output_type": "execute_result"
    }
   ],
   "source": [
    "list_name_models"
   ]
  },
  {
   "cell_type": "code",
   "execution_count": 37,
   "metadata": {},
   "outputs": [
    {
     "data": {
      "text/plain": [
       "'../dataset/tcb_dataset_0_2_3_2018_2024_test_2024_2024_with_ema_macd_trend'"
      ]
     },
     "execution_count": 37,
     "metadata": {},
     "output_type": "execute_result"
    }
   ],
   "source": [
    "dataset_folder"
   ]
  }
 ],
 "metadata": {
  "kernelspec": {
   "display_name": ".venv",
   "language": "python",
   "name": "python3"
  },
  "language_info": {
   "codemirror_mode": {
    "name": "ipython",
    "version": 3
   },
   "file_extension": ".py",
   "mimetype": "text/x-python",
   "name": "python",
   "nbconvert_exporter": "python",
   "pygments_lexer": "ipython3",
   "version": "3.9.7"
  }
 },
 "nbformat": 4,
 "nbformat_minor": 2
}
