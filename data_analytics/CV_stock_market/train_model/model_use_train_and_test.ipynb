{
 "cells": [
  {
   "cell_type": "code",
   "execution_count": 1,
   "metadata": {},
   "outputs": [],
   "source": [
    "import sys\n",
    "sys.path.append(\"../\")"
   ]
  },
  {
   "cell_type": "code",
   "execution_count": 2,
   "metadata": {},
   "outputs": [],
   "source": [
    "from utils.common_train_utils import *\n",
    "from utils.draw_candle_image import *\n",
    "from utils.evaluate_old_models import *\n",
    "from functools import partial\n",
    "from model_code import *\n",
    "from ta import add_all_ta_features\n",
    "from ta.utils import dropna\n",
    "import json\n",
    "import keras\n",
    "import matplotlib.pyplot as plt\n",
    "import numpy as np\n",
    "import os\n",
    "import pandas as pd\n",
    "import pathlib\n",
    "import shutil\n",
    "import ta\n",
    "import ta.momentum\n",
    "import ta.trend\n",
    "import tempfile\n",
    "import tensorflow as tf\n",
    "import tensorflow_docs as tfdocs\n",
    "import tensorflow_docs.modeling\n",
    "import tensorflow_docs.plots\n",
    "import inspect\n",
    "import random"
   ]
  },
  {
   "cell_type": "code",
   "execution_count": 3,
   "metadata": {},
   "outputs": [],
   "source": [
    "logdir = pathlib.Path(tempfile.mkdtemp())/\"tensorboard_logs\"\n",
    "shutil.rmtree(logdir, ignore_errors=True)"
   ]
  },
  {
   "cell_type": "code",
   "execution_count": 4,
   "metadata": {},
   "outputs": [
    {
     "name": "stdout",
     "output_type": "stream",
     "text": [
      "C:\\Users\\ADMIN\\AppData\\Local\\Temp\\tmpi93f5sxx\\tensorboard_logs\n"
     ]
    }
   ],
   "source": [
    "print(logdir)"
   ]
  },
  {
   "cell_type": "code",
   "execution_count": 5,
   "metadata": {},
   "outputs": [],
   "source": [
    "symbol = input(\"symbol = \").strip().lower()"
   ]
  },
  {
   "cell_type": "code",
   "execution_count": 6,
   "metadata": {},
   "outputs": [],
   "source": [
    "dataset_folder = f\"../dataset/{symbol}_with_ema_macd_trend\""
   ]
  },
  {
   "cell_type": "code",
   "execution_count": 7,
   "metadata": {},
   "outputs": [],
   "source": [
    "config = read_config(dataset_folder)\n",
    "candle_type_and_directory_save: dict = config[\"candle_type_and_directory_save\"]\n",
    "previous_days = config[\"previous_days\"]\n",
    "next_days = config[\"next_days\"]\n",
    "days_result = config[\"days_result\"]"
   ]
  },
  {
   "cell_type": "code",
   "execution_count": 8,
   "metadata": {},
   "outputs": [],
   "source": [
    "dataset_test = load_dataset_of_each_type_and_combine(f\"{dataset_folder}/test\", candle_type_and_directory_save)\n",
    "total_data_test = len(dataset_test)"
   ]
  },
  {
   "cell_type": "code",
   "execution_count": 9,
   "metadata": {},
   "outputs": [],
   "source": [
    "dataset_train = load_dataset_of_each_type_and_combine(f\"{dataset_folder}/train\", candle_type_and_directory_save)\n",
    "total_data_train = len(dataset_train)"
   ]
  },
  {
   "cell_type": "code",
   "execution_count": 10,
   "metadata": {},
   "outputs": [
    {
     "data": {
      "text/plain": [
       "<_ConcatenateDataset element_spec=(TensorSpec(shape=(6, 1), dtype=tf.float64, name=None), TensorSpec(shape=(6, 1), dtype=tf.float64, name=None), TensorSpec(shape=(1,), dtype=tf.int32, name=None), TensorSpec(shape=(287, 287, 3), dtype=tf.float64, name=None), TensorSpec(shape=(6, 4), dtype=tf.float64, name=None), TensorSpec(shape=(), dtype=tf.string, name=None))>"
      ]
     },
     "execution_count": 10,
     "metadata": {},
     "output_type": "execute_result"
    }
   ],
   "source": [
    "dataset_train"
   ]
  },
  {
   "cell_type": "code",
   "execution_count": 11,
   "metadata": {},
   "outputs": [],
   "source": [
    "def channels_to_time_step_attention_ema_macd_trend(image_shape, days_result, days_of_ema_9=2, days_of_macd_history=2):\n",
    "\n",
    "    # Hàm Attention\n",
    "    def attention_3d_block(inputs):\n",
    "        # inputs.shape = (batch_sizes, time_steps=days_result, features=lstm_units)\n",
    "        time_steps = inputs.shape[1]\n",
    "        \n",
    "        a = keras.layers.Permute((2, 1))(inputs)  # (batch_sizes, features=lstm_units, time_steps=days_result)\n",
    "        \n",
    "        # Tính attention score: (batch_sizes, features=lstm_units, time_steps=days_result)\n",
    "        # Softmax áp dụng trên axis cuối\n",
    "        a = keras.layers.Dense(time_steps, activation='softmax')(a)  \n",
    "        \n",
    "        # Trả về attention score theo thứ tự: (batch_sizes, time_steps=days_result, features=lstm_units)\n",
    "        a_probs = keras.layers.Permute((2, 1))(a)  \n",
    "        \n",
    "        # Tính trọng số của inputs với attention score: (batch_sizes, time_steps=days_result, features=lstm_units)\n",
    "        output_attention_mul = keras.layers.Multiply()([inputs, a_probs])  \n",
    "        \n",
    "        return output_attention_mul\n",
    "\n",
    "    trend_type_input = keras.layers.Input(shape=(1,), name=\"trend_type_input\")\n",
    "    x1 = keras.layers.Dense(8, activation='relu')(trend_type_input)\n",
    "    x1 = keras.layers.RepeatVector(days_result)(x1) # (batch_size, days_result, 8)\n",
    "    \n",
    "    ema_9_input = keras.layers.Input(shape=(days_of_ema_9,), name=\"ema_9_input\")\n",
    "    x3 = keras.layers.Dense(8, activation='relu')(ema_9_input)\n",
    "    x3 = keras.layers.RepeatVector(days_result)(x3) # (batch_size, days_result, 8)\n",
    "    \n",
    "    macd_history_input = keras.layers.Input(shape=(days_of_macd_history,), name=\"macd_history_input\")\n",
    "    x4 = keras.layers.Dense(8, activation='relu')(macd_history_input)\n",
    "    x4 = keras.layers.RepeatVector(days_result)(x4) # (batch_size, days_result, 8)\n",
    "    \n",
    "    image_input = keras.layers.Input(shape=image_shape, name=\"image_input\") # (batch_size, height, width, channels)\n",
    "    x2 = keras.layers.Conv2D(8, (2, 2), strides=1, activation='relu')(image_input) # (batch_size, height, width, channels=8)\n",
    "    x2 = keras.layers.Conv2D(days_result, (2, 2), activation='relu')(x2) # (batch_size, height, width, channels=days_result)\n",
    "    x2 = keras.layers.MaxPooling2D((2, 2), strides=(2, 2))(x2)\n",
    "\n",
    "    x2 = keras.layers.Permute((3, 1, 2))(x2) # (batch_size, channels, height, width)\n",
    "    x2 = keras.layers.TimeDistributed(keras.layers.Flatten())(x2)\n",
    "    x2 = keras.layers.TimeDistributed(keras.layers.Dense(64, activation='relu'))(x2)\n",
    "    x2 = keras.layers.TimeDistributed(keras.layers.Dropout(0.1))(x2) # (batch_size, days_result, 64)\n",
    "    \n",
    "    x = keras.layers.concatenate([x3, x4, x1, x2], axis=-1)\n",
    "    x = keras.layers.TimeDistributed(keras.layers.Dense(64, activation='relu'))(x)\n",
    "    x = keras.layers.TimeDistributed(keras.layers.Dropout(0.1))(x)\n",
    "    x = keras.layers.TimeDistributed(keras.layers.Dense(64, activation='relu'))(x)\n",
    "    \n",
    "    # LSTM với Attention\n",
    "    lstm = keras.layers.Bidirectional(keras.layers.LSTM(128, activation=\"relu\", return_sequences=True))(x)\n",
    "    lstm = keras.layers.Dropout(0.1)(lstm)\n",
    "    lstm = keras.layers.Bidirectional(keras.layers.LSTM(128, activation=\"relu\", return_sequences=True))(lstm)\n",
    "    lstm_out = keras.layers.Dropout(0.1)(lstm) # (batch_sizes, time_steps=days_result, features=lstm_units)\n",
    "    \n",
    "    # Áp dụng Attention: (batch_sizes, time_steps=days_result, features=lstm_units)\n",
    "    attention_mul = attention_3d_block(lstm_out)\n",
    "    \n",
    "    # Lớp đầu ra\n",
    "    output = keras.layers.TimeDistributed(keras.layers.Dense(2, activation='linear'))(attention_mul)\n",
    "    \n",
    "    # Xây dựng mô hình\n",
    "    model = keras.models.Model(inputs=[ema_9_input, macd_history_input, trend_type_input, image_input], outputs=output)\n",
    "    \n",
    "    return model, \"channels_to_time_step_attention_ema_macd_trend\"\n"
   ]
  },
  {
   "cell_type": "code",
   "execution_count": 12,
   "metadata": {},
   "outputs": [],
   "source": [
    "function_transform_origin = get_open_close_prices_percent_of_last_days_result_for_ema_macd_trend_dataset\n",
    "model_function = channels_to_time_step_attention_ema_macd_trend\n",
    "function_evaluate_old_model = evaluate_fpt_model_5_biLSTM_with_trend_type_2023_2024\n",
    "image_shape = get_image_shape(dataset_train, index_of_image=3)\n",
    "model, model_name = model_function(image_shape, days_result)"
   ]
  },
  {
   "cell_type": "code",
   "execution_count": 13,
   "metadata": {},
   "outputs": [],
   "source": [
    "# batch_size = 2**int(input(\"batch_size = 2^x, x = \").strip())\n",
    "batch_size = int(input(\"batch_size = \").strip())\n",
    "STEPS_PER_EPOCH = total_data_train // batch_size + 1\n",
    "name_sub_folder_save_metrics = f\"{model_name}_{os.path.basename(dataset_folder)}\"\n",
    "name_folder_save_metrics = f\"sizes/{model_name}_{os.path.basename(dataset_folder)}\"\n",
    "max_epochs = int(input(f\"max_epochs = \"))\n",
    "metric_mae_name = \"mae\"\n",
    "metric_mae_object = keras.metrics.MeanAbsoluteError(name=metric_mae_name)\n",
    "metric_mse_name = \"mse\"\n",
    "metric_mse_object = keras.metrics.MeanSquaredError(name=metric_mse_name)\n",
    "val_loss_metric_mae_to_stop = float(input(\"val_loss_metric_mae_to_stop = \"))\n",
    "val_loss_metric_mse_to_stop = float(input(\"val_loss_metric_mse_to_stop = \"))\n",
    "start_learning_rate = float(input(\"start_learning_rate = \").strip())\n",
    "shuffle_buffer = 300\n",
    "number_epochs_to_decrease_lr = int(input(\"number_epochs_to_decrease_lr = \"))\n",
    "number_epochs_to_wait = int(input(\"number_epochs_to_wait = \"))"
   ]
  },
  {
   "cell_type": "code",
   "execution_count": 14,
   "metadata": {},
   "outputs": [
    {
     "name": "stdout",
     "output_type": "stream",
     "text": [
      "2^3.169925001442312\n",
      "batch_size=9\n",
      "max_epochs=100\n",
      "start_learning_rate=0.01\n",
      "STEPS_PER_EPOCH=292\n",
      "val_loss_metric_mae_to_stop=-1.0\n",
      "val_loss_metric_mse_to_stop=-1.0\n",
      "number_epochs_to_decrease_lr=10\n",
      "number_epochs_to_wait=10\n"
     ]
    }
   ],
   "source": [
    "print(f\"2^{np.log2(batch_size)}\")\n",
    "print(f\"{batch_size=}\")\n",
    "print(f\"{max_epochs=}\")\n",
    "print(f\"{start_learning_rate=}\")\n",
    "print(f\"{STEPS_PER_EPOCH=}\")\n",
    "print(f\"{val_loss_metric_mae_to_stop=}\")\n",
    "print(f\"{val_loss_metric_mse_to_stop=}\")\n",
    "print(f\"{number_epochs_to_decrease_lr=}\")\n",
    "print(f\"{number_epochs_to_wait=}\")"
   ]
  },
  {
   "cell_type": "code",
   "execution_count": 15,
   "metadata": {},
   "outputs": [
    {
     "data": {
      "text/plain": [
       "'channels_to_time_step_attention_ema_macd_trend'"
      ]
     },
     "execution_count": 15,
     "metadata": {},
     "output_type": "execute_result"
    }
   ],
   "source": [
    "model_name"
   ]
  },
  {
   "cell_type": "code",
   "execution_count": 16,
   "metadata": {},
   "outputs": [
    {
     "data": {
      "text/plain": [
       "(2619, 54)"
      ]
     },
     "execution_count": 16,
     "metadata": {},
     "output_type": "execute_result"
    }
   ],
   "source": [
    "(total_data_train, total_data_test)"
   ]
  },
  {
   "cell_type": "code",
   "execution_count": 17,
   "metadata": {},
   "outputs": [],
   "source": [
    "dataset_train_1 = dataset_train.shuffle(shuffle_buffer)\n",
    "dataset_test_1 = dataset_test.shuffle(shuffle_buffer)\n",
    "\n",
    "dataset_train_2 = dataset_train_1.batch(batch_size)\n",
    "dataset_test_2 = dataset_test_1.batch(batch_size)\n",
    "\n",
    "transform_function = partial(function_transform_origin, days_result)\n",
    "dataset_train_3 = dataset_train_2.map(transform_function)\n",
    "dataset_test_3 = dataset_test_2.map(transform_function)"
   ]
  },
  {
   "cell_type": "code",
   "execution_count": 18,
   "metadata": {},
   "outputs": [],
   "source": [
    "# for features, labels in dataset_train_3.take(1):\n",
    "#     print(features[0].shape)\n",
    "#     print(features[1].shape)\n",
    "#     print(labels.shape)"
   ]
  },
  {
   "cell_type": "code",
   "execution_count": 19,
   "metadata": {},
   "outputs": [
    {
     "data": {
      "text/plain": [
       "(291, 6)"
      ]
     },
     "execution_count": 19,
     "metadata": {},
     "output_type": "execute_result"
    }
   ],
   "source": [
    "(len(dataset_train_3), len(dataset_test_3))"
   ]
  },
  {
   "cell_type": "code",
   "execution_count": 20,
   "metadata": {},
   "outputs": [],
   "source": [
    "class StopAtLossValue(keras.callbacks.Callback):\n",
    "    def __init__(self, target_loss, metric_name):\n",
    "        super(StopAtLossValue, self).__init__()\n",
    "        self.target_loss = target_loss\n",
    "        self.metric_name = metric_name\n",
    "\n",
    "    def on_epoch_end(self, epoch, logs=None):\n",
    "        # Lấy giá trị loss từ logs\n",
    "        current_loss = logs.get(f\"val_{self.metric_name}\")\n",
    "        if current_loss is not None and current_loss <= self.target_loss:\n",
    "            print(f\"\\nĐạt target loss = {self.target_loss}, dừng training tại epoch {epoch + 1}\")\n",
    "            self.model.stop_training = True\n",
    "\n",
    "\n",
    "class SaveModelCallback(keras.callbacks.Callback):\n",
    "    def __init__(self, save_path):\n",
    "        super().__init__()\n",
    "        self.save_path = save_path\n",
    "\n",
    "    def on_epoch_end(self, epoch, logs=None):\n",
    "        # Tạo tên file với số epoch\n",
    "        folder_tmp = f\"{self.save_path}/tmp_model\"\n",
    "        file_name = f\"{folder_tmp}/model_tmp_{epoch}.keras\"\n",
    "        self.model.save(file_name)  # Lưu toàn bộ model\n",
    "        \n",
    "\n",
    "class TrackingLossCallback(keras.callbacks.Callback):\n",
    "    def __init__(self, metric_name):\n",
    "        super().__init__()\n",
    "        self.list_epochs = []\n",
    "        self.list_val_loss = []\n",
    "        self.list_train_loss = []\n",
    "        self.metric_name = metric_name\n",
    "        self.val_loss_key = f\"val_{self.metric_name}\"\n",
    "        self.train_loss_key = f\"{self.metric_name}\"\n",
    "\n",
    "    def on_epoch_end(self, epoch, logs=None):\n",
    "        # Tạo tên file với số epoch\n",
    "        self.list_epochs.append(epoch)\n",
    "        self.list_val_loss.append(logs.get(self.val_loss_key))\n",
    "        self.list_train_loss.append(logs.get(self.train_loss_key))\n",
    "    \n",
    "    def get_df_result(self):\n",
    "        df = pd.DataFrame({\n",
    "            \"epoch\": self.list_epochs,\n",
    "            self.val_loss_key: self.list_val_loss,\n",
    "            self.train_loss_key: self.list_train_loss\n",
    "        })\n",
    "        df.sort_values(self.val_loss_key, inplace=True)\n",
    "        return df"
   ]
  },
  {
   "cell_type": "code",
   "execution_count": 21,
   "metadata": {},
   "outputs": [],
   "source": [
    "def get_optimizer(start_learning_rate, number_epochs_to_decrease_lr):\n",
    "    lr_schedule = keras.optimizers.schedules.InverseTimeDecay(\n",
    "        start_learning_rate,\n",
    "        decay_steps=STEPS_PER_EPOCH*number_epochs_to_decrease_lr,\n",
    "        decay_rate=1,\n",
    "        staircase=False\n",
    "    )\n",
    "    \n",
    "    return keras.optimizers.Adam(lr_schedule)\n",
    "\n",
    "tracking_loss_callback = TrackingLossCallback(metric_mse_name)\n",
    "def get_callbacks(name, metric_name, number_epochs_to_wait):\n",
    "    return [\n",
    "        tfdocs.modeling.EpochDots(),\n",
    "        StopAtLossValue(val_loss_metric_mae_to_stop, metric_mae_name),\n",
    "        StopAtLossValue(val_loss_metric_mse_to_stop, metric_mse_name),\n",
    "        SaveModelCallback(dataset_folder),\n",
    "        tracking_loss_callback,\n",
    "        keras.callbacks.EarlyStopping(monitor=f'val_loss', patience=number_epochs_to_wait),\n",
    "        keras.callbacks.TensorBoard(logdir/name)\n",
    "    ]\n",
    "  \n",
    "  \n",
    "model.compile(\n",
    "    loss=keras.losses.MeanSquaredError(),\n",
    "    optimizer=get_optimizer(start_learning_rate, number_epochs_to_decrease_lr),\n",
    "    metrics=[\n",
    "        metric_mae_object,\n",
    "        metric_mse_object\n",
    "    ],\n",
    ")\n"
   ]
  },
  {
   "cell_type": "code",
   "execution_count": 22,
   "metadata": {},
   "outputs": [
    {
     "data": {
      "text/html": [
       "<div>\n",
       "<style scoped>\n",
       "    .dataframe tbody tr th:only-of-type {\n",
       "        vertical-align: middle;\n",
       "    }\n",
       "\n",
       "    .dataframe tbody tr th {\n",
       "        vertical-align: top;\n",
       "    }\n",
       "\n",
       "    .dataframe thead th {\n",
       "        text-align: right;\n",
       "    }\n",
       "</style>\n",
       "<table border=\"1\" class=\"dataframe\">\n",
       "  <thead>\n",
       "    <tr style=\"text-align: right;\">\n",
       "      <th></th>\n",
       "      <th>model_name</th>\n",
       "      <th>mse</th>\n",
       "      <th>mae</th>\n",
       "    </tr>\n",
       "  </thead>\n",
       "  <tbody>\n",
       "  </tbody>\n",
       "</table>\n",
       "</div>"
      ],
      "text/plain": [
       "Empty DataFrame\n",
       "Columns: [model_name, mse, mae]\n",
       "Index: []"
      ]
     },
     "execution_count": 22,
     "metadata": {},
     "output_type": "execute_result"
    }
   ],
   "source": [
    "# Ví dụ\n",
    "all_models_folder_path = os.path.join(os.path.abspath(dataset_folder), \"model_save\")\n",
    "evaluate_all_models_in_dataset_folder(\n",
    "    all_models_folder_path, \n",
    "    dataset_test_2,\n",
    "    days_result\n",
    ")"
   ]
  },
  {
   "cell_type": "code",
   "execution_count": 23,
   "metadata": {},
   "outputs": [
    {
     "name": "stdout",
     "output_type": "stream",
     "text": [
      "Epoch 1/100\n"
     ]
    },
    {
     "name": "stderr",
     "output_type": "stream",
     "text": [
      "d:\\code\\selenium\\.venv\\lib\\site-packages\\keras\\src\\models\\functional.py:225: UserWarning: The structure of `inputs` doesn't match the expected structure: ['ema_9_input', 'macd_history_input', 'trend_type_input', 'image_input']. Received: the structure of inputs=('*', '*', '*', '*')\n",
      "  warnings.warn(\n"
     ]
    },
    {
     "name": "stdout",
     "output_type": "stream",
     "text": [
      "\u001b[1m290/292\u001b[0m \u001b[32m━━━━━━━━━━━━━━━━━━━\u001b[0m\u001b[37m━\u001b[0m \u001b[1m0s\u001b[0m 53ms/step - loss: 3.3301 - mae: 1.2167 - mse: 3.3301"
     ]
    },
    {
     "name": "stderr",
     "output_type": "stream",
     "text": [
      "C:\\Users\\ADMIN\\AppData\\Local\\Programs\\Python\\Python39\\lib\\contextlib.py:137: UserWarning: Your input ran out of data; interrupting training. Make sure that your dataset or generator can generate at least `steps_per_epoch * epochs` batches. You may need to use the `.repeat()` function when building your dataset.\n",
      "  self.gen.throw(typ, value, traceback)\n"
     ]
    },
    {
     "name": "stdout",
     "output_type": "stream",
     "text": [
      "\n",
      "Epoch: 0, loss:3.4712,  mae:1.2361,  mse:3.4712,  val_loss:1.1080,  val_mae:0.7528,  val_mse:1.1080,  \n",
      "\u001b[1m292/292\u001b[0m \u001b[32m━━━━━━━━━━━━━━━━━━━━\u001b[0m\u001b[37m\u001b[0m \u001b[1m24s\u001b[0m 57ms/step - loss: 3.3310 - mae: 1.2169 - mse: 3.3310 - val_loss: 1.1080 - val_mae: 0.7528 - val_mse: 1.1080\n",
      "Epoch 2/100\n",
      "\u001b[1m292/292\u001b[0m \u001b[32m━━━━━━━━━━━━━━━━━━━━\u001b[0m\u001b[37m\u001b[0m \u001b[1m16s\u001b[0m 54ms/step - loss: 3.3910 - mae: 1.2325 - mse: 3.3910 - val_loss: 1.1450 - val_mae: 0.7483 - val_mse: 1.1450\n",
      "Epoch 3/100\n",
      "\u001b[1m292/292\u001b[0m \u001b[32m━━━━━━━━━━━━━━━━━━━━\u001b[0m\u001b[37m\u001b[0m \u001b[1m16s\u001b[0m 52ms/step - loss: 3.4016 - mae: 1.2280 - mse: 3.4016 - val_loss: 1.0142 - val_mae: 0.7226 - val_mse: 1.0142\n",
      "Epoch 4/100\n",
      "\u001b[1m292/292\u001b[0m \u001b[32m━━━━━━━━━━━━━━━━━━━━\u001b[0m\u001b[37m\u001b[0m \u001b[1m15s\u001b[0m 51ms/step - loss: 3.1777 - mae: 1.2015 - mse: 3.1777 - val_loss: 1.0339 - val_mae: 0.7383 - val_mse: 1.0339\n",
      "Epoch 5/100\n",
      "\u001b[1m292/292\u001b[0m \u001b[32m━━━━━━━━━━━━━━━━━━━━\u001b[0m\u001b[37m\u001b[0m \u001b[1m15s\u001b[0m 51ms/step - loss: 3.2024 - mae: 1.2049 - mse: 3.2024 - val_loss: 0.9495 - val_mae: 0.7001 - val_mse: 0.9495\n",
      "Epoch 6/100\n",
      "\u001b[1m292/292\u001b[0m \u001b[32m━━━━━━━━━━━━━━━━━━━━\u001b[0m\u001b[37m\u001b[0m \u001b[1m27s\u001b[0m 92ms/step - loss: 3.1822 - mae: 1.1971 - mse: 3.1822 - val_loss: 0.9035 - val_mae: 0.6885 - val_mse: 0.9035\n",
      "Epoch 7/100\n",
      "\u001b[1m292/292\u001b[0m \u001b[32m━━━━━━━━━━━━━━━━━━━━\u001b[0m\u001b[37m\u001b[0m \u001b[1m19s\u001b[0m 63ms/step - loss: 3.2056 - mae: 1.2080 - mse: 3.2056 - val_loss: 0.9098 - val_mae: 0.6891 - val_mse: 0.9098\n",
      "Epoch 8/100\n",
      "\u001b[1m292/292\u001b[0m \u001b[32m━━━━━━━━━━━━━━━━━━━━\u001b[0m\u001b[37m\u001b[0m \u001b[1m20s\u001b[0m 64ms/step - loss: 3.1457 - mae: 1.2002 - mse: 3.1457 - val_loss: 0.9020 - val_mae: 0.6821 - val_mse: 0.9020\n",
      "Epoch 9/100\n",
      "\u001b[1m292/292\u001b[0m \u001b[32m━━━━━━━━━━━━━━━━━━━━\u001b[0m\u001b[37m\u001b[0m \u001b[1m19s\u001b[0m 64ms/step - loss: 3.0899 - mae: 1.1819 - mse: 3.0899 - val_loss: 0.9688 - val_mae: 0.7166 - val_mse: 0.9688\n",
      "Epoch 10/100\n",
      "\u001b[1m292/292\u001b[0m \u001b[32m━━━━━━━━━━━━━━━━━━━━\u001b[0m\u001b[37m\u001b[0m \u001b[1m20s\u001b[0m 65ms/step - loss: 3.0805 - mae: 1.1794 - mse: 3.0805 - val_loss: 0.9093 - val_mae: 0.6895 - val_mse: 0.9093\n",
      "Epoch 11/100\n",
      "\u001b[1m292/292\u001b[0m \u001b[32m━━━━━━━━━━━━━━━━━━━━\u001b[0m\u001b[37m\u001b[0m \u001b[1m19s\u001b[0m 63ms/step - loss: 3.2078 - mae: 1.1938 - mse: 3.2078 - val_loss: 0.9141 - val_mae: 0.6855 - val_mse: 0.9141\n",
      "Epoch 12/100\n",
      "\u001b[1m292/292\u001b[0m \u001b[32m━━━━━━━━━━━━━━━━━━━━\u001b[0m\u001b[37m\u001b[0m \u001b[1m19s\u001b[0m 63ms/step - loss: 3.0918 - mae: 1.1849 - mse: 3.0918 - val_loss: 0.9792 - val_mae: 0.7301 - val_mse: 0.9792\n",
      "Epoch 13/100\n",
      "\u001b[1m292/292\u001b[0m \u001b[32m━━━━━━━━━━━━━━━━━━━━\u001b[0m\u001b[37m\u001b[0m \u001b[1m19s\u001b[0m 63ms/step - loss: 3.2333 - mae: 1.2083 - mse: 3.2333 - val_loss: 0.9880 - val_mae: 0.7349 - val_mse: 0.9880\n",
      "Epoch 14/100\n",
      "\u001b[1m292/292\u001b[0m \u001b[32m━━━━━━━━━━━━━━━━━━━━\u001b[0m\u001b[37m\u001b[0m \u001b[1m19s\u001b[0m 63ms/step - loss: 3.0558 - mae: 1.1755 - mse: 3.0558 - val_loss: 0.9330 - val_mae: 0.7014 - val_mse: 0.9330\n",
      "Epoch 15/100\n",
      "\u001b[1m292/292\u001b[0m \u001b[32m━━━━━━━━━━━━━━━━━━━━\u001b[0m\u001b[37m\u001b[0m \u001b[1m19s\u001b[0m 63ms/step - loss: 3.1455 - mae: 1.1971 - mse: 3.1455 - val_loss: 0.8999 - val_mae: 0.6757 - val_mse: 0.8999\n",
      "Epoch 16/100\n",
      "\u001b[1m292/292\u001b[0m \u001b[32m━━━━━━━━━━━━━━━━━━━━\u001b[0m\u001b[37m\u001b[0m \u001b[1m19s\u001b[0m 63ms/step - loss: 3.0757 - mae: 1.1805 - mse: 3.0757 - val_loss: 0.9305 - val_mae: 0.7033 - val_mse: 0.9305\n",
      "Epoch 17/100\n",
      "\u001b[1m292/292\u001b[0m \u001b[32m━━━━━━━━━━━━━━━━━━━━\u001b[0m\u001b[37m\u001b[0m \u001b[1m19s\u001b[0m 63ms/step - loss: 3.0770 - mae: 1.1792 - mse: 3.0770 - val_loss: 0.9082 - val_mae: 0.6815 - val_mse: 0.9082\n",
      "Epoch 18/100\n",
      "\u001b[1m292/292\u001b[0m \u001b[32m━━━━━━━━━━━━━━━━━━━━\u001b[0m\u001b[37m\u001b[0m \u001b[1m19s\u001b[0m 63ms/step - loss: 3.1022 - mae: 1.1801 - mse: 3.1022 - val_loss: 0.9370 - val_mae: 0.6936 - val_mse: 0.9370\n",
      "Epoch 19/100\n",
      "\u001b[1m292/292\u001b[0m \u001b[32m━━━━━━━━━━━━━━━━━━━━\u001b[0m\u001b[37m\u001b[0m \u001b[1m19s\u001b[0m 63ms/step - loss: 3.1612 - mae: 1.1913 - mse: 3.1612 - val_loss: 0.9462 - val_mae: 0.7110 - val_mse: 0.9462\n",
      "Epoch 20/100\n",
      "\u001b[1m292/292\u001b[0m \u001b[32m━━━━━━━━━━━━━━━━━━━━\u001b[0m\u001b[37m\u001b[0m \u001b[1m19s\u001b[0m 63ms/step - loss: 3.1357 - mae: 1.1903 - mse: 3.1357 - val_loss: 0.9208 - val_mae: 0.6947 - val_mse: 0.9208\n",
      "Epoch 21/100\n",
      "\u001b[1m292/292\u001b[0m \u001b[32m━━━━━━━━━━━━━━━━━━━━\u001b[0m\u001b[37m\u001b[0m \u001b[1m19s\u001b[0m 63ms/step - loss: 3.1577 - mae: 1.1991 - mse: 3.1577 - val_loss: 0.9153 - val_mae: 0.6868 - val_mse: 0.9153\n",
      "Epoch 22/100\n",
      "\u001b[1m292/292\u001b[0m \u001b[32m━━━━━━━━━━━━━━━━━━━━\u001b[0m\u001b[37m\u001b[0m \u001b[1m20s\u001b[0m 64ms/step - loss: 3.0931 - mae: 1.1828 - mse: 3.0931 - val_loss: 0.9099 - val_mae: 0.6870 - val_mse: 0.9099\n",
      "Epoch 23/100\n",
      "\u001b[1m292/292\u001b[0m \u001b[32m━━━━━━━━━━━━━━━━━━━━\u001b[0m\u001b[37m\u001b[0m \u001b[1m20s\u001b[0m 65ms/step - loss: 3.1119 - mae: 1.1841 - mse: 3.1119 - val_loss: 0.9244 - val_mae: 0.6983 - val_mse: 0.9244\n",
      "Epoch 24/100\n",
      "\u001b[1m292/292\u001b[0m \u001b[32m━━━━━━━━━━━━━━━━━━━━\u001b[0m\u001b[37m\u001b[0m \u001b[1m20s\u001b[0m 64ms/step - loss: 3.0937 - mae: 1.1878 - mse: 3.0937 - val_loss: 0.9023 - val_mae: 0.6819 - val_mse: 0.9023\n",
      "Epoch 25/100\n",
      "\u001b[1m292/292\u001b[0m \u001b[32m━━━━━━━━━━━━━━━━━━━━\u001b[0m\u001b[37m\u001b[0m \u001b[1m20s\u001b[0m 64ms/step - loss: 3.0666 - mae: 1.1741 - mse: 3.0666 - val_loss: 0.9166 - val_mae: 0.6916 - val_mse: 0.9166\n"
     ]
    }
   ],
   "source": [
    "is_start_train = input(\"Start train? (y/n): \").lower()[0] == \"y\"\n",
    "if is_start_train:\n",
    "    folder_tmp = f\"{dataset_folder}/tmp_model\"\n",
    "    os.makedirs(folder_tmp, exist_ok=False)\n",
    "    history = model.fit(\n",
    "        dataset_train_3, \n",
    "        validation_data=dataset_test_3,\n",
    "        epochs=max_epochs, \n",
    "        steps_per_epoch=STEPS_PER_EPOCH,\n",
    "        callbacks=get_callbacks(name_folder_save_metrics, metric_mse_name, number_epochs_to_wait)\n",
    "    )"
   ]
  },
  {
   "cell_type": "code",
   "execution_count": 24,
   "metadata": {},
   "outputs": [
    {
     "name": "stdout",
     "output_type": "stream",
     "text": [
      "6/6 - 1s - 100ms/step - loss: 0.9166 - mae: 0.6916 - mse: 0.9166\n"
     ]
    }
   ],
   "source": [
    "loss = model.evaluate(dataset_test_3, verbose=2)"
   ]
  },
  {
   "cell_type": "code",
   "execution_count": 25,
   "metadata": {},
   "outputs": [
    {
     "data": {
      "text/plain": [
       "[0.9165915846824646, 0.6916269659996033, 0.9165915846824646]"
      ]
     },
     "execution_count": 25,
     "metadata": {},
     "output_type": "execute_result"
    }
   ],
   "source": [
    "loss"
   ]
  },
  {
   "cell_type": "code",
   "execution_count": 26,
   "metadata": {},
   "outputs": [],
   "source": [
    "def get_folder_path_to_save_model(model_name):\n",
    "    new_model_name = model_name\n",
    "    path_save = f\"{dataset_folder}/model_save/{new_model_name}\"\n",
    "    while os.path.exists(path_save):\n",
    "        print(f\"-- {path_save} already exists\")\n",
    "        random_index = random.randint(0, 100)\n",
    "        new_model_name = new_model_name + f\"_{random_index}\"\n",
    "        path_save = f\"{dataset_folder}/model_save/{new_model_name}\"\n",
    "        print(f\"-- Change to {path_save}\")\n",
    "    os.makedirs(path_save, exist_ok=False)\n",
    "    return path_save, new_model_name "
   ]
  },
  {
   "cell_type": "code",
   "execution_count": 27,
   "metadata": {},
   "outputs": [],
   "source": [
    "def save_model(model: keras.Sequential, folder_path, new_model_name):\n",
    "    path_save = f\"{folder_path}/{new_model_name}.keras\"\n",
    "    abspath_save = os.path.abspath(path_save)\n",
    "    model.save(abspath_save)\n",
    "    return path_save"
   ]
  },
  {
   "cell_type": "code",
   "execution_count": 28,
   "metadata": {},
   "outputs": [],
   "source": [
    "def save_model_and_config(model: keras.Sequential, epoch):\n",
    "    folder_path, new_model_name = get_folder_path_to_save_model(f\"{model_name}_epoch_{epoch}\")\n",
    "    model_name_saved = save_model(model, folder_path, new_model_name)\n",
    "    loss = model.evaluate(dataset_test_3)\n",
    "    config_and_loss = {\n",
    "        \"config\": {\n",
    "            \"batch_size\": batch_size,\n",
    "            \"STEPS_PER_EPOCH\": STEPS_PER_EPOCH,\n",
    "            \"name_sub_folder_save_metrics\": name_sub_folder_save_metrics,\n",
    "            \"name_folder_save_metrics\": name_folder_save_metrics,\n",
    "            \"max_epochs\": max_epochs,\n",
    "            \"val_loss_metric_mae_to_stop\": val_loss_metric_mae_to_stop,\n",
    "            \"val_loss_metric_mse_to_stop\": val_loss_metric_mse_to_stop,\n",
    "            \"start_learning_rate\": start_learning_rate,\n",
    "            \"shuffle_buffer\": shuffle_buffer,\n",
    "            \"number_epochs_to_decrease_lr\": number_epochs_to_decrease_lr,\n",
    "            \"number_epochs_to_wait\": number_epochs_to_wait,\n",
    "            \"model_function\": function_transform_origin.__name__,\n",
    "            \"time_created\": str(datetime.now()),\n",
    "            \"epoch\": epoch\n",
    "        },\n",
    "        \"loss\": {\n",
    "            \"val_mse_loss\": loss[0],\n",
    "            \"val_mae_loss\": loss[1],\n",
    "        }\n",
    "    }\n",
    "    with open(f\"{folder_path}/config_and_loss.json\", \"w\") as file:\n",
    "        json.dump(config_and_loss, file, indent=2)\n",
    "    code_str = inspect.getsource(model_function)\n",
    "    with open(f\"{folder_path}/model_function_code.py\", \"w\", encoding=\"utf8\") as file:\n",
    "        file.write(code_str)\n",
    "    \n",
    "    return new_model_name"
   ]
  },
  {
   "cell_type": "code",
   "execution_count": 29,
   "metadata": {},
   "outputs": [],
   "source": [
    "list_name_models = []\n",
    "list_models = []\n",
    "df_result = tracking_loss_callback.get_df_result()"
   ]
  },
  {
   "cell_type": "code",
   "execution_count": 30,
   "metadata": {},
   "outputs": [
    {
     "data": {
      "text/html": [
       "<div>\n",
       "<style scoped>\n",
       "    .dataframe tbody tr th:only-of-type {\n",
       "        vertical-align: middle;\n",
       "    }\n",
       "\n",
       "    .dataframe tbody tr th {\n",
       "        vertical-align: top;\n",
       "    }\n",
       "\n",
       "    .dataframe thead th {\n",
       "        text-align: right;\n",
       "    }\n",
       "</style>\n",
       "<table border=\"1\" class=\"dataframe\">\n",
       "  <thead>\n",
       "    <tr style=\"text-align: right;\">\n",
       "      <th></th>\n",
       "      <th>epoch</th>\n",
       "      <th>val_mse</th>\n",
       "      <th>mse</th>\n",
       "    </tr>\n",
       "  </thead>\n",
       "  <tbody>\n",
       "    <tr>\n",
       "      <th>14</th>\n",
       "      <td>14</td>\n",
       "      <td>0.899857</td>\n",
       "      <td>3.204700</td>\n",
       "    </tr>\n",
       "    <tr>\n",
       "      <th>7</th>\n",
       "      <td>7</td>\n",
       "      <td>0.901988</td>\n",
       "      <td>3.242481</td>\n",
       "    </tr>\n",
       "    <tr>\n",
       "      <th>23</th>\n",
       "      <td>23</td>\n",
       "      <td>0.902292</td>\n",
       "      <td>3.201107</td>\n",
       "    </tr>\n",
       "    <tr>\n",
       "      <th>5</th>\n",
       "      <td>5</td>\n",
       "      <td>0.903537</td>\n",
       "      <td>3.252222</td>\n",
       "    </tr>\n",
       "    <tr>\n",
       "      <th>16</th>\n",
       "      <td>16</td>\n",
       "      <td>0.908249</td>\n",
       "      <td>3.208891</td>\n",
       "    </tr>\n",
       "    <tr>\n",
       "      <th>9</th>\n",
       "      <td>9</td>\n",
       "      <td>0.909266</td>\n",
       "      <td>3.220115</td>\n",
       "    </tr>\n",
       "    <tr>\n",
       "      <th>6</th>\n",
       "      <td>6</td>\n",
       "      <td>0.909807</td>\n",
       "      <td>3.245163</td>\n",
       "    </tr>\n",
       "    <tr>\n",
       "      <th>21</th>\n",
       "      <td>21</td>\n",
       "      <td>0.909933</td>\n",
       "      <td>3.205318</td>\n",
       "    </tr>\n",
       "    <tr>\n",
       "      <th>10</th>\n",
       "      <td>10</td>\n",
       "      <td>0.914075</td>\n",
       "      <td>3.233507</td>\n",
       "    </tr>\n",
       "    <tr>\n",
       "      <th>20</th>\n",
       "      <td>20</td>\n",
       "      <td>0.915254</td>\n",
       "      <td>3.199687</td>\n",
       "    </tr>\n",
       "    <tr>\n",
       "      <th>24</th>\n",
       "      <td>24</td>\n",
       "      <td>0.916592</td>\n",
       "      <td>3.201690</td>\n",
       "    </tr>\n",
       "    <tr>\n",
       "      <th>19</th>\n",
       "      <td>19</td>\n",
       "      <td>0.920787</td>\n",
       "      <td>3.206702</td>\n",
       "    </tr>\n",
       "    <tr>\n",
       "      <th>22</th>\n",
       "      <td>22</td>\n",
       "      <td>0.924400</td>\n",
       "      <td>3.206250</td>\n",
       "    </tr>\n",
       "    <tr>\n",
       "      <th>15</th>\n",
       "      <td>15</td>\n",
       "      <td>0.930500</td>\n",
       "      <td>3.202503</td>\n",
       "    </tr>\n",
       "    <tr>\n",
       "      <th>13</th>\n",
       "      <td>13</td>\n",
       "      <td>0.933022</td>\n",
       "      <td>3.214041</td>\n",
       "    </tr>\n",
       "    <tr>\n",
       "      <th>17</th>\n",
       "      <td>17</td>\n",
       "      <td>0.936961</td>\n",
       "      <td>3.205568</td>\n",
       "    </tr>\n",
       "    <tr>\n",
       "      <th>18</th>\n",
       "      <td>18</td>\n",
       "      <td>0.946168</td>\n",
       "      <td>3.200630</td>\n",
       "    </tr>\n",
       "    <tr>\n",
       "      <th>4</th>\n",
       "      <td>4</td>\n",
       "      <td>0.949493</td>\n",
       "      <td>3.271902</td>\n",
       "    </tr>\n",
       "    <tr>\n",
       "      <th>8</th>\n",
       "      <td>8</td>\n",
       "      <td>0.968790</td>\n",
       "      <td>3.240650</td>\n",
       "    </tr>\n",
       "    <tr>\n",
       "      <th>11</th>\n",
       "      <td>11</td>\n",
       "      <td>0.979160</td>\n",
       "      <td>3.221765</td>\n",
       "    </tr>\n",
       "    <tr>\n",
       "      <th>12</th>\n",
       "      <td>12</td>\n",
       "      <td>0.988024</td>\n",
       "      <td>3.215648</td>\n",
       "    </tr>\n",
       "    <tr>\n",
       "      <th>2</th>\n",
       "      <td>2</td>\n",
       "      <td>1.014153</td>\n",
       "      <td>3.440619</td>\n",
       "    </tr>\n",
       "    <tr>\n",
       "      <th>3</th>\n",
       "      <td>3</td>\n",
       "      <td>1.033901</td>\n",
       "      <td>3.315137</td>\n",
       "    </tr>\n",
       "    <tr>\n",
       "      <th>0</th>\n",
       "      <td>0</td>\n",
       "      <td>1.107959</td>\n",
       "      <td>3.471158</td>\n",
       "    </tr>\n",
       "    <tr>\n",
       "      <th>1</th>\n",
       "      <td>1</td>\n",
       "      <td>1.145039</td>\n",
       "      <td>3.483921</td>\n",
       "    </tr>\n",
       "  </tbody>\n",
       "</table>\n",
       "</div>"
      ],
      "text/plain": [
       "    epoch   val_mse       mse\n",
       "14     14  0.899857  3.204700\n",
       "7       7  0.901988  3.242481\n",
       "23     23  0.902292  3.201107\n",
       "5       5  0.903537  3.252222\n",
       "16     16  0.908249  3.208891\n",
       "9       9  0.909266  3.220115\n",
       "6       6  0.909807  3.245163\n",
       "21     21  0.909933  3.205318\n",
       "10     10  0.914075  3.233507\n",
       "20     20  0.915254  3.199687\n",
       "24     24  0.916592  3.201690\n",
       "19     19  0.920787  3.206702\n",
       "22     22  0.924400  3.206250\n",
       "15     15  0.930500  3.202503\n",
       "13     13  0.933022  3.214041\n",
       "17     17  0.936961  3.205568\n",
       "18     18  0.946168  3.200630\n",
       "4       4  0.949493  3.271902\n",
       "8       8  0.968790  3.240650\n",
       "11     11  0.979160  3.221765\n",
       "12     12  0.988024  3.215648\n",
       "2       2  1.014153  3.440619\n",
       "3       3  1.033901  3.315137\n",
       "0       0  1.107959  3.471158\n",
       "1       1  1.145039  3.483921"
      ]
     },
     "execution_count": 30,
     "metadata": {},
     "output_type": "execute_result"
    }
   ],
   "source": [
    "df_result"
   ]
  },
  {
   "cell_type": "code",
   "execution_count": 40,
   "metadata": {},
   "outputs": [
    {
     "name": "stdout",
     "output_type": "stream",
     "text": [
      "Save model_tmp_20.keras\n"
     ]
    },
    {
     "name": "stderr",
     "output_type": "stream",
     "text": [
      "d:\\code\\selenium\\.venv\\lib\\site-packages\\keras\\src\\models\\functional.py:225: UserWarning: The structure of `inputs` doesn't match the expected structure: ['ema_9_input', 'macd_history_input', 'trend_type_input', 'image_input']. Received: the structure of inputs=('*', '*', '*', '*')\n",
      "  warnings.warn(\n"
     ]
    },
    {
     "name": "stdout",
     "output_type": "stream",
     "text": [
      "\u001b[1m6/6\u001b[0m \u001b[32m━━━━━━━━━━━━━━━━━━━━\u001b[0m\u001b[37m\u001b[0m \u001b[1m1s\u001b[0m 14ms/step - loss: 0.8584 - mae: 0.6698 - mse: 0.8584\n",
      "Save model_tmp_21.keras\n",
      "\u001b[1m6/6\u001b[0m \u001b[32m━━━━━━━━━━━━━━━━━━━━\u001b[0m\u001b[37m\u001b[0m \u001b[1m1s\u001b[0m 15ms/step - loss: 0.9147 - mae: 0.6900 - mse: 0.9147\n",
      "Save model_tmp_22.keras\n",
      "\u001b[1m6/6\u001b[0m \u001b[32m━━━━━━━━━━━━━━━━━━━━\u001b[0m\u001b[37m\u001b[0m \u001b[1m1s\u001b[0m 14ms/step - loss: 0.7783 - mae: 0.6466 - mse: 0.7783\n",
      "Save model_tmp_23.keras\n",
      "\u001b[1m6/6\u001b[0m \u001b[32m━━━━━━━━━━━━━━━━━━━━\u001b[0m\u001b[37m\u001b[0m \u001b[1m1s\u001b[0m 13ms/step - loss: 0.9602 - mae: 0.6973 - mse: 0.9602\n",
      "Save model_tmp_24.keras\n",
      "\u001b[1m6/6\u001b[0m \u001b[32m━━━━━━━━━━━━━━━━━━━━\u001b[0m\u001b[37m\u001b[0m \u001b[1m1s\u001b[0m 15ms/step - loss: 0.8790 - mae: 0.6743 - mse: 0.8790\n",
      "Save model_tmp_25.keras\n",
      "model ../dataset/ctg_with_ema_macd_trend/tmp_model/model_tmp_25.keras does not exist.\n",
      "Save model_tmp_15.keras\n",
      "\u001b[1m6/6\u001b[0m \u001b[32m━━━━━━━━━━━━━━━━━━━━\u001b[0m\u001b[37m\u001b[0m \u001b[1m1s\u001b[0m 13ms/step - loss: 0.8384 - mae: 0.6718 - mse: 0.8384\n",
      "Save model_tmp_14.keras\n",
      "\u001b[1m6/6\u001b[0m \u001b[32m━━━━━━━━━━━━━━━━━━━━\u001b[0m\u001b[37m\u001b[0m \u001b[1m1s\u001b[0m 13ms/step - loss: 0.9117 - mae: 0.6703 - mse: 0.9117\n",
      "Save model_tmp_13.keras\n",
      "\u001b[1m6/6\u001b[0m \u001b[32m━━━━━━━━━━━━━━━━━━━━\u001b[0m\u001b[37m\u001b[0m \u001b[1m1s\u001b[0m 13ms/step - loss: 1.0378 - mae: 0.7351 - mse: 1.0378\n",
      "Save model_tmp_12.keras\n",
      "\u001b[1m6/6\u001b[0m \u001b[32m━━━━━━━━━━━━━━━━━━━━\u001b[0m\u001b[37m\u001b[0m \u001b[1m1s\u001b[0m 13ms/step - loss: 0.9980 - mae: 0.7483 - mse: 0.9980\n"
     ]
    }
   ],
   "source": [
    "if input(\"save model? (y/n): \").lower()[0] == \"y\":\n",
    "    is_save_model_from_tmp = input(\"Save model from tmp file? (y/n): \").lower()[0] == \"y\"\n",
    "    \n",
    "    if is_save_model_from_tmp:\n",
    "        while True and os.path.exists(folder_tmp):\n",
    "            epoch = input(f\"Epoch = (s for stop)\")\n",
    "            if not str.isdigit(epoch):\n",
    "                break\n",
    "            else:\n",
    "                epoch = int(epoch)\n",
    "            \n",
    "            model_tmp_name = f\"model_tmp_{epoch}.keras\"\n",
    "            print(f\"Save {model_tmp_name}\")\n",
    "            model_tmp_path = f\"{folder_tmp}/{model_tmp_name}\"\n",
    "            if not os.path.exists(model_tmp_path):\n",
    "                print(f\"model {model_tmp_path} does not exist.\")\n",
    "                continue\n",
    "            \n",
    "            try:\n",
    "                model_tmp = keras.models.load_model(model_tmp_path)\n",
    "                name_model_tmp_saved = save_model_and_config(model_tmp, epoch)\n",
    "                list_name_models.append(name_model_tmp_saved)\n",
    "                list_models.append(model_tmp)\n",
    "            except Exception as err:\n",
    "                print(err)\n",
    "                continue\n",
    "    \n",
    "    is_save_last_model = input(\"Save last model? (y/n): \").lower()[0] == \"y\"\n",
    "    if is_save_last_model:\n",
    "        name_last_model_saved = save_model_and_config(model, \"last\")\n",
    "        list_name_models.append(name_last_model_saved)\n",
    "        list_models.append(model)\n",
    "\n",
    "is_delete_tmp_model_folder = input(\"Delete model tmp folder? (y/n): \").lower()[0] == \"y\"\n",
    "if is_delete_tmp_model_folder:\n",
    "    if os.path.exists(folder_tmp):\n",
    "        shutil.rmtree(folder_tmp)\n",
    "    else:\n",
    "        print(f\"{folder_tmp} does not exist.\")\n",
    "    "
   ]
  },
  {
   "cell_type": "code",
   "execution_count": 41,
   "metadata": {},
   "outputs": [
    {
     "name": "stdout",
     "output_type": "stream",
     "text": [
      "\u001b[1m6/6\u001b[0m \u001b[32m━━━━━━━━━━━━━━━━━━━━\u001b[0m\u001b[37m\u001b[0m \u001b[1m0s\u001b[0m 14ms/step - loss: 0.7411 - mae: 0.6317 - mse: 0.7411\n",
      "channels_to_time_step_attention_ema_macd_trend_epoch_20: [0.9152538180351257, 0.6867840886116028, 0.9152536988258362]\n",
      "\u001b[1m6/6\u001b[0m \u001b[32m━━━━━━━━━━━━━━━━━━━━\u001b[0m\u001b[37m\u001b[0m \u001b[1m0s\u001b[0m 13ms/step - loss: 0.9486 - mae: 0.7074 - mse: 0.9486\n",
      "channels_to_time_step_attention_ema_macd_trend_epoch_21: [0.90993332862854, 0.6870192289352417, 0.90993332862854]\n",
      "\u001b[1m6/6\u001b[0m \u001b[32m━━━━━━━━━━━━━━━━━━━━\u001b[0m\u001b[37m\u001b[0m \u001b[1m0s\u001b[0m 13ms/step - loss: 0.8355 - mae: 0.6620 - mse: 0.8355\n",
      "channels_to_time_step_attention_ema_macd_trend_epoch_22: [0.9243996739387512, 0.698266863822937, 0.9243995547294617]\n",
      "\u001b[1m6/6\u001b[0m \u001b[32m━━━━━━━━━━━━━━━━━━━━\u001b[0m\u001b[37m\u001b[0m \u001b[1m0s\u001b[0m 14ms/step - loss: 0.8560 - mae: 0.6467 - mse: 0.8560\n",
      "channels_to_time_step_attention_ema_macd_trend_epoch_23: [0.9022922515869141, 0.681883692741394, 0.9022921919822693]\n",
      "\u001b[1m6/6\u001b[0m \u001b[32m━━━━━━━━━━━━━━━━━━━━\u001b[0m\u001b[37m\u001b[0m \u001b[1m0s\u001b[0m 13ms/step - loss: 1.0330 - mae: 0.7403 - mse: 1.0330\n",
      "channels_to_time_step_attention_ema_macd_trend_epoch_24: [0.9165916442871094, 0.6916269659996033, 0.9165916442871094]\n",
      "\u001b[1m6/6\u001b[0m \u001b[32m━━━━━━━━━━━━━━━━━━━━\u001b[0m\u001b[37m\u001b[0m \u001b[1m0s\u001b[0m 13ms/step - loss: 0.8774 - mae: 0.6845 - mse: 0.8774\n",
      "channels_to_time_step_attention_ema_macd_trend_epoch_15: [0.9305002689361572, 0.7032675743103027, 0.9305001497268677]\n",
      "\u001b[1m6/6\u001b[0m \u001b[32m━━━━━━━━━━━━━━━━━━━━\u001b[0m\u001b[37m\u001b[0m \u001b[1m0s\u001b[0m 13ms/step - loss: 0.9562 - mae: 0.7019 - mse: 0.9562\n",
      "channels_to_time_step_attention_ema_macd_trend_epoch_14: [0.8998565077781677, 0.6756589412689209, 0.8998565077781677]\n",
      "\u001b[1m6/6\u001b[0m \u001b[32m━━━━━━━━━━━━━━━━━━━━\u001b[0m\u001b[37m\u001b[0m \u001b[1m0s\u001b[0m 14ms/step - loss: 0.9276 - mae: 0.7190 - mse: 0.9276\n",
      "channels_to_time_step_attention_ema_macd_trend_epoch_13: [0.9330223798751831, 0.7014487981796265, 0.9330222606658936]\n",
      "\u001b[1m6/6\u001b[0m \u001b[32m━━━━━━━━━━━━━━━━━━━━\u001b[0m\u001b[37m\u001b[0m \u001b[1m0s\u001b[0m 13ms/step - loss: 1.0379 - mae: 0.7618 - mse: 1.0379\n",
      "channels_to_time_step_attention_ema_macd_trend_epoch_12: [0.9880242347717285, 0.7349075078964233, 0.9880241751670837]\n"
     ]
    }
   ],
   "source": [
    "for model_loaded, model_name_loaded in zip(list_models, list_name_models):\n",
    "    loss = model_loaded.evaluate(dataset_test_3)\n",
    "    print(f\"{model_name_loaded}: {loss}\")"
   ]
  },
  {
   "cell_type": "code",
   "execution_count": 42,
   "metadata": {},
   "outputs": [],
   "source": [
    "size_histories = {}"
   ]
  },
  {
   "cell_type": "code",
   "execution_count": 43,
   "metadata": {},
   "outputs": [],
   "source": [
    "size_histories[name_sub_folder_save_metrics] = history "
   ]
  },
  {
   "cell_type": "code",
   "execution_count": 44,
   "metadata": {},
   "outputs": [
    {
     "data": {
      "text/plain": [
       "(0.8974046796560288, 1.1474911481142045)"
      ]
     },
     "execution_count": 44,
     "metadata": {},
     "output_type": "execute_result"
    },
    {
     "data": {
      "image/png": "[encoded data removed]",
      "text/plain": [
       "<Figure size 640x480 with 1 Axes>"
      ]
     },
     "metadata": {},
     "output_type": "display_data"
    }
   ],
   "source": [
    "min_val_loss = df_result[tracking_loss_callback.val_loss_key].min()\n",
    "max_val_loss = df_result[tracking_loss_callback.val_loss_key].max()\n",
    "scale = (max_val_loss - min_val_loss) / 100\n",
    "plotter = tfdocs.plots.HistoryPlotter(metric=metric_mse_name)\n",
    "plotter.plot(size_histories)\n",
    "plt.ylim([min_val_loss - scale, max_val_loss + scale])"
   ]
  },
  {
   "cell_type": "code",
   "execution_count": 45,
   "metadata": {},
   "outputs": [
    {
     "data": {
      "text/plain": [
       "(3.1968451499938966, 3.4867629051208495)"
      ]
     },
     "execution_count": 45,
     "metadata": {},
     "output_type": "execute_result"
    },
    {
     "data": {
      "image/png": "[encoded data removed]",
      "text/plain": [
       "<Figure size 640x480 with 1 Axes>"
      ]
     },
     "metadata": {},
     "output_type": "display_data"
    }
   ],
   "source": [
    "min_train_loss = df_result[tracking_loss_callback.train_loss_key].min()\n",
    "max_train_loss = df_result[tracking_loss_callback.train_loss_key].max()\n",
    "scale = (max_train_loss - min_train_loss) / 100\n",
    "plotter = tfdocs.plots.HistoryPlotter(metric=metric_mse_name)\n",
    "plotter.plot(size_histories)\n",
    "plt.ylim([min_train_loss - scale, max_train_loss + scale])"
   ]
  },
  {
   "cell_type": "code",
   "execution_count": 46,
   "metadata": {},
   "outputs": [],
   "source": [
    "# train_dataset = tf.data.Dataset.load(f'{dataset_folder}/train/next_3_day_up')\n",
    "# test_dataset = tf.data.Dataset.load(f'{dataset_folder}/test/next_3_day_up')\n",
    "# for x_train, y_train, date_train in train_dataset.take(2):\n",
    "#     pass\n",
    "# for x_test, y_test, date_test in test_dataset.take(2):\n",
    "#     pass\n",
    "# plt.imshow(x_train)\n",
    "# y_train\n",
    "# plt.imshow(x_test)\n",
    "# y_test"
   ]
  },
  {
   "cell_type": "code",
   "execution_count": 47,
   "metadata": {},
   "outputs": [
    {
     "data": {
      "text/plain": [
       "['channels_to_time_step_attention_ema_macd_trend_epoch_20',\n",
       " 'channels_to_time_step_attention_ema_macd_trend_epoch_21',\n",
       " 'channels_to_time_step_attention_ema_macd_trend_epoch_22',\n",
       " 'channels_to_time_step_attention_ema_macd_trend_epoch_23',\n",
       " 'channels_to_time_step_attention_ema_macd_trend_epoch_24',\n",
       " 'channels_to_time_step_attention_ema_macd_trend_epoch_15',\n",
       " 'channels_to_time_step_attention_ema_macd_trend_epoch_14',\n",
       " 'channels_to_time_step_attention_ema_macd_trend_epoch_13',\n",
       " 'channels_to_time_step_attention_ema_macd_trend_epoch_12']"
      ]
     },
     "execution_count": 47,
     "metadata": {},
     "output_type": "execute_result"
    }
   ],
   "source": [
    "list_name_models"
   ]
  },
  {
   "cell_type": "code",
   "execution_count": 48,
   "metadata": {},
   "outputs": [
    {
     "data": {
      "text/plain": [
       "'../dataset/ctg_with_ema_macd_trend'"
      ]
     },
     "execution_count": 48,
     "metadata": {},
     "output_type": "execute_result"
    }
   ],
   "source": [
    "dataset_folder"
   ]
  }
 ],
 "metadata": {
  "kernelspec": {
   "display_name": ".venv",
   "language": "python",
   "name": "python3"
  },
  "language_info": {
   "codemirror_mode": {
    "name": "ipython",
    "version": 3
   },
   "file_extension": ".py",
   "mimetype": "text/x-python",
   "name": "python",
   "nbconvert_exporter": "python",
   "pygments_lexer": "ipython3",
   "version": "3.9.7"
  }
 },
 "nbformat": 4,
 "nbformat_minor": 2
}
