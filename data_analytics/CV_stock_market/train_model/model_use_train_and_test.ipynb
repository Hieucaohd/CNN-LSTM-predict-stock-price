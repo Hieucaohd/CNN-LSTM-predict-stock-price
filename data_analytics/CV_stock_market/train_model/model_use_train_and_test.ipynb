{
 "cells": [
  {
   "cell_type": "code",
   "execution_count": 49,
   "metadata": {},
   "outputs": [],
   "source": [
    "import sys\n",
    "sys.path.append(\"../\")"
   ]
  },
  {
   "cell_type": "code",
   "execution_count": 50,
   "metadata": {},
   "outputs": [],
   "source": [
    "from utils.common_train_utils import *\n",
    "from utils.draw_candle_image import *\n",
    "from utils.evaluate_old_models import *\n",
    "from functools import partial\n",
    "from model_code import *\n",
    "from ta import add_all_ta_features\n",
    "from ta.utils import dropna\n",
    "import json\n",
    "import keras\n",
    "import matplotlib.pyplot as plt\n",
    "import numpy as np\n",
    "import os\n",
    "import pandas as pd\n",
    "import pathlib\n",
    "import shutil\n",
    "import ta\n",
    "import ta.momentum\n",
    "import ta.trend\n",
    "import tempfile\n",
    "import tensorflow as tf\n",
    "import tensorflow_docs as tfdocs\n",
    "import tensorflow_docs.modeling\n",
    "import tensorflow_docs.plots\n",
    "import inspect"
   ]
  },
  {
   "cell_type": "code",
   "execution_count": 51,
   "metadata": {},
   "outputs": [],
   "source": [
    "logdir = pathlib.Path(tempfile.mkdtemp())/\"tensorboard_logs\"\n",
    "shutil.rmtree(logdir, ignore_errors=True)"
   ]
  },
  {
   "cell_type": "code",
   "execution_count": 52,
   "metadata": {},
   "outputs": [
    {
     "name": "stdout",
     "output_type": "stream",
     "text": [
      "C:\\Users\\ADMIN\\AppData\\Local\\Temp\\tmp_4dv8ebw\\tensorboard_logs\n"
     ]
    }
   ],
   "source": [
    "print(logdir)"
   ]
  },
  {
   "cell_type": "code",
   "execution_count": 53,
   "metadata": {},
   "outputs": [],
   "source": [
    "symbol = input(\"symbol = \").strip().lower()"
   ]
  },
  {
   "cell_type": "code",
   "execution_count": 54,
   "metadata": {},
   "outputs": [],
   "source": [
    "dataset_folder = f\"../dataset/{symbol}_with_ema_macd_trend\""
   ]
  },
  {
   "cell_type": "code",
   "execution_count": 55,
   "metadata": {},
   "outputs": [],
   "source": [
    "config = read_config(dataset_folder)\n",
    "candle_type_and_directory_save: dict = config[\"candle_type_and_directory_save\"]\n",
    "previous_days = config[\"previous_days\"]\n",
    "next_days = config[\"next_days\"]\n",
    "days_result = config[\"days_result\"]"
   ]
  },
  {
   "cell_type": "code",
   "execution_count": 56,
   "metadata": {},
   "outputs": [],
   "source": [
    "dataset_test = load_dataset_of_each_type_and_combine(f\"{dataset_folder}/test\", candle_type_and_directory_save)\n",
    "total_data_test = len(dataset_test)"
   ]
  },
  {
   "cell_type": "code",
   "execution_count": 57,
   "metadata": {},
   "outputs": [],
   "source": [
    "dataset_train = load_dataset_of_each_type_and_combine(f\"{dataset_folder}/train\", candle_type_and_directory_save)\n",
    "total_data_train = len(dataset_train)"
   ]
  },
  {
   "cell_type": "code",
   "execution_count": 58,
   "metadata": {},
   "outputs": [
    {
     "data": {
      "text/plain": [
       "<_ConcatenateDataset element_spec=(TensorSpec(shape=(6, 1), dtype=tf.float64, name=None), TensorSpec(shape=(6, 1), dtype=tf.float64, name=None), TensorSpec(shape=(1,), dtype=tf.int32, name=None), TensorSpec(shape=(287, 287, 3), dtype=tf.float64, name=None), TensorSpec(shape=(6, 4), dtype=tf.float64, name=None), TensorSpec(shape=(), dtype=tf.string, name=None))>"
      ]
     },
     "execution_count": 58,
     "metadata": {},
     "output_type": "execute_result"
    }
   ],
   "source": [
    "dataset_train"
   ]
  },
  {
   "cell_type": "code",
   "execution_count": 59,
   "metadata": {},
   "outputs": [],
   "source": [
    "def channels_to_time_step_attention_ema_macd_trend(image_shape, days_result, days_of_ema_9=2, days_of_macd_history=2):\n",
    "\n",
    "    # Hàm Attention\n",
    "    def attention_3d_block(inputs):\n",
    "        # inputs.shape = (batch_sizes, time_steps=days_result, features=lstm_units)\n",
    "        time_steps = inputs.shape[1]\n",
    "        \n",
    "        a = keras.layers.Permute((2, 1))(inputs)  # (batch_sizes, features=lstm_units, time_steps=days_result)\n",
    "        \n",
    "        # Tính attention score: (batch_sizes, features=lstm_units, time_steps=days_result)\n",
    "        # Softmax áp dụng trên axis cuối\n",
    "        a = keras.layers.Dense(time_steps, activation='softmax')(a)  \n",
    "        \n",
    "        # Trả về attention score theo thứ tự: (batch_sizes, time_steps=days_result, features=lstm_units)\n",
    "        a_probs = keras.layers.Permute((2, 1))(a)  \n",
    "        \n",
    "        # Tính trọng số của inputs với attention score: (batch_sizes, time_steps=days_result, features=lstm_units)\n",
    "        output_attention_mul = keras.layers.Multiply()([inputs, a_probs])  \n",
    "        \n",
    "        return output_attention_mul\n",
    "\n",
    "    trend_type_input = keras.layers.Input(shape=(1,), name=\"trend_type_input\")\n",
    "    x1 = keras.layers.Dense(8, activation='relu')(trend_type_input)\n",
    "    x1 = keras.layers.RepeatVector(days_result)(x1) # (batch_size, days_result, 8)\n",
    "    \n",
    "    ema_9_input = keras.layers.Input(shape=(days_of_ema_9,), name=\"ema_9_input\")\n",
    "    x3 = keras.layers.Dense(8, activation='relu')(ema_9_input)\n",
    "    x3 = keras.layers.RepeatVector(days_result)(x3) # (batch_size, days_result, 8)\n",
    "    \n",
    "    macd_history_input = keras.layers.Input(shape=(days_of_macd_history,), name=\"macd_history_input\")\n",
    "    x4 = keras.layers.Dense(8, activation='relu')(macd_history_input)\n",
    "    x4 = keras.layers.RepeatVector(days_result)(x4) # (batch_size, days_result, 8)\n",
    "    \n",
    "    image_input = keras.layers.Input(shape=image_shape, name=\"image_input\") # (batch_size, height, width, channels)\n",
    "    x2 = keras.layers.Conv2D(8, (2, 2), strides=1, activation='relu')(image_input) # (batch_size, height, width, channels=8)\n",
    "    x2 = keras.layers.Conv2D(days_result, (2, 2), activation='relu')(x2) # (batch_size, height, width, channels=days_result)\n",
    "    x2 = keras.layers.MaxPooling2D((2, 2), strides=(2, 2))(x2)\n",
    "\n",
    "    x2 = keras.layers.Permute((3, 1, 2))(x2) # (batch_size, channels, height, width)\n",
    "    x2 = keras.layers.TimeDistributed(keras.layers.Flatten())(x2)\n",
    "    x2 = keras.layers.TimeDistributed(keras.layers.Dense(64, activation='relu'))(x2)\n",
    "    x2 = keras.layers.TimeDistributed(keras.layers.Dropout(0.1))(x2) # (batch_size, days_result, 64)\n",
    "    \n",
    "    x = keras.layers.concatenate([x3, x4, x1, x2], axis=-1)\n",
    "    x = keras.layers.TimeDistributed(keras.layers.Dense(64, activation='relu'))(x)\n",
    "    x = keras.layers.TimeDistributed(keras.layers.Dropout(0.1))(x)\n",
    "    x = keras.layers.TimeDistributed(keras.layers.Dense(64, activation='relu'))(x)\n",
    "    \n",
    "    # LSTM với Attention\n",
    "    lstm = keras.layers.LSTM(128, activation=\"relu\", return_sequences=True)(x)\n",
    "    lstm = keras.layers.Dropout(0.1)(lstm)\n",
    "    lstm = keras.layers.LSTM(128, activation=\"relu\", return_sequences=True)(lstm)\n",
    "    lstm_out = keras.layers.Dropout(0.1)(lstm) # (batch_sizes, time_steps=days_result, features=lstm_units)\n",
    "    \n",
    "    # Áp dụng Attention: (batch_sizes, time_steps=days_result, features=lstm_units)\n",
    "    attention_mul = attention_3d_block(lstm_out)\n",
    "    \n",
    "    # Lớp đầu ra\n",
    "    output = keras.layers.TimeDistributed(keras.layers.Dense(2, activation='linear'))(attention_mul)\n",
    "    \n",
    "    # Xây dựng mô hình\n",
    "    model = keras.models.Model(inputs=[ema_9_input, macd_history_input, trend_type_input, image_input], outputs=output)\n",
    "    \n",
    "    return model, \"channels_to_time_step_attention_ema_macd_trend\""
   ]
  },
  {
   "cell_type": "code",
   "execution_count": 60,
   "metadata": {},
   "outputs": [],
   "source": [
    "function_transform_origin = get_open_close_prices_percent_of_last_days_result_for_ema_macd_trend_dataset\n",
    "model_function = channels_to_time_step_attention_ema_macd_trend\n",
    "function_evaluate_old_model = evaluate_fpt_model_5_biLSTM_with_trend_type_2023_2024\n",
    "image_shape = get_image_shape(dataset_train, index_of_image=3)\n",
    "model, model_name = model_function(image_shape, days_result)"
   ]
  },
  {
   "cell_type": "code",
   "execution_count": 61,
   "metadata": {},
   "outputs": [],
   "source": [
    "# batch_size = 2**int(input(\"batch_size = 2^x, x = \").strip())\n",
    "batch_size = int(input(\"batch_size = \").strip())\n",
    "STEPS_PER_EPOCH = total_data_train // batch_size + 1\n",
    "name_sub_folder_save_metrics = f\"{model_name}_{os.path.basename(dataset_folder)}\"\n",
    "name_folder_save_metrics = f\"sizes/{model_name}_{os.path.basename(dataset_folder)}\"\n",
    "max_epochs = int(input(f\"max_epochs = \"))\n",
    "metric_mae_name = \"mae\"\n",
    "metric_mae_object = keras.metrics.MeanAbsoluteError(name=metric_mae_name)\n",
    "metric_mse_name = \"mse\"\n",
    "metric_mse_object = keras.metrics.MeanSquaredError(name=metric_mse_name)\n",
    "val_loss_metric_mae_to_stop = float(input(\"val_loss_metric_mae_to_stop = \"))\n",
    "val_loss_metric_mse_to_stop = float(input(\"val_loss_metric_mse_to_stop = \"))\n",
    "start_learning_rate = float(input(\"start_learning_rate = \").strip())\n",
    "shuffle_buffer = 300\n",
    "number_epochs_to_decrease_lr = int(input(\"number_epochs_to_decrease_lr = \"))\n",
    "number_epochs_to_wait = int(input(\"number_epochs_to_wait = \"))"
   ]
  },
  {
   "cell_type": "code",
   "execution_count": 62,
   "metadata": {},
   "outputs": [
    {
     "name": "stdout",
     "output_type": "stream",
     "text": [
      "2^3.0\n",
      "batch_size=8\n",
      "max_epochs=100\n",
      "start_learning_rate=0.01\n",
      "STEPS_PER_EPOCH=189\n",
      "val_loss_metric_mae_to_stop=-1.0\n",
      "val_loss_metric_mse_to_stop=-1.0\n",
      "number_epochs_to_decrease_lr=10\n",
      "number_epochs_to_wait=10\n"
     ]
    }
   ],
   "source": [
    "print(f\"2^{np.log2(batch_size)}\")\n",
    "print(f\"{batch_size=}\")\n",
    "print(f\"{max_epochs=}\")\n",
    "print(f\"{start_learning_rate=}\")\n",
    "print(f\"{STEPS_PER_EPOCH=}\")\n",
    "print(f\"{val_loss_metric_mae_to_stop=}\")\n",
    "print(f\"{val_loss_metric_mse_to_stop=}\")\n",
    "print(f\"{number_epochs_to_decrease_lr=}\")\n",
    "print(f\"{number_epochs_to_wait=}\")"
   ]
  },
  {
   "cell_type": "code",
   "execution_count": 63,
   "metadata": {},
   "outputs": [
    {
     "data": {
      "text/plain": [
       "'channels_to_time_step_attention_ema_macd_trend'"
      ]
     },
     "execution_count": 63,
     "metadata": {},
     "output_type": "execute_result"
    }
   ],
   "source": [
    "model_name"
   ]
  },
  {
   "cell_type": "code",
   "execution_count": 64,
   "metadata": {},
   "outputs": [
    {
     "data": {
      "text/plain": [
       "(1504, 231)"
      ]
     },
     "execution_count": 64,
     "metadata": {},
     "output_type": "execute_result"
    }
   ],
   "source": [
    "(total_data_train, total_data_test)"
   ]
  },
  {
   "cell_type": "code",
   "execution_count": 65,
   "metadata": {},
   "outputs": [],
   "source": [
    "dataset_train_1 = dataset_train.shuffle(shuffle_buffer)\n",
    "dataset_test_1 = dataset_test.shuffle(shuffle_buffer)\n",
    "\n",
    "dataset_train_2 = dataset_train_1.batch(batch_size)\n",
    "dataset_test_2 = dataset_test_1.batch(batch_size)\n",
    "\n",
    "transform_function = partial(function_transform_origin, days_result)\n",
    "dataset_train_3 = dataset_train_2.map(transform_function)\n",
    "dataset_test_3 = dataset_test_2.map(transform_function)"
   ]
  },
  {
   "cell_type": "code",
   "execution_count": 66,
   "metadata": {},
   "outputs": [],
   "source": [
    "# for features, labels in dataset_train_3.take(1):\n",
    "#     print(features[0].shape)\n",
    "#     print(features[1].shape)\n",
    "#     print(labels.shape)"
   ]
  },
  {
   "cell_type": "code",
   "execution_count": 67,
   "metadata": {},
   "outputs": [
    {
     "data": {
      "text/plain": [
       "(188, 29)"
      ]
     },
     "execution_count": 67,
     "metadata": {},
     "output_type": "execute_result"
    }
   ],
   "source": [
    "(len(dataset_train_3), len(dataset_test_3))"
   ]
  },
  {
   "cell_type": "code",
   "execution_count": 68,
   "metadata": {},
   "outputs": [],
   "source": [
    "class StopAtLossValue(keras.callbacks.Callback):\n",
    "    def __init__(self, target_loss, metric_name):\n",
    "        super(StopAtLossValue, self).__init__()\n",
    "        self.target_loss = target_loss\n",
    "        self.metric_name = metric_name\n",
    "\n",
    "    def on_epoch_end(self, epoch, logs=None):\n",
    "        # Lấy giá trị loss từ logs\n",
    "        current_loss = logs.get(f\"val_{self.metric_name}\")\n",
    "        if current_loss is not None and current_loss <= self.target_loss:\n",
    "            print(f\"\\nĐạt target loss = {self.target_loss}, dừng training tại epoch {epoch + 1}\")\n",
    "            self.model.stop_training = True\n",
    "\n",
    "\n",
    "class SaveModelCallback(keras.callbacks.Callback):\n",
    "    def __init__(self, save_path):\n",
    "        super().__init__()\n",
    "        self.save_path = save_path\n",
    "\n",
    "    def on_epoch_end(self, epoch, logs=None):\n",
    "        # Tạo tên file với số epoch\n",
    "        folder_tmp = f\"{self.save_path}/tmp_model\"\n",
    "        file_name = f\"{folder_tmp}/model_tmp_{epoch}.keras\"\n",
    "        self.model.save(file_name)  # Lưu toàn bộ model\n",
    "        \n",
    "\n",
    "class TrackingLossCallback(keras.callbacks.Callback):\n",
    "    def __init__(self, metric_name):\n",
    "        super().__init__()\n",
    "        self.list_epochs = []\n",
    "        self.list_val_loss = []\n",
    "        self.list_train_loss = []\n",
    "        self.metric_name = metric_name\n",
    "        self.val_loss_key = f\"val_{self.metric_name}\"\n",
    "        self.train_loss_key = f\"{self.metric_name}\"\n",
    "\n",
    "    def on_epoch_end(self, epoch, logs=None):\n",
    "        # Tạo tên file với số epoch\n",
    "        self.list_epochs.append(epoch)\n",
    "        self.list_val_loss.append(logs.get(self.val_loss_key))\n",
    "        self.list_train_loss.append(logs.get(self.train_loss_key))\n",
    "    \n",
    "    def get_df_result(self):\n",
    "        df = pd.DataFrame({\n",
    "            \"epoch\": self.list_epochs,\n",
    "            self.val_loss_key: self.list_val_loss,\n",
    "            self.train_loss_key: self.list_train_loss\n",
    "        })\n",
    "        df.sort_values(self.val_loss_key, inplace=True)\n",
    "        return df"
   ]
  },
  {
   "cell_type": "code",
   "execution_count": 69,
   "metadata": {},
   "outputs": [],
   "source": [
    "def get_optimizer(start_learning_rate, number_epochs_to_decrease_lr):\n",
    "    lr_schedule = keras.optimizers.schedules.InverseTimeDecay(\n",
    "        start_learning_rate,\n",
    "        decay_steps=STEPS_PER_EPOCH*number_epochs_to_decrease_lr,\n",
    "        decay_rate=1,\n",
    "        staircase=False\n",
    "    )\n",
    "    \n",
    "    return keras.optimizers.Adam(lr_schedule)\n",
    "\n",
    "tracking_loss_callback = TrackingLossCallback(metric_mse_name)\n",
    "def get_callbacks(name, metric_name, number_epochs_to_wait):\n",
    "    return [\n",
    "        tfdocs.modeling.EpochDots(),\n",
    "        StopAtLossValue(val_loss_metric_mae_to_stop, metric_mae_name),\n",
    "        StopAtLossValue(val_loss_metric_mse_to_stop, metric_mse_name),\n",
    "        SaveModelCallback(dataset_folder),\n",
    "        tracking_loss_callback,\n",
    "        keras.callbacks.EarlyStopping(monitor=f'val_loss', patience=number_epochs_to_wait),\n",
    "        keras.callbacks.TensorBoard(logdir/name)\n",
    "    ]\n",
    "  \n",
    "  \n",
    "model.compile(\n",
    "    loss=keras.losses.MeanSquaredError(),\n",
    "    optimizer=get_optimizer(start_learning_rate, number_epochs_to_decrease_lr),\n",
    "    metrics=[\n",
    "        metric_mae_object,\n",
    "        metric_mse_object\n",
    "    ],\n",
    ")\n"
   ]
  },
  {
   "cell_type": "code",
   "execution_count": 70,
   "metadata": {},
   "outputs": [
    {
     "name": "stdout",
     "output_type": "stream",
     "text": [
      "\u001b[1m29/29\u001b[0m \u001b[32m━━━━━━━━━━━━━━━━━━━━\u001b[0m\u001b[37m\u001b[0m \u001b[1m2s\u001b[0m 13ms/step - loss: 7.2785 - mae: 1.7873 - mse: 7.2785\n",
      "\u001b[1m29/29\u001b[0m \u001b[32m━━━━━━━━━━━━━━━━━━━━\u001b[0m\u001b[37m\u001b[0m \u001b[1m1s\u001b[0m 14ms/step - loss: 6.3574 - mae: 1.6815 - mse: 6.3574\n"
     ]
    },
    {
     "data": {
      "text/html": [
       "<div>\n",
       "<style scoped>\n",
       "    .dataframe tbody tr th:only-of-type {\n",
       "        vertical-align: middle;\n",
       "    }\n",
       "\n",
       "    .dataframe tbody tr th {\n",
       "        vertical-align: top;\n",
       "    }\n",
       "\n",
       "    .dataframe thead th {\n",
       "        text-align: right;\n",
       "    }\n",
       "</style>\n",
       "<table border=\"1\" class=\"dataframe\">\n",
       "  <thead>\n",
       "    <tr style=\"text-align: right;\">\n",
       "      <th></th>\n",
       "      <th>model_name</th>\n",
       "      <th>mse</th>\n",
       "      <th>mae</th>\n",
       "    </tr>\n",
       "  </thead>\n",
       "  <tbody>\n",
       "    <tr>\n",
       "      <th>1</th>\n",
       "      <td>model_5_biLSTM_ema_macd_trend_1_1</td>\n",
       "      <td>7.014736</td>\n",
       "      <td>1.748492</td>\n",
       "    </tr>\n",
       "    <tr>\n",
       "      <th>0</th>\n",
       "      <td>channels_to_time_step_attention_ema_macd_trend_1</td>\n",
       "      <td>7.100112</td>\n",
       "      <td>1.788551</td>\n",
       "    </tr>\n",
       "  </tbody>\n",
       "</table>\n",
       "</div>"
      ],
      "text/plain": [
       "                                         model_name       mse       mae\n",
       "1                 model_5_biLSTM_ema_macd_trend_1_1  7.014736  1.748492\n",
       "0  channels_to_time_step_attention_ema_macd_trend_1  7.100112  1.788551"
      ]
     },
     "execution_count": 70,
     "metadata": {},
     "output_type": "execute_result"
    }
   ],
   "source": [
    "# Ví dụ\n",
    "all_models_folder_path = os.path.join(os.path.abspath(dataset_folder), \"model_save\")\n",
    "evaluate_all_models_in_dataset_folder(\n",
    "    all_models_folder_path, \n",
    "    dataset_test_2,\n",
    "    days_result\n",
    ")"
   ]
  },
  {
   "cell_type": "code",
   "execution_count": 71,
   "metadata": {},
   "outputs": [
    {
     "name": "stdout",
     "output_type": "stream",
     "text": [
      "Epoch 1/100\n"
     ]
    },
    {
     "name": "stderr",
     "output_type": "stream",
     "text": [
      "d:\\code\\selenium\\.venv\\lib\\site-packages\\keras\\src\\models\\functional.py:225: UserWarning: The structure of `inputs` doesn't match the expected structure: ['ema_9_input', 'macd_history_input', 'trend_type_input', 'image_input']. Received: the structure of inputs=('*', '*', '*', '*')\n",
      "  warnings.warn(\n"
     ]
    },
    {
     "name": "stdout",
     "output_type": "stream",
     "text": [
      "\u001b[1m187/189\u001b[0m \u001b[32m━━━━━━━━━━━━━━━━━━━\u001b[0m\u001b[37m━\u001b[0m \u001b[1m0s\u001b[0m 50ms/step - loss: 15.5402 - mae: 2.3620 - mse: 15.5402"
     ]
    },
    {
     "name": "stderr",
     "output_type": "stream",
     "text": [
      "C:\\Users\\ADMIN\\AppData\\Local\\Programs\\Python\\Python39\\lib\\contextlib.py:137: UserWarning: Your input ran out of data; interrupting training. Make sure that your dataset or generator can generate at least `steps_per_epoch * epochs` batches. You may need to use the `.repeat()` function when building your dataset.\n",
      "  self.gen.throw(typ, value, traceback)\n"
     ]
    },
    {
     "name": "stdout",
     "output_type": "stream",
     "text": [
      "\n",
      "Epoch: 0, loss:16.4232,  mae:2.3817,  mse:16.4232,  val_loss:7.8762,  val_mae:1.7836,  val_mse:7.8762,  \n",
      "\u001b[1m189/189\u001b[0m \u001b[32m━━━━━━━━━━━━━━━━━━━━\u001b[0m\u001b[37m\u001b[0m \u001b[1m16s\u001b[0m 57ms/step - loss: 15.5496 - mae: 2.3622 - mse: 15.5496 - val_loss: 7.8762 - val_mae: 1.7836 - val_mse: 7.8762\n",
      "Epoch 2/100\n",
      "\u001b[1m189/189\u001b[0m \u001b[32m━━━━━━━━━━━━━━━━━━━━\u001b[0m\u001b[37m\u001b[0m \u001b[1m10s\u001b[0m 49ms/step - loss: 16.0835 - mae: 2.3988 - mse: 16.0835 - val_loss: 7.8311 - val_mae: 1.7856 - val_mse: 7.8311\n",
      "Epoch 3/100\n",
      "\u001b[1m189/189\u001b[0m \u001b[32m━━━━━━━━━━━━━━━━━━━━\u001b[0m\u001b[37m\u001b[0m \u001b[1m10s\u001b[0m 50ms/step - loss: 15.7113 - mae: 2.4008 - mse: 15.7113 - val_loss: 7.5388 - val_mae: 1.8444 - val_mse: 7.5388\n",
      "Epoch 4/100\n",
      "\u001b[1m189/189\u001b[0m \u001b[32m━━━━━━━━━━━━━━━━━━━━\u001b[0m\u001b[37m\u001b[0m \u001b[1m10s\u001b[0m 49ms/step - loss: 15.4569 - mae: 2.3804 - mse: 15.4569 - val_loss: 7.3459 - val_mae: 1.8020 - val_mse: 7.3459\n",
      "Epoch 5/100\n",
      "\u001b[1m189/189\u001b[0m \u001b[32m━━━━━━━━━━━━━━━━━━━━\u001b[0m\u001b[37m\u001b[0m \u001b[1m10s\u001b[0m 50ms/step - loss: 14.5711 - mae: 2.3634 - mse: 14.5711 - val_loss: 7.0601 - val_mae: 1.7850 - val_mse: 7.0601\n",
      "Epoch 6/100\n",
      "\u001b[1m189/189\u001b[0m \u001b[32m━━━━━━━━━━━━━━━━━━━━\u001b[0m\u001b[37m\u001b[0m \u001b[1m10s\u001b[0m 50ms/step - loss: 14.2257 - mae: 2.3383 - mse: 14.2257 - val_loss: 7.1716 - val_mae: 1.8046 - val_mse: 7.1716\n",
      "Epoch 7/100\n",
      "\u001b[1m189/189\u001b[0m \u001b[32m━━━━━━━━━━━━━━━━━━━━\u001b[0m\u001b[37m\u001b[0m \u001b[1m10s\u001b[0m 50ms/step - loss: 14.7688 - mae: 2.3518 - mse: 14.7688 - val_loss: 7.1269 - val_mae: 1.8017 - val_mse: 7.1269\n",
      "Epoch 8/100\n",
      "\u001b[1m189/189\u001b[0m \u001b[32m━━━━━━━━━━━━━━━━━━━━\u001b[0m\u001b[37m\u001b[0m \u001b[1m10s\u001b[0m 50ms/step - loss: 14.3842 - mae: 2.3553 - mse: 14.3842 - val_loss: 7.0859 - val_mae: 1.8022 - val_mse: 7.0859\n",
      "Epoch 9/100\n",
      "\u001b[1m189/189\u001b[0m \u001b[32m━━━━━━━━━━━━━━━━━━━━\u001b[0m\u001b[37m\u001b[0m \u001b[1m10s\u001b[0m 50ms/step - loss: 14.2389 - mae: 2.3343 - mse: 14.2389 - val_loss: 7.2207 - val_mae: 1.8146 - val_mse: 7.2207\n",
      "Epoch 10/100\n",
      "\u001b[1m189/189\u001b[0m \u001b[32m━━━━━━━━━━━━━━━━━━━━\u001b[0m\u001b[37m\u001b[0m \u001b[1m10s\u001b[0m 50ms/step - loss: 14.2728 - mae: 2.3462 - mse: 14.2728 - val_loss: 7.0977 - val_mae: 1.7892 - val_mse: 7.0977\n",
      "Epoch 11/100\n",
      "\u001b[1m189/189\u001b[0m \u001b[32m━━━━━━━━━━━━━━━━━━━━\u001b[0m\u001b[37m\u001b[0m \u001b[1m10s\u001b[0m 49ms/step - loss: 14.3362 - mae: 2.3697 - mse: 14.3362 - val_loss: 7.2906 - val_mae: 1.8320 - val_mse: 7.2906\n",
      "Epoch 12/100\n",
      "\u001b[1m189/189\u001b[0m \u001b[32m━━━━━━━━━━━━━━━━━━━━\u001b[0m\u001b[37m\u001b[0m \u001b[1m10s\u001b[0m 49ms/step - loss: 14.8037 - mae: 2.3962 - mse: 14.8038 - val_loss: 7.4220 - val_mae: 1.8601 - val_mse: 7.4220\n",
      "Epoch 13/100\n",
      "\u001b[1m189/189\u001b[0m \u001b[32m━━━━━━━━━━━━━━━━━━━━\u001b[0m\u001b[37m\u001b[0m \u001b[1m10s\u001b[0m 50ms/step - loss: 13.6627 - mae: 2.3211 - mse: 13.6627 - val_loss: 7.4513 - val_mae: 1.8619 - val_mse: 7.4513\n",
      "Epoch 14/100\n",
      "\u001b[1m189/189\u001b[0m \u001b[32m━━━━━━━━━━━━━━━━━━━━\u001b[0m\u001b[37m\u001b[0m \u001b[1m10s\u001b[0m 50ms/step - loss: 14.1016 - mae: 2.3684 - mse: 14.1016 - val_loss: 7.2268 - val_mae: 1.8302 - val_mse: 7.2268\n",
      "Epoch 15/100\n",
      "\u001b[1m189/189\u001b[0m \u001b[32m━━━━━━━━━━━━━━━━━━━━\u001b[0m\u001b[37m\u001b[0m \u001b[1m10s\u001b[0m 50ms/step - loss: 13.8174 - mae: 2.3057 - mse: 13.8174 - val_loss: 7.2258 - val_mae: 1.8284 - val_mse: 7.2258\n"
     ]
    }
   ],
   "source": [
    "is_start_train = input(\"Start train? (y/n): \").lower()[0] == \"y\"\n",
    "if is_start_train:\n",
    "    folder_tmp = f\"{dataset_folder}/tmp_model\"\n",
    "    os.makedirs(folder_tmp, exist_ok=False)\n",
    "    history = model.fit(\n",
    "        dataset_train_3, \n",
    "        validation_data=dataset_test_3,\n",
    "        epochs=max_epochs, \n",
    "        steps_per_epoch=STEPS_PER_EPOCH,\n",
    "        callbacks=get_callbacks(name_folder_save_metrics, metric_mse_name, number_epochs_to_wait)\n",
    "    )"
   ]
  },
  {
   "cell_type": "code",
   "execution_count": 72,
   "metadata": {},
   "outputs": [
    {
     "name": "stdout",
     "output_type": "stream",
     "text": [
      "29/29 - 1s - 29ms/step - loss: 7.2258 - mae: 1.8284 - mse: 7.2258\n"
     ]
    }
   ],
   "source": [
    "loss = model.evaluate(dataset_test_3, verbose=2)"
   ]
  },
  {
   "cell_type": "code",
   "execution_count": 73,
   "metadata": {},
   "outputs": [
    {
     "data": {
      "text/plain": [
       "[7.225776672363281, 1.8284322023391724, 7.225776672363281]"
      ]
     },
     "execution_count": 73,
     "metadata": {},
     "output_type": "execute_result"
    }
   ],
   "source": [
    "loss"
   ]
  },
  {
   "cell_type": "code",
   "execution_count": 74,
   "metadata": {},
   "outputs": [],
   "source": [
    "def get_folder_path_to_save_model(model_name):\n",
    "    new_model_name = model_name\n",
    "    path_save = f\"{dataset_folder}/model_save/{new_model_name}\"\n",
    "    while os.path.exists(path_save):\n",
    "        print(f\"-- {path_save} already exists\")\n",
    "        new_model_name = new_model_name + \"_1\"\n",
    "        path_save = f\"{dataset_folder}/model_save/{new_model_name}\"\n",
    "        print(f\"-- Change to {path_save}\")\n",
    "    os.makedirs(path_save, exist_ok=False)\n",
    "    return path_save, new_model_name "
   ]
  },
  {
   "cell_type": "code",
   "execution_count": 75,
   "metadata": {},
   "outputs": [],
   "source": [
    "def save_model(model: keras.Sequential, folder_path, new_model_name):\n",
    "    path_save = f\"{folder_path}/{new_model_name}.keras\"\n",
    "    abspath_save = os.path.abspath(path_save)\n",
    "    model.save(abspath_save)\n",
    "    return path_save"
   ]
  },
  {
   "cell_type": "code",
   "execution_count": 76,
   "metadata": {},
   "outputs": [],
   "source": [
    "def save_model_and_config(model: keras.Sequential):\n",
    "    folder_path, new_model_name = get_folder_path_to_save_model(model_name)\n",
    "    model_name_saved = save_model(model, folder_path, new_model_name)\n",
    "    loss = model.evaluate(dataset_test_3)\n",
    "    config_and_loss = {\n",
    "        \"config\": {\n",
    "            \"batch_size\": batch_size,\n",
    "            \"STEPS_PER_EPOCH\": STEPS_PER_EPOCH,\n",
    "            \"name_sub_folder_save_metrics\": name_sub_folder_save_metrics,\n",
    "            \"name_folder_save_metrics\": name_folder_save_metrics,\n",
    "            \"max_epochs\": max_epochs,\n",
    "            \"val_loss_metric_mae_to_stop\": val_loss_metric_mae_to_stop,\n",
    "            \"val_loss_metric_mse_to_stop\": val_loss_metric_mse_to_stop,\n",
    "            \"start_learning_rate\": start_learning_rate,\n",
    "            \"shuffle_buffer\": shuffle_buffer,\n",
    "            \"number_epochs_to_decrease_lr\": number_epochs_to_decrease_lr,\n",
    "            \"number_epochs_to_wait\": number_epochs_to_wait,\n",
    "            \"model_function\": function_transform_origin.__name__,\n",
    "            \"time_created\": str(datetime.now())\n",
    "        },\n",
    "        \"loss\": {\n",
    "            \"val_mse_loss\": loss[0],\n",
    "            \"val_mae_loss\": loss[1],\n",
    "        }\n",
    "    }\n",
    "    with open(f\"{folder_path}/config_and_loss.json\", \"w\") as file:\n",
    "        json.dump(config_and_loss, file, indent=2)\n",
    "    code_str = inspect.getsource(model_function)\n",
    "    with open(f\"{folder_path}/model_function_code.py\", \"w\", encoding=\"utf8\") as file:\n",
    "        file.write(code_str)\n",
    "    \n",
    "    return new_model_name"
   ]
  },
  {
   "cell_type": "code",
   "execution_count": 77,
   "metadata": {},
   "outputs": [],
   "source": [
    "list_name_models = []\n",
    "list_models = []\n",
    "df_result = tracking_loss_callback.get_df_result()"
   ]
  },
  {
   "cell_type": "code",
   "execution_count": 78,
   "metadata": {},
   "outputs": [
    {
     "data": {
      "text/html": [
       "<div>\n",
       "<style scoped>\n",
       "    .dataframe tbody tr th:only-of-type {\n",
       "        vertical-align: middle;\n",
       "    }\n",
       "\n",
       "    .dataframe tbody tr th {\n",
       "        vertical-align: top;\n",
       "    }\n",
       "\n",
       "    .dataframe thead th {\n",
       "        text-align: right;\n",
       "    }\n",
       "</style>\n",
       "<table border=\"1\" class=\"dataframe\">\n",
       "  <thead>\n",
       "    <tr style=\"text-align: right;\">\n",
       "      <th></th>\n",
       "      <th>epoch</th>\n",
       "      <th>val_mse</th>\n",
       "      <th>mse</th>\n",
       "    </tr>\n",
       "  </thead>\n",
       "  <tbody>\n",
       "    <tr>\n",
       "      <th>4</th>\n",
       "      <td>4</td>\n",
       "      <td>7.060087</td>\n",
       "      <td>15.085540</td>\n",
       "    </tr>\n",
       "    <tr>\n",
       "      <th>7</th>\n",
       "      <td>7</td>\n",
       "      <td>7.085948</td>\n",
       "      <td>14.786320</td>\n",
       "    </tr>\n",
       "    <tr>\n",
       "      <th>9</th>\n",
       "      <td>9</td>\n",
       "      <td>7.097723</td>\n",
       "      <td>14.696752</td>\n",
       "    </tr>\n",
       "    <tr>\n",
       "      <th>6</th>\n",
       "      <td>6</td>\n",
       "      <td>7.126899</td>\n",
       "      <td>14.783350</td>\n",
       "    </tr>\n",
       "    <tr>\n",
       "      <th>5</th>\n",
       "      <td>5</td>\n",
       "      <td>7.171569</td>\n",
       "      <td>14.912609</td>\n",
       "    </tr>\n",
       "    <tr>\n",
       "      <th>8</th>\n",
       "      <td>8</td>\n",
       "      <td>7.220703</td>\n",
       "      <td>14.679975</td>\n",
       "    </tr>\n",
       "    <tr>\n",
       "      <th>14</th>\n",
       "      <td>14</td>\n",
       "      <td>7.225776</td>\n",
       "      <td>14.458337</td>\n",
       "    </tr>\n",
       "    <tr>\n",
       "      <th>13</th>\n",
       "      <td>13</td>\n",
       "      <td>7.226807</td>\n",
       "      <td>14.493749</td>\n",
       "    </tr>\n",
       "    <tr>\n",
       "      <th>10</th>\n",
       "      <td>10</td>\n",
       "      <td>7.290570</td>\n",
       "      <td>14.616709</td>\n",
       "    </tr>\n",
       "    <tr>\n",
       "      <th>3</th>\n",
       "      <td>3</td>\n",
       "      <td>7.345949</td>\n",
       "      <td>15.223323</td>\n",
       "    </tr>\n",
       "    <tr>\n",
       "      <th>11</th>\n",
       "      <td>11</td>\n",
       "      <td>7.421978</td>\n",
       "      <td>14.570256</td>\n",
       "    </tr>\n",
       "    <tr>\n",
       "      <th>12</th>\n",
       "      <td>12</td>\n",
       "      <td>7.451325</td>\n",
       "      <td>14.490729</td>\n",
       "    </tr>\n",
       "    <tr>\n",
       "      <th>2</th>\n",
       "      <td>2</td>\n",
       "      <td>7.538764</td>\n",
       "      <td>15.692655</td>\n",
       "    </tr>\n",
       "    <tr>\n",
       "      <th>1</th>\n",
       "      <td>1</td>\n",
       "      <td>7.831133</td>\n",
       "      <td>16.316359</td>\n",
       "    </tr>\n",
       "    <tr>\n",
       "      <th>0</th>\n",
       "      <td>0</td>\n",
       "      <td>7.876241</td>\n",
       "      <td>16.423204</td>\n",
       "    </tr>\n",
       "  </tbody>\n",
       "</table>\n",
       "</div>"
      ],
      "text/plain": [
       "    epoch   val_mse        mse\n",
       "4       4  7.060087  15.085540\n",
       "7       7  7.085948  14.786320\n",
       "9       9  7.097723  14.696752\n",
       "6       6  7.126899  14.783350\n",
       "5       5  7.171569  14.912609\n",
       "8       8  7.220703  14.679975\n",
       "14     14  7.225776  14.458337\n",
       "13     13  7.226807  14.493749\n",
       "10     10  7.290570  14.616709\n",
       "3       3  7.345949  15.223323\n",
       "11     11  7.421978  14.570256\n",
       "12     12  7.451325  14.490729\n",
       "2       2  7.538764  15.692655\n",
       "1       1  7.831133  16.316359\n",
       "0       0  7.876241  16.423204"
      ]
     },
     "execution_count": 78,
     "metadata": {},
     "output_type": "execute_result"
    }
   ],
   "source": [
    "df_result"
   ]
  },
  {
   "cell_type": "code",
   "execution_count": 97,
   "metadata": {},
   "outputs": [
    {
     "name": "stdout",
     "output_type": "stream",
     "text": [
      "Save model_tmp_2.keras\n"
     ]
    },
    {
     "name": "stderr",
     "output_type": "stream",
     "text": [
      "d:\\code\\selenium\\.venv\\lib\\site-packages\\keras\\src\\models\\functional.py:225: UserWarning: The structure of `inputs` doesn't match the expected structure: ['ema_9_input', 'macd_history_input', 'trend_type_input', 'image_input']. Received: the structure of inputs=('*', '*', '*', '*')\n",
      "  warnings.warn(\n"
     ]
    },
    {
     "name": "stdout",
     "output_type": "stream",
     "text": [
      "\u001b[1m29/29\u001b[0m \u001b[32m━━━━━━━━━━━━━━━━━━━━\u001b[0m\u001b[37m\u001b[0m \u001b[1m1s\u001b[0m 12ms/step - loss: 7.1207 - mae: 1.7853 - mse: 7.1207\n",
      "Save model_tmp_3.keras\n",
      "-- ../dataset/eth_with_ema_macd_trend/model_save/channels_to_time_step_attention_ema_macd_trend already exists\n",
      "-- Change to ../dataset/eth_with_ema_macd_trend/model_save/channels_to_time_step_attention_ema_macd_trend_1\n",
      "-- ../dataset/eth_with_ema_macd_trend/model_save/channels_to_time_step_attention_ema_macd_trend_1 already exists\n",
      "-- Change to ../dataset/eth_with_ema_macd_trend/model_save/channels_to_time_step_attention_ema_macd_trend_1_1\n",
      "\u001b[1m29/29\u001b[0m \u001b[32m━━━━━━━━━━━━━━━━━━━━\u001b[0m\u001b[37m\u001b[0m \u001b[1m1s\u001b[0m 12ms/step - loss: 7.3161 - mae: 1.7786 - mse: 7.3161\n",
      "Save model_tmp_4.keras\n",
      "-- ../dataset/eth_with_ema_macd_trend/model_save/channels_to_time_step_attention_ema_macd_trend already exists\n",
      "-- Change to ../dataset/eth_with_ema_macd_trend/model_save/channels_to_time_step_attention_ema_macd_trend_1\n",
      "-- ../dataset/eth_with_ema_macd_trend/model_save/channels_to_time_step_attention_ema_macd_trend_1 already exists\n",
      "-- Change to ../dataset/eth_with_ema_macd_trend/model_save/channels_to_time_step_attention_ema_macd_trend_1_1\n",
      "-- ../dataset/eth_with_ema_macd_trend/model_save/channels_to_time_step_attention_ema_macd_trend_1_1 already exists\n",
      "-- Change to ../dataset/eth_with_ema_macd_trend/model_save/channels_to_time_step_attention_ema_macd_trend_1_1_1\n",
      "\u001b[1m29/29\u001b[0m \u001b[32m━━━━━━━━━━━━━━━━━━━━\u001b[0m\u001b[37m\u001b[0m \u001b[1m1s\u001b[0m 12ms/step - loss: 8.0153 - mae: 1.9103 - mse: 8.0153\n",
      "Save model_tmp_5.keras\n",
      "-- ../dataset/eth_with_ema_macd_trend/model_save/channels_to_time_step_attention_ema_macd_trend already exists\n",
      "-- Change to ../dataset/eth_with_ema_macd_trend/model_save/channels_to_time_step_attention_ema_macd_trend_1\n",
      "-- ../dataset/eth_with_ema_macd_trend/model_save/channels_to_time_step_attention_ema_macd_trend_1 already exists\n",
      "-- Change to ../dataset/eth_with_ema_macd_trend/model_save/channels_to_time_step_attention_ema_macd_trend_1_1\n",
      "-- ../dataset/eth_with_ema_macd_trend/model_save/channels_to_time_step_attention_ema_macd_trend_1_1 already exists\n",
      "-- Change to ../dataset/eth_with_ema_macd_trend/model_save/channels_to_time_step_attention_ema_macd_trend_1_1_1\n",
      "-- ../dataset/eth_with_ema_macd_trend/model_save/channels_to_time_step_attention_ema_macd_trend_1_1_1 already exists\n",
      "-- Change to ../dataset/eth_with_ema_macd_trend/model_save/channels_to_time_step_attention_ema_macd_trend_1_1_1_1\n",
      "\u001b[1m29/29\u001b[0m \u001b[32m━━━━━━━━━━━━━━━━━━━━\u001b[0m\u001b[37m\u001b[0m \u001b[1m1s\u001b[0m 13ms/step - loss: 7.6512 - mae: 1.8072 - mse: 7.6512\n",
      "Save model_tmp_6.keras\n",
      "-- ../dataset/eth_with_ema_macd_trend/model_save/channels_to_time_step_attention_ema_macd_trend already exists\n",
      "-- Change to ../dataset/eth_with_ema_macd_trend/model_save/channels_to_time_step_attention_ema_macd_trend_1\n",
      "-- ../dataset/eth_with_ema_macd_trend/model_save/channels_to_time_step_attention_ema_macd_trend_1 already exists\n",
      "-- Change to ../dataset/eth_with_ema_macd_trend/model_save/channels_to_time_step_attention_ema_macd_trend_1_1\n",
      "-- ../dataset/eth_with_ema_macd_trend/model_save/channels_to_time_step_attention_ema_macd_trend_1_1 already exists\n",
      "-- Change to ../dataset/eth_with_ema_macd_trend/model_save/channels_to_time_step_attention_ema_macd_trend_1_1_1\n",
      "-- ../dataset/eth_with_ema_macd_trend/model_save/channels_to_time_step_attention_ema_macd_trend_1_1_1 already exists\n",
      "-- Change to ../dataset/eth_with_ema_macd_trend/model_save/channels_to_time_step_attention_ema_macd_trend_1_1_1_1\n",
      "-- ../dataset/eth_with_ema_macd_trend/model_save/channels_to_time_step_attention_ema_macd_trend_1_1_1_1 already exists\n",
      "-- Change to ../dataset/eth_with_ema_macd_trend/model_save/channels_to_time_step_attention_ema_macd_trend_1_1_1_1_1\n",
      "\u001b[1m29/29\u001b[0m \u001b[32m━━━━━━━━━━━━━━━━━━━━\u001b[0m\u001b[37m\u001b[0m \u001b[1m1s\u001b[0m 12ms/step - loss: 8.1241 - mae: 1.8782 - mse: 8.1241\n",
      "Save model_tmp_7.keras\n",
      "-- ../dataset/eth_with_ema_macd_trend/model_save/channels_to_time_step_attention_ema_macd_trend already exists\n",
      "-- Change to ../dataset/eth_with_ema_macd_trend/model_save/channels_to_time_step_attention_ema_macd_trend_1\n",
      "-- ../dataset/eth_with_ema_macd_trend/model_save/channels_to_time_step_attention_ema_macd_trend_1 already exists\n",
      "-- Change to ../dataset/eth_with_ema_macd_trend/model_save/channels_to_time_step_attention_ema_macd_trend_1_1\n",
      "-- ../dataset/eth_with_ema_macd_trend/model_save/channels_to_time_step_attention_ema_macd_trend_1_1 already exists\n",
      "-- Change to ../dataset/eth_with_ema_macd_trend/model_save/channels_to_time_step_attention_ema_macd_trend_1_1_1\n",
      "-- ../dataset/eth_with_ema_macd_trend/model_save/channels_to_time_step_attention_ema_macd_trend_1_1_1 already exists\n",
      "-- Change to ../dataset/eth_with_ema_macd_trend/model_save/channels_to_time_step_attention_ema_macd_trend_1_1_1_1\n",
      "-- ../dataset/eth_with_ema_macd_trend/model_save/channels_to_time_step_attention_ema_macd_trend_1_1_1_1 already exists\n",
      "-- Change to ../dataset/eth_with_ema_macd_trend/model_save/channels_to_time_step_attention_ema_macd_trend_1_1_1_1_1\n",
      "-- ../dataset/eth_with_ema_macd_trend/model_save/channels_to_time_step_attention_ema_macd_trend_1_1_1_1_1 already exists\n",
      "-- Change to ../dataset/eth_with_ema_macd_trend/model_save/channels_to_time_step_attention_ema_macd_trend_1_1_1_1_1_1\n",
      "\u001b[1m29/29\u001b[0m \u001b[32m━━━━━━━━━━━━━━━━━━━━\u001b[0m\u001b[37m\u001b[0m \u001b[1m1s\u001b[0m 13ms/step - loss: 7.1043 - mae: 1.8031 - mse: 7.1043\n",
      "Save model_tmp_8.keras\n",
      "-- ../dataset/eth_with_ema_macd_trend/model_save/channels_to_time_step_attention_ema_macd_trend already exists\n",
      "-- Change to ../dataset/eth_with_ema_macd_trend/model_save/channels_to_time_step_attention_ema_macd_trend_1\n",
      "-- ../dataset/eth_with_ema_macd_trend/model_save/channels_to_time_step_attention_ema_macd_trend_1 already exists\n",
      "-- Change to ../dataset/eth_with_ema_macd_trend/model_save/channels_to_time_step_attention_ema_macd_trend_1_1\n",
      "-- ../dataset/eth_with_ema_macd_trend/model_save/channels_to_time_step_attention_ema_macd_trend_1_1 already exists\n",
      "-- Change to ../dataset/eth_with_ema_macd_trend/model_save/channels_to_time_step_attention_ema_macd_trend_1_1_1\n",
      "-- ../dataset/eth_with_ema_macd_trend/model_save/channels_to_time_step_attention_ema_macd_trend_1_1_1 already exists\n",
      "-- Change to ../dataset/eth_with_ema_macd_trend/model_save/channels_to_time_step_attention_ema_macd_trend_1_1_1_1\n",
      "-- ../dataset/eth_with_ema_macd_trend/model_save/channels_to_time_step_attention_ema_macd_trend_1_1_1_1 already exists\n",
      "-- Change to ../dataset/eth_with_ema_macd_trend/model_save/channels_to_time_step_attention_ema_macd_trend_1_1_1_1_1\n",
      "-- ../dataset/eth_with_ema_macd_trend/model_save/channels_to_time_step_attention_ema_macd_trend_1_1_1_1_1 already exists\n",
      "-- Change to ../dataset/eth_with_ema_macd_trend/model_save/channels_to_time_step_attention_ema_macd_trend_1_1_1_1_1_1\n",
      "-- ../dataset/eth_with_ema_macd_trend/model_save/channels_to_time_step_attention_ema_macd_trend_1_1_1_1_1_1 already exists\n",
      "-- Change to ../dataset/eth_with_ema_macd_trend/model_save/channels_to_time_step_attention_ema_macd_trend_1_1_1_1_1_1_1\n",
      "\u001b[1m29/29\u001b[0m \u001b[32m━━━━━━━━━━━━━━━━━━━━\u001b[0m\u001b[37m\u001b[0m \u001b[1m1s\u001b[0m 13ms/step - loss: 6.8755 - mae: 1.7734 - mse: 6.8755\n",
      "Save model_tmp_9.keras\n",
      "-- ../dataset/eth_with_ema_macd_trend/model_save/channels_to_time_step_attention_ema_macd_trend already exists\n",
      "-- Change to ../dataset/eth_with_ema_macd_trend/model_save/channels_to_time_step_attention_ema_macd_trend_1\n",
      "-- ../dataset/eth_with_ema_macd_trend/model_save/channels_to_time_step_attention_ema_macd_trend_1 already exists\n",
      "-- Change to ../dataset/eth_with_ema_macd_trend/model_save/channels_to_time_step_attention_ema_macd_trend_1_1\n",
      "-- ../dataset/eth_with_ema_macd_trend/model_save/channels_to_time_step_attention_ema_macd_trend_1_1 already exists\n",
      "-- Change to ../dataset/eth_with_ema_macd_trend/model_save/channels_to_time_step_attention_ema_macd_trend_1_1_1\n",
      "-- ../dataset/eth_with_ema_macd_trend/model_save/channels_to_time_step_attention_ema_macd_trend_1_1_1 already exists\n",
      "-- Change to ../dataset/eth_with_ema_macd_trend/model_save/channels_to_time_step_attention_ema_macd_trend_1_1_1_1\n",
      "-- ../dataset/eth_with_ema_macd_trend/model_save/channels_to_time_step_attention_ema_macd_trend_1_1_1_1 already exists\n",
      "-- Change to ../dataset/eth_with_ema_macd_trend/model_save/channels_to_time_step_attention_ema_macd_trend_1_1_1_1_1\n",
      "-- ../dataset/eth_with_ema_macd_trend/model_save/channels_to_time_step_attention_ema_macd_trend_1_1_1_1_1 already exists\n",
      "-- Change to ../dataset/eth_with_ema_macd_trend/model_save/channels_to_time_step_attention_ema_macd_trend_1_1_1_1_1_1\n",
      "-- ../dataset/eth_with_ema_macd_trend/model_save/channels_to_time_step_attention_ema_macd_trend_1_1_1_1_1_1 already exists\n",
      "-- Change to ../dataset/eth_with_ema_macd_trend/model_save/channels_to_time_step_attention_ema_macd_trend_1_1_1_1_1_1_1\n",
      "-- ../dataset/eth_with_ema_macd_trend/model_save/channels_to_time_step_attention_ema_macd_trend_1_1_1_1_1_1_1 already exists\n",
      "-- Change to ../dataset/eth_with_ema_macd_trend/model_save/channels_to_time_step_attention_ema_macd_trend_1_1_1_1_1_1_1_1\n",
      "\u001b[1m29/29\u001b[0m \u001b[32m━━━━━━━━━━━━━━━━━━━━\u001b[0m\u001b[37m\u001b[0m \u001b[1m1s\u001b[0m 13ms/step - loss: 7.4590 - mae: 1.8212 - mse: 7.4590\n",
      "Save model_tmp_10.keras\n",
      "-- ../dataset/eth_with_ema_macd_trend/model_save/channels_to_time_step_attention_ema_macd_trend already exists\n",
      "-- Change to ../dataset/eth_with_ema_macd_trend/model_save/channels_to_time_step_attention_ema_macd_trend_1\n",
      "-- ../dataset/eth_with_ema_macd_trend/model_save/channels_to_time_step_attention_ema_macd_trend_1 already exists\n",
      "-- Change to ../dataset/eth_with_ema_macd_trend/model_save/channels_to_time_step_attention_ema_macd_trend_1_1\n",
      "-- ../dataset/eth_with_ema_macd_trend/model_save/channels_to_time_step_attention_ema_macd_trend_1_1 already exists\n",
      "-- Change to ../dataset/eth_with_ema_macd_trend/model_save/channels_to_time_step_attention_ema_macd_trend_1_1_1\n",
      "-- ../dataset/eth_with_ema_macd_trend/model_save/channels_to_time_step_attention_ema_macd_trend_1_1_1 already exists\n",
      "-- Change to ../dataset/eth_with_ema_macd_trend/model_save/channels_to_time_step_attention_ema_macd_trend_1_1_1_1\n",
      "-- ../dataset/eth_with_ema_macd_trend/model_save/channels_to_time_step_attention_ema_macd_trend_1_1_1_1 already exists\n",
      "-- Change to ../dataset/eth_with_ema_macd_trend/model_save/channels_to_time_step_attention_ema_macd_trend_1_1_1_1_1\n",
      "-- ../dataset/eth_with_ema_macd_trend/model_save/channels_to_time_step_attention_ema_macd_trend_1_1_1_1_1 already exists\n",
      "-- Change to ../dataset/eth_with_ema_macd_trend/model_save/channels_to_time_step_attention_ema_macd_trend_1_1_1_1_1_1\n",
      "-- ../dataset/eth_with_ema_macd_trend/model_save/channels_to_time_step_attention_ema_macd_trend_1_1_1_1_1_1 already exists\n",
      "-- Change to ../dataset/eth_with_ema_macd_trend/model_save/channels_to_time_step_attention_ema_macd_trend_1_1_1_1_1_1_1\n",
      "-- ../dataset/eth_with_ema_macd_trend/model_save/channels_to_time_step_attention_ema_macd_trend_1_1_1_1_1_1_1 already exists\n",
      "-- Change to ../dataset/eth_with_ema_macd_trend/model_save/channels_to_time_step_attention_ema_macd_trend_1_1_1_1_1_1_1_1\n",
      "-- ../dataset/eth_with_ema_macd_trend/model_save/channels_to_time_step_attention_ema_macd_trend_1_1_1_1_1_1_1_1 already exists\n",
      "-- Change to ../dataset/eth_with_ema_macd_trend/model_save/channels_to_time_step_attention_ema_macd_trend_1_1_1_1_1_1_1_1_1\n",
      "\u001b[1m29/29\u001b[0m \u001b[32m━━━━━━━━━━━━━━━━━━━━\u001b[0m\u001b[37m\u001b[0m \u001b[1m1s\u001b[0m 13ms/step - loss: 8.0321 - mae: 1.8996 - mse: 8.0321\n"
     ]
    }
   ],
   "source": [
    "if input(\"save model? (y/n): \").lower()[0] == \"y\":\n",
    "    is_save_model_from_tmp = input(\"Save model from tmp file? (y/n): \").lower()[0] == \"y\"\n",
    "    \n",
    "    if is_save_model_from_tmp:\n",
    "        while True and os.path.exists(folder_tmp):\n",
    "            epoch = input(f\"Epoch = (s for stop)\")\n",
    "            if not str.isdigit(epoch):\n",
    "                break\n",
    "            else:\n",
    "                epoch = int(epoch)\n",
    "            \n",
    "            model_tmp_name = f\"model_tmp_{epoch}.keras\"\n",
    "            print(f\"Save {model_tmp_name}\")\n",
    "            model_tmp_path = f\"{folder_tmp}/{model_tmp_name}\"\n",
    "            if not os.path.exists(model_tmp_path):\n",
    "                print(f\"model {model_tmp_path} does not exist.\")\n",
    "                continue\n",
    "            \n",
    "            try:\n",
    "                model_tmp = keras.models.load_model(model_tmp_path)\n",
    "                name_model_tmp_saved = save_model_and_config(model_tmp)\n",
    "                list_name_models.append(name_model_tmp_saved)\n",
    "                list_models.append(model_tmp)\n",
    "            except Exception as err:\n",
    "                print(err)\n",
    "                continue\n",
    "    \n",
    "    is_save_last_model = input(\"Save last model? (y/n): \").lower()[0] == \"y\"\n",
    "    if is_save_last_model:\n",
    "        name_last_model_saved = save_model_and_config(model)\n",
    "        list_name_models.append(name_last_model_saved)\n",
    "        list_models.append(model)\n",
    "\n",
    "is_delete_tmp_model_folder = input(\"Delete model tmp folder? (y/n): \").lower()[0] == \"y\"\n",
    "if is_delete_tmp_model_folder:\n",
    "    if os.path.exists(folder_tmp):\n",
    "        shutil.rmtree(folder_tmp)\n",
    "    else:\n",
    "        print(f\"{folder_tmp} does not exist.\")\n",
    "    "
   ]
  },
  {
   "cell_type": "code",
   "execution_count": 98,
   "metadata": {},
   "outputs": [
    {
     "name": "stdout",
     "output_type": "stream",
     "text": [
      "\u001b[1m29/29\u001b[0m \u001b[32m━━━━━━━━━━━━━━━━━━━━\u001b[0m\u001b[37m\u001b[0m \u001b[1m1s\u001b[0m 12ms/step - loss: 6.9111 - mae: 1.7211 - mse: 6.9111\n",
      "channels_to_time_step_attention_ema_macd_trend: [7.538763999938965, 1.8444340229034424, 7.538763999938965]\n",
      "\u001b[1m29/29\u001b[0m \u001b[32m━━━━━━━━━━━━━━━━━━━━\u001b[0m\u001b[37m\u001b[0m \u001b[1m1s\u001b[0m 14ms/step - loss: 8.2274 - mae: 1.8912 - mse: 8.2274\n",
      "channels_to_time_step_attention_ema_macd_trend_1_1: [7.345948696136475, 1.801955223083496, 7.345948696136475]\n",
      "\u001b[1m29/29\u001b[0m \u001b[32m━━━━━━━━━━━━━━━━━━━━\u001b[0m\u001b[37m\u001b[0m \u001b[1m1s\u001b[0m 12ms/step - loss: 6.3356 - mae: 1.7331 - mse: 6.3356\n",
      "channels_to_time_step_attention_ema_macd_trend_1_1_1: [7.060087203979492, 1.7850439548492432, 7.06008768081665]\n",
      "\u001b[1m29/29\u001b[0m \u001b[32m━━━━━━━━━━━━━━━━━━━━\u001b[0m\u001b[37m\u001b[0m \u001b[1m1s\u001b[0m 12ms/step - loss: 6.6523 - mae: 1.7772 - mse: 6.6523\n",
      "channels_to_time_step_attention_ema_macd_trend_1_1_1_1: [7.171570301055908, 1.8046499490737915, 7.171570301055908]\n",
      "\u001b[1m29/29\u001b[0m \u001b[32m━━━━━━━━━━━━━━━━━━━━\u001b[0m\u001b[37m\u001b[0m \u001b[1m1s\u001b[0m 13ms/step - loss: 7.6012 - mae: 1.8490 - mse: 7.6012\n",
      "channels_to_time_step_attention_ema_macd_trend_1_1_1_1_1: [7.1269001960754395, 1.801680088043213, 7.126899242401123]\n",
      "\u001b[1m29/29\u001b[0m \u001b[32m━━━━━━━━━━━━━━━━━━━━\u001b[0m\u001b[37m\u001b[0m \u001b[1m1s\u001b[0m 12ms/step - loss: 6.8573 - mae: 1.7951 - mse: 6.8573\n",
      "channels_to_time_step_attention_ema_macd_trend_1_1_1_1_1_1: [7.085947513580322, 1.8022136688232422, 7.085947036743164]\n",
      "\u001b[1m29/29\u001b[0m \u001b[32m━━━━━━━━━━━━━━━━━━━━\u001b[0m\u001b[37m\u001b[0m \u001b[1m1s\u001b[0m 12ms/step - loss: 6.7212 - mae: 1.7633 - mse: 6.7212\n",
      "channels_to_time_step_attention_ema_macd_trend_1_1_1_1_1_1_1: [7.220703125, 1.814604640007019, 7.220702648162842]\n",
      "\u001b[1m29/29\u001b[0m \u001b[32m━━━━━━━━━━━━━━━━━━━━\u001b[0m\u001b[37m\u001b[0m \u001b[1m1s\u001b[0m 12ms/step - loss: 6.5742 - mae: 1.7550 - mse: 6.5742\n",
      "channels_to_time_step_attention_ema_macd_trend_1_1_1_1_1_1_1_1: [7.097721576690674, 1.7891665697097778, 7.097721576690674]\n",
      "\u001b[1m29/29\u001b[0m \u001b[32m━━━━━━━━━━━━━━━━━━━━\u001b[0m\u001b[37m\u001b[0m \u001b[1m1s\u001b[0m 12ms/step - loss: 6.8803 - mae: 1.8126 - mse: 6.8803\n",
      "channels_to_time_step_attention_ema_macd_trend_1_1_1_1_1_1_1_1_1: [7.290569305419922, 1.8319886922836304, 7.290569305419922]\n"
     ]
    }
   ],
   "source": [
    "for model_loaded, model_name_loaded in zip(list_models, list_name_models):\n",
    "    loss = model_loaded.evaluate(dataset_test_3)\n",
    "    print(f\"{model_name_loaded}: {loss}\")"
   ]
  },
  {
   "cell_type": "code",
   "execution_count": 99,
   "metadata": {},
   "outputs": [],
   "source": [
    "size_histories = {}"
   ]
  },
  {
   "cell_type": "code",
   "execution_count": 100,
   "metadata": {},
   "outputs": [],
   "source": [
    "size_histories[name_sub_folder_save_metrics] = history "
   ]
  },
  {
   "cell_type": "code",
   "execution_count": 101,
   "metadata": {},
   "outputs": [
    {
     "data": {
      "text/plain": [
       "(7.051925182342529, 7.884402751922607)"
      ]
     },
     "execution_count": 101,
     "metadata": {},
     "output_type": "execute_result"
    },
    {
     "data": {
      "image/png": "[encoded data removed]",
      "text/plain": [
       "<Figure size 640x480 with 1 Axes>"
      ]
     },
     "metadata": {},
     "output_type": "display_data"
    }
   ],
   "source": [
    "min_val_loss = df_result[tracking_loss_callback.val_loss_key].min()\n",
    "max_val_loss = df_result[tracking_loss_callback.val_loss_key].max()\n",
    "scale = (max_val_loss - min_val_loss) / 100\n",
    "plotter = tfdocs.plots.HistoryPlotter(metric=metric_mse_name)\n",
    "plotter.plot(size_histories)\n",
    "plt.ylim([min_val_loss - scale, max_val_loss + scale])"
   ]
  },
  {
   "cell_type": "code",
   "execution_count": 102,
   "metadata": {},
   "outputs": [
    {
     "data": {
      "text/plain": [
       "(14.43868815422058, 16.44285309791565)"
      ]
     },
     "execution_count": 102,
     "metadata": {},
     "output_type": "execute_result"
    },
    {
     "data": {
      "image/png": "[encoded data removed]",
      "text/plain": [
       "<Figure size 640x480 with 1 Axes>"
      ]
     },
     "metadata": {},
     "output_type": "display_data"
    }
   ],
   "source": [
    "min_train_loss = df_result[tracking_loss_callback.train_loss_key].min()\n",
    "max_train_loss = df_result[tracking_loss_callback.train_loss_key].max()\n",
    "scale = (max_train_loss - min_train_loss) / 100\n",
    "plotter = tfdocs.plots.HistoryPlotter(metric=metric_mse_name)\n",
    "plotter.plot(size_histories)\n",
    "plt.ylim([min_train_loss - scale, max_train_loss + scale])"
   ]
  },
  {
   "cell_type": "code",
   "execution_count": 103,
   "metadata": {},
   "outputs": [],
   "source": [
    "# train_dataset = tf.data.Dataset.load(f'{dataset_folder}/train/next_3_day_up')\n",
    "# test_dataset = tf.data.Dataset.load(f'{dataset_folder}/test/next_3_day_up')\n",
    "# for x_train, y_train, date_train in train_dataset.take(2):\n",
    "#     pass\n",
    "# for x_test, y_test, date_test in test_dataset.take(2):\n",
    "#     pass\n",
    "# plt.imshow(x_train)\n",
    "# y_train\n",
    "# plt.imshow(x_test)\n",
    "# y_test"
   ]
  },
  {
   "cell_type": "code",
   "execution_count": 104,
   "metadata": {},
   "outputs": [
    {
     "data": {
      "text/plain": [
       "['channels_to_time_step_attention_ema_macd_trend',\n",
       " 'channels_to_time_step_attention_ema_macd_trend_1_1',\n",
       " 'channels_to_time_step_attention_ema_macd_trend_1_1_1',\n",
       " 'channels_to_time_step_attention_ema_macd_trend_1_1_1_1',\n",
       " 'channels_to_time_step_attention_ema_macd_trend_1_1_1_1_1',\n",
       " 'channels_to_time_step_attention_ema_macd_trend_1_1_1_1_1_1',\n",
       " 'channels_to_time_step_attention_ema_macd_trend_1_1_1_1_1_1_1',\n",
       " 'channels_to_time_step_attention_ema_macd_trend_1_1_1_1_1_1_1_1',\n",
       " 'channels_to_time_step_attention_ema_macd_trend_1_1_1_1_1_1_1_1_1']"
      ]
     },
     "execution_count": 104,
     "metadata": {},
     "output_type": "execute_result"
    }
   ],
   "source": [
    "list_name_models"
   ]
  },
  {
   "cell_type": "code",
   "execution_count": 105,
   "metadata": {},
   "outputs": [
    {
     "data": {
      "text/plain": [
       "'../dataset/eth_with_ema_macd_trend'"
      ]
     },
     "execution_count": 105,
     "metadata": {},
     "output_type": "execute_result"
    }
   ],
   "source": [
    "dataset_folder"
   ]
  }
 ],
 "metadata": {
  "kernelspec": {
   "display_name": ".venv",
   "language": "python",
   "name": "python3"
  },
  "language_info": {
   "codemirror_mode": {
    "name": "ipython",
    "version": 3
   },
   "file_extension": ".py",
   "mimetype": "text/x-python",
   "name": "python",
   "nbconvert_exporter": "python",
   "pygments_lexer": "ipython3",
   "version": "3.9.7"
  }
 },
 "nbformat": 4,
 "nbformat_minor": 2
}
