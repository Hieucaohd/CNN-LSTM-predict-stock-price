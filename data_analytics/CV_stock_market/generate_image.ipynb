{
 "cells": [
  {
   "cell_type": "code",
   "execution_count": 23,
   "metadata": {},
   "outputs": [],
   "source": [
    "import sys\n",
    "sys.path.append(\"../../\")"
   ]
  },
  {
   "cell_type": "code",
   "execution_count": 24,
   "metadata": {},
   "outputs": [],
   "source": [
    "from crawl.ssi.stock_market_data_ssi import get_stock_market_data\n",
    "from datetime import datetime\n",
    "import mplfinance as mpf\n",
    "import pandas as pd\n",
    "import matplotlib.pyplot as plt\n",
    "from ta import add_all_ta_features\n",
    "from ta.utils import dropna\n",
    "import ta\n",
    "import ta.momentum"
   ]
  },
  {
   "cell_type": "code",
   "execution_count": 25,
   "metadata": {},
   "outputs": [],
   "source": [
    "fpt_data_df = get_stock_market_data(\n",
    "    stock_symbol=\"FPT\",\n",
    "    resolution=\"1D\"\n",
    ")"
   ]
  },
  {
   "cell_type": "code",
   "execution_count": 26,
   "metadata": {},
   "outputs": [],
   "source": [
    "fpt_data_df_1 = fpt_data_df[['t', 'c', 'o', 'h', 'l', 'v']]\n",
    "fpt_data_df_1[\"Date\"] = pd.to_datetime(fpt_data_df_1[\"t\"], unit=\"s\")\n",
    "fpt_data_df_1.rename(columns={\n",
    "    \"o\": \"Open\",\n",
    "    \"h\": \"High\",\n",
    "    \"l\": \"Low\",\n",
    "    \"c\": \"Close\",\n",
    "    \"v\": \"Volume\"\n",
    "}, inplace=True)\n",
    "fpt_data_df_1.set_index(\"Date\", inplace=True)\n",
    "fpt_data_df_1.drop(columns=[\"t\"], inplace=True)"
   ]
  },
  {
   "cell_type": "code",
   "execution_count": 27,
   "metadata": {},
   "outputs": [],
   "source": [
    "# Thêm chỉ số MACD vào DataFrame\n",
    "fpt_data_df_1[\"M\"] = ta.trend.macd(fpt_data_df_1[\"Close\"])\n",
    "fpt_data_df_1[\"macd_signal\"] = ta.trend.macd_signal(fpt_data_df_1[\"Close\"])\n",
    "fpt_data_df_1[\"macd_histogram\"] = ta.trend.macd_diff(fpt_data_df_1[\"Close\"])"
   ]
  },
  {
   "cell_type": "code",
   "execution_count": 36,
   "metadata": {},
   "outputs": [
    {
     "name": "stderr",
     "output_type": "stream",
     "text": [
      "C:\\Users\\ADMIN\\AppData\\Local\\Temp\\ipykernel_25976\\2585870074.py:34: UserWarning: FigureCanvasAgg is non-interactive, and thus cannot be shown\n",
      "  fig.show()\n"
     ]
    },
    {
     "data": {
      "image/png": "[encoded data removed]",
      "text/plain": [
       "<Figure size 575x575 with 6 Axes>"
      ]
     },
     "metadata": {},
     "output_type": "display_data"
    }
   ],
   "source": [
    "# Thiết lập màu sắc cho nến tăng và nến giảm\n",
    "mc = mpf.make_marketcolors(up='green', down='red', wick='black', edge='black', volume='inherit')\n",
    "style = mpf.make_mpf_style(marketcolors=mc)\n",
    "\n",
    "adps = [\n",
    "    mpf.make_addplot(fpt_data_df_1[\"2024-09-01\":\"2024-10-09\"][\"macd\"], panel=2, color=\"blue\", ylabel=\"MACD\"),\n",
    "    mpf.make_addplot(fpt_data_df_1[\"2024-09-01\":\"2024-10-09\"][\"macd_signal\"], panel=2, color=\"red\"),\n",
    "    mpf.make_addplot(fpt_data_df_1[\"2024-09-01\":\"2024-10-09\"][\"macd_histogram\"], type=\"bar\", panel=2, color=\"gray\", alpha=0.5),\n",
    "]\n",
    "\n",
    "# Vẽ biểu đồ nến với khối lượng và ẩn các trục\n",
    "fig, axlist = mpf.plot(\n",
    "    fpt_data_df_1[\"2024-09-01\":\"2024-10-09\"], \n",
    "    type='candle', \n",
    "    style=style, \n",
    "    volume=True,  # Hiển thị khối lượng\n",
    "    axisoff=False,  # Bỏ trục x và y\n",
    "    returnfig=True,  # Trả về đối tượng Figure để tùy chỉnh\n",
    "    figratio=(5,5),  # Điều chỉnh tỷ lệ khung hình để thu hẹp khoảng cách\n",
    "    figscale=1,  # Tăng kích thước biểu đồ để làm các nến gần nhau hơn\n",
    "    addplot=adps,\n",
    "    panel_ratios=(6, 2, 2),\n",
    ")\n",
    "\n",
    "# Loại bỏ các nhãn trục và tiêu đề\n",
    "for ax in axlist:\n",
    "    ax.set_xticks([])\n",
    "    ax.set_yticks([])\n",
    "    ax.set_title(\"\")\n",
    "    ax.set_xlabel(\"\")\n",
    "    ax.set_ylabel(\"\")\n",
    "\n",
    "# Hiển thị biểu đồ\n",
    "fig.show()\n",
    "\n",
    "fig.savefig(\"./picture_candle/candlestick_chart.png\", format=\"png\", bbox_inches=\"tight\", pad_inches=0)\n"
   ]
  }
 ],
 "metadata": {
  "kernelspec": {
   "display_name": "venv_py_39",
   "language": "python",
   "name": "python3"
  },
  "language_info": {
   "codemirror_mode": {
    "name": "ipython",
    "version": 3
   },
   "file_extension": ".py",
   "mimetype": "text/x-python",
   "name": "python",
   "nbconvert_exporter": "python",
   "pygments_lexer": "ipython3",
   "version": "3.9.7"
  }
 },
 "nbformat": 4,
 "nbformat_minor": 2
}
