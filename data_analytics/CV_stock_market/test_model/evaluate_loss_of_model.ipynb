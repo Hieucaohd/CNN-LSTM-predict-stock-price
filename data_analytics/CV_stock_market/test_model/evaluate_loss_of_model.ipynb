{
 "cells": [
  {
   "cell_type": "code",
   "execution_count": 1,
   "metadata": {},
   "outputs": [],
   "source": [
    "import sys\n",
    "sys.path.append(\"../\")"
   ]
  },
  {
   "cell_type": "code",
   "execution_count": 2,
   "metadata": {},
   "outputs": [],
   "source": [
    "from utils.common_train_utils import *\n",
    "from utils.draw_candle_image import *\n",
    "from utils.evaluate_old_models import *\n",
    "from functools import partial\n",
    "import os\n",
    "from tabulate import tabulate\n",
    "import random\n",
    "import warnings\n",
    "warnings.filterwarnings(\"ignore\")\n"
   ]
  },
  {
   "cell_type": "code",
   "execution_count": 3,
   "metadata": {},
   "outputs": [],
   "source": [
    "def print_loss_of_all_models_in_dataset_folder(folder_object):\n",
    "    dataset_path = folder_object.path\n",
    "    \n",
    "    config = read_config(dataset_path)\n",
    "    candle_type_and_directory_save: dict = config[\"candle_type_and_directory_save\"]\n",
    "    days_result = config[\"days_result\"]\n",
    "    \n",
    "    dataset_test = load_dataset_of_each_type_and_combine(f\"{dataset_path}/test\", candle_type_and_directory_save)\n",
    "    \n",
    "    batch_size = random.randint(1, int(len(dataset_test) / 4))\n",
    "    shuffle_buffer = random.randint(1, int(len(dataset_test) / 3))\n",
    "    \n",
    "    dataset_test_1 = dataset_test.shuffle(shuffle_buffer)\n",
    "    dataset_test_2 = dataset_test_1.batch(batch_size)\n",
    "    \n",
    "    # Ví dụ\n",
    "    all_models_folder_path = os.path.join(os.path.abspath(dataset_path), \"model_save\")\n",
    "    df = evaluate_all_models_in_dataset_folder(\n",
    "        all_models_folder_path, \n",
    "        dataset_test_2,\n",
    "        days_result\n",
    "    )\n",
    "    \n",
    "    # print(f\"----------------- {folder_name} -----------------\")\n",
    "    # print(df)\n",
    "    \n",
    "    df[\"total_records\"] = len(dataset_test)\n",
    "    df[\"batch_size\"] = batch_size\n",
    "    df[\"shuffle_buffer\"] = shuffle_buffer\n",
    "    \n",
    "    return df"
   ]
  },
  {
   "cell_type": "code",
   "execution_count": 4,
   "metadata": {},
   "outputs": [],
   "source": [
    "dataset_parent_folder = os.path.abspath(\"../dataset\")"
   ]
  },
  {
   "cell_type": "code",
   "execution_count": 5,
   "metadata": {},
   "outputs": [],
   "source": [
    "just_symbol = input(\"symbol = (null is all folder)\").lower().strip()"
   ]
  },
  {
   "cell_type": "code",
   "execution_count": 6,
   "metadata": {},
   "outputs": [
    {
     "name": "stdout",
     "output_type": "stream",
     "text": [
      "\u001b[1m7/7\u001b[0m \u001b[32m━━━━━━━━━━━━━━━━━━━━\u001b[0m\u001b[37m\u001b[0m \u001b[1m1s\u001b[0m 51ms/step - loss: 1.4427 - mae: 0.8843 - mse: 1.4427\n",
      "\u001b[1m62/62\u001b[0m \u001b[32m━━━━━━━━━━━━━━━━━━━━\u001b[0m\u001b[37m\u001b[0m \u001b[1m1s\u001b[0m 6ms/step - loss: 4.1000 - mae: 1.4683 - mse: 4.1000\n",
      "\u001b[1m62/62\u001b[0m \u001b[32m━━━━━━━━━━━━━━━━━━━━\u001b[0m\u001b[37m\u001b[0m \u001b[1m1s\u001b[0m 7ms/step - loss: 3.2613 - mae: 1.2651 - mse: 3.2613\n",
      "\u001b[1m8/8\u001b[0m \u001b[32m━━━━━━━━━━━━━━━━━━━━\u001b[0m\u001b[37m\u001b[0m \u001b[1m1s\u001b[0m 88ms/step - loss: 2.9064 - mae: 1.1704 - mse: 2.9064\n",
      "\u001b[1m27/27\u001b[0m \u001b[32m━━━━━━━━━━━━━━━━━━━━\u001b[0m\u001b[37m\u001b[0m \u001b[1m1s\u001b[0m 14ms/step - loss: 0.9679 - mae: 0.6824 - mse: 0.9679\n",
      "\u001b[1m27/27\u001b[0m \u001b[32m━━━━━━━━━━━━━━━━━━━━\u001b[0m\u001b[37m\u001b[0m \u001b[1m1s\u001b[0m 8ms/step - loss: 0.8960 - mae: 0.6934 - mse: 0.8960\n",
      "\u001b[1m28/28\u001b[0m \u001b[32m━━━━━━━━━━━━━━━━━━━━\u001b[0m\u001b[37m\u001b[0m \u001b[1m2s\u001b[0m 30ms/step - loss: 1.4860 - mae: 0.8798 - mse: 1.4860\n",
      "\u001b[1m28/28\u001b[0m \u001b[32m━━━━━━━━━━━━━━━━━━━━\u001b[0m\u001b[37m\u001b[0m \u001b[1m1s\u001b[0m 22ms/step - loss: 1.3911 - mae: 0.8566 - mse: 1.3911\n",
      "\u001b[1m7/7\u001b[0m \u001b[32m━━━━━━━━━━━━━━━━━━━━\u001b[0m\u001b[37m\u001b[0m \u001b[1m2s\u001b[0m 116ms/step - loss: 7.0162 - mae: 1.7656 - mse: 7.0162\n",
      "\u001b[1m7/7\u001b[0m \u001b[32m━━━━━━━━━━━━━━━━━━━━\u001b[0m\u001b[37m\u001b[0m \u001b[1m1s\u001b[0m 78ms/step - loss: 6.4246 - mae: 1.7023 - mse: 6.4246\n",
      "\u001b[1m7/7\u001b[0m \u001b[32m━━━━━━━━━━━━━━━━━━━━\u001b[0m\u001b[37m\u001b[0m \u001b[1m1s\u001b[0m 72ms/step - loss: 6.8410 - mae: 1.7444 - mse: 6.8410\n",
      "\u001b[1m7/7\u001b[0m \u001b[32m━━━━━━━━━━━━━━━━━━━━\u001b[0m\u001b[37m\u001b[0m \u001b[1m2s\u001b[0m 135ms/step - loss: 1.4278 - mae: 0.8081 - mse: 1.4278\n",
      "\u001b[1m7/7\u001b[0m \u001b[32m━━━━━━━━━━━━━━━━━━━━\u001b[0m\u001b[37m\u001b[0m \u001b[1m1s\u001b[0m 90ms/step - loss: 1.3453 - mae: 0.7925 - mse: 1.3453 \n",
      "\u001b[1m8/8\u001b[0m \u001b[32m━━━━━━━━━━━━━━━━━━━━\u001b[0m\u001b[37m\u001b[0m \u001b[1m1s\u001b[0m 54ms/step - loss: 0.9350 - mae: 0.7305 - mse: 0.9350\n",
      "\u001b[1m8/8\u001b[0m \u001b[32m━━━━━━━━━━━━━━━━━━━━\u001b[0m\u001b[37m\u001b[0m \u001b[1m1s\u001b[0m 35ms/step - loss: 0.9780 - mae: 0.7512 - mse: 0.9780\n",
      "\u001b[1m10/10\u001b[0m \u001b[32m━━━━━━━━━━━━━━━━━━━━\u001b[0m\u001b[37m\u001b[0m \u001b[1m1s\u001b[0m 45ms/step - loss: 1.2391 - mae: 0.8008 - mse: 1.2391\n",
      "\u001b[1m5/5\u001b[0m \u001b[32m━━━━━━━━━━━━━━━━━━━━\u001b[0m\u001b[37m\u001b[0m \u001b[1m2s\u001b[0m 219ms/step - loss: 0.7659 - mae: 0.5835 - mse: 0.7659\n",
      "\u001b[1m5/5\u001b[0m \u001b[32m━━━━━━━━━━━━━━━━━━━━\u001b[0m\u001b[37m\u001b[0m \u001b[1m1s\u001b[0m 131ms/step - loss: 0.7833 - mae: 0.6001 - mse: 0.7833\n"
     ]
    }
   ],
   "source": [
    "all_dfs = {}\n",
    "for f in os.scandir(dataset_parent_folder):\n",
    "    if not f.is_dir(): continue\n",
    "    if just_symbol and f.name != f\"{just_symbol}_with_ema_macd_trend\": continue\n",
    "    \n",
    "    df = print_loss_of_all_models_in_dataset_folder(f)\n",
    "    all_dfs[f.name] = df"
   ]
  },
  {
   "cell_type": "code",
   "execution_count": 7,
   "metadata": {},
   "outputs": [
    {
     "data": {
      "text/plain": [
       "['apple_with_ema_macd_trend',\n",
       " 'btc_with_ema_macd_trend',\n",
       " 'coca_cola_with_ema_macd_trend',\n",
       " 'ctg_with_ema_macd_trend',\n",
       " 'ctg_with_ema_macd_trend_old',\n",
       " 'eth_with_ema_macd_trend',\n",
       " 'fpt_with_ema_macd_trend',\n",
       " 'fpt_with_ema_macd_trend_old',\n",
       " 'tcb_with_ema_macd_trend',\n",
       " 'tcb_with_ema_macd_trend_old',\n",
       " 'vn30_with_ema_macd_trend',\n",
       " 'vn30_with_ema_macd_trend_old']"
      ]
     },
     "execution_count": 7,
     "metadata": {},
     "output_type": "execute_result"
    }
   ],
   "source": [
    "list(all_dfs.keys())"
   ]
  },
  {
   "cell_type": "code",
   "execution_count": 8,
   "metadata": {},
   "outputs": [
    {
     "name": "stdout",
     "output_type": "stream",
     "text": [
      "apple_with_ema_macd_trend\n",
      "+---+---------------------------------+--------------------+--------------------+---------------+------------+----------------+\n",
      "|   |           model_name            |        mse         |        mae         | total_records | batch_size | shuffle_buffer |\n",
      "+---+---------------------------------+--------------------+--------------------+---------------+------------+----------------+\n",
      "| 0 | model_5_biLSTM_ema_macd_trend_1 | 1.3436095714569092 | 0.8511976003646851 |      103      |     17     |       23       |\n",
      "+---+---------------------------------+--------------------+--------------------+---------------+------------+----------------+\n",
      "\n",
      "\n",
      "btc_with_ema_macd_trend\n",
      "+---+------------------------------------------------+-------------------+--------------------+---------------+------------+----------------+\n",
      "|   |                   model_name                   |        mse        |        mae         | total_records | batch_size | shuffle_buffer |\n",
      "+---+------------------------------------------------+-------------------+--------------------+---------------+------------+----------------+\n",
      "| 1 |   model_5_biLSTM_ema_macd_trend_1_1_1_1_1_1    | 4.741568565368652 | 1.4428256750106812 |      62       |     1      |       19       |\n",
      "| 0 | channels_to_time_step_attention_ema_macd_trend | 4.880601406097412 | 1.5237486362457275 |      62       |     1      |       19       |\n",
      "+---+------------------------------------------------+-------------------+--------------------+---------------+------------+----------------+\n",
      "\n",
      "\n",
      "coca_cola_with_ema_macd_trend\n",
      "+---+--------------------------------------+-------------------+--------------------+---------------+------------+----------------+\n",
      "|   |              model_name              |        mse        |        mae         | total_records | batch_size | shuffle_buffer |\n",
      "+---+--------------------------------------+-------------------+--------------------+---------------+------------+----------------+\n",
      "| 0 | model_5_bi2LSTM_ema_macd_trend_1_1_1 | 3.695770740509033 | 1.2492214441299438 |      144      |     19     |       20       |\n",
      "+---+--------------------------------------+-------------------+--------------------+---------------+------------+----------------+\n",
      "\n",
      "\n",
      "ctg_with_ema_macd_trend\n",
      "+---+---------------------------------------------------------+--------------------+--------------------+---------------+------------+----------------+\n",
      "|   |                       model_name                        |        mse         |        mae         | total_records | batch_size | shuffle_buffer |\n",
      "+---+---------------------------------------------------------+--------------------+--------------------+---------------+------------+----------------+\n",
      "| 0 | channels_to_time_step_attention_ema_macd_trend_epoch_14 | 0.8998565673828125 | 0.6756589412689209 |      54       |     2      |       14       |\n",
      "| 1 | channels_to_time_step_attention_ema_macd_trend_epoch_23 | 0.9022921919822693 | 0.681883692741394  |      54       |     2      |       14       |\n",
      "+---+---------------------------------------------------------+--------------------+--------------------+---------------+------------+----------------+\n",
      "\n",
      "\n",
      "ctg_with_ema_macd_trend_old\n",
      "+---+------------------------------------------------------+--------------------+--------------------+---------------+------------+----------------+\n",
      "|   |                      model_name                      |        mse         |        mae         | total_records | batch_size | shuffle_buffer |\n",
      "+---+------------------------------------------------------+--------------------+--------------------+---------------+------------+----------------+\n",
      "| 0 | channels_to_time_step_attention_ema_macd_trend_1_1_1 | 1.407649278640747  | 0.8453656435012817 |      221      |     8      |       64       |\n",
      "| 1 |            model_5_bi2LSTM_ema_macd_trend            | 1.4295845031738281 | 0.8556840419769287 |      221      |     8      |       64       |\n",
      "+---+------------------------------------------------------+--------------------+--------------------+---------------+------------+----------------+\n",
      "\n",
      "\n",
      "eth_with_ema_macd_trend\n",
      "+---+------------------------------------------------------+-------------------+--------------------+---------------+------------+----------------+\n",
      "|   |                      model_name                      |        mse        |        mae         | total_records | batch_size | shuffle_buffer |\n",
      "+---+------------------------------------------------------+-------------------+--------------------+---------------+------------+----------------+\n",
      "| 2 |          model_5_biLSTM_ema_macd_trend_1_1           | 7.014735221862793 | 1.7484922409057617 |      231      |     36     |       55       |\n",
      "| 1 | channels_to_time_step_attention_ema_macd_trend_1_1_1 | 7.060087203979492 | 1.785043716430664  |      231      |     36     |       55       |\n",
      "| 0 |   channels_to_time_step_attention_ema_macd_trend_1   | 7.100112438201904 | 1.7885513305664062 |      231      |     36     |       55       |\n",
      "+---+------------------------------------------------------+-------------------+--------------------+---------------+------------+----------------+\n",
      "\n",
      "\n",
      "fpt_with_ema_macd_trend\n",
      "+------------+-----+-----+---------------+------------+----------------+\n",
      "| model_name | mse | mae | total_records | batch_size | shuffle_buffer |\n",
      "+------------+-----+-----+---------------+------------+----------------+\n",
      "+------------+-----+-----+---------------+------------+----------------+\n",
      "\n",
      "\n",
      "fpt_with_ema_macd_trend_old\n",
      "+---+----------------------------------------+--------------------+--------------------+---------------+------------+----------------+\n",
      "|   |               model_name               |        mse         |        mae         | total_records | batch_size | shuffle_buffer |\n",
      "+---+----------------------------------------+--------------------+--------------------+---------------+------------+----------------+\n",
      "| 0 |     model_5_bi2LSTM_ema_macd_trend     | 1.3954895734786987 | 0.8097718954086304 |      221      |     33     |       27       |\n",
      "| 1 | model_5_biLSTM_with_ema_macd_trend_1_1 | 1.4302265644073486 | 0.8260319828987122 |      221      |     33     |       27       |\n",
      "+---+----------------------------------------+--------------------+--------------------+---------------+------------+----------------+\n",
      "\n",
      "\n",
      "tcb_with_ema_macd_trend\n",
      "+---+--------------------------------------------------------------------+--------------------+--------------------+---------------+------------+----------------+\n",
      "|   |                             model_name                             |        mse         |        mae         | total_records | batch_size | shuffle_buffer |\n",
      "+---+--------------------------------------------------------------------+--------------------+--------------------+---------------+------------+----------------+\n",
      "| 1 |      channels_to_time_step_attention_ema_macd_trend_epoch_28       | 0.976158618927002  | 0.7537398934364319 |      67       |     9      |       5        |\n",
      "| 0 | channels_to_time_step_attention_ema_macd_trend_1_1_1_1_1_1_1_1_1_1 | 0.9856249690055847 |  0.7556192278862   |      67       |     9      |       5        |\n",
      "+---+--------------------------------------------------------------------+--------------------+--------------------+---------------+------------+----------------+\n",
      "\n",
      "\n",
      "tcb_with_ema_macd_trend_old\n",
      "+---+--------------------------------+--------------------+--------------------+---------------+------------+----------------+\n",
      "|   |           model_name           |        mse         |        mae         | total_records | batch_size | shuffle_buffer |\n",
      "+---+--------------------------------+--------------------+--------------------+---------------+------------+----------------+\n",
      "| 0 | model_5_bi2LSTM_ema_macd_trend | 1.2699856758117676 | 0.8160215020179749 |      77       |     8      |       3        |\n",
      "+---+--------------------------------+--------------------+--------------------+---------------+------------+----------------+\n",
      "\n",
      "\n",
      "vn30_with_ema_macd_trend\n",
      "+------------+-----+-----+---------------+------------+----------------+\n",
      "| model_name | mse | mae | total_records | batch_size | shuffle_buffer |\n",
      "+------------+-----+-----+---------------+------------+----------------+\n",
      "+------------+-----+-----+---------------+------------+----------------+\n",
      "\n",
      "\n",
      "vn30_with_ema_macd_trend_old\n",
      "+---+------------------------------------------------------------+--------------------+--------------------+---------------+------------+----------------+\n",
      "|   |                         model_name                         |        mse         |        mae         | total_records | batch_size | shuffle_buffer |\n",
      "+---+------------------------------------------------------------+--------------------+--------------------+---------------+------------+----------------+\n",
      "| 0 | channels_to_time_step_attention_ema_macd_trend_1_1_1_1_1_1 | 0.7180466651916504 | 0.5626264214515686 |      250      |     53     |       16       |\n",
      "| 1 |            model_5_bi2LSTM_ema_macd_trend_1_1_1            | 0.7440525889396667 | 0.5830588340759277 |      250      |     53     |       16       |\n",
      "+---+------------------------------------------------------------+--------------------+--------------------+---------------+------------+----------------+\n",
      "\n",
      "\n"
     ]
    }
   ],
   "source": [
    "for dataset_name in all_dfs:\n",
    "    print(dataset_name)\n",
    "    print(tabulate(all_dfs[dataset_name], headers='keys', tablefmt='pretty'))\n",
    "    print(\"\\n\")"
   ]
  },
  {
   "cell_type": "code",
   "execution_count": 9,
   "metadata": {},
   "outputs": [],
   "source": [
    "# channels_to_time_step_attention_ema_macd_trend_1_1           | 0.9698517322540283 | 0.7524821758270264 |      67       |     9      |       13       |\n",
    "# # | 7  |      channels_to_time_step_attention_ema_macd_trend_1_1_1_1_1_1_1 "
   ]
  },
  {
   "cell_type": "markdown",
   "metadata": {},
   "source": []
  }
 ],
 "metadata": {
  "kernelspec": {
   "display_name": ".venv",
   "language": "python",
   "name": "python3"
  },
  "language_info": {
   "codemirror_mode": {
    "name": "ipython",
    "version": 3
   },
   "file_extension": ".py",
   "mimetype": "text/x-python",
   "name": "python",
   "nbconvert_exporter": "python",
   "pygments_lexer": "ipython3",
   "version": "3.9.7"
  }
 },
 "nbformat": 4,
 "nbformat_minor": 2
}
