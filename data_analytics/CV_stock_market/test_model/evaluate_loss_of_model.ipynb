{
 "cells": [
  {
   "cell_type": "code",
   "execution_count": 1,
   "metadata": {},
   "outputs": [],
   "source": [
    "import sys\n",
    "sys.path.append(\"../\")"
   ]
  },
  {
   "cell_type": "code",
   "execution_count": 2,
   "metadata": {},
   "outputs": [],
   "source": [
    "from utils.common_train_utils import *\n",
    "from utils.draw_candle_image import *\n",
    "from utils.evaluate_old_models import *\n",
    "from functools import partial\n",
    "import os\n",
    "from tabulate import tabulate\n",
    "import random\n",
    "import warnings\n",
    "warnings.filterwarnings(\"ignore\")\n"
   ]
  },
  {
   "cell_type": "code",
   "execution_count": 7,
   "metadata": {},
   "outputs": [],
   "source": [
    "def print_loss_of_all_models_in_dataset_folder(folder_object):\n",
    "    dataset_path = folder_object.path\n",
    "    \n",
    "    config = read_config(dataset_path)\n",
    "    candle_type_and_directory_save: dict = config[\"candle_type_and_directory_save\"]\n",
    "    days_result = config[\"days_result\"]\n",
    "    \n",
    "    dataset_test = load_dataset_of_each_type_and_combine(f\"{dataset_path}/test\", candle_type_and_directory_save)\n",
    "    \n",
    "    batch_size = random.randint(1, int(len(dataset_test) / 4))\n",
    "    shuffle_buffer = random.randint(1, int(len(dataset_test) / 3))\n",
    "    \n",
    "    dataset_test_1 = dataset_test.shuffle(shuffle_buffer)\n",
    "    dataset_test_2 = dataset_test_1.batch(batch_size)\n",
    "    \n",
    "    # Ví dụ\n",
    "    all_models_folder_path = os.path.join(os.path.abspath(dataset_path), \"model_save\")\n",
    "    df = evaluate_all_models_in_dataset_folder(\n",
    "        all_models_folder_path, \n",
    "        dataset_test_2,\n",
    "        days_result\n",
    "    )\n",
    "    \n",
    "    # print(f\"----------------- {folder_name} -----------------\")\n",
    "    # print(df)\n",
    "    \n",
    "    df[\"total_records\"] = len(dataset_test)\n",
    "    df[\"batch_size\"] = batch_size\n",
    "    df[\"shuffle_buffer\"] = shuffle_buffer\n",
    "    \n",
    "    return df"
   ]
  },
  {
   "cell_type": "code",
   "execution_count": 8,
   "metadata": {},
   "outputs": [],
   "source": [
    "dataset_parent_folder = os.path.abspath(\"../dataset\")"
   ]
  },
  {
   "cell_type": "code",
   "execution_count": 6,
   "metadata": {},
   "outputs": [
    {
     "name": "stdout",
     "output_type": "stream",
     "text": [
      "\u001b[1m11/11\u001b[0m \u001b[32m━━━━━━━━━━━━━━━━━━━━\u001b[0m\u001b[37m\u001b[0m \u001b[1m1s\u001b[0m 27ms/step - loss: 3.5885 - mae: 1.3342 - mse: 3.5885\n",
      "\u001b[1m5/5\u001b[0m \u001b[32m━━━━━━━━━━━━━━━━━━━━\u001b[0m\u001b[37m\u001b[0m \u001b[1m2s\u001b[0m 183ms/step - loss: 4.1953 - mae: 1.3449 - mse: 4.1953\n",
      "\u001b[1m5/5\u001b[0m \u001b[32m━━━━━━━━━━━━━━━━━━━━\u001b[0m\u001b[37m\u001b[0m \u001b[1m2s\u001b[0m 190ms/step - loss: 4.0627 - mae: 1.2916 - mse: 4.0627\n",
      "\u001b[1m5/5\u001b[0m \u001b[32m━━━━━━━━━━━━━━━━━━━━\u001b[0m\u001b[37m\u001b[0m \u001b[1m2s\u001b[0m 185ms/step - loss: 4.0285 - mae: 1.2812 - mse: 4.0285\n",
      "\u001b[1m5/5\u001b[0m \u001b[32m━━━━━━━━━━━━━━━━━━━━\u001b[0m\u001b[37m\u001b[0m \u001b[1m2s\u001b[0m 184ms/step - loss: 4.0538 - mae: 1.2838 - mse: 4.0538\n",
      "\u001b[1m5/5\u001b[0m \u001b[32m━━━━━━━━━━━━━━━━━━━━\u001b[0m\u001b[37m\u001b[0m \u001b[1m2s\u001b[0m 174ms/step - loss: 4.0373 - mae: 1.2790 - mse: 4.0373\n",
      "\u001b[1m5/5\u001b[0m \u001b[32m━━━━━━━━━━━━━━━━━━━━\u001b[0m\u001b[37m\u001b[0m \u001b[1m2s\u001b[0m 180ms/step - loss: 4.0176 - mae: 1.2889 - mse: 4.0176\n",
      "\u001b[1m5/5\u001b[0m \u001b[32m━━━━━━━━━━━━━━━━━━━━\u001b[0m\u001b[37m\u001b[0m \u001b[1m2s\u001b[0m 187ms/step - loss: 3.9170 - mae: 1.2618 - mse: 3.9170\n",
      "\u001b[1m72/72\u001b[0m \u001b[32m━━━━━━━━━━━━━━━━━━━━\u001b[0m\u001b[37m\u001b[0m \u001b[1m3s\u001b[0m 24ms/step - loss: 3.0377 - mae: 1.1768 - mse: 3.0377\n",
      "\u001b[1m17/17\u001b[0m \u001b[32m━━━━━━━━━━━━━━━━━━━━\u001b[0m\u001b[37m\u001b[0m \u001b[1m2s\u001b[0m 41ms/step - loss: 1.4463 - mae: 0.8747 - mse: 1.4463\n",
      "\u001b[1m11/11\u001b[0m \u001b[32m━━━━━━━━━━━━━━━━━━━━\u001b[0m\u001b[37m\u001b[0m \u001b[1m1s\u001b[0m 12ms/step - loss: 11.9403 - mae: 2.0381 - mse: 11.9403\n",
      "\u001b[1m11/11\u001b[0m \u001b[32m━━━━━━━━━━━━━━━━━━━━\u001b[0m\u001b[37m\u001b[0m \u001b[1m1s\u001b[0m 12ms/step - loss: 12.0833 - mae: 1.9668 - mse: 12.0833\n",
      "\u001b[1m16/16\u001b[0m \u001b[32m━━━━━━━━━━━━━━━━━━━━\u001b[0m\u001b[37m\u001b[0m \u001b[1m2s\u001b[0m 68ms/step - loss: 1.3690 - mae: 0.7881 - mse: 1.3690\n",
      "\u001b[1m16/16\u001b[0m \u001b[32m━━━━━━━━━━━━━━━━━━━━\u001b[0m\u001b[37m\u001b[0m \u001b[1m1s\u001b[0m 42ms/step - loss: 1.3524 - mae: 0.7984 - mse: 1.3524\n",
      "\u001b[1m8/8\u001b[0m \u001b[32m━━━━━━━━━━━━━━━━━━━━\u001b[0m\u001b[37m\u001b[0m \u001b[1m1s\u001b[0m 55ms/step - loss: 1.3207 - mae: 0.8362 - mse: 1.3207\n",
      "\u001b[1m7/7\u001b[0m \u001b[32m━━━━━━━━━━━━━━━━━━━━\u001b[0m\u001b[37m\u001b[0m \u001b[1m2s\u001b[0m 166ms/step - loss: 0.7930 - mae: 0.6021 - mse: 0.7930\n"
     ]
    }
   ],
   "source": [
    "all_dfs = {}\n",
    "for f in os.scandir(dataset_parent_folder):\n",
    "    if not f.is_dir(): continue\n",
    "    \n",
    "    df = print_loss_of_all_models_in_dataset_folder(f)\n",
    "    all_dfs[f.name] = df"
   ]
  },
  {
   "cell_type": "code",
   "execution_count": 9,
   "metadata": {},
   "outputs": [
    {
     "data": {
      "text/plain": [
       "['btc_with_ema_macd_trend',\n",
       " 'btc_with_ema_macd_trend_old',\n",
       " 'coca_cola_with_ema_macd_trend',\n",
       " 'ctg_with_ema_macd_trend',\n",
       " 'eth_with_ema_macd_trend',\n",
       " 'fpt_with_ema_macd_trend',\n",
       " 'tcb_with_ema_macd_trend',\n",
       " 'vn30_with_ema_macd_trend']"
      ]
     },
     "execution_count": 9,
     "metadata": {},
     "output_type": "execute_result"
    }
   ],
   "source": [
    "list(all_dfs.keys())"
   ]
  },
  {
   "cell_type": "code",
   "execution_count": 10,
   "metadata": {},
   "outputs": [
    {
     "name": "stdout",
     "output_type": "stream",
     "text": [
      "btc_with_ema_macd_trend\n",
      "+---+-------------------------------------------+-------------------+--------------------+---------------+------------+----------------+\n",
      "|   |                model_name                 |        mse        |        mae         | total_records | batch_size | shuffle_buffer |\n",
      "+---+-------------------------------------------+-------------------+--------------------+---------------+------------+----------------+\n",
      "| 0 | model_5_biLSTM_ema_macd_trend_1_1_1_1_1_1 | 4.741568565368652 | 1.4428255558013916 |      62       |     6      |       2        |\n",
      "+---+-------------------------------------------+-------------------+--------------------+---------------+------------+----------------+\n",
      "\n",
      "\n",
      "btc_with_ema_macd_trend_old\n",
      "+---+-----------------------------------------------+-------------------+--------------------+---------------+------------+----------------+\n",
      "|   |                  model_name                   |        mse        |        mae         | total_records | batch_size | shuffle_buffer |\n",
      "+---+-----------------------------------------------+-------------------+--------------------+---------------+------------+----------------+\n",
      "| 5 |  model_5_biLSTM_ema_macd_trend_cl_test_1_1_1  | 4.002681732177734 | 1.2841410636901855 |      364      |     78     |       50       |\n",
      "| 4 |   model_5_biLSTM_ema_macd_trend_cl_test_1_1   | 4.007717132568359 | 1.282375454902649  |      364      |     78     |       50       |\n",
      "| 6 | model_5_biLSTM_ema_macd_trend_cl_test_1_1_1_1 | 4.017830848693848 | 1.279681921005249  |      364      |     78     |       50       |\n",
      "| 3 |    model_5_biLSTM_ema_macd_trend_cl_test_1    | 4.031723499298096 | 1.2803469896316528 |      364      |     78     |       50       |\n",
      "| 2 |     model_5_biLSTM_ema_macd_trend_cl_test     | 4.038589954376221 | 1.2821990251541138 |      364      |     78     |       50       |\n",
      "| 0 |        model_5_bi2LSTM_ema_macd_trend         | 4.124487400054932 | 1.3426554203033447 |      364      |     78     |       50       |\n",
      "| 1 |         model_5_biLSTM_ema_macd_trend         | 4.138831615447998 | 1.3070696592330933 |      364      |     78     |       50       |\n",
      "+---+-----------------------------------------------+-------------------+--------------------+---------------+------------+----------------+\n",
      "\n",
      "\n",
      "coca_cola_with_ema_macd_trend\n",
      "+---+--------------------------------------+--------------------+--------------------+---------------+------------+----------------+\n",
      "|   |              model_name              |        mse         |        mae         | total_records | batch_size | shuffle_buffer |\n",
      "+---+--------------------------------------+--------------------+--------------------+---------------+------------+----------------+\n",
      "| 0 | model_5_bi2LSTM_ema_macd_trend_1_1_1 | 3.6957712173461914 | 1.2492213249206543 |      144      |     2      |       38       |\n",
      "+---+--------------------------------------+--------------------+--------------------+---------------+------------+----------------+\n",
      "\n",
      "\n",
      "ctg_with_ema_macd_trend\n",
      "+---+--------------------------------+--------------------+--------------------+---------------+------------+----------------+\n",
      "|   |           model_name           |        mse         |        mae         | total_records | batch_size | shuffle_buffer |\n",
      "+---+--------------------------------+--------------------+--------------------+---------------+------------+----------------+\n",
      "| 0 | model_5_bi2LSTM_ema_macd_trend | 1.4295846223831177 | 0.8556840419769287 |      221      |     13     |       20       |\n",
      "+---+--------------------------------+--------------------+--------------------+---------------+------------+----------------+\n",
      "\n",
      "\n",
      "eth_with_ema_macd_trend\n",
      "+---+---------------------------------+--------------------+--------------------+---------------+------------+----------------+\n",
      "|   |           model_name            |        mse         |        mae         | total_records | batch_size | shuffle_buffer |\n",
      "+---+---------------------------------+--------------------+--------------------+---------------+------------+----------------+\n",
      "| 0 |  model_5_biLSTM_ema_macd_trend  | 13.350172996520996 | 2.2090845108032227 |      22       |     2      |       4        |\n",
      "| 1 | model_5_biLSTM_ema_macd_trend_1 | 13.350172996520996 | 2.2090845108032227 |      22       |     2      |       4        |\n",
      "+---+---------------------------------+--------------------+--------------------+---------------+------------+----------------+\n",
      "\n",
      "\n",
      "fpt_with_ema_macd_trend\n",
      "+---+----------------------------------------+--------------------+--------------------+---------------+------------+----------------+\n",
      "|   |               model_name               |        mse         |        mae         | total_records | batch_size | shuffle_buffer |\n",
      "+---+----------------------------------------+--------------------+--------------------+---------------+------------+----------------+\n",
      "| 0 |     model_5_bi2LSTM_ema_macd_trend     | 1.3954895734786987 | 0.8097718954086304 |      221      |     14     |       53       |\n",
      "| 1 | model_5_biLSTM_with_ema_macd_trend_1_1 | 1.4302265644073486 | 0.8260319828987122 |      221      |     14     |       53       |\n",
      "+---+----------------------------------------+--------------------+--------------------+---------------+------------+----------------+\n",
      "\n",
      "\n",
      "tcb_with_ema_macd_trend\n",
      "+---+--------------------------------+--------------------+--------------------+---------------+------------+----------------+\n",
      "|   |           model_name           |        mse         |        mae         | total_records | batch_size | shuffle_buffer |\n",
      "+---+--------------------------------+--------------------+--------------------+---------------+------------+----------------+\n",
      "| 0 | model_5_bi2LSTM_ema_macd_trend | 1.2699857950210571 | 0.8160215020179749 |      77       |     10     |       17       |\n",
      "+---+--------------------------------+--------------------+--------------------+---------------+------------+----------------+\n",
      "\n",
      "\n",
      "vn30_with_ema_macd_trend\n",
      "+---+--------------------------------------+--------------------+--------------------+---------------+------------+----------------+\n",
      "|   |              model_name              |        mse         |        mae         | total_records | batch_size | shuffle_buffer |\n",
      "+---+--------------------------------------+--------------------+--------------------+---------------+------------+----------------+\n",
      "| 0 | model_5_bi2LSTM_ema_macd_trend_1_1_1 | 0.7440525889396667 | 0.5830588340759277 |      250      |     39     |       21       |\n",
      "+---+--------------------------------------+--------------------+--------------------+---------------+------------+----------------+\n",
      "\n",
      "\n"
     ]
    }
   ],
   "source": [
    "for dataset_name in all_dfs:\n",
    "    print(dataset_name)\n",
    "    print(tabulate(all_dfs[dataset_name], headers='keys', tablefmt='pretty'))\n",
    "    print(\"\\n\")"
   ]
  },
  {
   "cell_type": "markdown",
   "metadata": {},
   "source": []
  }
 ],
 "metadata": {
  "kernelspec": {
   "display_name": ".venv",
   "language": "python",
   "name": "python3"
  },
  "language_info": {
   "codemirror_mode": {
    "name": "ipython",
    "version": 3
   },
   "file_extension": ".py",
   "mimetype": "text/x-python",
   "name": "python",
   "nbconvert_exporter": "python",
   "pygments_lexer": "ipython3",
   "version": "3.9.7"
  }
 },
 "nbformat": 4,
 "nbformat_minor": 2
}
