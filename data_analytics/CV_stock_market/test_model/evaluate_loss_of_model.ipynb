{
 "cells": [
  {
   "cell_type": "code",
   "execution_count": 1,
   "metadata": {},
   "outputs": [],
   "source": [
    "import sys\n",
    "sys.path.append(\"../\")"
   ]
  },
  {
   "cell_type": "code",
   "execution_count": 20,
   "metadata": {},
   "outputs": [],
   "source": [
    "from utils.common_train_utils import *\n",
    "from utils.draw_candle_image import *\n",
    "from utils.evaluate_old_models import *\n",
    "from functools import partial\n",
    "import os\n",
    "from tabulate import tabulate\n",
    "import random\n",
    "import warnings\n",
    "warnings.filterwarnings(\"ignore\")\n"
   ]
  },
  {
   "cell_type": "code",
   "execution_count": 24,
   "metadata": {},
   "outputs": [],
   "source": [
    "def print_loss_of_all_models_in_dataset_folder(folder_object):\n",
    "    dataset_path = folder_object.path\n",
    "    \n",
    "    config = read_config(dataset_path)\n",
    "    candle_type_and_directory_save: dict = config[\"candle_type_and_directory_save\"]\n",
    "    days_result = config[\"days_result\"]\n",
    "    \n",
    "    dataset_test = load_dataset_of_each_type_and_combine(f\"{dataset_path}/test\", candle_type_and_directory_save)\n",
    "    \n",
    "    batch_size = random.randint(0, int(len(dataset_test) / 4))\n",
    "    shuffle_buffer = random.randint(0, int(len(dataset_test) / 3))\n",
    "    \n",
    "    dataset_test_1 = dataset_test.shuffle(shuffle_buffer)\n",
    "    dataset_test_2 = dataset_test_1.batch(batch_size)\n",
    "    \n",
    "    # Ví dụ\n",
    "    all_models_folder_path = os.path.join(os.path.abspath(dataset_path), \"model_save\")\n",
    "    df = evaluate_all_models_in_dataset_folder(\n",
    "        all_models_folder_path, \n",
    "        dataset_test_2,\n",
    "        days_result\n",
    "    )\n",
    "    \n",
    "    # print(f\"----------------- {folder_name} -----------------\")\n",
    "    # print(df)\n",
    "    \n",
    "    df[\"total_records\"] = len(dataset_test)\n",
    "    df[\"batch_size\"] = batch_size\n",
    "    df[\"shuffle_buffer\"] = shuffle_buffer\n",
    "    \n",
    "    return df"
   ]
  },
  {
   "cell_type": "code",
   "execution_count": 25,
   "metadata": {},
   "outputs": [],
   "source": [
    "dataset_parent_folder = os.path.abspath(\"../dataset\")"
   ]
  },
  {
   "cell_type": "code",
   "execution_count": 30,
   "metadata": {},
   "outputs": [
    {
     "name": "stdout",
     "output_type": "stream",
     "text": [
      "\u001b[1m13/13\u001b[0m \u001b[32m━━━━━━━━━━━━━━━━━━━━\u001b[0m\u001b[37m\u001b[0m \u001b[1m2s\u001b[0m 71ms/step - loss: 4.0939 - mae: 1.3373 - mse: 4.0939\n",
      "\u001b[1m13/13\u001b[0m \u001b[32m━━━━━━━━━━━━━━━━━━━━\u001b[0m\u001b[37m\u001b[0m \u001b[1m2s\u001b[0m 77ms/step - loss: 4.0679 - mae: 1.3047 - mse: 4.0679\n",
      "\u001b[1m29/29\u001b[0m \u001b[32m━━━━━━━━━━━━━━━━━━━━\u001b[0m\u001b[37m\u001b[0m \u001b[1m1s\u001b[0m 29ms/step - loss: 2.8362 - mae: 1.1561 - mse: 2.8362\n",
      "\u001b[1m9/9\u001b[0m \u001b[32m━━━━━━━━━━━━━━━━━━━━\u001b[0m\u001b[37m\u001b[0m \u001b[1m1s\u001b[0m 72ms/step - loss: 1.4904 - mae: 0.8844 - mse: 1.4904\n",
      "\u001b[1m6/6\u001b[0m \u001b[32m━━━━━━━━━━━━━━━━━━━━\u001b[0m\u001b[37m\u001b[0m \u001b[1m1s\u001b[0m 104ms/step - loss: 1.3889 - mae: 0.7997 - mse: 1.3889\n",
      "\u001b[1m6/6\u001b[0m \u001b[32m━━━━━━━━━━━━━━━━━━━━\u001b[0m\u001b[37m\u001b[0m \u001b[1m1s\u001b[0m 91ms/step - loss: 1.4228 - mae: 0.8151 - mse: 1.4228 \n",
      "\u001b[1m5/5\u001b[0m \u001b[32m━━━━━━━━━━━━━━━━━━━━\u001b[0m\u001b[37m\u001b[0m \u001b[1m1s\u001b[0m 123ms/step - loss: 0.7761 - mae: 0.5962 - mse: 0.7761\n"
     ]
    }
   ],
   "source": [
    "all_dfs = {}\n",
    "for f in os.scandir(dataset_parent_folder):\n",
    "    if not f.is_dir(): continue\n",
    "    \n",
    "    df = print_loss_of_all_models_in_dataset_folder(f)\n",
    "    all_dfs[f.name] = df"
   ]
  },
  {
   "cell_type": "code",
   "execution_count": 31,
   "metadata": {},
   "outputs": [
    {
     "data": {
      "text/plain": [
       "['btc_dataset_0_2_3_2014_2024_test_2023_2024_with_ema_macd_trend',\n",
       " 'coca_cola_dataset_0_2_3_1980_2024_test_2017_2024_with_ema_macd_trend',\n",
       " 'ctg_dataset_0_2_3_2009_2024_test_2023_2024_with_ema_macd_trend',\n",
       " 'fpt_dataset_0_2_3_2012_2024_test_2023_2024_with_ema_macd_trend',\n",
       " 'vn30_dataset_0_2_3_2012_2024_test_2023_2024_with_ema_macd_trend']"
      ]
     },
     "execution_count": 31,
     "metadata": {},
     "output_type": "execute_result"
    }
   ],
   "source": [
    "list(all_dfs.keys())"
   ]
  },
  {
   "cell_type": "code",
   "execution_count": 32,
   "metadata": {},
   "outputs": [
    {
     "name": "stdout",
     "output_type": "stream",
     "text": [
      "btc_dataset_0_2_3_2014_2024_test_2023_2024_with_ema_macd_trend\n",
      "+---+--------------------------------+-------------------+--------------------+---------------+------------+----------------+\n",
      "|   |           model_name           |        mse        |        mae         | total_records | batch_size | shuffle_buffer |\n",
      "+---+--------------------------------+-------------------+--------------------+---------------+------------+----------------+\n",
      "| 0 | model_5_bi2LSTM_ema_macd_trend | 4.124487400054932 | 1.3426555395126343 |      364      |     30     |       78       |\n",
      "| 1 | model_5_biLSTM_ema_macd_trend  | 4.138830661773682 | 1.3070698976516724 |      364      |     30     |       78       |\n",
      "+---+--------------------------------+-------------------+--------------------+---------------+------------+----------------+\n",
      "\n",
      "\n",
      "coca_cola_dataset_0_2_3_1980_2024_test_2017_2024_with_ema_macd_trend\n",
      "+---+--------------------------------------+-------------------+--------------------+---------------+------------+----------------+\n",
      "|   |              model_name              |        mse        |        mae         | total_records | batch_size | shuffle_buffer |\n",
      "+---+--------------------------------------+-------------------+--------------------+---------------+------------+----------------+\n",
      "| 0 | model_5_bi2LSTM_ema_macd_trend_1_1_1 | 3.695770263671875 | 1.2492215633392334 |      144      |     5      |       2        |\n",
      "+---+--------------------------------------+-------------------+--------------------+---------------+------------+----------------+\n",
      "\n",
      "\n",
      "ctg_dataset_0_2_3_2009_2024_test_2023_2024_with_ema_macd_trend\n",
      "+---+--------------------------------+--------------------+--------------------+---------------+------------+----------------+\n",
      "|   |           model_name           |        mse         |        mae         | total_records | batch_size | shuffle_buffer |\n",
      "+---+--------------------------------+--------------------+--------------------+---------------+------------+----------------+\n",
      "| 0 | model_5_bi2LSTM_ema_macd_trend | 1.4295846223831177 | 0.8556839823722839 |      221      |     25     |       41       |\n",
      "+---+--------------------------------+--------------------+--------------------+---------------+------------+----------------+\n",
      "\n",
      "\n",
      "fpt_dataset_0_2_3_2012_2024_test_2023_2024_with_ema_macd_trend\n",
      "+---+----------------------------------------+--------------------+--------------------+---------------+------------+----------------+\n",
      "|   |               model_name               |        mse         |        mae         | total_records | batch_size | shuffle_buffer |\n",
      "+---+----------------------------------------+--------------------+--------------------+---------------+------------+----------------+\n",
      "| 0 |     model_5_bi2LSTM_ema_macd_trend     | 1.3954895734786987 | 0.8097718954086304 |      221      |     38     |       44       |\n",
      "| 1 | model_5_biLSTM_with_ema_macd_trend_1_1 | 1.4302265644073486 | 0.8260319828987122 |      221      |     38     |       44       |\n",
      "+---+----------------------------------------+--------------------+--------------------+---------------+------------+----------------+\n",
      "\n",
      "\n",
      "vn30_dataset_0_2_3_2012_2024_test_2023_2024_with_ema_macd_trend\n",
      "+---+--------------------------------------+-------------------+--------------------+---------------+------------+----------------+\n",
      "|   |              model_name              |        mse        |        mae         | total_records | batch_size | shuffle_buffer |\n",
      "+---+--------------------------------------+-------------------+--------------------+---------------+------------+----------------+\n",
      "| 0 | model_5_bi2LSTM_ema_macd_trend_1_1_1 | 0.744052529335022 | 0.5830588340759277 |      250      |     56     |       22       |\n",
      "+---+--------------------------------------+-------------------+--------------------+---------------+------------+----------------+\n",
      "\n",
      "\n"
     ]
    }
   ],
   "source": [
    "for dataset_name in all_dfs:\n",
    "    print(dataset_name)\n",
    "    print(tabulate(all_dfs[dataset_name], headers='keys', tablefmt='pretty'))\n",
    "    print(\"\\n\")"
   ]
  },
  {
   "cell_type": "code",
   "execution_count": null,
   "metadata": {},
   "outputs": [],
   "source": []
  }
 ],
 "metadata": {
  "kernelspec": {
   "display_name": ".venv",
   "language": "python",
   "name": "python3"
  },
  "language_info": {
   "codemirror_mode": {
    "name": "ipython",
    "version": 3
   },
   "file_extension": ".py",
   "mimetype": "text/x-python",
   "name": "python",
   "nbconvert_exporter": "python",
   "pygments_lexer": "ipython3",
   "version": "3.9.7"
  }
 },
 "nbformat": 4,
 "nbformat_minor": 2
}
