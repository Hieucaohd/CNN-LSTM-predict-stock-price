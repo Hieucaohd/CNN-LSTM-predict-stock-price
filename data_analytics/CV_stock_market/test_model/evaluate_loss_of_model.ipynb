{
 "cells": [
  {
   "cell_type": "code",
   "execution_count": 78,
   "metadata": {},
   "outputs": [],
   "source": [
    "import sys\n",
    "sys.path.append(\"../\")"
   ]
  },
  {
   "cell_type": "code",
   "execution_count": 79,
   "metadata": {},
   "outputs": [],
   "source": [
    "from utils.common_train_utils import *\n",
    "from utils.draw_candle_image import *\n",
    "from utils.evaluate_old_models import *\n",
    "from functools import partial\n",
    "import os\n",
    "from tabulate import tabulate\n",
    "import random\n",
    "import warnings\n",
    "warnings.filterwarnings(\"ignore\")\n"
   ]
  },
  {
   "cell_type": "code",
   "execution_count": 80,
   "metadata": {},
   "outputs": [],
   "source": [
    "def print_loss_of_all_models_in_dataset_folder(folder_object):\n",
    "    dataset_path = folder_object.path\n",
    "    \n",
    "    config = read_config(dataset_path)\n",
    "    candle_type_and_directory_save: dict = config[\"candle_type_and_directory_save\"]\n",
    "    days_result = config[\"days_result\"]\n",
    "    \n",
    "    dataset_test = load_dataset_of_each_type_and_combine(f\"{dataset_path}/test\", candle_type_and_directory_save)\n",
    "    \n",
    "    batch_size = random.randint(1, int(len(dataset_test) / 4))\n",
    "    shuffle_buffer = random.randint(1, int(len(dataset_test) / 3))\n",
    "    \n",
    "    dataset_test_1 = dataset_test.shuffle(shuffle_buffer)\n",
    "    dataset_test_2 = dataset_test_1.batch(batch_size)\n",
    "    \n",
    "    # Ví dụ\n",
    "    all_models_folder_path = os.path.join(os.path.abspath(dataset_path), \"model_save\")\n",
    "    df = evaluate_all_models_in_dataset_folder(\n",
    "        all_models_folder_path, \n",
    "        dataset_test_2,\n",
    "        days_result\n",
    "    )\n",
    "    \n",
    "    # print(f\"----------------- {folder_name} -----------------\")\n",
    "    # print(df)\n",
    "    \n",
    "    df[\"total_records\"] = len(dataset_test)\n",
    "    df[\"batch_size\"] = batch_size\n",
    "    df[\"shuffle_buffer\"] = shuffle_buffer\n",
    "    \n",
    "    return df"
   ]
  },
  {
   "cell_type": "code",
   "execution_count": 81,
   "metadata": {},
   "outputs": [],
   "source": [
    "dataset_parent_folder = os.path.abspath(\"../dataset\")"
   ]
  },
  {
   "cell_type": "code",
   "execution_count": 82,
   "metadata": {},
   "outputs": [
    {
     "name": "stdout",
     "output_type": "stream",
     "text": [
      "\u001b[1m15/15\u001b[0m \u001b[32m━━━━━━━━━━━━━━━━━━━━\u001b[0m\u001b[37m\u001b[0m \u001b[1m1s\u001b[0m 21ms/step - loss: 1.5200 - mae: 0.9211 - mse: 1.5200\n",
      "\u001b[1m15/15\u001b[0m \u001b[32m━━━━━━━━━━━━━━━━━━━━\u001b[0m\u001b[37m\u001b[0m \u001b[1m1s\u001b[0m 20ms/step - loss: 1.4290 - mae: 0.8917 - mse: 1.4290\n",
      "\u001b[1m15/15\u001b[0m \u001b[32m━━━━━━━━━━━━━━━━━━━━\u001b[0m\u001b[37m\u001b[0m \u001b[1m1s\u001b[0m 20ms/step - loss: 1.4271 - mae: 0.8876 - mse: 1.4271\n",
      "\u001b[1m15/15\u001b[0m \u001b[32m━━━━━━━━━━━━━━━━━━━━\u001b[0m\u001b[37m\u001b[0m \u001b[1m1s\u001b[0m 21ms/step - loss: 1.6120 - mae: 0.9423 - mse: 1.6120\n",
      "\u001b[1m15/15\u001b[0m \u001b[32m━━━━━━━━━━━━━━━━━━━━\u001b[0m\u001b[37m\u001b[0m \u001b[1m1s\u001b[0m 20ms/step - loss: 1.3765 - mae: 0.8697 - mse: 1.3765\n",
      "\u001b[1m7/7\u001b[0m \u001b[32m━━━━━━━━━━━━━━━━━━━━\u001b[0m\u001b[37m\u001b[0m \u001b[1m1s\u001b[0m 33ms/step - loss: 3.6454 - mae: 1.3431 - mse: 3.6454\n",
      "\u001b[1m5/5\u001b[0m \u001b[32m━━━━━━━━━━━━━━━━━━━━\u001b[0m\u001b[37m\u001b[0m \u001b[1m1s\u001b[0m 160ms/step - loss: 4.0551 - mae: 1.3255 - mse: 4.0551\n",
      "\u001b[1m5/5\u001b[0m \u001b[32m━━━━━━━━━━━━━━━━━━━━\u001b[0m\u001b[37m\u001b[0m \u001b[1m1s\u001b[0m 156ms/step - loss: 4.1828 - mae: 1.3275 - mse: 4.1828\n",
      "\u001b[1m5/5\u001b[0m \u001b[32m━━━━━━━━━━━━━━━━━━━━\u001b[0m\u001b[37m\u001b[0m \u001b[1m1s\u001b[0m 155ms/step - loss: 4.0412 - mae: 1.2829 - mse: 4.0412\n",
      "\u001b[1m5/5\u001b[0m \u001b[32m━━━━━━━━━━━━━━━━━━━━\u001b[0m\u001b[37m\u001b[0m \u001b[1m1s\u001b[0m 165ms/step - loss: 4.0865 - mae: 1.2887 - mse: 4.0865\n",
      "\u001b[1m5/5\u001b[0m \u001b[32m━━━━━━━━━━━━━━━━━━━━\u001b[0m\u001b[37m\u001b[0m \u001b[1m1s\u001b[0m 165ms/step - loss: 3.9516 - mae: 1.2692 - mse: 3.9516\n",
      "\u001b[1m5/5\u001b[0m \u001b[32m━━━━━━━━━━━━━━━━━━━━\u001b[0m\u001b[37m\u001b[0m \u001b[1m1s\u001b[0m 164ms/step - loss: 4.0429 - mae: 1.2911 - mse: 4.0429\n",
      "\u001b[1m5/5\u001b[0m \u001b[32m━━━━━━━━━━━━━━━━━━━━\u001b[0m\u001b[37m\u001b[0m \u001b[1m1s\u001b[0m 162ms/step - loss: 4.0496 - mae: 1.2837 - mse: 4.0496\n",
      "\u001b[1m5/5\u001b[0m \u001b[32m━━━━━━━━━━━━━━━━━━━━\u001b[0m\u001b[37m\u001b[0m \u001b[1m1s\u001b[0m 69ms/step - loss: 3.5479 - mae: 1.2455 - mse: 3.5479\n",
      "\u001b[1m7/7\u001b[0m \u001b[32m━━━━━━━━━━━━━━━━━━━━\u001b[0m\u001b[37m\u001b[0m \u001b[1m1s\u001b[0m 74ms/step - loss: 1.4919 - mae: 0.8739 - mse: 1.4919\n",
      "\u001b[1m10/10\u001b[0m \u001b[32m━━━━━━━━━━━━━━━━━━━━\u001b[0m\u001b[37m\u001b[0m \u001b[1m1s\u001b[0m 53ms/step - loss: 6.8020 - mae: 1.7226 - mse: 6.8020\n",
      "\u001b[1m14/14\u001b[0m \u001b[32m━━━━━━━━━━━━━━━━━━━━\u001b[0m\u001b[37m\u001b[0m \u001b[1m1s\u001b[0m 47ms/step - loss: 1.3336 - mae: 0.7807 - mse: 1.3336\n",
      "\u001b[1m14/14\u001b[0m \u001b[32m━━━━━━━━━━━━━━━━━━━━\u001b[0m\u001b[37m\u001b[0m \u001b[1m1s\u001b[0m 52ms/step - loss: 1.3876 - mae: 0.8029 - mse: 1.3876\n",
      "\u001b[1m10/10\u001b[0m \u001b[32m━━━━━━━━━━━━━━━━━━━━\u001b[0m\u001b[37m\u001b[0m \u001b[1m1s\u001b[0m 26ms/step - loss: 1.2213 - mae: 0.8053 - mse: 1.2213\n",
      "\u001b[1m10/10\u001b[0m \u001b[32m━━━━━━━━━━━━━━━━━━━━\u001b[0m\u001b[37m\u001b[0m \u001b[1m1s\u001b[0m 60ms/step - loss: 0.7820 - mae: 0.6029 - mse: 0.7820\n"
     ]
    }
   ],
   "source": [
    "all_dfs = {}\n",
    "for f in os.scandir(dataset_parent_folder):\n",
    "    if not f.is_dir(): continue\n",
    "    \n",
    "    df = print_loss_of_all_models_in_dataset_folder(f)\n",
    "    all_dfs[f.name] = df"
   ]
  },
  {
   "cell_type": "code",
   "execution_count": 83,
   "metadata": {},
   "outputs": [
    {
     "data": {
      "text/plain": [
       "['apple_with_ema_macd_trend',\n",
       " 'btc_with_ema_macd_trend',\n",
       " 'btc_with_ema_macd_trend_old',\n",
       " 'coca_cola_with_ema_macd_trend',\n",
       " 'ctg_with_ema_macd_trend',\n",
       " 'eth_with_ema_macd_trend',\n",
       " 'fpt_with_ema_macd_trend',\n",
       " 'tcb_with_ema_macd_trend',\n",
       " 'vn30_with_ema_macd_trend']"
      ]
     },
     "execution_count": 83,
     "metadata": {},
     "output_type": "execute_result"
    }
   ],
   "source": [
    "list(all_dfs.keys())"
   ]
  },
  {
   "cell_type": "code",
   "execution_count": 84,
   "metadata": {},
   "outputs": [
    {
     "name": "stdout",
     "output_type": "stream",
     "text": [
      "apple_with_ema_macd_trend\n",
      "+---+---------------------------------------+--------------------+--------------------+---------------+------------+----------------+\n",
      "|   |              model_name               |        mse         |        mae         | total_records | batch_size | shuffle_buffer |\n",
      "+---+---------------------------------------+--------------------+--------------------+---------------+------------+----------------+\n",
      "| 1 |    model_5_biLSTM_ema_macd_trend_1    | 1.3436095714569092 | 0.8511976003646851 |      103      |     7      |       20       |\n",
      "| 2 |   model_5_biLSTM_ema_macd_trend_1_1   | 1.3958796262741089 | 0.8672536015510559 |      103      |     7      |       20       |\n",
      "| 0 |     model_5_biLSTM_ema_macd_trend     | 1.3958799839019775 | 0.8672536611557007 |      103      |     7      |       20       |\n",
      "| 4 | model_5_biLSTM_ema_macd_trend_1_1_1_1 | 1.3958989381790161 | 0.8672159314155579 |      103      |     7      |       20       |\n",
      "| 3 |  model_5_biLSTM_ema_macd_trend_1_1_1  | 1.3958990573883057 | 0.8672159314155579 |      103      |     7      |       20       |\n",
      "+---+---------------------------------------+--------------------+--------------------+---------------+------------+----------------+\n",
      "\n",
      "\n",
      "btc_with_ema_macd_trend\n",
      "+---+-------------------------------------------+-------------------+--------------------+---------------+------------+----------------+\n",
      "|   |                model_name                 |        mse        |        mae         | total_records | batch_size | shuffle_buffer |\n",
      "+---+-------------------------------------------+-------------------+--------------------+---------------+------------+----------------+\n",
      "| 0 | model_5_biLSTM_ema_macd_trend_1_1_1_1_1_1 | 4.741568565368652 | 1.4428255558013916 |      62       |     9      |       10       |\n",
      "+---+-------------------------------------------+-------------------+--------------------+---------------+------------+----------------+\n",
      "\n",
      "\n",
      "btc_with_ema_macd_trend_old\n",
      "+---+-----------------------------------------------+-------------------+--------------------+---------------+------------+----------------+\n",
      "|   |                  model_name                   |        mse        |        mae         | total_records | batch_size | shuffle_buffer |\n",
      "+---+-----------------------------------------------+-------------------+--------------------+---------------+------------+----------------+\n",
      "| 5 |  model_5_biLSTM_ema_macd_trend_cl_test_1_1_1  | 4.002681255340576 | 1.2841410636901855 |      364      |     86     |       38       |\n",
      "| 4 |   model_5_biLSTM_ema_macd_trend_cl_test_1_1   | 4.007717132568359 | 1.282375454902649  |      364      |     86     |       38       |\n",
      "| 6 | model_5_biLSTM_ema_macd_trend_cl_test_1_1_1_1 | 4.017830848693848 | 1.279681921005249  |      364      |     86     |       38       |\n",
      "| 3 |    model_5_biLSTM_ema_macd_trend_cl_test_1    | 4.031723499298096 | 1.280347228050232  |      364      |     86     |       38       |\n",
      "| 2 |     model_5_biLSTM_ema_macd_trend_cl_test     | 4.038589954376221 | 1.2821990251541138 |      364      |     86     |       38       |\n",
      "| 0 |        model_5_bi2LSTM_ema_macd_trend         | 4.124487400054932 | 1.3426554203033447 |      364      |     86     |       38       |\n",
      "| 1 |         model_5_biLSTM_ema_macd_trend         | 4.138831615447998 | 1.3070697784423828 |      364      |     86     |       38       |\n",
      "+---+-----------------------------------------------+-------------------+--------------------+---------------+------------+----------------+\n",
      "\n",
      "\n",
      "coca_cola_with_ema_macd_trend\n",
      "+---+--------------------------------------+-------------------+--------------------+---------------+------------+----------------+\n",
      "|   |              model_name              |        mse        |        mae         | total_records | batch_size | shuffle_buffer |\n",
      "+---+--------------------------------------+-------------------+--------------------+---------------+------------+----------------+\n",
      "| 0 | model_5_bi2LSTM_ema_macd_trend_1_1_1 | 3.695770740509033 | 1.2492213249206543 |      144      |     35     |       42       |\n",
      "+---+--------------------------------------+-------------------+--------------------+---------------+------------+----------------+\n",
      "\n",
      "\n",
      "ctg_with_ema_macd_trend\n",
      "+---+--------------------------------+--------------------+--------------------+---------------+------------+----------------+\n",
      "|   |           model_name           |        mse         |        mae         | total_records | batch_size | shuffle_buffer |\n",
      "+---+--------------------------------+--------------------+--------------------+---------------+------------+----------------+\n",
      "| 0 | model_5_bi2LSTM_ema_macd_trend | 1.4295845031738281 | 0.8556839823722839 |      221      |     32     |       66       |\n",
      "+---+--------------------------------+--------------------+--------------------+---------------+------------+----------------+\n",
      "\n",
      "\n",
      "eth_with_ema_macd_trend\n",
      "+---+-----------------------------------+-------------------+--------------------+---------------+------------+----------------+\n",
      "|   |            model_name             |        mse        |        mae         | total_records | batch_size | shuffle_buffer |\n",
      "+---+-----------------------------------+-------------------+--------------------+---------------+------------+----------------+\n",
      "| 0 | model_5_biLSTM_ema_macd_trend_1_1 | 7.014734745025635 | 1.7484922409057617 |      231      |     25     |       75       |\n",
      "+---+-----------------------------------+-------------------+--------------------+---------------+------------+----------------+\n",
      "\n",
      "\n",
      "fpt_with_ema_macd_trend\n",
      "+---+----------------------------------------+--------------------+--------------------+---------------+------------+----------------+\n",
      "|   |               model_name               |        mse         |        mae         | total_records | batch_size | shuffle_buffer |\n",
      "+---+----------------------------------------+--------------------+--------------------+---------------+------------+----------------+\n",
      "| 0 |     model_5_bi2LSTM_ema_macd_trend     | 1.3954894542694092 | 0.8097718954086304 |      221      |     16     |       22       |\n",
      "| 1 | model_5_biLSTM_with_ema_macd_trend_1_1 | 1.4302266836166382 | 0.8260320425033569 |      221      |     16     |       22       |\n",
      "+---+----------------------------------------+--------------------+--------------------+---------------+------------+----------------+\n",
      "\n",
      "\n",
      "tcb_with_ema_macd_trend\n",
      "+---+--------------------------------+--------------------+--------------------+---------------+------------+----------------+\n",
      "|   |           model_name           |        mse         |        mae         | total_records | batch_size | shuffle_buffer |\n",
      "+---+--------------------------------+--------------------+--------------------+---------------+------------+----------------+\n",
      "| 0 | model_5_bi2LSTM_ema_macd_trend | 1.2699856758117676 | 0.8160215020179749 |      77       |     8      |       6        |\n",
      "+---+--------------------------------+--------------------+--------------------+---------------+------------+----------------+\n",
      "\n",
      "\n",
      "vn30_with_ema_macd_trend\n",
      "+---+--------------------------------------+--------------------+--------------------+---------------+------------+----------------+\n",
      "|   |              model_name              |        mse         |        mae         | total_records | batch_size | shuffle_buffer |\n",
      "+---+--------------------------------------+--------------------+--------------------+---------------+------------+----------------+\n",
      "| 0 | model_5_bi2LSTM_ema_macd_trend_1_1_1 | 0.7440526485443115 | 0.5830588340759277 |      250      |     25     |       57       |\n",
      "+---+--------------------------------------+--------------------+--------------------+---------------+------------+----------------+\n",
      "\n",
      "\n"
     ]
    }
   ],
   "source": [
    "for dataset_name in all_dfs:\n",
    "    print(dataset_name)\n",
    "    print(tabulate(all_dfs[dataset_name], headers='keys', tablefmt='pretty'))\n",
    "    print(\"\\n\")"
   ]
  },
  {
   "cell_type": "markdown",
   "metadata": {},
   "source": []
  }
 ],
 "metadata": {
  "kernelspec": {
   "display_name": ".venv",
   "language": "python",
   "name": "python3"
  },
  "language_info": {
   "codemirror_mode": {
    "name": "ipython",
    "version": 3
   },
   "file_extension": ".py",
   "mimetype": "text/x-python",
   "name": "python",
   "nbconvert_exporter": "python",
   "pygments_lexer": "ipython3",
   "version": "3.9.7"
  }
 },
 "nbformat": 4,
 "nbformat_minor": 2
}
