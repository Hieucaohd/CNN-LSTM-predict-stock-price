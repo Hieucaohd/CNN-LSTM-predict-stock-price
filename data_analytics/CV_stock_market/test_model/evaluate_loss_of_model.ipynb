{
 "cells": [
  {
   "cell_type": "code",
   "execution_count": 1,
   "metadata": {},
   "outputs": [],
   "source": [
    "import sys\n",
    "sys.path.append(\"../\")"
   ]
  },
  {
   "cell_type": "code",
   "execution_count": 2,
   "metadata": {},
   "outputs": [],
   "source": [
    "from utils.common_train_utils import *\n",
    "from utils.draw_candle_image import *\n",
    "from utils.evaluate_old_models import *\n",
    "from functools import partial\n",
    "import os\n",
    "from tabulate import tabulate\n",
    "import random\n",
    "import warnings\n",
    "warnings.filterwarnings(\"ignore\")\n"
   ]
  },
  {
   "cell_type": "code",
   "execution_count": 3,
   "metadata": {},
   "outputs": [],
   "source": [
    "def print_loss_of_all_models_in_dataset_folder(folder_object):\n",
    "    dataset_path = folder_object.path\n",
    "    \n",
    "    config = read_config(dataset_path)\n",
    "    candle_type_and_directory_save: dict = config[\"candle_type_and_directory_save\"]\n",
    "    days_result = config[\"days_result\"]\n",
    "    \n",
    "    dataset_test = load_dataset_of_each_type_and_combine(f\"{dataset_path}/test\", candle_type_and_directory_save)\n",
    "    \n",
    "    batch_size = random.randint(0, int(len(dataset_test) / 4))\n",
    "    shuffle_buffer = random.randint(0, int(len(dataset_test) / 3))\n",
    "    \n",
    "    dataset_test_1 = dataset_test.shuffle(shuffle_buffer)\n",
    "    dataset_test_2 = dataset_test_1.batch(batch_size)\n",
    "    \n",
    "    # Ví dụ\n",
    "    all_models_folder_path = os.path.join(os.path.abspath(dataset_path), \"model_save\")\n",
    "    df = evaluate_all_models_in_dataset_folder(\n",
    "        all_models_folder_path, \n",
    "        dataset_test_2,\n",
    "        days_result\n",
    "    )\n",
    "    \n",
    "    # print(f\"----------------- {folder_name} -----------------\")\n",
    "    # print(df)\n",
    "    \n",
    "    df[\"total_records\"] = len(dataset_test)\n",
    "    df[\"batch_size\"] = batch_size\n",
    "    df[\"shuffle_buffer\"] = shuffle_buffer\n",
    "    \n",
    "    return df"
   ]
  },
  {
   "cell_type": "code",
   "execution_count": 4,
   "metadata": {},
   "outputs": [],
   "source": [
    "dataset_parent_folder = os.path.abspath(\"../dataset\")"
   ]
  },
  {
   "cell_type": "code",
   "execution_count": 5,
   "metadata": {},
   "outputs": [
    {
     "name": "stdout",
     "output_type": "stream",
     "text": [
      "\u001b[1m16/16\u001b[0m \u001b[32m━━━━━━━━━━━━━━━━━━━━\u001b[0m\u001b[37m\u001b[0m \u001b[1m3s\u001b[0m 125ms/step - loss: 4.2806 - mae: 1.3659 - mse: 4.2806\n",
      "\u001b[1m16/16\u001b[0m \u001b[32m━━━━━━━━━━━━━━━━━━━━\u001b[0m\u001b[37m\u001b[0m \u001b[1m3s\u001b[0m 112ms/step - loss: 4.2412 - mae: 1.3237 - mse: 4.2412\n",
      "\u001b[1m16/16\u001b[0m \u001b[32m━━━━━━━━━━━━━━━━━━━━\u001b[0m\u001b[37m\u001b[0m \u001b[1m3s\u001b[0m 103ms/step - loss: 4.2848 - mae: 1.3209 - mse: 4.2848\n",
      "\u001b[1m16/16\u001b[0m \u001b[32m━━━━━━━━━━━━━━━━━━━━\u001b[0m\u001b[37m\u001b[0m \u001b[1m3s\u001b[0m 102ms/step - loss: 4.3271 - mae: 1.3203 - mse: 4.3271\n",
      "\u001b[1m16/16\u001b[0m \u001b[32m━━━━━━━━━━━━━━━━━━━━\u001b[0m\u001b[37m\u001b[0m \u001b[1m2s\u001b[0m 99ms/step - loss: 4.1435 - mae: 1.2864 - mse: 4.1435 \n",
      "\u001b[1m16/16\u001b[0m \u001b[32m━━━━━━━━━━━━━━━━━━━━\u001b[0m\u001b[37m\u001b[0m \u001b[1m3s\u001b[0m 78ms/step - loss: 3.9517 - mae: 1.2740 - mse: 3.9517\n",
      "\u001b[1m16/16\u001b[0m \u001b[32m━━━━━━━━━━━━━━━━━━━━\u001b[0m\u001b[37m\u001b[0m \u001b[1m2s\u001b[0m 80ms/step - loss: 4.1417 - mae: 1.3028 - mse: 4.1417\n",
      "\u001b[1m7/7\u001b[0m \u001b[32m━━━━━━━━━━━━━━━━━━━━\u001b[0m\u001b[37m\u001b[0m \u001b[1m1s\u001b[0m 66ms/step - loss: 3.5440 - mae: 1.3298 - mse: 3.5440\n",
      "\u001b[1m144/144\u001b[0m \u001b[32m━━━━━━━━━━━━━━━━━━━━\u001b[0m\u001b[37m\u001b[0m \u001b[1m3s\u001b[0m 14ms/step - loss: 2.9710 - mae: 1.1800 - mse: 2.9710\n",
      "\u001b[1m221/221\u001b[0m \u001b[32m━━━━━━━━━━━━━━━━━━━━\u001b[0m\u001b[37m\u001b[0m \u001b[1m3s\u001b[0m 8ms/step - loss: 1.5325 - mae: 0.8952 - mse: 1.5325\n",
      "\u001b[1m74/74\u001b[0m \u001b[32m━━━━━━━━━━━━━━━━━━━━\u001b[0m\u001b[37m\u001b[0m \u001b[1m2s\u001b[0m 17ms/step - loss: 1.3720 - mae: 0.7912 - mse: 1.3720\n",
      "\u001b[1m74/74\u001b[0m \u001b[32m━━━━━━━━━━━━━━━━━━━━\u001b[0m\u001b[37m\u001b[0m \u001b[1m2s\u001b[0m 13ms/step - loss: 1.3709 - mae: 0.8099 - mse: 1.3709\n",
      "\u001b[1m9/9\u001b[0m \u001b[32m━━━━━━━━━━━━━━━━━━━━\u001b[0m\u001b[37m\u001b[0m \u001b[1m2s\u001b[0m 66ms/step - loss: 1.2713 - mae: 0.8174 - mse: 1.2713\n",
      "\u001b[1m6/6\u001b[0m \u001b[32m━━━━━━━━━━━━━━━━━━━━\u001b[0m\u001b[37m\u001b[0m \u001b[1m3s\u001b[0m 252ms/step - loss: 0.7842 - mae: 0.6011 - mse: 0.7842\n"
     ]
    }
   ],
   "source": [
    "all_dfs = {}\n",
    "for f in os.scandir(dataset_parent_folder):\n",
    "    if not f.is_dir(): continue\n",
    "    \n",
    "    df = print_loss_of_all_models_in_dataset_folder(f)\n",
    "    all_dfs[f.name] = df"
   ]
  },
  {
   "cell_type": "code",
   "execution_count": 6,
   "metadata": {},
   "outputs": [
    {
     "data": {
      "text/plain": [
       "['btc_dataset_0_2_3_2014_2024_test_2023_2024_with_ema_macd_trend',\n",
       " 'btc_dataset_0_2_3_2014_2024_test_2024_2024_with_ema_macd_trend',\n",
       " 'coca_cola_dataset_0_2_3_1980_2024_test_2017_2024_with_ema_macd_trend',\n",
       " 'ctg_dataset_0_2_3_2009_2024_test_2023_2024_with_ema_macd_trend',\n",
       " 'fpt_dataset_0_2_3_2012_2024_test_2023_2024_with_ema_macd_trend',\n",
       " 'tcb_dataset_0_2_3_2018_2024_test_2024_2024_with_ema_macd_trend',\n",
       " 'vn30_dataset_0_2_3_2012_2024_test_2023_2024_with_ema_macd_trend']"
      ]
     },
     "execution_count": 6,
     "metadata": {},
     "output_type": "execute_result"
    }
   ],
   "source": [
    "list(all_dfs.keys())"
   ]
  },
  {
   "cell_type": "code",
   "execution_count": 7,
   "metadata": {},
   "outputs": [
    {
     "name": "stdout",
     "output_type": "stream",
     "text": [
      "btc_dataset_0_2_3_2014_2024_test_2023_2024_with_ema_macd_trend\n",
      "+---+-----------------------------------------------+-------------------+--------------------+---------------+------------+----------------+\n",
      "|   |                  model_name                   |        mse        |        mae         | total_records | batch_size | shuffle_buffer |\n",
      "+---+-----------------------------------------------+-------------------+--------------------+---------------+------------+----------------+\n",
      "| 5 |  model_5_biLSTM_ema_macd_trend_cl_test_1_1_1  | 4.002681255340576 | 1.284140944480896  |      364      |     24     |       66       |\n",
      "| 4 |   model_5_biLSTM_ema_macd_trend_cl_test_1_1   | 4.007717132568359 | 1.2823755741119385 |      364      |     24     |       66       |\n",
      "| 6 | model_5_biLSTM_ema_macd_trend_cl_test_1_1_1_1 | 4.017830848693848 |  1.27968168258667  |      364      |     24     |       66       |\n",
      "| 3 |    model_5_biLSTM_ema_macd_trend_cl_test_1    | 4.031723976135254 | 1.2803471088409424 |      364      |     24     |       66       |\n",
      "| 2 |     model_5_biLSTM_ema_macd_trend_cl_test     | 4.038589954376221 | 1.2821989059448242 |      364      |     24     |       66       |\n",
      "| 0 |        model_5_bi2LSTM_ema_macd_trend         | 4.124487400054932 | 1.3426554203033447 |      364      |     24     |       66       |\n",
      "| 1 |         model_5_biLSTM_ema_macd_trend         | 4.13883113861084  | 1.3070697784423828 |      364      |     24     |       66       |\n",
      "+---+-----------------------------------------------+-------------------+--------------------+---------------+------------+----------------+\n",
      "\n",
      "\n",
      "btc_dataset_0_2_3_2014_2024_test_2024_2024_with_ema_macd_trend\n",
      "+---+-------------------------------------------+--------------------+-------------------+---------------+------------+----------------+\n",
      "|   |                model_name                 |        mse         |        mae        | total_records | batch_size | shuffle_buffer |\n",
      "+---+-------------------------------------------+--------------------+-------------------+---------------+------------+----------------+\n",
      "| 0 | model_5_biLSTM_ema_macd_trend_1_1_1_1_1_1 | 4.7415690422058105 | 1.442825436592102 |      62       |     9      |       2        |\n",
      "+---+-------------------------------------------+--------------------+-------------------+---------------+------------+----------------+\n",
      "\n",
      "\n",
      "coca_cola_dataset_0_2_3_1980_2024_test_2017_2024_with_ema_macd_trend\n",
      "+---+--------------------------------------+--------------------+--------------------+---------------+------------+----------------+\n",
      "|   |              model_name              |        mse         |        mae         | total_records | batch_size | shuffle_buffer |\n",
      "+---+--------------------------------------+--------------------+--------------------+---------------+------------+----------------+\n",
      "| 0 | model_5_bi2LSTM_ema_macd_trend_1_1_1 | 3.6957712173461914 | 1.2492212057113647 |      144      |     1      |       19       |\n",
      "+---+--------------------------------------+--------------------+--------------------+---------------+------------+----------------+\n",
      "\n",
      "\n",
      "ctg_dataset_0_2_3_2009_2024_test_2023_2024_with_ema_macd_trend\n",
      "+---+--------------------------------+--------------------+--------------------+---------------+------------+----------------+\n",
      "|   |           model_name           |        mse         |        mae         | total_records | batch_size | shuffle_buffer |\n",
      "+---+--------------------------------+--------------------+--------------------+---------------+------------+----------------+\n",
      "| 0 | model_5_bi2LSTM_ema_macd_trend | 1.4295843839645386 | 0.8556841015815735 |      221      |     1      |       46       |\n",
      "+---+--------------------------------+--------------------+--------------------+---------------+------------+----------------+\n",
      "\n",
      "\n",
      "fpt_dataset_0_2_3_2012_2024_test_2023_2024_with_ema_macd_trend\n",
      "+---+----------------------------------------+--------------------+--------------------+---------------+------------+----------------+\n",
      "|   |               model_name               |        mse         |        mae         | total_records | batch_size | shuffle_buffer |\n",
      "+---+----------------------------------------+--------------------+--------------------+---------------+------------+----------------+\n",
      "| 0 |     model_5_bi2LSTM_ema_macd_trend     | 1.3954895734786987 | 0.809771716594696  |      221      |     3      |       61       |\n",
      "| 1 | model_5_biLSTM_with_ema_macd_trend_1_1 | 1.4302265644073486 | 0.8260318636894226 |      221      |     3      |       61       |\n",
      "+---+----------------------------------------+--------------------+--------------------+---------------+------------+----------------+\n",
      "\n",
      "\n",
      "tcb_dataset_0_2_3_2018_2024_test_2024_2024_with_ema_macd_trend\n",
      "+---+--------------------------------+--------------------+--------------------+---------------+------------+----------------+\n",
      "|   |           model_name           |        mse         |        mae         | total_records | batch_size | shuffle_buffer |\n",
      "+---+--------------------------------+--------------------+--------------------+---------------+------------+----------------+\n",
      "| 0 | model_5_bi2LSTM_ema_macd_trend | 1.2699856758117676 | 0.8160215616226196 |      77       |     9      |       10       |\n",
      "+---+--------------------------------+--------------------+--------------------+---------------+------------+----------------+\n",
      "\n",
      "\n",
      "vn30_dataset_0_2_3_2012_2024_test_2023_2024_with_ema_macd_trend\n",
      "+---+--------------------------------------+--------------------+--------------------+---------------+------------+----------------+\n",
      "|   |              model_name              |        mse         |        mae         | total_records | batch_size | shuffle_buffer |\n",
      "+---+--------------------------------------+--------------------+--------------------+---------------+------------+----------------+\n",
      "| 0 | model_5_bi2LSTM_ema_macd_trend_1_1_1 | 0.7440526485443115 | 0.5830588340759277 |      250      |     46     |       6        |\n",
      "+---+--------------------------------------+--------------------+--------------------+---------------+------------+----------------+\n",
      "\n",
      "\n"
     ]
    }
   ],
   "source": [
    "for dataset_name in all_dfs:\n",
    "    print(dataset_name)\n",
    "    print(tabulate(all_dfs[dataset_name], headers='keys', tablefmt='pretty'))\n",
    "    print(\"\\n\")"
   ]
  },
  {
   "cell_type": "markdown",
   "metadata": {},
   "source": []
  },
  {
   "cell_type": "code",
   "execution_count": 8,
   "metadata": {},
   "outputs": [
    {
     "ename": "SyntaxError",
     "evalue": "invalid syntax (146829886.py, line 2)",
     "output_type": "error",
     "traceback": [
      "\u001b[1;36m  Cell \u001b[1;32mIn[8], line 2\u001b[1;36m\u001b[0m\n\u001b[1;33m    +---+---------------------------------------------+-------------------+--------------------+---------------+------------+----------------+\u001b[0m\n\u001b[1;37m                                                                                                                                              ^\u001b[0m\n\u001b[1;31mSyntaxError\u001b[0m\u001b[1;31m:\u001b[0m invalid syntax\n"
     ]
    }
   ],
   "source": [
    "btc_dataset_0_2_3_2014_2024_test_2024_2024_with_ema_macd_trend\n",
    "+---+---------------------------------------------+-------------------+--------------------+---------------+------------+----------------+\n",
    "|   |                 model_name                  |        mse        |        mae         | total_records | batch_size | shuffle_buffer |\n",
    "+---+---------------------------------------------+-------------------+--------------------+---------------+------------+----------------+\n",
    "| 6 |  model_5_biLSTM_ema_macd_trend_1_1_1_1_1_1  | 4.804694652557373 | 1.429203748703003  |      57       |     14     |       15       |\n",
    "| 7 | model_5_biLSTM_ema_macd_trend_1_1_1_1_1_1_1 | 4.804695129394531 | 1.4292036294937134 |      57       |     14     |       15       |\n",
    "| 4 |    model_5_biLSTM_ema_macd_trend_1_1_1_1    | 4.921758651733398 | 1.4760667085647583 |      57       |     14     |       15       |\n",
    "| 5 |   model_5_biLSTM_ema_macd_trend_1_1_1_1_1   | 4.921758651733398 | 1.4760668277740479 |      57       |     14     |       15       |\n",
    "| 2 |      model_5_biLSTM_ema_macd_trend_1_1      | 5.724715232849121 | 1.5685756206512451 |      57       |     14     |       15       |\n",
    "| 3 |     model_5_biLSTM_ema_macd_trend_1_1_1     | 5.724715709686279 | 1.5685756206512451 |      57       |     14     |       15       |\n",
    "| 0 |        model_5_biLSTM_ema_macd_trend        | 5.784203052520752 | 1.541532278060913  |      57       |     14     |       15       |"
   ]
  }
 ],
 "metadata": {
  "kernelspec": {
   "display_name": ".venv",
   "language": "python",
   "name": "python3"
  },
  "language_info": {
   "codemirror_mode": {
    "name": "ipython",
    "version": 3
   },
   "file_extension": ".py",
   "mimetype": "text/x-python",
   "name": "python",
   "nbconvert_exporter": "python",
   "pygments_lexer": "ipython3",
   "version": "3.9.7"
  }
 },
 "nbformat": 4,
 "nbformat_minor": 2
}
