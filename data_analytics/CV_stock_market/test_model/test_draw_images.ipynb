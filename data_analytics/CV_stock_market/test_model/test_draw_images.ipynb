{
 "cells": [
  {
   "cell_type": "code",
   "execution_count": 3,
   "metadata": {},
   "outputs": [
    {
     "ename": "TypeError",
     "evalue": "kwarg \"edge\" validator returned False for value: \"['white', 'white', 'black', 'black', 'black']\"\n    'Validator'   : lambda value: _valid_mpf_color_spec(value) },",
     "output_type": "error",
     "traceback": [
      "\u001b[1;31m---------------------------------------------------------------------------\u001b[0m",
      "\u001b[1;31mTypeError\u001b[0m                                 Traceback (most recent call last)",
      "Cell \u001b[1;32mIn[3], line 18\u001b[0m\n\u001b[0;32m     15\u001b[0m colors \u001b[38;5;241m=\u001b[39m [\u001b[38;5;124m\"\u001b[39m\u001b[38;5;124mwhite\u001b[39m\u001b[38;5;124m\"\u001b[39m \u001b[38;5;28;01mif\u001b[39;00m i \u001b[38;5;241m<\u001b[39m \u001b[38;5;28mlen\u001b[39m(df_real_data) \u001b[38;5;241m-\u001b[39m \u001b[38;5;241m3\u001b[39m \u001b[38;5;28;01melse\u001b[39;00m \u001b[38;5;124m\"\u001b[39m\u001b[38;5;124mblack\u001b[39m\u001b[38;5;124m\"\u001b[39m \u001b[38;5;28;01mfor\u001b[39;00m i \u001b[38;5;129;01min\u001b[39;00m \u001b[38;5;28mrange\u001b[39m(\u001b[38;5;28mlen\u001b[39m(df_real_data))]\n\u001b[0;32m     17\u001b[0m \u001b[38;5;66;03m# Tạo style tùy chỉnh\u001b[39;00m\n\u001b[1;32m---> 18\u001b[0m mc \u001b[38;5;241m=\u001b[39m \u001b[43mmpf\u001b[49m\u001b[38;5;241;43m.\u001b[39;49m\u001b[43mmake_marketcolors\u001b[49m\u001b[43m(\u001b[49m\u001b[43mup\u001b[49m\u001b[38;5;241;43m=\u001b[39;49m\u001b[38;5;124;43m'\u001b[39;49m\u001b[38;5;124;43mgreen\u001b[39;49m\u001b[38;5;124;43m'\u001b[39;49m\u001b[43m,\u001b[49m\u001b[43m \u001b[49m\u001b[43mdown\u001b[49m\u001b[38;5;241;43m=\u001b[39;49m\u001b[38;5;124;43m'\u001b[39;49m\u001b[38;5;124;43mred\u001b[39;49m\u001b[38;5;124;43m'\u001b[39;49m\u001b[43m,\u001b[49m\u001b[43m \u001b[49m\u001b[43medge\u001b[49m\u001b[38;5;241;43m=\u001b[39;49m\u001b[43mcolors\u001b[49m\u001b[43m,\u001b[49m\u001b[43m \u001b[49m\u001b[43mwick\u001b[49m\u001b[38;5;241;43m=\u001b[39;49m\u001b[43mcolors\u001b[49m\u001b[43m,\u001b[49m\u001b[43m \u001b[49m\u001b[43mvolume\u001b[49m\u001b[38;5;241;43m=\u001b[39;49m\u001b[38;5;124;43m'\u001b[39;49m\u001b[38;5;124;43mblue\u001b[39;49m\u001b[38;5;124;43m'\u001b[39;49m\u001b[43m)\u001b[49m\n\u001b[0;32m     19\u001b[0m s \u001b[38;5;241m=\u001b[39m mpf\u001b[38;5;241m.\u001b[39mmake_mpf_style(marketcolors\u001b[38;5;241m=\u001b[39mmc, facecolor\u001b[38;5;241m=\u001b[39m\u001b[38;5;124m'\u001b[39m\u001b[38;5;124mblack\u001b[39m\u001b[38;5;124m'\u001b[39m)  \u001b[38;5;66;03m# Màu nền đen\u001b[39;00m\n\u001b[0;32m     21\u001b[0m \u001b[38;5;66;03m# Vẽ biểu đồ\u001b[39;00m\n",
      "File \u001b[1;32md:\\code\\selenium\\.venv\\lib\\site-packages\\mplfinance\\_styles.py:299\u001b[0m, in \u001b[0;36mmake_marketcolors\u001b[1;34m(**kwargs)\u001b[0m\n\u001b[0;32m    282\u001b[0m \u001b[38;5;28;01mdef\u001b[39;00m \u001b[38;5;21mmake_marketcolors\u001b[39m(\u001b[38;5;241m*\u001b[39m\u001b[38;5;241m*\u001b[39mkwargs):\n\u001b[0;32m    283\u001b[0m \u001b[38;5;250m    \u001b[39m\u001b[38;5;124;03m'''\u001b[39;00m\n\u001b[0;32m    284\u001b[0m \u001b[38;5;124;03m    Create a 'marketcolors' dict that is structured as expected\u001b[39;00m\n\u001b[0;32m    285\u001b[0m \u001b[38;5;124;03m    by mplfinance._styles code:\u001b[39;00m\n\u001b[1;32m   (...)\u001b[0m\n\u001b[0;32m    296\u001b[0m \u001b[38;5;124;03m                 if volume == \"inherit\" then use up/down colors.\u001b[39;00m\n\u001b[0;32m    297\u001b[0m \u001b[38;5;124;03m    '''\u001b[39;00m\n\u001b[1;32m--> 299\u001b[0m     config \u001b[38;5;241m=\u001b[39m \u001b[43m_process_kwargs\u001b[49m\u001b[43m(\u001b[49m\u001b[43mkwargs\u001b[49m\u001b[43m,\u001b[49m\u001b[43m \u001b[49m\u001b[43m_valid_make_marketcolors_kwargs\u001b[49m\u001b[43m(\u001b[49m\u001b[43m)\u001b[49m\u001b[43m)\u001b[49m\n\u001b[0;32m    301\u001b[0m     \u001b[38;5;28;01mif\u001b[39;00m config[\u001b[38;5;124m'\u001b[39m\u001b[38;5;124mbase_mpf_style\u001b[39m\u001b[38;5;124m'\u001b[39m] \u001b[38;5;129;01mis\u001b[39;00m \u001b[38;5;129;01mnot\u001b[39;00m \u001b[38;5;28;01mNone\u001b[39;00m:\n\u001b[0;32m    302\u001b[0m         style \u001b[38;5;241m=\u001b[39m _get_mpfstyle(config[\u001b[38;5;124m'\u001b[39m\u001b[38;5;124mbase_mpf_style\u001b[39m\u001b[38;5;124m'\u001b[39m])\n",
      "File \u001b[1;32md:\\code\\selenium\\.venv\\lib\\site-packages\\mplfinance\\_arg_validators.py:350\u001b[0m, in \u001b[0;36m_process_kwargs\u001b[1;34m(kwargs, vkwargs)\u001b[0m\n\u001b[0;32m    348\u001b[0m          \u001b[38;5;28;01mimport\u001b[39;00m \u001b[38;5;21;01minspect\u001b[39;00m\n\u001b[0;32m    349\u001b[0m          v \u001b[38;5;241m=\u001b[39m inspect\u001b[38;5;241m.\u001b[39mgetsource(vkwargs[key][\u001b[38;5;124m'\u001b[39m\u001b[38;5;124mValidator\u001b[39m\u001b[38;5;124m'\u001b[39m])\u001b[38;5;241m.\u001b[39mstrip()\n\u001b[1;32m--> 350\u001b[0m          \u001b[38;5;28;01mraise\u001b[39;00m \u001b[38;5;167;01mTypeError\u001b[39;00m(\u001b[38;5;124m'\u001b[39m\u001b[38;5;124mkwarg \u001b[39m\u001b[38;5;124m\"\u001b[39m\u001b[38;5;124m'\u001b[39m\u001b[38;5;241m+\u001b[39mkey\u001b[38;5;241m+\u001b[39m\u001b[38;5;124m'\u001b[39m\u001b[38;5;124m\"\u001b[39m\u001b[38;5;124m validator returned False for value: \u001b[39m\u001b[38;5;124m\"\u001b[39m\u001b[38;5;124m'\u001b[39m\u001b[38;5;241m+\u001b[39m\u001b[38;5;28mstr\u001b[39m(value)\u001b[38;5;241m+\u001b[39m\u001b[38;5;124m'\u001b[39m\u001b[38;5;124m\"\u001b[39m\u001b[38;5;130;01m\\n\u001b[39;00m\u001b[38;5;124m    \u001b[39m\u001b[38;5;124m'\u001b[39m\u001b[38;5;241m+\u001b[39mv)\n\u001b[0;32m    352\u001b[0m \u001b[38;5;66;03m# ---------------------------------------------------------------\u001b[39;00m\n\u001b[0;32m    353\u001b[0m \u001b[38;5;66;03m#  At this point in the loop, if we have not raised an exception,\u001b[39;00m\n\u001b[0;32m    354\u001b[0m \u001b[38;5;66;03m#      then kwarg is valid as far as we can tell, therefore, \u001b[39;00m\n\u001b[0;32m    355\u001b[0m \u001b[38;5;66;03m#      go ahead and replace the appropriate value in config:\u001b[39;00m\n\u001b[0;32m    357\u001b[0m  config[key] \u001b[38;5;241m=\u001b[39m value\n",
      "\u001b[1;31mTypeError\u001b[0m: kwarg \"edge\" validator returned False for value: \"['white', 'white', 'black', 'black', 'black']\"\n    'Validator'   : lambda value: _valid_mpf_color_spec(value) },"
     ]
    }
   ],
   "source": [
    "import mplfinance as mpf\n",
    "import pandas as pd\n",
    "\n",
    "# Tạo dữ liệu ví dụ\n",
    "data = {\n",
    "    \"Open\": [100, 102, 104, 103, 105],\n",
    "    \"High\": [105, 107, 108, 106, 110],\n",
    "    \"Low\": [99, 101, 102, 100, 103],\n",
    "    \"Close\": [104, 105, 106, 104, 108],\n",
    "}\n",
    "index = pd.date_range(\"2024-11-01\", periods=5)\n",
    "df_real_data = pd.DataFrame(data, index=index)\n",
    "\n",
    "# Tạo danh sách màu: Đặt 3 nến cuối thành màu đen\n",
    "colors = [\"white\" if i < len(df_real_data) - 3 else \"black\" for i in range(len(df_real_data))]\n",
    "\n",
    "# Tạo style tùy chỉnh\n",
    "mc = mpf.make_marketcolors(up='green', down='red', edge=colors, wick=colors, volume='blue')\n",
    "s = mpf.make_mpf_style(marketcolors=mc, facecolor='black')  # Màu nền đen\n",
    "\n",
    "# Vẽ biểu đồ\n",
    "mpf.plot(\n",
    "    df_real_data,\n",
    "    type='candle',\n",
    "    style=s,\n",
    "    volume=False,\n",
    "    figsize=(8, 6),\n",
    "    title=\"Hide Last 3 Candles\",\n",
    ")\n"
   ]
  },
  {
   "cell_type": "code",
   "execution_count": null,
   "metadata": {},
   "outputs": [],
   "source": []
  }
 ],
 "metadata": {
  "kernelspec": {
   "display_name": ".venv",
   "language": "python",
   "name": "python3"
  },
  "language_info": {
   "codemirror_mode": {
    "name": "ipython",
    "version": 3
   },
   "file_extension": ".py",
   "mimetype": "text/x-python",
   "name": "python",
   "nbconvert_exporter": "python",
   "pygments_lexer": "ipython3",
   "version": "3.9.7"
  }
 },
 "nbformat": 4,
 "nbformat_minor": 2
}
