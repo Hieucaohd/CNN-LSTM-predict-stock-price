{
 "cells": [
  {
   "cell_type": "code",
   "execution_count": 1,
   "metadata": {},
   "outputs": [],
   "source": [
    "import sys\n",
    "sys.path.append(\"../\")\n",
    "sys.path.append(\"../train_model\")"
   ]
  },
  {
   "cell_type": "code",
   "execution_count": 2,
   "metadata": {},
   "outputs": [
    {
     "name": "stderr",
     "output_type": "stream",
     "text": [
      "2024-12-13 06:22:56.188619: I tensorflow/core/util/port.cc:153] oneDNN custom operations are on. You may see slightly different numerical results due to floating-point round-off errors from different computation orders. To turn them off, set the environment variable `TF_ENABLE_ONEDNN_OPTS=0`.\n",
      "2024-12-13 06:22:56.283211: E external/local_xla/xla/stream_executor/cuda/cuda_fft.cc:485] Unable to register cuFFT factory: Attempting to register factory for plugin cuFFT when one has already been registered\n",
      "2024-12-13 06:22:56.338342: E external/local_xla/xla/stream_executor/cuda/cuda_dnn.cc:8454] Unable to register cuDNN factory: Attempting to register factory for plugin cuDNN when one has already been registered\n",
      "2024-12-13 06:22:56.354542: E external/local_xla/xla/stream_executor/cuda/cuda_blas.cc:1452] Unable to register cuBLAS factory: Attempting to register factory for plugin cuBLAS when one has already been registered\n",
      "2024-12-13 06:22:56.412765: I tensorflow/core/platform/cpu_feature_guard.cc:210] This TensorFlow binary is optimized to use available CPU instructions in performance-critical operations.\n",
      "To enable the following instructions: AVX2 AVX_VNNI FMA, in other operations, rebuild TensorFlow with the appropriate compiler flags.\n",
      "2024-12-13 06:22:57.476580: W tensorflow/compiler/tf2tensorrt/utils/py_utils.cc:38] TF-TRT Warning: Could not find TensorRT\n"
     ]
    }
   ],
   "source": [
    "from datetime import datetime\n",
    "from functools import partial\n",
    "from matplotlib.dates import DateFormatter\n",
    "from ta import add_all_ta_features\n",
    "from ta.utils import dropna\n",
    "from utils.common_train_utils import *\n",
    "from utils.draw_candle_image import *\n",
    "from utils.evaluate_old_models import *\n",
    "from attention_model import *\n",
    "import json\n",
    "import keras\n",
    "import matplotlib.pyplot as plt\n",
    "import numpy as np\n",
    "import os\n",
    "import pandas as pd\n",
    "import pathlib\n",
    "import shutil\n",
    "import ta\n",
    "import ta.momentum\n",
    "import ta.trend\n",
    "import tempfile\n",
    "import tensorflow as tf\n",
    "import tensorflow_docs as tfdocs\n",
    "import tensorflow_docs.modeling\n",
    "import tensorflow_docs.plots\n",
    "keras.config.enable_unsafe_deserialization()\n",
    "\n",
    "from draw_image_utils import draw_prediction\n",
    "from config_dataset_and_model import symbol_mapping"
   ]
  },
  {
   "cell_type": "code",
   "execution_count": 5,
   "metadata": {},
   "outputs": [],
   "source": [
    "symbol = input(\"Symbol = \").strip().upper()\n",
    "dataset_folder_name = symbol_mapping[symbol][\"dataset_folder\"]\n",
    "model_name = symbol_mapping[symbol][\"model_name\"]\n",
    "symbol_name = symbol_mapping[symbol][\"symbol_name\"]\n",
    "is_trading_24h = symbol_mapping[symbol][\"is_trading_24h\"]\n",
    "dataset_folder = f\"../dataset/{dataset_folder_name}\"\n",
    "index_of_image_input = 3\n",
    "batch_size = 100\n",
    "freq_of_date = symbol_mapping[symbol][\"freq_of_date\"] # B or D\n",
    "\n",
    "config = read_config(dataset_folder)\n",
    "candle_type_and_directory_save: dict = config[\"candle_type_and_directory_save\"]\n",
    "previous_days = config[\"previous_days\"]\n",
    "next_days = config[\"next_days\"]\n",
    "days_result = config[\"days_result\"]"
   ]
  },
  {
   "cell_type": "code",
   "execution_count": 6,
   "metadata": {},
   "outputs": [
    {
     "name": "stderr",
     "output_type": "stream",
     "text": [
      "WARNING: All log messages before absl::InitializeLog() is called are written to STDERR\n",
      "I0000 00:00:1734071000.553289  127186 cuda_executor.cc:1001] could not open file to read NUMA node: /sys/bus/pci/devices/0000:01:00.0/numa_node\n",
      "Your kernel may have been built without NUMA support.\n",
      "I0000 00:00:1734071000.730801  127186 cuda_executor.cc:1001] could not open file to read NUMA node: /sys/bus/pci/devices/0000:01:00.0/numa_node\n",
      "Your kernel may have been built without NUMA support.\n",
      "I0000 00:00:1734071000.730866  127186 cuda_executor.cc:1001] could not open file to read NUMA node: /sys/bus/pci/devices/0000:01:00.0/numa_node\n",
      "Your kernel may have been built without NUMA support.\n",
      "I0000 00:00:1734071000.733052  127186 cuda_executor.cc:1001] could not open file to read NUMA node: /sys/bus/pci/devices/0000:01:00.0/numa_node\n",
      "Your kernel may have been built without NUMA support.\n",
      "I0000 00:00:1734071000.733092  127186 cuda_executor.cc:1001] could not open file to read NUMA node: /sys/bus/pci/devices/0000:01:00.0/numa_node\n",
      "Your kernel may have been built without NUMA support.\n",
      "I0000 00:00:1734071000.733106  127186 cuda_executor.cc:1001] could not open file to read NUMA node: /sys/bus/pci/devices/0000:01:00.0/numa_node\n",
      "Your kernel may have been built without NUMA support.\n",
      "I0000 00:00:1734071000.909618  127186 cuda_executor.cc:1001] could not open file to read NUMA node: /sys/bus/pci/devices/0000:01:00.0/numa_node\n",
      "Your kernel may have been built without NUMA support.\n",
      "I0000 00:00:1734071000.909693  127186 cuda_executor.cc:1001] could not open file to read NUMA node: /sys/bus/pci/devices/0000:01:00.0/numa_node\n",
      "Your kernel may have been built without NUMA support.\n",
      "2024-12-13 06:23:20.909702: I tensorflow/core/common_runtime/gpu/gpu_device.cc:2112] Could not identify NUMA node of platform GPU id 0, defaulting to 0.  Your kernel may not have been built with NUMA support.\n",
      "I0000 00:00:1734071000.909733  127186 cuda_executor.cc:1001] could not open file to read NUMA node: /sys/bus/pci/devices/0000:01:00.0/numa_node\n",
      "Your kernel may have been built without NUMA support.\n",
      "2024-12-13 06:23:20.910219: I tensorflow/core/common_runtime/gpu/gpu_device.cc:2021] Created device /job:localhost/replica:0/task:0/device:GPU:0 with 5472 MB memory:  -> device: 0, name: NVIDIA GeForce RTX 3060, pci bus id: 0000:01:00.0, compute capability: 8.6\n",
      "/home/hieucaohd/code/CNN-LSTM-predict-stock-price/.venv/lib/python3.9/site-packages/keras/src/layers/layer.py:391: UserWarning: `build()` was called on layer 'cnn_encoder', however the layer does not have a `build()` method implemented and it looks like it has unbuilt state. This will cause the layer to be marked as built, despite not being actually built, which may cause failures down the line. Make sure to implement a proper `build()` method.\n",
      "  warnings.warn(\n"
     ]
    }
   ],
   "source": [
    "function_transform_origin = get_origin_transform_function(\n",
    "    os.path.join(\n",
    "        os.path.abspath(f\"{dataset_folder}/model_save/{model_name}\"),\n",
    "        \"config_and_loss.json\"\n",
    "    )\n",
    ")\n",
    "path_of_model = f\"{dataset_folder}/model_save/{model_name}/{model_name}.keras\"\n",
    "model = keras.models.load_model(os.path.abspath(path_of_model))\n"
   ]
  },
  {
   "cell_type": "code",
   "execution_count": 7,
   "metadata": {},
   "outputs": [],
   "source": [
    "dataset_test = load_dataset_of_each_type_and_combine(f\"{dataset_folder}/test\", candle_type_and_directory_save)\n",
    "total_data_test = len(dataset_test)\n"
   ]
  },
  {
   "cell_type": "code",
   "execution_count": 8,
   "metadata": {},
   "outputs": [],
   "source": [
    "image_shape = get_image_shape(dataset_test, index_of_image_input)"
   ]
  },
  {
   "cell_type": "code",
   "execution_count": 9,
   "metadata": {},
   "outputs": [],
   "source": [
    "config_of_continue_learning_folder = read_config(dataset_folder)\n",
    "file_csv_path = config_of_continue_learning_folder[\"file_csv\"]\n",
    "df_get_from_api = pd.read_csv(file_csv_path)\n",
    "df_get_from_api[\"Date\"] = pd.to_datetime(df_get_from_api[\"Date\"])"
   ]
  },
  {
   "cell_type": "code",
   "execution_count": 69,
   "metadata": {},
   "outputs": [],
   "source": [
    "def date_generator(date_i):\n",
    "    index_of_date = get_date_index(df_get_from_api, date_i)\n",
    "    total_days = 30 + 1 + 2 + 3\n",
    "    all_dates = df_get_from_api[index_of_date:index_of_date + 6][\"Date\"].dt.date\n",
    "    total_date_reals = len(all_dates)\n",
    "    dates_real = all_dates\n",
    "    if len(all_dates) < total_days:\n",
    "        all_dates = pd.date_range(start=str(date_i), periods=total_days, freq=freq_of_date)\n",
    "    return list(all_dates), total_date_reals"
   ]
  },
  {
   "cell_type": "code",
   "execution_count": 70,
   "metadata": {},
   "outputs": [],
   "source": [
    "dataset_test_1 = dataset_test\n",
    "dataset_test_2 = dataset_test_1.batch(batch_size)\n",
    "transform_function = partial(function_transform_origin, days_result)\n",
    "dataset_test_3 = dataset_test_2.map(transform_function)"
   ]
  },
  {
   "cell_type": "code",
   "execution_count": 71,
   "metadata": {},
   "outputs": [
    {
     "data": {
      "text/html": [
       "<pre style=\"white-space:pre;overflow-x:auto;line-height:normal;font-family:Menlo,'DejaVu Sans Mono',consolas,'Courier New',monospace\"><span style=\"font-weight: bold\">Model: \"cnn_attention_1\"</span>\n",
       "</pre>\n"
      ],
      "text/plain": [
       "\u001b[1mModel: \"cnn_attention_1\"\u001b[0m\n"
      ]
     },
     "metadata": {},
     "output_type": "display_data"
    },
    {
     "data": {
      "text/html": [
       "<pre style=\"white-space:pre;overflow-x:auto;line-height:normal;font-family:Menlo,'DejaVu Sans Mono',consolas,'Courier New',monospace\">┏━━━━━━━━━━━━━━━━━━━━━━━━━━━━━━━━━┳━━━━━━━━━━━━━━━━━━━━━━━━┳━━━━━━━━━━━━━━━┓\n",
       "┃<span style=\"font-weight: bold\"> Layer (type)                    </span>┃<span style=\"font-weight: bold\"> Output Shape           </span>┃<span style=\"font-weight: bold\">       Param # </span>┃\n",
       "┡━━━━━━━━━━━━━━━━━━━━━━━━━━━━━━━━━╇━━━━━━━━━━━━━━━━━━━━━━━━╇━━━━━━━━━━━━━━━┩\n",
       "│ cnn_encoder (<span style=\"color: #0087ff; text-decoration-color: #0087ff\">CNNEncoder</span>)        │ ?                      │    <span style=\"color: #00af00; text-decoration-color: #00af00\">31,844,480</span> │\n",
       "├─────────────────────────────────┼────────────────────────┼───────────────┤\n",
       "│ decoder (<span style=\"color: #0087ff; text-decoration-color: #0087ff\">Decoder</span>)               │ ?                      │       <span style=\"color: #00af00; text-decoration-color: #00af00\">166,786</span> │\n",
       "└─────────────────────────────────┴────────────────────────┴───────────────┘\n",
       "</pre>\n"
      ],
      "text/plain": [
       "┏━━━━━━━━━━━━━━━━━━━━━━━━━━━━━━━━━┳━━━━━━━━━━━━━━━━━━━━━━━━┳━━━━━━━━━━━━━━━┓\n",
       "┃\u001b[1m \u001b[0m\u001b[1mLayer (type)                   \u001b[0m\u001b[1m \u001b[0m┃\u001b[1m \u001b[0m\u001b[1mOutput Shape          \u001b[0m\u001b[1m \u001b[0m┃\u001b[1m \u001b[0m\u001b[1m      Param #\u001b[0m\u001b[1m \u001b[0m┃\n",
       "┡━━━━━━━━━━━━━━━━━━━━━━━━━━━━━━━━━╇━━━━━━━━━━━━━━━━━━━━━━━━╇━━━━━━━━━━━━━━━┩\n",
       "│ cnn_encoder (\u001b[38;5;33mCNNEncoder\u001b[0m)        │ ?                      │    \u001b[38;5;34m31,844,480\u001b[0m │\n",
       "├─────────────────────────────────┼────────────────────────┼───────────────┤\n",
       "│ decoder (\u001b[38;5;33mDecoder\u001b[0m)               │ ?                      │       \u001b[38;5;34m166,786\u001b[0m │\n",
       "└─────────────────────────────────┴────────────────────────┴───────────────┘\n"
      ]
     },
     "metadata": {},
     "output_type": "display_data"
    },
    {
     "data": {
      "text/html": [
       "<pre style=\"white-space:pre;overflow-x:auto;line-height:normal;font-family:Menlo,'DejaVu Sans Mono',consolas,'Courier New',monospace\"><span style=\"font-weight: bold\"> Total params: </span><span style=\"color: #00af00; text-decoration-color: #00af00\">96,033,799</span> (366.34 MB)\n",
       "</pre>\n"
      ],
      "text/plain": [
       "\u001b[1m Total params: \u001b[0m\u001b[38;5;34m96,033,799\u001b[0m (366.34 MB)\n"
      ]
     },
     "metadata": {},
     "output_type": "display_data"
    },
    {
     "data": {
      "text/html": [
       "<pre style=\"white-space:pre;overflow-x:auto;line-height:normal;font-family:Menlo,'DejaVu Sans Mono',consolas,'Courier New',monospace\"><span style=\"font-weight: bold\"> Trainable params: </span><span style=\"color: #00af00; text-decoration-color: #00af00\">32,011,266</span> (122.11 MB)\n",
       "</pre>\n"
      ],
      "text/plain": [
       "\u001b[1m Trainable params: \u001b[0m\u001b[38;5;34m32,011,266\u001b[0m (122.11 MB)\n"
      ]
     },
     "metadata": {},
     "output_type": "display_data"
    },
    {
     "data": {
      "text/html": [
       "<pre style=\"white-space:pre;overflow-x:auto;line-height:normal;font-family:Menlo,'DejaVu Sans Mono',consolas,'Courier New',monospace\"><span style=\"font-weight: bold\"> Non-trainable params: </span><span style=\"color: #00af00; text-decoration-color: #00af00\">0</span> (0.00 B)\n",
       "</pre>\n"
      ],
      "text/plain": [
       "\u001b[1m Non-trainable params: \u001b[0m\u001b[38;5;34m0\u001b[0m (0.00 B)\n"
      ]
     },
     "metadata": {},
     "output_type": "display_data"
    },
    {
     "data": {
      "text/html": [
       "<pre style=\"white-space:pre;overflow-x:auto;line-height:normal;font-family:Menlo,'DejaVu Sans Mono',consolas,'Courier New',monospace\"><span style=\"font-weight: bold\"> Optimizer params: </span><span style=\"color: #00af00; text-decoration-color: #00af00\">64,022,533</span> (244.23 MB)\n",
       "</pre>\n"
      ],
      "text/plain": [
       "\u001b[1m Optimizer params: \u001b[0m\u001b[38;5;34m64,022,533\u001b[0m (244.23 MB)\n"
      ]
     },
     "metadata": {},
     "output_type": "display_data"
    }
   ],
   "source": [
    "model.summary()"
   ]
  },
  {
   "cell_type": "code",
   "execution_count": 72,
   "metadata": {},
   "outputs": [
    {
     "name": "stdout",
     "output_type": "stream",
     "text": [
      "\u001b[1m1/1\u001b[0m \u001b[32m━━━━━━━━━━━━━━━━━━━━\u001b[0m\u001b[37m\u001b[0m \u001b[1m1s\u001b[0m 707ms/step - loss: 4.8962 - mae: 1.3998 - mse: 4.8962\n"
     ]
    }
   ],
   "source": [
    "loss = model.evaluate(dataset_test_3)"
   ]
  },
  {
   "cell_type": "code",
   "execution_count": 73,
   "metadata": {},
   "outputs": [
    {
     "data": {
      "text/plain": [
       "[4.896203517913818, 1.3997712135314941, 4.896203517913818]"
      ]
     },
     "execution_count": 73,
     "metadata": {},
     "output_type": "execute_result"
    }
   ],
   "source": [
    "loss"
   ]
  },
  {
   "cell_type": "code",
   "execution_count": 74,
   "metadata": {},
   "outputs": [
    {
     "name": "stdout",
     "output_type": "stream",
     "text": [
      "\u001b[1m1/1\u001b[0m \u001b[32m━━━━━━━━━━━━━━━━━━━━\u001b[0m\u001b[37m\u001b[0m \u001b[1m0s\u001b[0m 368ms/step\n"
     ]
    }
   ],
   "source": [
    "prediction_for_test_origin = model.predict(dataset_test_3)"
   ]
  },
  {
   "cell_type": "code",
   "execution_count": 75,
   "metadata": {},
   "outputs": [
    {
     "data": {
      "text/plain": [
       "(64, 4, 2)"
      ]
     },
     "execution_count": 75,
     "metadata": {},
     "output_type": "execute_result"
    }
   ],
   "source": [
    "prediction_for_test_origin.shape"
   ]
  },
  {
   "cell_type": "code",
   "execution_count": 76,
   "metadata": {},
   "outputs": [],
   "source": [
    "prediction_for_test = prediction_for_test_origin[:, -3:, :]"
   ]
  },
  {
   "cell_type": "code",
   "execution_count": 77,
   "metadata": {},
   "outputs": [
    {
     "name": "stdout",
     "output_type": "stream",
     "text": [
      "[[[-1.97178125e-02  1.51270032e-02]\n",
      "  [-1.33672762e+00 -1.62325013e+00]\n",
      "  [-1.96858048e-02  1.51640475e-02]]\n",
      "\n",
      " [[ 4.75925207e-03  7.75700808e-02]\n",
      "  [ 4.75949049e-03  7.75703788e-02]\n",
      "  [ 4.74750996e-03  7.75610805e-02]]\n",
      "\n",
      " [[ 1.93994924e-01  3.04152578e-01]\n",
      "  [ 1.93993405e-01  3.04150850e-01]\n",
      "  [ 1.93986163e-01  3.04145634e-01]]\n",
      "\n",
      " [[-6.33438528e-02 -3.10711563e-02]\n",
      "  [-6.33490086e-02 -3.10756862e-02]\n",
      "  [-6.33440018e-02 -3.10698152e-02]]\n",
      "\n",
      " [[ 8.96399021e-02  1.40786886e-01]\n",
      "  [ 8.96474719e-02  1.40796065e-01]\n",
      "  [ 8.96443129e-02  1.40791714e-01]]\n",
      "\n",
      " [[ 5.63234210e-01  7.32831240e-01]\n",
      "  [ 5.63144207e-01  7.32725859e-01]\n",
      "  [ 5.63171089e-01  7.32755899e-01]]\n",
      "\n",
      " [[ 2.08528832e-01  3.05613905e-01]\n",
      "  [ 2.08529532e-01  3.05615127e-01]\n",
      "  [ 2.08526343e-01  3.05613220e-01]]\n",
      "\n",
      " [[ 2.83020973e-01  2.45762691e-01]\n",
      "  [ 2.83027589e-01  2.45759621e-01]\n",
      "  [ 2.83038378e-01  2.45768264e-01]]\n",
      "\n",
      " [[-1.67707825e+00 -1.91802990e+00]\n",
      "  [ 4.45167094e-01  5.76411009e-01]\n",
      "  [ 4.45190370e-01  5.76438665e-01]]\n",
      "\n",
      " [[ 2.05835253e-01  2.68371850e-01]\n",
      "  [ 2.05829412e-01  2.68368393e-01]\n",
      "  [ 2.05829203e-01  2.68368483e-01]]\n",
      "\n",
      " [[-2.04525113e-01 -1.97905153e-01]\n",
      "  [ 2.60402560e-02  6.65424168e-02]\n",
      "  [ 2.60486305e-02  6.65503442e-02]]\n",
      "\n",
      " [[ 6.71640038e-03  5.50430715e-02]\n",
      "  [ 6.71848655e-03  5.50456047e-02]\n",
      "  [-1.61274123e+00 -1.95737231e+00]]\n",
      "\n",
      " [[ 2.66601801e-01  3.50807369e-01]\n",
      "  [ 2.66586304e-01  3.50796282e-01]\n",
      "  [ 2.66597629e-01  3.50806445e-01]]\n",
      "\n",
      " [[ 5.35760701e-01  5.38174391e-01]\n",
      "  [ 5.35688996e-01  5.38090348e-01]\n",
      "  [ 5.35690308e-01  5.38092732e-01]]\n",
      "\n",
      " [[ 1.91987738e-01  2.45620146e-01]\n",
      "  [ 1.91998452e-01  2.45632768e-01]\n",
      "  [ 1.91992566e-01  2.45625317e-01]]\n",
      "\n",
      " [[ 2.13930994e-01  2.71899343e-01]\n",
      "  [ 1.32180601e-01  2.56341994e-01]\n",
      "  [ 2.13959858e-01  2.71930128e-01]]\n",
      "\n",
      " [[ 8.03671479e-01  8.87092113e-01]\n",
      "  [ 1.12930918e+00  1.44353426e+00]\n",
      "  [ 1.12936187e+00  1.44358110e+00]]\n",
      "\n",
      " [[ 4.93979305e-01  4.96013820e-01]\n",
      "  [ 4.93944585e-01  4.95974600e-01]\n",
      "  [ 4.93959695e-01  4.95992541e-01]]\n",
      "\n",
      " [[ 3.15840781e-01  4.39363509e-01]\n",
      "  [ 3.15795004e-01  4.39310014e-01]\n",
      "  [ 3.15789074e-01  4.39302295e-01]]\n",
      "\n",
      " [[-2.83288062e-02 -5.94854355e-04]\n",
      "  [-2.83432901e-02 -6.05106354e-04]\n",
      "  [-2.83366740e-02 -6.00159168e-04]]\n",
      "\n",
      " [[ 1.07935786e+00  1.26617849e+00]\n",
      "  [ 1.07936382e+00  1.26618540e+00]\n",
      "  [ 1.07935691e+00  1.26617801e+00]]\n",
      "\n",
      " [[ 6.71640038e-03  5.50430715e-02]\n",
      "  [ 6.71848655e-03  5.50456047e-02]\n",
      "  [-1.61274123e+00 -1.95737231e+00]]\n",
      "\n",
      " [[ 3.01059157e-01  4.11008209e-01]\n",
      "  [ 8.52069855e-02  1.44381166e-01]\n",
      "  [ 8.52008164e-02  1.44374549e-01]]\n",
      "\n",
      " [[ 1.41166016e-01  1.87687248e-01]\n",
      "  [ 1.41170532e-01  1.87692761e-01]\n",
      "  [ 1.41166613e-01  1.87687457e-01]]\n",
      "\n",
      " [[ 2.23953277e-01  2.91242957e-01]\n",
      "  [ 2.23953664e-01  2.91243374e-01]\n",
      "  [ 2.23953351e-01  2.91243196e-01]]\n",
      "\n",
      " [[ 1.41232401e-01  1.71361268e-01]\n",
      "  [ 1.41233623e-01  1.71362668e-01]\n",
      "  [ 1.41234189e-01  1.71363294e-01]]\n",
      "\n",
      " [[ 2.51540869e-01  3.33456784e-01]\n",
      "  [ 2.51577079e-01  3.33499968e-01]\n",
      "  [ 2.51582205e-01  3.33506137e-01]]\n",
      "\n",
      " [[ 4.71517026e-01  4.70570534e-01]\n",
      "  [ 4.71465647e-01  4.70512092e-01]\n",
      "  [ 4.71479893e-01  4.70528901e-01]]\n",
      "\n",
      " [[ 2.69351840e-01  3.53824288e-01]\n",
      "  [ 2.69349843e-01  3.53822887e-01]\n",
      "  [ 2.69346058e-01  3.53819907e-01]]\n",
      "\n",
      " [[ 2.23015144e-01  2.95044065e-01]\n",
      "  [ 2.22996324e-01  2.95022100e-01]\n",
      "  [ 2.23044693e-01  2.95079082e-01]]\n",
      "\n",
      " [[ 9.01220739e-01  1.12023830e+00]\n",
      "  [ 9.01214600e-01  1.12022078e+00]\n",
      "  [ 6.13229394e-01  6.39914632e-01]]\n",
      "\n",
      " [[ 1.04859233e+00  1.32875574e+00]\n",
      "  [ 1.04860187e+00  1.32875955e+00]\n",
      "  [ 1.04839659e+00  1.32851779e+00]]\n",
      "\n",
      " [[ 5.07781029e-01  6.74647570e-01]\n",
      "  [ 5.07792175e-01  6.74661219e-01]\n",
      "  [ 5.07750988e-01  6.74612641e-01]]\n",
      "\n",
      " [[ 3.16834450e-03  3.48118246e-02]\n",
      "  [ 3.16905975e-03  3.48120034e-02]\n",
      "  [ 3.16756964e-03  3.48107219e-02]]\n",
      "\n",
      " [[ 1.07935786e+00  1.26617849e+00]\n",
      "  [ 1.07936382e+00  1.26618540e+00]\n",
      "  [ 1.07935691e+00  1.26617801e+00]]\n",
      "\n",
      " [[-6.13574803e-01 -8.00888896e-01]\n",
      "  [-6.13550305e-01 -8.00865173e-01]\n",
      "  [ 5.61954379e-01  5.22557855e-01]]\n",
      "\n",
      " [[ 2.43107110e-01  3.23245227e-01]\n",
      "  [ 2.43108466e-01  3.23246896e-01]\n",
      "  [ 2.43108734e-01  3.23247492e-01]]\n",
      "\n",
      " [[ 1.09170389e+00  1.36938381e+00]\n",
      "  [ 1.09172153e+00  1.36940825e+00]\n",
      "  [ 1.09179449e+00  1.36949468e+00]]\n",
      "\n",
      " [[-3.08316946e-02 -5.36799431e-03]\n",
      "  [-3.08217108e-02 -5.35783172e-03]\n",
      "  [-3.08207870e-02 -5.35628200e-03]]\n",
      "\n",
      " [[ 1.87409669e-01  2.56876141e-01]\n",
      "  [ 1.87406361e-01  2.56873667e-01]\n",
      "  [ 1.87402964e-01  2.56871402e-01]]\n",
      "\n",
      " [[ 2.77133286e-01  3.53401542e-01]\n",
      "  [ 2.77125388e-01  3.53392482e-01]\n",
      "  [ 2.77138829e-01  3.53408217e-01]]\n",
      "\n",
      " [[ 1.27267241e-01  1.59471214e-01]\n",
      "  [ 1.27285689e-01  1.59493059e-01]\n",
      "  [ 1.27262369e-01  1.59466028e-01]]\n",
      "\n",
      " [[ 7.63829350e-02  1.82374507e-01]\n",
      "  [ 7.63180554e-02  1.82302207e-01]\n",
      "  [ 7.63725340e-02  1.82360560e-01]]\n",
      "\n",
      " [[ 2.84941435e-01  2.66773760e-01]\n",
      "  [ 2.84955829e-01  2.66786933e-01]\n",
      "  [ 2.84955740e-01  2.66788870e-01]]\n",
      "\n",
      " [[ 1.24936551e-01  2.61240423e-01]\n",
      "  [ 1.24905780e-01  2.61205107e-01]\n",
      "  [ 1.24895528e-01  2.61195958e-01]]\n",
      "\n",
      " [[ 8.04469228e-01  9.54120636e-01]\n",
      "  [ 2.88984120e-01  2.68665701e-01]\n",
      "  [ 2.88994789e-01  2.68677533e-01]]\n",
      "\n",
      " [[ 9.62988734e-01  1.22577167e+00]\n",
      "  [ 9.62916613e-01  1.22570634e+00]\n",
      "  [ 9.62993741e-01  1.22578681e+00]]\n",
      "\n",
      " [[-3.74958515e-02 -4.19777632e-03]\n",
      "  [-3.74920368e-02 -4.19291854e-03]\n",
      "  [-3.74890566e-02 -4.18943167e-03]]\n",
      "\n",
      " [[ 1.17767811e+00  1.42505097e+00]\n",
      "  [ 1.17767644e+00  1.42504764e+00]\n",
      "  [ 1.17771327e+00  1.42507219e+00]]\n",
      "\n",
      " [[ 3.62440407e-01  3.56397063e-01]\n",
      "  [ 3.62460732e-01  3.56413126e-01]\n",
      "  [ 3.62442315e-01  3.56393516e-01]]\n",
      "\n",
      " [[ 5.97041965e-01  6.15976274e-01]\n",
      "  [ 5.97009957e-01  6.15944982e-01]\n",
      "  [ 5.96960366e-01  6.15887403e-01]]\n",
      "\n",
      " [[-1.17235184e-02  3.63674164e-02]\n",
      "  [-1.17662847e-02  3.63207757e-02]\n",
      "  [-1.17510855e-02  3.63352001e-02]]\n",
      "\n",
      " [[ 5.34306347e-01  5.44552267e-01]\n",
      "  [ 5.34250617e-01  5.44484615e-01]\n",
      "  [ 5.34245133e-01  5.44477582e-01]]\n",
      "\n",
      " [[ 2.38549232e-01  3.60421687e-01]\n",
      "  [ 2.38543063e-01  3.60417753e-01]\n",
      "  [ 2.38534853e-01  3.60411704e-01]]\n",
      "\n",
      " [[ 6.74887002e-02  1.18971258e-01]\n",
      "  [ 6.74687028e-02  1.18955255e-01]\n",
      "  [ 6.74597621e-02  1.18945330e-01]]\n",
      "\n",
      " [[ 3.09908390e-01  4.12707090e-01]\n",
      "  [ 3.09908390e-01  4.12707001e-01]\n",
      "  [ 3.09905291e-01  4.12704110e-01]]\n",
      "\n",
      " [[ 2.95034945e-01  3.79917592e-01]\n",
      "  [ 2.95037776e-01  3.79921138e-01]\n",
      "  [ 2.95035243e-01  3.79919171e-01]]\n",
      "\n",
      " [[ 1.32551163e-01  1.71643943e-01]\n",
      "  [ 1.32551178e-01  1.71644390e-01]\n",
      "  [ 1.32539272e-01  1.71630114e-01]]\n",
      "\n",
      " [[ 3.09622347e-01  3.99966866e-01]\n",
      "  [ 3.09626222e-01  3.99971515e-01]\n",
      "  [ 3.09597522e-01  3.99938047e-01]]\n",
      "\n",
      " [[ 5.03684282e-02  1.02151722e-01]\n",
      "  [ 5.03573120e-02  1.02139622e-01]\n",
      "  [ 5.03625572e-02  1.02147430e-01]]\n",
      "\n",
      " [[ 1.47036552e-01  2.13648215e-01]\n",
      "  [ 1.47017628e-01  2.13634491e-01]\n",
      "  [ 1.47023007e-01  2.13640213e-01]]\n",
      "\n",
      " [[ 1.00978160e+00  1.28892279e+00]\n",
      "  [ 1.00994897e+00  1.28911924e+00]\n",
      "  [ 1.01004171e+00  1.28923142e+00]]\n",
      "\n",
      " [[ 2.81153500e-01  3.75909209e-01]\n",
      "  [ 2.81174004e-01  3.75932455e-01]\n",
      "  [ 2.81174541e-01  3.75932753e-01]]\n",
      "\n",
      " [[ 3.45387787e-01  4.71104264e-01]\n",
      "  [ 3.45399141e-01  4.71114427e-01]\n",
      "  [ 3.45373541e-01  4.71084714e-01]]]\n"
     ]
    }
   ],
   "source": [
    "print(prediction_for_test)"
   ]
  },
  {
   "cell_type": "code",
   "execution_count": 78,
   "metadata": {},
   "outputs": [
    {
     "data": {
      "text/plain": [
       "64"
      ]
     },
     "execution_count": 78,
     "metadata": {},
     "output_type": "execute_result"
    }
   ],
   "source": [
    "len(prediction_for_test)"
   ]
  },
  {
   "cell_type": "code",
   "execution_count": 79,
   "metadata": {},
   "outputs": [],
   "source": [
    "all_dates = unwrap_dataset_at_index(dataset_test, 5, to_numpy=True, map_function=lambda date: str(datetime.fromisoformat(date.decode(\"utf-8\")).date()))\n",
    "# trend_dataset_test_2 = unwrap_dataset_at_index(unwrap_dataset_at_index(dataset_test_2, 2, batch=True, to_numpy=True), 0)\n",
    "_4_prices_of_all_days_dataset_test_2_origin = unwrap_dataset_at_index(dataset_test_2, 6, batch=True, to_numpy=True)\n",
    "image_input_dataset_test_2 = unwrap_dataset_at_index(dataset_test_2, 2, batch=True, to_numpy=True)\n",
    "real_percent_last_days_result_dataset_test_3 = unwrap_dataset_at_index(dataset_test_3, 1, batch=True, to_numpy=True) "
   ]
  },
  {
   "cell_type": "code",
   "execution_count": 80,
   "metadata": {},
   "outputs": [
    {
     "data": {
      "text/plain": [
       "(64, 37, 4)"
      ]
     },
     "execution_count": 80,
     "metadata": {},
     "output_type": "execute_result"
    }
   ],
   "source": [
    "_4_prices_of_all_days_dataset_test_2_origin.shape"
   ]
  },
  {
   "cell_type": "code",
   "execution_count": 81,
   "metadata": {},
   "outputs": [],
   "source": [
    "_4_prices_of_all_days_dataset_test_2 = _4_prices_of_all_days_dataset_test_2_origin[:, -6:, :]"
   ]
  },
  {
   "cell_type": "code",
   "execution_count": 86,
   "metadata": {},
   "outputs": [
    {
     "data": {
      "text/plain": [
       "(64, 6, 4)"
      ]
     },
     "execution_count": 86,
     "metadata": {},
     "output_type": "execute_result"
    }
   ],
   "source": [
    "_4_prices_of_all_days_dataset_test_2.shape"
   ]
  },
  {
   "cell_type": "code",
   "execution_count": 83,
   "metadata": {},
   "outputs": [],
   "source": [
    "mapping_trend_type = {\n",
    "    1: \"GROUP_BULL\",\n",
    "    -1: \"GROUP_BEAR\",\n",
    "    0: \"GROUP_SIZEWAY\",\n",
    "}"
   ]
  },
  {
   "cell_type": "code",
   "execution_count": 84,
   "metadata": {},
   "outputs": [
    {
     "name": "stdout",
     "output_type": "stream",
     "text": [
      "real: [[ 1.4180866   0.        ]\n",
      " [ 0.91440314  3.2017798 ]\n",
      " [ 0.13387097  0.91440314]\n",
      " [ 0.         -0.25535262]]\n",
      "prediction: [[0.19399492 0.30415258]\n",
      " [0.1939934  0.30415085]\n",
      " [0.19398616 0.30414563]]\n"
     ]
    },
    {
     "ename": "ValueError",
     "evalue": "Length of values (36) does not match length of index (6)",
     "output_type": "error",
     "traceback": [
      "\u001b[0;31m---------------------------------------------------------------------------\u001b[0m",
      "\u001b[0;31mValueError\u001b[0m                                Traceback (most recent call last)",
      "Cell \u001b[0;32mIn[84], line 5\u001b[0m\n\u001b[1;32m      3\u001b[0m \u001b[38;5;28mprint\u001b[39m(\u001b[38;5;124mf\u001b[39m\u001b[38;5;124m\"\u001b[39m\u001b[38;5;124mprediction: \u001b[39m\u001b[38;5;132;01m{\u001b[39;00mprediction_for_test[index]\u001b[38;5;132;01m}\u001b[39;00m\u001b[38;5;124m\"\u001b[39m)\n\u001b[1;32m      4\u001b[0m type_of_output \u001b[38;5;241m=\u001b[39m \u001b[38;5;124m\"\u001b[39m\u001b[38;5;124mopen_and_close\u001b[39m\u001b[38;5;124m\"\u001b[39m\n\u001b[0;32m----> 5\u001b[0m \u001b[43mdraw_prediction\u001b[49m\u001b[43m(\u001b[49m\n\u001b[1;32m      6\u001b[0m \u001b[43m    \u001b[49m\u001b[43mimage_input_dataset_test_2\u001b[49m\u001b[43m[\u001b[49m\u001b[43mindex\u001b[49m\u001b[43m]\u001b[49m\u001b[43m,\u001b[49m\u001b[43m \u001b[49m\n\u001b[1;32m      7\u001b[0m \u001b[43m    \u001b[49m\u001b[43m_4_prices_of_all_days_dataset_test_2\u001b[49m\u001b[43m[\u001b[49m\u001b[43mindex\u001b[49m\u001b[43m]\u001b[49m\u001b[43m,\u001b[49m\u001b[43m \u001b[49m\n\u001b[1;32m      8\u001b[0m \u001b[43m    \u001b[49m\u001b[43mall_dates\u001b[49m\u001b[43m[\u001b[49m\u001b[43mindex\u001b[49m\u001b[43m]\u001b[49m\u001b[43m,\u001b[49m\n\u001b[1;32m      9\u001b[0m \u001b[43m    \u001b[49m\u001b[43mprediction_for_test\u001b[49m\u001b[43m[\u001b[49m\u001b[43mindex\u001b[49m\u001b[43m]\u001b[49m\u001b[43m,\u001b[49m\u001b[43m \u001b[49m\n\u001b[1;32m     10\u001b[0m \u001b[43m    \u001b[49m\u001b[43mshow_x_orginal_candle\u001b[49m\u001b[38;5;241;43m=\u001b[39;49m\u001b[38;5;28;43;01mTrue\u001b[39;49;00m\u001b[43m,\u001b[49m\n\u001b[1;32m     11\u001b[0m \u001b[43m    \u001b[49m\u001b[43mshow_prediction_candle\u001b[49m\u001b[38;5;241;43m=\u001b[39;49m\u001b[38;5;28;43;01mTrue\u001b[39;49;00m\u001b[43m,\u001b[49m\u001b[43m \u001b[49m\n\u001b[1;32m     12\u001b[0m \u001b[43m    \u001b[49m\u001b[43mshow_original_candle\u001b[49m\u001b[38;5;241;43m=\u001b[39;49m\u001b[38;5;28;43;01mTrue\u001b[39;49;00m\u001b[43m,\u001b[49m\n\u001b[1;32m     13\u001b[0m \u001b[43m    \u001b[49m\u001b[43mshow_close_compare\u001b[49m\u001b[38;5;241;43m=\u001b[39;49m\u001b[38;5;28;43;01mTrue\u001b[39;49;00m\u001b[43m,\u001b[49m\n\u001b[1;32m     14\u001b[0m \u001b[43m    \u001b[49m\u001b[43mshow_open_compare\u001b[49m\u001b[38;5;241;43m=\u001b[39;49m\u001b[38;5;28;43;01mTrue\u001b[39;49;00m\u001b[43m,\u001b[49m\n\u001b[1;32m     15\u001b[0m \u001b[43m    \u001b[49m\u001b[43mtype_of_output\u001b[49m\u001b[38;5;241;43m=\u001b[39;49m\u001b[43mtype_of_output\u001b[49m\u001b[43m,\u001b[49m\n\u001b[1;32m     16\u001b[0m \u001b[43m    \u001b[49m\u001b[43mdraw_beside\u001b[49m\u001b[38;5;241;43m=\u001b[39;49m\u001b[38;5;28;43;01mTrue\u001b[39;49;00m\u001b[43m,\u001b[49m\n\u001b[1;32m     17\u001b[0m \u001b[43m    \u001b[49m\u001b[43mprint_image\u001b[49m\u001b[38;5;241;43m=\u001b[39;49m\u001b[38;5;28;43;01mTrue\u001b[39;49;00m\u001b[43m,\u001b[49m\n\u001b[1;32m     18\u001b[0m \u001b[43m    \u001b[49m\u001b[43mextend_real\u001b[49m\u001b[38;5;241;43m=\u001b[39;49m\u001b[38;5;28;43;01mTrue\u001b[39;49;00m\u001b[43m,\u001b[49m\n\u001b[1;32m     19\u001b[0m \u001b[43m    \u001b[49m\u001b[43mdate_generator\u001b[49m\u001b[38;5;241;43m=\u001b[39;49m\u001b[43mdate_generator\u001b[49m\u001b[43m,\u001b[49m\n\u001b[1;32m     20\u001b[0m \u001b[43m    \u001b[49m\u001b[43msymbol\u001b[49m\u001b[38;5;241;43m=\u001b[39;49m\u001b[43msymbol_name\u001b[49m\u001b[43m)\u001b[49m\n",
      "File \u001b[0;32m~/code/CNN-LSTM-predict-stock-price/data_analytics/CV_stock_market/test_model/draw_image_utils.py:146\u001b[0m, in \u001b[0;36mdraw_prediction\u001b[0;34m(x_dataset_test_1_i, y_dataset_test_1_i, date_i, predictions_i, days_result, show_x_orginal_candle, show_original_candle, show_prediction_candle, show_close_compare, show_open_compare, type_of_output, draw_beside, save_image, print_image, extend_real, date_generator, symbol, print_all_days_for_prediction, days_prediction_to_print, is_trading_24h)\u001b[0m\n\u001b[1;32m    142\u001b[0m         plt\u001b[38;5;241m.\u001b[39msavefig(save_image)\n\u001b[1;32m    144\u001b[0m df_real_data \u001b[38;5;241m=\u001b[39m pd\u001b[38;5;241m.\u001b[39mDataFrame(y_dataset_test_1_i, columns\u001b[38;5;241m=\u001b[39m[\u001b[38;5;124m\"\u001b[39m\u001b[38;5;124mHigh\u001b[39m\u001b[38;5;124m\"\u001b[39m, \u001b[38;5;124m\"\u001b[39m\u001b[38;5;124mOpen\u001b[39m\u001b[38;5;124m\"\u001b[39m, \u001b[38;5;124m\"\u001b[39m\u001b[38;5;124mClose\u001b[39m\u001b[38;5;124m\"\u001b[39m, \u001b[38;5;124m\"\u001b[39m\u001b[38;5;124mLow\u001b[39m\u001b[38;5;124m\"\u001b[39m])\n\u001b[0;32m--> 146\u001b[0m \u001b[43mdf_real_data\u001b[49m\u001b[43m[\u001b[49m\u001b[38;5;124;43m\"\u001b[39;49m\u001b[38;5;124;43mDate\u001b[39;49m\u001b[38;5;124;43m\"\u001b[39;49m\u001b[43m]\u001b[49m \u001b[38;5;241m=\u001b[39m all_dates\n\u001b[1;32m    147\u001b[0m df_real_data[\u001b[38;5;124m\"\u001b[39m\u001b[38;5;124mDate\u001b[39m\u001b[38;5;124m\"\u001b[39m] \u001b[38;5;241m=\u001b[39m pd\u001b[38;5;241m.\u001b[39mto_datetime(df_real_data[\u001b[38;5;124m\"\u001b[39m\u001b[38;5;124mDate\u001b[39m\u001b[38;5;124m\"\u001b[39m])\n\u001b[1;32m    148\u001b[0m df_real_data\u001b[38;5;241m.\u001b[39mset_index(\u001b[38;5;124m'\u001b[39m\u001b[38;5;124mDate\u001b[39m\u001b[38;5;124m'\u001b[39m, inplace\u001b[38;5;241m=\u001b[39m\u001b[38;5;28;01mTrue\u001b[39;00m)\n",
      "File \u001b[0;32m~/code/CNN-LSTM-predict-stock-price/.venv/lib/python3.9/site-packages/pandas/core/frame.py:4311\u001b[0m, in \u001b[0;36mDataFrame.__setitem__\u001b[0;34m(self, key, value)\u001b[0m\n\u001b[1;32m   4308\u001b[0m     \u001b[38;5;28mself\u001b[39m\u001b[38;5;241m.\u001b[39m_setitem_array([key], value)\n\u001b[1;32m   4309\u001b[0m \u001b[38;5;28;01melse\u001b[39;00m:\n\u001b[1;32m   4310\u001b[0m     \u001b[38;5;66;03m# set column\u001b[39;00m\n\u001b[0;32m-> 4311\u001b[0m     \u001b[38;5;28;43mself\u001b[39;49m\u001b[38;5;241;43m.\u001b[39;49m\u001b[43m_set_item\u001b[49m\u001b[43m(\u001b[49m\u001b[43mkey\u001b[49m\u001b[43m,\u001b[49m\u001b[43m \u001b[49m\u001b[43mvalue\u001b[49m\u001b[43m)\u001b[49m\n",
      "File \u001b[0;32m~/code/CNN-LSTM-predict-stock-price/.venv/lib/python3.9/site-packages/pandas/core/frame.py:4524\u001b[0m, in \u001b[0;36mDataFrame._set_item\u001b[0;34m(self, key, value)\u001b[0m\n\u001b[1;32m   4514\u001b[0m \u001b[38;5;28;01mdef\u001b[39;00m \u001b[38;5;21m_set_item\u001b[39m(\u001b[38;5;28mself\u001b[39m, key, value) \u001b[38;5;241m-\u001b[39m\u001b[38;5;241m>\u001b[39m \u001b[38;5;28;01mNone\u001b[39;00m:\n\u001b[1;32m   4515\u001b[0m \u001b[38;5;250m    \u001b[39m\u001b[38;5;124;03m\"\"\"\u001b[39;00m\n\u001b[1;32m   4516\u001b[0m \u001b[38;5;124;03m    Add series to DataFrame in specified column.\u001b[39;00m\n\u001b[1;32m   4517\u001b[0m \n\u001b[0;32m   (...)\u001b[0m\n\u001b[1;32m   4522\u001b[0m \u001b[38;5;124;03m    ensure homogeneity.\u001b[39;00m\n\u001b[1;32m   4523\u001b[0m \u001b[38;5;124;03m    \"\"\"\u001b[39;00m\n\u001b[0;32m-> 4524\u001b[0m     value, refs \u001b[38;5;241m=\u001b[39m \u001b[38;5;28;43mself\u001b[39;49m\u001b[38;5;241;43m.\u001b[39;49m\u001b[43m_sanitize_column\u001b[49m\u001b[43m(\u001b[49m\u001b[43mvalue\u001b[49m\u001b[43m)\u001b[49m\n\u001b[1;32m   4526\u001b[0m     \u001b[38;5;28;01mif\u001b[39;00m (\n\u001b[1;32m   4527\u001b[0m         key \u001b[38;5;129;01min\u001b[39;00m \u001b[38;5;28mself\u001b[39m\u001b[38;5;241m.\u001b[39mcolumns\n\u001b[1;32m   4528\u001b[0m         \u001b[38;5;129;01mand\u001b[39;00m value\u001b[38;5;241m.\u001b[39mndim \u001b[38;5;241m==\u001b[39m \u001b[38;5;241m1\u001b[39m\n\u001b[1;32m   4529\u001b[0m         \u001b[38;5;129;01mand\u001b[39;00m \u001b[38;5;129;01mnot\u001b[39;00m \u001b[38;5;28misinstance\u001b[39m(value\u001b[38;5;241m.\u001b[39mdtype, ExtensionDtype)\n\u001b[1;32m   4530\u001b[0m     ):\n\u001b[1;32m   4531\u001b[0m         \u001b[38;5;66;03m# broadcast across multiple columns if necessary\u001b[39;00m\n\u001b[1;32m   4532\u001b[0m         \u001b[38;5;28;01mif\u001b[39;00m \u001b[38;5;129;01mnot\u001b[39;00m \u001b[38;5;28mself\u001b[39m\u001b[38;5;241m.\u001b[39mcolumns\u001b[38;5;241m.\u001b[39mis_unique \u001b[38;5;129;01mor\u001b[39;00m \u001b[38;5;28misinstance\u001b[39m(\u001b[38;5;28mself\u001b[39m\u001b[38;5;241m.\u001b[39mcolumns, MultiIndex):\n",
      "File \u001b[0;32m~/code/CNN-LSTM-predict-stock-price/.venv/lib/python3.9/site-packages/pandas/core/frame.py:5266\u001b[0m, in \u001b[0;36mDataFrame._sanitize_column\u001b[0;34m(self, value)\u001b[0m\n\u001b[1;32m   5263\u001b[0m     \u001b[38;5;28;01mreturn\u001b[39;00m _reindex_for_setitem(value, \u001b[38;5;28mself\u001b[39m\u001b[38;5;241m.\u001b[39mindex)\n\u001b[1;32m   5265\u001b[0m \u001b[38;5;28;01mif\u001b[39;00m is_list_like(value):\n\u001b[0;32m-> 5266\u001b[0m     \u001b[43mcom\u001b[49m\u001b[38;5;241;43m.\u001b[39;49m\u001b[43mrequire_length_match\u001b[49m\u001b[43m(\u001b[49m\u001b[43mvalue\u001b[49m\u001b[43m,\u001b[49m\u001b[43m \u001b[49m\u001b[38;5;28;43mself\u001b[39;49m\u001b[38;5;241;43m.\u001b[39;49m\u001b[43mindex\u001b[49m\u001b[43m)\u001b[49m\n\u001b[1;32m   5267\u001b[0m arr \u001b[38;5;241m=\u001b[39m sanitize_array(value, \u001b[38;5;28mself\u001b[39m\u001b[38;5;241m.\u001b[39mindex, copy\u001b[38;5;241m=\u001b[39m\u001b[38;5;28;01mTrue\u001b[39;00m, allow_2d\u001b[38;5;241m=\u001b[39m\u001b[38;5;28;01mTrue\u001b[39;00m)\n\u001b[1;32m   5268\u001b[0m \u001b[38;5;28;01mif\u001b[39;00m (\n\u001b[1;32m   5269\u001b[0m     \u001b[38;5;28misinstance\u001b[39m(value, Index)\n\u001b[1;32m   5270\u001b[0m     \u001b[38;5;129;01mand\u001b[39;00m value\u001b[38;5;241m.\u001b[39mdtype \u001b[38;5;241m==\u001b[39m \u001b[38;5;124m\"\u001b[39m\u001b[38;5;124mobject\u001b[39m\u001b[38;5;124m\"\u001b[39m\n\u001b[0;32m   (...)\u001b[0m\n\u001b[1;32m   5273\u001b[0m     \u001b[38;5;66;03m# TODO: Remove kludge in sanitize_array for string mode when enforcing\u001b[39;00m\n\u001b[1;32m   5274\u001b[0m     \u001b[38;5;66;03m# this deprecation\u001b[39;00m\n",
      "File \u001b[0;32m~/code/CNN-LSTM-predict-stock-price/.venv/lib/python3.9/site-packages/pandas/core/common.py:573\u001b[0m, in \u001b[0;36mrequire_length_match\u001b[0;34m(data, index)\u001b[0m\n\u001b[1;32m    569\u001b[0m \u001b[38;5;250m\u001b[39m\u001b[38;5;124;03m\"\"\"\u001b[39;00m\n\u001b[1;32m    570\u001b[0m \u001b[38;5;124;03mCheck the length of data matches the length of the index.\u001b[39;00m\n\u001b[1;32m    571\u001b[0m \u001b[38;5;124;03m\"\"\"\u001b[39;00m\n\u001b[1;32m    572\u001b[0m \u001b[38;5;28;01mif\u001b[39;00m \u001b[38;5;28mlen\u001b[39m(data) \u001b[38;5;241m!=\u001b[39m \u001b[38;5;28mlen\u001b[39m(index):\n\u001b[0;32m--> 573\u001b[0m     \u001b[38;5;28;01mraise\u001b[39;00m \u001b[38;5;167;01mValueError\u001b[39;00m(\n\u001b[1;32m    574\u001b[0m         \u001b[38;5;124m\"\u001b[39m\u001b[38;5;124mLength of values \u001b[39m\u001b[38;5;124m\"\u001b[39m\n\u001b[1;32m    575\u001b[0m         \u001b[38;5;124mf\u001b[39m\u001b[38;5;124m\"\u001b[39m\u001b[38;5;124m(\u001b[39m\u001b[38;5;132;01m{\u001b[39;00m\u001b[38;5;28mlen\u001b[39m(data)\u001b[38;5;132;01m}\u001b[39;00m\u001b[38;5;124m) \u001b[39m\u001b[38;5;124m\"\u001b[39m\n\u001b[1;32m    576\u001b[0m         \u001b[38;5;124m\"\u001b[39m\u001b[38;5;124mdoes not match length of index \u001b[39m\u001b[38;5;124m\"\u001b[39m\n\u001b[1;32m    577\u001b[0m         \u001b[38;5;124mf\u001b[39m\u001b[38;5;124m\"\u001b[39m\u001b[38;5;124m(\u001b[39m\u001b[38;5;132;01m{\u001b[39;00m\u001b[38;5;28mlen\u001b[39m(index)\u001b[38;5;132;01m}\u001b[39;00m\u001b[38;5;124m)\u001b[39m\u001b[38;5;124m\"\u001b[39m\n\u001b[1;32m    578\u001b[0m     )\n",
      "\u001b[0;31mValueError\u001b[0m: Length of values (36) does not match length of index (6)"
     ]
    }
   ],
   "source": [
    "index = 2\n",
    "print(f\"real: {real_percent_last_days_result_dataset_test_3[index]}\")\n",
    "print(f\"prediction: {prediction_for_test[index]}\")\n",
    "type_of_output = \"open_and_close\"\n",
    "draw_prediction(\n",
    "    image_input_dataset_test_2[index], \n",
    "    _4_prices_of_all_days_dataset_test_2[index], \n",
    "    all_dates[index],\n",
    "    prediction_for_test[index], \n",
    "    show_x_orginal_candle=True,\n",
    "    show_prediction_candle=True, \n",
    "    show_original_candle=True,\n",
    "    show_close_compare=True,\n",
    "    show_open_compare=True,\n",
    "    type_of_output=type_of_output,\n",
    "    draw_beside=True,\n",
    "    print_image=True,\n",
    "    extend_real=True,\n",
    "    date_generator=date_generator,\n",
    "    symbol=symbol_name)"
   ]
  },
  {
   "cell_type": "code",
   "execution_count": 56,
   "metadata": {},
   "outputs": [
    {
     "name": "stdout",
     "output_type": "stream",
     "text": [
      "---------------- Save: 0/64 images\n",
      "real: [[ 0.          3.20082   ]\n",
      " [-0.83386713 -1.4351993 ]\n",
      " [-1.4351993  -1.5524982 ]\n",
      " [ 1.9988778   0.        ]]\n",
      "prediction: [[-0.019687    0.01516423]\n",
      " [-0.01971781  0.015127  ]\n",
      " [-1.3367276  -1.6232501 ]\n",
      " [-0.0196858   0.01516405]]\n",
      "real: [[1.9301579  2.3908412 ]\n",
      " [0.40201843 1.9301579 ]\n",
      " [0.23404352 0.40201843]\n",
      " [0.36153904 0.23404352]]\n",
      "prediction: [[0.00475931 0.07756978]\n",
      " [0.00475925 0.07757008]\n",
      " [0.00475949 0.07757038]\n",
      " [0.00474751 0.07756108]]\n",
      "real: [[ 1.4180866   0.        ]\n",
      " [ 0.91440314  3.2017798 ]\n",
      " [ 0.13387097  0.91440314]\n",
      " [ 0.         -0.25535262]]\n",
      "prediction: [[0.19396326 0.3041263 ]\n",
      " [0.19399492 0.30415258]\n",
      " [0.1939934  0.30415085]\n",
      " [0.19398616 0.30414563]]\n",
      "real: [[ 0.88266814  0.        ]\n",
      " [ 0.         -1.46319   ]\n",
      " [-2.3264463   0.        ]\n",
      " [ 0.         -1.0520598 ]]\n",
      "prediction: [[-0.06335905 -0.03108099]\n",
      " [-0.06334385 -0.03107116]\n",
      " [-0.06334901 -0.03107569]\n",
      " [-0.063344   -0.03106982]]\n",
      "real: [[-1.6210545  0.       ]\n",
      " [ 1.3845805  0.591352 ]\n",
      " [ 2.8527775  1.3845805]\n",
      " [ 3.965277   2.8527775]]\n",
      "prediction: [[0.08960101 0.1407387 ]\n",
      " [0.0896399  0.14078689]\n",
      " [0.08964747 0.14079607]\n",
      " [0.08964431 0.14079171]]\n",
      "real: [[ 0.726831    0.        ]\n",
      " [ 0.          3.7161615 ]\n",
      " [-0.5200605  -0.79409   ]\n",
      " [-0.10444715  0.        ]]\n",
      "prediction: [[0.56319803 0.7327857 ]\n",
      " [0.5632342  0.73283124]\n",
      " [0.5631442  0.73272586]\n",
      " [0.5631711  0.7327559 ]]\n",
      "real: [[ 1.6658028   0.        ]\n",
      " [ 0.          0.7988203 ]\n",
      " [-0.28199866  0.        ]\n",
      " [ 0.          0.        ]]\n",
      "prediction: [[0.20850697 0.30560118]\n",
      " [0.20852883 0.3056139 ]\n",
      " [0.20852953 0.30561513]\n",
      " [0.20852634 0.30561322]]\n",
      "real: [[-3.594055    0.        ]\n",
      " [ 1.3091929   0.36665738]\n",
      " [ 3.9585583   1.3091929 ]\n",
      " [ 1.0413175   3.9585583 ]]\n",
      "prediction: [[0.66787297 0.69175816]\n",
      " [0.28302097 0.24576269]\n",
      " [0.2830276  0.24575962]\n",
      " [0.28303838 0.24576826]]\n",
      "real: [[-3.4669943  -3.980542  ]\n",
      " [-3.980542   -0.25913268]\n",
      " [-0.08896644  0.        ]\n",
      " [ 2.1945972   0.17060833]]\n",
      "prediction: [[-1.6770787  -1.918034  ]\n",
      " [-1.6770782  -1.9180299 ]\n",
      " [ 0.4451671   0.576411  ]\n",
      " [ 0.44519037  0.57643867]]\n",
      "real: [[ 0.         -1.0520598 ]\n",
      " [ 1.1453761   0.        ]\n",
      " [ 0.          0.04451821]\n",
      " [-1.6210545   0.        ]]\n",
      "prediction: [[0.18104538 0.23982683]\n",
      " [0.20583525 0.26837185]\n",
      " [0.20582941 0.2683684 ]\n",
      " [0.2058292  0.26836848]]\n",
      "---------------- Save: 10/64 images\n",
      "real: [[ 0.        -4.764324 ]\n",
      " [-4.985739  -1.1329006]\n",
      " [ 3.0576005  0.       ]\n",
      " [ 0.         4.000224 ]]\n",
      "prediction: [[-0.20446551 -0.19783059]\n",
      " [-0.20452511 -0.19790515]\n",
      " [ 0.02604026  0.06654242]\n",
      " [ 0.02604863  0.06655034]]\n",
      "real: [[-2.837434   -1.132419  ]\n",
      " [-1.132419   -0.17448169]\n",
      " [-0.17448169 -0.86306614]\n",
      " [-0.86306614 -1.3463886 ]]\n",
      "prediction: [[-1.6127706  -1.9574069 ]\n",
      " [ 0.0067164   0.05504307]\n",
      " [ 0.00671849  0.0550456 ]\n",
      " [-1.6127412  -1.9573723 ]]\n",
      "real: [[ 0.         -2.2747788 ]\n",
      " [-3.0892727  -3.9462433 ]\n",
      " [-3.594055    0.        ]\n",
      " [ 1.3091929   0.36665738]]\n",
      "prediction: [[0.1990245  0.2843216 ]\n",
      " [0.2666018  0.35080737]\n",
      " [0.2665863  0.35079628]\n",
      " [0.26659763 0.35080644]]\n",
      "real: [[ 4.068614    1.3853297 ]\n",
      " [ 0.          3.20082   ]\n",
      " [-0.83386713 -1.4351993 ]\n",
      " [-1.4351993  -1.5524982 ]]\n",
      "prediction: [[0.5357547  0.538171  ]\n",
      " [0.5357607  0.5381744 ]\n",
      " [0.535689   0.53809035]\n",
      " [0.5356903  0.53809273]]\n",
      "real: [[-1.4351993 -1.5524982]\n",
      " [ 1.9988778  0.       ]\n",
      " [ 2.3908412  3.6073804]\n",
      " [ 1.9301579  2.3908412]]\n",
      "prediction: [[-2.145978   -2.5446472 ]\n",
      " [ 0.19198774  0.24562015]\n",
      " [ 0.19199845  0.24563277]\n",
      " [ 0.19199257  0.24562532]]\n",
      "real: [[ 0.          0.26747277]\n",
      " [-0.9485823  -0.10206948]\n",
      " [-0.10206948 -2.4524722 ]\n",
      " [-2.4524722  -0.5106224 ]]\n",
      "prediction: [[0.21394639 0.27191663]\n",
      " [0.213931   0.27189934]\n",
      " [0.1321806  0.256342  ]\n",
      " [0.21395986 0.27193013]]\n",
      "real: [[-0.10206948 -2.4524722 ]\n",
      " [-2.4524722  -0.5106224 ]\n",
      " [ 3.1400156   0.        ]\n",
      " [ 1.0652683   3.6693747 ]]\n",
      "prediction: [[0.803673  0.8870923]\n",
      " [0.8036715 0.8870921]\n",
      " [1.1293092 1.4435343]\n",
      " [1.1293619 1.4435811]]\n",
      "real: [[1.4983062 5.1121035]\n",
      " [0.8138149 1.4983062]\n",
      " [0.        0.5183047]\n",
      " [1.1949128 0.       ]]\n",
      "prediction: [[0.49398172 0.49602205]\n",
      " [0.4939793  0.49601382]\n",
      " [0.4939446  0.4959746 ]\n",
      " [0.4939597  0.49599254]]\n",
      "real: [[ 0.          1.4182521 ]\n",
      " [ 0.88266814  0.        ]\n",
      " [ 0.         -1.46319   ]\n",
      " [-2.3264463   0.        ]]\n",
      "prediction: [[0.31584528 0.43937027]\n",
      " [0.31584078 0.4393635 ]\n",
      " [0.315795   0.43931   ]\n",
      " [0.31578907 0.4393023 ]]\n",
      "real: [[ 0.        -1.46319  ]\n",
      " [-2.3264463  0.       ]\n",
      " [ 0.        -1.0520598]\n",
      " [ 1.1453761  0.       ]]\n",
      "prediction: [[-1.7905817e+00 -2.1204526e+00]\n",
      " [-2.8328806e-02 -5.9485435e-04]\n",
      " [-2.8343290e-02 -6.0510635e-04]\n",
      " [-2.8336674e-02 -6.0015917e-04]]\n",
      "---------------- Save: 20/64 images\n",
      "real: [[1.3845805 0.591352 ]\n",
      " [2.8527775 1.3845805]\n",
      " [3.965277  2.8527775]\n",
      " [0.        3.4054544]]\n",
      "prediction: [[1.0793154 1.2661266]\n",
      " [1.0793579 1.2661785]\n",
      " [1.0793638 1.2661854]\n",
      " [1.0793569 1.266178 ]]\n",
      "real: [[-2.837434   -1.132419  ]\n",
      " [-1.132419   -0.17448169]\n",
      " [-0.17448169 -0.86306614]\n",
      " [-0.86306614 -1.3463886 ]]\n",
      "prediction: [[-1.6127706  -1.9574069 ]\n",
      " [ 0.0067164   0.05504307]\n",
      " [ 0.00671849  0.0550456 ]\n",
      " [-1.6127412  -1.9573723 ]]\n",
      "real: [[ 0.         -0.72548443]\n",
      " [ 0.726831    0.        ]\n",
      " [ 0.          3.7161615 ]\n",
      " [-0.5200605  -0.79409   ]]\n",
      "prediction: [[0.3976842  0.52453744]\n",
      " [0.30105916 0.4110082 ]\n",
      " [0.08520699 0.14438117]\n",
      " [0.08520082 0.14437455]]\n",
      "real: [[-0.10444715  0.        ]\n",
      " [ 2.02064     0.695163  ]\n",
      " [ 2.158341    2.02064   ]\n",
      " [ 4.2776265   2.158341  ]]\n",
      "prediction: [[0.1411394  0.18765378]\n",
      " [0.14116602 0.18768725]\n",
      " [0.14117053 0.18769276]\n",
      " [0.14116661 0.18768746]]\n",
      "real: [[ 0.          0.7988203 ]\n",
      " [-0.28199866  0.        ]\n",
      " [ 0.          0.        ]\n",
      " [ 0.          0.        ]]\n",
      "prediction: [[0.22395295 0.29124343]\n",
      " [0.22395328 0.29124296]\n",
      " [0.22395366 0.29124337]\n",
      " [0.22395335 0.2912432 ]]\n"
     ]
    },
    {
     "ename": "ValueError",
     "evalue": "Length of values (36) does not match length of index (37)",
     "output_type": "error",
     "traceback": [
      "\u001b[0;31m---------------------------------------------------------------------------\u001b[0m",
      "\u001b[0;31mValueError\u001b[0m                                Traceback (most recent call last)",
      "Cell \u001b[0;32mIn[56], line 50\u001b[0m\n\u001b[1;32m     42\u001b[0m     date_printed\u001b[38;5;241m.\u001b[39madd(date)\n\u001b[1;32m     44\u001b[0m \u001b[38;5;66;03m# trend_type = mapping_trend_type[trend_dataset_test_2[index]]\u001b[39;00m\n\u001b[1;32m     45\u001b[0m \n\u001b[1;32m     46\u001b[0m \u001b[38;5;66;03m# if group is not None and group != \"ALL\":\u001b[39;00m\n\u001b[1;32m     47\u001b[0m \u001b[38;5;66;03m#     if trend_type != group:\u001b[39;00m\n\u001b[1;32m     48\u001b[0m \u001b[38;5;66;03m#         continue\u001b[39;00m\n\u001b[0;32m---> 50\u001b[0m \u001b[43mdraw_prediction\u001b[49m\u001b[43m(\u001b[49m\n\u001b[1;32m     51\u001b[0m \u001b[43m    \u001b[49m\u001b[43mimage_input_dataset_test_2\u001b[49m\u001b[43m[\u001b[49m\u001b[43mindex\u001b[49m\u001b[43m]\u001b[49m\u001b[43m,\u001b[49m\u001b[43m \u001b[49m\n\u001b[1;32m     52\u001b[0m \u001b[43m    \u001b[49m\u001b[43m_4_prices_of_all_days_dataset_test_2\u001b[49m\u001b[43m[\u001b[49m\u001b[43mindex\u001b[49m\u001b[43m]\u001b[49m\u001b[43m,\u001b[49m\u001b[43m \u001b[49m\n\u001b[1;32m     53\u001b[0m \u001b[43m    \u001b[49m\u001b[43mdate\u001b[49m\u001b[43m,\u001b[49m\n\u001b[1;32m     54\u001b[0m \u001b[43m    \u001b[49m\u001b[43mprediction_for_test\u001b[49m\u001b[43m[\u001b[49m\u001b[43mindex\u001b[49m\u001b[43m]\u001b[49m\u001b[43m,\u001b[49m\u001b[43m \u001b[49m\n\u001b[1;32m     55\u001b[0m \u001b[43m    \u001b[49m\u001b[43mshow_x_orginal_candle\u001b[49m\u001b[38;5;241;43m=\u001b[39;49m\u001b[38;5;28;43;01mTrue\u001b[39;49;00m\u001b[43m,\u001b[49m\n\u001b[1;32m     56\u001b[0m \u001b[43m    \u001b[49m\u001b[43mshow_prediction_candle\u001b[49m\u001b[38;5;241;43m=\u001b[39;49m\u001b[38;5;28;43;01mTrue\u001b[39;49;00m\u001b[43m,\u001b[49m\u001b[43m \u001b[49m\n\u001b[1;32m     57\u001b[0m \u001b[43m    \u001b[49m\u001b[43mshow_original_candle\u001b[49m\u001b[38;5;241;43m=\u001b[39;49m\u001b[38;5;28;43;01mTrue\u001b[39;49;00m\u001b[43m,\u001b[49m\n\u001b[1;32m     58\u001b[0m \u001b[43m    \u001b[49m\u001b[43mshow_close_compare\u001b[49m\u001b[38;5;241;43m=\u001b[39;49m\u001b[38;5;28;43;01mTrue\u001b[39;49;00m\u001b[43m,\u001b[49m\n\u001b[1;32m     59\u001b[0m \u001b[43m    \u001b[49m\u001b[43mshow_open_compare\u001b[49m\u001b[38;5;241;43m=\u001b[39;49m\u001b[38;5;28;43;01mTrue\u001b[39;49;00m\u001b[43m,\u001b[49m\n\u001b[1;32m     60\u001b[0m \u001b[43m    \u001b[49m\u001b[43mtype_of_output\u001b[49m\u001b[38;5;241;43m=\u001b[39;49m\u001b[43mtype_of_output\u001b[49m\u001b[43m,\u001b[49m\n\u001b[1;32m     61\u001b[0m \u001b[43m    \u001b[49m\u001b[43mdraw_beside\u001b[49m\u001b[38;5;241;43m=\u001b[39;49m\u001b[38;5;28;43;01mTrue\u001b[39;49;00m\u001b[43m,\u001b[49m\n\u001b[1;32m     62\u001b[0m \u001b[43m    \u001b[49m\u001b[43msave_image\u001b[49m\u001b[38;5;241;43m=\u001b[39;49m\u001b[38;5;124;43mf\u001b[39;49m\u001b[38;5;124;43m\"\u001b[39;49m\u001b[38;5;132;43;01m{\u001b[39;49;00m\u001b[43mfolder_save_image_predict\u001b[49m\u001b[38;5;132;43;01m}\u001b[39;49;00m\u001b[38;5;124;43m/\u001b[39;49m\u001b[38;5;132;43;01m{\u001b[39;49;00m\u001b[43mdate\u001b[49m\u001b[38;5;132;43;01m}\u001b[39;49;00m\u001b[38;5;124;43m_predict.png\u001b[39;49m\u001b[38;5;124;43m\"\u001b[39;49m\u001b[43m,\u001b[49m\n\u001b[1;32m     63\u001b[0m \u001b[43m    \u001b[49m\u001b[43mprint_image\u001b[49m\u001b[38;5;241;43m=\u001b[39;49m\u001b[38;5;28;43;01mFalse\u001b[39;49;00m\u001b[43m,\u001b[49m\n\u001b[1;32m     64\u001b[0m \u001b[43m    \u001b[49m\u001b[43mextend_real\u001b[49m\u001b[38;5;241;43m=\u001b[39;49m\u001b[43mis_extend_real\u001b[49m\u001b[43m,\u001b[49m\n\u001b[1;32m     65\u001b[0m \u001b[43m    \u001b[49m\u001b[43mdate_generator\u001b[49m\u001b[38;5;241;43m=\u001b[39;49m\u001b[43mdate_generator\u001b[49m\u001b[43m,\u001b[49m\n\u001b[1;32m     66\u001b[0m \u001b[43m    \u001b[49m\u001b[43msymbol\u001b[49m\u001b[38;5;241;43m=\u001b[39;49m\u001b[43msymbol_name\u001b[49m\u001b[43m,\u001b[49m\n\u001b[1;32m     67\u001b[0m \u001b[43m    \u001b[49m\u001b[43mdays_prediction_to_print\u001b[49m\u001b[38;5;241;43m=\u001b[39;49m\u001b[43mdays_prediction_to_print\u001b[49m\u001b[43m,\u001b[49m\n\u001b[1;32m     68\u001b[0m \u001b[43m    \u001b[49m\u001b[43mprint_all_days_for_prediction\u001b[49m\u001b[38;5;241;43m=\u001b[39;49m\u001b[38;5;28;43;01mFalse\u001b[39;49;00m\u001b[43m,\u001b[49m\n\u001b[1;32m     69\u001b[0m \u001b[43m    \u001b[49m\u001b[43mis_trading_24h\u001b[49m\u001b[38;5;241;43m=\u001b[39;49m\u001b[43mis_trading_24h\u001b[49m\u001b[43m)\u001b[49m\n",
      "File \u001b[0;32m~/code/CNN-LSTM-predict-stock-price/data_analytics/CV_stock_market/test_model/draw_image_utils.py:146\u001b[0m, in \u001b[0;36mdraw_prediction\u001b[0;34m(x_dataset_test_1_i, y_dataset_test_1_i, date_i, predictions_i, days_result, show_x_orginal_candle, show_original_candle, show_prediction_candle, show_close_compare, show_open_compare, type_of_output, draw_beside, save_image, print_image, extend_real, date_generator, symbol, print_all_days_for_prediction, days_prediction_to_print, is_trading_24h)\u001b[0m\n\u001b[1;32m    142\u001b[0m         plt\u001b[38;5;241m.\u001b[39msavefig(save_image)\n\u001b[1;32m    144\u001b[0m df_real_data \u001b[38;5;241m=\u001b[39m pd\u001b[38;5;241m.\u001b[39mDataFrame(y_dataset_test_1_i, columns\u001b[38;5;241m=\u001b[39m[\u001b[38;5;124m\"\u001b[39m\u001b[38;5;124mHigh\u001b[39m\u001b[38;5;124m\"\u001b[39m, \u001b[38;5;124m\"\u001b[39m\u001b[38;5;124mOpen\u001b[39m\u001b[38;5;124m\"\u001b[39m, \u001b[38;5;124m\"\u001b[39m\u001b[38;5;124mClose\u001b[39m\u001b[38;5;124m\"\u001b[39m, \u001b[38;5;124m\"\u001b[39m\u001b[38;5;124mLow\u001b[39m\u001b[38;5;124m\"\u001b[39m])\n\u001b[0;32m--> 146\u001b[0m \u001b[43mdf_real_data\u001b[49m\u001b[43m[\u001b[49m\u001b[38;5;124;43m\"\u001b[39;49m\u001b[38;5;124;43mDate\u001b[39;49m\u001b[38;5;124;43m\"\u001b[39;49m\u001b[43m]\u001b[49m \u001b[38;5;241m=\u001b[39m all_dates\n\u001b[1;32m    147\u001b[0m df_real_data[\u001b[38;5;124m\"\u001b[39m\u001b[38;5;124mDate\u001b[39m\u001b[38;5;124m\"\u001b[39m] \u001b[38;5;241m=\u001b[39m pd\u001b[38;5;241m.\u001b[39mto_datetime(df_real_data[\u001b[38;5;124m\"\u001b[39m\u001b[38;5;124mDate\u001b[39m\u001b[38;5;124m\"\u001b[39m])\n\u001b[1;32m    148\u001b[0m df_real_data\u001b[38;5;241m.\u001b[39mset_index(\u001b[38;5;124m'\u001b[39m\u001b[38;5;124mDate\u001b[39m\u001b[38;5;124m'\u001b[39m, inplace\u001b[38;5;241m=\u001b[39m\u001b[38;5;28;01mTrue\u001b[39;00m)\n",
      "File \u001b[0;32m~/code/CNN-LSTM-predict-stock-price/.venv/lib/python3.9/site-packages/pandas/core/frame.py:4311\u001b[0m, in \u001b[0;36mDataFrame.__setitem__\u001b[0;34m(self, key, value)\u001b[0m\n\u001b[1;32m   4308\u001b[0m     \u001b[38;5;28mself\u001b[39m\u001b[38;5;241m.\u001b[39m_setitem_array([key], value)\n\u001b[1;32m   4309\u001b[0m \u001b[38;5;28;01melse\u001b[39;00m:\n\u001b[1;32m   4310\u001b[0m     \u001b[38;5;66;03m# set column\u001b[39;00m\n\u001b[0;32m-> 4311\u001b[0m     \u001b[38;5;28;43mself\u001b[39;49m\u001b[38;5;241;43m.\u001b[39;49m\u001b[43m_set_item\u001b[49m\u001b[43m(\u001b[49m\u001b[43mkey\u001b[49m\u001b[43m,\u001b[49m\u001b[43m \u001b[49m\u001b[43mvalue\u001b[49m\u001b[43m)\u001b[49m\n",
      "File \u001b[0;32m~/code/CNN-LSTM-predict-stock-price/.venv/lib/python3.9/site-packages/pandas/core/frame.py:4524\u001b[0m, in \u001b[0;36mDataFrame._set_item\u001b[0;34m(self, key, value)\u001b[0m\n\u001b[1;32m   4514\u001b[0m \u001b[38;5;28;01mdef\u001b[39;00m \u001b[38;5;21m_set_item\u001b[39m(\u001b[38;5;28mself\u001b[39m, key, value) \u001b[38;5;241m-\u001b[39m\u001b[38;5;241m>\u001b[39m \u001b[38;5;28;01mNone\u001b[39;00m:\n\u001b[1;32m   4515\u001b[0m \u001b[38;5;250m    \u001b[39m\u001b[38;5;124;03m\"\"\"\u001b[39;00m\n\u001b[1;32m   4516\u001b[0m \u001b[38;5;124;03m    Add series to DataFrame in specified column.\u001b[39;00m\n\u001b[1;32m   4517\u001b[0m \n\u001b[0;32m   (...)\u001b[0m\n\u001b[1;32m   4522\u001b[0m \u001b[38;5;124;03m    ensure homogeneity.\u001b[39;00m\n\u001b[1;32m   4523\u001b[0m \u001b[38;5;124;03m    \"\"\"\u001b[39;00m\n\u001b[0;32m-> 4524\u001b[0m     value, refs \u001b[38;5;241m=\u001b[39m \u001b[38;5;28;43mself\u001b[39;49m\u001b[38;5;241;43m.\u001b[39;49m\u001b[43m_sanitize_column\u001b[49m\u001b[43m(\u001b[49m\u001b[43mvalue\u001b[49m\u001b[43m)\u001b[49m\n\u001b[1;32m   4526\u001b[0m     \u001b[38;5;28;01mif\u001b[39;00m (\n\u001b[1;32m   4527\u001b[0m         key \u001b[38;5;129;01min\u001b[39;00m \u001b[38;5;28mself\u001b[39m\u001b[38;5;241m.\u001b[39mcolumns\n\u001b[1;32m   4528\u001b[0m         \u001b[38;5;129;01mand\u001b[39;00m value\u001b[38;5;241m.\u001b[39mndim \u001b[38;5;241m==\u001b[39m \u001b[38;5;241m1\u001b[39m\n\u001b[1;32m   4529\u001b[0m         \u001b[38;5;129;01mand\u001b[39;00m \u001b[38;5;129;01mnot\u001b[39;00m \u001b[38;5;28misinstance\u001b[39m(value\u001b[38;5;241m.\u001b[39mdtype, ExtensionDtype)\n\u001b[1;32m   4530\u001b[0m     ):\n\u001b[1;32m   4531\u001b[0m         \u001b[38;5;66;03m# broadcast across multiple columns if necessary\u001b[39;00m\n\u001b[1;32m   4532\u001b[0m         \u001b[38;5;28;01mif\u001b[39;00m \u001b[38;5;129;01mnot\u001b[39;00m \u001b[38;5;28mself\u001b[39m\u001b[38;5;241m.\u001b[39mcolumns\u001b[38;5;241m.\u001b[39mis_unique \u001b[38;5;129;01mor\u001b[39;00m \u001b[38;5;28misinstance\u001b[39m(\u001b[38;5;28mself\u001b[39m\u001b[38;5;241m.\u001b[39mcolumns, MultiIndex):\n",
      "File \u001b[0;32m~/code/CNN-LSTM-predict-stock-price/.venv/lib/python3.9/site-packages/pandas/core/frame.py:5266\u001b[0m, in \u001b[0;36mDataFrame._sanitize_column\u001b[0;34m(self, value)\u001b[0m\n\u001b[1;32m   5263\u001b[0m     \u001b[38;5;28;01mreturn\u001b[39;00m _reindex_for_setitem(value, \u001b[38;5;28mself\u001b[39m\u001b[38;5;241m.\u001b[39mindex)\n\u001b[1;32m   5265\u001b[0m \u001b[38;5;28;01mif\u001b[39;00m is_list_like(value):\n\u001b[0;32m-> 5266\u001b[0m     \u001b[43mcom\u001b[49m\u001b[38;5;241;43m.\u001b[39;49m\u001b[43mrequire_length_match\u001b[49m\u001b[43m(\u001b[49m\u001b[43mvalue\u001b[49m\u001b[43m,\u001b[49m\u001b[43m \u001b[49m\u001b[38;5;28;43mself\u001b[39;49m\u001b[38;5;241;43m.\u001b[39;49m\u001b[43mindex\u001b[49m\u001b[43m)\u001b[49m\n\u001b[1;32m   5267\u001b[0m arr \u001b[38;5;241m=\u001b[39m sanitize_array(value, \u001b[38;5;28mself\u001b[39m\u001b[38;5;241m.\u001b[39mindex, copy\u001b[38;5;241m=\u001b[39m\u001b[38;5;28;01mTrue\u001b[39;00m, allow_2d\u001b[38;5;241m=\u001b[39m\u001b[38;5;28;01mTrue\u001b[39;00m)\n\u001b[1;32m   5268\u001b[0m \u001b[38;5;28;01mif\u001b[39;00m (\n\u001b[1;32m   5269\u001b[0m     \u001b[38;5;28misinstance\u001b[39m(value, Index)\n\u001b[1;32m   5270\u001b[0m     \u001b[38;5;129;01mand\u001b[39;00m value\u001b[38;5;241m.\u001b[39mdtype \u001b[38;5;241m==\u001b[39m \u001b[38;5;124m\"\u001b[39m\u001b[38;5;124mobject\u001b[39m\u001b[38;5;124m\"\u001b[39m\n\u001b[0;32m   (...)\u001b[0m\n\u001b[1;32m   5273\u001b[0m     \u001b[38;5;66;03m# TODO: Remove kludge in sanitize_array for string mode when enforcing\u001b[39;00m\n\u001b[1;32m   5274\u001b[0m     \u001b[38;5;66;03m# this deprecation\u001b[39;00m\n",
      "File \u001b[0;32m~/code/CNN-LSTM-predict-stock-price/.venv/lib/python3.9/site-packages/pandas/core/common.py:573\u001b[0m, in \u001b[0;36mrequire_length_match\u001b[0;34m(data, index)\u001b[0m\n\u001b[1;32m    569\u001b[0m \u001b[38;5;250m\u001b[39m\u001b[38;5;124;03m\"\"\"\u001b[39;00m\n\u001b[1;32m    570\u001b[0m \u001b[38;5;124;03mCheck the length of data matches the length of the index.\u001b[39;00m\n\u001b[1;32m    571\u001b[0m \u001b[38;5;124;03m\"\"\"\u001b[39;00m\n\u001b[1;32m    572\u001b[0m \u001b[38;5;28;01mif\u001b[39;00m \u001b[38;5;28mlen\u001b[39m(data) \u001b[38;5;241m!=\u001b[39m \u001b[38;5;28mlen\u001b[39m(index):\n\u001b[0;32m--> 573\u001b[0m     \u001b[38;5;28;01mraise\u001b[39;00m \u001b[38;5;167;01mValueError\u001b[39;00m(\n\u001b[1;32m    574\u001b[0m         \u001b[38;5;124m\"\u001b[39m\u001b[38;5;124mLength of values \u001b[39m\u001b[38;5;124m\"\u001b[39m\n\u001b[1;32m    575\u001b[0m         \u001b[38;5;124mf\u001b[39m\u001b[38;5;124m\"\u001b[39m\u001b[38;5;124m(\u001b[39m\u001b[38;5;132;01m{\u001b[39;00m\u001b[38;5;28mlen\u001b[39m(data)\u001b[38;5;132;01m}\u001b[39;00m\u001b[38;5;124m) \u001b[39m\u001b[38;5;124m\"\u001b[39m\n\u001b[1;32m    576\u001b[0m         \u001b[38;5;124m\"\u001b[39m\u001b[38;5;124mdoes not match length of index \u001b[39m\u001b[38;5;124m\"\u001b[39m\n\u001b[1;32m    577\u001b[0m         \u001b[38;5;124mf\u001b[39m\u001b[38;5;124m\"\u001b[39m\u001b[38;5;124m(\u001b[39m\u001b[38;5;132;01m{\u001b[39;00m\u001b[38;5;28mlen\u001b[39m(index)\u001b[38;5;132;01m}\u001b[39;00m\u001b[38;5;124m)\u001b[39m\u001b[38;5;124m\"\u001b[39m\n\u001b[1;32m    578\u001b[0m     )\n",
      "\u001b[0;31mValueError\u001b[0m: Length of values (36) does not match length of index (37)"
     ]
    }
   ],
   "source": [
    "# index = 0\n",
    "is_print_all = input(\"Print all? (y/n): \").lower()[0] == \"y\"\n",
    "type_of_output = \"open_and_close\"\n",
    "if is_print_all:\n",
    "    group = input(\"Group to print? (bull/bear/sizeway/all) \").strip().lower()\n",
    "    is_extend_real = input(\"Extend real? (y/n): \").strip().lower()[0] == \"y\"\n",
    "    days_prediction_to_print=input(f\"days_prediction_to_print = (default = {days_result})\").strip()\n",
    "    if not days_prediction_to_print:\n",
    "        days_prediction_to_print = days_result\n",
    "    else:\n",
    "        days_prediction_to_print = int(days_prediction_to_print)\n",
    "    \n",
    "    # if \"bull\" in group:\n",
    "    #     group = \"GROUP_BULL\"\n",
    "    # elif \"bear\" in group:\n",
    "    #     group = \"GROUP_BEAR\"\n",
    "    # elif \"sizeway\" in group:\n",
    "    #     group = \"GROUP_SIZEWAY\"\n",
    "    if len(group) == 0 or \"all\" in group:\n",
    "        group = \"ALL\"\n",
    "        \n",
    "    folder_name = f\"{model_name}\"\n",
    "    # if group is not None:\n",
    "    #     folder_name += f\"/{group}\"\n",
    "    \n",
    "    if is_extend_real:\n",
    "        folder_name = f\"extend_real_{folder_name}\"\n",
    "    folder_save_image_predict = f\"{dataset_folder}/output_prediction_image/{folder_name}_prediction_{days_prediction_to_print}\"\n",
    "    \n",
    "    os.makedirs(folder_save_image_predict, exist_ok=False)\n",
    "    \n",
    "    date_printed = set()\n",
    "    for index in range(len(_4_prices_of_all_days_dataset_test_2)):\n",
    "        if index % 10 == 0:\n",
    "            print(f\"---------------- Save: {index}/{len(_4_prices_of_all_days_dataset_test_2)} images\")\n",
    "        print(f\"real: {real_percent_last_days_result_dataset_test_3[index]}\")\n",
    "        print(f\"prediction: {prediction_for_test[index]}\")\n",
    "        date = all_dates[index]\n",
    "        if date in date_printed:\n",
    "            continue\n",
    "        else:\n",
    "            date_printed.add(date)\n",
    "        \n",
    "        # trend_type = mapping_trend_type[trend_dataset_test_2[index]]\n",
    "        \n",
    "        # if group is not None and group != \"ALL\":\n",
    "        #     if trend_type != group:\n",
    "        #         continue\n",
    "        \n",
    "        draw_prediction(\n",
    "            image_input_dataset_test_2[index], \n",
    "            _4_prices_of_all_days_dataset_test_2[index], \n",
    "            date,\n",
    "            prediction_for_test[index], \n",
    "            show_x_orginal_candle=True,\n",
    "            show_prediction_candle=True, \n",
    "            show_original_candle=True,\n",
    "            show_close_compare=True,\n",
    "            show_open_compare=True,\n",
    "            type_of_output=type_of_output,\n",
    "            draw_beside=True,\n",
    "            save_image=f\"{folder_save_image_predict}/{date}_predict.png\",\n",
    "            print_image=False,\n",
    "            extend_real=is_extend_real,\n",
    "            date_generator=date_generator,\n",
    "            symbol=symbol_name,\n",
    "            days_prediction_to_print=days_prediction_to_print,\n",
    "            print_all_days_for_prediction=False,\n",
    "            is_trading_24h=is_trading_24h)"
   ]
  },
  {
   "cell_type": "code",
   "execution_count": null,
   "metadata": {},
   "outputs": [
    {
     "data": {
      "text/plain": [
       "'../dataset/btc_with_ema_macd_trend/output_prediction_image/extend_real_channels_to_time_step_attention_ema_macd_trend/ALL_prediction_3'"
      ]
     },
     "execution_count": 20,
     "metadata": {},
     "output_type": "execute_result"
    },
    {
     "ename": "",
     "evalue": "",
     "output_type": "error",
     "traceback": [
      "\u001b[1;31mThe Kernel crashed while executing code in the current cell or a previous cell. \n",
      "\u001b[1;31mPlease review the code in the cell(s) to identify a possible cause of the failure. \n",
      "\u001b[1;31mClick <a href='https://aka.ms/vscodeJupyterKernelCrash'>here</a> for more info. \n",
      "\u001b[1;31mView Jupyter <a href='command:jupyter.viewOutput'>log</a> for further details."
     ]
    }
   ],
   "source": [
    "folder_save_image_predict"
   ]
  }
 ],
 "metadata": {
  "kernelspec": {
   "display_name": ".venv",
   "language": "python",
   "name": "python3"
  },
  "language_info": {
   "codemirror_mode": {
    "name": "ipython",
    "version": 3
   },
   "file_extension": ".py",
   "mimetype": "text/x-python",
   "name": "python",
   "nbconvert_exporter": "python",
   "pygments_lexer": "ipython3",
   "version": "3.9.7"
  }
 },
 "nbformat": 4,
 "nbformat_minor": 2
}
