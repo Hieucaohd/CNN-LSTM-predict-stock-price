{
 "cells": [
  {
   "cell_type": "code",
   "execution_count": 1,
   "metadata": {},
   "outputs": [],
   "source": [
    "import sys\n",
    "sys.path.append(\"../\")"
   ]
  },
  {
   "cell_type": "code",
   "execution_count": 2,
   "metadata": {},
   "outputs": [],
   "source": [
    "from datetime import datetime, timedelta\n",
    "from functools import partial\n",
    "from matplotlib.dates import DateFormatter\n",
    "from ta import add_all_ta_features\n",
    "from ta.utils import dropna\n",
    "from utils.common_train_utils import *\n",
    "from utils.draw_candle_image import *\n",
    "from utils.evaluate_old_models import *\n",
    "import json\n",
    "import keras\n",
    "import matplotlib.pyplot as plt\n",
    "import numpy as np\n",
    "import os\n",
    "import pandas as pd\n",
    "import pathlib\n",
    "import shutil\n",
    "import ta\n",
    "import ta.momentum\n",
    "import ta.trend\n",
    "import tempfile\n",
    "import tensorflow as tf\n",
    "import tensorflow_docs as tfdocs\n",
    "import tensorflow_docs.modeling\n",
    "import tensorflow_docs.plots\n",
    "keras.config.enable_unsafe_deserialization()\n",
    "from draw_image_utils import draw_prediction"
   ]
  },
  {
   "cell_type": "code",
   "execution_count": null,
   "metadata": {},
   "outputs": [],
   "source": [
    "symbol_mapping = {\n",
    "    \"CTG\": {\n",
    "        \"dataset_folder\": \"ctg_with_ema_macd_trend\",\n",
    "        \"model_name\": \"model_5_bi2LSTM_ema_macd_trend\",\n",
    "        \"freq_of_date\": \"B\"\n",
    "    },\n",
    "    \"FPT\": {\n",
    "        \"dataset_folder\": \"fpt_with_ema_macd_trend\",\n",
    "        \"model_name\": \"model_5_bi2LSTM_ema_macd_trend\",\n",
    "        \"freq_of_date\": \"B\"\n",
    "    },\n",
    "    \"TCB\": {\n",
    "        \"dataset_folder\": \"tcb_with_ema_macd_trend\",\n",
    "        \"model_name\": \"model_5_bi2LSTM_ema_macd_trend\",\n",
    "        \"freq_of_date\": \"B\"\n",
    "    },\n",
    "    \"VN30\": {\n",
    "        \"dataset_folder\": \"vn30_with_ema_macd_trend\",\n",
    "        \"model_name\": \"model_5_bi2LSTM_ema_macd_trend_1_1_1\",\n",
    "        \"freq_of_date\": \"B\"\n",
    "    },\n",
    "    # \"BTC\": {\n",
    "    #     \"dataset_folder\": \"btc_with_ema_macd_trend\",\n",
    "    #     \"model_name\": \"model_5_biLSTM_ema_macd_trend\",\n",
    "    #     \"freq_of_date\": \"D\"\n",
    "    # },\n",
    "    \"BTC\": {\n",
    "        \"dataset_folder\": \"btc_with_ema_macd_trend\",\n",
    "        \"model_name\": \"model_5_biLSTM_ema_macd_trend_1_1_1_1_1_1\",\n",
    "        \"freq_of_date\": \"D\"\n",
    "    },\n",
    "    \"COCA_COLA\": {\n",
    "        \"dataset_folder\": \"coca_cola_with_ema_macd_trend\",\n",
    "        \"model_name\": \"model_5_bi2LSTM_ema_macd_trend_1_1_1\",\n",
    "        \"freq_of_date\": \"D\"\n",
    "    },\n",
    "}"
   ]
  },
  {
   "cell_type": "code",
   "execution_count": 4,
   "metadata": {},
   "outputs": [],
   "source": [
    "day_previous_from_now = int(input(\"Day previous from now = \").strip())\n",
    "now = datetime.now() - timedelta(days=day_previous_from_now)\n",
    "date_continue_learning = str(now.date()).replace(\"-\", \"_\")"
   ]
  },
  {
   "cell_type": "code",
   "execution_count": 5,
   "metadata": {},
   "outputs": [],
   "source": [
    "\n",
    "symbol = input(\"Symbol = \").strip().upper()\n",
    "dataset_folder_name = symbol_mapping[symbol][\"dataset_folder\"]\n",
    "model_name = symbol_mapping[symbol][\"model_name\"]\n",
    "dataset_folder = f\"../dataset/{dataset_folder_name}\"\n",
    "to_folder = f\"to_{date_continue_learning}\"\n",
    "continue_learning_folder = f\"{dataset_folder}/continue_learning/{to_folder}\"\n",
    "index_of_image_input = 3\n",
    "batch_size = 100\n",
    "freq_of_date = symbol_mapping[symbol][\"freq_of_date\"] # B or D\n",
    "\n",
    "config = read_config(dataset_folder)\n",
    "candle_type_and_directory_save: dict = config[\"candle_type_and_directory_save\"]\n",
    "previous_days = config[\"previous_days\"]\n",
    "next_days = config[\"next_days\"]\n",
    "days_result = config[\"days_result\"]\n"
   ]
  },
  {
   "cell_type": "code",
   "execution_count": 6,
   "metadata": {},
   "outputs": [
    {
     "data": {
      "text/plain": [
       "{'Is_start_bullish_engulfing_candle': 'bullish_engulfing',\n",
       " 'Is_start_bearish_engulfing_candle': 'bearish_engulfing',\n",
       " 'Is_star_doji_candle': 'star_doji',\n",
       " 'Is_dragonfly_doji_candle': 'dragonfly_doji',\n",
       " 'Is_gravestone_doji_candle': 'gravestone_doji',\n",
       " 'Is_start_morning_star_candle': 'morning_star',\n",
       " 'Is_start_evening_star_candle': 'evening_star',\n",
       " 'Is_hammer_candle': 'hammer',\n",
       " 'Is_inverted_hammer_candle': 'inverted_hammer',\n",
       " 'Is_start_harami_down_candle': 'harami_down',\n",
       " 'Is_start_harami_up_candle': 'harami_up',\n",
       " 'Is_start_tweezer_top_candle': 'tweezer_top',\n",
       " 'Is_start_tweezer_bottom_candle': 'tweezer_bottom',\n",
       " 'Is_marubozu_candle': 'marubozu',\n",
       " 'Is_spin_candle': 'spin',\n",
       " 'Is_start_next_3_day_up_candle': 'next_3_day_up',\n",
       " 'Is_start_next_3_day_down_candle': 'next_3_day_down'}"
      ]
     },
     "execution_count": 6,
     "metadata": {},
     "output_type": "execute_result"
    }
   ],
   "source": [
    "candle_type_and_directory_save"
   ]
  },
  {
   "cell_type": "code",
   "execution_count": 7,
   "metadata": {},
   "outputs": [
    {
     "data": {
      "text/plain": [
       "'../dataset/btc_dataset_0_2_3_2014_2024_test_2024_2024_with_ema_macd_trend'"
      ]
     },
     "execution_count": 7,
     "metadata": {},
     "output_type": "execute_result"
    }
   ],
   "source": [
    "dataset_folder"
   ]
  },
  {
   "cell_type": "code",
   "execution_count": 8,
   "metadata": {},
   "outputs": [
    {
     "data": {
      "text/plain": [
       "'../dataset/btc_dataset_0_2_3_2014_2024_test_2024_2024_with_ema_macd_trend/continue_learning/to_2024_11_27'"
      ]
     },
     "execution_count": 8,
     "metadata": {},
     "output_type": "execute_result"
    }
   ],
   "source": [
    "continue_learning_folder"
   ]
  },
  {
   "cell_type": "code",
   "execution_count": null,
   "metadata": {},
   "outputs": [],
   "source": [
    "dataset = tf.data.Dataset.load(f'{continue_learning_folder}/test')"
   ]
  },
  {
   "cell_type": "code",
   "execution_count": 9,
   "metadata": {},
   "outputs": [
    {
     "name": "stdout",
     "output_type": "stream",
     "text": [
      "folder: bullish_engulfing, \t\t total: 79 images\n",
      "folder: bearish_engulfing, \t\t total: 80 images\n",
      "folder: star_doji, \t\t total: 25 images\n",
      "folder: dragonfly_doji, \t\t total: 7 images\n",
      "folder: gravestone_doji, \t\t total: 12 images\n",
      "folder: morning_star, \t\t total: 68 images\n",
      "folder: evening_star, \t\t total: 66 images\n",
      "folder: hammer, \t\t total: 22 images\n",
      "folder: inverted_hammer, \t\t total: 6 images\n",
      "folder: harami_down, \t\t total: 509 images\n",
      "folder: harami_up, \t\t total: 447 images\n",
      "folder: tweezer_top, \t\t total: 55 images\n",
      "folder: tweezer_bottom, \t\t total: 50 images\n",
      "folder: marubozu, \t\t total: 47 images\n",
      "folder: spin, \t\t total: 124 images\n",
      "folder: next_3_day_up, \t\t total: 475 images\n",
      "folder: next_3_day_down, \t\t total: 325 images\n"
     ]
    }
   ],
   "source": [
    "dataset_train = load_dataset_of_each_type_and_combine(f\"{dataset_folder}/train\", candle_type_and_directory_save, print_log=True)"
   ]
  },
  {
   "cell_type": "code",
   "execution_count": null,
   "metadata": {},
   "outputs": [],
   "source": []
  }
 ],
 "metadata": {
  "kernelspec": {
   "display_name": ".venv",
   "language": "python",
   "name": "python3"
  },
  "language_info": {
   "codemirror_mode": {
    "name": "ipython",
    "version": 3
   },
   "file_extension": ".py",
   "mimetype": "text/x-python",
   "name": "python",
   "nbconvert_exporter": "python",
   "pygments_lexer": "ipython3",
   "version": "3.9.7"
  }
 },
 "nbformat": 4,
 "nbformat_minor": 2
}
