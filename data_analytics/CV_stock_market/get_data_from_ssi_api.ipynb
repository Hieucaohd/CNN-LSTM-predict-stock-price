{
 "cells": [
  {
   "cell_type": "code",
   "execution_count": null,
   "metadata": {},
   "outputs": [],
   "source": [
    "import requests\n",
    "import pandas as pd\n",
    "import numpy as np\n",
    "from trade_trade_trade_datetime import datetime"
   ]
  },
  {
   "cell_type": "code",
   "execution_count": 2,
   "metadata": {},
   "outputs": [],
   "source": [
    "symbol = 'VNINDEX'"
   ]
  },
  {
   "cell_type": "code",
   "execution_count": 3,
   "metadata": {},
   "outputs": [],
   "source": [
    "query_string = {\n",
    "    'symbol': symbol, \n",
    "}"
   ]
  },
  {
   "cell_type": "code",
   "execution_count": 4,
   "metadata": {},
   "outputs": [],
   "source": [
    "query_string[\"resolution\"] = \"1D\"\n",
    "query_string[\"from\"] = str(datetime(2000, 1, 1).timestamp())\n",
    "query_string[\"to\"] = str(datetime.now().timestamp())"
   ]
  },
  {
   "cell_type": "code",
   "execution_count": 5,
   "metadata": {},
   "outputs": [
    {
     "data": {
      "text/plain": [
       "{'symbol': 'VNINDEX',\n",
       " 'resolution': '1D',\n",
       " 'from': '946659600.0',\n",
       " 'to': '1731551194.609363'}"
      ]
     },
     "execution_count": 5,
     "metadata": {},
     "output_type": "execute_result"
    }
   ],
   "source": [
    "query_string"
   ]
  },
  {
   "cell_type": "code",
   "execution_count": 6,
   "metadata": {},
   "outputs": [],
   "source": [
    "headers = {'accept': 'application/json, text/plain, */*',\n",
    "           'accept-encoding': 'gzip, deflate, br, zstd',\n",
    "           'accept-language': 'en-US,en;q=0.9',\n",
    "           'origin': 'https://iboard.ssi.com.vn',\n",
    "           'priority': 'u=1, i',\n",
    "           'referer': 'https://iboard.ssi.com.vn/',\n",
    "           'sec-ch-ua': '\"Not/A)Brand\";v=\"8\", \"Chromium\";v=\"126\", \"Microsoft Edge\";v=\"126\"',\n",
    "           'sec-ch-ua-mobile': '?0',\n",
    "           'sec-ch-ua-platform': '\"Windows\"',\n",
    "           'sec-fetch-dest': 'empty',\n",
    "           'sec-fetch-mode': 'cors',\n",
    "           'sec-fetch-site': 'same-site',\n",
    "           'user-agent': 'Mozilla/5.0 (Windows NT 10.0; Win64; x64) AppleWebKit/537.36 (KHTML, like Gecko) Chrome/126.0.0.0 Safari/537.36 Edg/126.0.0.0'}"
   ]
  },
  {
   "cell_type": "code",
   "execution_count": 7,
   "metadata": {},
   "outputs": [],
   "source": [
    "url_without_params = 'https://iboard-api.ssi.com.vn/statistics/charts/history'"
   ]
  },
  {
   "cell_type": "code",
   "execution_count": 8,
   "metadata": {},
   "outputs": [],
   "source": [
    "response = requests.get(\n",
    "    url=url_without_params,\n",
    "    headers=headers,\n",
    "    params=query_string\n",
    ")"
   ]
  },
  {
   "cell_type": "code",
   "execution_count": 9,
   "metadata": {},
   "outputs": [
    {
     "data": {
      "text/plain": [
       "200"
      ]
     },
     "execution_count": 9,
     "metadata": {},
     "output_type": "execute_result"
    }
   ],
   "source": [
    "response.status_code"
   ]
  },
  {
   "cell_type": "code",
   "execution_count": 10,
   "metadata": {},
   "outputs": [],
   "source": [
    "df = pd.DataFrame(response.json()[\"data\"])"
   ]
  },
  {
   "cell_type": "code",
   "execution_count": 11,
   "metadata": {},
   "outputs": [
    {
     "data": {
      "text/html": [
       "<div>\n",
       "<style scoped>\n",
       "    .dataframe tbody tr th:only-of-type {\n",
       "        vertical-align: middle;\n",
       "    }\n",
       "\n",
       "    .dataframe tbody tr th {\n",
       "        vertical-align: top;\n",
       "    }\n",
       "\n",
       "    .dataframe thead th {\n",
       "        text-align: right;\n",
       "    }\n",
       "</style>\n",
       "<table border=\"1\" class=\"dataframe\">\n",
       "  <thead>\n",
       "    <tr style=\"text-align: right;\">\n",
       "      <th></th>\n",
       "      <th>t</th>\n",
       "      <th>c</th>\n",
       "      <th>o</th>\n",
       "      <th>h</th>\n",
       "      <th>l</th>\n",
       "      <th>v</th>\n",
       "      <th>s</th>\n",
       "    </tr>\n",
       "  </thead>\n",
       "  <tbody>\n",
       "    <tr>\n",
       "      <th>0</th>\n",
       "      <td>964742400</td>\n",
       "      <td>100.00</td>\n",
       "      <td>100.00</td>\n",
       "      <td>100.00</td>\n",
       "      <td>100.00</td>\n",
       "      <td>4200</td>\n",
       "      <td>ok</td>\n",
       "    </tr>\n",
       "    <tr>\n",
       "      <th>1</th>\n",
       "      <td>965001600</td>\n",
       "      <td>101.55</td>\n",
       "      <td>101.55</td>\n",
       "      <td>101.55</td>\n",
       "      <td>101.55</td>\n",
       "      <td>10300</td>\n",
       "      <td>ok</td>\n",
       "    </tr>\n",
       "    <tr>\n",
       "      <th>2</th>\n",
       "      <td>965174400</td>\n",
       "      <td>103.38</td>\n",
       "      <td>103.38</td>\n",
       "      <td>103.38</td>\n",
       "      <td>103.38</td>\n",
       "      <td>300</td>\n",
       "      <td>ok</td>\n",
       "    </tr>\n",
       "    <tr>\n",
       "      <th>3</th>\n",
       "      <td>965347200</td>\n",
       "      <td>105.20</td>\n",
       "      <td>105.20</td>\n",
       "      <td>105.20</td>\n",
       "      <td>105.20</td>\n",
       "      <td>3800</td>\n",
       "      <td>ok</td>\n",
       "    </tr>\n",
       "    <tr>\n",
       "      <th>4</th>\n",
       "      <td>965606400</td>\n",
       "      <td>106.92</td>\n",
       "      <td>106.92</td>\n",
       "      <td>106.92</td>\n",
       "      <td>106.92</td>\n",
       "      <td>13200</td>\n",
       "      <td>ok</td>\n",
       "    </tr>\n",
       "    <tr>\n",
       "      <th>...</th>\n",
       "      <td>...</td>\n",
       "      <td>...</td>\n",
       "      <td>...</td>\n",
       "      <td>...</td>\n",
       "      <td>...</td>\n",
       "      <td>...</td>\n",
       "      <td>...</td>\n",
       "    </tr>\n",
       "    <tr>\n",
       "      <th>5902</th>\n",
       "      <td>1731024000</td>\n",
       "      <td>1252.56</td>\n",
       "      <td>1262.84</td>\n",
       "      <td>1264.09</td>\n",
       "      <td>1250.77</td>\n",
       "      <td>503244952</td>\n",
       "      <td>ok</td>\n",
       "    </tr>\n",
       "    <tr>\n",
       "      <th>5903</th>\n",
       "      <td>1731283200</td>\n",
       "      <td>1250.32</td>\n",
       "      <td>1253.81</td>\n",
       "      <td>1253.87</td>\n",
       "      <td>1241.29</td>\n",
       "      <td>712083666</td>\n",
       "      <td>ok</td>\n",
       "    </tr>\n",
       "    <tr>\n",
       "      <th>5904</th>\n",
       "      <td>1731369600</td>\n",
       "      <td>1244.82</td>\n",
       "      <td>1251.79</td>\n",
       "      <td>1257.02</td>\n",
       "      <td>1242.91</td>\n",
       "      <td>516346103</td>\n",
       "      <td>ok</td>\n",
       "    </tr>\n",
       "    <tr>\n",
       "      <th>5905</th>\n",
       "      <td>1731456000</td>\n",
       "      <td>1246.04</td>\n",
       "      <td>1242.94</td>\n",
       "      <td>1247.04</td>\n",
       "      <td>1234.62</td>\n",
       "      <td>587703568</td>\n",
       "      <td>ok</td>\n",
       "    </tr>\n",
       "    <tr>\n",
       "      <th>5906</th>\n",
       "      <td>1731542400</td>\n",
       "      <td>1243.83</td>\n",
       "      <td>1243.85</td>\n",
       "      <td>1244.58</td>\n",
       "      <td>1242.39</td>\n",
       "      <td>22237093</td>\n",
       "      <td>ok</td>\n",
       "    </tr>\n",
       "  </tbody>\n",
       "</table>\n",
       "<p>5907 rows × 7 columns</p>\n",
       "</div>"
      ],
      "text/plain": [
       "               t        c        o        h        l          v   s\n",
       "0      964742400   100.00   100.00   100.00   100.00       4200  ok\n",
       "1      965001600   101.55   101.55   101.55   101.55      10300  ok\n",
       "2      965174400   103.38   103.38   103.38   103.38        300  ok\n",
       "3      965347200   105.20   105.20   105.20   105.20       3800  ok\n",
       "4      965606400   106.92   106.92   106.92   106.92      13200  ok\n",
       "...          ...      ...      ...      ...      ...        ...  ..\n",
       "5902  1731024000  1252.56  1262.84  1264.09  1250.77  503244952  ok\n",
       "5903  1731283200  1250.32  1253.81  1253.87  1241.29  712083666  ok\n",
       "5904  1731369600  1244.82  1251.79  1257.02  1242.91  516346103  ok\n",
       "5905  1731456000  1246.04  1242.94  1247.04  1234.62  587703568  ok\n",
       "5906  1731542400  1243.83  1243.85  1244.58  1242.39   22237093  ok\n",
       "\n",
       "[5907 rows x 7 columns]"
      ]
     },
     "execution_count": 11,
     "metadata": {},
     "output_type": "execute_result"
    }
   ],
   "source": [
    "df"
   ]
  },
  {
   "cell_type": "code",
   "execution_count": 12,
   "metadata": {},
   "outputs": [],
   "source": [
    "df['t'] = pd.to_datetime(df['t'], unit='s').dt.strftime('%m-%d-%Y 00:00:00+00:00')\n",
    "df['t'] = pd.to_datetime(df['t'])"
   ]
  },
  {
   "cell_type": "code",
   "execution_count": 13,
   "metadata": {},
   "outputs": [
    {
     "data": {
      "text/html": [
       "<div>\n",
       "<style scoped>\n",
       "    .dataframe tbody tr th:only-of-type {\n",
       "        vertical-align: middle;\n",
       "    }\n",
       "\n",
       "    .dataframe tbody tr th {\n",
       "        vertical-align: top;\n",
       "    }\n",
       "\n",
       "    .dataframe thead th {\n",
       "        text-align: right;\n",
       "    }\n",
       "</style>\n",
       "<table border=\"1\" class=\"dataframe\">\n",
       "  <thead>\n",
       "    <tr style=\"text-align: right;\">\n",
       "      <th></th>\n",
       "      <th>t</th>\n",
       "      <th>c</th>\n",
       "      <th>o</th>\n",
       "      <th>h</th>\n",
       "      <th>l</th>\n",
       "      <th>v</th>\n",
       "      <th>s</th>\n",
       "    </tr>\n",
       "  </thead>\n",
       "  <tbody>\n",
       "    <tr>\n",
       "      <th>0</th>\n",
       "      <td>2000-07-28 00:00:00+00:00</td>\n",
       "      <td>100.00</td>\n",
       "      <td>100.00</td>\n",
       "      <td>100.00</td>\n",
       "      <td>100.00</td>\n",
       "      <td>4200</td>\n",
       "      <td>ok</td>\n",
       "    </tr>\n",
       "    <tr>\n",
       "      <th>1</th>\n",
       "      <td>2000-07-31 00:00:00+00:00</td>\n",
       "      <td>101.55</td>\n",
       "      <td>101.55</td>\n",
       "      <td>101.55</td>\n",
       "      <td>101.55</td>\n",
       "      <td>10300</td>\n",
       "      <td>ok</td>\n",
       "    </tr>\n",
       "    <tr>\n",
       "      <th>2</th>\n",
       "      <td>2000-08-02 00:00:00+00:00</td>\n",
       "      <td>103.38</td>\n",
       "      <td>103.38</td>\n",
       "      <td>103.38</td>\n",
       "      <td>103.38</td>\n",
       "      <td>300</td>\n",
       "      <td>ok</td>\n",
       "    </tr>\n",
       "    <tr>\n",
       "      <th>3</th>\n",
       "      <td>2000-08-04 00:00:00+00:00</td>\n",
       "      <td>105.20</td>\n",
       "      <td>105.20</td>\n",
       "      <td>105.20</td>\n",
       "      <td>105.20</td>\n",
       "      <td>3800</td>\n",
       "      <td>ok</td>\n",
       "    </tr>\n",
       "    <tr>\n",
       "      <th>4</th>\n",
       "      <td>2000-08-07 00:00:00+00:00</td>\n",
       "      <td>106.92</td>\n",
       "      <td>106.92</td>\n",
       "      <td>106.92</td>\n",
       "      <td>106.92</td>\n",
       "      <td>13200</td>\n",
       "      <td>ok</td>\n",
       "    </tr>\n",
       "    <tr>\n",
       "      <th>...</th>\n",
       "      <td>...</td>\n",
       "      <td>...</td>\n",
       "      <td>...</td>\n",
       "      <td>...</td>\n",
       "      <td>...</td>\n",
       "      <td>...</td>\n",
       "      <td>...</td>\n",
       "    </tr>\n",
       "    <tr>\n",
       "      <th>5902</th>\n",
       "      <td>2024-11-08 00:00:00+00:00</td>\n",
       "      <td>1252.56</td>\n",
       "      <td>1262.84</td>\n",
       "      <td>1264.09</td>\n",
       "      <td>1250.77</td>\n",
       "      <td>503244952</td>\n",
       "      <td>ok</td>\n",
       "    </tr>\n",
       "    <tr>\n",
       "      <th>5903</th>\n",
       "      <td>2024-11-11 00:00:00+00:00</td>\n",
       "      <td>1250.32</td>\n",
       "      <td>1253.81</td>\n",
       "      <td>1253.87</td>\n",
       "      <td>1241.29</td>\n",
       "      <td>712083666</td>\n",
       "      <td>ok</td>\n",
       "    </tr>\n",
       "    <tr>\n",
       "      <th>5904</th>\n",
       "      <td>2024-11-12 00:00:00+00:00</td>\n",
       "      <td>1244.82</td>\n",
       "      <td>1251.79</td>\n",
       "      <td>1257.02</td>\n",
       "      <td>1242.91</td>\n",
       "      <td>516346103</td>\n",
       "      <td>ok</td>\n",
       "    </tr>\n",
       "    <tr>\n",
       "      <th>5905</th>\n",
       "      <td>2024-11-13 00:00:00+00:00</td>\n",
       "      <td>1246.04</td>\n",
       "      <td>1242.94</td>\n",
       "      <td>1247.04</td>\n",
       "      <td>1234.62</td>\n",
       "      <td>587703568</td>\n",
       "      <td>ok</td>\n",
       "    </tr>\n",
       "    <tr>\n",
       "      <th>5906</th>\n",
       "      <td>2024-11-14 00:00:00+00:00</td>\n",
       "      <td>1243.83</td>\n",
       "      <td>1243.85</td>\n",
       "      <td>1244.58</td>\n",
       "      <td>1242.39</td>\n",
       "      <td>22237093</td>\n",
       "      <td>ok</td>\n",
       "    </tr>\n",
       "  </tbody>\n",
       "</table>\n",
       "<p>5907 rows × 7 columns</p>\n",
       "</div>"
      ],
      "text/plain": [
       "                             t        c        o        h        l          v  \\\n",
       "0    2000-07-28 00:00:00+00:00   100.00   100.00   100.00   100.00       4200   \n",
       "1    2000-07-31 00:00:00+00:00   101.55   101.55   101.55   101.55      10300   \n",
       "2    2000-08-02 00:00:00+00:00   103.38   103.38   103.38   103.38        300   \n",
       "3    2000-08-04 00:00:00+00:00   105.20   105.20   105.20   105.20       3800   \n",
       "4    2000-08-07 00:00:00+00:00   106.92   106.92   106.92   106.92      13200   \n",
       "...                        ...      ...      ...      ...      ...        ...   \n",
       "5902 2024-11-08 00:00:00+00:00  1252.56  1262.84  1264.09  1250.77  503244952   \n",
       "5903 2024-11-11 00:00:00+00:00  1250.32  1253.81  1253.87  1241.29  712083666   \n",
       "5904 2024-11-12 00:00:00+00:00  1244.82  1251.79  1257.02  1242.91  516346103   \n",
       "5905 2024-11-13 00:00:00+00:00  1246.04  1242.94  1247.04  1234.62  587703568   \n",
       "5906 2024-11-14 00:00:00+00:00  1243.83  1243.85  1244.58  1242.39   22237093   \n",
       "\n",
       "       s  \n",
       "0     ok  \n",
       "1     ok  \n",
       "2     ok  \n",
       "3     ok  \n",
       "4     ok  \n",
       "...   ..  \n",
       "5902  ok  \n",
       "5903  ok  \n",
       "5904  ok  \n",
       "5905  ok  \n",
       "5906  ok  \n",
       "\n",
       "[5907 rows x 7 columns]"
      ]
     },
     "execution_count": 13,
     "metadata": {},
     "output_type": "execute_result"
    }
   ],
   "source": [
    "df"
   ]
  },
  {
   "cell_type": "code",
   "execution_count": null,
   "metadata": {},
   "outputs": [],
   "source": [
    "df.rename(\n",
    "    columns={\n",
    "        \"t\": \"Date\",\n",
    "        \"c\": \"Close\",\n",
    "        \"o\": \"Open\",\n",
    "        \"h\": \"High\",\n",
    "        \"l\": \"Low\",\n",
    "        \"v\": \"Volume\"\n",
    "    },\n",
    "    inplace=True\n",
    ")\n",
    "df.drop(columns=[\"s\"], inplace=True)"
   ]
  },
  {
   "cell_type": "code",
   "execution_count": 15,
   "metadata": {},
   "outputs": [
    {
     "data": {
      "text/html": [
       "<div>\n",
       "<style scoped>\n",
       "    .dataframe tbody tr th:only-of-type {\n",
       "        vertical-align: middle;\n",
       "    }\n",
       "\n",
       "    .dataframe tbody tr th {\n",
       "        vertical-align: top;\n",
       "    }\n",
       "\n",
       "    .dataframe thead th {\n",
       "        text-align: right;\n",
       "    }\n",
       "</style>\n",
       "<table border=\"1\" class=\"dataframe\">\n",
       "  <thead>\n",
       "    <tr style=\"text-align: right;\">\n",
       "      <th></th>\n",
       "      <th>Date</th>\n",
       "      <th>Close</th>\n",
       "      <th>Open</th>\n",
       "      <th>High</th>\n",
       "      <th>Low</th>\n",
       "      <th>Volume</th>\n",
       "    </tr>\n",
       "  </thead>\n",
       "  <tbody>\n",
       "    <tr>\n",
       "      <th>0</th>\n",
       "      <td>2000-07-28 00:00:00+00:00</td>\n",
       "      <td>100.00</td>\n",
       "      <td>100.00</td>\n",
       "      <td>100.00</td>\n",
       "      <td>100.00</td>\n",
       "      <td>4200</td>\n",
       "    </tr>\n",
       "    <tr>\n",
       "      <th>1</th>\n",
       "      <td>2000-07-31 00:00:00+00:00</td>\n",
       "      <td>101.55</td>\n",
       "      <td>101.55</td>\n",
       "      <td>101.55</td>\n",
       "      <td>101.55</td>\n",
       "      <td>10300</td>\n",
       "    </tr>\n",
       "    <tr>\n",
       "      <th>2</th>\n",
       "      <td>2000-08-02 00:00:00+00:00</td>\n",
       "      <td>103.38</td>\n",
       "      <td>103.38</td>\n",
       "      <td>103.38</td>\n",
       "      <td>103.38</td>\n",
       "      <td>300</td>\n",
       "    </tr>\n",
       "    <tr>\n",
       "      <th>3</th>\n",
       "      <td>2000-08-04 00:00:00+00:00</td>\n",
       "      <td>105.20</td>\n",
       "      <td>105.20</td>\n",
       "      <td>105.20</td>\n",
       "      <td>105.20</td>\n",
       "      <td>3800</td>\n",
       "    </tr>\n",
       "    <tr>\n",
       "      <th>4</th>\n",
       "      <td>2000-08-07 00:00:00+00:00</td>\n",
       "      <td>106.92</td>\n",
       "      <td>106.92</td>\n",
       "      <td>106.92</td>\n",
       "      <td>106.92</td>\n",
       "      <td>13200</td>\n",
       "    </tr>\n",
       "    <tr>\n",
       "      <th>...</th>\n",
       "      <td>...</td>\n",
       "      <td>...</td>\n",
       "      <td>...</td>\n",
       "      <td>...</td>\n",
       "      <td>...</td>\n",
       "      <td>...</td>\n",
       "    </tr>\n",
       "    <tr>\n",
       "      <th>5902</th>\n",
       "      <td>2024-11-08 00:00:00+00:00</td>\n",
       "      <td>1252.56</td>\n",
       "      <td>1262.84</td>\n",
       "      <td>1264.09</td>\n",
       "      <td>1250.77</td>\n",
       "      <td>503244952</td>\n",
       "    </tr>\n",
       "    <tr>\n",
       "      <th>5903</th>\n",
       "      <td>2024-11-11 00:00:00+00:00</td>\n",
       "      <td>1250.32</td>\n",
       "      <td>1253.81</td>\n",
       "      <td>1253.87</td>\n",
       "      <td>1241.29</td>\n",
       "      <td>712083666</td>\n",
       "    </tr>\n",
       "    <tr>\n",
       "      <th>5904</th>\n",
       "      <td>2024-11-12 00:00:00+00:00</td>\n",
       "      <td>1244.82</td>\n",
       "      <td>1251.79</td>\n",
       "      <td>1257.02</td>\n",
       "      <td>1242.91</td>\n",
       "      <td>516346103</td>\n",
       "    </tr>\n",
       "    <tr>\n",
       "      <th>5905</th>\n",
       "      <td>2024-11-13 00:00:00+00:00</td>\n",
       "      <td>1246.04</td>\n",
       "      <td>1242.94</td>\n",
       "      <td>1247.04</td>\n",
       "      <td>1234.62</td>\n",
       "      <td>587703568</td>\n",
       "    </tr>\n",
       "    <tr>\n",
       "      <th>5906</th>\n",
       "      <td>2024-11-14 00:00:00+00:00</td>\n",
       "      <td>1243.83</td>\n",
       "      <td>1243.85</td>\n",
       "      <td>1244.58</td>\n",
       "      <td>1242.39</td>\n",
       "      <td>22237093</td>\n",
       "    </tr>\n",
       "  </tbody>\n",
       "</table>\n",
       "<p>5907 rows × 6 columns</p>\n",
       "</div>"
      ],
      "text/plain": [
       "                          Date    Close     Open     High      Low     Volume\n",
       "0    2000-07-28 00:00:00+00:00   100.00   100.00   100.00   100.00       4200\n",
       "1    2000-07-31 00:00:00+00:00   101.55   101.55   101.55   101.55      10300\n",
       "2    2000-08-02 00:00:00+00:00   103.38   103.38   103.38   103.38        300\n",
       "3    2000-08-04 00:00:00+00:00   105.20   105.20   105.20   105.20       3800\n",
       "4    2000-08-07 00:00:00+00:00   106.92   106.92   106.92   106.92      13200\n",
       "...                        ...      ...      ...      ...      ...        ...\n",
       "5902 2024-11-08 00:00:00+00:00  1252.56  1262.84  1264.09  1250.77  503244952\n",
       "5903 2024-11-11 00:00:00+00:00  1250.32  1253.81  1253.87  1241.29  712083666\n",
       "5904 2024-11-12 00:00:00+00:00  1244.82  1251.79  1257.02  1242.91  516346103\n",
       "5905 2024-11-13 00:00:00+00:00  1246.04  1242.94  1247.04  1234.62  587703568\n",
       "5906 2024-11-14 00:00:00+00:00  1243.83  1243.85  1244.58  1242.39   22237093\n",
       "\n",
       "[5907 rows x 6 columns]"
      ]
     },
     "execution_count": 15,
     "metadata": {},
     "output_type": "execute_result"
    }
   ],
   "source": [
    "df"
   ]
  },
  {
   "cell_type": "code",
   "execution_count": 16,
   "metadata": {},
   "outputs": [
    {
     "data": {
      "text/plain": [
       "Timestamp('2000-07-28 00:00:00+0000', tz='UTC')"
      ]
     },
     "execution_count": 16,
     "metadata": {},
     "output_type": "execute_result"
    }
   ],
   "source": [
    "df[\"Date\"].min()"
   ]
  },
  {
   "cell_type": "code",
   "execution_count": 17,
   "metadata": {},
   "outputs": [
    {
     "data": {
      "text/plain": [
       "Timestamp('2024-11-14 00:00:00+0000', tz='UTC')"
      ]
     },
     "execution_count": 17,
     "metadata": {},
     "output_type": "execute_result"
    }
   ],
   "source": [
    "df[\"Date\"].max()"
   ]
  },
  {
   "cell_type": "code",
   "execution_count": 18,
   "metadata": {},
   "outputs": [],
   "source": [
    "symbol = symbol.replace(\".\", \"_\").lower()"
   ]
  },
  {
   "cell_type": "code",
   "execution_count": 19,
   "metadata": {},
   "outputs": [],
   "source": [
    "min_date = df[\"Date\"].min().date()\n",
    "max_date = df[\"Date\"].max().date()\n",
    "file_name = f\"./data/{symbol}-{str(min_date)}-to-{str(max_date)}.csv\""
   ]
  },
  {
   "cell_type": "code",
   "execution_count": 20,
   "metadata": {},
   "outputs": [],
   "source": [
    "file_name = file_name.replace(\"-\", \"_\")"
   ]
  },
  {
   "cell_type": "code",
   "execution_count": 21,
   "metadata": {},
   "outputs": [
    {
     "data": {
      "text/plain": [
       "'./data/vnindex_2000_07_28_to_2024_11_14.csv'"
      ]
     },
     "execution_count": 21,
     "metadata": {},
     "output_type": "execute_result"
    }
   ],
   "source": [
    "file_name"
   ]
  },
  {
   "cell_type": "code",
   "execution_count": 22,
   "metadata": {},
   "outputs": [],
   "source": [
    "df.to_csv(file_name, index=False)"
   ]
  }
 ],
 "metadata": {
  "kernelspec": {
   "display_name": ".venv",
   "language": "python",
   "name": "python3"
  },
  "language_info": {
   "codemirror_mode": {
    "name": "ipython",
    "version": 3
   },
   "file_extension": ".py",
   "mimetype": "text/x-python",
   "name": "python",
   "nbconvert_exporter": "python",
   "pygments_lexer": "ipython3",
   "version": "3.9.7"
  }
 },
 "nbformat": 4,
 "nbformat_minor": 2
}
