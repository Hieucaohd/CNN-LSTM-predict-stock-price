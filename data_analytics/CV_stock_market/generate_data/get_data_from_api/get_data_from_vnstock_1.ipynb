{
 "cells": [
  {
   "cell_type": "code",
   "execution_count": 16,
   "metadata": {},
   "outputs": [],
   "source": [
    "import requests\n",
    "import pandas as pd\n",
    "import numpy as np\n",
    "from datetime import datetime\n",
    "import os\n",
    "from vnstock import company_officers, stock_historical_data"
   ]
  },
  {
   "cell_type": "code",
   "execution_count": 17,
   "metadata": {},
   "outputs": [],
   "source": [
    "symbol = input(\"Symbol = \")\n",
    "\n",
    "start_date = input(f\"Start date = (YYYY-MM-DD)\").strip()\n",
    "\n",
    "\n",
    "to_date = input(f\"To date = (YYYY-MM-DD)\").strip()\n",
    "\n",
    "interval = input(\"\"\"interval = \n",
    "                 \n",
    "                ONE_MINUTE = \"1\"\n",
    "                FIVE_MINUTES = \"5\"\n",
    "                FIFTEEN_MINUTES = \"15\"\n",
    "                THIRTY_MINUTES = \"30\"\n",
    "\n",
    "                ONE_HOUR = \"1H\"\n",
    "\n",
    "                ONE_DAY = \"1D\"\n",
    "                ONE_WEEK = \"1W\"\n",
    "                ONE_MONTH = \"1M\"\n",
    "                 \"\"\").strip()\n",
    "is_get_now = input(\"Get now? (y/n)\").strip().lower()[0] == \"y\""
   ]
  },
  {
   "cell_type": "code",
   "execution_count": 18,
   "metadata": {},
   "outputs": [],
   "source": [
    "df_from_vnstock = stock_historical_data(symbol=symbol, start_date=start_date, end_date=to_date, type='stock', beautify=True, decor=False, source='DNSE')"
   ]
  },
  {
   "cell_type": "code",
   "execution_count": 19,
   "metadata": {},
   "outputs": [
    {
     "data": {
      "text/html": [
       "<div>\n",
       "<style scoped>\n",
       "    .dataframe tbody tr th:only-of-type {\n",
       "        vertical-align: middle;\n",
       "    }\n",
       "\n",
       "    .dataframe tbody tr th {\n",
       "        vertical-align: top;\n",
       "    }\n",
       "\n",
       "    .dataframe thead th {\n",
       "        text-align: right;\n",
       "    }\n",
       "</style>\n",
       "<table border=\"1\" class=\"dataframe\">\n",
       "  <thead>\n",
       "    <tr style=\"text-align: right;\">\n",
       "      <th></th>\n",
       "      <th>time</th>\n",
       "      <th>open</th>\n",
       "      <th>high</th>\n",
       "      <th>low</th>\n",
       "      <th>close</th>\n",
       "      <th>volume</th>\n",
       "      <th>ticker</th>\n",
       "    </tr>\n",
       "  </thead>\n",
       "  <tbody>\n",
       "    <tr>\n",
       "      <th>0</th>\n",
       "      <td>2024-01-02</td>\n",
       "      <td>27150</td>\n",
       "      <td>27250</td>\n",
       "      <td>27050</td>\n",
       "      <td>27200</td>\n",
       "      <td>3300000</td>\n",
       "      <td>CTG</td>\n",
       "    </tr>\n",
       "    <tr>\n",
       "      <th>1</th>\n",
       "      <td>2024-01-03</td>\n",
       "      <td>27200</td>\n",
       "      <td>27600</td>\n",
       "      <td>27050</td>\n",
       "      <td>27600</td>\n",
       "      <td>3123600</td>\n",
       "      <td>CTG</td>\n",
       "    </tr>\n",
       "    <tr>\n",
       "      <th>2</th>\n",
       "      <td>2024-01-04</td>\n",
       "      <td>27650</td>\n",
       "      <td>29500</td>\n",
       "      <td>27550</td>\n",
       "      <td>28600</td>\n",
       "      <td>14693100</td>\n",
       "      <td>CTG</td>\n",
       "    </tr>\n",
       "    <tr>\n",
       "      <th>3</th>\n",
       "      <td>2024-01-05</td>\n",
       "      <td>28750</td>\n",
       "      <td>29150</td>\n",
       "      <td>28700</td>\n",
       "      <td>29000</td>\n",
       "      <td>8765200</td>\n",
       "      <td>CTG</td>\n",
       "    </tr>\n",
       "    <tr>\n",
       "      <th>4</th>\n",
       "      <td>2024-01-08</td>\n",
       "      <td>29500</td>\n",
       "      <td>29800</td>\n",
       "      <td>29050</td>\n",
       "      <td>29550</td>\n",
       "      <td>12113500</td>\n",
       "      <td>CTG</td>\n",
       "    </tr>\n",
       "    <tr>\n",
       "      <th>...</th>\n",
       "      <td>...</td>\n",
       "      <td>...</td>\n",
       "      <td>...</td>\n",
       "      <td>...</td>\n",
       "      <td>...</td>\n",
       "      <td>...</td>\n",
       "      <td>...</td>\n",
       "    </tr>\n",
       "    <tr>\n",
       "      <th>220</th>\n",
       "      <td>2024-11-20</td>\n",
       "      <td>33050</td>\n",
       "      <td>34000</td>\n",
       "      <td>33050</td>\n",
       "      <td>34000</td>\n",
       "      <td>6494000</td>\n",
       "      <td>CTG</td>\n",
       "    </tr>\n",
       "    <tr>\n",
       "      <th>221</th>\n",
       "      <td>2024-11-21</td>\n",
       "      <td>34000</td>\n",
       "      <td>35000</td>\n",
       "      <td>33600</td>\n",
       "      <td>35000</td>\n",
       "      <td>7810800</td>\n",
       "      <td>CTG</td>\n",
       "    </tr>\n",
       "    <tr>\n",
       "      <th>222</th>\n",
       "      <td>2024-11-22</td>\n",
       "      <td>34900</td>\n",
       "      <td>35200</td>\n",
       "      <td>34700</td>\n",
       "      <td>35000</td>\n",
       "      <td>6181600</td>\n",
       "      <td>CTG</td>\n",
       "    </tr>\n",
       "    <tr>\n",
       "      <th>223</th>\n",
       "      <td>2024-11-25</td>\n",
       "      <td>34950</td>\n",
       "      <td>35100</td>\n",
       "      <td>34700</td>\n",
       "      <td>35100</td>\n",
       "      <td>3824500</td>\n",
       "      <td>CTG</td>\n",
       "    </tr>\n",
       "    <tr>\n",
       "      <th>224</th>\n",
       "      <td>2024-11-26</td>\n",
       "      <td>35000</td>\n",
       "      <td>35350</td>\n",
       "      <td>34900</td>\n",
       "      <td>35300</td>\n",
       "      <td>4538800</td>\n",
       "      <td>CTG</td>\n",
       "    </tr>\n",
       "  </tbody>\n",
       "</table>\n",
       "<p>225 rows × 7 columns</p>\n",
       "</div>"
      ],
      "text/plain": [
       "           time   open   high    low  close    volume ticker\n",
       "0    2024-01-02  27150  27250  27050  27200   3300000    CTG\n",
       "1    2024-01-03  27200  27600  27050  27600   3123600    CTG\n",
       "2    2024-01-04  27650  29500  27550  28600  14693100    CTG\n",
       "3    2024-01-05  28750  29150  28700  29000   8765200    CTG\n",
       "4    2024-01-08  29500  29800  29050  29550  12113500    CTG\n",
       "..          ...    ...    ...    ...    ...       ...    ...\n",
       "220  2024-11-20  33050  34000  33050  34000   6494000    CTG\n",
       "221  2024-11-21  34000  35000  33600  35000   7810800    CTG\n",
       "222  2024-11-22  34900  35200  34700  35000   6181600    CTG\n",
       "223  2024-11-25  34950  35100  34700  35100   3824500    CTG\n",
       "224  2024-11-26  35000  35350  34900  35300   4538800    CTG\n",
       "\n",
       "[225 rows x 7 columns]"
      ]
     },
     "execution_count": 19,
     "metadata": {},
     "output_type": "execute_result"
    }
   ],
   "source": [
    "df_from_vnstock"
   ]
  },
  {
   "cell_type": "code",
   "execution_count": 20,
   "metadata": {},
   "outputs": [
    {
     "name": "stderr",
     "output_type": "stream",
     "text": [
      "C:\\Users\\ADMIN\\AppData\\Local\\Temp\\ipykernel_35420\\417069179.py:20: SettingWithCopyWarning: \n",
      "A value is trying to be set on a copy of a slice from a DataFrame.\n",
      "Try using .loc[row_indexer,col_indexer] = value instead\n",
      "\n",
      "See the caveats in the documentation: https://pandas.pydata.org/pandas-docs/stable/user_guide/indexing.html#returning-a-view-versus-a-copy\n",
      "  df_from_vnstock['Date'] = pd.to_datetime(df_from_vnstock['Date']).dt.strftime('%m-%d-%Y 00:00:00+00:00')\n",
      "C:\\Users\\ADMIN\\AppData\\Local\\Temp\\ipykernel_35420\\417069179.py:21: SettingWithCopyWarning: \n",
      "A value is trying to be set on a copy of a slice from a DataFrame.\n",
      "Try using .loc[row_indexer,col_indexer] = value instead\n",
      "\n",
      "See the caveats in the documentation: https://pandas.pydata.org/pandas-docs/stable/user_guide/indexing.html#returning-a-view-versus-a-copy\n",
      "  df_from_vnstock['Date'] = pd.to_datetime(df_from_vnstock['Date'])\n"
     ]
    }
   ],
   "source": [
    "df_from_vnstock.rename(\n",
    "    columns={\n",
    "        \"time\": \"Date\",\n",
    "        \"close\": \"Close\",\n",
    "        \"open\": \"Open\",\n",
    "        \"high\": \"High\",\n",
    "        \"low\": \"Low\",\n",
    "        \"volume\": \"Volume\"\n",
    "    },\n",
    "    inplace=True\n",
    ")\n",
    "df_from_vnstock = df_from_vnstock[[\n",
    "    \"Date\",\n",
    "    \"Close\",\n",
    "    \"Open\",\n",
    "    \"High\",\n",
    "    \"Low\",\n",
    "    \"Volume\",\n",
    "]]\n",
    "df_from_vnstock['Date'] = pd.to_datetime(df_from_vnstock['Date']).dt.strftime('%m-%d-%Y 00:00:00+00:00')\n",
    "df_from_vnstock['Date'] = pd.to_datetime(df_from_vnstock['Date'])\n"
   ]
  },
  {
   "cell_type": "code",
   "execution_count": 21,
   "metadata": {},
   "outputs": [
    {
     "name": "stderr",
     "output_type": "stream",
     "text": [
      "C:\\Users\\ADMIN\\AppData\\Local\\Temp\\ipykernel_35420\\1569936571.py:1: SettingWithCopyWarning: \n",
      "A value is trying to be set on a copy of a slice from a DataFrame.\n",
      "Try using .loc[row_indexer,col_indexer] = value instead\n",
      "\n",
      "See the caveats in the documentation: https://pandas.pydata.org/pandas-docs/stable/user_guide/indexing.html#returning-a-view-versus-a-copy\n",
      "  df_from_vnstock[\"Open\"] = df_from_vnstock[\"Open\"] / 1000\n",
      "C:\\Users\\ADMIN\\AppData\\Local\\Temp\\ipykernel_35420\\1569936571.py:2: SettingWithCopyWarning: \n",
      "A value is trying to be set on a copy of a slice from a DataFrame.\n",
      "Try using .loc[row_indexer,col_indexer] = value instead\n",
      "\n",
      "See the caveats in the documentation: https://pandas.pydata.org/pandas-docs/stable/user_guide/indexing.html#returning-a-view-versus-a-copy\n",
      "  df_from_vnstock[\"Close\"] = df_from_vnstock[\"Close\"] / 1000\n",
      "C:\\Users\\ADMIN\\AppData\\Local\\Temp\\ipykernel_35420\\1569936571.py:3: SettingWithCopyWarning: \n",
      "A value is trying to be set on a copy of a slice from a DataFrame.\n",
      "Try using .loc[row_indexer,col_indexer] = value instead\n",
      "\n",
      "See the caveats in the documentation: https://pandas.pydata.org/pandas-docs/stable/user_guide/indexing.html#returning-a-view-versus-a-copy\n",
      "  df_from_vnstock[\"High\"] = df_from_vnstock[\"High\"] / 1000\n",
      "C:\\Users\\ADMIN\\AppData\\Local\\Temp\\ipykernel_35420\\1569936571.py:4: SettingWithCopyWarning: \n",
      "A value is trying to be set on a copy of a slice from a DataFrame.\n",
      "Try using .loc[row_indexer,col_indexer] = value instead\n",
      "\n",
      "See the caveats in the documentation: https://pandas.pydata.org/pandas-docs/stable/user_guide/indexing.html#returning-a-view-versus-a-copy\n",
      "  df_from_vnstock[\"Low\"] = df_from_vnstock[\"Low\"] / 1000\n"
     ]
    }
   ],
   "source": [
    "df_from_vnstock[\"Open\"] = df_from_vnstock[\"Open\"] / 1000\n",
    "df_from_vnstock[\"Close\"] = df_from_vnstock[\"Close\"] / 1000\n",
    "df_from_vnstock[\"High\"] = df_from_vnstock[\"High\"] / 1000\n",
    "df_from_vnstock[\"Low\"] = df_from_vnstock[\"Low\"] / 1000"
   ]
  },
  {
   "cell_type": "code",
   "execution_count": 22,
   "metadata": {},
   "outputs": [
    {
     "data": {
      "text/plain": [
       "0     2024-01-02 00:00:00+00:00\n",
       "1     2024-01-03 00:00:00+00:00\n",
       "2     2024-01-04 00:00:00+00:00\n",
       "3     2024-01-05 00:00:00+00:00\n",
       "4     2024-01-08 00:00:00+00:00\n",
       "                 ...           \n",
       "220   2024-11-20 00:00:00+00:00\n",
       "221   2024-11-21 00:00:00+00:00\n",
       "222   2024-11-22 00:00:00+00:00\n",
       "223   2024-11-25 00:00:00+00:00\n",
       "224   2024-11-26 00:00:00+00:00\n",
       "Name: Date, Length: 225, dtype: datetime64[ns, UTC]"
      ]
     },
     "execution_count": 22,
     "metadata": {},
     "output_type": "execute_result"
    }
   ],
   "source": [
    "df_from_vnstock[\"Date\"]"
   ]
  },
  {
   "cell_type": "code",
   "execution_count": 23,
   "metadata": {},
   "outputs": [],
   "source": [
    "now = datetime.now().date()\n",
    "if not is_get_now:\n",
    "    df_from_vnstock = df_from_vnstock[df_from_vnstock[\"Date\"] != str(now)]"
   ]
  },
  {
   "cell_type": "code",
   "execution_count": 24,
   "metadata": {},
   "outputs": [],
   "source": [
    "symbol = symbol.replace(\".\", \"_\").lower()\n",
    "symbol = symbol.lower()\n",
    "interval = interval.lower()\n",
    "folder_save = f\"../../data/{symbol}\"\n",
    "os.makedirs(folder_save, exist_ok=True)\n",
    "file_name = f\"{folder_save}/{symbol}_to_now_{interval}.csv\"\n",
    "\n",
    "\n",
    "old_df = pd.read_csv(f\"{folder_save}/{symbol}_to_now_{interval}.csv\")\n",
    "old_df[\"Date\"] = pd.to_datetime(old_df[\"Date\"])"
   ]
  },
  {
   "cell_type": "code",
   "execution_count": 25,
   "metadata": {},
   "outputs": [],
   "source": [
    "old_df = old_df[['Open', 'High',\n",
    "                'Low', 'Close',     \n",
    "                'Volume', 'Date']]"
   ]
  },
  {
   "cell_type": "code",
   "execution_count": 26,
   "metadata": {},
   "outputs": [],
   "source": [
    "max_date_in_old_df = str(old_df[\"Date\"].max())"
   ]
  },
  {
   "cell_type": "code",
   "execution_count": 27,
   "metadata": {},
   "outputs": [],
   "source": [
    "df_today = df_from_vnstock[df_from_vnstock[\"Date\"] > max_date_in_old_df]"
   ]
  },
  {
   "cell_type": "code",
   "execution_count": 28,
   "metadata": {},
   "outputs": [],
   "source": [
    "old_df[\"Date\"] = old_df[\"Date\"].dt.date\n",
    "df_today[\"Date\"] = df_today[\"Date\"].dt.date\n",
    "df = pd.concat([old_df, df_today], ignore_index=True)\n",
    "df[\"Date\"] = pd.to_datetime(df[\"Date\"])"
   ]
  },
  {
   "cell_type": "code",
   "execution_count": 29,
   "metadata": {},
   "outputs": [
    {
     "data": {
      "text/html": [
       "<div>\n",
       "<style scoped>\n",
       "    .dataframe tbody tr th:only-of-type {\n",
       "        vertical-align: middle;\n",
       "    }\n",
       "\n",
       "    .dataframe tbody tr th {\n",
       "        vertical-align: top;\n",
       "    }\n",
       "\n",
       "    .dataframe thead th {\n",
       "        text-align: right;\n",
       "    }\n",
       "</style>\n",
       "<table border=\"1\" class=\"dataframe\">\n",
       "  <thead>\n",
       "    <tr style=\"text-align: right;\">\n",
       "      <th></th>\n",
       "      <th>Open</th>\n",
       "      <th>High</th>\n",
       "      <th>Low</th>\n",
       "      <th>Close</th>\n",
       "      <th>Volume</th>\n",
       "      <th>Date</th>\n",
       "    </tr>\n",
       "  </thead>\n",
       "  <tbody>\n",
       "    <tr>\n",
       "      <th>0</th>\n",
       "      <td>10.47</td>\n",
       "      <td>11.77</td>\n",
       "      <td>10.47</td>\n",
       "      <td>10.49</td>\n",
       "      <td>2401900</td>\n",
       "      <td>2009-07-16</td>\n",
       "    </tr>\n",
       "    <tr>\n",
       "      <th>1</th>\n",
       "      <td>10.10</td>\n",
       "      <td>10.20</td>\n",
       "      <td>9.97</td>\n",
       "      <td>9.97</td>\n",
       "      <td>1002480</td>\n",
       "      <td>2009-07-17</td>\n",
       "    </tr>\n",
       "    <tr>\n",
       "      <th>2</th>\n",
       "      <td>9.47</td>\n",
       "      <td>9.47</td>\n",
       "      <td>9.47</td>\n",
       "      <td>9.47</td>\n",
       "      <td>156560</td>\n",
       "      <td>2009-07-20</td>\n",
       "    </tr>\n",
       "    <tr>\n",
       "      <th>3</th>\n",
       "      <td>9.00</td>\n",
       "      <td>9.29</td>\n",
       "      <td>9.00</td>\n",
       "      <td>9.13</td>\n",
       "      <td>2133390</td>\n",
       "      <td>2009-07-21</td>\n",
       "    </tr>\n",
       "    <tr>\n",
       "      <th>4</th>\n",
       "      <td>9.29</td>\n",
       "      <td>9.39</td>\n",
       "      <td>9.16</td>\n",
       "      <td>9.26</td>\n",
       "      <td>949090</td>\n",
       "      <td>2009-07-22</td>\n",
       "    </tr>\n",
       "    <tr>\n",
       "      <th>...</th>\n",
       "      <td>...</td>\n",
       "      <td>...</td>\n",
       "      <td>...</td>\n",
       "      <td>...</td>\n",
       "      <td>...</td>\n",
       "      <td>...</td>\n",
       "    </tr>\n",
       "    <tr>\n",
       "      <th>3826</th>\n",
       "      <td>33.05</td>\n",
       "      <td>34.00</td>\n",
       "      <td>33.05</td>\n",
       "      <td>34.00</td>\n",
       "      <td>6494000</td>\n",
       "      <td>2024-11-20</td>\n",
       "    </tr>\n",
       "    <tr>\n",
       "      <th>3827</th>\n",
       "      <td>34.00</td>\n",
       "      <td>35.00</td>\n",
       "      <td>33.60</td>\n",
       "      <td>35.00</td>\n",
       "      <td>7810800</td>\n",
       "      <td>2024-11-21</td>\n",
       "    </tr>\n",
       "    <tr>\n",
       "      <th>3828</th>\n",
       "      <td>34.90</td>\n",
       "      <td>35.20</td>\n",
       "      <td>34.70</td>\n",
       "      <td>35.00</td>\n",
       "      <td>6181600</td>\n",
       "      <td>2024-11-22</td>\n",
       "    </tr>\n",
       "    <tr>\n",
       "      <th>3829</th>\n",
       "      <td>34.95</td>\n",
       "      <td>35.10</td>\n",
       "      <td>34.70</td>\n",
       "      <td>35.10</td>\n",
       "      <td>3824500</td>\n",
       "      <td>2024-11-25</td>\n",
       "    </tr>\n",
       "    <tr>\n",
       "      <th>3830</th>\n",
       "      <td>35.00</td>\n",
       "      <td>35.35</td>\n",
       "      <td>34.90</td>\n",
       "      <td>35.30</td>\n",
       "      <td>4538800</td>\n",
       "      <td>2024-11-26</td>\n",
       "    </tr>\n",
       "  </tbody>\n",
       "</table>\n",
       "<p>3831 rows × 6 columns</p>\n",
       "</div>"
      ],
      "text/plain": [
       "       Open   High    Low  Close   Volume       Date\n",
       "0     10.47  11.77  10.47  10.49  2401900 2009-07-16\n",
       "1     10.10  10.20   9.97   9.97  1002480 2009-07-17\n",
       "2      9.47   9.47   9.47   9.47   156560 2009-07-20\n",
       "3      9.00   9.29   9.00   9.13  2133390 2009-07-21\n",
       "4      9.29   9.39   9.16   9.26   949090 2009-07-22\n",
       "...     ...    ...    ...    ...      ...        ...\n",
       "3826  33.05  34.00  33.05  34.00  6494000 2024-11-20\n",
       "3827  34.00  35.00  33.60  35.00  7810800 2024-11-21\n",
       "3828  34.90  35.20  34.70  35.00  6181600 2024-11-22\n",
       "3829  34.95  35.10  34.70  35.10  3824500 2024-11-25\n",
       "3830  35.00  35.35  34.90  35.30  4538800 2024-11-26\n",
       "\n",
       "[3831 rows x 6 columns]"
      ]
     },
     "execution_count": 29,
     "metadata": {},
     "output_type": "execute_result"
    }
   ],
   "source": [
    "df"
   ]
  },
  {
   "cell_type": "code",
   "execution_count": 30,
   "metadata": {},
   "outputs": [],
   "source": [
    "file_name = file_name.replace(\"-\", \"_\")"
   ]
  },
  {
   "cell_type": "code",
   "execution_count": 31,
   "metadata": {},
   "outputs": [
    {
     "data": {
      "text/plain": [
       "'../../data/ctg/ctg_to_now_1d.csv'"
      ]
     },
     "execution_count": 31,
     "metadata": {},
     "output_type": "execute_result"
    }
   ],
   "source": [
    "file_name"
   ]
  },
  {
   "cell_type": "code",
   "execution_count": 32,
   "metadata": {},
   "outputs": [],
   "source": [
    "df_from_vnstock.to_csv(file_name, index=False)"
   ]
  }
 ],
 "metadata": {
  "kernelspec": {
   "display_name": ".venv",
   "language": "python",
   "name": "python3"
  },
  "language_info": {
   "codemirror_mode": {
    "name": "ipython",
    "version": 3
   },
   "file_extension": ".py",
   "mimetype": "text/x-python",
   "name": "python",
   "nbconvert_exporter": "python",
   "pygments_lexer": "ipython3",
   "version": "3.9.7"
  }
 },
 "nbformat": 4,
 "nbformat_minor": 2
}
