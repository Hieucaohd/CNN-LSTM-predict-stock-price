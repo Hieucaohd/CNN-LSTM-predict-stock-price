{
 "cells": [
  {
   "cell_type": "code",
   "execution_count": 58,
   "metadata": {},
   "outputs": [],
   "source": [
    "from mexc_sdk import Spot\n",
    "import os \n",
    "from dotenv import load_dotenv\n",
    "import pandas as pd\n",
    "import numpy as np\n",
    "from datetime import datetime"
   ]
  },
  {
   "cell_type": "code",
   "execution_count": 59,
   "metadata": {},
   "outputs": [],
   "source": [
    "now = datetime.now().date()"
   ]
  },
  {
   "cell_type": "code",
   "execution_count": 60,
   "metadata": {},
   "outputs": [],
   "source": [
    "symbol = input(\"Symbol = \")\n",
    "folder_save = f\"../../data/{symbol}\"\n",
    "\n",
    "is_quick_get = input(\"is quick get? (y/n)\").strip().lower() == \"y\"\n",
    "if is_quick_get:\n",
    "    start_date = f\"{now.year}-01-01\"\n",
    "else:\n",
    "    start_date = input(\"start date? (YYYY-MM-DD)\").strip().lower()\n",
    "\n",
    "to_date = str(now)\n",
    "\n",
    "is_get_now = input(\"Get now? (y/n)\").strip().lower()[0] == \"y\"\n",
    "concanate_with_old = input(\"concanate with old data? (y/n)\").strip().lower()[0] == \"y\"\n",
    "\n",
    "interval = input(\"\"\"interval = \n",
    "                 \n",
    "                \"1m\" - \"1 minute\"\n",
    "                \"5m\" - \"5 minute\"\n",
    "                \"15m\" - \"15 minute\"\n",
    "                \"30m\" - \"30 minute\"\n",
    "                \"60m\" - \"60 minute\"\n",
    "                \"4h\" - \"4 hour\"\n",
    "                \"1d\" - \"1 day\"\n",
    "                \"1W\" - \"1 week\"\n",
    "                \"1M\" - \"1 month\"\n",
    "                 \"\"\").strip()"
   ]
  },
  {
   "cell_type": "code",
   "execution_count": 61,
   "metadata": {},
   "outputs": [
    {
     "data": {
      "text/plain": [
       "True"
      ]
     },
     "execution_count": 61,
     "metadata": {},
     "output_type": "execute_result"
    }
   ],
   "source": [
    "load_dotenv(dotenv_path=\"./apikey.txt\")"
   ]
  },
  {
   "cell_type": "code",
   "execution_count": 62,
   "metadata": {},
   "outputs": [],
   "source": [
    "access_key = os.getenv(\"access_key\")\n",
    "secret_key = os.getenv(\"secret_key\")"
   ]
  },
  {
   "cell_type": "code",
   "execution_count": 63,
   "metadata": {},
   "outputs": [],
   "source": [
    "spot = Spot(api_key=access_key, api_secret=secret_key)"
   ]
  },
  {
   "cell_type": "code",
   "execution_count": 64,
   "metadata": {},
   "outputs": [],
   "source": [
    "data_from_mexc = spot.klines(symbol.upper() + \"USDT\", interval=interval, \n",
    "    # options={\n",
    "    #     \"startTime\": start_date,\n",
    "    #     \"endTime\": to_date\n",
    "    # }\n",
    "    )"
   ]
  },
  {
   "cell_type": "code",
   "execution_count": 65,
   "metadata": {},
   "outputs": [],
   "source": [
    "df_origin_mexc = pd.DataFrame(data_from_mexc)"
   ]
  },
  {
   "cell_type": "code",
   "execution_count": 66,
   "metadata": {},
   "outputs": [
    {
     "data": {
      "text/plain": [
       "RangeIndex(start=0, stop=8, step=1)"
      ]
     },
     "execution_count": 66,
     "metadata": {},
     "output_type": "execute_result"
    }
   ],
   "source": [
    "df_origin_mexc.columns"
   ]
  },
  {
   "cell_type": "code",
   "execution_count": 67,
   "metadata": {},
   "outputs": [],
   "source": [
    "df_origin_mexc[\"Date\"] = pd.to_datetime(df_origin_mexc.iloc[:, 0], unit=\"ms\")"
   ]
  },
  {
   "cell_type": "code",
   "execution_count": 68,
   "metadata": {},
   "outputs": [],
   "source": [
    "mapping_prices = {1: \"Open\",\n",
    "                  2: \"High\",\n",
    "                  3: \"Low\",\n",
    "                  4: \"Close\",\n",
    "                  5: \"Volume\", }"
   ]
  },
  {
   "cell_type": "code",
   "execution_count": 69,
   "metadata": {},
   "outputs": [],
   "source": [
    "for index in mapping_prices:\n",
    "    df_origin_mexc[mapping_prices[index]] = df_origin_mexc.iloc[:, index]"
   ]
  },
  {
   "cell_type": "code",
   "execution_count": 70,
   "metadata": {},
   "outputs": [],
   "source": [
    "df_from_mexc = df_origin_mexc[['Open', 'High',\n",
    "                'Low', 'Close',     \n",
    "                'Volume', 'Date']]"
   ]
  },
  {
   "cell_type": "code",
   "execution_count": 71,
   "metadata": {},
   "outputs": [],
   "source": [
    "now = datetime.now().date()"
   ]
  },
  {
   "cell_type": "code",
   "execution_count": 72,
   "metadata": {},
   "outputs": [
    {
     "data": {
      "text/plain": [
       "datetime.date(2024, 12, 1)"
      ]
     },
     "execution_count": 72,
     "metadata": {},
     "output_type": "execute_result"
    }
   ],
   "source": [
    "now"
   ]
  },
  {
   "cell_type": "code",
   "execution_count": 73,
   "metadata": {},
   "outputs": [
    {
     "data": {
      "text/html": [
       "<div>\n",
       "<style scoped>\n",
       "    .dataframe tbody tr th:only-of-type {\n",
       "        vertical-align: middle;\n",
       "    }\n",
       "\n",
       "    .dataframe tbody tr th {\n",
       "        vertical-align: top;\n",
       "    }\n",
       "\n",
       "    .dataframe thead th {\n",
       "        text-align: right;\n",
       "    }\n",
       "</style>\n",
       "<table border=\"1\" class=\"dataframe\">\n",
       "  <thead>\n",
       "    <tr style=\"text-align: right;\">\n",
       "      <th></th>\n",
       "      <th>Open</th>\n",
       "      <th>High</th>\n",
       "      <th>Low</th>\n",
       "      <th>Close</th>\n",
       "      <th>Volume</th>\n",
       "      <th>Date</th>\n",
       "    </tr>\n",
       "  </thead>\n",
       "  <tbody>\n",
       "    <tr>\n",
       "      <th>0</th>\n",
       "      <td>1891.59</td>\n",
       "      <td>1905.6</td>\n",
       "      <td>1884.64</td>\n",
       "      <td>1891.73</td>\n",
       "      <td>33691.2519</td>\n",
       "      <td>2023-07-21</td>\n",
       "    </tr>\n",
       "    <tr>\n",
       "      <th>1</th>\n",
       "      <td>1891.73</td>\n",
       "      <td>1897.34</td>\n",
       "      <td>1852.27</td>\n",
       "      <td>1866.52</td>\n",
       "      <td>19609.70144</td>\n",
       "      <td>2023-07-22</td>\n",
       "    </tr>\n",
       "    <tr>\n",
       "      <th>2</th>\n",
       "      <td>1866.52</td>\n",
       "      <td>1905</td>\n",
       "      <td>1858.4</td>\n",
       "      <td>1888.74</td>\n",
       "      <td>26057.72458</td>\n",
       "      <td>2023-07-23</td>\n",
       "    </tr>\n",
       "    <tr>\n",
       "      <th>3</th>\n",
       "      <td>1888.74</td>\n",
       "      <td>1890.86</td>\n",
       "      <td>1834.46</td>\n",
       "      <td>1850</td>\n",
       "      <td>39554.46865</td>\n",
       "      <td>2023-07-24</td>\n",
       "    </tr>\n",
       "    <tr>\n",
       "      <th>4</th>\n",
       "      <td>1850</td>\n",
       "      <td>1868.42</td>\n",
       "      <td>1845.45</td>\n",
       "      <td>1857.66</td>\n",
       "      <td>32669.27774</td>\n",
       "      <td>2023-07-25</td>\n",
       "    </tr>\n",
       "    <tr>\n",
       "      <th>...</th>\n",
       "      <td>...</td>\n",
       "      <td>...</td>\n",
       "      <td>...</td>\n",
       "      <td>...</td>\n",
       "      <td>...</td>\n",
       "      <td>...</td>\n",
       "    </tr>\n",
       "    <tr>\n",
       "      <th>495</th>\n",
       "      <td>3324.74</td>\n",
       "      <td>3684.84</td>\n",
       "      <td>3302.66</td>\n",
       "      <td>3653.29</td>\n",
       "      <td>191802.24952</td>\n",
       "      <td>2024-11-27</td>\n",
       "    </tr>\n",
       "    <tr>\n",
       "      <th>496</th>\n",
       "      <td>3653.29</td>\n",
       "      <td>3661.72</td>\n",
       "      <td>3529.76</td>\n",
       "      <td>3578.33</td>\n",
       "      <td>157640.01591</td>\n",
       "      <td>2024-11-28</td>\n",
       "    </tr>\n",
       "    <tr>\n",
       "      <th>497</th>\n",
       "      <td>3578.33</td>\n",
       "      <td>3645.67</td>\n",
       "      <td>3534.97</td>\n",
       "      <td>3592.22</td>\n",
       "      <td>172687.94079</td>\n",
       "      <td>2024-11-29</td>\n",
       "    </tr>\n",
       "    <tr>\n",
       "      <th>498</th>\n",
       "      <td>3592.22</td>\n",
       "      <td>3738.98</td>\n",
       "      <td>3569</td>\n",
       "      <td>3703.59</td>\n",
       "      <td>189472.0092</td>\n",
       "      <td>2024-11-30</td>\n",
       "    </tr>\n",
       "    <tr>\n",
       "      <th>499</th>\n",
       "      <td>3703.59</td>\n",
       "      <td>3731.17</td>\n",
       "      <td>3659.19</td>\n",
       "      <td>3695.87</td>\n",
       "      <td>170214.93726</td>\n",
       "      <td>2024-12-01</td>\n",
       "    </tr>\n",
       "  </tbody>\n",
       "</table>\n",
       "<p>500 rows × 6 columns</p>\n",
       "</div>"
      ],
      "text/plain": [
       "        Open     High      Low    Close        Volume       Date\n",
       "0    1891.59   1905.6  1884.64  1891.73    33691.2519 2023-07-21\n",
       "1    1891.73  1897.34  1852.27  1866.52   19609.70144 2023-07-22\n",
       "2    1866.52     1905   1858.4  1888.74   26057.72458 2023-07-23\n",
       "3    1888.74  1890.86  1834.46     1850   39554.46865 2023-07-24\n",
       "4       1850  1868.42  1845.45  1857.66   32669.27774 2023-07-25\n",
       "..       ...      ...      ...      ...           ...        ...\n",
       "495  3324.74  3684.84  3302.66  3653.29  191802.24952 2024-11-27\n",
       "496  3653.29  3661.72  3529.76  3578.33  157640.01591 2024-11-28\n",
       "497  3578.33  3645.67  3534.97  3592.22  172687.94079 2024-11-29\n",
       "498  3592.22  3738.98     3569  3703.59   189472.0092 2024-11-30\n",
       "499  3703.59  3731.17  3659.19  3695.87  170214.93726 2024-12-01\n",
       "\n",
       "[500 rows x 6 columns]"
      ]
     },
     "execution_count": 73,
     "metadata": {},
     "output_type": "execute_result"
    }
   ],
   "source": [
    "df_from_mexc"
   ]
  },
  {
   "cell_type": "code",
   "execution_count": 74,
   "metadata": {},
   "outputs": [],
   "source": [
    "if not is_get_now:\n",
    "    df_from_mexc = df_from_mexc[df_from_mexc[\"Date\"] != str(now)]"
   ]
  },
  {
   "cell_type": "code",
   "execution_count": 75,
   "metadata": {},
   "outputs": [],
   "source": [
    "if concanate_with_old:\n",
    "    old_df = pd.read_csv(f\"{folder_save}/{symbol.lower()}_to_now_{interval.lower()}.csv\")\n",
    "    old_df[\"Date\"] = pd.to_datetime(old_df[\"Date\"])\n",
    "    old_df = old_df[['Open', 'High',\n",
    "                'Low', 'Close',     \n",
    "                'Volume', 'Date']]\n",
    "    max_date_in_old_df = str(old_df[\"Date\"].max())\n",
    "    df_today = df_from_mexc[df_from_mexc[\"Date\"] > max_date_in_old_df]\n",
    "else:\n",
    "    df_today = df_from_mexc\n"
   ]
  },
  {
   "cell_type": "code",
   "execution_count": 76,
   "metadata": {},
   "outputs": [
    {
     "name": "stderr",
     "output_type": "stream",
     "text": [
      "C:\\Users\\ADMIN\\AppData\\Local\\Temp\\ipykernel_26596\\1533491661.py:1: SettingWithCopyWarning: \n",
      "A value is trying to be set on a copy of a slice from a DataFrame.\n",
      "Try using .loc[row_indexer,col_indexer] = value instead\n",
      "\n",
      "See the caveats in the documentation: https://pandas.pydata.org/pandas-docs/stable/user_guide/indexing.html#returning-a-view-versus-a-copy\n",
      "  df_today[\"Date\"] = df_today[\"Date\"].dt.date\n",
      "C:\\Users\\ADMIN\\AppData\\Local\\Temp\\ipykernel_26596\\1533491661.py:7: SettingWithCopyWarning: \n",
      "A value is trying to be set on a copy of a slice from a DataFrame.\n",
      "Try using .loc[row_indexer,col_indexer] = value instead\n",
      "\n",
      "See the caveats in the documentation: https://pandas.pydata.org/pandas-docs/stable/user_guide/indexing.html#returning-a-view-versus-a-copy\n",
      "  df[\"Date\"] = pd.to_datetime(df[\"Date\"])\n"
     ]
    }
   ],
   "source": [
    "df_today[\"Date\"] = df_today[\"Date\"].dt.date\n",
    "if concanate_with_old:\n",
    "    old_df[\"Date\"] = old_df[\"Date\"].dt.date\n",
    "    df = pd.concat([old_df, df_today], ignore_index=True)\n",
    "else:\n",
    "    df = df_today\n",
    "df[\"Date\"] = pd.to_datetime(df[\"Date\"])"
   ]
  },
  {
   "cell_type": "code",
   "execution_count": 77,
   "metadata": {},
   "outputs": [
    {
     "data": {
      "text/html": [
       "<div>\n",
       "<style scoped>\n",
       "    .dataframe tbody tr th:only-of-type {\n",
       "        vertical-align: middle;\n",
       "    }\n",
       "\n",
       "    .dataframe tbody tr th {\n",
       "        vertical-align: top;\n",
       "    }\n",
       "\n",
       "    .dataframe thead th {\n",
       "        text-align: right;\n",
       "    }\n",
       "</style>\n",
       "<table border=\"1\" class=\"dataframe\">\n",
       "  <thead>\n",
       "    <tr style=\"text-align: right;\">\n",
       "      <th></th>\n",
       "      <th>Open</th>\n",
       "      <th>High</th>\n",
       "      <th>Low</th>\n",
       "      <th>Close</th>\n",
       "      <th>Volume</th>\n",
       "      <th>Date</th>\n",
       "    </tr>\n",
       "  </thead>\n",
       "  <tbody>\n",
       "    <tr>\n",
       "      <th>0</th>\n",
       "      <td>1891.59</td>\n",
       "      <td>1905.6</td>\n",
       "      <td>1884.64</td>\n",
       "      <td>1891.73</td>\n",
       "      <td>33691.2519</td>\n",
       "      <td>2023-07-21</td>\n",
       "    </tr>\n",
       "    <tr>\n",
       "      <th>1</th>\n",
       "      <td>1891.73</td>\n",
       "      <td>1897.34</td>\n",
       "      <td>1852.27</td>\n",
       "      <td>1866.52</td>\n",
       "      <td>19609.70144</td>\n",
       "      <td>2023-07-22</td>\n",
       "    </tr>\n",
       "    <tr>\n",
       "      <th>2</th>\n",
       "      <td>1866.52</td>\n",
       "      <td>1905</td>\n",
       "      <td>1858.4</td>\n",
       "      <td>1888.74</td>\n",
       "      <td>26057.72458</td>\n",
       "      <td>2023-07-23</td>\n",
       "    </tr>\n",
       "    <tr>\n",
       "      <th>3</th>\n",
       "      <td>1888.74</td>\n",
       "      <td>1890.86</td>\n",
       "      <td>1834.46</td>\n",
       "      <td>1850</td>\n",
       "      <td>39554.46865</td>\n",
       "      <td>2023-07-24</td>\n",
       "    </tr>\n",
       "    <tr>\n",
       "      <th>4</th>\n",
       "      <td>1850</td>\n",
       "      <td>1868.42</td>\n",
       "      <td>1845.45</td>\n",
       "      <td>1857.66</td>\n",
       "      <td>32669.27774</td>\n",
       "      <td>2023-07-25</td>\n",
       "    </tr>\n",
       "    <tr>\n",
       "      <th>...</th>\n",
       "      <td>...</td>\n",
       "      <td>...</td>\n",
       "      <td>...</td>\n",
       "      <td>...</td>\n",
       "      <td>...</td>\n",
       "      <td>...</td>\n",
       "    </tr>\n",
       "    <tr>\n",
       "      <th>494</th>\n",
       "      <td>3415.08</td>\n",
       "      <td>3462.34</td>\n",
       "      <td>3253</td>\n",
       "      <td>3324.74</td>\n",
       "      <td>200489.11075</td>\n",
       "      <td>2024-11-26</td>\n",
       "    </tr>\n",
       "    <tr>\n",
       "      <th>495</th>\n",
       "      <td>3324.74</td>\n",
       "      <td>3684.84</td>\n",
       "      <td>3302.66</td>\n",
       "      <td>3653.29</td>\n",
       "      <td>191802.24952</td>\n",
       "      <td>2024-11-27</td>\n",
       "    </tr>\n",
       "    <tr>\n",
       "      <th>496</th>\n",
       "      <td>3653.29</td>\n",
       "      <td>3661.72</td>\n",
       "      <td>3529.76</td>\n",
       "      <td>3578.33</td>\n",
       "      <td>157640.01591</td>\n",
       "      <td>2024-11-28</td>\n",
       "    </tr>\n",
       "    <tr>\n",
       "      <th>497</th>\n",
       "      <td>3578.33</td>\n",
       "      <td>3645.67</td>\n",
       "      <td>3534.97</td>\n",
       "      <td>3592.22</td>\n",
       "      <td>172687.94079</td>\n",
       "      <td>2024-11-29</td>\n",
       "    </tr>\n",
       "    <tr>\n",
       "      <th>498</th>\n",
       "      <td>3592.22</td>\n",
       "      <td>3738.98</td>\n",
       "      <td>3569</td>\n",
       "      <td>3703.59</td>\n",
       "      <td>189472.0092</td>\n",
       "      <td>2024-11-30</td>\n",
       "    </tr>\n",
       "  </tbody>\n",
       "</table>\n",
       "<p>499 rows × 6 columns</p>\n",
       "</div>"
      ],
      "text/plain": [
       "        Open     High      Low    Close        Volume       Date\n",
       "0    1891.59   1905.6  1884.64  1891.73    33691.2519 2023-07-21\n",
       "1    1891.73  1897.34  1852.27  1866.52   19609.70144 2023-07-22\n",
       "2    1866.52     1905   1858.4  1888.74   26057.72458 2023-07-23\n",
       "3    1888.74  1890.86  1834.46     1850   39554.46865 2023-07-24\n",
       "4       1850  1868.42  1845.45  1857.66   32669.27774 2023-07-25\n",
       "..       ...      ...      ...      ...           ...        ...\n",
       "494  3415.08  3462.34     3253  3324.74  200489.11075 2024-11-26\n",
       "495  3324.74  3684.84  3302.66  3653.29  191802.24952 2024-11-27\n",
       "496  3653.29  3661.72  3529.76  3578.33  157640.01591 2024-11-28\n",
       "497  3578.33  3645.67  3534.97  3592.22  172687.94079 2024-11-29\n",
       "498  3592.22  3738.98     3569  3703.59   189472.0092 2024-11-30\n",
       "\n",
       "[499 rows x 6 columns]"
      ]
     },
     "execution_count": 77,
     "metadata": {},
     "output_type": "execute_result"
    }
   ],
   "source": [
    "df"
   ]
  },
  {
   "cell_type": "code",
   "execution_count": 78,
   "metadata": {},
   "outputs": [],
   "source": [
    "symbol = symbol.replace(\".\", \"_\").lower()"
   ]
  },
  {
   "cell_type": "code",
   "execution_count": 79,
   "metadata": {},
   "outputs": [],
   "source": [
    "min_date = df[\"Date\"].min().date()\n",
    "max_date = df[\"Date\"].max().date()\n",
    "\n",
    "os.makedirs(folder_save, exist_ok=True)\n",
    "file_name = f\"{folder_save}/{symbol}_to_now_{interval.lower()}.csv\""
   ]
  },
  {
   "cell_type": "code",
   "execution_count": 80,
   "metadata": {},
   "outputs": [],
   "source": [
    "file_name = file_name.replace(\"-\", \"_\")"
   ]
  },
  {
   "cell_type": "code",
   "execution_count": 81,
   "metadata": {},
   "outputs": [
    {
     "data": {
      "text/plain": [
       "'../../data/eth/eth_to_now_1d.csv'"
      ]
     },
     "execution_count": 81,
     "metadata": {},
     "output_type": "execute_result"
    }
   ],
   "source": [
    "file_name"
   ]
  },
  {
   "cell_type": "code",
   "execution_count": 82,
   "metadata": {},
   "outputs": [],
   "source": [
    "df.to_csv(file_name, index=False)"
   ]
  }
 ],
 "metadata": {
  "kernelspec": {
   "display_name": ".venv",
   "language": "python",
   "name": "python3"
  },
  "language_info": {
   "codemirror_mode": {
    "name": "ipython",
    "version": 3
   },
   "file_extension": ".py",
   "mimetype": "text/x-python",
   "name": "python",
   "nbconvert_exporter": "python",
   "pygments_lexer": "ipython3",
   "version": "3.9.7"
  }
 },
 "nbformat": 4,
 "nbformat_minor": 2
}
