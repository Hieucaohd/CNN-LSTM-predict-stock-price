{
 "cells": [
  {
   "cell_type": "code",
   "execution_count": 30,
   "metadata": {},
   "outputs": [],
   "source": [
    "from mexc_sdk import Spot\n",
    "import os \n",
    "from dotenv import load_dotenv\n",
    "import pandas as pd\n",
    "import numpy as np\n",
    "from datetime import datetime"
   ]
  },
  {
   "cell_type": "code",
   "execution_count": 31,
   "metadata": {},
   "outputs": [],
   "source": [
    "now = datetime.now().date()"
   ]
  },
  {
   "cell_type": "code",
   "execution_count": 32,
   "metadata": {},
   "outputs": [],
   "source": [
    "symbol = input(\"Symbol = \")\n",
    "folder_save = f\"../../data/{symbol}\"\n",
    "\n",
    "is_quick_get = input(\"is quick get? (y/n)\").strip().lower() == \"y\"\n",
    "if is_quick_get:\n",
    "    start_date = f\"{now.year}-01-01\"\n",
    "else:\n",
    "    start_date = input(\"start date? (YYYY-MM-DD)\").strip().lower()\n",
    "\n",
    "to_date = str(now)\n",
    "\n",
    "is_get_now = input(\"Get now? (y/n)\").strip().lower()[0] == \"y\"\n",
    "concanate_with_old = input(\"concanate with old data? (y/n)\").strip().lower()[0] == \"y\"\n",
    "\n",
    "interval = input(\"\"\"interval = \n",
    "                 \n",
    "                \"1m\" - \"1 minute\"\n",
    "                \"5m\" - \"5 minute\"\n",
    "                \"15m\" - \"15 minute\"\n",
    "                \"30m\" - \"30 minute\"\n",
    "                \"60m\" - \"60 minute\"\n",
    "                \"4h\" - \"4 hour\"\n",
    "                \"1d\" - \"1 day\"\n",
    "                \"1W\" - \"1 week\"\n",
    "                \"1M\" - \"1 month\"\n",
    "                 \"\"\").strip()"
   ]
  },
  {
   "cell_type": "code",
   "execution_count": 33,
   "metadata": {},
   "outputs": [
    {
     "data": {
      "text/plain": [
       "True"
      ]
     },
     "execution_count": 33,
     "metadata": {},
     "output_type": "execute_result"
    }
   ],
   "source": [
    "load_dotenv(dotenv_path=\"./apikey.txt\")"
   ]
  },
  {
   "cell_type": "code",
   "execution_count": 34,
   "metadata": {},
   "outputs": [],
   "source": [
    "access_key = os.getenv(\"access_key\")\n",
    "secret_key = os.getenv(\"secret_key\")"
   ]
  },
  {
   "cell_type": "code",
   "execution_count": 35,
   "metadata": {},
   "outputs": [],
   "source": [
    "spot = Spot(api_key=access_key, api_secret=secret_key)"
   ]
  },
  {
   "cell_type": "code",
   "execution_count": 36,
   "metadata": {},
   "outputs": [],
   "source": [
    "data_from_mexc = spot.klines(symbol.upper() + \"USDT\", interval=interval, \n",
    "    # options={\n",
    "    #     \"startTime\": start_date,\n",
    "    #     \"endTime\": to_date\n",
    "    # }\n",
    "    )"
   ]
  },
  {
   "cell_type": "code",
   "execution_count": 37,
   "metadata": {},
   "outputs": [],
   "source": [
    "df_origin_mexc = pd.DataFrame(data_from_mexc)"
   ]
  },
  {
   "cell_type": "code",
   "execution_count": 38,
   "metadata": {},
   "outputs": [
    {
     "data": {
      "text/plain": [
       "RangeIndex(start=0, stop=8, step=1)"
      ]
     },
     "execution_count": 38,
     "metadata": {},
     "output_type": "execute_result"
    }
   ],
   "source": [
    "df_origin_mexc.columns"
   ]
  },
  {
   "cell_type": "code",
   "execution_count": 39,
   "metadata": {},
   "outputs": [],
   "source": [
    "df_origin_mexc[\"Date\"] = pd.to_datetime(df_origin_mexc.iloc[:, 0], unit=\"ms\")"
   ]
  },
  {
   "cell_type": "code",
   "execution_count": 40,
   "metadata": {},
   "outputs": [],
   "source": [
    "mapping_prices = {1: \"Open\",\n",
    "                  2: \"High\",\n",
    "                  3: \"Low\",\n",
    "                  4: \"Close\",\n",
    "                  5: \"Volume\", }"
   ]
  },
  {
   "cell_type": "code",
   "execution_count": 41,
   "metadata": {},
   "outputs": [],
   "source": [
    "for index in mapping_prices:\n",
    "    df_origin_mexc[mapping_prices[index]] = df_origin_mexc.iloc[:, index]"
   ]
  },
  {
   "cell_type": "code",
   "execution_count": 42,
   "metadata": {},
   "outputs": [],
   "source": [
    "df_from_mexc = df_origin_mexc[['Open', 'High',\n",
    "                'Low', 'Close',     \n",
    "                'Volume', 'Date']]"
   ]
  },
  {
   "cell_type": "code",
   "execution_count": 43,
   "metadata": {},
   "outputs": [],
   "source": [
    "now = datetime.now().date()"
   ]
  },
  {
   "cell_type": "code",
   "execution_count": 44,
   "metadata": {},
   "outputs": [
    {
     "data": {
      "text/plain": [
       "datetime.date(2024, 12, 2)"
      ]
     },
     "execution_count": 44,
     "metadata": {},
     "output_type": "execute_result"
    }
   ],
   "source": [
    "now"
   ]
  },
  {
   "cell_type": "code",
   "execution_count": 45,
   "metadata": {},
   "outputs": [
    {
     "data": {
      "text/html": [
       "<div>\n",
       "<style scoped>\n",
       "    .dataframe tbody tr th:only-of-type {\n",
       "        vertical-align: middle;\n",
       "    }\n",
       "\n",
       "    .dataframe tbody tr th {\n",
       "        vertical-align: top;\n",
       "    }\n",
       "\n",
       "    .dataframe thead th {\n",
       "        text-align: right;\n",
       "    }\n",
       "</style>\n",
       "<table border=\"1\" class=\"dataframe\">\n",
       "  <thead>\n",
       "    <tr style=\"text-align: right;\">\n",
       "      <th></th>\n",
       "      <th>Open</th>\n",
       "      <th>High</th>\n",
       "      <th>Low</th>\n",
       "      <th>Close</th>\n",
       "      <th>Volume</th>\n",
       "      <th>Date</th>\n",
       "    </tr>\n",
       "  </thead>\n",
       "  <tbody>\n",
       "    <tr>\n",
       "      <th>0</th>\n",
       "      <td>29901.71</td>\n",
       "      <td>29998.99</td>\n",
       "      <td>29622.24</td>\n",
       "      <td>29794</td>\n",
       "      <td>1956.832041</td>\n",
       "      <td>2023-07-22</td>\n",
       "    </tr>\n",
       "    <tr>\n",
       "      <th>1</th>\n",
       "      <td>29794</td>\n",
       "      <td>30350</td>\n",
       "      <td>29730.01</td>\n",
       "      <td>30083.76</td>\n",
       "      <td>2999.126007</td>\n",
       "      <td>2023-07-23</td>\n",
       "    </tr>\n",
       "    <tr>\n",
       "      <th>2</th>\n",
       "      <td>30083.76</td>\n",
       "      <td>30099.58</td>\n",
       "      <td>28867</td>\n",
       "      <td>29176.5</td>\n",
       "      <td>5278.560984</td>\n",
       "      <td>2023-07-24</td>\n",
       "    </tr>\n",
       "    <tr>\n",
       "      <th>3</th>\n",
       "      <td>29176.5</td>\n",
       "      <td>29373.67</td>\n",
       "      <td>29047.07</td>\n",
       "      <td>29228.91</td>\n",
       "      <td>3256.319756</td>\n",
       "      <td>2023-07-25</td>\n",
       "    </tr>\n",
       "    <tr>\n",
       "      <th>4</th>\n",
       "      <td>29228.91</td>\n",
       "      <td>29688</td>\n",
       "      <td>29098</td>\n",
       "      <td>29351.95</td>\n",
       "      <td>4251.406055</td>\n",
       "      <td>2023-07-26</td>\n",
       "    </tr>\n",
       "    <tr>\n",
       "      <th>...</th>\n",
       "      <td>...</td>\n",
       "      <td>...</td>\n",
       "      <td>...</td>\n",
       "      <td>...</td>\n",
       "      <td>...</td>\n",
       "      <td>...</td>\n",
       "    </tr>\n",
       "    <tr>\n",
       "      <th>495</th>\n",
       "      <td>95863.12</td>\n",
       "      <td>96564</td>\n",
       "      <td>94640</td>\n",
       "      <td>95643.97</td>\n",
       "      <td>9872.55541859</td>\n",
       "      <td>2024-11-28</td>\n",
       "    </tr>\n",
       "    <tr>\n",
       "      <th>496</th>\n",
       "      <td>95643.97</td>\n",
       "      <td>98619.99</td>\n",
       "      <td>95364.99</td>\n",
       "      <td>97460.01</td>\n",
       "      <td>8612.00588688</td>\n",
       "      <td>2024-11-29</td>\n",
       "    </tr>\n",
       "    <tr>\n",
       "      <th>497</th>\n",
       "      <td>97460.01</td>\n",
       "      <td>97463.95</td>\n",
       "      <td>96092.01</td>\n",
       "      <td>96407.99</td>\n",
       "      <td>4571.59970941</td>\n",
       "      <td>2024-11-30</td>\n",
       "    </tr>\n",
       "    <tr>\n",
       "      <th>498</th>\n",
       "      <td>96407.99</td>\n",
       "      <td>97836</td>\n",
       "      <td>95693.88</td>\n",
       "      <td>97185.17</td>\n",
       "      <td>9115.36369784</td>\n",
       "      <td>2024-12-01</td>\n",
       "    </tr>\n",
       "    <tr>\n",
       "      <th>499</th>\n",
       "      <td>97185.17</td>\n",
       "      <td>97353.99</td>\n",
       "      <td>97068.84</td>\n",
       "      <td>97332.24</td>\n",
       "      <td>66.4899378</td>\n",
       "      <td>2024-12-02</td>\n",
       "    </tr>\n",
       "  </tbody>\n",
       "</table>\n",
       "<p>500 rows × 6 columns</p>\n",
       "</div>"
      ],
      "text/plain": [
       "         Open      High       Low     Close         Volume       Date\n",
       "0    29901.71  29998.99  29622.24     29794    1956.832041 2023-07-22\n",
       "1       29794     30350  29730.01  30083.76    2999.126007 2023-07-23\n",
       "2    30083.76  30099.58     28867   29176.5    5278.560984 2023-07-24\n",
       "3     29176.5  29373.67  29047.07  29228.91    3256.319756 2023-07-25\n",
       "4    29228.91     29688     29098  29351.95    4251.406055 2023-07-26\n",
       "..        ...       ...       ...       ...            ...        ...\n",
       "495  95863.12     96564     94640  95643.97  9872.55541859 2024-11-28\n",
       "496  95643.97  98619.99  95364.99  97460.01  8612.00588688 2024-11-29\n",
       "497  97460.01  97463.95  96092.01  96407.99  4571.59970941 2024-11-30\n",
       "498  96407.99     97836  95693.88  97185.17  9115.36369784 2024-12-01\n",
       "499  97185.17  97353.99  97068.84  97332.24     66.4899378 2024-12-02\n",
       "\n",
       "[500 rows x 6 columns]"
      ]
     },
     "execution_count": 45,
     "metadata": {},
     "output_type": "execute_result"
    }
   ],
   "source": [
    "df_from_mexc"
   ]
  },
  {
   "cell_type": "code",
   "execution_count": 46,
   "metadata": {},
   "outputs": [],
   "source": [
    "if not is_get_now:\n",
    "    df_from_mexc = df_from_mexc[df_from_mexc[\"Date\"] != str(now)]"
   ]
  },
  {
   "cell_type": "code",
   "execution_count": 47,
   "metadata": {},
   "outputs": [],
   "source": [
    "if concanate_with_old:\n",
    "    old_df = pd.read_csv(f\"{folder_save}/{symbol.lower()}_to_now_{interval.lower()}.csv\")\n",
    "    old_df[\"Date\"] = pd.to_datetime(old_df[\"Date\"])\n",
    "    old_df = old_df[['Open', 'High',\n",
    "                'Low', 'Close',     \n",
    "                'Volume', 'Date']]\n",
    "    max_date_in_old_df = pd.to_datetime(old_df[\"Date\"].max().date())\n",
    "    df_today = df_from_mexc[df_from_mexc[\"Date\"] > max_date_in_old_df]\n",
    "else:\n",
    "    df_today = df_from_mexc\n"
   ]
  },
  {
   "cell_type": "code",
   "execution_count": 48,
   "metadata": {},
   "outputs": [
    {
     "name": "stderr",
     "output_type": "stream",
     "text": [
      "C:\\Users\\ADMIN\\AppData\\Local\\Temp\\ipykernel_65944\\1533491661.py:1: SettingWithCopyWarning: \n",
      "A value is trying to be set on a copy of a slice from a DataFrame.\n",
      "Try using .loc[row_indexer,col_indexer] = value instead\n",
      "\n",
      "See the caveats in the documentation: https://pandas.pydata.org/pandas-docs/stable/user_guide/indexing.html#returning-a-view-versus-a-copy\n",
      "  df_today[\"Date\"] = df_today[\"Date\"].dt.date\n"
     ]
    }
   ],
   "source": [
    "df_today[\"Date\"] = df_today[\"Date\"].dt.date\n",
    "if concanate_with_old:\n",
    "    old_df[\"Date\"] = old_df[\"Date\"].dt.date\n",
    "    df = pd.concat([old_df, df_today], ignore_index=True)\n",
    "else:\n",
    "    df = df_today\n",
    "df[\"Date\"] = pd.to_datetime(df[\"Date\"])"
   ]
  },
  {
   "cell_type": "code",
   "execution_count": 49,
   "metadata": {},
   "outputs": [
    {
     "data": {
      "text/html": [
       "<div>\n",
       "<style scoped>\n",
       "    .dataframe tbody tr th:only-of-type {\n",
       "        vertical-align: middle;\n",
       "    }\n",
       "\n",
       "    .dataframe tbody tr th {\n",
       "        vertical-align: top;\n",
       "    }\n",
       "\n",
       "    .dataframe thead th {\n",
       "        text-align: right;\n",
       "    }\n",
       "</style>\n",
       "<table border=\"1\" class=\"dataframe\">\n",
       "  <thead>\n",
       "    <tr style=\"text-align: right;\">\n",
       "      <th></th>\n",
       "      <th>Open</th>\n",
       "      <th>High</th>\n",
       "      <th>Low</th>\n",
       "      <th>Close</th>\n",
       "      <th>Volume</th>\n",
       "      <th>Date</th>\n",
       "    </tr>\n",
       "  </thead>\n",
       "  <tbody>\n",
       "    <tr>\n",
       "      <th>0</th>\n",
       "      <td>465.864014</td>\n",
       "      <td>468.174011</td>\n",
       "      <td>452.421997</td>\n",
       "      <td>457.334015</td>\n",
       "      <td>21056800.0</td>\n",
       "      <td>2014-09-17</td>\n",
       "    </tr>\n",
       "    <tr>\n",
       "      <th>1</th>\n",
       "      <td>456.859985</td>\n",
       "      <td>456.859985</td>\n",
       "      <td>413.104004</td>\n",
       "      <td>424.440002</td>\n",
       "      <td>34483200.0</td>\n",
       "      <td>2014-09-18</td>\n",
       "    </tr>\n",
       "    <tr>\n",
       "      <th>2</th>\n",
       "      <td>424.102997</td>\n",
       "      <td>427.834991</td>\n",
       "      <td>384.532013</td>\n",
       "      <td>394.79599</td>\n",
       "      <td>37919700.0</td>\n",
       "      <td>2014-09-19</td>\n",
       "    </tr>\n",
       "    <tr>\n",
       "      <th>3</th>\n",
       "      <td>394.673004</td>\n",
       "      <td>423.29599</td>\n",
       "      <td>389.882996</td>\n",
       "      <td>408.903992</td>\n",
       "      <td>36863600.0</td>\n",
       "      <td>2014-09-20</td>\n",
       "    </tr>\n",
       "    <tr>\n",
       "      <th>4</th>\n",
       "      <td>408.084991</td>\n",
       "      <td>412.425995</td>\n",
       "      <td>393.181</td>\n",
       "      <td>398.821014</td>\n",
       "      <td>26580100.0</td>\n",
       "      <td>2014-09-21</td>\n",
       "    </tr>\n",
       "    <tr>\n",
       "      <th>...</th>\n",
       "      <td>...</td>\n",
       "      <td>...</td>\n",
       "      <td>...</td>\n",
       "      <td>...</td>\n",
       "      <td>...</td>\n",
       "      <td>...</td>\n",
       "    </tr>\n",
       "    <tr>\n",
       "      <th>3724</th>\n",
       "      <td>91965.16</td>\n",
       "      <td>97208.21</td>\n",
       "      <td>91792.14</td>\n",
       "      <td>95863.12</td>\n",
       "      <td>9496.180183</td>\n",
       "      <td>2024-11-27</td>\n",
       "    </tr>\n",
       "    <tr>\n",
       "      <th>3725</th>\n",
       "      <td>95863.12</td>\n",
       "      <td>96564.0</td>\n",
       "      <td>94640.0</td>\n",
       "      <td>95643.97</td>\n",
       "      <td>9872.555419</td>\n",
       "      <td>2024-11-28</td>\n",
       "    </tr>\n",
       "    <tr>\n",
       "      <th>3726</th>\n",
       "      <td>95643.97</td>\n",
       "      <td>98619.99</td>\n",
       "      <td>95364.99</td>\n",
       "      <td>97460.01</td>\n",
       "      <td>8612.005887</td>\n",
       "      <td>2024-11-29</td>\n",
       "    </tr>\n",
       "    <tr>\n",
       "      <th>3727</th>\n",
       "      <td>97460.01</td>\n",
       "      <td>97463.95</td>\n",
       "      <td>96092.01</td>\n",
       "      <td>96407.99</td>\n",
       "      <td>4571.599709</td>\n",
       "      <td>2024-11-30</td>\n",
       "    </tr>\n",
       "    <tr>\n",
       "      <th>3728</th>\n",
       "      <td>96407.99</td>\n",
       "      <td>97836</td>\n",
       "      <td>95693.88</td>\n",
       "      <td>97185.17</td>\n",
       "      <td>9115.36369784</td>\n",
       "      <td>2024-12-01</td>\n",
       "    </tr>\n",
       "  </tbody>\n",
       "</table>\n",
       "<p>3729 rows × 6 columns</p>\n",
       "</div>"
      ],
      "text/plain": [
       "            Open        High         Low       Close         Volume       Date\n",
       "0     465.864014  468.174011  452.421997  457.334015     21056800.0 2014-09-17\n",
       "1     456.859985  456.859985  413.104004  424.440002     34483200.0 2014-09-18\n",
       "2     424.102997  427.834991  384.532013   394.79599     37919700.0 2014-09-19\n",
       "3     394.673004   423.29599  389.882996  408.903992     36863600.0 2014-09-20\n",
       "4     408.084991  412.425995     393.181  398.821014     26580100.0 2014-09-21\n",
       "...          ...         ...         ...         ...            ...        ...\n",
       "3724    91965.16    97208.21    91792.14    95863.12    9496.180183 2024-11-27\n",
       "3725    95863.12     96564.0     94640.0    95643.97    9872.555419 2024-11-28\n",
       "3726    95643.97    98619.99    95364.99    97460.01    8612.005887 2024-11-29\n",
       "3727    97460.01    97463.95    96092.01    96407.99    4571.599709 2024-11-30\n",
       "3728    96407.99       97836    95693.88    97185.17  9115.36369784 2024-12-01\n",
       "\n",
       "[3729 rows x 6 columns]"
      ]
     },
     "execution_count": 49,
     "metadata": {},
     "output_type": "execute_result"
    }
   ],
   "source": [
    "df"
   ]
  },
  {
   "cell_type": "code",
   "execution_count": 50,
   "metadata": {},
   "outputs": [],
   "source": [
    "symbol = symbol.replace(\".\", \"_\").lower()"
   ]
  },
  {
   "cell_type": "code",
   "execution_count": 51,
   "metadata": {},
   "outputs": [],
   "source": [
    "min_date = df[\"Date\"].min().date()\n",
    "max_date = df[\"Date\"].max().date()\n",
    "\n",
    "os.makedirs(folder_save, exist_ok=True)\n",
    "file_name = f\"{folder_save}/{symbol}_to_now_{interval.lower()}.csv\""
   ]
  },
  {
   "cell_type": "code",
   "execution_count": 52,
   "metadata": {},
   "outputs": [],
   "source": [
    "file_name = file_name.replace(\"-\", \"_\")"
   ]
  },
  {
   "cell_type": "code",
   "execution_count": 53,
   "metadata": {},
   "outputs": [
    {
     "data": {
      "text/plain": [
       "'../../data/btc/btc_to_now_1d.csv'"
      ]
     },
     "execution_count": 53,
     "metadata": {},
     "output_type": "execute_result"
    }
   ],
   "source": [
    "file_name"
   ]
  },
  {
   "cell_type": "code",
   "execution_count": 54,
   "metadata": {},
   "outputs": [],
   "source": [
    "df.to_csv(file_name, index=False)"
   ]
  }
 ],
 "metadata": {
  "kernelspec": {
   "display_name": ".venv",
   "language": "python",
   "name": "python3"
  },
  "language_info": {
   "codemirror_mode": {
    "name": "ipython",
    "version": 3
   },
   "file_extension": ".py",
   "mimetype": "text/x-python",
   "name": "python",
   "nbconvert_exporter": "python",
   "pygments_lexer": "ipython3",
   "version": "3.9.7"
  }
 },
 "nbformat": 4,
 "nbformat_minor": 2
}
