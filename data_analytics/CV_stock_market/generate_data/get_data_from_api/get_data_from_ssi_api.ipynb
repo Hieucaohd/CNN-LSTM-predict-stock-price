{
 "cells": [
  {
   "cell_type": "code",
   "execution_count": 1,
   "metadata": {},
   "outputs": [],
   "source": [
    "import requests\n",
    "import pandas as pd\n",
    "import numpy as np\n",
    "from datetime import datetime"
   ]
  },
  {
   "cell_type": "code",
   "execution_count": 2,
   "metadata": {},
   "outputs": [],
   "source": [
    "symbol = 'VN30'"
   ]
  },
  {
   "cell_type": "code",
   "execution_count": 3,
   "metadata": {},
   "outputs": [],
   "source": [
    "query_string = {\n",
    "    'symbol': symbol, \n",
    "}"
   ]
  },
  {
   "cell_type": "code",
   "execution_count": 4,
   "metadata": {},
   "outputs": [],
   "source": [
    "query_string[\"resolution\"] = \"1D\"\n",
    "query_string[\"from\"] = str(datetime(2012, 1, 1).timestamp())\n",
    "query_string[\"to\"] = str(datetime.now().timestamp())"
   ]
  },
  {
   "cell_type": "code",
   "execution_count": 5,
   "metadata": {},
   "outputs": [
    {
     "data": {
      "text/plain": [
       "{'symbol': 'VN30',\n",
       " 'resolution': '1D',\n",
       " 'from': '1325350800.0',\n",
       " 'to': '1731770388.514675'}"
      ]
     },
     "execution_count": 5,
     "metadata": {},
     "output_type": "execute_result"
    }
   ],
   "source": [
    "query_string"
   ]
  },
  {
   "cell_type": "code",
   "execution_count": 6,
   "metadata": {},
   "outputs": [],
   "source": [
    "headers = {'accept': 'application/json, text/plain, */*',\n",
    "           'accept-encoding': 'gzip, deflate, br, zstd',\n",
    "           'accept-language': 'en-US,en;q=0.9',\n",
    "           'origin': 'https://iboard.ssi.com.vn',\n",
    "           'priority': 'u=1, i',\n",
    "           'referer': 'https://iboard.ssi.com.vn/',\n",
    "           'sec-ch-ua': '\"Not/A)Brand\";v=\"8\", \"Chromium\";v=\"126\", \"Microsoft Edge\";v=\"126\"',\n",
    "           'sec-ch-ua-mobile': '?0',\n",
    "           'sec-ch-ua-platform': '\"Windows\"',\n",
    "           'sec-fetch-dest': 'empty',\n",
    "           'sec-fetch-mode': 'cors',\n",
    "           'sec-fetch-site': 'same-site',\n",
    "           'user-agent': 'Mozilla/5.0 (Windows NT 10.0; Win64; x64) AppleWebKit/537.36 (KHTML, like Gecko) Chrome/126.0.0.0 Safari/537.36 Edg/126.0.0.0'}"
   ]
  },
  {
   "cell_type": "code",
   "execution_count": 7,
   "metadata": {},
   "outputs": [],
   "source": [
    "url_without_params = 'https://iboard-api.ssi.com.vn/statistics/charts/history'"
   ]
  },
  {
   "cell_type": "code",
   "execution_count": 8,
   "metadata": {},
   "outputs": [],
   "source": [
    "response = requests.get(\n",
    "    url=url_without_params,\n",
    "    headers=headers,\n",
    "    params=query_string\n",
    ")"
   ]
  },
  {
   "cell_type": "code",
   "execution_count": 9,
   "metadata": {},
   "outputs": [
    {
     "data": {
      "text/plain": [
       "200"
      ]
     },
     "execution_count": 9,
     "metadata": {},
     "output_type": "execute_result"
    }
   ],
   "source": [
    "response.status_code"
   ]
  },
  {
   "cell_type": "code",
   "execution_count": 10,
   "metadata": {},
   "outputs": [],
   "source": [
    "df = pd.DataFrame(response.json()[\"data\"])"
   ]
  },
  {
   "cell_type": "code",
   "execution_count": 11,
   "metadata": {},
   "outputs": [
    {
     "data": {
      "text/html": [
       "<div>\n",
       "<style scoped>\n",
       "    .dataframe tbody tr th:only-of-type {\n",
       "        vertical-align: middle;\n",
       "    }\n",
       "\n",
       "    .dataframe tbody tr th {\n",
       "        vertical-align: top;\n",
       "    }\n",
       "\n",
       "    .dataframe thead th {\n",
       "        text-align: right;\n",
       "    }\n",
       "</style>\n",
       "<table border=\"1\" class=\"dataframe\">\n",
       "  <thead>\n",
       "    <tr style=\"text-align: right;\">\n",
       "      <th></th>\n",
       "      <th>t</th>\n",
       "      <th>c</th>\n",
       "      <th>o</th>\n",
       "      <th>h</th>\n",
       "      <th>l</th>\n",
       "      <th>v</th>\n",
       "      <th>s</th>\n",
       "    </tr>\n",
       "  </thead>\n",
       "  <tbody>\n",
       "    <tr>\n",
       "      <th>0</th>\n",
       "      <td>1328486400</td>\n",
       "      <td>447.47</td>\n",
       "      <td>449.38</td>\n",
       "      <td>449.38</td>\n",
       "      <td>441.60</td>\n",
       "      <td>13467070</td>\n",
       "      <td>ok</td>\n",
       "    </tr>\n",
       "    <tr>\n",
       "      <th>1</th>\n",
       "      <td>1328572800</td>\n",
       "      <td>449.31</td>\n",
       "      <td>448.37</td>\n",
       "      <td>450.13</td>\n",
       "      <td>443.38</td>\n",
       "      <td>17261070</td>\n",
       "      <td>ok</td>\n",
       "    </tr>\n",
       "    <tr>\n",
       "      <th>2</th>\n",
       "      <td>1328659200</td>\n",
       "      <td>460.98</td>\n",
       "      <td>452.13</td>\n",
       "      <td>460.98</td>\n",
       "      <td>450.00</td>\n",
       "      <td>20406280</td>\n",
       "      <td>ok</td>\n",
       "    </tr>\n",
       "    <tr>\n",
       "      <th>3</th>\n",
       "      <td>1328745600</td>\n",
       "      <td>464.73</td>\n",
       "      <td>467.18</td>\n",
       "      <td>467.18</td>\n",
       "      <td>461.49</td>\n",
       "      <td>20379320</td>\n",
       "      <td>ok</td>\n",
       "    </tr>\n",
       "    <tr>\n",
       "      <th>4</th>\n",
       "      <td>1328832000</td>\n",
       "      <td>458.23</td>\n",
       "      <td>464.25</td>\n",
       "      <td>464.25</td>\n",
       "      <td>456.52</td>\n",
       "      <td>20816360</td>\n",
       "      <td>ok</td>\n",
       "    </tr>\n",
       "    <tr>\n",
       "      <th>...</th>\n",
       "      <td>...</td>\n",
       "      <td>...</td>\n",
       "      <td>...</td>\n",
       "      <td>...</td>\n",
       "      <td>...</td>\n",
       "      <td>...</td>\n",
       "      <td>...</td>\n",
       "    </tr>\n",
       "    <tr>\n",
       "      <th>3185</th>\n",
       "      <td>1731283200</td>\n",
       "      <td>1310.46</td>\n",
       "      <td>1317.34</td>\n",
       "      <td>1318.71</td>\n",
       "      <td>1298.78</td>\n",
       "      <td>302541700</td>\n",
       "      <td>ok</td>\n",
       "    </tr>\n",
       "    <tr>\n",
       "      <th>3186</th>\n",
       "      <td>1731369600</td>\n",
       "      <td>1301.95</td>\n",
       "      <td>1312.55</td>\n",
       "      <td>1315.80</td>\n",
       "      <td>1297.99</td>\n",
       "      <td>184858300</td>\n",
       "      <td>ok</td>\n",
       "    </tr>\n",
       "    <tr>\n",
       "      <th>3187</th>\n",
       "      <td>1731456000</td>\n",
       "      <td>1304.04</td>\n",
       "      <td>1301.95</td>\n",
       "      <td>1305.42</td>\n",
       "      <td>1290.61</td>\n",
       "      <td>197224300</td>\n",
       "      <td>ok</td>\n",
       "    </tr>\n",
       "    <tr>\n",
       "      <th>3188</th>\n",
       "      <td>1731542400</td>\n",
       "      <td>1286.65</td>\n",
       "      <td>1304.04</td>\n",
       "      <td>1304.04</td>\n",
       "      <td>1286.52</td>\n",
       "      <td>186252300</td>\n",
       "      <td>ok</td>\n",
       "    </tr>\n",
       "    <tr>\n",
       "      <th>3189</th>\n",
       "      <td>1731628800</td>\n",
       "      <td>1271.22</td>\n",
       "      <td>1283.78</td>\n",
       "      <td>1284.30</td>\n",
       "      <td>1270.44</td>\n",
       "      <td>253280200</td>\n",
       "      <td>ok</td>\n",
       "    </tr>\n",
       "  </tbody>\n",
       "</table>\n",
       "<p>3190 rows × 7 columns</p>\n",
       "</div>"
      ],
      "text/plain": [
       "               t        c        o        h        l          v   s\n",
       "0     1328486400   447.47   449.38   449.38   441.60   13467070  ok\n",
       "1     1328572800   449.31   448.37   450.13   443.38   17261070  ok\n",
       "2     1328659200   460.98   452.13   460.98   450.00   20406280  ok\n",
       "3     1328745600   464.73   467.18   467.18   461.49   20379320  ok\n",
       "4     1328832000   458.23   464.25   464.25   456.52   20816360  ok\n",
       "...          ...      ...      ...      ...      ...        ...  ..\n",
       "3185  1731283200  1310.46  1317.34  1318.71  1298.78  302541700  ok\n",
       "3186  1731369600  1301.95  1312.55  1315.80  1297.99  184858300  ok\n",
       "3187  1731456000  1304.04  1301.95  1305.42  1290.61  197224300  ok\n",
       "3188  1731542400  1286.65  1304.04  1304.04  1286.52  186252300  ok\n",
       "3189  1731628800  1271.22  1283.78  1284.30  1270.44  253280200  ok\n",
       "\n",
       "[3190 rows x 7 columns]"
      ]
     },
     "execution_count": 11,
     "metadata": {},
     "output_type": "execute_result"
    }
   ],
   "source": [
    "df"
   ]
  },
  {
   "cell_type": "code",
   "execution_count": 12,
   "metadata": {},
   "outputs": [],
   "source": [
    "df['t'] = pd.to_datetime(df['t'], unit='s').dt.strftime('%m-%d-%Y 00:00:00+00:00')\n",
    "df['t'] = pd.to_datetime(df['t'])"
   ]
  },
  {
   "cell_type": "code",
   "execution_count": 13,
   "metadata": {},
   "outputs": [
    {
     "data": {
      "text/html": [
       "<div>\n",
       "<style scoped>\n",
       "    .dataframe tbody tr th:only-of-type {\n",
       "        vertical-align: middle;\n",
       "    }\n",
       "\n",
       "    .dataframe tbody tr th {\n",
       "        vertical-align: top;\n",
       "    }\n",
       "\n",
       "    .dataframe thead th {\n",
       "        text-align: right;\n",
       "    }\n",
       "</style>\n",
       "<table border=\"1\" class=\"dataframe\">\n",
       "  <thead>\n",
       "    <tr style=\"text-align: right;\">\n",
       "      <th></th>\n",
       "      <th>t</th>\n",
       "      <th>c</th>\n",
       "      <th>o</th>\n",
       "      <th>h</th>\n",
       "      <th>l</th>\n",
       "      <th>v</th>\n",
       "      <th>s</th>\n",
       "    </tr>\n",
       "  </thead>\n",
       "  <tbody>\n",
       "    <tr>\n",
       "      <th>0</th>\n",
       "      <td>2012-02-06 00:00:00+00:00</td>\n",
       "      <td>447.47</td>\n",
       "      <td>449.38</td>\n",
       "      <td>449.38</td>\n",
       "      <td>441.60</td>\n",
       "      <td>13467070</td>\n",
       "      <td>ok</td>\n",
       "    </tr>\n",
       "    <tr>\n",
       "      <th>1</th>\n",
       "      <td>2012-02-07 00:00:00+00:00</td>\n",
       "      <td>449.31</td>\n",
       "      <td>448.37</td>\n",
       "      <td>450.13</td>\n",
       "      <td>443.38</td>\n",
       "      <td>17261070</td>\n",
       "      <td>ok</td>\n",
       "    </tr>\n",
       "    <tr>\n",
       "      <th>2</th>\n",
       "      <td>2012-02-08 00:00:00+00:00</td>\n",
       "      <td>460.98</td>\n",
       "      <td>452.13</td>\n",
       "      <td>460.98</td>\n",
       "      <td>450.00</td>\n",
       "      <td>20406280</td>\n",
       "      <td>ok</td>\n",
       "    </tr>\n",
       "    <tr>\n",
       "      <th>3</th>\n",
       "      <td>2012-02-09 00:00:00+00:00</td>\n",
       "      <td>464.73</td>\n",
       "      <td>467.18</td>\n",
       "      <td>467.18</td>\n",
       "      <td>461.49</td>\n",
       "      <td>20379320</td>\n",
       "      <td>ok</td>\n",
       "    </tr>\n",
       "    <tr>\n",
       "      <th>4</th>\n",
       "      <td>2012-02-10 00:00:00+00:00</td>\n",
       "      <td>458.23</td>\n",
       "      <td>464.25</td>\n",
       "      <td>464.25</td>\n",
       "      <td>456.52</td>\n",
       "      <td>20816360</td>\n",
       "      <td>ok</td>\n",
       "    </tr>\n",
       "    <tr>\n",
       "      <th>...</th>\n",
       "      <td>...</td>\n",
       "      <td>...</td>\n",
       "      <td>...</td>\n",
       "      <td>...</td>\n",
       "      <td>...</td>\n",
       "      <td>...</td>\n",
       "      <td>...</td>\n",
       "    </tr>\n",
       "    <tr>\n",
       "      <th>3185</th>\n",
       "      <td>2024-11-11 00:00:00+00:00</td>\n",
       "      <td>1310.46</td>\n",
       "      <td>1317.34</td>\n",
       "      <td>1318.71</td>\n",
       "      <td>1298.78</td>\n",
       "      <td>302541700</td>\n",
       "      <td>ok</td>\n",
       "    </tr>\n",
       "    <tr>\n",
       "      <th>3186</th>\n",
       "      <td>2024-11-12 00:00:00+00:00</td>\n",
       "      <td>1301.95</td>\n",
       "      <td>1312.55</td>\n",
       "      <td>1315.80</td>\n",
       "      <td>1297.99</td>\n",
       "      <td>184858300</td>\n",
       "      <td>ok</td>\n",
       "    </tr>\n",
       "    <tr>\n",
       "      <th>3187</th>\n",
       "      <td>2024-11-13 00:00:00+00:00</td>\n",
       "      <td>1304.04</td>\n",
       "      <td>1301.95</td>\n",
       "      <td>1305.42</td>\n",
       "      <td>1290.61</td>\n",
       "      <td>197224300</td>\n",
       "      <td>ok</td>\n",
       "    </tr>\n",
       "    <tr>\n",
       "      <th>3188</th>\n",
       "      <td>2024-11-14 00:00:00+00:00</td>\n",
       "      <td>1286.65</td>\n",
       "      <td>1304.04</td>\n",
       "      <td>1304.04</td>\n",
       "      <td>1286.52</td>\n",
       "      <td>186252300</td>\n",
       "      <td>ok</td>\n",
       "    </tr>\n",
       "    <tr>\n",
       "      <th>3189</th>\n",
       "      <td>2024-11-15 00:00:00+00:00</td>\n",
       "      <td>1271.22</td>\n",
       "      <td>1283.78</td>\n",
       "      <td>1284.30</td>\n",
       "      <td>1270.44</td>\n",
       "      <td>253280200</td>\n",
       "      <td>ok</td>\n",
       "    </tr>\n",
       "  </tbody>\n",
       "</table>\n",
       "<p>3190 rows × 7 columns</p>\n",
       "</div>"
      ],
      "text/plain": [
       "                             t        c        o        h        l          v  \\\n",
       "0    2012-02-06 00:00:00+00:00   447.47   449.38   449.38   441.60   13467070   \n",
       "1    2012-02-07 00:00:00+00:00   449.31   448.37   450.13   443.38   17261070   \n",
       "2    2012-02-08 00:00:00+00:00   460.98   452.13   460.98   450.00   20406280   \n",
       "3    2012-02-09 00:00:00+00:00   464.73   467.18   467.18   461.49   20379320   \n",
       "4    2012-02-10 00:00:00+00:00   458.23   464.25   464.25   456.52   20816360   \n",
       "...                        ...      ...      ...      ...      ...        ...   \n",
       "3185 2024-11-11 00:00:00+00:00  1310.46  1317.34  1318.71  1298.78  302541700   \n",
       "3186 2024-11-12 00:00:00+00:00  1301.95  1312.55  1315.80  1297.99  184858300   \n",
       "3187 2024-11-13 00:00:00+00:00  1304.04  1301.95  1305.42  1290.61  197224300   \n",
       "3188 2024-11-14 00:00:00+00:00  1286.65  1304.04  1304.04  1286.52  186252300   \n",
       "3189 2024-11-15 00:00:00+00:00  1271.22  1283.78  1284.30  1270.44  253280200   \n",
       "\n",
       "       s  \n",
       "0     ok  \n",
       "1     ok  \n",
       "2     ok  \n",
       "3     ok  \n",
       "4     ok  \n",
       "...   ..  \n",
       "3185  ok  \n",
       "3186  ok  \n",
       "3187  ok  \n",
       "3188  ok  \n",
       "3189  ok  \n",
       "\n",
       "[3190 rows x 7 columns]"
      ]
     },
     "execution_count": 13,
     "metadata": {},
     "output_type": "execute_result"
    }
   ],
   "source": [
    "df"
   ]
  },
  {
   "cell_type": "code",
   "execution_count": 14,
   "metadata": {},
   "outputs": [],
   "source": [
    "df.rename(\n",
    "    columns={\n",
    "        \"t\": \"Date\",\n",
    "        \"c\": \"Close\",\n",
    "        \"o\": \"Open\",\n",
    "        \"h\": \"High\",\n",
    "        \"l\": \"Low\",\n",
    "        \"v\": \"Volume\"\n",
    "    },\n",
    "    inplace=True\n",
    ")\n",
    "df.drop(columns=[\"s\"], inplace=True)"
   ]
  },
  {
   "cell_type": "code",
   "execution_count": 15,
   "metadata": {},
   "outputs": [
    {
     "data": {
      "text/html": [
       "<div>\n",
       "<style scoped>\n",
       "    .dataframe tbody tr th:only-of-type {\n",
       "        vertical-align: middle;\n",
       "    }\n",
       "\n",
       "    .dataframe tbody tr th {\n",
       "        vertical-align: top;\n",
       "    }\n",
       "\n",
       "    .dataframe thead th {\n",
       "        text-align: right;\n",
       "    }\n",
       "</style>\n",
       "<table border=\"1\" class=\"dataframe\">\n",
       "  <thead>\n",
       "    <tr style=\"text-align: right;\">\n",
       "      <th></th>\n",
       "      <th>Date</th>\n",
       "      <th>Close</th>\n",
       "      <th>Open</th>\n",
       "      <th>High</th>\n",
       "      <th>Low</th>\n",
       "      <th>Volume</th>\n",
       "    </tr>\n",
       "  </thead>\n",
       "  <tbody>\n",
       "    <tr>\n",
       "      <th>0</th>\n",
       "      <td>2012-02-06 00:00:00+00:00</td>\n",
       "      <td>447.47</td>\n",
       "      <td>449.38</td>\n",
       "      <td>449.38</td>\n",
       "      <td>441.60</td>\n",
       "      <td>13467070</td>\n",
       "    </tr>\n",
       "    <tr>\n",
       "      <th>1</th>\n",
       "      <td>2012-02-07 00:00:00+00:00</td>\n",
       "      <td>449.31</td>\n",
       "      <td>448.37</td>\n",
       "      <td>450.13</td>\n",
       "      <td>443.38</td>\n",
       "      <td>17261070</td>\n",
       "    </tr>\n",
       "    <tr>\n",
       "      <th>2</th>\n",
       "      <td>2012-02-08 00:00:00+00:00</td>\n",
       "      <td>460.98</td>\n",
       "      <td>452.13</td>\n",
       "      <td>460.98</td>\n",
       "      <td>450.00</td>\n",
       "      <td>20406280</td>\n",
       "    </tr>\n",
       "    <tr>\n",
       "      <th>3</th>\n",
       "      <td>2012-02-09 00:00:00+00:00</td>\n",
       "      <td>464.73</td>\n",
       "      <td>467.18</td>\n",
       "      <td>467.18</td>\n",
       "      <td>461.49</td>\n",
       "      <td>20379320</td>\n",
       "    </tr>\n",
       "    <tr>\n",
       "      <th>4</th>\n",
       "      <td>2012-02-10 00:00:00+00:00</td>\n",
       "      <td>458.23</td>\n",
       "      <td>464.25</td>\n",
       "      <td>464.25</td>\n",
       "      <td>456.52</td>\n",
       "      <td>20816360</td>\n",
       "    </tr>\n",
       "    <tr>\n",
       "      <th>...</th>\n",
       "      <td>...</td>\n",
       "      <td>...</td>\n",
       "      <td>...</td>\n",
       "      <td>...</td>\n",
       "      <td>...</td>\n",
       "      <td>...</td>\n",
       "    </tr>\n",
       "    <tr>\n",
       "      <th>3185</th>\n",
       "      <td>2024-11-11 00:00:00+00:00</td>\n",
       "      <td>1310.46</td>\n",
       "      <td>1317.34</td>\n",
       "      <td>1318.71</td>\n",
       "      <td>1298.78</td>\n",
       "      <td>302541700</td>\n",
       "    </tr>\n",
       "    <tr>\n",
       "      <th>3186</th>\n",
       "      <td>2024-11-12 00:00:00+00:00</td>\n",
       "      <td>1301.95</td>\n",
       "      <td>1312.55</td>\n",
       "      <td>1315.80</td>\n",
       "      <td>1297.99</td>\n",
       "      <td>184858300</td>\n",
       "    </tr>\n",
       "    <tr>\n",
       "      <th>3187</th>\n",
       "      <td>2024-11-13 00:00:00+00:00</td>\n",
       "      <td>1304.04</td>\n",
       "      <td>1301.95</td>\n",
       "      <td>1305.42</td>\n",
       "      <td>1290.61</td>\n",
       "      <td>197224300</td>\n",
       "    </tr>\n",
       "    <tr>\n",
       "      <th>3188</th>\n",
       "      <td>2024-11-14 00:00:00+00:00</td>\n",
       "      <td>1286.65</td>\n",
       "      <td>1304.04</td>\n",
       "      <td>1304.04</td>\n",
       "      <td>1286.52</td>\n",
       "      <td>186252300</td>\n",
       "    </tr>\n",
       "    <tr>\n",
       "      <th>3189</th>\n",
       "      <td>2024-11-15 00:00:00+00:00</td>\n",
       "      <td>1271.22</td>\n",
       "      <td>1283.78</td>\n",
       "      <td>1284.30</td>\n",
       "      <td>1270.44</td>\n",
       "      <td>253280200</td>\n",
       "    </tr>\n",
       "  </tbody>\n",
       "</table>\n",
       "<p>3190 rows × 6 columns</p>\n",
       "</div>"
      ],
      "text/plain": [
       "                          Date    Close     Open     High      Low     Volume\n",
       "0    2012-02-06 00:00:00+00:00   447.47   449.38   449.38   441.60   13467070\n",
       "1    2012-02-07 00:00:00+00:00   449.31   448.37   450.13   443.38   17261070\n",
       "2    2012-02-08 00:00:00+00:00   460.98   452.13   460.98   450.00   20406280\n",
       "3    2012-02-09 00:00:00+00:00   464.73   467.18   467.18   461.49   20379320\n",
       "4    2012-02-10 00:00:00+00:00   458.23   464.25   464.25   456.52   20816360\n",
       "...                        ...      ...      ...      ...      ...        ...\n",
       "3185 2024-11-11 00:00:00+00:00  1310.46  1317.34  1318.71  1298.78  302541700\n",
       "3186 2024-11-12 00:00:00+00:00  1301.95  1312.55  1315.80  1297.99  184858300\n",
       "3187 2024-11-13 00:00:00+00:00  1304.04  1301.95  1305.42  1290.61  197224300\n",
       "3188 2024-11-14 00:00:00+00:00  1286.65  1304.04  1304.04  1286.52  186252300\n",
       "3189 2024-11-15 00:00:00+00:00  1271.22  1283.78  1284.30  1270.44  253280200\n",
       "\n",
       "[3190 rows x 6 columns]"
      ]
     },
     "execution_count": 15,
     "metadata": {},
     "output_type": "execute_result"
    }
   ],
   "source": [
    "df"
   ]
  },
  {
   "cell_type": "code",
   "execution_count": 16,
   "metadata": {},
   "outputs": [
    {
     "data": {
      "text/plain": [
       "Timestamp('2012-02-06 00:00:00+0000', tz='UTC')"
      ]
     },
     "execution_count": 16,
     "metadata": {},
     "output_type": "execute_result"
    }
   ],
   "source": [
    "df[\"Date\"].min()"
   ]
  },
  {
   "cell_type": "code",
   "execution_count": 17,
   "metadata": {},
   "outputs": [
    {
     "data": {
      "text/plain": [
       "Timestamp('2024-11-15 00:00:00+0000', tz='UTC')"
      ]
     },
     "execution_count": 17,
     "metadata": {},
     "output_type": "execute_result"
    }
   ],
   "source": [
    "df[\"Date\"].max()"
   ]
  },
  {
   "cell_type": "code",
   "execution_count": 18,
   "metadata": {},
   "outputs": [],
   "source": [
    "symbol = symbol.replace(\".\", \"_\").lower()"
   ]
  },
  {
   "cell_type": "code",
   "execution_count": null,
   "metadata": {},
   "outputs": [],
   "source": [
    "min_date = df[\"Date\"].min().date()\n",
    "max_date = df[\"Date\"].max().date()\n",
    "file_name = f\"../../data/{symbol}/{symbol}-{str(min_date)}-to-{str(max_date)}.csv\""
   ]
  },
  {
   "cell_type": "code",
   "execution_count": 20,
   "metadata": {},
   "outputs": [],
   "source": [
    "file_name = file_name.replace(\"-\", \"_\")"
   ]
  },
  {
   "cell_type": "code",
   "execution_count": 21,
   "metadata": {},
   "outputs": [
    {
     "data": {
      "text/plain": [
       "'./data/vn30_2012_02_06_to_2024_11_15.csv'"
      ]
     },
     "execution_count": 21,
     "metadata": {},
     "output_type": "execute_result"
    }
   ],
   "source": [
    "file_name"
   ]
  },
  {
   "cell_type": "code",
   "execution_count": 22,
   "metadata": {},
   "outputs": [],
   "source": [
    "df.to_csv(file_name, index=False)"
   ]
  }
 ],
 "metadata": {
  "kernelspec": {
   "display_name": ".venv",
   "language": "python",
   "name": "python3"
  },
  "language_info": {
   "codemirror_mode": {
    "name": "ipython",
    "version": 3
   },
   "file_extension": ".py",
   "mimetype": "text/x-python",
   "name": "python",
   "nbconvert_exporter": "python",
   "pygments_lexer": "ipython3",
   "version": "3.9.7"
  }
 },
 "nbformat": 4,
 "nbformat_minor": 2
}
