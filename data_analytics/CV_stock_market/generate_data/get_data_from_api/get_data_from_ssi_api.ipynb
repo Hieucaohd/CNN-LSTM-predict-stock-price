{
 "cells": [
  {
   "cell_type": "code",
   "execution_count": 21,
   "metadata": {},
   "outputs": [],
   "source": [
    "import requests\n",
    "import pandas as pd\n",
    "import numpy as np\n",
    "from datetime import datetime\n",
    "import os"
   ]
  },
  {
   "cell_type": "code",
   "execution_count": 2,
   "metadata": {},
   "outputs": [],
   "source": [
    "symbol = 'TCB'\n",
    "query_string = {\n",
    "    'symbol': symbol, \n",
    "}\n",
    "query_string[\"resolution\"] = \"1D\"\n",
    "query_string[\"from\"] = str(datetime(2000, 1, 1).timestamp())\n",
    "query_string[\"to\"] = str(datetime.now().timestamp())"
   ]
  },
  {
   "cell_type": "code",
   "execution_count": 3,
   "metadata": {},
   "outputs": [
    {
     "data": {
      "text/plain": [
       "{'symbol': 'TCB',\n",
       " 'resolution': '1D',\n",
       " 'from': '946659600.0',\n",
       " 'to': '1732365808.425751'}"
      ]
     },
     "execution_count": 3,
     "metadata": {},
     "output_type": "execute_result"
    }
   ],
   "source": [
    "query_string"
   ]
  },
  {
   "cell_type": "code",
   "execution_count": 4,
   "metadata": {},
   "outputs": [],
   "source": [
    "headers = {'accept': 'application/json, text/plain, */*',\n",
    "           'accept-encoding': 'gzip, deflate, br, zstd',\n",
    "           'accept-language': 'en-US,en;q=0.9',\n",
    "           'origin': 'https://iboard.ssi.com.vn',\n",
    "           'priority': 'u=1, i',\n",
    "           'referer': 'https://iboard.ssi.com.vn/',\n",
    "           'sec-ch-ua': '\"Not/A)Brand\";v=\"8\", \"Chromium\";v=\"126\", \"Microsoft Edge\";v=\"126\"',\n",
    "           'sec-ch-ua-mobile': '?0',\n",
    "           'sec-ch-ua-platform': '\"Windows\"',\n",
    "           'sec-fetch-dest': 'empty',\n",
    "           'sec-fetch-mode': 'cors',\n",
    "           'sec-fetch-site': 'same-site',\n",
    "           'user-agent': 'Mozilla/5.0 (Windows NT 10.0; Win64; x64) AppleWebKit/537.36 (KHTML, like Gecko) Chrome/126.0.0.0 Safari/537.36 Edg/126.0.0.0'}"
   ]
  },
  {
   "cell_type": "code",
   "execution_count": 5,
   "metadata": {},
   "outputs": [],
   "source": [
    "url_without_params = 'https://iboard-api.ssi.com.vn/statistics/charts/history'"
   ]
  },
  {
   "cell_type": "code",
   "execution_count": 6,
   "metadata": {},
   "outputs": [],
   "source": [
    "response = requests.get(\n",
    "    url=url_without_params,\n",
    "    headers=headers,\n",
    "    params=query_string\n",
    ")"
   ]
  },
  {
   "cell_type": "code",
   "execution_count": 7,
   "metadata": {},
   "outputs": [
    {
     "data": {
      "text/plain": [
       "200"
      ]
     },
     "execution_count": 7,
     "metadata": {},
     "output_type": "execute_result"
    }
   ],
   "source": [
    "response.status_code"
   ]
  },
  {
   "cell_type": "code",
   "execution_count": 8,
   "metadata": {},
   "outputs": [],
   "source": [
    "df = pd.DataFrame(response.json()[\"data\"])"
   ]
  },
  {
   "cell_type": "code",
   "execution_count": 9,
   "metadata": {},
   "outputs": [
    {
     "data": {
      "text/html": [
       "<div>\n",
       "<style scoped>\n",
       "    .dataframe tbody tr th:only-of-type {\n",
       "        vertical-align: middle;\n",
       "    }\n",
       "\n",
       "    .dataframe tbody tr th {\n",
       "        vertical-align: top;\n",
       "    }\n",
       "\n",
       "    .dataframe thead th {\n",
       "        text-align: right;\n",
       "    }\n",
       "</style>\n",
       "<table border=\"1\" class=\"dataframe\">\n",
       "  <thead>\n",
       "    <tr style=\"text-align: right;\">\n",
       "      <th></th>\n",
       "      <th>t</th>\n",
       "      <th>c</th>\n",
       "      <th>o</th>\n",
       "      <th>h</th>\n",
       "      <th>l</th>\n",
       "      <th>v</th>\n",
       "      <th>s</th>\n",
       "    </tr>\n",
       "  </thead>\n",
       "  <tbody>\n",
       "    <tr>\n",
       "      <th>0</th>\n",
       "      <td>1528070400</td>\n",
       "      <td>16.55</td>\n",
       "      <td>16.55</td>\n",
       "      <td>16.97</td>\n",
       "      <td>16.55</td>\n",
       "      <td>2811840</td>\n",
       "      <td>ok</td>\n",
       "    </tr>\n",
       "    <tr>\n",
       "      <th>1</th>\n",
       "      <td>1528156800</td>\n",
       "      <td>15.52</td>\n",
       "      <td>16.02</td>\n",
       "      <td>17.13</td>\n",
       "      <td>15.52</td>\n",
       "      <td>1357500</td>\n",
       "      <td>ok</td>\n",
       "    </tr>\n",
       "    <tr>\n",
       "      <th>2</th>\n",
       "      <td>1528243200</td>\n",
       "      <td>14.87</td>\n",
       "      <td>15.35</td>\n",
       "      <td>15.52</td>\n",
       "      <td>14.71</td>\n",
       "      <td>1605480</td>\n",
       "      <td>ok</td>\n",
       "    </tr>\n",
       "    <tr>\n",
       "      <th>3</th>\n",
       "      <td>1528329600</td>\n",
       "      <td>15.90</td>\n",
       "      <td>15.27</td>\n",
       "      <td>15.90</td>\n",
       "      <td>15.05</td>\n",
       "      <td>1376540</td>\n",
       "      <td>ok</td>\n",
       "    </tr>\n",
       "    <tr>\n",
       "      <th>4</th>\n",
       "      <td>1528416000</td>\n",
       "      <td>17.00</td>\n",
       "      <td>16.32</td>\n",
       "      <td>17.00</td>\n",
       "      <td>16.08</td>\n",
       "      <td>2008500</td>\n",
       "      <td>ok</td>\n",
       "    </tr>\n",
       "    <tr>\n",
       "      <th>...</th>\n",
       "      <td>...</td>\n",
       "      <td>...</td>\n",
       "      <td>...</td>\n",
       "      <td>...</td>\n",
       "      <td>...</td>\n",
       "      <td>...</td>\n",
       "      <td>...</td>\n",
       "    </tr>\n",
       "    <tr>\n",
       "      <th>1617</th>\n",
       "      <td>1731888000</td>\n",
       "      <td>22.45</td>\n",
       "      <td>22.40</td>\n",
       "      <td>22.70</td>\n",
       "      <td>22.20</td>\n",
       "      <td>12110400</td>\n",
       "      <td>ok</td>\n",
       "    </tr>\n",
       "    <tr>\n",
       "      <th>1618</th>\n",
       "      <td>1731974400</td>\n",
       "      <td>22.40</td>\n",
       "      <td>22.55</td>\n",
       "      <td>22.55</td>\n",
       "      <td>22.20</td>\n",
       "      <td>6936100</td>\n",
       "      <td>ok</td>\n",
       "    </tr>\n",
       "    <tr>\n",
       "      <th>1619</th>\n",
       "      <td>1732060800</td>\n",
       "      <td>22.85</td>\n",
       "      <td>22.30</td>\n",
       "      <td>22.85</td>\n",
       "      <td>22.25</td>\n",
       "      <td>10247500</td>\n",
       "      <td>ok</td>\n",
       "    </tr>\n",
       "    <tr>\n",
       "      <th>1620</th>\n",
       "      <td>1732147200</td>\n",
       "      <td>23.20</td>\n",
       "      <td>22.80</td>\n",
       "      <td>23.20</td>\n",
       "      <td>22.60</td>\n",
       "      <td>11213000</td>\n",
       "      <td>ok</td>\n",
       "    </tr>\n",
       "    <tr>\n",
       "      <th>1621</th>\n",
       "      <td>1732233600</td>\n",
       "      <td>23.50</td>\n",
       "      <td>23.20</td>\n",
       "      <td>23.55</td>\n",
       "      <td>23.15</td>\n",
       "      <td>14405800</td>\n",
       "      <td>ok</td>\n",
       "    </tr>\n",
       "  </tbody>\n",
       "</table>\n",
       "<p>1622 rows × 7 columns</p>\n",
       "</div>"
      ],
      "text/plain": [
       "               t      c      o      h      l         v   s\n",
       "0     1528070400  16.55  16.55  16.97  16.55   2811840  ok\n",
       "1     1528156800  15.52  16.02  17.13  15.52   1357500  ok\n",
       "2     1528243200  14.87  15.35  15.52  14.71   1605480  ok\n",
       "3     1528329600  15.90  15.27  15.90  15.05   1376540  ok\n",
       "4     1528416000  17.00  16.32  17.00  16.08   2008500  ok\n",
       "...          ...    ...    ...    ...    ...       ...  ..\n",
       "1617  1731888000  22.45  22.40  22.70  22.20  12110400  ok\n",
       "1618  1731974400  22.40  22.55  22.55  22.20   6936100  ok\n",
       "1619  1732060800  22.85  22.30  22.85  22.25  10247500  ok\n",
       "1620  1732147200  23.20  22.80  23.20  22.60  11213000  ok\n",
       "1621  1732233600  23.50  23.20  23.55  23.15  14405800  ok\n",
       "\n",
       "[1622 rows x 7 columns]"
      ]
     },
     "execution_count": 9,
     "metadata": {},
     "output_type": "execute_result"
    }
   ],
   "source": [
    "df"
   ]
  },
  {
   "cell_type": "code",
   "execution_count": 10,
   "metadata": {},
   "outputs": [],
   "source": [
    "df['t'] = pd.to_datetime(df['t'], unit='s').dt.strftime('%m-%d-%Y 00:00:00+00:00')\n",
    "df['t'] = pd.to_datetime(df['t'])"
   ]
  },
  {
   "cell_type": "code",
   "execution_count": 11,
   "metadata": {},
   "outputs": [
    {
     "data": {
      "text/html": [
       "<div>\n",
       "<style scoped>\n",
       "    .dataframe tbody tr th:only-of-type {\n",
       "        vertical-align: middle;\n",
       "    }\n",
       "\n",
       "    .dataframe tbody tr th {\n",
       "        vertical-align: top;\n",
       "    }\n",
       "\n",
       "    .dataframe thead th {\n",
       "        text-align: right;\n",
       "    }\n",
       "</style>\n",
       "<table border=\"1\" class=\"dataframe\">\n",
       "  <thead>\n",
       "    <tr style=\"text-align: right;\">\n",
       "      <th></th>\n",
       "      <th>t</th>\n",
       "      <th>c</th>\n",
       "      <th>o</th>\n",
       "      <th>h</th>\n",
       "      <th>l</th>\n",
       "      <th>v</th>\n",
       "      <th>s</th>\n",
       "    </tr>\n",
       "  </thead>\n",
       "  <tbody>\n",
       "    <tr>\n",
       "      <th>0</th>\n",
       "      <td>2018-06-04 00:00:00+00:00</td>\n",
       "      <td>16.55</td>\n",
       "      <td>16.55</td>\n",
       "      <td>16.97</td>\n",
       "      <td>16.55</td>\n",
       "      <td>2811840</td>\n",
       "      <td>ok</td>\n",
       "    </tr>\n",
       "    <tr>\n",
       "      <th>1</th>\n",
       "      <td>2018-06-05 00:00:00+00:00</td>\n",
       "      <td>15.52</td>\n",
       "      <td>16.02</td>\n",
       "      <td>17.13</td>\n",
       "      <td>15.52</td>\n",
       "      <td>1357500</td>\n",
       "      <td>ok</td>\n",
       "    </tr>\n",
       "    <tr>\n",
       "      <th>2</th>\n",
       "      <td>2018-06-06 00:00:00+00:00</td>\n",
       "      <td>14.87</td>\n",
       "      <td>15.35</td>\n",
       "      <td>15.52</td>\n",
       "      <td>14.71</td>\n",
       "      <td>1605480</td>\n",
       "      <td>ok</td>\n",
       "    </tr>\n",
       "    <tr>\n",
       "      <th>3</th>\n",
       "      <td>2018-06-07 00:00:00+00:00</td>\n",
       "      <td>15.90</td>\n",
       "      <td>15.27</td>\n",
       "      <td>15.90</td>\n",
       "      <td>15.05</td>\n",
       "      <td>1376540</td>\n",
       "      <td>ok</td>\n",
       "    </tr>\n",
       "    <tr>\n",
       "      <th>4</th>\n",
       "      <td>2018-06-08 00:00:00+00:00</td>\n",
       "      <td>17.00</td>\n",
       "      <td>16.32</td>\n",
       "      <td>17.00</td>\n",
       "      <td>16.08</td>\n",
       "      <td>2008500</td>\n",
       "      <td>ok</td>\n",
       "    </tr>\n",
       "    <tr>\n",
       "      <th>...</th>\n",
       "      <td>...</td>\n",
       "      <td>...</td>\n",
       "      <td>...</td>\n",
       "      <td>...</td>\n",
       "      <td>...</td>\n",
       "      <td>...</td>\n",
       "      <td>...</td>\n",
       "    </tr>\n",
       "    <tr>\n",
       "      <th>1617</th>\n",
       "      <td>2024-11-18 00:00:00+00:00</td>\n",
       "      <td>22.45</td>\n",
       "      <td>22.40</td>\n",
       "      <td>22.70</td>\n",
       "      <td>22.20</td>\n",
       "      <td>12110400</td>\n",
       "      <td>ok</td>\n",
       "    </tr>\n",
       "    <tr>\n",
       "      <th>1618</th>\n",
       "      <td>2024-11-19 00:00:00+00:00</td>\n",
       "      <td>22.40</td>\n",
       "      <td>22.55</td>\n",
       "      <td>22.55</td>\n",
       "      <td>22.20</td>\n",
       "      <td>6936100</td>\n",
       "      <td>ok</td>\n",
       "    </tr>\n",
       "    <tr>\n",
       "      <th>1619</th>\n",
       "      <td>2024-11-20 00:00:00+00:00</td>\n",
       "      <td>22.85</td>\n",
       "      <td>22.30</td>\n",
       "      <td>22.85</td>\n",
       "      <td>22.25</td>\n",
       "      <td>10247500</td>\n",
       "      <td>ok</td>\n",
       "    </tr>\n",
       "    <tr>\n",
       "      <th>1620</th>\n",
       "      <td>2024-11-21 00:00:00+00:00</td>\n",
       "      <td>23.20</td>\n",
       "      <td>22.80</td>\n",
       "      <td>23.20</td>\n",
       "      <td>22.60</td>\n",
       "      <td>11213000</td>\n",
       "      <td>ok</td>\n",
       "    </tr>\n",
       "    <tr>\n",
       "      <th>1621</th>\n",
       "      <td>2024-11-22 00:00:00+00:00</td>\n",
       "      <td>23.50</td>\n",
       "      <td>23.20</td>\n",
       "      <td>23.55</td>\n",
       "      <td>23.15</td>\n",
       "      <td>14405800</td>\n",
       "      <td>ok</td>\n",
       "    </tr>\n",
       "  </tbody>\n",
       "</table>\n",
       "<p>1622 rows × 7 columns</p>\n",
       "</div>"
      ],
      "text/plain": [
       "                             t      c      o      h      l         v   s\n",
       "0    2018-06-04 00:00:00+00:00  16.55  16.55  16.97  16.55   2811840  ok\n",
       "1    2018-06-05 00:00:00+00:00  15.52  16.02  17.13  15.52   1357500  ok\n",
       "2    2018-06-06 00:00:00+00:00  14.87  15.35  15.52  14.71   1605480  ok\n",
       "3    2018-06-07 00:00:00+00:00  15.90  15.27  15.90  15.05   1376540  ok\n",
       "4    2018-06-08 00:00:00+00:00  17.00  16.32  17.00  16.08   2008500  ok\n",
       "...                        ...    ...    ...    ...    ...       ...  ..\n",
       "1617 2024-11-18 00:00:00+00:00  22.45  22.40  22.70  22.20  12110400  ok\n",
       "1618 2024-11-19 00:00:00+00:00  22.40  22.55  22.55  22.20   6936100  ok\n",
       "1619 2024-11-20 00:00:00+00:00  22.85  22.30  22.85  22.25  10247500  ok\n",
       "1620 2024-11-21 00:00:00+00:00  23.20  22.80  23.20  22.60  11213000  ok\n",
       "1621 2024-11-22 00:00:00+00:00  23.50  23.20  23.55  23.15  14405800  ok\n",
       "\n",
       "[1622 rows x 7 columns]"
      ]
     },
     "execution_count": 11,
     "metadata": {},
     "output_type": "execute_result"
    }
   ],
   "source": [
    "df"
   ]
  },
  {
   "cell_type": "code",
   "execution_count": 12,
   "metadata": {},
   "outputs": [],
   "source": [
    "df.rename(\n",
    "    columns={\n",
    "        \"t\": \"Date\",\n",
    "        \"c\": \"Close\",\n",
    "        \"o\": \"Open\",\n",
    "        \"h\": \"High\",\n",
    "        \"l\": \"Low\",\n",
    "        \"v\": \"Volume\"\n",
    "    },\n",
    "    inplace=True\n",
    ")\n",
    "df.drop(columns=[\"s\"], inplace=True)"
   ]
  },
  {
   "cell_type": "code",
   "execution_count": 13,
   "metadata": {},
   "outputs": [
    {
     "data": {
      "text/html": [
       "<div>\n",
       "<style scoped>\n",
       "    .dataframe tbody tr th:only-of-type {\n",
       "        vertical-align: middle;\n",
       "    }\n",
       "\n",
       "    .dataframe tbody tr th {\n",
       "        vertical-align: top;\n",
       "    }\n",
       "\n",
       "    .dataframe thead th {\n",
       "        text-align: right;\n",
       "    }\n",
       "</style>\n",
       "<table border=\"1\" class=\"dataframe\">\n",
       "  <thead>\n",
       "    <tr style=\"text-align: right;\">\n",
       "      <th></th>\n",
       "      <th>Date</th>\n",
       "      <th>Close</th>\n",
       "      <th>Open</th>\n",
       "      <th>High</th>\n",
       "      <th>Low</th>\n",
       "      <th>Volume</th>\n",
       "    </tr>\n",
       "  </thead>\n",
       "  <tbody>\n",
       "    <tr>\n",
       "      <th>0</th>\n",
       "      <td>2018-06-04 00:00:00+00:00</td>\n",
       "      <td>16.55</td>\n",
       "      <td>16.55</td>\n",
       "      <td>16.97</td>\n",
       "      <td>16.55</td>\n",
       "      <td>2811840</td>\n",
       "    </tr>\n",
       "    <tr>\n",
       "      <th>1</th>\n",
       "      <td>2018-06-05 00:00:00+00:00</td>\n",
       "      <td>15.52</td>\n",
       "      <td>16.02</td>\n",
       "      <td>17.13</td>\n",
       "      <td>15.52</td>\n",
       "      <td>1357500</td>\n",
       "    </tr>\n",
       "    <tr>\n",
       "      <th>2</th>\n",
       "      <td>2018-06-06 00:00:00+00:00</td>\n",
       "      <td>14.87</td>\n",
       "      <td>15.35</td>\n",
       "      <td>15.52</td>\n",
       "      <td>14.71</td>\n",
       "      <td>1605480</td>\n",
       "    </tr>\n",
       "    <tr>\n",
       "      <th>3</th>\n",
       "      <td>2018-06-07 00:00:00+00:00</td>\n",
       "      <td>15.90</td>\n",
       "      <td>15.27</td>\n",
       "      <td>15.90</td>\n",
       "      <td>15.05</td>\n",
       "      <td>1376540</td>\n",
       "    </tr>\n",
       "    <tr>\n",
       "      <th>4</th>\n",
       "      <td>2018-06-08 00:00:00+00:00</td>\n",
       "      <td>17.00</td>\n",
       "      <td>16.32</td>\n",
       "      <td>17.00</td>\n",
       "      <td>16.08</td>\n",
       "      <td>2008500</td>\n",
       "    </tr>\n",
       "    <tr>\n",
       "      <th>...</th>\n",
       "      <td>...</td>\n",
       "      <td>...</td>\n",
       "      <td>...</td>\n",
       "      <td>...</td>\n",
       "      <td>...</td>\n",
       "      <td>...</td>\n",
       "    </tr>\n",
       "    <tr>\n",
       "      <th>1617</th>\n",
       "      <td>2024-11-18 00:00:00+00:00</td>\n",
       "      <td>22.45</td>\n",
       "      <td>22.40</td>\n",
       "      <td>22.70</td>\n",
       "      <td>22.20</td>\n",
       "      <td>12110400</td>\n",
       "    </tr>\n",
       "    <tr>\n",
       "      <th>1618</th>\n",
       "      <td>2024-11-19 00:00:00+00:00</td>\n",
       "      <td>22.40</td>\n",
       "      <td>22.55</td>\n",
       "      <td>22.55</td>\n",
       "      <td>22.20</td>\n",
       "      <td>6936100</td>\n",
       "    </tr>\n",
       "    <tr>\n",
       "      <th>1619</th>\n",
       "      <td>2024-11-20 00:00:00+00:00</td>\n",
       "      <td>22.85</td>\n",
       "      <td>22.30</td>\n",
       "      <td>22.85</td>\n",
       "      <td>22.25</td>\n",
       "      <td>10247500</td>\n",
       "    </tr>\n",
       "    <tr>\n",
       "      <th>1620</th>\n",
       "      <td>2024-11-21 00:00:00+00:00</td>\n",
       "      <td>23.20</td>\n",
       "      <td>22.80</td>\n",
       "      <td>23.20</td>\n",
       "      <td>22.60</td>\n",
       "      <td>11213000</td>\n",
       "    </tr>\n",
       "    <tr>\n",
       "      <th>1621</th>\n",
       "      <td>2024-11-22 00:00:00+00:00</td>\n",
       "      <td>23.50</td>\n",
       "      <td>23.20</td>\n",
       "      <td>23.55</td>\n",
       "      <td>23.15</td>\n",
       "      <td>14405800</td>\n",
       "    </tr>\n",
       "  </tbody>\n",
       "</table>\n",
       "<p>1622 rows × 6 columns</p>\n",
       "</div>"
      ],
      "text/plain": [
       "                          Date  Close   Open   High    Low    Volume\n",
       "0    2018-06-04 00:00:00+00:00  16.55  16.55  16.97  16.55   2811840\n",
       "1    2018-06-05 00:00:00+00:00  15.52  16.02  17.13  15.52   1357500\n",
       "2    2018-06-06 00:00:00+00:00  14.87  15.35  15.52  14.71   1605480\n",
       "3    2018-06-07 00:00:00+00:00  15.90  15.27  15.90  15.05   1376540\n",
       "4    2018-06-08 00:00:00+00:00  17.00  16.32  17.00  16.08   2008500\n",
       "...                        ...    ...    ...    ...    ...       ...\n",
       "1617 2024-11-18 00:00:00+00:00  22.45  22.40  22.70  22.20  12110400\n",
       "1618 2024-11-19 00:00:00+00:00  22.40  22.55  22.55  22.20   6936100\n",
       "1619 2024-11-20 00:00:00+00:00  22.85  22.30  22.85  22.25  10247500\n",
       "1620 2024-11-21 00:00:00+00:00  23.20  22.80  23.20  22.60  11213000\n",
       "1621 2024-11-22 00:00:00+00:00  23.50  23.20  23.55  23.15  14405800\n",
       "\n",
       "[1622 rows x 6 columns]"
      ]
     },
     "execution_count": 13,
     "metadata": {},
     "output_type": "execute_result"
    }
   ],
   "source": [
    "df"
   ]
  },
  {
   "cell_type": "code",
   "execution_count": 14,
   "metadata": {},
   "outputs": [
    {
     "data": {
      "text/plain": [
       "Timestamp('2018-06-04 00:00:00+0000', tz='UTC')"
      ]
     },
     "execution_count": 14,
     "metadata": {},
     "output_type": "execute_result"
    }
   ],
   "source": [
    "df[\"Date\"].min()"
   ]
  },
  {
   "cell_type": "code",
   "execution_count": 15,
   "metadata": {},
   "outputs": [
    {
     "data": {
      "text/plain": [
       "Timestamp('2024-11-22 00:00:00+0000', tz='UTC')"
      ]
     },
     "execution_count": 15,
     "metadata": {},
     "output_type": "execute_result"
    }
   ],
   "source": [
    "df[\"Date\"].max()"
   ]
  },
  {
   "cell_type": "code",
   "execution_count": 16,
   "metadata": {},
   "outputs": [],
   "source": [
    "symbol = symbol.replace(\".\", \"_\").lower()"
   ]
  },
  {
   "cell_type": "code",
   "execution_count": 22,
   "metadata": {},
   "outputs": [],
   "source": [
    "min_date = df[\"Date\"].min().date()\n",
    "max_date = df[\"Date\"].max().date()\n",
    "folder_save = f\"../../data/{symbol}\"\n",
    "os.makedirs(folder_save, exist_ok=True)\n",
    "file_name = f\"{folder_save}/{symbol}-{str(min_date)}-to-{str(max_date)}.csv\""
   ]
  },
  {
   "cell_type": "code",
   "execution_count": 23,
   "metadata": {},
   "outputs": [],
   "source": [
    "file_name = file_name.replace(\"-\", \"_\")"
   ]
  },
  {
   "cell_type": "code",
   "execution_count": 24,
   "metadata": {},
   "outputs": [
    {
     "data": {
      "text/plain": [
       "'../../data/tcb/tcb_2018_06_04_to_2024_11_22.csv'"
      ]
     },
     "execution_count": 24,
     "metadata": {},
     "output_type": "execute_result"
    }
   ],
   "source": [
    "file_name"
   ]
  },
  {
   "cell_type": "code",
   "execution_count": 25,
   "metadata": {},
   "outputs": [],
   "source": [
    "df.to_csv(file_name, index=False)"
   ]
  }
 ],
 "metadata": {
  "kernelspec": {
   "display_name": ".venv",
   "language": "python",
   "name": "python3"
  },
  "language_info": {
   "codemirror_mode": {
    "name": "ipython",
    "version": 3
   },
   "file_extension": ".py",
   "mimetype": "text/x-python",
   "name": "python",
   "nbconvert_exporter": "python",
   "pygments_lexer": "ipython3",
   "version": "3.9.7"
  }
 },
 "nbformat": 4,
 "nbformat_minor": 2
}
