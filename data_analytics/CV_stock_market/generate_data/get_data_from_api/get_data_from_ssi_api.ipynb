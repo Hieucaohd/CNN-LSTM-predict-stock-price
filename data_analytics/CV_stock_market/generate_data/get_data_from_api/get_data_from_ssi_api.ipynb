{
 "cells": [
  {
   "cell_type": "code",
   "execution_count": 1,
   "metadata": {},
   "outputs": [],
   "source": [
    "import requests\n",
    "import pandas as pd\n",
    "import numpy as np\n",
    "from datetime import datetime"
   ]
  },
  {
   "cell_type": "code",
   "execution_count": null,
   "metadata": {},
   "outputs": [],
   "source": [
    "symbol = 'CTG'\n",
    "query_string = {\n",
    "    'symbol': symbol, \n",
    "}\n",
    "query_string[\"resolution\"] = \"1D\"\n",
    "query_string[\"from\"] = str(datetime(2000, 1, 1).timestamp())\n",
    "query_string[\"to\"] = str(datetime.now().timestamp())"
   ]
  },
  {
   "cell_type": "code",
   "execution_count": 5,
   "metadata": {},
   "outputs": [
    {
     "data": {
      "text/plain": [
       "{'symbol': 'CTG',\n",
       " 'resolution': '1D',\n",
       " 'from': '946659600.0',\n",
       " 'to': '1732251373.281412'}"
      ]
     },
     "execution_count": 5,
     "metadata": {},
     "output_type": "execute_result"
    }
   ],
   "source": [
    "query_string"
   ]
  },
  {
   "cell_type": "code",
   "execution_count": 6,
   "metadata": {},
   "outputs": [],
   "source": [
    "headers = {'accept': 'application/json, text/plain, */*',\n",
    "           'accept-encoding': 'gzip, deflate, br, zstd',\n",
    "           'accept-language': 'en-US,en;q=0.9',\n",
    "           'origin': 'https://iboard.ssi.com.vn',\n",
    "           'priority': 'u=1, i',\n",
    "           'referer': 'https://iboard.ssi.com.vn/',\n",
    "           'sec-ch-ua': '\"Not/A)Brand\";v=\"8\", \"Chromium\";v=\"126\", \"Microsoft Edge\";v=\"126\"',\n",
    "           'sec-ch-ua-mobile': '?0',\n",
    "           'sec-ch-ua-platform': '\"Windows\"',\n",
    "           'sec-fetch-dest': 'empty',\n",
    "           'sec-fetch-mode': 'cors',\n",
    "           'sec-fetch-site': 'same-site',\n",
    "           'user-agent': 'Mozilla/5.0 (Windows NT 10.0; Win64; x64) AppleWebKit/537.36 (KHTML, like Gecko) Chrome/126.0.0.0 Safari/537.36 Edg/126.0.0.0'}"
   ]
  },
  {
   "cell_type": "code",
   "execution_count": 7,
   "metadata": {},
   "outputs": [],
   "source": [
    "url_without_params = 'https://iboard-api.ssi.com.vn/statistics/charts/history'"
   ]
  },
  {
   "cell_type": "code",
   "execution_count": 8,
   "metadata": {},
   "outputs": [],
   "source": [
    "response = requests.get(\n",
    "    url=url_without_params,\n",
    "    headers=headers,\n",
    "    params=query_string\n",
    ")"
   ]
  },
  {
   "cell_type": "code",
   "execution_count": 9,
   "metadata": {},
   "outputs": [
    {
     "data": {
      "text/plain": [
       "200"
      ]
     },
     "execution_count": 9,
     "metadata": {},
     "output_type": "execute_result"
    }
   ],
   "source": [
    "response.status_code"
   ]
  },
  {
   "cell_type": "code",
   "execution_count": 10,
   "metadata": {},
   "outputs": [],
   "source": [
    "df = pd.DataFrame(response.json()[\"data\"])"
   ]
  },
  {
   "cell_type": "code",
   "execution_count": 11,
   "metadata": {},
   "outputs": [
    {
     "data": {
      "text/html": [
       "<div>\n",
       "<style scoped>\n",
       "    .dataframe tbody tr th:only-of-type {\n",
       "        vertical-align: middle;\n",
       "    }\n",
       "\n",
       "    .dataframe tbody tr th {\n",
       "        vertical-align: top;\n",
       "    }\n",
       "\n",
       "    .dataframe thead th {\n",
       "        text-align: right;\n",
       "    }\n",
       "</style>\n",
       "<table border=\"1\" class=\"dataframe\">\n",
       "  <thead>\n",
       "    <tr style=\"text-align: right;\">\n",
       "      <th></th>\n",
       "      <th>t</th>\n",
       "      <th>c</th>\n",
       "      <th>o</th>\n",
       "      <th>h</th>\n",
       "      <th>l</th>\n",
       "      <th>v</th>\n",
       "      <th>s</th>\n",
       "    </tr>\n",
       "  </thead>\n",
       "  <tbody>\n",
       "    <tr>\n",
       "      <th>0</th>\n",
       "      <td>1247702400</td>\n",
       "      <td>10.49</td>\n",
       "      <td>10.47</td>\n",
       "      <td>11.77</td>\n",
       "      <td>10.47</td>\n",
       "      <td>2401900</td>\n",
       "      <td>ok</td>\n",
       "    </tr>\n",
       "    <tr>\n",
       "      <th>1</th>\n",
       "      <td>1247788800</td>\n",
       "      <td>9.97</td>\n",
       "      <td>10.10</td>\n",
       "      <td>10.20</td>\n",
       "      <td>9.97</td>\n",
       "      <td>1002480</td>\n",
       "      <td>ok</td>\n",
       "    </tr>\n",
       "    <tr>\n",
       "      <th>2</th>\n",
       "      <td>1248048000</td>\n",
       "      <td>9.47</td>\n",
       "      <td>9.47</td>\n",
       "      <td>9.47</td>\n",
       "      <td>9.47</td>\n",
       "      <td>156560</td>\n",
       "      <td>ok</td>\n",
       "    </tr>\n",
       "    <tr>\n",
       "      <th>3</th>\n",
       "      <td>1248134400</td>\n",
       "      <td>9.13</td>\n",
       "      <td>9.00</td>\n",
       "      <td>9.29</td>\n",
       "      <td>9.00</td>\n",
       "      <td>2133390</td>\n",
       "      <td>ok</td>\n",
       "    </tr>\n",
       "    <tr>\n",
       "      <th>4</th>\n",
       "      <td>1248220800</td>\n",
       "      <td>9.26</td>\n",
       "      <td>9.29</td>\n",
       "      <td>9.39</td>\n",
       "      <td>9.16</td>\n",
       "      <td>949090</td>\n",
       "      <td>ok</td>\n",
       "    </tr>\n",
       "    <tr>\n",
       "      <th>...</th>\n",
       "      <td>...</td>\n",
       "      <td>...</td>\n",
       "      <td>...</td>\n",
       "      <td>...</td>\n",
       "      <td>...</td>\n",
       "      <td>...</td>\n",
       "      <td>...</td>\n",
       "    </tr>\n",
       "    <tr>\n",
       "      <th>3824</th>\n",
       "      <td>1731888000</td>\n",
       "      <td>33.30</td>\n",
       "      <td>33.10</td>\n",
       "      <td>33.65</td>\n",
       "      <td>32.70</td>\n",
       "      <td>4072900</td>\n",
       "      <td>ok</td>\n",
       "    </tr>\n",
       "    <tr>\n",
       "      <th>3825</th>\n",
       "      <td>1731974400</td>\n",
       "      <td>33.35</td>\n",
       "      <td>33.50</td>\n",
       "      <td>33.60</td>\n",
       "      <td>33.00</td>\n",
       "      <td>5280700</td>\n",
       "      <td>ok</td>\n",
       "    </tr>\n",
       "    <tr>\n",
       "      <th>3826</th>\n",
       "      <td>1732060800</td>\n",
       "      <td>34.00</td>\n",
       "      <td>33.05</td>\n",
       "      <td>34.00</td>\n",
       "      <td>33.05</td>\n",
       "      <td>6494000</td>\n",
       "      <td>ok</td>\n",
       "    </tr>\n",
       "    <tr>\n",
       "      <th>3827</th>\n",
       "      <td>1732147200</td>\n",
       "      <td>35.00</td>\n",
       "      <td>34.00</td>\n",
       "      <td>35.00</td>\n",
       "      <td>33.60</td>\n",
       "      <td>7810800</td>\n",
       "      <td>ok</td>\n",
       "    </tr>\n",
       "    <tr>\n",
       "      <th>3828</th>\n",
       "      <td>1732233600</td>\n",
       "      <td>35.10</td>\n",
       "      <td>34.90</td>\n",
       "      <td>35.20</td>\n",
       "      <td>34.70</td>\n",
       "      <td>2162100</td>\n",
       "      <td>ok</td>\n",
       "    </tr>\n",
       "  </tbody>\n",
       "</table>\n",
       "<p>3829 rows × 7 columns</p>\n",
       "</div>"
      ],
      "text/plain": [
       "               t      c      o      h      l        v   s\n",
       "0     1247702400  10.49  10.47  11.77  10.47  2401900  ok\n",
       "1     1247788800   9.97  10.10  10.20   9.97  1002480  ok\n",
       "2     1248048000   9.47   9.47   9.47   9.47   156560  ok\n",
       "3     1248134400   9.13   9.00   9.29   9.00  2133390  ok\n",
       "4     1248220800   9.26   9.29   9.39   9.16   949090  ok\n",
       "...          ...    ...    ...    ...    ...      ...  ..\n",
       "3824  1731888000  33.30  33.10  33.65  32.70  4072900  ok\n",
       "3825  1731974400  33.35  33.50  33.60  33.00  5280700  ok\n",
       "3826  1732060800  34.00  33.05  34.00  33.05  6494000  ok\n",
       "3827  1732147200  35.00  34.00  35.00  33.60  7810800  ok\n",
       "3828  1732233600  35.10  34.90  35.20  34.70  2162100  ok\n",
       "\n",
       "[3829 rows x 7 columns]"
      ]
     },
     "execution_count": 11,
     "metadata": {},
     "output_type": "execute_result"
    }
   ],
   "source": [
    "df"
   ]
  },
  {
   "cell_type": "code",
   "execution_count": 12,
   "metadata": {},
   "outputs": [],
   "source": [
    "df['t'] = pd.to_datetime(df['t'], unit='s').dt.strftime('%m-%d-%Y 00:00:00+00:00')\n",
    "df['t'] = pd.to_datetime(df['t'])"
   ]
  },
  {
   "cell_type": "code",
   "execution_count": 13,
   "metadata": {},
   "outputs": [
    {
     "data": {
      "text/html": [
       "<div>\n",
       "<style scoped>\n",
       "    .dataframe tbody tr th:only-of-type {\n",
       "        vertical-align: middle;\n",
       "    }\n",
       "\n",
       "    .dataframe tbody tr th {\n",
       "        vertical-align: top;\n",
       "    }\n",
       "\n",
       "    .dataframe thead th {\n",
       "        text-align: right;\n",
       "    }\n",
       "</style>\n",
       "<table border=\"1\" class=\"dataframe\">\n",
       "  <thead>\n",
       "    <tr style=\"text-align: right;\">\n",
       "      <th></th>\n",
       "      <th>t</th>\n",
       "      <th>c</th>\n",
       "      <th>o</th>\n",
       "      <th>h</th>\n",
       "      <th>l</th>\n",
       "      <th>v</th>\n",
       "      <th>s</th>\n",
       "    </tr>\n",
       "  </thead>\n",
       "  <tbody>\n",
       "    <tr>\n",
       "      <th>0</th>\n",
       "      <td>2009-07-16 00:00:00+00:00</td>\n",
       "      <td>10.49</td>\n",
       "      <td>10.47</td>\n",
       "      <td>11.77</td>\n",
       "      <td>10.47</td>\n",
       "      <td>2401900</td>\n",
       "      <td>ok</td>\n",
       "    </tr>\n",
       "    <tr>\n",
       "      <th>1</th>\n",
       "      <td>2009-07-17 00:00:00+00:00</td>\n",
       "      <td>9.97</td>\n",
       "      <td>10.10</td>\n",
       "      <td>10.20</td>\n",
       "      <td>9.97</td>\n",
       "      <td>1002480</td>\n",
       "      <td>ok</td>\n",
       "    </tr>\n",
       "    <tr>\n",
       "      <th>2</th>\n",
       "      <td>2009-07-20 00:00:00+00:00</td>\n",
       "      <td>9.47</td>\n",
       "      <td>9.47</td>\n",
       "      <td>9.47</td>\n",
       "      <td>9.47</td>\n",
       "      <td>156560</td>\n",
       "      <td>ok</td>\n",
       "    </tr>\n",
       "    <tr>\n",
       "      <th>3</th>\n",
       "      <td>2009-07-21 00:00:00+00:00</td>\n",
       "      <td>9.13</td>\n",
       "      <td>9.00</td>\n",
       "      <td>9.29</td>\n",
       "      <td>9.00</td>\n",
       "      <td>2133390</td>\n",
       "      <td>ok</td>\n",
       "    </tr>\n",
       "    <tr>\n",
       "      <th>4</th>\n",
       "      <td>2009-07-22 00:00:00+00:00</td>\n",
       "      <td>9.26</td>\n",
       "      <td>9.29</td>\n",
       "      <td>9.39</td>\n",
       "      <td>9.16</td>\n",
       "      <td>949090</td>\n",
       "      <td>ok</td>\n",
       "    </tr>\n",
       "    <tr>\n",
       "      <th>...</th>\n",
       "      <td>...</td>\n",
       "      <td>...</td>\n",
       "      <td>...</td>\n",
       "      <td>...</td>\n",
       "      <td>...</td>\n",
       "      <td>...</td>\n",
       "      <td>...</td>\n",
       "    </tr>\n",
       "    <tr>\n",
       "      <th>3824</th>\n",
       "      <td>2024-11-18 00:00:00+00:00</td>\n",
       "      <td>33.30</td>\n",
       "      <td>33.10</td>\n",
       "      <td>33.65</td>\n",
       "      <td>32.70</td>\n",
       "      <td>4072900</td>\n",
       "      <td>ok</td>\n",
       "    </tr>\n",
       "    <tr>\n",
       "      <th>3825</th>\n",
       "      <td>2024-11-19 00:00:00+00:00</td>\n",
       "      <td>33.35</td>\n",
       "      <td>33.50</td>\n",
       "      <td>33.60</td>\n",
       "      <td>33.00</td>\n",
       "      <td>5280700</td>\n",
       "      <td>ok</td>\n",
       "    </tr>\n",
       "    <tr>\n",
       "      <th>3826</th>\n",
       "      <td>2024-11-20 00:00:00+00:00</td>\n",
       "      <td>34.00</td>\n",
       "      <td>33.05</td>\n",
       "      <td>34.00</td>\n",
       "      <td>33.05</td>\n",
       "      <td>6494000</td>\n",
       "      <td>ok</td>\n",
       "    </tr>\n",
       "    <tr>\n",
       "      <th>3827</th>\n",
       "      <td>2024-11-21 00:00:00+00:00</td>\n",
       "      <td>35.00</td>\n",
       "      <td>34.00</td>\n",
       "      <td>35.00</td>\n",
       "      <td>33.60</td>\n",
       "      <td>7810800</td>\n",
       "      <td>ok</td>\n",
       "    </tr>\n",
       "    <tr>\n",
       "      <th>3828</th>\n",
       "      <td>2024-11-22 00:00:00+00:00</td>\n",
       "      <td>35.10</td>\n",
       "      <td>34.90</td>\n",
       "      <td>35.20</td>\n",
       "      <td>34.70</td>\n",
       "      <td>2162100</td>\n",
       "      <td>ok</td>\n",
       "    </tr>\n",
       "  </tbody>\n",
       "</table>\n",
       "<p>3829 rows × 7 columns</p>\n",
       "</div>"
      ],
      "text/plain": [
       "                             t      c      o      h      l        v   s\n",
       "0    2009-07-16 00:00:00+00:00  10.49  10.47  11.77  10.47  2401900  ok\n",
       "1    2009-07-17 00:00:00+00:00   9.97  10.10  10.20   9.97  1002480  ok\n",
       "2    2009-07-20 00:00:00+00:00   9.47   9.47   9.47   9.47   156560  ok\n",
       "3    2009-07-21 00:00:00+00:00   9.13   9.00   9.29   9.00  2133390  ok\n",
       "4    2009-07-22 00:00:00+00:00   9.26   9.29   9.39   9.16   949090  ok\n",
       "...                        ...    ...    ...    ...    ...      ...  ..\n",
       "3824 2024-11-18 00:00:00+00:00  33.30  33.10  33.65  32.70  4072900  ok\n",
       "3825 2024-11-19 00:00:00+00:00  33.35  33.50  33.60  33.00  5280700  ok\n",
       "3826 2024-11-20 00:00:00+00:00  34.00  33.05  34.00  33.05  6494000  ok\n",
       "3827 2024-11-21 00:00:00+00:00  35.00  34.00  35.00  33.60  7810800  ok\n",
       "3828 2024-11-22 00:00:00+00:00  35.10  34.90  35.20  34.70  2162100  ok\n",
       "\n",
       "[3829 rows x 7 columns]"
      ]
     },
     "execution_count": 13,
     "metadata": {},
     "output_type": "execute_result"
    }
   ],
   "source": [
    "df"
   ]
  },
  {
   "cell_type": "code",
   "execution_count": 14,
   "metadata": {},
   "outputs": [],
   "source": [
    "df.rename(\n",
    "    columns={\n",
    "        \"t\": \"Date\",\n",
    "        \"c\": \"Close\",\n",
    "        \"o\": \"Open\",\n",
    "        \"h\": \"High\",\n",
    "        \"l\": \"Low\",\n",
    "        \"v\": \"Volume\"\n",
    "    },\n",
    "    inplace=True\n",
    ")\n",
    "df.drop(columns=[\"s\"], inplace=True)"
   ]
  },
  {
   "cell_type": "code",
   "execution_count": 15,
   "metadata": {},
   "outputs": [
    {
     "data": {
      "text/html": [
       "<div>\n",
       "<style scoped>\n",
       "    .dataframe tbody tr th:only-of-type {\n",
       "        vertical-align: middle;\n",
       "    }\n",
       "\n",
       "    .dataframe tbody tr th {\n",
       "        vertical-align: top;\n",
       "    }\n",
       "\n",
       "    .dataframe thead th {\n",
       "        text-align: right;\n",
       "    }\n",
       "</style>\n",
       "<table border=\"1\" class=\"dataframe\">\n",
       "  <thead>\n",
       "    <tr style=\"text-align: right;\">\n",
       "      <th></th>\n",
       "      <th>Date</th>\n",
       "      <th>Close</th>\n",
       "      <th>Open</th>\n",
       "      <th>High</th>\n",
       "      <th>Low</th>\n",
       "      <th>Volume</th>\n",
       "    </tr>\n",
       "  </thead>\n",
       "  <tbody>\n",
       "    <tr>\n",
       "      <th>0</th>\n",
       "      <td>2009-07-16 00:00:00+00:00</td>\n",
       "      <td>10.49</td>\n",
       "      <td>10.47</td>\n",
       "      <td>11.77</td>\n",
       "      <td>10.47</td>\n",
       "      <td>2401900</td>\n",
       "    </tr>\n",
       "    <tr>\n",
       "      <th>1</th>\n",
       "      <td>2009-07-17 00:00:00+00:00</td>\n",
       "      <td>9.97</td>\n",
       "      <td>10.10</td>\n",
       "      <td>10.20</td>\n",
       "      <td>9.97</td>\n",
       "      <td>1002480</td>\n",
       "    </tr>\n",
       "    <tr>\n",
       "      <th>2</th>\n",
       "      <td>2009-07-20 00:00:00+00:00</td>\n",
       "      <td>9.47</td>\n",
       "      <td>9.47</td>\n",
       "      <td>9.47</td>\n",
       "      <td>9.47</td>\n",
       "      <td>156560</td>\n",
       "    </tr>\n",
       "    <tr>\n",
       "      <th>3</th>\n",
       "      <td>2009-07-21 00:00:00+00:00</td>\n",
       "      <td>9.13</td>\n",
       "      <td>9.00</td>\n",
       "      <td>9.29</td>\n",
       "      <td>9.00</td>\n",
       "      <td>2133390</td>\n",
       "    </tr>\n",
       "    <tr>\n",
       "      <th>4</th>\n",
       "      <td>2009-07-22 00:00:00+00:00</td>\n",
       "      <td>9.26</td>\n",
       "      <td>9.29</td>\n",
       "      <td>9.39</td>\n",
       "      <td>9.16</td>\n",
       "      <td>949090</td>\n",
       "    </tr>\n",
       "    <tr>\n",
       "      <th>...</th>\n",
       "      <td>...</td>\n",
       "      <td>...</td>\n",
       "      <td>...</td>\n",
       "      <td>...</td>\n",
       "      <td>...</td>\n",
       "      <td>...</td>\n",
       "    </tr>\n",
       "    <tr>\n",
       "      <th>3824</th>\n",
       "      <td>2024-11-18 00:00:00+00:00</td>\n",
       "      <td>33.30</td>\n",
       "      <td>33.10</td>\n",
       "      <td>33.65</td>\n",
       "      <td>32.70</td>\n",
       "      <td>4072900</td>\n",
       "    </tr>\n",
       "    <tr>\n",
       "      <th>3825</th>\n",
       "      <td>2024-11-19 00:00:00+00:00</td>\n",
       "      <td>33.35</td>\n",
       "      <td>33.50</td>\n",
       "      <td>33.60</td>\n",
       "      <td>33.00</td>\n",
       "      <td>5280700</td>\n",
       "    </tr>\n",
       "    <tr>\n",
       "      <th>3826</th>\n",
       "      <td>2024-11-20 00:00:00+00:00</td>\n",
       "      <td>34.00</td>\n",
       "      <td>33.05</td>\n",
       "      <td>34.00</td>\n",
       "      <td>33.05</td>\n",
       "      <td>6494000</td>\n",
       "    </tr>\n",
       "    <tr>\n",
       "      <th>3827</th>\n",
       "      <td>2024-11-21 00:00:00+00:00</td>\n",
       "      <td>35.00</td>\n",
       "      <td>34.00</td>\n",
       "      <td>35.00</td>\n",
       "      <td>33.60</td>\n",
       "      <td>7810800</td>\n",
       "    </tr>\n",
       "    <tr>\n",
       "      <th>3828</th>\n",
       "      <td>2024-11-22 00:00:00+00:00</td>\n",
       "      <td>35.10</td>\n",
       "      <td>34.90</td>\n",
       "      <td>35.20</td>\n",
       "      <td>34.70</td>\n",
       "      <td>2162100</td>\n",
       "    </tr>\n",
       "  </tbody>\n",
       "</table>\n",
       "<p>3829 rows × 6 columns</p>\n",
       "</div>"
      ],
      "text/plain": [
       "                          Date  Close   Open   High    Low   Volume\n",
       "0    2009-07-16 00:00:00+00:00  10.49  10.47  11.77  10.47  2401900\n",
       "1    2009-07-17 00:00:00+00:00   9.97  10.10  10.20   9.97  1002480\n",
       "2    2009-07-20 00:00:00+00:00   9.47   9.47   9.47   9.47   156560\n",
       "3    2009-07-21 00:00:00+00:00   9.13   9.00   9.29   9.00  2133390\n",
       "4    2009-07-22 00:00:00+00:00   9.26   9.29   9.39   9.16   949090\n",
       "...                        ...    ...    ...    ...    ...      ...\n",
       "3824 2024-11-18 00:00:00+00:00  33.30  33.10  33.65  32.70  4072900\n",
       "3825 2024-11-19 00:00:00+00:00  33.35  33.50  33.60  33.00  5280700\n",
       "3826 2024-11-20 00:00:00+00:00  34.00  33.05  34.00  33.05  6494000\n",
       "3827 2024-11-21 00:00:00+00:00  35.00  34.00  35.00  33.60  7810800\n",
       "3828 2024-11-22 00:00:00+00:00  35.10  34.90  35.20  34.70  2162100\n",
       "\n",
       "[3829 rows x 6 columns]"
      ]
     },
     "execution_count": 15,
     "metadata": {},
     "output_type": "execute_result"
    }
   ],
   "source": [
    "df"
   ]
  },
  {
   "cell_type": "code",
   "execution_count": 16,
   "metadata": {},
   "outputs": [
    {
     "data": {
      "text/plain": [
       "Timestamp('2009-07-16 00:00:00+0000', tz='UTC')"
      ]
     },
     "execution_count": 16,
     "metadata": {},
     "output_type": "execute_result"
    }
   ],
   "source": [
    "df[\"Date\"].min()"
   ]
  },
  {
   "cell_type": "code",
   "execution_count": 17,
   "metadata": {},
   "outputs": [
    {
     "data": {
      "text/plain": [
       "Timestamp('2024-11-22 00:00:00+0000', tz='UTC')"
      ]
     },
     "execution_count": 17,
     "metadata": {},
     "output_type": "execute_result"
    }
   ],
   "source": [
    "df[\"Date\"].max()"
   ]
  },
  {
   "cell_type": "code",
   "execution_count": 18,
   "metadata": {},
   "outputs": [],
   "source": [
    "symbol = symbol.replace(\".\", \"_\").lower()"
   ]
  },
  {
   "cell_type": "code",
   "execution_count": 19,
   "metadata": {},
   "outputs": [],
   "source": [
    "min_date = df[\"Date\"].min().date()\n",
    "max_date = df[\"Date\"].max().date()\n",
    "file_name = f\"../../data/{symbol}/{symbol}-{str(min_date)}-to-{str(max_date)}.csv\""
   ]
  },
  {
   "cell_type": "code",
   "execution_count": 20,
   "metadata": {},
   "outputs": [],
   "source": [
    "file_name = file_name.replace(\"-\", \"_\")"
   ]
  },
  {
   "cell_type": "code",
   "execution_count": 21,
   "metadata": {},
   "outputs": [
    {
     "data": {
      "text/plain": [
       "'../../data/ctg/ctg_2009_07_16_to_2024_11_22.csv'"
      ]
     },
     "execution_count": 21,
     "metadata": {},
     "output_type": "execute_result"
    }
   ],
   "source": [
    "file_name"
   ]
  },
  {
   "cell_type": "code",
   "execution_count": 22,
   "metadata": {},
   "outputs": [],
   "source": [
    "df.to_csv(file_name, index=False)"
   ]
  }
 ],
 "metadata": {
  "kernelspec": {
   "display_name": ".venv",
   "language": "python",
   "name": "python3"
  },
  "language_info": {
   "codemirror_mode": {
    "name": "ipython",
    "version": 3
   },
   "file_extension": ".py",
   "mimetype": "text/x-python",
   "name": "python",
   "nbconvert_exporter": "python",
   "pygments_lexer": "ipython3",
   "version": "3.9.7"
  }
 },
 "nbformat": 4,
 "nbformat_minor": 2
}
