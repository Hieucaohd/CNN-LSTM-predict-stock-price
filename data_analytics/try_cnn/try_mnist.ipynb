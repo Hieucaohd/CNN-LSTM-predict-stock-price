{
 "cells": [
  {
   "cell_type": "code",
   "execution_count": 1,
   "metadata": {},
   "outputs": [],
   "source": [
    "import tensorflow as tf\n",
    "from tensorflow.keras.datasets import mnist\n",
    "import matplotlib.pyplot as plt\n",
    "import numpy as np\n",
    "from typing import Union, Literal"
   ]
  },
  {
   "cell_type": "code",
   "execution_count": 2,
   "metadata": {},
   "outputs": [],
   "source": [
    "from utils_cnn import (\n",
    "    convolution,\n",
    "    pooling_one_point,\n",
    "    init_kernel,\n",
    "    init_bias_kernel,\n",
    "    convolution_multiple_kernel,\n",
    "    ReLU,\n",
    "    init_weights,\n",
    "    init_bias,\n",
    "    softmax,\n",
    "    one_hot,\n",
    "    cross_entropy_loss,\n",
    "    calculate_cross_entropy_loss_without_softmax_value,\n",
    "    add_padding_multiple_point,\n",
    "    add_dilation_multiple_point,\n",
    "    decode_one_hot,\n",
    "    Sigmoid,\n",
    "    split_chunk_X_Y,\n",
    "    convolution_multiple_kernel_multiple_point,\n",
    "    pooling_multiple_point,\n",
    ")\n",
    "\n",
    "from derivative_cnn import (\n",
    "    derivative_ReLU,\n",
    "    derivative_for_filter_one_point,\n",
    "    derivative_layer_before_max_pooling_for_multiple_point,\n",
    "    derivative_for_filter_multiple_point,\n",
    "    derivative_for_bias_kernel_multiple_point,\n",
    "    derivative_layer_input_convolution_multiple_point,\n",
    "    derivative_Sigmoid,\n",
    ")"
   ]
  },
  {
   "cell_type": "code",
   "execution_count": 3,
   "metadata": {},
   "outputs": [
    {
     "name": "stdout",
     "output_type": "stream",
     "text": [
      "Training data shape: (60000, 28, 28)\n",
      "Testing data shape: (10000, 28, 28)\n"
     ]
    }
   ],
   "source": [
    "# Tải xuống dataset MNIST\n",
    "(X, Y), (X_test, Y_test) = mnist.load_data()\n",
    "\n",
    "# Kiểm tra kích thước của dữ liệu\n",
    "print(\"Training data shape:\", X.shape)  # (60000, 28, 28)\n",
    "print(\"Testing data shape:\", X_test.shape)    # (10000, 28, 28)"
   ]
  },
  {
   "cell_type": "code",
   "execution_count": 4,
   "metadata": {},
   "outputs": [
    {
     "data": {
      "text/plain": [
       "60000"
      ]
     },
     "execution_count": 4,
     "metadata": {},
     "output_type": "execute_result"
    }
   ],
   "source": [
    "len(X)"
   ]
  },
  {
   "cell_type": "code",
   "execution_count": 5,
   "metadata": {},
   "outputs": [
    {
     "data": {
      "text/plain": [
       "<matplotlib.image.AxesImage at 0x2723275e8b0>"
      ]
     },
     "execution_count": 5,
     "metadata": {},
     "output_type": "execute_result"
    },
    {
     "data": {
      "image/png": "[encoded data removed]",
      "text/plain": [
       "<Figure size 640x480 with 1 Axes>"
      ]
     },
     "metadata": {},
     "output_type": "display_data"
    }
   ],
   "source": [
    "plt.imshow(X[0])"
   ]
  },
  {
   "cell_type": "code",
   "execution_count": 6,
   "metadata": {},
   "outputs": [
    {
     "data": {
      "text/plain": [
       "5"
      ]
     },
     "execution_count": 6,
     "metadata": {},
     "output_type": "execute_result"
    }
   ],
   "source": [
    "Y[0]"
   ]
  },
  {
   "cell_type": "code",
   "execution_count": 7,
   "metadata": {},
   "outputs": [],
   "source": [
    "def reshape_list_X(list_X: Union[list[np.ndarray], np.ndarray]):\n",
    "    N = len(list_X)\n",
    "    list_P_0 = list_X\n",
    "    \n",
    "    if (type(list_X) == list and len(list_X[0].shape) == 3) or len(list_X.shape) == 4:\n",
    "        pass\n",
    "    elif type(list_X) == np.ndarray and len(list_X.shape) == 3:\n",
    "        first_X = list_X[0]\n",
    "        X_number_row = first_X.shape[0]\n",
    "        X_number_col = first_X.shape[1]\n",
    "        list_P_0 = list_X.reshape([N, X_number_row, X_number_col, 1])\n",
    "    \n",
    "    return list_P_0\n",
    "\n"
   ]
  },
  {
   "cell_type": "code",
   "execution_count": 8,
   "metadata": {},
   "outputs": [],
   "source": [
    "def forward(\n",
    "    mode: Literal[\"train\", \"predict\"],\n",
    "\n",
    "    list_P_0,\n",
    "    \n",
    "    K_11,\n",
    "    K_12,\n",
    "    bk_11,\n",
    "    bk_12,\n",
    "    sk_1,\n",
    "    sp_1,\n",
    "    size_pool_1,\n",
    "    \n",
    "    Zk_1_size,\n",
    "    C_1_size,\n",
    "    P_1_size,\n",
    "    \n",
    "    K_21,\n",
    "    K_22,\n",
    "    K_23,\n",
    "    K_24,\n",
    "    bk_21,\n",
    "    bk_22,\n",
    "    bk_23,\n",
    "    bk_24,\n",
    "    sk_2,\n",
    "    sp_2,\n",
    "    size_pool_2,\n",
    "\n",
    "    Zk_2_size,\n",
    "    C_2_size,\n",
    "    P_2_size,\n",
    "    \n",
    "    W_1,\n",
    "    b_1,\n",
    "    \n",
    "    W_2,\n",
    "    b_2,\n",
    "    \n",
    "    W_3,\n",
    "    b_3,\n",
    "    \n",
    "    Y=None):\n",
    "        \n",
    "        N = len(list_P_0)\n",
    "        \n",
    "        A_0 = np.zeros((np.prod(P_2_size), N))\n",
    "            \n",
    "        list_Zk_1 = convolution_multiple_kernel_multiple_point(list_P_0, (K_11, K_12), (bk_11, bk_12), sk_1)\n",
    "        list_C_1 = ReLU(list_Zk_1)\n",
    "        list_P_1 = pooling_multiple_point(list_C_1, size_pool_1, stride=sp_1)\n",
    "        \n",
    "        list_Zk_2 = convolution_multiple_kernel_multiple_point(list_P_1, (K_21, K_22, K_23, K_24), (bk_21, bk_22, bk_23, bk_24), sk_2)\n",
    "        list_C_2 = Sigmoid(list_Zk_2)\n",
    "        list_P_2 = pooling_multiple_point(list_C_2, size_pool_2, stride=sp_2)\n",
    "        \n",
    "        A_0 = list_P_2.flatten(order=\"C\").reshape((np.prod(P_2_size), N), order=\"F\")\n",
    "        \n",
    "        # Calculate for fully connected layers\n",
    "        Z_1 = W_1.T.dot(A_0) + b_1\n",
    "        A_1 = ReLU(Z_1)\n",
    "        \n",
    "        Z_2 = W_2.T.dot(A_1) + b_2\n",
    "        A_2 = ReLU(Z_2)\n",
    "        \n",
    "        Z_3 = W_3.T.dot(A_2) + b_3\n",
    "        A_3 = softmax(Z_3) # This is prediction output\n",
    "        \n",
    "        # calculate loss value by cross entropy\n",
    "        loss = 0\n",
    "        if mode == \"train\":\n",
    "            loss = calculate_cross_entropy_loss_without_softmax_value(Y, Z_3)\n",
    "        \n",
    "        return {\n",
    "            \"list_Zk_1\": list_Zk_1,\n",
    "            \"list_C_1\": list_C_1,\n",
    "            \"list_P_1\": list_P_1,\n",
    "            \n",
    "            \"list_Zk_2\": list_Zk_2,\n",
    "            \"list_C_2\": list_C_2,\n",
    "            \"list_P_2\": list_P_2,\n",
    "\n",
    "            \"A_0\": A_0,\n",
    "            \n",
    "            \"Z_1\": Z_1,\n",
    "            \"A_1\": A_1,\n",
    "                    \n",
    "            \"Z_2\": Z_2,\n",
    "            \"A_2\": A_2,\n",
    "            \n",
    "            \"Z_3\": Z_3,\n",
    "            \"A_3\": A_3,\n",
    "            \n",
    "            \"loss\": loss,\n",
    "        }"
   ]
  },
  {
   "cell_type": "code",
   "execution_count": 9,
   "metadata": {},
   "outputs": [],
   "source": [
    "def backpropagation(\n",
    "    settings,\n",
    "    \n",
    "    list_P_0,\n",
    "            \n",
    "    K_11,\n",
    "    K_12,\n",
    "    bk_11,\n",
    "    bk_12,\n",
    "    sk_1,\n",
    "    sp_1,\n",
    "    size_pool_1,\n",
    "    \n",
    "    Zk_1_size,\n",
    "    C_1_size,\n",
    "    P_1_size,\n",
    "    \n",
    "    K_21,\n",
    "    K_22,\n",
    "    K_23,\n",
    "    K_24,\n",
    "    bk_21,\n",
    "    bk_22,\n",
    "    bk_23,\n",
    "    bk_24,\n",
    "    sk_2,\n",
    "    sp_2,\n",
    "    size_pool_2,\n",
    "    \n",
    "    Zk_2_size,\n",
    "    C_2_size,\n",
    "    P_2_size,\n",
    "    \n",
    "    W_1,\n",
    "    b_1,\n",
    "    \n",
    "    W_2,\n",
    "    b_2,\n",
    "    \n",
    "    W_3,\n",
    "    b_3,\n",
    "    \n",
    "    Y\n",
    "):\n",
    "    \"\"\"\n",
    "    The derivative in this function can be proved in file: ./derivative_in_convolution 1.xlsx\n",
    "    \"\"\"\n",
    "    for i in range(settings[\"epochs\"]):\n",
    "        output_forward = forward(\n",
    "            \"train\",\n",
    "            \n",
    "            list_P_0,\n",
    "            \n",
    "            K_11,\n",
    "            K_12,\n",
    "            bk_11,\n",
    "            bk_12,\n",
    "            sk_1,\n",
    "            sp_1,\n",
    "            size_pool_1,\n",
    "            \n",
    "            Zk_1_size,\n",
    "            C_1_size,\n",
    "            P_1_size,\n",
    "            \n",
    "            K_21,\n",
    "            K_22,\n",
    "            K_23,\n",
    "            K_24,\n",
    "            bk_21,\n",
    "            bk_22,\n",
    "            bk_23,\n",
    "            bk_24,\n",
    "            sk_2,\n",
    "            sp_2,\n",
    "            size_pool_2,\n",
    "            \n",
    "            Zk_2_size,\n",
    "            C_2_size,\n",
    "            P_2_size,\n",
    "            \n",
    "            W_1,\n",
    "            b_1,\n",
    "            W_2,\n",
    "            b_2,\n",
    "            W_3,\n",
    "            b_3,\n",
    "            \n",
    "            Y\n",
    "        )\n",
    "        \n",
    "        \n",
    "        list_Zk_1 = output_forward[\"list_Zk_1\"] \n",
    "        list_C_1 = output_forward[\"list_C_1\"] \n",
    "        list_P_1 = output_forward[\"list_P_1\"] \n",
    "        \n",
    "        list_Zk_2 = output_forward[\"list_Zk_2\"] \n",
    "        list_C_2 = output_forward[\"list_C_2\"] \n",
    "        list_P_2 = output_forward[\"list_P_2\"] \n",
    "        \n",
    "        A_0 = output_forward[\"A_0\"] \n",
    "        \n",
    "        Z_1 = output_forward[\"Z_1\"] \n",
    "        A_1 = output_forward[\"A_1\"] \n",
    "       \n",
    "        Z_2 = output_forward[\"Z_2\"] \n",
    "        A_2 = output_forward[\"A_2\"] \n",
    "        \n",
    "        Z_3 = output_forward[\"Z_3\"] \n",
    "        A_3 = output_forward[\"A_3\"] \n",
    "       \n",
    "        loss = output_forward[\"loss\"] \n",
    "        \n",
    "        \n",
    "        N = len(list_P_0)\n",
    "        print(f\"loop = {i}, loss = {loss}\")\n",
    "        \n",
    "        # Backpropagation for fully connected layers\n",
    "    \n",
    "        E_3 = 1/N * (A_3 - Y)\n",
    "        dL_dW_3 = A_2.dot(E_3.T)\n",
    "        dL_db_3 = np.sum(E_3, axis=1, keepdims=True)\n",
    "        \n",
    "        E_2 = W_3.dot(E_3) * derivative_ReLU(Z_2)\n",
    "        dL_dW_2 = A_1.dot(E_2.T)\n",
    "        dL_db_2 = np.sum(E_2, axis=1, keepdims=True)\n",
    "        \n",
    "        E_1 = W_2.dot(E_2) * derivative_ReLU(Z_1)\n",
    "        dL_dW_1 = A_0.dot(E_1.T)\n",
    "        dL_db_1 = np.sum(E_1, axis=1, keepdims=True)\n",
    "        \n",
    "        # Backpropagation for kernel layers\n",
    "        \n",
    "        # Number of rows in dL_dP_2 = number of columns in dL_dA_0 = N\n",
    "        # We loop through the columns of dL_dA_0 (respectively for each point data in X) and reshape it to size of P_2 and set that value in dL_dP_2\n",
    "        dL_dA_0: np.ndarray = W_1.dot(E_1)\n",
    "            \n",
    "        list_dL_dP_2 = dL_dA_0.T.reshape([N] + P_2_size, order=\"C\")\n",
    "\n",
    "        list_dL_dC_2 = derivative_layer_before_max_pooling_for_multiple_point(list_C_2, list_P_2, list_dL_dP_2, size_pool_2, sp_2)\n",
    "        list_dL_dZk_2 = list_dL_dC_2 * derivative_Sigmoid(list_Zk_2)\n",
    "        \n",
    "        dL_dK_21 = derivative_for_filter_multiple_point(list_P_1, list_dL_dZk_2[:, :, :, 0], K_21.shape, sk_2)\n",
    "        dL_dK_22 = derivative_for_filter_multiple_point(list_P_1, list_dL_dZk_2[:, :, :, 1], K_22.shape, sk_2)\n",
    "        dL_dK_23 = derivative_for_filter_multiple_point(list_P_1, list_dL_dZk_2[:, :, :, 2], K_23.shape, sk_2)\n",
    "        dL_dK_24 = derivative_for_filter_multiple_point(list_P_1, list_dL_dZk_2[:, :, :, 3], K_24.shape, sk_2)\n",
    "        \n",
    "        dL_dbk_21 = derivative_for_bias_kernel_multiple_point(list_dL_dZk_2[:, :, :, 0])\n",
    "        dL_dbk_22 = derivative_for_bias_kernel_multiple_point(list_dL_dZk_2[:, :, :, 1])\n",
    "        dL_dbk_23 = derivative_for_bias_kernel_multiple_point(list_dL_dZk_2[:, :, :, 2])\n",
    "        dL_dbk_24 = derivative_for_bias_kernel_multiple_point(list_dL_dZk_2[:, :, :, 3])\n",
    "        \n",
    "        list_dL_dP_1 = derivative_layer_input_convolution_multiple_point(list_P_1, [K_21, K_22, K_23, K_24], list_dL_dZk_2)\n",
    "        list_dL_dC_1 = derivative_layer_before_max_pooling_for_multiple_point(list_C_1, list_P_1, list_dL_dP_1, size_pool_1, sp_1)\n",
    "        list_dL_dZk_1 = list_dL_dC_1 * derivative_ReLU(list_Zk_1)\n",
    "        \n",
    "        dL_dK_11 = derivative_for_filter_multiple_point(list_P_0, list_dL_dZk_1[:, :, :, 0], K_11.shape, sk_1)\n",
    "        dL_dK_12 = derivative_for_filter_multiple_point(list_P_0, list_dL_dZk_1[:, :, :, 1], K_12.shape, sk_1)\n",
    "        \n",
    "        dL_dbk_11 = derivative_for_bias_kernel_multiple_point(list_dL_dZk_1[:, :, :, 0])\n",
    "        dL_dbk_12 = derivative_for_bias_kernel_multiple_point(list_dL_dZk_1[:, :, :, 1])\n",
    "        \n",
    "        W_3 = W_3 - settings[\"learning_rate\"]*dL_dW_3\n",
    "        b_3 = b_3 - settings[\"learning_rate\"]*dL_db_3\n",
    "        \n",
    "        W_2 = W_2 - settings[\"learning_rate\"]*dL_dW_2\n",
    "        b_2 = b_2 - settings[\"learning_rate\"]*dL_db_2\n",
    "        \n",
    "        W_1 = W_1 - settings[\"learning_rate\"]*dL_dW_1\n",
    "        b_1 = b_1 - settings[\"learning_rate\"]*dL_db_1\n",
    "        \n",
    "        K_21 = K_21 - settings[\"learning_rate\"]*dL_dK_21\n",
    "        K_22 = K_22 - settings[\"learning_rate\"]*dL_dK_22\n",
    "        K_23 = K_23 - settings[\"learning_rate\"]*dL_dK_23\n",
    "        K_24 = K_24 - settings[\"learning_rate\"]*dL_dK_24\n",
    "        \n",
    "        bk_21 = bk_21 - settings[\"learning_rate\"]*dL_dbk_21\n",
    "        bk_22 = bk_22 - settings[\"learning_rate\"]*dL_dbk_22\n",
    "        bk_23 = bk_23 - settings[\"learning_rate\"]*dL_dbk_23\n",
    "        bk_24 = bk_24 - settings[\"learning_rate\"]*dL_dbk_24\n",
    "        \n",
    "        K_11 = K_11 - settings[\"learning_rate\"]*dL_dK_11\n",
    "        K_12 = K_12 - settings[\"learning_rate\"]*dL_dK_12\n",
    "        \n",
    "        bk_11 = bk_11 - settings[\"learning_rate\"]*dL_dbk_11\n",
    "        bk_12 = bk_12 - settings[\"learning_rate\"]*dL_dbk_12\n",
    "    \n",
    "    return {\n",
    "        \"K_11\": K_11,\n",
    "        \"K_12\": K_12,\n",
    "        \n",
    "        \"bk_11\": bk_11,\n",
    "        \"bk_12\": bk_12,\n",
    "        \n",
    "        \"K_21\": K_21,\n",
    "        \"K_22\": K_22,\n",
    "        \"K_23\": K_23,\n",
    "        \"K_24\": K_24,\n",
    "        \n",
    "        \"bk_21\": bk_21,\n",
    "        \"bk_22\": bk_22,\n",
    "        \"bk_23\": bk_23,\n",
    "        \"bk_24\": bk_24,\n",
    "        \n",
    "        \"W_1\": W_1,\n",
    "        \"b_1\": b_1,\n",
    "\n",
    "        \"W_2\": W_2,\n",
    "        \"b_2\": b_2,\n",
    "\n",
    "        \"W_3\": W_3,\n",
    "        \"b_3\": b_3,\n",
    "    }"
   ]
  },
  {
   "cell_type": "code",
   "execution_count": 10,
   "metadata": {},
   "outputs": [],
   "source": [
    "def forward_and_train_cnn(\n",
    "    list_X: Union[list[np.ndarray], np.ndarray], \n",
    "    Y: np.ndarray, \n",
    "    learning_rate: float, \n",
    "    epochs: int,\n",
    "    chunk_size: int = 300):\n",
    "    \"\"\"\n",
    "    \n",
    "    \"\"\"\n",
    "    \n",
    "    list_P_0 = reshape_list_X(list_X)\n",
    "\n",
    "    # Init value for convolution layers\n",
    "    K_11 = init_kernel((5, 5, 1)) # Kernel 11 \n",
    "    K_12 = init_kernel((5, 5, 1)) # Kernel 12\n",
    "    bk_11 = init_bias_kernel() # Bias kernel 11\n",
    "    bk_12 = init_bias_kernel() # Bias kernel 12\n",
    "    sk_1 = 1 # Stride kernel 1\n",
    "    sp_1 = 2 # Stride pool 1\n",
    "    size_pool_1 = (2, 2) # Size of pooling 1\n",
    "    \n",
    "    K_21 = init_kernel((3, 3, 2)) # Kernel 21\n",
    "    K_22 = init_kernel((3, 3, 2)) # Kernel 22\n",
    "    K_23 = init_kernel((3, 3, 2)) # Kernel 23 \n",
    "    K_24 = init_kernel((3, 3, 2)) # Kernel 24\n",
    "    bk_21 = init_bias_kernel() # Bias kernel 21\n",
    "    bk_22 = init_bias_kernel() # Bias kernel 22\n",
    "    bk_23 = init_bias_kernel() # Bias kernel 23\n",
    "    bk_24 = init_bias_kernel() # Bias kernel 24\n",
    "    sk_2 = 1 # Stride kernel 2\n",
    "    sp_2 = 2 # Stride pool 2\n",
    "    size_pool_2 = (2, 2) # Size of pooling 1\n",
    "    \n",
    "    Zk_1_size = [24, 24, 2]\n",
    "    C_1_size = [24, 24, 2]\n",
    "    P_1_size = [12, 12, 2]\n",
    "    \n",
    "    Zk_2_size = [10, 10, 4]\n",
    "    C_2_size = [10, 10, 4]\n",
    "    P_2_size = [5, 5, 4]\n",
    "    \n",
    "    # Init value for fully connected layers\n",
    "    number_nn_layer_1 = 100\n",
    "    W_1 = init_weights((np.prod(P_2_size), number_nn_layer_1))\n",
    "    b_1 = init_bias((number_nn_layer_1, 1))\n",
    "    \n",
    "    number_nn_layer_2 = 100\n",
    "    W_2 = init_weights((number_nn_layer_1, number_nn_layer_2))\n",
    "    b_2 = init_bias((number_nn_layer_2, 1))\n",
    "    \n",
    "    number_nn_layer_3 = Y.shape[0] # Number of categories into which the data is classified.\n",
    "    W_3 = init_weights((number_nn_layer_2, number_nn_layer_3))\n",
    "    b_3 = init_bias((number_nn_layer_3, 1))\n",
    "    \n",
    "    chunk_count = 0  \n",
    "    for chunk_P_0, chunk_Y in split_chunk_X_Y(list_P_0, Y, chunk_size):\n",
    "        print(f\"Chunk {chunk_count}\")\n",
    "        chunk_count += 1\n",
    "        \n",
    "        # Backpropagation \n",
    "        params = backpropagation(\n",
    "            {\"epochs\": epochs, \"learning_rate\": learning_rate},\n",
    "            chunk_P_0,\n",
    "            \n",
    "            K_11,\n",
    "            K_12,\n",
    "            bk_11,\n",
    "            bk_12,\n",
    "            sk_1,\n",
    "            sp_1,\n",
    "            size_pool_1,\n",
    "            \n",
    "            Zk_1_size,\n",
    "            C_1_size,\n",
    "            P_1_size,\n",
    "            \n",
    "            K_21,\n",
    "            K_22,\n",
    "            K_23,\n",
    "            K_24,\n",
    "            bk_21,\n",
    "            bk_22,\n",
    "            bk_23,\n",
    "            bk_24,\n",
    "            sk_2,\n",
    "            sp_2,\n",
    "            size_pool_2,\n",
    "            \n",
    "            Zk_2_size,\n",
    "            C_2_size,\n",
    "            P_2_size,\n",
    "            \n",
    "            W_1,\n",
    "            b_1,\n",
    "            W_2,\n",
    "            b_2,\n",
    "            W_3,\n",
    "            b_3,\n",
    "            \n",
    "            chunk_Y\n",
    "        )\n",
    "    \n",
    "    \n",
    "\n",
    "    return {\n",
    "        \"params\": {\n",
    "            \"K_11\": params[\"K_11\"],\n",
    "            \"K_12\": params[\"K_12\"],\n",
    "            \n",
    "            \"bk_11\": params[\"bk_11\"],\n",
    "            \"bk_12\": params[\"bk_12\"],\n",
    "            \n",
    "            \"K_21\": params[\"K_21\"],\n",
    "            \"K_22\": params[\"K_22\"],\n",
    "            \"K_23\": params[\"K_23\"],\n",
    "            \"K_24\": params[\"K_24\"],\n",
    "            \n",
    "            \"bk_21\": params[\"bk_21\"],\n",
    "            \"bk_22\": params[\"bk_22\"],\n",
    "            \"bk_23\": params[\"bk_23\"],\n",
    "            \"bk_24\": params[\"bk_24\"],\n",
    "            \n",
    "            \"W_1\": params[\"W_1\"],\n",
    "            \"b_1\": params[\"b_1\"],\n",
    "\n",
    "            \"W_2\": params[\"W_2\"],\n",
    "            \"b_2\": params[\"b_2\"],\n",
    "\n",
    "            \"W_3\": params[\"W_3\"],\n",
    "            \"b_3\": params[\"b_3\"],\n",
    "        },\n",
    "        \"config_size\": {\n",
    "            \"sk_1\": sk_1,\n",
    "            \"sp_1\": sp_1,\n",
    "            \"size_pool_1\": size_pool_1,\n",
    "            \n",
    "            \"Zk_1_size\": Zk_1_size,\n",
    "            \"C_1_size\": C_1_size,\n",
    "            \"P_1_size\": P_1_size,\n",
    "            \"sk_2\": sk_2,\n",
    "            \"sp_2\": sp_2,\n",
    "            \"size_pool_2\": size_pool_2,\n",
    "            \n",
    "            \"Zk_2_size\": Zk_2_size,\n",
    "            \"C_2_size\": C_2_size,\n",
    "            \"P_2_size\": P_2_size,\n",
    "        }\n",
    "    }"
   ]
  },
  {
   "cell_type": "code",
   "execution_count": 25,
   "metadata": {},
   "outputs": [],
   "source": [
    "number_train_points = 5000"
   ]
  },
  {
   "cell_type": "code",
   "execution_count": 26,
   "metadata": {},
   "outputs": [
    {
     "name": "stdout",
     "output_type": "stream",
     "text": [
      "Chunk 0\n"
     ]
    },
    {
     "name": "stderr",
     "output_type": "stream",
     "text": [
      "d:\\code\\selenium\\data_analytics\\try_cnn\\utils_cnn.py:596: RuntimeWarning: overflow encountered in exp\n",
      "  return 1 / (1 + np.exp((-1) * X))\n"
     ]
    },
    {
     "name": "stdout",
     "output_type": "stream",
     "text": [
      "loop = 0, loss = 2.991890682630785\n",
      "loop = 1, loss = 2.848638986649432\n",
      "loop = 2, loss = 2.642137721270828\n",
      "loop = 3, loss = 2.38039612395469\n",
      "loop = 4, loss = 2.284623344711386\n",
      "loop = 5, loss = 2.249206980730406\n",
      "loop = 6, loss = 2.229866854277884\n",
      "loop = 7, loss = 2.214997650042398\n",
      "loop = 8, loss = 2.201405978699697\n",
      "loop = 9, loss = 2.188392197434118\n",
      "loop = 10, loss = 2.1757704250745147\n",
      "loop = 11, loss = 2.1636136745198193\n",
      "loop = 12, loss = 2.1517278382189633\n",
      "loop = 13, loss = 2.139423499849721\n",
      "loop = 14, loss = 2.1266460161990026\n",
      "loop = 15, loss = 2.1146607515610465\n",
      "loop = 16, loss = 2.1005300018140765\n",
      "loop = 17, loss = 2.0872036737453112\n",
      "loop = 18, loss = 2.0733532190043302\n",
      "loop = 19, loss = 2.0588054624746834\n",
      "loop = 20, loss = 2.043735358776575\n",
      "loop = 21, loss = 2.029344402026537\n",
      "loop = 22, loss = 2.015674960528107\n",
      "loop = 23, loss = 2.0028904301694395\n",
      "loop = 24, loss = 1.9944860333787708\n",
      "loop = 25, loss = 2.0008623071406793\n",
      "loop = 26, loss = 2.0685626591755537\n",
      "loop = 27, loss = 2.199145890153496\n",
      "loop = 28, loss = 2.3098187360882165\n",
      "loop = 29, loss = 2.0455716243140327\n",
      "loop = 30, loss = 1.9566977185952088\n",
      "loop = 31, loss = 1.9314495340565512\n",
      "loop = 32, loss = 1.9142448102897063\n",
      "loop = 33, loss = 1.9038729277958018\n",
      "loop = 34, loss = 1.895842537213651\n",
      "loop = 35, loss = 1.9026933691021686\n",
      "loop = 36, loss = 1.8997913464450868\n",
      "loop = 37, loss = 1.9634023668137097\n",
      "loop = 38, loss = 1.9266351895409077\n",
      "loop = 39, loss = 2.047864191615573\n",
      "loop = 40, loss = 1.912068825878623\n",
      "loop = 41, loss = 1.8894729291318426\n",
      "loop = 42, loss = 1.8452155294064925\n",
      "loop = 43, loss = 1.8545358112333348\n",
      "loop = 44, loss = 1.8511982004491467\n",
      "loop = 45, loss = 1.936419197666684\n",
      "loop = 46, loss = 2.011488489203922\n",
      "loop = 47, loss = 2.015229418656327\n",
      "loop = 48, loss = 1.8883184223197038\n",
      "loop = 49, loss = 1.786155628211562\n",
      "loop = 50, loss = 1.744728898130867\n",
      "loop = 51, loss = 1.735100626670219\n",
      "loop = 52, loss = 1.7239324567904268\n",
      "loop = 53, loss = 1.7432858693934865\n",
      "loop = 54, loss = 1.7358462300813329\n",
      "loop = 55, loss = 1.7731593433206037\n",
      "loop = 56, loss = 1.7394567499551443\n",
      "loop = 57, loss = 1.735315210165744\n",
      "loop = 58, loss = 1.7143582064120326\n",
      "loop = 59, loss = 1.7141916316547239\n",
      "loop = 60, loss = 1.677314719933102\n",
      "loop = 61, loss = 1.6676568584264713\n",
      "loop = 62, loss = 1.6567131981152219\n",
      "loop = 63, loss = 1.639970770396292\n",
      "loop = 64, loss = 1.6256505004823734\n",
      "loop = 65, loss = 1.620447946273476\n",
      "loop = 66, loss = 1.6287498181395248\n",
      "loop = 67, loss = 1.6286236320157026\n",
      "loop = 68, loss = 1.6820590519648007\n",
      "loop = 69, loss = 1.7555548851620797\n",
      "loop = 70, loss = 1.746176199921489\n",
      "loop = 71, loss = 1.7168044836230074\n",
      "loop = 72, loss = 1.6348047993295571\n",
      "loop = 73, loss = 1.546772123844602\n",
      "loop = 74, loss = 1.5334630923051438\n",
      "loop = 75, loss = 1.5324116798615843\n",
      "loop = 76, loss = 1.5480954158785378\n",
      "loop = 77, loss = 1.6312287312334441\n",
      "loop = 78, loss = 1.572451626872643\n",
      "loop = 79, loss = 1.57875588249259\n",
      "loop = 80, loss = 1.577050341723063\n",
      "loop = 81, loss = 1.5631408817164034\n",
      "loop = 82, loss = 1.5762914930220746\n",
      "loop = 83, loss = 1.5070522014137768\n",
      "loop = 84, loss = 1.4979696971794754\n",
      "loop = 85, loss = 1.434170020567507\n",
      "loop = 86, loss = 1.4058613387436631\n",
      "loop = 87, loss = 1.3739580478327893\n",
      "loop = 88, loss = 1.3750317103070426\n",
      "loop = 89, loss = 1.4065010420607378\n",
      "loop = 90, loss = 1.39329841870941\n",
      "loop = 91, loss = 1.3754851807595858\n",
      "loop = 92, loss = 1.4023339978960103\n",
      "loop = 93, loss = 1.3311527853973506\n",
      "loop = 94, loss = 1.3267506525281836\n",
      "loop = 95, loss = 1.3026099152613728\n",
      "loop = 96, loss = 1.350036808956525\n",
      "loop = 97, loss = 1.3747684596702088\n",
      "loop = 98, loss = 1.4042630089065375\n",
      "loop = 99, loss = 1.4856992472678816\n",
      "loop = 100, loss = 1.3743623134773688\n",
      "loop = 101, loss = 1.4157128854815983\n",
      "loop = 102, loss = 1.4942805130564345\n",
      "loop = 103, loss = 1.5044133194906546\n",
      "loop = 104, loss = 1.5193704112288553\n",
      "loop = 105, loss = 1.3614917507361526\n",
      "loop = 106, loss = 1.2811765128966406\n",
      "loop = 107, loss = 1.2446967063890977\n",
      "loop = 108, loss = 1.2064615250435227\n",
      "loop = 109, loss = 1.1953219690584387\n",
      "loop = 110, loss = 1.1791996504171405\n",
      "loop = 111, loss = 1.1841438255460646\n",
      "loop = 112, loss = 1.1668929610289076\n",
      "loop = 113, loss = 1.199631968224323\n",
      "loop = 114, loss = 1.1910145601502768\n",
      "loop = 115, loss = 1.2273161525109937\n",
      "loop = 116, loss = 1.267305433756575\n",
      "loop = 117, loss = 1.2912854129482219\n",
      "loop = 118, loss = 1.4035476998275767\n",
      "loop = 119, loss = 1.3783355011226486\n",
      "loop = 120, loss = 1.3168756073846744\n",
      "loop = 121, loss = 1.3775461736695602\n",
      "loop = 122, loss = 1.266377282820081\n",
      "loop = 123, loss = 1.2297770436289204\n",
      "loop = 124, loss = 1.1497224159372712\n",
      "loop = 125, loss = 1.0927349498868149\n",
      "loop = 126, loss = 1.0695898194258957\n",
      "loop = 127, loss = 1.061422723888422\n",
      "loop = 128, loss = 1.0579798892274952\n",
      "loop = 129, loss = 1.0788744578413958\n",
      "loop = 130, loss = 1.126564279224555\n",
      "loop = 131, loss = 1.213614169743772\n",
      "loop = 132, loss = 1.2406682739978552\n",
      "loop = 133, loss = 1.2165757248238174\n",
      "loop = 134, loss = 1.1963623685486833\n",
      "loop = 135, loss = 1.1675065939954168\n",
      "loop = 136, loss = 1.124677662722618\n",
      "loop = 137, loss = 1.1187791734749382\n",
      "loop = 138, loss = 1.1244720207836678\n",
      "loop = 139, loss = 1.0485238047010543\n",
      "loop = 140, loss = 1.0415634355359504\n",
      "loop = 141, loss = 0.9968466582268837\n",
      "loop = 142, loss = 1.0018423263309728\n",
      "loop = 143, loss = 1.000373379063402\n",
      "loop = 144, loss = 1.0411579349498967\n",
      "loop = 145, loss = 1.0796615823218498\n",
      "loop = 146, loss = 1.1596901070394487\n",
      "loop = 147, loss = 1.1608113155717388\n",
      "loop = 148, loss = 1.0770979948799302\n",
      "loop = 149, loss = 1.039049331285196\n",
      "loop = 150, loss = 1.0126670372162108\n",
      "loop = 151, loss = 0.958734001340782\n",
      "loop = 152, loss = 0.9434532575948575\n",
      "loop = 153, loss = 0.9264709586571777\n",
      "loop = 154, loss = 0.935050439705896\n",
      "loop = 155, loss = 0.9251278616363614\n",
      "loop = 156, loss = 0.9503234034757476\n",
      "loop = 157, loss = 0.944508053813292\n",
      "loop = 158, loss = 0.9955795615141628\n",
      "loop = 159, loss = 1.041703719641988\n",
      "loop = 160, loss = 1.066793917297705\n",
      "loop = 161, loss = 1.09158890317106\n",
      "loop = 162, loss = 1.0569313204433886\n",
      "loop = 163, loss = 1.050921106937078\n",
      "loop = 164, loss = 0.9869871976675999\n",
      "loop = 165, loss = 0.9572443873602524\n",
      "loop = 166, loss = 0.9200579154018932\n",
      "loop = 167, loss = 0.9031037447586189\n",
      "loop = 168, loss = 0.8888229708010668\n",
      "loop = 169, loss = 0.8730007443401808\n",
      "loop = 170, loss = 0.873609613999622\n",
      "loop = 171, loss = 0.8834912640008832\n",
      "loop = 172, loss = 0.8819846873154963\n",
      "loop = 173, loss = 0.8705028896805425\n",
      "loop = 174, loss = 0.8825345309832173\n",
      "loop = 175, loss = 0.8915870068847722\n",
      "loop = 176, loss = 0.9126172259959741\n",
      "loop = 177, loss = 0.905398939348986\n",
      "loop = 178, loss = 0.9208930181372785\n",
      "loop = 179, loss = 0.9088094275772713\n",
      "loop = 180, loss = 0.9592591649941223\n",
      "loop = 181, loss = 0.9496286143604297\n",
      "loop = 182, loss = 0.9951374824319624\n",
      "loop = 183, loss = 0.9210980410960181\n",
      "loop = 184, loss = 0.8804728916627866\n",
      "loop = 185, loss = 0.8794089897523866\n",
      "loop = 186, loss = 0.845968597755147\n",
      "loop = 187, loss = 0.8545636970468699\n",
      "loop = 188, loss = 0.8627036410132037\n",
      "loop = 189, loss = 0.9080355354404818\n",
      "loop = 190, loss = 0.9367094996192084\n",
      "loop = 191, loss = 0.9410194397339261\n",
      "loop = 192, loss = 0.9565853127911985\n",
      "loop = 193, loss = 0.925668195669699\n",
      "loop = 194, loss = 0.8712127106157681\n",
      "loop = 195, loss = 0.8434242046092104\n",
      "loop = 196, loss = 0.8099260365365268\n",
      "loop = 197, loss = 0.8073096072272903\n",
      "loop = 198, loss = 0.7803703866982236\n",
      "loop = 199, loss = 0.7902461322468316\n",
      "loop = 200, loss = 0.7716976678800791\n",
      "loop = 201, loss = 0.7780703663179306\n",
      "loop = 202, loss = 0.7778678097743643\n",
      "loop = 203, loss = 0.769757201574954\n",
      "loop = 204, loss = 0.7960035055486093\n",
      "loop = 205, loss = 0.7801711815233698\n",
      "loop = 206, loss = 0.7723977031829193\n",
      "loop = 207, loss = 0.7658875008807827\n",
      "loop = 208, loss = 0.7681545539827875\n",
      "loop = 209, loss = 0.7750667514001607\n",
      "loop = 210, loss = 0.7690572171674529\n",
      "loop = 211, loss = 0.7852055251300732\n",
      "loop = 212, loss = 0.762749468614669\n",
      "loop = 213, loss = 0.8020680022411829\n",
      "loop = 214, loss = 0.784511256929004\n",
      "loop = 215, loss = 0.8048483506862663\n",
      "loop = 216, loss = 0.7899290048882498\n",
      "loop = 217, loss = 0.785275033740692\n",
      "loop = 218, loss = 0.7910434604630563\n",
      "loop = 219, loss = 0.7800947753168209\n",
      "loop = 220, loss = 0.7791763814173711\n",
      "loop = 221, loss = 0.7758655412846297\n",
      "loop = 222, loss = 0.7685396050327621\n",
      "loop = 223, loss = 0.7641199983479912\n",
      "loop = 224, loss = 0.7447994370471852\n",
      "loop = 225, loss = 0.7293000067896871\n",
      "loop = 226, loss = 0.7629052681670535\n",
      "loop = 227, loss = 0.7580949116972382\n",
      "loop = 228, loss = 0.7653512928224329\n",
      "loop = 229, loss = 0.8267773967772801\n",
      "loop = 230, loss = 0.7898060654458936\n",
      "loop = 231, loss = 0.7352671159981297\n",
      "loop = 232, loss = 0.7222008823802213\n",
      "loop = 233, loss = 0.7204592057005418\n",
      "loop = 234, loss = 0.7333811757278426\n",
      "loop = 235, loss = 0.7321951756540186\n",
      "loop = 236, loss = 0.7329002737436108\n",
      "loop = 237, loss = 0.7260169111580674\n",
      "loop = 238, loss = 0.728438460455048\n",
      "loop = 239, loss = 0.7230383342289373\n",
      "loop = 240, loss = 0.7086341221899988\n",
      "loop = 241, loss = 0.6908160513340513\n",
      "loop = 242, loss = 0.6797805707647884\n",
      "loop = 243, loss = 0.6708045290230397\n",
      "loop = 244, loss = 0.6705707884103684\n",
      "loop = 245, loss = 0.663431086416891\n",
      "loop = 246, loss = 0.6744791214933212\n",
      "loop = 247, loss = 0.6734725258571598\n",
      "loop = 248, loss = 0.6590407200306461\n",
      "loop = 249, loss = 0.6466914309693176\n",
      "loop = 250, loss = 0.6475179087250261\n",
      "loop = 251, loss = 0.67548132669399\n",
      "loop = 252, loss = 0.6621853937804828\n",
      "loop = 253, loss = 0.6602173063784885\n",
      "loop = 254, loss = 0.6673666535656401\n",
      "loop = 255, loss = 0.7072581172014454\n",
      "loop = 256, loss = 0.7776498782393589\n",
      "loop = 257, loss = 0.7145290423166754\n",
      "loop = 258, loss = 0.7550641939539001\n",
      "loop = 259, loss = 0.7162262777400467\n",
      "loop = 260, loss = 0.7561267114748358\n",
      "loop = 261, loss = 0.7082797099360504\n",
      "loop = 262, loss = 0.6874211101348702\n",
      "loop = 263, loss = 0.6572568222134435\n",
      "loop = 264, loss = 0.6387586910169331\n",
      "loop = 265, loss = 0.6306387606586038\n",
      "loop = 266, loss = 0.6389724905009527\n",
      "loop = 267, loss = 0.6628173540647878\n",
      "loop = 268, loss = 0.6739033037688313\n",
      "loop = 269, loss = 0.7367317602476485\n",
      "loop = 270, loss = 0.807863006974211\n",
      "loop = 271, loss = 0.783635374694487\n",
      "loop = 272, loss = 0.7802647585362285\n",
      "loop = 273, loss = 0.723955119405059\n",
      "loop = 274, loss = 0.6930260718030657\n",
      "loop = 275, loss = 0.6759238818312441\n",
      "loop = 276, loss = 0.6361653706002967\n",
      "loop = 277, loss = 0.6131361840892704\n",
      "loop = 278, loss = 0.6056876218053657\n",
      "loop = 279, loss = 0.5956171166726949\n",
      "loop = 280, loss = 0.6341190598928477\n",
      "loop = 281, loss = 0.6158793484158341\n",
      "loop = 282, loss = 0.6251619504783631\n",
      "loop = 283, loss = 0.6060462786195016\n",
      "loop = 284, loss = 0.6236422641414577\n",
      "loop = 285, loss = 0.6458813636507121\n",
      "loop = 286, loss = 0.6487577438152609\n",
      "loop = 287, loss = 0.6326659690192918\n",
      "loop = 288, loss = 0.6378133008280257\n",
      "loop = 289, loss = 0.6324113409452801\n",
      "loop = 290, loss = 0.648411781618015\n",
      "loop = 291, loss = 0.6320529192392769\n",
      "loop = 292, loss = 0.5993778281478853\n",
      "loop = 293, loss = 0.5925369735550877\n",
      "loop = 294, loss = 0.592078533479576\n",
      "loop = 295, loss = 0.5896434411260112\n",
      "loop = 296, loss = 0.594711189616157\n",
      "loop = 297, loss = 0.6231313373863892\n",
      "loop = 298, loss = 0.6645004970068489\n",
      "loop = 299, loss = 0.6681330275154235\n"
     ]
    }
   ],
   "source": [
    "output = forward_and_train_cnn(\n",
    "    X[0:number_train_points], \n",
    "    one_hot(Y[0:number_train_points]), \n",
    "    0.1, \n",
    "    300,\n",
    "    5000)\n",
    "params = output[\"params\"]\n",
    "config_size = output[\"config_size\"]\n",
    "\n",
    "\n",
    "    # X[number_train_points:number_train_points + 10]"
   ]
  },
  {
   "cell_type": "code",
   "execution_count": 28,
   "metadata": {},
   "outputs": [],
   "source": [
    "list_X_test = X_test[0:20]\n",
    "output_forward = forward(\n",
    "        \"predict\",\n",
    "        \n",
    "        reshape_list_X(list_X_test),\n",
    "            \n",
    "        params[\"K_11\"],\n",
    "        params[\"K_12\"],\n",
    "        params[\"bk_11\"],\n",
    "        params[\"bk_12\"],\n",
    "        config_size[\"sk_1\"],\n",
    "        config_size[\"sp_1\"],\n",
    "        config_size[\"size_pool_1\"],\n",
    "        \n",
    "        config_size[\"Zk_1_size\"],\n",
    "        config_size[\"C_1_size\"],\n",
    "        config_size[\"P_1_size\"],\n",
    "        \n",
    "        params[\"K_21\"],\n",
    "        params[\"K_22\"],\n",
    "        params[\"K_23\"],\n",
    "        params[\"K_24\"],\n",
    "        params[\"bk_21\"],\n",
    "        params[\"bk_22\"],\n",
    "        params[\"bk_23\"],\n",
    "        params[\"bk_24\"],\n",
    "        config_size[\"sk_2\"],\n",
    "        config_size[\"sp_2\"],\n",
    "        config_size[\"size_pool_2\"],\n",
    "        \n",
    "        config_size[\"Zk_2_size\"],\n",
    "        config_size[\"C_2_size\"],\n",
    "        config_size[\"P_2_size\"],\n",
    "        \n",
    "        params[\"W_1\"],\n",
    "        params[\"b_1\"],\n",
    "        params[\"W_2\"],\n",
    "        params[\"b_2\"],\n",
    "        params[\"W_3\"],\n",
    "        params[\"b_3\"],\n",
    "        \n",
    "        None\n",
    "    )\n",
    "\n",
    "Y_predict = output_forward[\"A_3\"]\n"
   ]
  },
  {
   "cell_type": "code",
   "execution_count": 29,
   "metadata": {},
   "outputs": [
    {
     "data": {
      "text/plain": [
       "(10, 20)"
      ]
     },
     "execution_count": 29,
     "metadata": {},
     "output_type": "execute_result"
    }
   ],
   "source": [
    "Y_predict.shape"
   ]
  },
  {
   "cell_type": "code",
   "execution_count": 30,
   "metadata": {},
   "outputs": [
    {
     "name": "stdout",
     "output_type": "stream",
     "text": [
      "[7 2 1 0 4 1 4 9 6 9 0 4 9 0 1 8 4 7 0 4]\n",
      "[7 2 1 0 4 1 4 9 5 9 0 6 9 0 1 5 9 7 3 4]\n"
     ]
    }
   ],
   "source": [
    "Y_predict_decode = decode_one_hot(Y_predict, Y[0:number_train_points])\n",
    "print(Y_predict_decode)\n",
    "Y_real = Y_test[0:20]\n",
    "print(Y_real)"
   ]
  },
  {
   "cell_type": "code",
   "execution_count": 31,
   "metadata": {},
   "outputs": [],
   "source": [
    "result = Y_predict_decode == Y_real"
   ]
  },
  {
   "cell_type": "code",
   "execution_count": 32,
   "metadata": {},
   "outputs": [
    {
     "data": {
      "text/plain": [
       "15"
      ]
     },
     "execution_count": 32,
     "metadata": {},
     "output_type": "execute_result"
    }
   ],
   "source": [
    "len(result[result == True])"
   ]
  },
  {
   "cell_type": "code",
   "execution_count": 33,
   "metadata": {},
   "outputs": [
    {
     "data": {
      "text/plain": [
       "5"
      ]
     },
     "execution_count": 33,
     "metadata": {},
     "output_type": "execute_result"
    }
   ],
   "source": [
    "len(result[result == False])"
   ]
  },
  {
   "cell_type": "code",
   "execution_count": 35,
   "metadata": {},
   "outputs": [
    {
     "data": {
      "text/plain": [
       "<matplotlib.image.AxesImage at 0x27239c20e50>"
      ]
     },
     "execution_count": 35,
     "metadata": {},
     "output_type": "execute_result"
    },
    {
     "data": {
      "image/png": "[encoded data removed]",
      "text/plain": [
       "<Figure size 640x480 with 1 Axes>"
      ]
     },
     "metadata": {},
     "output_type": "display_data"
    }
   ],
   "source": [
    "X_test_1 = list_X_test[-2]\n",
    "plt.imshow(X_test_1)\n"
   ]
  },
  {
   "cell_type": "code",
   "execution_count": 36,
   "metadata": {},
   "outputs": [
    {
     "data": {
      "text/plain": [
       "<matplotlib.image.AxesImage at 0x2723a939160>"
      ]
     },
     "execution_count": 36,
     "metadata": {},
     "output_type": "execute_result"
    },
    {
     "data": {
      "image/png": "[encoded data removed]",
      "text/plain": [
       "<Figure size 640x480 with 1 Axes>"
      ]
     },
     "metadata": {},
     "output_type": "display_data"
    }
   ],
   "source": [
    "Zk_1_m1 = convolution(X_test_1, params[\"K_11\"], bias=params[\"bk_11\"])\n",
    "plt.imshow(Zk_1_m1)"
   ]
  },
  {
   "cell_type": "code",
   "execution_count": 37,
   "metadata": {},
   "outputs": [
    {
     "data": {
      "text/plain": [
       "<matplotlib.image.AxesImage at 0x2723cd91040>"
      ]
     },
     "execution_count": 37,
     "metadata": {},
     "output_type": "execute_result"
    },
    {
     "data": {
      "image/png": "[encoded data removed]",
      "text/plain": [
       "<Figure size 640x480 with 1 Axes>"
      ]
     },
     "metadata": {},
     "output_type": "display_data"
    }
   ],
   "source": [
    "Zk_1_m2 = convolution(X_test_1, params[\"K_12\"], bias=params[\"bk_12\"])\n",
    "plt.imshow(Zk_1_m2)"
   ]
  },
  {
   "cell_type": "code",
   "execution_count": 38,
   "metadata": {},
   "outputs": [
    {
     "data": {
      "text/plain": [
       "<matplotlib.image.AxesImage at 0x2723cf2d6d0>"
      ]
     },
     "execution_count": 38,
     "metadata": {},
     "output_type": "execute_result"
    },
    {
     "data": {
      "image/png": "[encoded data removed]",
      "text/plain": [
       "<Figure size 640x480 with 1 Axes>"
      ]
     },
     "metadata": {},
     "output_type": "display_data"
    }
   ],
   "source": [
    "C_1_m1 = ReLU(Zk_1_m1)\n",
    "plt.imshow(C_1_m1)"
   ]
  },
  {
   "cell_type": "code",
   "execution_count": 39,
   "metadata": {},
   "outputs": [
    {
     "data": {
      "text/plain": [
       "<matplotlib.image.AxesImage at 0x2723ce21dc0>"
      ]
     },
     "execution_count": 39,
     "metadata": {},
     "output_type": "execute_result"
    },
    {
     "data": {
      "image/png": "[encoded data removed]",
      "text/plain": [
       "<Figure size 640x480 with 1 Axes>"
      ]
     },
     "metadata": {},
     "output_type": "display_data"
    }
   ],
   "source": [
    "C_1_m2 = ReLU(Zk_1_m2)\n",
    "plt.imshow(C_1_m2)"
   ]
  },
  {
   "cell_type": "code",
   "execution_count": 40,
   "metadata": {},
   "outputs": [
    {
     "data": {
      "text/plain": [
       "<matplotlib.image.AxesImage at 0x2723ce86f70>"
      ]
     },
     "execution_count": 40,
     "metadata": {},
     "output_type": "execute_result"
    },
    {
     "data": {
      "image/png": "[encoded data removed]",
      "text/plain": [
       "<Figure size 640x480 with 1 Axes>"
      ]
     },
     "metadata": {},
     "output_type": "display_data"
    }
   ],
   "source": [
    "P_1_m1 = pooling_one_point(C_1_m1, (2, 2), stride=2)\n",
    "plt.imshow(P_1_m1)"
   ]
  },
  {
   "cell_type": "code",
   "execution_count": 41,
   "metadata": {},
   "outputs": [
    {
     "data": {
      "text/plain": [
       "<matplotlib.image.AxesImage at 0x2723cef8d00>"
      ]
     },
     "execution_count": 41,
     "metadata": {},
     "output_type": "execute_result"
    },
    {
     "data": {
      "image/png": "[encoded data removed]",
      "text/plain": [
       "<Figure size 640x480 with 1 Axes>"
      ]
     },
     "metadata": {},
     "output_type": "display_data"
    }
   ],
   "source": [
    "P_1_m2 = pooling_one_point(C_1_m2, (2, 2), stride=2)\n",
    "plt.imshow(P_1_m2)"
   ]
  },
  {
   "cell_type": "code",
   "execution_count": 42,
   "metadata": {},
   "outputs": [],
   "source": [
    "P_1 = np.zeros((12, 12, 2))\n",
    "P_1[:,:,0] = P_1_m1\n",
    "P_1[:,:,1] = P_1_m2"
   ]
  },
  {
   "cell_type": "code",
   "execution_count": 43,
   "metadata": {},
   "outputs": [
    {
     "data": {
      "text/plain": [
       "<matplotlib.image.AxesImage at 0x2723cfb61f0>"
      ]
     },
     "execution_count": 43,
     "metadata": {},
     "output_type": "execute_result"
    },
    {
     "data": {
      "image/png": "[encoded data removed]",
      "text/plain": [
       "<Figure size 640x480 with 1 Axes>"
      ]
     },
     "metadata": {},
     "output_type": "display_data"
    }
   ],
   "source": [
    "Zk_2_m1 = convolution(P_1, params[\"K_21\"], bias=params[\"bk_21\"])\n",
    "plt.imshow(Zk_2_m1)"
   ]
  },
  {
   "cell_type": "code",
   "execution_count": 44,
   "metadata": {},
   "outputs": [
    {
     "data": {
      "text/plain": [
       "<matplotlib.image.AxesImage at 0x2723d013d60>"
      ]
     },
     "execution_count": 44,
     "metadata": {},
     "output_type": "execute_result"
    },
    {
     "data": {
      "image/png": "[encoded data removed]",
      "text/plain": [
       "<Figure size 640x480 with 1 Axes>"
      ]
     },
     "metadata": {},
     "output_type": "display_data"
    }
   ],
   "source": [
    "Zk_2_m2 = convolution(P_1, params[\"K_22\"], bias=params[\"bk_22\"])\n",
    "plt.imshow(Zk_2_m2)"
   ]
  },
  {
   "cell_type": "code",
   "execution_count": 45,
   "metadata": {},
   "outputs": [
    {
     "data": {
      "text/plain": [
       "<matplotlib.image.AxesImage at 0x2723d079490>"
      ]
     },
     "execution_count": 45,
     "metadata": {},
     "output_type": "execute_result"
    },
    {
     "data": {
      "image/png": "[encoded data removed]",
      "text/plain": [
       "<Figure size 640x480 with 1 Axes>"
      ]
     },
     "metadata": {},
     "output_type": "display_data"
    }
   ],
   "source": [
    "Zk_2_m3 = convolution(P_1, params[\"K_23\"], bias=params[\"bk_23\"])\n",
    "plt.imshow(Zk_2_m3)"
   ]
  },
  {
   "cell_type": "code",
   "execution_count": 46,
   "metadata": {},
   "outputs": [
    {
     "data": {
      "text/plain": [
       "<matplotlib.image.AxesImage at 0x2723e227580>"
      ]
     },
     "execution_count": 46,
     "metadata": {},
     "output_type": "execute_result"
    },
    {
     "data": {
      "image/png": "[encoded data removed]",
      "text/plain": [
       "<Figure size 640x480 with 1 Axes>"
      ]
     },
     "metadata": {},
     "output_type": "display_data"
    }
   ],
   "source": [
    "Zk_2_m4 = convolution(P_1, params[\"K_24\"], bias=params[\"bk_24\"])\n",
    "plt.imshow(Zk_2_m4)"
   ]
  },
  {
   "cell_type": "code",
   "execution_count": 47,
   "metadata": {},
   "outputs": [],
   "source": [
    "Zk_2 = np.zeros((10, 10, 4))\n",
    "Zk_2[:,:,0] = Zk_2_m1\n",
    "Zk_2[:,:,1] = Zk_2_m2\n",
    "Zk_2[:,:,2] = Zk_2_m3\n",
    "Zk_2[:,:,3] = Zk_2_m4"
   ]
  },
  {
   "cell_type": "code",
   "execution_count": 48,
   "metadata": {},
   "outputs": [],
   "source": [
    "C_2 = Sigmoid(Zk_2)"
   ]
  },
  {
   "cell_type": "code",
   "execution_count": 49,
   "metadata": {},
   "outputs": [
    {
     "data": {
      "text/plain": [
       "<matplotlib.image.AxesImage at 0x2723e105b80>"
      ]
     },
     "execution_count": 49,
     "metadata": {},
     "output_type": "execute_result"
    },
    {
     "data": {
      "image/png": "[encoded data removed]",
      "text/plain": [
       "<Figure size 640x480 with 1 Axes>"
      ]
     },
     "metadata": {},
     "output_type": "display_data"
    }
   ],
   "source": [
    "plt.imshow(C_2[:,:,0])\n"
   ]
  },
  {
   "cell_type": "code",
   "execution_count": 50,
   "metadata": {},
   "outputs": [
    {
     "data": {
      "text/plain": [
       "<matplotlib.image.AxesImage at 0x2723e175c70>"
      ]
     },
     "execution_count": 50,
     "metadata": {},
     "output_type": "execute_result"
    },
    {
     "data": {
      "image/png": "[encoded data removed]",
      "text/plain": [
       "<Figure size 640x480 with 1 Axes>"
      ]
     },
     "metadata": {},
     "output_type": "display_data"
    }
   ],
   "source": [
    "plt.imshow(C_2[:,:,1])\n"
   ]
  },
  {
   "cell_type": "code",
   "execution_count": 51,
   "metadata": {},
   "outputs": [
    {
     "data": {
      "text/plain": [
       "<matplotlib.image.AxesImage at 0x2723e1d58b0>"
      ]
     },
     "execution_count": 51,
     "metadata": {},
     "output_type": "execute_result"
    },
    {
     "data": {
      "image/png": "[encoded data removed]",
      "text/plain": [
       "<Figure size 640x480 with 1 Axes>"
      ]
     },
     "metadata": {},
     "output_type": "display_data"
    }
   ],
   "source": [
    "plt.imshow(C_2[:,:,2])\n"
   ]
  },
  {
   "cell_type": "code",
   "execution_count": 52,
   "metadata": {},
   "outputs": [
    {
     "data": {
      "text/plain": [
       "<matplotlib.image.AxesImage at 0x2723e9219d0>"
      ]
     },
     "execution_count": 52,
     "metadata": {},
     "output_type": "execute_result"
    },
    {
     "data": {
      "image/png": "[encoded data removed]",
      "text/plain": [
       "<Figure size 640x480 with 1 Axes>"
      ]
     },
     "metadata": {},
     "output_type": "display_data"
    }
   ],
   "source": [
    "plt.imshow(C_2[:,:,3])"
   ]
  },
  {
   "cell_type": "code",
   "execution_count": 53,
   "metadata": {},
   "outputs": [],
   "source": [
    "P_2 = pooling_one_point(C_2, (2, 2), stride=2)"
   ]
  },
  {
   "cell_type": "code",
   "execution_count": 54,
   "metadata": {},
   "outputs": [
    {
     "data": {
      "text/plain": [
       "<matplotlib.image.AxesImage at 0x2723e2b4970>"
      ]
     },
     "execution_count": 54,
     "metadata": {},
     "output_type": "execute_result"
    },
    {
     "data": {
      "image/png": "[encoded data removed]",
      "text/plain": [
       "<Figure size 640x480 with 1 Axes>"
      ]
     },
     "metadata": {},
     "output_type": "display_data"
    }
   ],
   "source": [
    "plt.imshow(P_2[:,:,0])\n"
   ]
  },
  {
   "cell_type": "code",
   "execution_count": 55,
   "metadata": {},
   "outputs": [
    {
     "data": {
      "text/plain": [
       "<matplotlib.image.AxesImage at 0x2723e329490>"
      ]
     },
     "execution_count": 55,
     "metadata": {},
     "output_type": "execute_result"
    },
    {
     "data": {
      "image/png": "[encoded data removed]",
      "text/plain": [
       "<Figure size 640x480 with 1 Axes>"
      ]
     },
     "metadata": {},
     "output_type": "display_data"
    }
   ],
   "source": [
    "plt.imshow(P_2[:,:,1])\n"
   ]
  },
  {
   "cell_type": "code",
   "execution_count": 56,
   "metadata": {},
   "outputs": [
    {
     "data": {
      "text/plain": [
       "<matplotlib.image.AxesImage at 0x2723e377af0>"
      ]
     },
     "execution_count": 56,
     "metadata": {},
     "output_type": "execute_result"
    },
    {
     "data": {
      "image/png": "[encoded data removed]",
      "text/plain": [
       "<Figure size 640x480 with 1 Axes>"
      ]
     },
     "metadata": {},
     "output_type": "display_data"
    }
   ],
   "source": [
    "plt.imshow(P_2[:,:,2])\n"
   ]
  },
  {
   "cell_type": "code",
   "execution_count": 57,
   "metadata": {},
   "outputs": [
    {
     "data": {
      "text/plain": [
       "<matplotlib.image.AxesImage at 0x2723e703070>"
      ]
     },
     "execution_count": 57,
     "metadata": {},
     "output_type": "execute_result"
    },
    {
     "data": {
      "image/png": "[encoded data removed]",
      "text/plain": [
       "<Figure size 640x480 with 1 Axes>"
      ]
     },
     "metadata": {},
     "output_type": "display_data"
    }
   ],
   "source": [
    "plt.imshow(P_2[:,:,3])"
   ]
  },
  {
   "cell_type": "code",
   "execution_count": null,
   "metadata": {},
   "outputs": [],
   "source": []
  }
 ],
 "metadata": {
  "kernelspec": {
   "display_name": "venv_py_39",
   "language": "python",
   "name": "python3"
  },
  "language_info": {
   "codemirror_mode": {
    "name": "ipython",
    "version": 3
   },
   "file_extension": ".py",
   "mimetype": "text/x-python",
   "name": "python",
   "nbconvert_exporter": "python",
   "pygments_lexer": "ipython3",
   "version": "3.9.7"
  }
 },
 "nbformat": 4,
 "nbformat_minor": 2
}
