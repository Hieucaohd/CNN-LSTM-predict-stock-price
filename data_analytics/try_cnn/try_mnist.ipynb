{
 "cells": [
  {
   "cell_type": "code",
   "execution_count": 1,
   "metadata": {},
   "outputs": [],
   "source": [
    "import tensorflow as tf\n",
    "from tensorflow.keras.datasets import mnist\n",
    "import matplotlib.pyplot as plt\n",
    "import numpy as np"
   ]
  },
  {
   "cell_type": "code",
   "execution_count": null,
   "metadata": {},
   "outputs": [],
   "source": [
    "from utils_cnn import (\n",
    "    convolution,\n",
    "    pooling,\n",
    "    init_kernel,\n",
    "    init_bias_kernel,\n",
    "    convolution_multiple_kernel,\n",
    "    ReLU,\n",
    "    init_weights,\n",
    "    init_bias,\n",
    "    softmax,\n",
    "    one_hot,\n",
    "    cross_entropy_loss,\n",
    "    calculate_cross_entropy_loss_without_softmax_value,\n",
    "    derivative_ReLU,\n",
    "    derivative_layer_before_max_pooling,\n",
    "    derivative_layer_before_max_pooling_for_multiple_point,\n",
    "    derivative_for_filter,\n",
    "    derivative_for_bias_kernel,\n",
    "    add_padding_multiple_point,\n",
    "    add_dilation_multiple_point,\n",
    ")"
   ]
  },
  {
   "cell_type": "code",
   "execution_count": 3,
   "metadata": {},
   "outputs": [
    {
     "name": "stdout",
     "output_type": "stream",
     "text": [
      "Training data shape: (60000, 28, 28)\n",
      "Testing data shape: (10000, 28, 28)\n"
     ]
    }
   ],
   "source": [
    "# Tải xuống dataset MNIST\n",
    "(X, Y), (x_test, y_test) = mnist.load_data()\n",
    "\n",
    "# Kiểm tra kích thước của dữ liệu\n",
    "print(\"Training data shape:\", X.shape)  # (60000, 28, 28)\n",
    "print(\"Testing data shape:\", x_test.shape)    # (10000, 28, 28)"
   ]
  },
  {
   "cell_type": "code",
   "execution_count": 4,
   "metadata": {},
   "outputs": [
    {
     "data": {
      "text/plain": [
       "60000"
      ]
     },
     "execution_count": 4,
     "metadata": {},
     "output_type": "execute_result"
    }
   ],
   "source": [
    "len(X)"
   ]
  },
  {
   "cell_type": "code",
   "execution_count": 5,
   "metadata": {},
   "outputs": [
    {
     "data": {
      "text/plain": [
       "<matplotlib.image.AxesImage at 0x1aa9c0a5cd0>"
      ]
     },
     "execution_count": 5,
     "metadata": {},
     "output_type": "execute_result"
    },
    {
     "data": {
      "image/png": "[encoded data removed]",
      "text/plain": [
       "<Figure size 640x480 with 1 Axes>"
      ]
     },
     "metadata": {},
     "output_type": "display_data"
    }
   ],
   "source": [
    "plt.imshow(X[0])"
   ]
  },
  {
   "cell_type": "code",
   "execution_count": 6,
   "metadata": {},
   "outputs": [
    {
     "data": {
      "text/plain": [
       "5"
      ]
     },
     "execution_count": 6,
     "metadata": {},
     "output_type": "execute_result"
    }
   ],
   "source": [
    "Y[0]"
   ]
  },
  {
   "cell_type": "code",
   "execution_count": 7,
   "metadata": {},
   "outputs": [],
   "source": [
    "def forward_cnn(X: np.ndarray, Y: np.ndarray):\n",
    "    \"\"\"\n",
    "\n",
    "    Args:\n",
    "        X (np.ndarray): X is matrix with shape (K, N)\n",
    "        Y (np.ndarray): Y is matrix with shape (C, N)\n",
    "        \n",
    "        K: size of K depend on the last layer of Convolution layer.\n",
    "        N: is number of training points.\n",
    "\n",
    "\n",
    "    \"\"\"\n",
    "    N = X.shape[0]\n",
    "    \n",
    "    # Init value for convolution layers\n",
    "    K_11 = init_kernel((5, 5)) # Kernel 11 \n",
    "    K_12 = init_kernel((5, 5)) # Kernel 12\n",
    "    bk_11 = init_bias_kernel() # Bias kernel 11\n",
    "    bk_12 = init_bias_kernel() # Bias kernel 12\n",
    "    sk_1 = 1 # Stride kernel 1\n",
    "    sp_1 = 2 # Stride pool 1\n",
    "    size_pool_1 = (2, 2) # Size of pooling 1\n",
    "    \n",
    "    K_21 = init_kernel((3, 3, 2)) # Kernel 21\n",
    "    K_22 = init_kernel((3, 3, 2)) # Kernel 22\n",
    "    K_23 = init_kernel((3, 3, 2)) # Kernel 23 \n",
    "    K_24 = init_kernel((3, 3, 2)) # Kernel 24\n",
    "    bk_21 = init_bias_kernel() # Bias kernel 21\n",
    "    bk_22 = init_bias_kernel() # Bias kernel 22\n",
    "    bk_23 = init_bias_kernel() # Bias kernel 23\n",
    "    bk_24 = init_bias_kernel() # Bias kernel 24\n",
    "    sk_2 = 1 # Stride kernel 2\n",
    "    sp_2 = 2 # Stride pool 2\n",
    "    size_pool_2 = (2, 2) # Size of pooling 1\n",
    "    \n",
    "    Zk_1_size = [24, 24, 2]\n",
    "    list_Zk_1 = np.zeros([N] + Zk_1_size)\n",
    "    C_1_size = [24, 24, 2]\n",
    "    list_C_1 = np.zeros([N] + C_1_size)\n",
    "    P_1_size = [12, 12, 2]\n",
    "    list_P_1 = np.zeros([N] + P_1_size)\n",
    "    \n",
    "    Zk_2_size = [10, 10, 4]\n",
    "    list_Zk_2 = np.zeros([N] + Zk_2_size)\n",
    "    C_2_size = [10, 10, 4]\n",
    "    list_C_2 = np.zeros([N] + C_2_size)\n",
    "    P_2_size = [5, 5, 4]\n",
    "    list_P_2 = np.zeros([N] + P_2_size)\n",
    "    \n",
    "    # Init value for fully connected layers\n",
    "    A_0 = np.zeros((np.prod(P_2_size), N))\n",
    "    \n",
    "    W_1 = init_weights((100, 100))\n",
    "    b_1 = init_bias((100, 1))\n",
    "    \n",
    "    W_2 = init_weights((100, 100))\n",
    "    b_2 = init_bias((100, 1))\n",
    "    \n",
    "    W_3 = init_weights((100, 10))\n",
    "    b_3 = init_bias((10, 1))\n",
    "        \n",
    "    \n",
    "    # Calculate for kernel layers and input A_0 for fully connected layres\n",
    "    for i, x in enumerate(X):        \n",
    "        Zk_1 = convolution_multiple_kernel(x, (K_11, K_12), (bk_11, bk_12), sk_1)\n",
    "        C_1 = ReLU(Zk_1)\n",
    "        P_1 = pooling(C_1, size_pool_1, stride=sp_1)\n",
    "        \n",
    "        Zk_2 = convolution_multiple_kernel(P_1, (K_21, K_22, K_23, K_24), (bk_21, bk_22, bk_23, bk_24), sk_2)\n",
    "        C_2 = ReLU(Zk_2)\n",
    "        P_2 = pooling(C_2, size_pool_2, stride=sp_2)\n",
    "        \n",
    "        list_Zk_1[i] = Zk_1\n",
    "        list_C_1[i] = C_1\n",
    "        list_P_1[i] = P_1\n",
    "        \n",
    "        list_Zk_2[i] = Zk_2\n",
    "        list_C_2[i] = C_2\n",
    "        list_P_2[i] = P_2\n",
    "        \n",
    "        A_0[:, i] = P_2.flatten()\n",
    "    \n",
    "    # Calculate for fully connected layers\n",
    "    Z_1 = W_1.T.dot(A_0) + b_1\n",
    "    A_1 = ReLU(Z_1)\n",
    "    \n",
    "    Z_2 = W_2.T.dot(A_1) + b_2\n",
    "    A_2 = ReLU(Z_2)\n",
    "    \n",
    "    Z_3 = W_3.T.dot(A_2) + b_3\n",
    "    A_3 = softmax(Z_3) # This is prediction output\n",
    "    \n",
    "    # calculate loss value by cross entropy\n",
    "    loss = calculate_cross_entropy_loss_without_softmax_value(Y, Z_3)\n",
    "    \n",
    "    # Backpropagation for fully connected layers\n",
    "    lr = 0.001\n",
    "    \n",
    "    E_3 = 1/N * (Y - A_3)\n",
    "    dL_dW_3 = A_2.dot(E_3.T)\n",
    "    dL_db_3 = np.sum(E_3, axis=1)\n",
    "    \n",
    "    E_2 = W_3.dot(E_3) * derivative_ReLU(Z_2)\n",
    "    dL_dW_2 = A_1.dot(E_2.T)\n",
    "    dL_db_2 = np.sum(E_2, axis=1)\n",
    "    \n",
    "    E_1 = W_2.dot(E_2) * derivative_ReLU(Z_1)\n",
    "    dL_dW_1 = A_0.dot(E_1.T)\n",
    "    dL_db_1 = np.sum(E_1, axis=1)\n",
    "    \n",
    "    # Backpropagation for kernel layers\n",
    "    \n",
    "    # Number of rows in dL_dP_2 = number of columns in dL_dA_0 = N\n",
    "    # We loop through the columns of dL_dA_0 (respectively for each point data in X) and reshape it to size of P_2 and set that value in dL_dP_2\n",
    "    dL_dA_0: np.ndarray = W_1.dot(E_1)\n",
    "    list_dL_dP_2 = np.zeros([N] + P_2_size)\n",
    "    \n",
    "    for i in range(N):\n",
    "        list_dL_dP_2[i] = dL_dA_0[:, i].reshape(P_2_size)\n",
    "\n",
    "    list_dL_dC_2 = derivative_layer_before_max_pooling_for_multiple_point(list_C_2, list_P_2, list_dL_dP_2, size_pool_2, sp_2)\n",
    "    list_dL_dZk_2 = list_dL_dC_2 * derivative_ReLU(list_Zk_2)\n",
    "    \n",
    "    dL_dK_21 = derivative_for_filter(list_P_1, list_dL_dZk_2[:, :, :, 0], K_21.shape)\n",
    "    dL_dK_22 = derivative_for_filter(list_P_1, list_dL_dZk_2[:, :, :, 1], K_22.shape)\n",
    "    dL_dK_23 = derivative_for_filter(list_P_1, list_dL_dZk_2[:, :, :, 2], K_23.shape)\n",
    "    dL_dK_24 = derivative_for_filter(list_P_1, list_dL_dZk_2[:, :, :, 3], K_24.shape)\n",
    "    \n",
    "    dL_bk_21 = derivative_for_bias_kernel(list_dL_dZk_2[:, :, :, 0])\n",
    "    dL_bk_22 = derivative_for_bias_kernel(list_dL_dZk_2[:, :, :, 1])\n",
    "    dL_bk_23 = derivative_for_bias_kernel(list_dL_dZk_2[:, :, :, 2])\n",
    "    dL_bk_24 = derivative_for_bias_kernel(list_dL_dZk_2[:, :, :, 3])\n",
    "    \n",
    "    return dL_bk_21, dL_bk_22, dL_bk_23, dL_bk_24\n",
    "    \n",
    "    "
   ]
  },
  {
   "cell_type": "code",
   "execution_count": 8,
   "metadata": {},
   "outputs": [],
   "source": [
    "dL_bk_21, dL_bk_22, dL_bk_23, dL_bk_24 = forward_cnn(X[0:300], one_hot(Y[0:300]))"
   ]
  },
  {
   "cell_type": "code",
   "execution_count": 2,
   "metadata": {},
   "outputs": [],
   "source": [
    "import numpy as np\n",
    "\n",
    "def rotate_matrix_180_row(X):\n",
    "    output_rotate_row = np.zeros(X.shape)\n",
    "    \n",
    "    number_X_row = X.shape[0]\n",
    "    \n",
    "    first_row_run = 0\n",
    "    last_row_run = number_X_row - 1\n",
    "    while first_row_run < number_X_row:\n",
    "        output_rotate_row[first_row_run, :] = X[last_row_run, :]\n",
    "        \n",
    "        first_row_run += 1\n",
    "        last_row_run -= 1\n",
    "        \n",
    "    return output_rotate_row\n",
    "\n",
    "def rotate_matrix_180_col(X: np.ndarray):\n",
    "    output_rotate_col = np.zeros(X.shape)\n",
    "    \n",
    "    number_X_col = X.shape[1]\n",
    "    \n",
    "    first_col_run = 0\n",
    "    last_col_run = number_X_col - 1\n",
    "    while first_col_run < number_X_col:\n",
    "        output_rotate_col[:, first_col_run] = X[:, last_col_run]\n",
    "        \n",
    "        first_col_run += 1\n",
    "        last_col_run -= 1\n",
    "        \n",
    "    return output_rotate_col\n",
    "\n",
    "\n",
    "def rotate_matrix_180(X):\n",
    "    return rotate_matrix_180_col(rotate_matrix_180_row(X))"
   ]
  },
  {
   "cell_type": "code",
   "execution_count": 3,
   "metadata": {},
   "outputs": [],
   "source": [
    "X = np.random.randint(1, 10, (3, 2))"
   ]
  },
  {
   "cell_type": "code",
   "execution_count": 8,
   "metadata": {},
   "outputs": [
    {
     "data": {
      "text/plain": [
       "array([[5, 6],\n",
       "       [6, 2],\n",
       "       [1, 3]])"
      ]
     },
     "execution_count": 8,
     "metadata": {},
     "output_type": "execute_result"
    }
   ],
   "source": [
    "X.reshape((3, 2, 1))[:,:,0]"
   ]
  },
  {
   "cell_type": "code",
   "execution_count": 7,
   "metadata": {},
   "outputs": [
    {
     "ename": "IndexError",
     "evalue": "too many indices for array: array is 2-dimensional, but 3 were indexed",
     "output_type": "error",
     "traceback": [
      "\u001b[1;31m---------------------------------------------------------------------------\u001b[0m",
      "\u001b[1;31mIndexError\u001b[0m                                Traceback (most recent call last)",
      "Cell \u001b[1;32mIn[7], line 1\u001b[0m\n\u001b[1;32m----> 1\u001b[0m \u001b[43mX\u001b[49m\u001b[43m[\u001b[49m\u001b[43m:\u001b[49m\u001b[43m,\u001b[49m\u001b[43m:\u001b[49m\u001b[43m,\u001b[49m\u001b[38;5;241;43m0\u001b[39;49m\u001b[43m]\u001b[49m\n",
      "\u001b[1;31mIndexError\u001b[0m: too many indices for array: array is 2-dimensional, but 3 were indexed"
     ]
    }
   ],
   "source": [
    "X"
   ]
  },
  {
   "cell_type": "code",
   "execution_count": 6,
   "metadata": {},
   "outputs": [
    {
     "data": {
      "text/plain": [
       "array([[5, 6],\n",
       "       [6, 2],\n",
       "       [1, 3]])"
      ]
     },
     "execution_count": 6,
     "metadata": {},
     "output_type": "execute_result"
    }
   ],
   "source": [
    "X"
   ]
  },
  {
   "cell_type": "code",
   "execution_count": null,
   "metadata": {},
   "outputs": [],
   "source": []
  }
 ],
 "metadata": {
  "kernelspec": {
   "display_name": "venv_py_39",
   "language": "python",
   "name": "python3"
  },
  "language_info": {
   "codemirror_mode": {
    "name": "ipython",
    "version": 3
   },
   "file_extension": ".py",
   "mimetype": "text/x-python",
   "name": "python",
   "nbconvert_exporter": "python",
   "pygments_lexer": "ipython3",
   "version": "3.9.7"
  }
 },
 "nbformat": 4,
 "nbformat_minor": 2
}
