{
 "cells": [
  {
   "cell_type": "code",
   "execution_count": 1,
   "metadata": {},
   "outputs": [],
   "source": [
    "import tensorflow as tf\n",
    "from tensorflow.keras.datasets import mnist\n",
    "import matplotlib.pyplot as plt\n",
    "import numpy as np\n",
    "from typing import Union, Literal"
   ]
  },
  {
   "cell_type": "code",
   "execution_count": 2,
   "metadata": {},
   "outputs": [],
   "source": [
    "from utils_cnn import (\n",
    "    convolution,\n",
    "    pooling_one_point,\n",
    "    init_kernel,\n",
    "    init_bias_kernel,\n",
    "    convolution_multiple_kernel,\n",
    "    ReLU,\n",
    "    init_weights,\n",
    "    init_bias,\n",
    "    softmax,\n",
    "    one_hot,\n",
    "    cross_entropy_loss,\n",
    "    calculate_cross_entropy_loss_without_softmax_value,\n",
    "    add_padding_multiple_point,\n",
    "    add_dilation_multiple_point,\n",
    "    decode_one_hot,\n",
    "    Sigmoid,\n",
    "    split_chunk_X_Y,\n",
    ")\n",
    "\n",
    "from derivative_cnn import (\n",
    "    derivative_ReLU,\n",
    "    derivative_for_filter_one_point,\n",
    "    derivative_layer_before_max_pooling_for_multiple_point,\n",
    "    derivative_for_filter_multiple_point,\n",
    "    derivative_for_bias_kernel_multiple_point,\n",
    "    derivative_layer_input_convolution_multiple_point,\n",
    "    derivative_Sigmoid,\n",
    ")"
   ]
  },
  {
   "cell_type": "code",
   "execution_count": 3,
   "metadata": {},
   "outputs": [
    {
     "name": "stdout",
     "output_type": "stream",
     "text": [
      "Training data shape: (60000, 28, 28)\n",
      "Testing data shape: (10000, 28, 28)\n"
     ]
    }
   ],
   "source": [
    "# Tải xuống dataset MNIST\n",
    "(X, Y), (X_test, Y_test) = mnist.load_data()\n",
    "\n",
    "# Kiểm tra kích thước của dữ liệu\n",
    "print(\"Training data shape:\", X.shape)  # (60000, 28, 28)\n",
    "print(\"Testing data shape:\", X_test.shape)    # (10000, 28, 28)"
   ]
  },
  {
   "cell_type": "code",
   "execution_count": 4,
   "metadata": {},
   "outputs": [
    {
     "data": {
      "text/plain": [
       "60000"
      ]
     },
     "execution_count": 4,
     "metadata": {},
     "output_type": "execute_result"
    }
   ],
   "source": [
    "len(X)"
   ]
  },
  {
   "cell_type": "code",
   "execution_count": 5,
   "metadata": {},
   "outputs": [
    {
     "data": {
      "text/plain": [
       "<matplotlib.image.AxesImage at 0x1e452d595e0>"
      ]
     },
     "execution_count": 5,
     "metadata": {},
     "output_type": "execute_result"
    },
    {
     "data": {
      "image/png": "[encoded data removed]",
      "text/plain": [
       "<Figure size 640x480 with 1 Axes>"
      ]
     },
     "metadata": {},
     "output_type": "display_data"
    }
   ],
   "source": [
    "plt.imshow(X[0])"
   ]
  },
  {
   "cell_type": "code",
   "execution_count": 6,
   "metadata": {},
   "outputs": [
    {
     "data": {
      "text/plain": [
       "5"
      ]
     },
     "execution_count": 6,
     "metadata": {},
     "output_type": "execute_result"
    }
   ],
   "source": [
    "Y[0]"
   ]
  },
  {
   "cell_type": "code",
   "execution_count": 7,
   "metadata": {},
   "outputs": [],
   "source": [
    "def reshape_list_X(list_X: Union[list[np.ndarray], np.ndarray]):\n",
    "    N = len(list_X)\n",
    "    list_P_0 = list_X\n",
    "    \n",
    "    if (type(list_X) == list and len(list_X[0].shape) == 3) or len(list_X.shape) == 4:\n",
    "        pass\n",
    "    elif type(list_X) == np.ndarray and len(list_X.shape) == 3:\n",
    "        first_X = list_X[0]\n",
    "        X_number_row = first_X.shape[0]\n",
    "        X_number_col = first_X.shape[1]\n",
    "        list_P_0 = list_X.reshape([N, X_number_row, X_number_col, 1])\n",
    "    \n",
    "    return list_P_0\n",
    "\n"
   ]
  },
  {
   "cell_type": "code",
   "execution_count": 8,
   "metadata": {},
   "outputs": [],
   "source": [
    "def forward(\n",
    "    mode: Literal[\"train\", \"predict\"],\n",
    "\n",
    "    list_P_0,\n",
    "    \n",
    "    K_11,\n",
    "    K_12,\n",
    "    bk_11,\n",
    "    bk_12,\n",
    "    sk_1,\n",
    "    sp_1,\n",
    "    size_pool_1,\n",
    "    \n",
    "    Zk_1_size,\n",
    "    C_1_size,\n",
    "    P_1_size,\n",
    "    \n",
    "    K_21,\n",
    "    K_22,\n",
    "    K_23,\n",
    "    K_24,\n",
    "    bk_21,\n",
    "    bk_22,\n",
    "    bk_23,\n",
    "    bk_24,\n",
    "    sk_2,\n",
    "    sp_2,\n",
    "    size_pool_2,\n",
    "\n",
    "    Zk_2_size,\n",
    "    C_2_size,\n",
    "    P_2_size,\n",
    "    \n",
    "    W_1,\n",
    "    b_1,\n",
    "    \n",
    "    W_2,\n",
    "    b_2,\n",
    "    \n",
    "    W_3,\n",
    "    b_3,\n",
    "    \n",
    "    Y=None):\n",
    "        \n",
    "        N = len(list_P_0)\n",
    "        \n",
    "        list_Zk_1 = np.zeros([N] + Zk_1_size)\n",
    "        list_C_1 = np.zeros([N] + C_1_size)\n",
    "        list_P_1 = np.zeros([N] + P_1_size)\n",
    "        \n",
    "        list_Zk_2 = np.zeros([N] + Zk_2_size)\n",
    "        list_C_2 = np.zeros([N] + C_2_size)\n",
    "        list_P_2 = np.zeros([N] + P_2_size)\n",
    "        \n",
    "        A_0 = np.zeros((np.prod(P_2_size), N))\n",
    "        \n",
    "        # Calculate for kernel layers and input A_0 for fully connected layres\n",
    "        for i, each_point_data_p_0 in enumerate(list_P_0):        \n",
    "            Zk_1 = convolution_multiple_kernel(each_point_data_p_0, (K_11, K_12), (bk_11, bk_12), sk_1)\n",
    "            C_1 = ReLU(Zk_1)\n",
    "            P_1 = pooling_one_point(C_1, size_pool_1, stride=sp_1)\n",
    "            \n",
    "            Zk_2 = convolution_multiple_kernel(P_1, (K_21, K_22, K_23, K_24), (bk_21, bk_22, bk_23, bk_24), sk_2)\n",
    "            C_2 = Sigmoid(Zk_2)\n",
    "            P_2 = pooling_one_point(C_2, size_pool_2, stride=sp_2)\n",
    "            \n",
    "            list_Zk_1[i] = Zk_1\n",
    "            list_C_1[i] = C_1\n",
    "            list_P_1[i] = P_1\n",
    "            \n",
    "            list_Zk_2[i] = Zk_2\n",
    "            list_C_2[i] = C_2\n",
    "            list_P_2[i] = P_2\n",
    "            \n",
    "            A_0[:, i] = P_2.flatten()\n",
    "        \n",
    "        # Calculate for fully connected layers\n",
    "        Z_1 = W_1.T.dot(A_0) + b_1\n",
    "        A_1 = ReLU(Z_1)\n",
    "        \n",
    "        Z_2 = W_2.T.dot(A_1) + b_2\n",
    "        A_2 = ReLU(Z_2)\n",
    "        \n",
    "        Z_3 = W_3.T.dot(A_2) + b_3\n",
    "        A_3 = softmax(Z_3) # This is prediction output\n",
    "        \n",
    "        # calculate loss value by cross entropy\n",
    "        loss = 0\n",
    "        if mode == \"train\":\n",
    "            loss = calculate_cross_entropy_loss_without_softmax_value(Y, Z_3)\n",
    "        \n",
    "        return {\n",
    "            \"list_Zk_1\": list_Zk_1,\n",
    "            \"list_C_1\": list_C_1,\n",
    "            \"list_P_1\": list_P_1,\n",
    "            \n",
    "            \"list_Zk_2\": list_Zk_2,\n",
    "            \"list_C_2\": list_C_2,\n",
    "            \"list_P_2\": list_P_2,\n",
    "\n",
    "            \"A_0\": A_0,\n",
    "            \n",
    "            \"Z_1\": Z_1,\n",
    "            \"A_1\": A_1,\n",
    "                    \n",
    "            \"Z_2\": Z_2,\n",
    "            \"A_2\": A_2,\n",
    "            \n",
    "            \"Z_3\": Z_3,\n",
    "            \"A_3\": A_3,\n",
    "            \n",
    "            \"loss\": loss,\n",
    "        }"
   ]
  },
  {
   "cell_type": "code",
   "execution_count": 9,
   "metadata": {},
   "outputs": [],
   "source": [
    "def backpropagation(\n",
    "    settings,\n",
    "    \n",
    "    list_P_0,\n",
    "            \n",
    "    K_11,\n",
    "    K_12,\n",
    "    bk_11,\n",
    "    bk_12,\n",
    "    sk_1,\n",
    "    sp_1,\n",
    "    size_pool_1,\n",
    "    \n",
    "    Zk_1_size,\n",
    "    C_1_size,\n",
    "    P_1_size,\n",
    "    \n",
    "    K_21,\n",
    "    K_22,\n",
    "    K_23,\n",
    "    K_24,\n",
    "    bk_21,\n",
    "    bk_22,\n",
    "    bk_23,\n",
    "    bk_24,\n",
    "    sk_2,\n",
    "    sp_2,\n",
    "    size_pool_2,\n",
    "    \n",
    "    Zk_2_size,\n",
    "    C_2_size,\n",
    "    P_2_size,\n",
    "    \n",
    "    W_1,\n",
    "    b_1,\n",
    "    \n",
    "    W_2,\n",
    "    b_2,\n",
    "    \n",
    "    W_3,\n",
    "    b_3,\n",
    "    \n",
    "    Y\n",
    "):\n",
    "    for i in range(settings[\"epochs\"]):\n",
    "        output_forward = forward(\n",
    "            \"train\",\n",
    "            \n",
    "            list_P_0,\n",
    "            \n",
    "            K_11,\n",
    "            K_12,\n",
    "            bk_11,\n",
    "            bk_12,\n",
    "            sk_1,\n",
    "            sp_1,\n",
    "            size_pool_1,\n",
    "            \n",
    "            Zk_1_size,\n",
    "            C_1_size,\n",
    "            P_1_size,\n",
    "            \n",
    "            K_21,\n",
    "            K_22,\n",
    "            K_23,\n",
    "            K_24,\n",
    "            bk_21,\n",
    "            bk_22,\n",
    "            bk_23,\n",
    "            bk_24,\n",
    "            sk_2,\n",
    "            sp_2,\n",
    "            size_pool_2,\n",
    "            \n",
    "            Zk_2_size,\n",
    "            C_2_size,\n",
    "            P_2_size,\n",
    "            \n",
    "            W_1,\n",
    "            b_1,\n",
    "            W_2,\n",
    "            b_2,\n",
    "            W_3,\n",
    "            b_3,\n",
    "            \n",
    "            Y\n",
    "        )\n",
    "        \n",
    "        \n",
    "        list_Zk_1 = output_forward[\"list_Zk_1\"] \n",
    "        list_C_1 = output_forward[\"list_C_1\"] \n",
    "        list_P_1 = output_forward[\"list_P_1\"] \n",
    "        list_Zk_2 = output_forward[\"list_Zk_2\"] \n",
    "        list_C_2 = output_forward[\"list_C_2\"] \n",
    "        list_P_2 = output_forward[\"list_P_2\"] \n",
    "        A_0 = output_forward[\"A_0\"] \n",
    "        Z_1 = output_forward[\"Z_1\"] \n",
    "        A_1 = output_forward[\"A_1\"] \n",
    "        Z_2 = output_forward[\"Z_2\"] \n",
    "        A_2 = output_forward[\"A_2\"] \n",
    "        Z_3 = output_forward[\"Z_3\"] \n",
    "        A_3 = output_forward[\"A_3\"] \n",
    "        loss = output_forward[\"loss\"] \n",
    "        \n",
    "        \n",
    "        N = len(list_P_0)\n",
    "        print(f\"loop = {i}, loss = {loss}\")\n",
    "        \n",
    "        # Backpropagation for fully connected layers\n",
    "    \n",
    "        E_3 = 1/N * (A_3 - Y)\n",
    "        dL_dW_3 = A_2.dot(E_3.T)\n",
    "        dL_db_3 = np.sum(E_3, axis=1, keepdims=True)\n",
    "        \n",
    "        E_2 = W_3.dot(E_3) * derivative_ReLU(Z_2)\n",
    "        dL_dW_2 = A_1.dot(E_2.T)\n",
    "        dL_db_2 = np.sum(E_2, axis=1, keepdims=True)\n",
    "        \n",
    "        E_1 = W_2.dot(E_2) * derivative_ReLU(Z_1)\n",
    "        dL_dW_1 = A_0.dot(E_1.T)\n",
    "        dL_db_1 = np.sum(E_1, axis=1, keepdims=True)\n",
    "        \n",
    "        # Backpropagation for kernel layers\n",
    "        \n",
    "        # Number of rows in dL_dP_2 = number of columns in dL_dA_0 = N\n",
    "        # We loop through the columns of dL_dA_0 (respectively for each point data in X) and reshape it to size of P_2 and set that value in dL_dP_2\n",
    "        dL_dA_0: np.ndarray = W_1.dot(E_1)\n",
    "        list_dL_dP_2 = np.zeros([N] + P_2_size)\n",
    "        \n",
    "        for i in range(N):\n",
    "            list_dL_dP_2[i] = dL_dA_0[:, i].reshape(P_2_size)\n",
    "\n",
    "        list_dL_dC_2 = derivative_layer_before_max_pooling_for_multiple_point(list_C_2, list_P_2, list_dL_dP_2, size_pool_2, sp_2)\n",
    "        list_dL_dZk_2 = list_dL_dC_2 * derivative_Sigmoid(list_Zk_2)\n",
    "        \n",
    "        dL_dK_21 = derivative_for_filter_multiple_point(list_P_1, list_dL_dZk_2[:, :, :, 0], K_21.shape, sk_2)\n",
    "        dL_dK_22 = derivative_for_filter_multiple_point(list_P_1, list_dL_dZk_2[:, :, :, 1], K_22.shape, sk_2)\n",
    "        dL_dK_23 = derivative_for_filter_multiple_point(list_P_1, list_dL_dZk_2[:, :, :, 2], K_23.shape, sk_2)\n",
    "        dL_dK_24 = derivative_for_filter_multiple_point(list_P_1, list_dL_dZk_2[:, :, :, 3], K_24.shape, sk_2)\n",
    "        \n",
    "        dL_dbk_21 = derivative_for_bias_kernel_multiple_point(list_dL_dZk_2[:, :, :, 0])\n",
    "        dL_dbk_22 = derivative_for_bias_kernel_multiple_point(list_dL_dZk_2[:, :, :, 1])\n",
    "        dL_dbk_23 = derivative_for_bias_kernel_multiple_point(list_dL_dZk_2[:, :, :, 2])\n",
    "        dL_dbk_24 = derivative_for_bias_kernel_multiple_point(list_dL_dZk_2[:, :, :, 3])\n",
    "        \n",
    "        list_dL_dP_1 = derivative_layer_input_convolution_multiple_point(list_P_1, [K_21, K_22, K_23, K_24], list_dL_dZk_2)\n",
    "        list_dL_dC_1 = derivative_layer_before_max_pooling_for_multiple_point(list_C_1, list_P_1, list_dL_dP_1, size_pool_1, sp_1)\n",
    "        list_dL_dZk_1 = list_dL_dC_1 * derivative_ReLU(list_Zk_1)\n",
    "        \n",
    "        dL_dK_11 = derivative_for_filter_multiple_point(list_P_0, list_dL_dZk_1[:, :, :, 0], K_11.shape, sk_1)\n",
    "        dL_dK_12 = derivative_for_filter_multiple_point(list_P_0, list_dL_dZk_1[:, :, :, 1], K_12.shape, sk_1)\n",
    "        \n",
    "        dL_dbk_11 = derivative_for_bias_kernel_multiple_point(list_dL_dZk_1[:, :, :, 0])\n",
    "        dL_dbk_12 = derivative_for_bias_kernel_multiple_point(list_dL_dZk_1[:, :, :, 1])\n",
    "        \n",
    "        W_3 = W_3 - settings[\"learning_rate\"]*dL_dW_3\n",
    "        b_3 = b_3 - settings[\"learning_rate\"]*dL_db_3\n",
    "        \n",
    "        W_2 = W_2 - settings[\"learning_rate\"]*dL_dW_2\n",
    "        b_2 = b_2 - settings[\"learning_rate\"]*dL_db_2\n",
    "        \n",
    "        W_1 = W_1 - settings[\"learning_rate\"]*dL_dW_1\n",
    "        b_1 = b_1 - settings[\"learning_rate\"]*dL_db_1\n",
    "        \n",
    "        K_21 = K_21 - settings[\"learning_rate\"]*dL_dK_21\n",
    "        K_22 = K_22 - settings[\"learning_rate\"]*dL_dK_22\n",
    "        K_23 = K_23 - settings[\"learning_rate\"]*dL_dK_23\n",
    "        K_24 = K_24 - settings[\"learning_rate\"]*dL_dK_24\n",
    "        \n",
    "        bk_21 = bk_21 - settings[\"learning_rate\"]*dL_dbk_21\n",
    "        bk_22 = bk_22 - settings[\"learning_rate\"]*dL_dbk_22\n",
    "        bk_23 = bk_23 - settings[\"learning_rate\"]*dL_dbk_23\n",
    "        bk_24 = bk_24 - settings[\"learning_rate\"]*dL_dbk_24\n",
    "        \n",
    "        K_11 = K_11 - settings[\"learning_rate\"]*dL_dK_11\n",
    "        K_12 = K_12 - settings[\"learning_rate\"]*dL_dK_12\n",
    "        \n",
    "        bk_11 = bk_11 - settings[\"learning_rate\"]*dL_dbk_11\n",
    "        bk_12 = bk_12 - settings[\"learning_rate\"]*dL_dbk_12\n",
    "    \n",
    "    return {\n",
    "        \"K_11\": K_11,\n",
    "        \"K_12\": K_12,\n",
    "        \n",
    "        \"bk_11\": bk_11,\n",
    "        \"bk_12\": bk_12,\n",
    "        \n",
    "        \"K_21\": K_21,\n",
    "        \"K_22\": K_22,\n",
    "        \"K_23\": K_23,\n",
    "        \"K_24\": K_24,\n",
    "        \n",
    "        \"bk_21\": bk_21,\n",
    "        \"bk_22\": bk_22,\n",
    "        \"bk_23\": bk_23,\n",
    "        \"bk_24\": bk_24,\n",
    "        \n",
    "        \"W_1\": W_1,\n",
    "        \"b_1\": b_1,\n",
    "\n",
    "        \"W_2\": W_2,\n",
    "        \"b_2\": b_2,\n",
    "\n",
    "        \"W_3\": W_3,\n",
    "        \"b_3\": b_3,\n",
    "    }"
   ]
  },
  {
   "cell_type": "code",
   "execution_count": 51,
   "metadata": {},
   "outputs": [],
   "source": [
    "def forward_and_train_cnn(\n",
    "    list_X: Union[list[np.ndarray], np.ndarray], \n",
    "    Y: np.ndarray, \n",
    "    learning_rate: float, \n",
    "    epochs: int,\n",
    "    chunk_size: int = 300):\n",
    "    \"\"\"\n",
    "    \n",
    "    \"\"\"\n",
    "    \n",
    "    list_P_0 = reshape_list_X(list_X)\n",
    "\n",
    "    # Init value for convolution layers\n",
    "    K_11 = init_kernel((5, 5, 1)) # Kernel 11 \n",
    "    K_12 = init_kernel((5, 5, 1)) # Kernel 12\n",
    "    bk_11 = init_bias_kernel() # Bias kernel 11\n",
    "    bk_12 = init_bias_kernel() # Bias kernel 12\n",
    "    sk_1 = 1 # Stride kernel 1\n",
    "    sp_1 = 2 # Stride pool 1\n",
    "    size_pool_1 = (2, 2) # Size of pooling 1\n",
    "    \n",
    "    K_21 = init_kernel((3, 3, 2)) # Kernel 21\n",
    "    K_22 = init_kernel((3, 3, 2)) # Kernel 22\n",
    "    K_23 = init_kernel((3, 3, 2)) # Kernel 23 \n",
    "    K_24 = init_kernel((3, 3, 2)) # Kernel 24\n",
    "    bk_21 = init_bias_kernel() # Bias kernel 21\n",
    "    bk_22 = init_bias_kernel() # Bias kernel 22\n",
    "    bk_23 = init_bias_kernel() # Bias kernel 23\n",
    "    bk_24 = init_bias_kernel() # Bias kernel 24\n",
    "    sk_2 = 1 # Stride kernel 2\n",
    "    sp_2 = 2 # Stride pool 2\n",
    "    size_pool_2 = (2, 2) # Size of pooling 1\n",
    "    \n",
    "    Zk_1_size = [24, 24, 2]\n",
    "    C_1_size = [24, 24, 2]\n",
    "    P_1_size = [12, 12, 2]\n",
    "    \n",
    "    Zk_2_size = [10, 10, 4]\n",
    "    C_2_size = [10, 10, 4]\n",
    "    P_2_size = [5, 5, 4]\n",
    "    \n",
    "    # Init value for fully connected layers\n",
    "    number_nn_layer_1 = 100\n",
    "    W_1 = init_weights((np.prod(P_2_size), number_nn_layer_1))\n",
    "    b_1 = init_bias((number_nn_layer_1, 1))\n",
    "    \n",
    "    number_nn_layer_2 = 100\n",
    "    W_2 = init_weights((number_nn_layer_1, number_nn_layer_2))\n",
    "    b_2 = init_bias((number_nn_layer_2, 1))\n",
    "    \n",
    "    number_nn_layer_3 = Y.shape[0] # Number of categories into which the data is classified.\n",
    "    W_3 = init_weights((number_nn_layer_2, number_nn_layer_3))\n",
    "    b_3 = init_bias((number_nn_layer_3, 1))\n",
    "    \n",
    "    chunk_count = 0  \n",
    "    for chunk_P_0, chunk_Y in split_chunk_X_Y(list_P_0, Y, chunk_size):\n",
    "        print(f\"Chunk {chunk_count}\")\n",
    "        chunk_count += 1\n",
    "        \n",
    "        # Backpropagation \n",
    "        params = backpropagation(\n",
    "            {\"epochs\": epochs, \"learning_rate\": learning_rate},\n",
    "            chunk_P_0,\n",
    "            \n",
    "            K_11,\n",
    "            K_12,\n",
    "            bk_11,\n",
    "            bk_12,\n",
    "            sk_1,\n",
    "            sp_1,\n",
    "            size_pool_1,\n",
    "            \n",
    "            Zk_1_size,\n",
    "            C_1_size,\n",
    "            P_1_size,\n",
    "            \n",
    "            K_21,\n",
    "            K_22,\n",
    "            K_23,\n",
    "            K_24,\n",
    "            bk_21,\n",
    "            bk_22,\n",
    "            bk_23,\n",
    "            bk_24,\n",
    "            sk_2,\n",
    "            sp_2,\n",
    "            size_pool_2,\n",
    "            \n",
    "            Zk_2_size,\n",
    "            C_2_size,\n",
    "            P_2_size,\n",
    "            \n",
    "            W_1,\n",
    "            b_1,\n",
    "            W_2,\n",
    "            b_2,\n",
    "            W_3,\n",
    "            b_3,\n",
    "            \n",
    "            chunk_Y\n",
    "        )\n",
    "    \n",
    "    \n",
    "\n",
    "    return {\n",
    "        \"params\": {\n",
    "            \"K_11\": params[\"K_11\"],\n",
    "            \"K_12\": params[\"K_12\"],\n",
    "            \n",
    "            \"bk_11\": params[\"bk_11\"],\n",
    "            \"bk_12\": params[\"bk_12\"],\n",
    "            \n",
    "            \"K_21\": params[\"K_21\"],\n",
    "            \"K_22\": params[\"K_22\"],\n",
    "            \"K_23\": params[\"K_23\"],\n",
    "            \"K_24\": params[\"K_24\"],\n",
    "            \n",
    "            \"bk_21\": params[\"bk_21\"],\n",
    "            \"bk_22\": params[\"bk_22\"],\n",
    "            \"bk_23\": params[\"bk_23\"],\n",
    "            \"bk_24\": params[\"bk_24\"],\n",
    "            \n",
    "            \"W_1\": params[\"W_1\"],\n",
    "            \"b_1\": params[\"b_1\"],\n",
    "\n",
    "            \"W_2\": params[\"W_2\"],\n",
    "            \"b_2\": params[\"b_2\"],\n",
    "\n",
    "            \"W_3\": params[\"W_3\"],\n",
    "            \"b_3\": params[\"b_3\"],\n",
    "        },\n",
    "        \"config_size\": {\n",
    "            \"sk_1\": sk_1,\n",
    "            \"sp_1\": sp_1,\n",
    "            \"size_pool_1\": size_pool_1,\n",
    "            \n",
    "            \"Zk_1_size\": Zk_1_size,\n",
    "            \"C_1_size\": C_1_size,\n",
    "            \"P_1_size\": P_1_size,\n",
    "            \"sk_2\": sk_2,\n",
    "            \"sp_2\": sp_2,\n",
    "            \"size_pool_2\": size_pool_2,\n",
    "            \n",
    "            \"Zk_2_size\": Zk_2_size,\n",
    "            \"C_2_size\": C_2_size,\n",
    "            \"P_2_size\": P_2_size,\n",
    "        }\n",
    "    }"
   ]
  },
  {
   "cell_type": "code",
   "execution_count": 55,
   "metadata": {},
   "outputs": [],
   "source": [
    "number_train_points = 1000"
   ]
  },
  {
   "cell_type": "code",
   "execution_count": 110,
   "metadata": {},
   "outputs": [
    {
     "name": "stdout",
     "output_type": "stream",
     "text": [
      "Chunk 0\n"
     ]
    },
    {
     "name": "stderr",
     "output_type": "stream",
     "text": [
      "d:\\code\\selenium\\data_analytics\\try_cnn\\utils_cnn.py:454: RuntimeWarning: overflow encountered in exp\n",
      "  return 1 / (1 + np.exp((-1) * X))\n"
     ]
    },
    {
     "name": "stdout",
     "output_type": "stream",
     "text": [
      "loop = 0, loss = 2.618921263161561\n",
      "loop = 1, loss = 2.6286330003391214\n",
      "loop = 2, loss = 2.343585354562144\n",
      "loop = 3, loss = 2.2106594055079336\n",
      "loop = 4, loss = 2.1636605044679906\n",
      "loop = 5, loss = 2.1116026166973096\n",
      "loop = 6, loss = 2.036856334870996\n",
      "loop = 7, loss = 2.099101440442071\n",
      "loop = 8, loss = 2.0103507907875806\n",
      "loop = 9, loss = 1.9494009221523232\n",
      "loop = 10, loss = 1.9197795376362772\n",
      "loop = 11, loss = 1.8360423073754344\n",
      "loop = 12, loss = 1.8171669333924674\n",
      "loop = 13, loss = 1.77308391671699\n",
      "loop = 14, loss = 1.7129022253703259\n",
      "loop = 15, loss = 1.6817528953865417\n",
      "loop = 16, loss = 1.5970487700404992\n",
      "loop = 17, loss = 1.5632234699254788\n",
      "loop = 18, loss = 1.6037152244541741\n",
      "loop = 19, loss = 1.6841056861574164\n",
      "loop = 20, loss = 1.8188989459763625\n",
      "loop = 21, loss = 1.8410373751578275\n",
      "loop = 22, loss = 2.5602705762452596\n",
      "loop = 23, loss = 1.804004469455593\n",
      "loop = 24, loss = 1.524755996169204\n",
      "loop = 25, loss = 1.3968954209939728\n",
      "loop = 26, loss = 1.3301222907170838\n",
      "loop = 27, loss = 1.3004140963459385\n",
      "loop = 28, loss = 1.2553146610277524\n",
      "loop = 29, loss = 1.2660775554691859\n",
      "loop = 30, loss = 1.1965943056736115\n",
      "loop = 31, loss = 1.2003830698633773\n",
      "loop = 32, loss = 1.1260595685048762\n",
      "loop = 33, loss = 1.1980085047030309\n",
      "loop = 34, loss = 1.2526442775611994\n",
      "loop = 35, loss = 1.2277408631576943\n",
      "loop = 36, loss = 1.270194930375903\n",
      "loop = 37, loss = 1.1842106828664614\n",
      "loop = 38, loss = 1.1796761440700751\n",
      "loop = 39, loss = 1.0937577554965061\n",
      "loop = 40, loss = 1.042172764375125\n",
      "loop = 41, loss = 0.994647920682697\n",
      "loop = 42, loss = 1.0561831697866444\n",
      "loop = 43, loss = 0.9982603224378367\n",
      "loop = 44, loss = 0.9978969108849619\n",
      "loop = 45, loss = 1.0527869125942104\n",
      "loop = 46, loss = 1.0287500205552154\n",
      "loop = 47, loss = 1.2009141996272799\n",
      "loop = 48, loss = 0.9940730628621554\n",
      "loop = 49, loss = 0.9303058091609535\n",
      "loop = 50, loss = 0.9080800156884027\n",
      "loop = 51, loss = 0.8901290686491626\n",
      "loop = 52, loss = 0.8980199443768474\n",
      "loop = 53, loss = 0.8525079846261844\n",
      "loop = 54, loss = 0.929287728240981\n",
      "loop = 55, loss = 0.90619474715818\n",
      "loop = 56, loss = 0.8667697423919444\n",
      "loop = 57, loss = 0.8514991957772537\n",
      "loop = 58, loss = 0.8358092145239483\n",
      "loop = 59, loss = 1.201989560649457\n",
      "loop = 60, loss = 1.3511073039905104\n",
      "loop = 61, loss = 0.8653682371063883\n",
      "loop = 62, loss = 0.7083591283255525\n",
      "loop = 63, loss = 0.6597213090138381\n",
      "loop = 64, loss = 0.7368154524926825\n",
      "loop = 65, loss = 0.6520389887843345\n",
      "loop = 66, loss = 0.625548287672602\n",
      "loop = 67, loss = 0.5947070028835618\n",
      "loop = 68, loss = 0.6271305905993972\n",
      "loop = 69, loss = 0.6173528755970881\n",
      "loop = 70, loss = 0.595222437899578\n",
      "loop = 71, loss = 0.5890919627682241\n",
      "loop = 72, loss = 0.5717166852490296\n",
      "loop = 73, loss = 0.6059517527232946\n",
      "loop = 74, loss = 0.6152454035068041\n",
      "loop = 75, loss = 0.608672513481965\n",
      "loop = 76, loss = 0.6356898124639545\n",
      "loop = 77, loss = 0.6535196664839873\n",
      "loop = 78, loss = 0.6069216752325675\n",
      "loop = 79, loss = 0.5892369316365033\n",
      "loop = 80, loss = 0.585715756442724\n",
      "loop = 81, loss = 0.5705907133974562\n",
      "loop = 82, loss = 0.5419183725454271\n",
      "loop = 83, loss = 0.5324733548208591\n",
      "loop = 84, loss = 0.5667338201357695\n",
      "loop = 85, loss = 0.5410634913961738\n",
      "loop = 86, loss = 0.5267543482582067\n",
      "loop = 87, loss = 0.5417686245707789\n",
      "loop = 88, loss = 0.49460848353939507\n",
      "loop = 89, loss = 0.4816654237892171\n",
      "loop = 90, loss = 0.49553946448756603\n",
      "loop = 91, loss = 0.5869156279649649\n",
      "loop = 92, loss = 0.5377683513758769\n",
      "loop = 93, loss = 0.5462248946853614\n",
      "loop = 94, loss = 0.5762559803735248\n",
      "loop = 95, loss = 0.48810188345225264\n",
      "loop = 96, loss = 0.48149409913227265\n",
      "loop = 97, loss = 0.4979446840976956\n",
      "loop = 98, loss = 0.5048158887010088\n",
      "loop = 99, loss = 0.4973549973635886\n",
      "loop = 100, loss = 0.4792987353695488\n",
      "loop = 101, loss = 0.46694302636563506\n",
      "loop = 102, loss = 0.4501552887856419\n",
      "loop = 103, loss = 0.45041195018756697\n",
      "loop = 104, loss = 0.4278939150388161\n",
      "loop = 105, loss = 0.4133306885196033\n",
      "loop = 106, loss = 0.48521632466554965\n",
      "loop = 107, loss = 0.4613067276150139\n",
      "loop = 108, loss = 0.40835872616820273\n",
      "loop = 109, loss = 0.3971789736956743\n",
      "loop = 110, loss = 0.4146071761793132\n",
      "loop = 111, loss = 0.5261111461262225\n",
      "loop = 112, loss = 0.5389183633535073\n",
      "loop = 113, loss = 0.5230647326022845\n",
      "loop = 114, loss = 0.4692922275501136\n",
      "loop = 115, loss = 0.46760604986390436\n",
      "loop = 116, loss = 0.4223384656522265\n",
      "loop = 117, loss = 0.4104628802424218\n",
      "loop = 118, loss = 0.4175210014201176\n",
      "loop = 119, loss = 0.4855393440050614\n",
      "loop = 120, loss = 0.4431668858537799\n",
      "loop = 121, loss = 0.4054195436370637\n",
      "loop = 122, loss = 0.36894946555801994\n",
      "loop = 123, loss = 0.36936776834454915\n",
      "loop = 124, loss = 0.40313252133524174\n",
      "loop = 125, loss = 0.37881710916034883\n",
      "loop = 126, loss = 0.40456457862939454\n",
      "loop = 127, loss = 0.39195458577696773\n",
      "loop = 128, loss = 0.3803682225879003\n",
      "loop = 129, loss = 0.40195373810397034\n",
      "loop = 130, loss = 0.39559582308689023\n",
      "loop = 131, loss = 0.3723183001567508\n",
      "loop = 132, loss = 0.4533998559041053\n",
      "loop = 133, loss = 0.40700085563704985\n",
      "loop = 134, loss = 0.3987769219508219\n",
      "loop = 135, loss = 0.43892617041819393\n",
      "loop = 136, loss = 0.4286821094047999\n",
      "loop = 137, loss = 0.36415880049622795\n",
      "loop = 138, loss = 0.3696369887275882\n",
      "loop = 139, loss = 0.31722149369133745\n",
      "loop = 140, loss = 0.37114634375498246\n",
      "loop = 141, loss = 0.38320915811444983\n",
      "loop = 142, loss = 0.3588099456869487\n",
      "loop = 143, loss = 0.3286806815443596\n",
      "loop = 144, loss = 0.34265497110798776\n",
      "loop = 145, loss = 0.35635843964837927\n",
      "loop = 146, loss = 0.3388169459288827\n",
      "loop = 147, loss = 0.3293562896216949\n",
      "loop = 148, loss = 0.3126082880804221\n",
      "loop = 149, loss = 0.32739804262725636\n",
      "loop = 150, loss = 0.3055646278356765\n",
      "loop = 151, loss = 0.3038873420245206\n",
      "loop = 152, loss = 0.3113179552383582\n",
      "loop = 153, loss = 0.3240013312857637\n",
      "loop = 154, loss = 0.3085173212302385\n",
      "loop = 155, loss = 0.34830531476851123\n",
      "loop = 156, loss = 0.39784403631703813\n",
      "loop = 157, loss = 0.3075911362250144\n",
      "loop = 158, loss = 0.2932406763046433\n",
      "loop = 159, loss = 0.28763817754144305\n",
      "loop = 160, loss = 0.28306194870077206\n",
      "loop = 161, loss = 0.31694901475301224\n",
      "loop = 162, loss = 0.35083155521615805\n",
      "loop = 163, loss = 0.35788679213133456\n",
      "loop = 164, loss = 0.3937884010080028\n",
      "loop = 165, loss = 0.2774365101348322\n",
      "loop = 166, loss = 0.2397884640731699\n",
      "loop = 167, loss = 0.24978770602337477\n",
      "loop = 168, loss = 0.24051224138445756\n",
      "loop = 169, loss = 0.2290065021371272\n",
      "loop = 170, loss = 0.26782055601060156\n",
      "loop = 171, loss = 0.26593361007038585\n",
      "loop = 172, loss = 0.26009968935943556\n",
      "loop = 173, loss = 0.24431791173907041\n",
      "loop = 174, loss = 0.23168036664297031\n",
      "loop = 175, loss = 0.2295099020061547\n",
      "loop = 176, loss = 0.23653556226800979\n",
      "loop = 177, loss = 0.22370402037967355\n",
      "loop = 178, loss = 0.21676711815118066\n",
      "loop = 179, loss = 0.3061504995314315\n",
      "loop = 180, loss = 0.3369740181351328\n",
      "loop = 181, loss = 0.33367413234489457\n",
      "loop = 182, loss = 0.35864618317490643\n",
      "loop = 183, loss = 0.35389105561290896\n",
      "loop = 184, loss = 0.3431540572512788\n",
      "loop = 185, loss = 0.3350026287097986\n",
      "loop = 186, loss = 0.31359003961619114\n",
      "loop = 187, loss = 0.276607855871977\n",
      "loop = 188, loss = 0.2575147959827122\n",
      "loop = 189, loss = 0.24929374542168045\n",
      "loop = 190, loss = 0.23231974851886905\n",
      "loop = 191, loss = 0.2236286897602753\n",
      "loop = 192, loss = 0.21841645678919555\n",
      "loop = 193, loss = 0.22036195878826856\n",
      "loop = 194, loss = 0.22459039981008647\n",
      "loop = 195, loss = 0.19221733992247783\n",
      "loop = 196, loss = 0.2236141902135547\n",
      "loop = 197, loss = 0.18277036591396645\n",
      "loop = 198, loss = 0.23755993199990855\n",
      "loop = 199, loss = 0.2065065215275405\n",
      "loop = 200, loss = 0.1911274916745068\n",
      "loop = 201, loss = 0.2562687103610703\n",
      "loop = 202, loss = 0.42895895730189554\n",
      "loop = 203, loss = 0.47443101085995903\n",
      "loop = 204, loss = 0.3329700775627513\n",
      "loop = 205, loss = 0.23559043969059432\n",
      "loop = 206, loss = 0.22653601288206263\n",
      "loop = 207, loss = 0.21104030777562627\n",
      "loop = 208, loss = 0.22962057345131032\n",
      "loop = 209, loss = 0.283732221751402\n",
      "loop = 210, loss = 0.24579178507650948\n",
      "loop = 211, loss = 0.27887568399654866\n",
      "loop = 212, loss = 0.25851796706322083\n",
      "loop = 213, loss = 0.23037813835404644\n",
      "loop = 214, loss = 0.218581208790923\n",
      "loop = 215, loss = 0.19986420017180417\n",
      "loop = 216, loss = 0.20870250783797706\n",
      "loop = 217, loss = 0.18357154742281173\n",
      "loop = 218, loss = 0.1793335281527512\n",
      "loop = 219, loss = 0.18350595844784343\n",
      "loop = 220, loss = 0.1788538860898179\n",
      "loop = 221, loss = 0.1671967661549457\n",
      "loop = 222, loss = 0.20181040392582802\n",
      "loop = 223, loss = 0.18290786348457724\n",
      "loop = 224, loss = 0.17414436945451822\n",
      "loop = 225, loss = 0.166376654024305\n",
      "loop = 226, loss = 0.16690977025396223\n",
      "loop = 227, loss = 0.1669775191421484\n",
      "loop = 228, loss = 0.16178845286958346\n",
      "loop = 229, loss = 0.1698193226042979\n",
      "loop = 230, loss = 0.1575960277238102\n",
      "loop = 231, loss = 0.1490150241421222\n",
      "loop = 232, loss = 0.1472880668725526\n",
      "loop = 233, loss = 0.20459978054543054\n",
      "loop = 234, loss = 0.1537625707430425\n",
      "loop = 235, loss = 0.1391099314060152\n",
      "loop = 236, loss = 0.13751172324775643\n",
      "loop = 237, loss = 0.14212789565336045\n",
      "loop = 238, loss = 0.13839553017118786\n",
      "loop = 239, loss = 0.13450221428101355\n",
      "loop = 240, loss = 0.13289847238881367\n",
      "loop = 241, loss = 0.13632136863496655\n",
      "loop = 242, loss = 0.1561773028023745\n",
      "loop = 243, loss = 0.18441252325172364\n",
      "loop = 244, loss = 0.1531029401927009\n",
      "loop = 245, loss = 0.15830421268308098\n",
      "loop = 246, loss = 0.16666848602019274\n",
      "loop = 247, loss = 0.16436585185448377\n",
      "loop = 248, loss = 0.6476789761028519\n",
      "loop = 249, loss = 1.2074619407263822\n",
      "loop = 250, loss = 0.6124889108831476\n",
      "loop = 251, loss = 0.5605469526554759\n",
      "loop = 252, loss = 0.5766263281124737\n",
      "loop = 253, loss = 0.47075709820041095\n",
      "loop = 254, loss = 0.38210427722313\n",
      "loop = 255, loss = 0.2510076009739631\n",
      "loop = 256, loss = 0.16306222413326146\n",
      "loop = 257, loss = 0.14650702204904334\n",
      "loop = 258, loss = 0.1379069230197304\n",
      "loop = 259, loss = 0.14594062775502387\n",
      "loop = 260, loss = 0.13296954507236158\n",
      "loop = 261, loss = 0.14251443565956862\n",
      "loop = 262, loss = 0.1499411730667926\n",
      "loop = 263, loss = 0.12772236859963382\n",
      "loop = 264, loss = 0.13025265577019682\n",
      "loop = 265, loss = 0.12173513605659582\n",
      "loop = 266, loss = 0.1270733092358087\n",
      "loop = 267, loss = 0.12792656939885177\n",
      "loop = 268, loss = 0.13283159468555364\n",
      "loop = 269, loss = 0.14676466570969834\n",
      "loop = 270, loss = 0.12323365207194772\n",
      "loop = 271, loss = 0.11235173550785327\n",
      "loop = 272, loss = 0.12933450158947207\n",
      "loop = 273, loss = 0.11925295721409877\n",
      "loop = 274, loss = 0.1118424270480424\n",
      "loop = 275, loss = 0.11275539282878039\n",
      "loop = 276, loss = 0.1085907831822549\n",
      "loop = 277, loss = 0.12331764580038743\n",
      "loop = 278, loss = 0.10758230162703541\n",
      "loop = 279, loss = 0.09781822159891447\n",
      "loop = 280, loss = 0.09564302804296007\n",
      "loop = 281, loss = 0.10031431266624143\n",
      "loop = 282, loss = 0.09939016237743305\n",
      "loop = 283, loss = 0.10064031495377622\n",
      "loop = 284, loss = 0.11177330729176822\n",
      "loop = 285, loss = 0.10052881429167226\n",
      "loop = 286, loss = 0.09408087509236567\n",
      "loop = 287, loss = 0.094653737875433\n",
      "loop = 288, loss = 0.0888508145963355\n",
      "loop = 289, loss = 0.09339182021754437\n",
      "loop = 290, loss = 0.09026848737967154\n",
      "loop = 291, loss = 0.09143686685439169\n",
      "loop = 292, loss = 0.11144796656104436\n",
      "loop = 293, loss = 0.09527770690864915\n",
      "loop = 294, loss = 0.0920367972386485\n",
      "loop = 295, loss = 0.0864948935248674\n",
      "loop = 296, loss = 0.09588715833850406\n",
      "loop = 297, loss = 0.08544367076310809\n",
      "loop = 298, loss = 0.09185645604723348\n",
      "loop = 299, loss = 0.0869581671476901\n"
     ]
    }
   ],
   "source": [
    "output = forward_and_train_cnn(\n",
    "    X[0:number_train_points], \n",
    "    one_hot(Y[0:number_train_points]), \n",
    "    0.1, \n",
    "    300,\n",
    "    1000)\n",
    "params = output[\"params\"]\n",
    "config_size = output[\"config_size\"]\n",
    "\n",
    "\n",
    "    # X[number_train_points:number_train_points + 10]"
   ]
  },
  {
   "cell_type": "code",
   "execution_count": 140,
   "metadata": {},
   "outputs": [],
   "source": [
    "list_X_test = X[number_train_points+500:number_train_points + 500 + 100]\n",
    "output_forward = forward(\n",
    "        \"predict\",\n",
    "        \n",
    "        reshape_list_X(list_X_test),\n",
    "            \n",
    "        params[\"K_11\"],\n",
    "        params[\"K_12\"],\n",
    "        params[\"bk_11\"],\n",
    "        params[\"bk_12\"],\n",
    "        config_size[\"sk_1\"],\n",
    "        config_size[\"sp_1\"],\n",
    "        config_size[\"size_pool_1\"],\n",
    "        \n",
    "        config_size[\"Zk_1_size\"],\n",
    "        config_size[\"C_1_size\"],\n",
    "        config_size[\"P_1_size\"],\n",
    "        \n",
    "        params[\"K_21\"],\n",
    "        params[\"K_22\"],\n",
    "        params[\"K_23\"],\n",
    "        params[\"K_24\"],\n",
    "        params[\"bk_21\"],\n",
    "        params[\"bk_22\"],\n",
    "        params[\"bk_23\"],\n",
    "        params[\"bk_24\"],\n",
    "        config_size[\"sk_2\"],\n",
    "        config_size[\"sp_2\"],\n",
    "        config_size[\"size_pool_2\"],\n",
    "        \n",
    "        config_size[\"Zk_2_size\"],\n",
    "        config_size[\"C_2_size\"],\n",
    "        config_size[\"P_2_size\"],\n",
    "        \n",
    "        params[\"W_1\"],\n",
    "        params[\"b_1\"],\n",
    "        params[\"W_2\"],\n",
    "        params[\"b_2\"],\n",
    "        params[\"W_3\"],\n",
    "        params[\"b_3\"],\n",
    "        \n",
    "        None\n",
    "    )\n",
    "\n",
    "Y_predict = output_forward[\"A_3\"]\n"
   ]
  },
  {
   "cell_type": "code",
   "execution_count": 141,
   "metadata": {},
   "outputs": [
    {
     "data": {
      "text/plain": [
       "(10, 100)"
      ]
     },
     "execution_count": 141,
     "metadata": {},
     "output_type": "execute_result"
    }
   ],
   "source": [
    "Y_predict.shape"
   ]
  },
  {
   "cell_type": "code",
   "execution_count": 142,
   "metadata": {},
   "outputs": [
    {
     "name": "stdout",
     "output_type": "stream",
     "text": [
      "[9 4 6 2 4 5 9 2 7 1 6 1 9 2 2 5 6 8 0 7 7 1 9 8 7 2 2 4 4 6 2 8 5 1 4 1 6\n",
      " 3 1 7 3 6 6 5 8 3 6 4 6 0 6 4 6 7 9 4 3 5 8 0 0 5 2 2 7 8 5 5 7 0 1 1 0 2\n",
      " 3 3 7 4 3 5 7 6 4 7 2 8 5 7 7 5 3 1 3 2 7 3 9 4 7 2]\n",
      "[9 2 6 7 4 5 9 2 3 1 6 3 9 2 2 5 6 8 0 7 7 1 9 8 7 0 9 9 4 6 2 8 5 1 4 1 5\n",
      " 5 1 7 3 6 4 3 2 5 6 4 4 0 4 4 6 7 2 4 3 3 8 0 0 3 2 2 9 8 2 3 7 0 1 1 0 2\n",
      " 3 3 8 4 3 5 7 6 4 7 7 8 5 9 7 0 3 1 6 2 4 3 4 4 7 5]\n"
     ]
    }
   ],
   "source": [
    "Y_predict_decode = decode_one_hot(Y_predict, Y[0:number_train_points])\n",
    "print(Y_predict_decode)\n",
    "Y_real = Y[number_train_points+500:number_train_points + 500 + 100]\n",
    "print(Y_real)"
   ]
  },
  {
   "cell_type": "code",
   "execution_count": 143,
   "metadata": {},
   "outputs": [],
   "source": [
    "result = Y_predict_decode == Y_real"
   ]
  },
  {
   "cell_type": "code",
   "execution_count": 144,
   "metadata": {},
   "outputs": [
    {
     "data": {
      "text/plain": [
       "71"
      ]
     },
     "execution_count": 144,
     "metadata": {},
     "output_type": "execute_result"
    }
   ],
   "source": [
    "len(result[result == True])"
   ]
  },
  {
   "cell_type": "code",
   "execution_count": 145,
   "metadata": {},
   "outputs": [
    {
     "data": {
      "text/plain": [
       "29"
      ]
     },
     "execution_count": 145,
     "metadata": {},
     "output_type": "execute_result"
    }
   ],
   "source": [
    "len(result[result == False])"
   ]
  },
  {
   "cell_type": "code",
   "execution_count": 117,
   "metadata": {},
   "outputs": [
    {
     "data": {
      "text/plain": [
       "<matplotlib.image.AxesImage at 0x1e45610ca60>"
      ]
     },
     "execution_count": 117,
     "metadata": {},
     "output_type": "execute_result"
    },
    {
     "data": {
      "image/png": "[encoded data removed]",
      "text/plain": [
       "<Figure size 640x480 with 1 Axes>"
      ]
     },
     "metadata": {},
     "output_type": "display_data"
    }
   ],
   "source": [
    "X_test_1 = list_X_test[0]\n",
    "plt.imshow(X_test_1)\n"
   ]
  },
  {
   "cell_type": "code",
   "execution_count": 118,
   "metadata": {},
   "outputs": [
    {
     "data": {
      "text/plain": [
       "<matplotlib.image.AxesImage at 0x1e4563005e0>"
      ]
     },
     "execution_count": 118,
     "metadata": {},
     "output_type": "execute_result"
    },
    {
     "data": {
      "image/png": "[encoded data removed]",
      "text/plain": [
       "<Figure size 640x480 with 1 Axes>"
      ]
     },
     "metadata": {},
     "output_type": "display_data"
    }
   ],
   "source": [
    "Zk_1_m1 = convolution(X_test_1, params[\"K_11\"], bias=params[\"bk_11\"])\n",
    "plt.imshow(Zk_1_m1)"
   ]
  },
  {
   "cell_type": "code",
   "execution_count": 119,
   "metadata": {},
   "outputs": [
    {
     "data": {
      "text/plain": [
       "<matplotlib.image.AxesImage at 0x1e4561bc8e0>"
      ]
     },
     "execution_count": 119,
     "metadata": {},
     "output_type": "execute_result"
    },
    {
     "data": {
      "image/png": "[encoded data removed]",
      "text/plain": [
       "<Figure size 640x480 with 1 Axes>"
      ]
     },
     "metadata": {},
     "output_type": "display_data"
    }
   ],
   "source": [
    "Zk_1_m2 = convolution(X_test_1, params[\"K_12\"], bias=params[\"bk_12\"])\n",
    "plt.imshow(Zk_1_m2)"
   ]
  },
  {
   "cell_type": "code",
   "execution_count": 120,
   "metadata": {},
   "outputs": [
    {
     "data": {
      "text/plain": [
       "<matplotlib.image.AxesImage at 0x1e456260580>"
      ]
     },
     "execution_count": 120,
     "metadata": {},
     "output_type": "execute_result"
    },
    {
     "data": {
      "image/png": "[encoded data removed]",
      "text/plain": [
       "<Figure size 640x480 with 1 Axes>"
      ]
     },
     "metadata": {},
     "output_type": "display_data"
    }
   ],
   "source": [
    "C_1_m1 = ReLU(Zk_1_m1)\n",
    "plt.imshow(C_1_m1)"
   ]
  },
  {
   "cell_type": "code",
   "execution_count": 121,
   "metadata": {},
   "outputs": [
    {
     "data": {
      "text/plain": [
       "<matplotlib.image.AxesImage at 0x1e4562cc0d0>"
      ]
     },
     "execution_count": 121,
     "metadata": {},
     "output_type": "execute_result"
    },
    {
     "data": {
      "image/png": "[encoded data removed]",
      "text/plain": [
       "<Figure size 640x480 with 1 Axes>"
      ]
     },
     "metadata": {},
     "output_type": "display_data"
    }
   ],
   "source": [
    "C_1_m2 = ReLU(Zk_1_m2)\n",
    "plt.imshow(C_1_m2)"
   ]
  },
  {
   "cell_type": "code",
   "execution_count": 122,
   "metadata": {},
   "outputs": [
    {
     "data": {
      "text/plain": [
       "<matplotlib.image.AxesImage at 0x1e4563792b0>"
      ]
     },
     "execution_count": 122,
     "metadata": {},
     "output_type": "execute_result"
    },
    {
     "data": {
      "image/png": "[encoded data removed]",
      "text/plain": [
       "<Figure size 640x480 with 1 Axes>"
      ]
     },
     "metadata": {},
     "output_type": "display_data"
    }
   ],
   "source": [
    "P_1_m1 = pooling_one_point(C_1_m1, (2, 2), stride=2)\n",
    "plt.imshow(P_1_m1)"
   ]
  },
  {
   "cell_type": "code",
   "execution_count": 123,
   "metadata": {},
   "outputs": [
    {
     "data": {
      "text/plain": [
       "<matplotlib.image.AxesImage at 0x1e4563f01f0>"
      ]
     },
     "execution_count": 123,
     "metadata": {},
     "output_type": "execute_result"
    },
    {
     "data": {
      "image/png": "[encoded data removed]",
      "text/plain": [
       "<Figure size 640x480 with 1 Axes>"
      ]
     },
     "metadata": {},
     "output_type": "display_data"
    }
   ],
   "source": [
    "P_1_m2 = pooling_one_point(C_1_m2, (2, 2), stride=2)\n",
    "plt.imshow(P_1_m2)"
   ]
  },
  {
   "cell_type": "code",
   "execution_count": 124,
   "metadata": {},
   "outputs": [],
   "source": [
    "P_1 = np.zeros((12, 12, 2))\n",
    "P_1[:,:,0] = P_1_m1\n",
    "P_1[:,:,1] = P_1_m2"
   ]
  },
  {
   "cell_type": "code",
   "execution_count": 125,
   "metadata": {},
   "outputs": [
    {
     "data": {
      "text/plain": [
       "<matplotlib.image.AxesImage at 0x1e458790850>"
      ]
     },
     "execution_count": 125,
     "metadata": {},
     "output_type": "execute_result"
    },
    {
     "data": {
      "image/png": "[encoded data removed]",
      "text/plain": [
       "<Figure size 640x480 with 1 Axes>"
      ]
     },
     "metadata": {},
     "output_type": "display_data"
    }
   ],
   "source": [
    "Zk_2_m1 = convolution(P_1, params[\"K_21\"], bias=params[\"bk_21\"])\n",
    "plt.imshow(Zk_2_m1)"
   ]
  },
  {
   "cell_type": "code",
   "execution_count": 126,
   "metadata": {},
   "outputs": [
    {
     "data": {
      "text/plain": [
       "<matplotlib.image.AxesImage at 0x1e45867e2b0>"
      ]
     },
     "execution_count": 126,
     "metadata": {},
     "output_type": "execute_result"
    },
    {
     "data": {
      "image/png": "[encoded data removed]",
      "text/plain": [
       "<Figure size 640x480 with 1 Axes>"
      ]
     },
     "metadata": {},
     "output_type": "display_data"
    }
   ],
   "source": [
    "Zk_2_m2 = convolution(P_1, params[\"K_22\"], bias=params[\"bk_22\"])\n",
    "plt.imshow(Zk_2_m2)"
   ]
  },
  {
   "cell_type": "code",
   "execution_count": 127,
   "metadata": {},
   "outputs": [
    {
     "data": {
      "text/plain": [
       "<matplotlib.image.AxesImage at 0x1e4586e9520>"
      ]
     },
     "execution_count": 127,
     "metadata": {},
     "output_type": "execute_result"
    },
    {
     "data": {
      "image/png": "[encoded data removed]",
      "text/plain": [
       "<Figure size 640x480 with 1 Axes>"
      ]
     },
     "metadata": {},
     "output_type": "display_data"
    }
   ],
   "source": [
    "Zk_2_m3 = convolution(P_1, params[\"K_23\"], bias=params[\"bk_23\"])\n",
    "plt.imshow(Zk_2_m3)"
   ]
  },
  {
   "cell_type": "code",
   "execution_count": 128,
   "metadata": {},
   "outputs": [
    {
     "data": {
      "text/plain": [
       "<matplotlib.image.AxesImage at 0x1e4587504f0>"
      ]
     },
     "execution_count": 128,
     "metadata": {},
     "output_type": "execute_result"
    },
    {
     "data": {
      "image/png": "[encoded data removed]",
      "text/plain": [
       "<Figure size 640x480 with 1 Axes>"
      ]
     },
     "metadata": {},
     "output_type": "display_data"
    }
   ],
   "source": [
    "Zk_2_m4 = convolution(P_1, params[\"K_24\"], bias=params[\"bk_24\"])\n",
    "plt.imshow(Zk_2_m4)"
   ]
  },
  {
   "cell_type": "code",
   "execution_count": 129,
   "metadata": {},
   "outputs": [],
   "source": [
    "Zk_2 = np.zeros((10, 10, 4))\n",
    "Zk_2[:,:,0] = Zk_2_m1\n",
    "Zk_2[:,:,1] = Zk_2_m2\n",
    "Zk_2[:,:,2] = Zk_2_m3\n",
    "Zk_2[:,:,3] = Zk_2_m4"
   ]
  },
  {
   "cell_type": "code",
   "execution_count": 130,
   "metadata": {},
   "outputs": [],
   "source": [
    "C_2 = Sigmoid(Zk_2)"
   ]
  },
  {
   "cell_type": "code",
   "execution_count": 131,
   "metadata": {},
   "outputs": [
    {
     "data": {
      "text/plain": [
       "<matplotlib.image.AxesImage at 0x1e458801070>"
      ]
     },
     "execution_count": 131,
     "metadata": {},
     "output_type": "execute_result"
    },
    {
     "data": {
      "image/png": "[encoded data removed]",
      "text/plain": [
       "<Figure size 640x480 with 1 Axes>"
      ]
     },
     "metadata": {},
     "output_type": "display_data"
    }
   ],
   "source": [
    "plt.imshow(C_2[:,:,0])\n"
   ]
  },
  {
   "cell_type": "code",
   "execution_count": 132,
   "metadata": {},
   "outputs": [
    {
     "data": {
      "text/plain": [
       "<matplotlib.image.AxesImage at 0x1e4587eb040>"
      ]
     },
     "execution_count": 132,
     "metadata": {},
     "output_type": "execute_result"
    },
    {
     "data": {
      "image/png": "[encoded data removed]",
      "text/plain": [
       "<Figure size 640x480 with 1 Axes>"
      ]
     },
     "metadata": {},
     "output_type": "display_data"
    }
   ],
   "source": [
    "plt.imshow(C_2[:,:,1])\n"
   ]
  },
  {
   "cell_type": "code",
   "execution_count": 133,
   "metadata": {},
   "outputs": [
    {
     "data": {
      "text/plain": [
       "<matplotlib.image.AxesImage at 0x1e4588d2b20>"
      ]
     },
     "execution_count": 133,
     "metadata": {},
     "output_type": "execute_result"
    },
    {
     "data": {
      "image/png": "[encoded data removed]",
      "text/plain": [
       "<Figure size 640x480 with 1 Axes>"
      ]
     },
     "metadata": {},
     "output_type": "display_data"
    }
   ],
   "source": [
    "plt.imshow(C_2[:,:,2])\n"
   ]
  },
  {
   "cell_type": "code",
   "execution_count": 134,
   "metadata": {},
   "outputs": [
    {
     "data": {
      "text/plain": [
       "<matplotlib.image.AxesImage at 0x1e459a45d00>"
      ]
     },
     "execution_count": 134,
     "metadata": {},
     "output_type": "execute_result"
    },
    {
     "data": {
      "image/png": "[encoded data removed]",
      "text/plain": [
       "<Figure size 640x480 with 1 Axes>"
      ]
     },
     "metadata": {},
     "output_type": "display_data"
    }
   ],
   "source": [
    "plt.imshow(C_2[:,:,3])"
   ]
  },
  {
   "cell_type": "code",
   "execution_count": 135,
   "metadata": {},
   "outputs": [],
   "source": [
    "P_2 = pooling_one_point(C_2, (2, 2), stride=2)"
   ]
  },
  {
   "cell_type": "code",
   "execution_count": 136,
   "metadata": {},
   "outputs": [
    {
     "data": {
      "text/plain": [
       "<matplotlib.image.AxesImage at 0x1e45993b280>"
      ]
     },
     "execution_count": 136,
     "metadata": {},
     "output_type": "execute_result"
    },
    {
     "data": {
      "image/png": "[encoded data removed]",
      "text/plain": [
       "<Figure size 640x480 with 1 Axes>"
      ]
     },
     "metadata": {},
     "output_type": "display_data"
    }
   ],
   "source": [
    "plt.imshow(P_2[:,:,0])\n"
   ]
  },
  {
   "cell_type": "code",
   "execution_count": 137,
   "metadata": {},
   "outputs": [
    {
     "data": {
      "text/plain": [
       "<matplotlib.image.AxesImage at 0x1e45999e910>"
      ]
     },
     "execution_count": 137,
     "metadata": {},
     "output_type": "execute_result"
    },
    {
     "data": {
      "image/png": "[encoded data removed]",
      "text/plain": [
       "<Figure size 640x480 with 1 Axes>"
      ]
     },
     "metadata": {},
     "output_type": "display_data"
    }
   ],
   "source": [
    "plt.imshow(P_2[:,:,1])\n"
   ]
  },
  {
   "cell_type": "code",
   "execution_count": 138,
   "metadata": {},
   "outputs": [
    {
     "data": {
      "text/plain": [
       "<matplotlib.image.AxesImage at 0x1e459a121f0>"
      ]
     },
     "execution_count": 138,
     "metadata": {},
     "output_type": "execute_result"
    },
    {
     "data": {
      "image/png": "[encoded data removed]",
      "text/plain": [
       "<Figure size 640x480 with 1 Axes>"
      ]
     },
     "metadata": {},
     "output_type": "display_data"
    }
   ],
   "source": [
    "plt.imshow(P_2[:,:,2])\n"
   ]
  },
  {
   "cell_type": "code",
   "execution_count": 139,
   "metadata": {},
   "outputs": [
    {
     "data": {
      "text/plain": [
       "<matplotlib.image.AxesImage at 0x1e4599aa7f0>"
      ]
     },
     "execution_count": 139,
     "metadata": {},
     "output_type": "execute_result"
    },
    {
     "data": {
      "image/png": "[encoded data removed]",
      "text/plain": [
       "<Figure size 640x480 with 1 Axes>"
      ]
     },
     "metadata": {},
     "output_type": "display_data"
    }
   ],
   "source": [
    "plt.imshow(P_2[:,:,3])"
   ]
  },
  {
   "cell_type": "code",
   "execution_count": null,
   "metadata": {},
   "outputs": [],
   "source": []
  }
 ],
 "metadata": {
  "kernelspec": {
   "display_name": "venv_py_39",
   "language": "python",
   "name": "python3"
  },
  "language_info": {
   "codemirror_mode": {
    "name": "ipython",
    "version": 3
   },
   "file_extension": ".py",
   "mimetype": "text/x-python",
   "name": "python",
   "nbconvert_exporter": "python",
   "pygments_lexer": "ipython3",
   "version": "3.9.7"
  }
 },
 "nbformat": 4,
 "nbformat_minor": 2
}
