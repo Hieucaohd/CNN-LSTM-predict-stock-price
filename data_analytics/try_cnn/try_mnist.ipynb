{
 "cells": [
  {
   "cell_type": "code",
   "execution_count": 1,
   "metadata": {},
   "outputs": [],
   "source": [
    "import tensorflow as tf\n",
    "from tensorflow.keras.datasets import mnist\n",
    "import matplotlib.pyplot as plt\n",
    "import numpy as np\n",
    "from typing import Union, Literal"
   ]
  },
  {
   "cell_type": "code",
   "execution_count": 2,
   "metadata": {},
   "outputs": [],
   "source": [
    "from utils_cnn import (\n",
    "    convolution,\n",
    "    pooling_one_point,\n",
    "    init_kernel,\n",
    "    init_bias_kernel,\n",
    "    convolution_multiple_kernel,\n",
    "    ReLU,\n",
    "    init_weights,\n",
    "    init_bias,\n",
    "    softmax,\n",
    "    one_hot,\n",
    "    cross_entropy_loss,\n",
    "    calculate_cross_entropy_loss_without_softmax_value,\n",
    "    add_padding_multiple_point,\n",
    "    add_dilation_multiple_point,\n",
    "    decode_one_hot,\n",
    "    Sigmoid,\n",
    "    split_chunk_X_Y,\n",
    "    convolution_multiple_kernel_multiple_point,\n",
    "    pooling_multiple_point,\n",
    ")\n",
    "\n",
    "from derivative_cnn import (\n",
    "    derivative_ReLU,\n",
    "    derivative_for_filter_one_point,\n",
    "    derivative_layer_before_max_pooling_for_multiple_point,\n",
    "    derivative_for_filter_multiple_point,\n",
    "    derivative_for_bias_kernel_multiple_point,\n",
    "    derivative_layer_input_convolution_multiple_point,\n",
    "    derivative_Sigmoid,\n",
    ")"
   ]
  },
  {
   "cell_type": "code",
   "execution_count": 3,
   "metadata": {},
   "outputs": [
    {
     "name": "stdout",
     "output_type": "stream",
     "text": [
      "Training data shape: (60000, 28, 28)\n",
      "Testing data shape: (10000, 28, 28)\n"
     ]
    }
   ],
   "source": [
    "# Tải xuống dataset MNIST\n",
    "(X, Y), (X_test, Y_test) = mnist.load_data()\n",
    "\n",
    "# Kiểm tra kích thước của dữ liệu\n",
    "print(\"Training data shape:\", X.shape)  # (60000, 28, 28)\n",
    "print(\"Testing data shape:\", X_test.shape)    # (10000, 28, 28)"
   ]
  },
  {
   "cell_type": "code",
   "execution_count": 4,
   "metadata": {},
   "outputs": [
    {
     "data": {
      "text/plain": [
       "60000"
      ]
     },
     "execution_count": 4,
     "metadata": {},
     "output_type": "execute_result"
    }
   ],
   "source": [
    "len(X)"
   ]
  },
  {
   "cell_type": "code",
   "execution_count": 5,
   "metadata": {},
   "outputs": [
    {
     "data": {
      "text/plain": [
       "<matplotlib.image.AxesImage at 0x1d5d3560700>"
      ]
     },
     "execution_count": 5,
     "metadata": {},
     "output_type": "execute_result"
    },
    {
     "data": {
      "image/png": "[encoded data removed]",
      "text/plain": [
       "<Figure size 640x480 with 1 Axes>"
      ]
     },
     "metadata": {},
     "output_type": "display_data"
    }
   ],
   "source": [
    "plt.imshow(X[0])"
   ]
  },
  {
   "cell_type": "code",
   "execution_count": 6,
   "metadata": {},
   "outputs": [
    {
     "data": {
      "text/plain": [
       "5"
      ]
     },
     "execution_count": 6,
     "metadata": {},
     "output_type": "execute_result"
    }
   ],
   "source": [
    "Y[0]"
   ]
  },
  {
   "cell_type": "code",
   "execution_count": 7,
   "metadata": {},
   "outputs": [],
   "source": [
    "def reshape_list_X(list_X: Union[list[np.ndarray], np.ndarray]):\n",
    "    N = len(list_X)\n",
    "    list_P_0 = list_X\n",
    "    \n",
    "    if (type(list_X) == list and len(list_X[0].shape) == 3) or len(list_X.shape) == 4:\n",
    "        pass\n",
    "    elif type(list_X) == np.ndarray and len(list_X.shape) == 3:\n",
    "        first_X = list_X[0]\n",
    "        X_number_row = first_X.shape[0]\n",
    "        X_number_col = first_X.shape[1]\n",
    "        list_P_0 = list_X.reshape([N, X_number_row, X_number_col, 1])\n",
    "    \n",
    "    return list_P_0\n",
    "\n"
   ]
  },
  {
   "cell_type": "code",
   "execution_count": 8,
   "metadata": {},
   "outputs": [],
   "source": [
    "def forward(\n",
    "    mode: Literal[\"train\", \"predict\"],\n",
    "\n",
    "    list_P_0,\n",
    "    \n",
    "    K_11,\n",
    "    K_12,\n",
    "    bk_11,\n",
    "    bk_12,\n",
    "    sk_1,\n",
    "    sp_1,\n",
    "    size_pool_1,\n",
    "    \n",
    "    Zk_1_size,\n",
    "    C_1_size,\n",
    "    P_1_size,\n",
    "    \n",
    "    K_21,\n",
    "    K_22,\n",
    "    K_23,\n",
    "    K_24,\n",
    "    bk_21,\n",
    "    bk_22,\n",
    "    bk_23,\n",
    "    bk_24,\n",
    "    sk_2,\n",
    "    sp_2,\n",
    "    size_pool_2,\n",
    "\n",
    "    Zk_2_size,\n",
    "    C_2_size,\n",
    "    P_2_size,\n",
    "    \n",
    "    W_1,\n",
    "    b_1,\n",
    "    \n",
    "    W_2,\n",
    "    b_2,\n",
    "    \n",
    "    W_3,\n",
    "    b_3,\n",
    "    \n",
    "    Y=None):\n",
    "        \n",
    "        N = len(list_P_0)\n",
    "        \n",
    "        A_0 = np.zeros((np.prod(P_2_size), N))\n",
    "            \n",
    "        list_Zk_1 = convolution_multiple_kernel_multiple_point(list_P_0, (K_11, K_12), (bk_11, bk_12), sk_1)\n",
    "        list_C_1 = ReLU(list_Zk_1)\n",
    "        list_P_1 = pooling_multiple_point(list_C_1, size_pool_1, stride=sp_1)\n",
    "        \n",
    "        list_Zk_2 = convolution_multiple_kernel_multiple_point(list_P_1, (K_21, K_22, K_23, K_24), (bk_21, bk_22, bk_23, bk_24), sk_2)\n",
    "        list_C_2 = Sigmoid(list_Zk_2)\n",
    "        list_P_2 = pooling_multiple_point(list_C_2, size_pool_2, stride=sp_2)\n",
    "        \n",
    "        A_0 = list_P_2.flatten(order=\"C\").reshape((np.prod(P_2_size), N), order=\"F\")\n",
    "        \n",
    "        # Calculate for fully connected layers\n",
    "        Z_1 = W_1.T.dot(A_0) + b_1\n",
    "        A_1 = ReLU(Z_1)\n",
    "        \n",
    "        Z_2 = W_2.T.dot(A_1) + b_2\n",
    "        A_2 = ReLU(Z_2)\n",
    "        \n",
    "        Z_3 = W_3.T.dot(A_2) + b_3\n",
    "        A_3 = softmax(Z_3) # This is prediction output\n",
    "        \n",
    "        # calculate loss value by cross entropy\n",
    "        loss = 0\n",
    "        if mode == \"train\":\n",
    "            loss = calculate_cross_entropy_loss_without_softmax_value(Y, Z_3)\n",
    "        \n",
    "        return {\n",
    "            \"list_Zk_1\": list_Zk_1,\n",
    "            \"list_C_1\": list_C_1,\n",
    "            \"list_P_1\": list_P_1,\n",
    "            \n",
    "            \"list_Zk_2\": list_Zk_2,\n",
    "            \"list_C_2\": list_C_2,\n",
    "            \"list_P_2\": list_P_2,\n",
    "\n",
    "            \"A_0\": A_0,\n",
    "            \n",
    "            \"Z_1\": Z_1,\n",
    "            \"A_1\": A_1,\n",
    "                    \n",
    "            \"Z_2\": Z_2,\n",
    "            \"A_2\": A_2,\n",
    "            \n",
    "            \"Z_3\": Z_3,\n",
    "            \"A_3\": A_3,\n",
    "            \n",
    "            \"loss\": loss,\n",
    "        }"
   ]
  },
  {
   "cell_type": "code",
   "execution_count": 9,
   "metadata": {},
   "outputs": [],
   "source": [
    "def backpropagation(\n",
    "    settings,\n",
    "    \n",
    "    list_P_0,\n",
    "            \n",
    "    K_11,\n",
    "    K_12,\n",
    "    bk_11,\n",
    "    bk_12,\n",
    "    sk_1,\n",
    "    sp_1,\n",
    "    size_pool_1,\n",
    "    \n",
    "    Zk_1_size,\n",
    "    C_1_size,\n",
    "    P_1_size,\n",
    "    \n",
    "    K_21,\n",
    "    K_22,\n",
    "    K_23,\n",
    "    K_24,\n",
    "    bk_21,\n",
    "    bk_22,\n",
    "    bk_23,\n",
    "    bk_24,\n",
    "    sk_2,\n",
    "    sp_2,\n",
    "    size_pool_2,\n",
    "    \n",
    "    Zk_2_size,\n",
    "    C_2_size,\n",
    "    P_2_size,\n",
    "    \n",
    "    W_1,\n",
    "    b_1,\n",
    "    \n",
    "    W_2,\n",
    "    b_2,\n",
    "    \n",
    "    W_3,\n",
    "    b_3,\n",
    "    \n",
    "    Y\n",
    "):\n",
    "    \"\"\"\n",
    "    The derivative in this function can be proved in file: ./derivative_in_convolution 1.xlsx\n",
    "    \"\"\"\n",
    "    for i in range(settings[\"epochs\"]):\n",
    "        output_forward = forward(\n",
    "            \"train\",\n",
    "            \n",
    "            list_P_0,\n",
    "            \n",
    "            K_11,\n",
    "            K_12,\n",
    "            bk_11,\n",
    "            bk_12,\n",
    "            sk_1,\n",
    "            sp_1,\n",
    "            size_pool_1,\n",
    "            \n",
    "            Zk_1_size,\n",
    "            C_1_size,\n",
    "            P_1_size,\n",
    "            \n",
    "            K_21,\n",
    "            K_22,\n",
    "            K_23,\n",
    "            K_24,\n",
    "            bk_21,\n",
    "            bk_22,\n",
    "            bk_23,\n",
    "            bk_24,\n",
    "            sk_2,\n",
    "            sp_2,\n",
    "            size_pool_2,\n",
    "            \n",
    "            Zk_2_size,\n",
    "            C_2_size,\n",
    "            P_2_size,\n",
    "            \n",
    "            W_1,\n",
    "            b_1,\n",
    "            W_2,\n",
    "            b_2,\n",
    "            W_3,\n",
    "            b_3,\n",
    "            \n",
    "            Y\n",
    "        )\n",
    "        \n",
    "        \n",
    "        list_Zk_1 = output_forward[\"list_Zk_1\"] \n",
    "        list_C_1 = output_forward[\"list_C_1\"] \n",
    "        list_P_1 = output_forward[\"list_P_1\"] \n",
    "        \n",
    "        list_Zk_2 = output_forward[\"list_Zk_2\"] \n",
    "        list_C_2 = output_forward[\"list_C_2\"] \n",
    "        list_P_2 = output_forward[\"list_P_2\"] \n",
    "        \n",
    "        A_0 = output_forward[\"A_0\"] \n",
    "        \n",
    "        Z_1 = output_forward[\"Z_1\"] \n",
    "        A_1 = output_forward[\"A_1\"] \n",
    "       \n",
    "        Z_2 = output_forward[\"Z_2\"] \n",
    "        A_2 = output_forward[\"A_2\"] \n",
    "        \n",
    "        Z_3 = output_forward[\"Z_3\"] \n",
    "        A_3 = output_forward[\"A_3\"] \n",
    "       \n",
    "        loss = output_forward[\"loss\"] \n",
    "        \n",
    "        \n",
    "        N = len(list_P_0)\n",
    "        print(f\"loop = {i}, loss = {loss}\")\n",
    "        \n",
    "        # Backpropagation for fully connected layers\n",
    "    \n",
    "        E_3 = 1/N * (A_3 - Y)\n",
    "        dL_dW_3 = A_2.dot(E_3.T)\n",
    "        dL_db_3 = np.sum(E_3, axis=1, keepdims=True)\n",
    "        \n",
    "        E_2 = W_3.dot(E_3) * derivative_ReLU(Z_2)\n",
    "        dL_dW_2 = A_1.dot(E_2.T)\n",
    "        dL_db_2 = np.sum(E_2, axis=1, keepdims=True)\n",
    "        \n",
    "        E_1 = W_2.dot(E_2) * derivative_ReLU(Z_1)\n",
    "        dL_dW_1 = A_0.dot(E_1.T)\n",
    "        dL_db_1 = np.sum(E_1, axis=1, keepdims=True)\n",
    "        \n",
    "        # Backpropagation for kernel layers\n",
    "        \n",
    "        # Number of rows in dL_dP_2 = number of columns in dL_dA_0 = N\n",
    "        # We loop through the columns of dL_dA_0 (respectively for each point data in X) and reshape it to size of P_2 and set that value in dL_dP_2\n",
    "        dL_dA_0: np.ndarray = W_1.dot(E_1)\n",
    "            \n",
    "        list_dL_dP_2 = dL_dA_0.T.reshape([N] + P_2_size, order=\"C\")\n",
    "\n",
    "        list_dL_dC_2 = derivative_layer_before_max_pooling_for_multiple_point(list_C_2, list_P_2, list_dL_dP_2, size_pool_2, sp_2)\n",
    "        list_dL_dZk_2 = list_dL_dC_2 * derivative_Sigmoid(list_Zk_2)\n",
    "        \n",
    "        dL_dK_21 = derivative_for_filter_multiple_point(list_P_1, list_dL_dZk_2[:, :, :, 0], K_21.shape, sk_2)\n",
    "        dL_dK_22 = derivative_for_filter_multiple_point(list_P_1, list_dL_dZk_2[:, :, :, 1], K_22.shape, sk_2)\n",
    "        dL_dK_23 = derivative_for_filter_multiple_point(list_P_1, list_dL_dZk_2[:, :, :, 2], K_23.shape, sk_2)\n",
    "        dL_dK_24 = derivative_for_filter_multiple_point(list_P_1, list_dL_dZk_2[:, :, :, 3], K_24.shape, sk_2)\n",
    "        \n",
    "        dL_dbk_21 = derivative_for_bias_kernel_multiple_point(list_dL_dZk_2[:, :, :, 0])\n",
    "        dL_dbk_22 = derivative_for_bias_kernel_multiple_point(list_dL_dZk_2[:, :, :, 1])\n",
    "        dL_dbk_23 = derivative_for_bias_kernel_multiple_point(list_dL_dZk_2[:, :, :, 2])\n",
    "        dL_dbk_24 = derivative_for_bias_kernel_multiple_point(list_dL_dZk_2[:, :, :, 3])\n",
    "        \n",
    "        list_dL_dP_1 = derivative_layer_input_convolution_multiple_point(list_P_1, [K_21, K_22, K_23, K_24], list_dL_dZk_2)\n",
    "        list_dL_dC_1 = derivative_layer_before_max_pooling_for_multiple_point(list_C_1, list_P_1, list_dL_dP_1, size_pool_1, sp_1)\n",
    "        list_dL_dZk_1 = list_dL_dC_1 * derivative_ReLU(list_Zk_1)\n",
    "        \n",
    "        dL_dK_11 = derivative_for_filter_multiple_point(list_P_0, list_dL_dZk_1[:, :, :, 0], K_11.shape, sk_1)\n",
    "        dL_dK_12 = derivative_for_filter_multiple_point(list_P_0, list_dL_dZk_1[:, :, :, 1], K_12.shape, sk_1)\n",
    "        \n",
    "        dL_dbk_11 = derivative_for_bias_kernel_multiple_point(list_dL_dZk_1[:, :, :, 0])\n",
    "        dL_dbk_12 = derivative_for_bias_kernel_multiple_point(list_dL_dZk_1[:, :, :, 1])\n",
    "        \n",
    "        W_3 = W_3 - settings[\"learning_rate\"]*dL_dW_3\n",
    "        b_3 = b_3 - settings[\"learning_rate\"]*dL_db_3\n",
    "        \n",
    "        W_2 = W_2 - settings[\"learning_rate\"]*dL_dW_2\n",
    "        b_2 = b_2 - settings[\"learning_rate\"]*dL_db_2\n",
    "        \n",
    "        W_1 = W_1 - settings[\"learning_rate\"]*dL_dW_1\n",
    "        b_1 = b_1 - settings[\"learning_rate\"]*dL_db_1\n",
    "        \n",
    "        K_21 = K_21 - settings[\"learning_rate\"]*dL_dK_21\n",
    "        K_22 = K_22 - settings[\"learning_rate\"]*dL_dK_22\n",
    "        K_23 = K_23 - settings[\"learning_rate\"]*dL_dK_23\n",
    "        K_24 = K_24 - settings[\"learning_rate\"]*dL_dK_24\n",
    "        \n",
    "        bk_21 = bk_21 - settings[\"learning_rate\"]*dL_dbk_21\n",
    "        bk_22 = bk_22 - settings[\"learning_rate\"]*dL_dbk_22\n",
    "        bk_23 = bk_23 - settings[\"learning_rate\"]*dL_dbk_23\n",
    "        bk_24 = bk_24 - settings[\"learning_rate\"]*dL_dbk_24\n",
    "        \n",
    "        K_11 = K_11 - settings[\"learning_rate\"]*dL_dK_11\n",
    "        K_12 = K_12 - settings[\"learning_rate\"]*dL_dK_12\n",
    "        \n",
    "        bk_11 = bk_11 - settings[\"learning_rate\"]*dL_dbk_11\n",
    "        bk_12 = bk_12 - settings[\"learning_rate\"]*dL_dbk_12\n",
    "    \n",
    "    return {\n",
    "        \"K_11\": K_11,\n",
    "        \"K_12\": K_12,\n",
    "        \n",
    "        \"bk_11\": bk_11,\n",
    "        \"bk_12\": bk_12,\n",
    "        \n",
    "        \"K_21\": K_21,\n",
    "        \"K_22\": K_22,\n",
    "        \"K_23\": K_23,\n",
    "        \"K_24\": K_24,\n",
    "        \n",
    "        \"bk_21\": bk_21,\n",
    "        \"bk_22\": bk_22,\n",
    "        \"bk_23\": bk_23,\n",
    "        \"bk_24\": bk_24,\n",
    "        \n",
    "        \"W_1\": W_1,\n",
    "        \"b_1\": b_1,\n",
    "\n",
    "        \"W_2\": W_2,\n",
    "        \"b_2\": b_2,\n",
    "\n",
    "        \"W_3\": W_3,\n",
    "        \"b_3\": b_3,\n",
    "    }"
   ]
  },
  {
   "cell_type": "code",
   "execution_count": 10,
   "metadata": {},
   "outputs": [],
   "source": [
    "def forward_and_train_cnn(\n",
    "    list_X: Union[list[np.ndarray], np.ndarray], \n",
    "    Y: np.ndarray, \n",
    "    learning_rate: float, \n",
    "    epochs: int,\n",
    "    chunk_size: int = 300):\n",
    "    \"\"\"\n",
    "    \n",
    "    \"\"\"\n",
    "    \n",
    "    list_P_0 = reshape_list_X(list_X)\n",
    "\n",
    "    # Init value for convolution layers\n",
    "    K_11 = init_kernel((5, 5, 1)) # Kernel 11 \n",
    "    K_12 = init_kernel((5, 5, 1)) # Kernel 12\n",
    "    bk_11 = init_bias_kernel() # Bias kernel 11\n",
    "    bk_12 = init_bias_kernel() # Bias kernel 12\n",
    "    sk_1 = 1 # Stride kernel 1\n",
    "    sp_1 = 2 # Stride pool 1\n",
    "    size_pool_1 = (2, 2) # Size of pooling 1\n",
    "    \n",
    "    K_21 = init_kernel((3, 3, 2)) # Kernel 21\n",
    "    K_22 = init_kernel((3, 3, 2)) # Kernel 22\n",
    "    K_23 = init_kernel((3, 3, 2)) # Kernel 23 \n",
    "    K_24 = init_kernel((3, 3, 2)) # Kernel 24\n",
    "    bk_21 = init_bias_kernel() # Bias kernel 21\n",
    "    bk_22 = init_bias_kernel() # Bias kernel 22\n",
    "    bk_23 = init_bias_kernel() # Bias kernel 23\n",
    "    bk_24 = init_bias_kernel() # Bias kernel 24\n",
    "    sk_2 = 1 # Stride kernel 2\n",
    "    sp_2 = 2 # Stride pool 2\n",
    "    size_pool_2 = (2, 2) # Size of pooling 1\n",
    "    \n",
    "    Zk_1_size = [24, 24, 2]\n",
    "    C_1_size = [24, 24, 2]\n",
    "    P_1_size = [12, 12, 2]\n",
    "    \n",
    "    Zk_2_size = [10, 10, 4]\n",
    "    C_2_size = [10, 10, 4]\n",
    "    P_2_size = [5, 5, 4]\n",
    "    \n",
    "    # Init value for fully connected layers\n",
    "    number_nn_layer_1 = 100\n",
    "    W_1 = init_weights((np.prod(P_2_size), number_nn_layer_1))\n",
    "    b_1 = init_bias((number_nn_layer_1, 1))\n",
    "    \n",
    "    number_nn_layer_2 = 100\n",
    "    W_2 = init_weights((number_nn_layer_1, number_nn_layer_2))\n",
    "    b_2 = init_bias((number_nn_layer_2, 1))\n",
    "    \n",
    "    number_nn_layer_3 = Y.shape[0] # Number of categories into which the data is classified.\n",
    "    W_3 = init_weights((number_nn_layer_2, number_nn_layer_3))\n",
    "    b_3 = init_bias((number_nn_layer_3, 1))\n",
    "    \n",
    "    chunk_count = 0  \n",
    "    for chunk_P_0, chunk_Y in split_chunk_X_Y(list_P_0, Y, chunk_size):\n",
    "        print(f\"Chunk {chunk_count}\")\n",
    "        chunk_count += 1\n",
    "        \n",
    "        # Backpropagation \n",
    "        params = backpropagation(\n",
    "            {\"epochs\": epochs, \"learning_rate\": learning_rate},\n",
    "            chunk_P_0,\n",
    "            \n",
    "            K_11,\n",
    "            K_12,\n",
    "            bk_11,\n",
    "            bk_12,\n",
    "            sk_1,\n",
    "            sp_1,\n",
    "            size_pool_1,\n",
    "            \n",
    "            Zk_1_size,\n",
    "            C_1_size,\n",
    "            P_1_size,\n",
    "            \n",
    "            K_21,\n",
    "            K_22,\n",
    "            K_23,\n",
    "            K_24,\n",
    "            bk_21,\n",
    "            bk_22,\n",
    "            bk_23,\n",
    "            bk_24,\n",
    "            sk_2,\n",
    "            sp_2,\n",
    "            size_pool_2,\n",
    "            \n",
    "            Zk_2_size,\n",
    "            C_2_size,\n",
    "            P_2_size,\n",
    "            \n",
    "            W_1,\n",
    "            b_1,\n",
    "            W_2,\n",
    "            b_2,\n",
    "            W_3,\n",
    "            b_3,\n",
    "            \n",
    "            chunk_Y\n",
    "        )\n",
    "    \n",
    "    \n",
    "\n",
    "    return {\n",
    "        \"params\": {\n",
    "            \"K_11\": params[\"K_11\"],\n",
    "            \"K_12\": params[\"K_12\"],\n",
    "            \n",
    "            \"bk_11\": params[\"bk_11\"],\n",
    "            \"bk_12\": params[\"bk_12\"],\n",
    "            \n",
    "            \"K_21\": params[\"K_21\"],\n",
    "            \"K_22\": params[\"K_22\"],\n",
    "            \"K_23\": params[\"K_23\"],\n",
    "            \"K_24\": params[\"K_24\"],\n",
    "            \n",
    "            \"bk_21\": params[\"bk_21\"],\n",
    "            \"bk_22\": params[\"bk_22\"],\n",
    "            \"bk_23\": params[\"bk_23\"],\n",
    "            \"bk_24\": params[\"bk_24\"],\n",
    "            \n",
    "            \"W_1\": params[\"W_1\"],\n",
    "            \"b_1\": params[\"b_1\"],\n",
    "\n",
    "            \"W_2\": params[\"W_2\"],\n",
    "            \"b_2\": params[\"b_2\"],\n",
    "\n",
    "            \"W_3\": params[\"W_3\"],\n",
    "            \"b_3\": params[\"b_3\"],\n",
    "        },\n",
    "        \"config_size\": {\n",
    "            \"sk_1\": sk_1,\n",
    "            \"sp_1\": sp_1,\n",
    "            \"size_pool_1\": size_pool_1,\n",
    "            \n",
    "            \"Zk_1_size\": Zk_1_size,\n",
    "            \"C_1_size\": C_1_size,\n",
    "            \"P_1_size\": P_1_size,\n",
    "            \"sk_2\": sk_2,\n",
    "            \"sp_2\": sp_2,\n",
    "            \"size_pool_2\": size_pool_2,\n",
    "            \n",
    "            \"Zk_2_size\": Zk_2_size,\n",
    "            \"C_2_size\": C_2_size,\n",
    "            \"P_2_size\": P_2_size,\n",
    "        }\n",
    "    }"
   ]
  },
  {
   "cell_type": "code",
   "execution_count": 11,
   "metadata": {},
   "outputs": [],
   "source": [
    "number_train_points = 300"
   ]
  },
  {
   "cell_type": "code",
   "execution_count": 12,
   "metadata": {},
   "outputs": [
    {
     "name": "stdout",
     "output_type": "stream",
     "text": [
      "Chunk 0\n",
      "loop = 0, loss = 3.4032801867364446\n"
     ]
    },
    {
     "name": "stderr",
     "output_type": "stream",
     "text": [
      "d:\\code\\selenium\\data_analytics\\try_cnn\\utils_cnn.py:596: RuntimeWarning: overflow encountered in exp\n",
      "  return 1 / (1 + np.exp((-1) * X))\n"
     ]
    },
    {
     "name": "stdout",
     "output_type": "stream",
     "text": [
      "loop = 1, loss = 3.2153454040831027\n",
      "loop = 2, loss = 2.7531642575964783\n",
      "loop = 3, loss = 2.4144444698037244\n",
      "loop = 4, loss = 2.256024924474363\n",
      "loop = 5, loss = 2.1652967185486522\n",
      "loop = 6, loss = 2.1199329666835935\n",
      "loop = 7, loss = 2.0768386210601437\n",
      "loop = 8, loss = 2.0215682178111547\n",
      "loop = 9, loss = 1.9861743960272937\n",
      "loop = 10, loss = 1.9389528439916035\n",
      "loop = 11, loss = 1.8883185033636445\n",
      "loop = 12, loss = 1.8556711950651903\n",
      "loop = 13, loss = 1.807694012690106\n",
      "loop = 14, loss = 1.768547685173973\n",
      "loop = 15, loss = 1.725239658013308\n",
      "loop = 16, loss = 1.6814340782273087\n",
      "loop = 17, loss = 1.6588043748866415\n",
      "loop = 18, loss = 1.6048452638665898\n",
      "loop = 19, loss = 1.5828424274884647\n",
      "loop = 20, loss = 1.5764514143424952\n",
      "loop = 21, loss = 1.6206283678472957\n",
      "loop = 22, loss = 1.557079628810987\n",
      "loop = 23, loss = 1.5879978077501085\n",
      "loop = 24, loss = 1.532571494620799\n",
      "loop = 25, loss = 1.4638178636830217\n",
      "loop = 26, loss = 1.3907726245341243\n",
      "loop = 27, loss = 1.3774375739997622\n",
      "loop = 28, loss = 1.3288084479228401\n",
      "loop = 29, loss = 1.3529723376356397\n",
      "loop = 30, loss = 1.4298572169777979\n",
      "loop = 31, loss = 1.4845089616064986\n",
      "loop = 32, loss = 1.44220068332671\n",
      "loop = 33, loss = 1.2964584684127576\n",
      "loop = 34, loss = 1.2061275771698017\n",
      "loop = 35, loss = 1.1467542292678936\n",
      "loop = 36, loss = 1.1705287301332907\n",
      "loop = 37, loss = 1.1830042352985095\n",
      "loop = 38, loss = 1.220445248029988\n",
      "loop = 39, loss = 1.1539260019308961\n",
      "loop = 40, loss = 1.114470387160842\n",
      "loop = 41, loss = 1.0945655411768345\n",
      "loop = 42, loss = 1.0569189006056465\n",
      "loop = 43, loss = 1.0387316072407033\n",
      "loop = 44, loss = 1.0404352726228323\n",
      "loop = 45, loss = 1.0299320332202158\n",
      "loop = 46, loss = 1.0591138196970318\n",
      "loop = 47, loss = 0.9755745782836732\n",
      "loop = 48, loss = 0.9814264345719411\n",
      "loop = 49, loss = 1.0036654121363715\n",
      "loop = 50, loss = 0.996729332717924\n",
      "loop = 51, loss = 0.9368374132464983\n",
      "loop = 52, loss = 0.8491395720022397\n",
      "loop = 53, loss = 0.826449050102005\n",
      "loop = 54, loss = 0.7959776105447219\n",
      "loop = 55, loss = 0.7878482014653675\n",
      "loop = 56, loss = 0.8074548796005918\n",
      "loop = 57, loss = 0.8022436716870018\n",
      "loop = 58, loss = 0.8174359671634787\n",
      "loop = 59, loss = 0.8114059618517584\n",
      "loop = 60, loss = 0.810334344370749\n",
      "loop = 61, loss = 0.7663113024862759\n",
      "loop = 62, loss = 0.7208078117233857\n",
      "loop = 63, loss = 0.7419759083561169\n",
      "loop = 64, loss = 0.7082122139378384\n",
      "loop = 65, loss = 0.7070898233696334\n",
      "loop = 66, loss = 0.7082208123895088\n",
      "loop = 67, loss = 0.6821398206335931\n",
      "loop = 68, loss = 0.7075513809057457\n",
      "loop = 69, loss = 0.6607997313058315\n",
      "loop = 70, loss = 0.7119455094842831\n",
      "loop = 71, loss = 0.6849342594368554\n",
      "loop = 72, loss = 0.7307585922157905\n",
      "loop = 73, loss = 0.6691019980963455\n",
      "loop = 74, loss = 0.7083561757499497\n",
      "loop = 75, loss = 0.6670449154808857\n",
      "loop = 76, loss = 0.6500226456039707\n",
      "loop = 77, loss = 0.6378013533160247\n",
      "loop = 78, loss = 0.596009832204677\n",
      "loop = 79, loss = 0.5862262252680184\n",
      "loop = 80, loss = 0.5353640584797166\n",
      "loop = 81, loss = 0.5061659340294041\n",
      "loop = 82, loss = 0.4970834630662658\n",
      "loop = 83, loss = 0.48223656494913714\n",
      "loop = 84, loss = 0.4742236603767153\n",
      "loop = 85, loss = 0.4672723928487773\n",
      "loop = 86, loss = 0.492159354587555\n",
      "loop = 87, loss = 0.46608183588741103\n",
      "loop = 88, loss = 0.5054969162115522\n",
      "loop = 89, loss = 0.48908883237756606\n",
      "loop = 90, loss = 0.5992085715987442\n",
      "loop = 91, loss = 0.5578295078150309\n",
      "loop = 92, loss = 0.6747628958187833\n",
      "loop = 93, loss = 0.6468789992335464\n",
      "loop = 94, loss = 0.644243017528921\n",
      "loop = 95, loss = 0.561230337081493\n",
      "loop = 96, loss = 0.519672359226497\n",
      "loop = 97, loss = 0.5167516456369623\n",
      "loop = 98, loss = 0.4964314961480267\n",
      "loop = 99, loss = 0.5301467390438893\n",
      "loop = 100, loss = 0.5147312981850265\n",
      "loop = 101, loss = 0.5108110539486639\n",
      "loop = 102, loss = 0.47843959625213445\n",
      "loop = 103, loss = 0.4525288958492771\n",
      "loop = 104, loss = 0.4253358985910151\n",
      "loop = 105, loss = 0.41450858745328834\n",
      "loop = 106, loss = 0.4085178713964072\n",
      "loop = 107, loss = 0.4165294262801837\n",
      "loop = 108, loss = 0.39894817619007916\n",
      "loop = 109, loss = 0.42793969123445713\n",
      "loop = 110, loss = 0.4520893539445116\n",
      "loop = 111, loss = 0.4639806868271375\n",
      "loop = 112, loss = 0.4431363915399421\n",
      "loop = 113, loss = 0.5224838192621585\n",
      "loop = 114, loss = 0.6407032556581425\n",
      "loop = 115, loss = 0.6558952022054171\n",
      "loop = 116, loss = 0.5975385220364761\n",
      "loop = 117, loss = 0.5670938193806656\n",
      "loop = 118, loss = 0.5548392564080721\n",
      "loop = 119, loss = 0.43787734428435104\n",
      "loop = 120, loss = 0.3965720441737432\n",
      "loop = 121, loss = 0.36824383554280987\n",
      "loop = 122, loss = 0.3262726646660141\n",
      "loop = 123, loss = 0.3026189222713033\n",
      "loop = 124, loss = 0.30147393560879276\n",
      "loop = 125, loss = 0.2942049297587181\n",
      "loop = 126, loss = 0.30302620472696234\n",
      "loop = 127, loss = 0.28311971379111767\n",
      "loop = 128, loss = 0.2833109665609142\n",
      "loop = 129, loss = 0.2678849801414778\n",
      "loop = 130, loss = 0.28535199807495615\n",
      "loop = 131, loss = 0.2865382041109439\n",
      "loop = 132, loss = 0.27344130964251695\n",
      "loop = 133, loss = 0.2632971265871282\n",
      "loop = 134, loss = 0.2695738004657985\n",
      "loop = 135, loss = 0.27502435322362784\n",
      "loop = 136, loss = 0.2623817665202379\n",
      "loop = 137, loss = 0.25992491004009266\n",
      "loop = 138, loss = 0.25075193591987566\n",
      "loop = 139, loss = 0.25861449086809674\n",
      "loop = 140, loss = 0.2475216987262969\n",
      "loop = 141, loss = 0.24142574634333813\n",
      "loop = 142, loss = 0.24445271140653277\n",
      "loop = 143, loss = 0.2337378062453883\n",
      "loop = 144, loss = 0.23772310057975551\n",
      "loop = 145, loss = 0.23069599978038882\n",
      "loop = 146, loss = 0.21850438904389602\n",
      "loop = 147, loss = 0.21158426459327262\n",
      "loop = 148, loss = 0.22649890360597313\n",
      "loop = 149, loss = 0.22461738018124205\n",
      "loop = 150, loss = 0.22096773165327188\n",
      "loop = 151, loss = 0.20980772854797894\n",
      "loop = 152, loss = 0.20764239691165953\n",
      "loop = 153, loss = 0.20240151061981485\n",
      "loop = 154, loss = 0.2047122151241587\n",
      "loop = 155, loss = 0.2078233448154209\n",
      "loop = 156, loss = 0.23367774358701157\n",
      "loop = 157, loss = 0.21337309026071014\n",
      "loop = 158, loss = 0.2104037163346804\n",
      "loop = 159, loss = 0.2163685908835053\n",
      "loop = 160, loss = 0.2066900388844502\n",
      "loop = 161, loss = 0.20579033307525732\n",
      "loop = 162, loss = 0.18748948508709157\n",
      "loop = 163, loss = 0.18516380315604347\n",
      "loop = 164, loss = 0.1862255542560203\n",
      "loop = 165, loss = 0.17979409868564938\n",
      "loop = 166, loss = 0.18372746855349947\n",
      "loop = 167, loss = 0.20963100711326194\n",
      "loop = 168, loss = 0.19125523157397076\n",
      "loop = 169, loss = 0.19134228267268877\n",
      "loop = 170, loss = 0.20843331823874056\n",
      "loop = 171, loss = 0.20057111540578718\n",
      "loop = 172, loss = 0.21043389106091262\n",
      "loop = 173, loss = 0.19641504658374967\n",
      "loop = 174, loss = 0.19043177217981624\n",
      "loop = 175, loss = 0.2171942531709337\n",
      "loop = 176, loss = 0.21595374470291775\n",
      "loop = 177, loss = 0.1995755713285483\n",
      "loop = 178, loss = 0.23262377183035712\n",
      "loop = 179, loss = 0.2169718731721726\n",
      "loop = 180, loss = 0.2689524354314801\n",
      "loop = 181, loss = 0.26718558566708683\n",
      "loop = 182, loss = 0.32807068770473224\n",
      "loop = 183, loss = 0.30523237542648135\n",
      "loop = 184, loss = 0.3058511303979611\n",
      "loop = 185, loss = 0.2628768086259699\n",
      "loop = 186, loss = 0.2631189595825851\n",
      "loop = 187, loss = 0.3302850808341355\n",
      "loop = 188, loss = 0.35874017867425956\n",
      "loop = 189, loss = 0.37640130219162676\n",
      "loop = 190, loss = 0.31937725221680024\n",
      "loop = 191, loss = 0.29011959197726017\n",
      "loop = 192, loss = 0.22745721217860793\n",
      "loop = 193, loss = 0.2071850117625447\n",
      "loop = 194, loss = 0.17757494273156985\n",
      "loop = 195, loss = 0.17674930068048925\n",
      "loop = 196, loss = 0.16770593470441697\n",
      "loop = 197, loss = 0.16805230983380462\n",
      "loop = 198, loss = 0.15495946034600602\n",
      "loop = 199, loss = 0.1524145340774346\n",
      "loop = 200, loss = 0.14886411224394347\n",
      "loop = 201, loss = 0.16021439183633263\n",
      "loop = 202, loss = 0.13805103319087905\n",
      "loop = 203, loss = 0.13433147920085392\n",
      "loop = 204, loss = 0.13211079574788537\n",
      "loop = 205, loss = 0.1313698714903524\n",
      "loop = 206, loss = 0.13263797747278494\n",
      "loop = 207, loss = 0.14494315960426904\n",
      "loop = 208, loss = 0.13125236379802904\n",
      "loop = 209, loss = 0.12951345027864752\n",
      "loop = 210, loss = 0.1221652182017685\n",
      "loop = 211, loss = 0.11750827767599988\n",
      "loop = 212, loss = 0.11626620933048405\n",
      "loop = 213, loss = 0.12353804644608607\n",
      "loop = 214, loss = 0.1253780274849132\n",
      "loop = 215, loss = 0.11015054036241277\n",
      "loop = 216, loss = 0.14399802690218777\n",
      "loop = 217, loss = 0.1309445655705506\n",
      "loop = 218, loss = 0.13295149028241757\n",
      "loop = 219, loss = 0.11421237447664188\n",
      "loop = 220, loss = 0.10969091886026067\n",
      "loop = 221, loss = 0.10731045372352038\n",
      "loop = 222, loss = 0.1030838045832612\n",
      "loop = 223, loss = 0.10100380079534729\n",
      "loop = 224, loss = 0.09870835155691159\n",
      "loop = 225, loss = 0.09614714373135075\n",
      "loop = 226, loss = 0.09765564917717773\n",
      "loop = 227, loss = 0.0970201060902088\n",
      "loop = 228, loss = 0.09820584938834663\n",
      "loop = 229, loss = 0.09759871781025944\n",
      "loop = 230, loss = 0.10064506131573235\n",
      "loop = 231, loss = 0.11667917714138393\n",
      "loop = 232, loss = 0.11577648203883158\n",
      "loop = 233, loss = 0.11376994233610147\n",
      "loop = 234, loss = 0.10158823727288438\n",
      "loop = 235, loss = 0.1126317806773841\n",
      "loop = 236, loss = 0.0964883082994799\n",
      "loop = 237, loss = 0.09135503446812311\n",
      "loop = 238, loss = 0.09425256403481577\n",
      "loop = 239, loss = 0.08796019202471483\n",
      "loop = 240, loss = 0.0851255758163366\n",
      "loop = 241, loss = 0.090826205486434\n",
      "loop = 242, loss = 0.0847491856171719\n",
      "loop = 243, loss = 0.08384959352603948\n",
      "loop = 244, loss = 0.08173020207892324\n",
      "loop = 245, loss = 0.0782945760862971\n",
      "loop = 246, loss = 0.08044714102544936\n",
      "loop = 247, loss = 0.08127889497402228\n",
      "loop = 248, loss = 0.07692464263180164\n",
      "loop = 249, loss = 0.07467011832266926\n",
      "loop = 250, loss = 0.07549927735991992\n",
      "loop = 251, loss = 0.07363224900904186\n",
      "loop = 252, loss = 0.0762009549903669\n",
      "loop = 253, loss = 0.07720614674289451\n",
      "loop = 254, loss = 0.07136875006098356\n",
      "loop = 255, loss = 0.07541068236065417\n",
      "loop = 256, loss = 0.07235155549404543\n",
      "loop = 257, loss = 0.07200832808639332\n",
      "loop = 258, loss = 0.07019753559866959\n",
      "loop = 259, loss = 0.07100487241710572\n",
      "loop = 260, loss = 0.0788839430834565\n",
      "loop = 261, loss = 0.08941295570995576\n",
      "loop = 262, loss = 0.08845053633468287\n",
      "loop = 263, loss = 0.07658698598551975\n",
      "loop = 264, loss = 0.07322230428514356\n",
      "loop = 265, loss = 0.06935569637637706\n",
      "loop = 266, loss = 0.06522797848449348\n",
      "loop = 267, loss = 0.06958029470959477\n",
      "loop = 268, loss = 0.0751730655870521\n",
      "loop = 269, loss = 0.07062604832531394\n",
      "loop = 270, loss = 0.0650407396944789\n",
      "loop = 271, loss = 0.06120748540571812\n",
      "loop = 272, loss = 0.06028691588824662\n",
      "loop = 273, loss = 0.07329712841035642\n",
      "loop = 274, loss = 0.07836853735723222\n",
      "loop = 275, loss = 0.07385407791707015\n",
      "loop = 276, loss = 0.0719107721647652\n",
      "loop = 277, loss = 0.06985822462785701\n",
      "loop = 278, loss = 0.06812967258448552\n",
      "loop = 279, loss = 0.0672922237369926\n",
      "loop = 280, loss = 0.06642191758658932\n",
      "loop = 281, loss = 0.06454270396372394\n",
      "loop = 282, loss = 0.07203963446374542\n",
      "loop = 283, loss = 0.06552059897934585\n",
      "loop = 284, loss = 0.06577205224888076\n",
      "loop = 285, loss = 0.06297321855146812\n",
      "loop = 286, loss = 0.06110017158633897\n",
      "loop = 287, loss = 0.0627833846994611\n",
      "loop = 288, loss = 0.060271286589439754\n",
      "loop = 289, loss = 0.05614769646130161\n",
      "loop = 290, loss = 0.05386735141080265\n",
      "loop = 291, loss = 0.05545679246405835\n",
      "loop = 292, loss = 0.053853674631875285\n",
      "loop = 293, loss = 0.06946267168828092\n",
      "loop = 294, loss = 0.05562849931000595\n",
      "loop = 295, loss = 0.053065285347912945\n",
      "loop = 296, loss = 0.054560517762100254\n",
      "loop = 297, loss = 0.05354676771774801\n",
      "loop = 298, loss = 0.053326477021348025\n",
      "loop = 299, loss = 0.05220328451142171\n",
      "loop = 300, loss = 0.0499276043345749\n",
      "loop = 301, loss = 0.04964984081900519\n",
      "loop = 302, loss = 0.0494171343967175\n",
      "loop = 303, loss = 0.049807428195130635\n",
      "loop = 304, loss = 0.0764615849786833\n",
      "loop = 305, loss = 0.05551067106272186\n",
      "loop = 306, loss = 0.050099408721305624\n",
      "loop = 307, loss = 0.04752038725995769\n",
      "loop = 308, loss = 0.046143196838578836\n",
      "loop = 309, loss = 0.04665600274633353\n",
      "loop = 310, loss = 0.047675981381744635\n",
      "loop = 311, loss = 0.04533958050310953\n",
      "loop = 312, loss = 0.047426912920133214\n",
      "loop = 313, loss = 0.04393566361363853\n",
      "loop = 314, loss = 0.04427259857590617\n",
      "loop = 315, loss = 0.043809577931030554\n",
      "loop = 316, loss = 0.04461760466452198\n",
      "loop = 317, loss = 0.04921194615915975\n",
      "loop = 318, loss = 0.046336347239255796\n",
      "loop = 319, loss = 0.04445227278623752\n",
      "loop = 320, loss = 0.04427528883215008\n",
      "loop = 321, loss = 0.042254821130404734\n",
      "loop = 322, loss = 0.04607594254641272\n",
      "loop = 323, loss = 0.04756479356540406\n",
      "loop = 324, loss = 0.04410917412137953\n",
      "loop = 325, loss = 0.04150525558281405\n",
      "loop = 326, loss = 0.043041868826749194\n",
      "loop = 327, loss = 0.04188440428652786\n",
      "loop = 328, loss = 0.04201868891519116\n",
      "loop = 329, loss = 0.04001493357702727\n",
      "loop = 330, loss = 0.03837753935817345\n",
      "loop = 331, loss = 0.038394921972786177\n",
      "loop = 332, loss = 0.04151897827744594\n",
      "loop = 333, loss = 0.03995821437588011\n",
      "loop = 334, loss = 0.04570231154697041\n",
      "loop = 335, loss = 0.040755875586881256\n",
      "loop = 336, loss = 0.03825460831767721\n",
      "loop = 337, loss = 0.040628649727355276\n",
      "loop = 338, loss = 0.03985731842699519\n",
      "loop = 339, loss = 0.04381509001538169\n",
      "loop = 340, loss = 0.04047224915524831\n",
      "loop = 341, loss = 0.03880112641574354\n",
      "loop = 342, loss = 0.03674792257332787\n",
      "loop = 343, loss = 0.03975347967095168\n",
      "loop = 344, loss = 0.03726179388525881\n",
      "loop = 345, loss = 0.038429060823195194\n",
      "loop = 346, loss = 0.037900810419325866\n",
      "loop = 347, loss = 0.03708736252012203\n",
      "loop = 348, loss = 0.03635606576524356\n",
      "loop = 349, loss = 0.03741624827339563\n",
      "loop = 350, loss = 0.03721480516744246\n",
      "loop = 351, loss = 0.036058236372629004\n",
      "loop = 352, loss = 0.034485834344996975\n",
      "loop = 353, loss = 0.034759933633113534\n",
      "loop = 354, loss = 0.033615699919770446\n",
      "loop = 355, loss = 0.03460836521650747\n",
      "loop = 356, loss = 0.03521729720419312\n",
      "loop = 357, loss = 0.03425126967040586\n",
      "loop = 358, loss = 0.03335153966471052\n",
      "loop = 359, loss = 0.03232996554987289\n",
      "loop = 360, loss = 0.03436367604452629\n",
      "loop = 361, loss = 0.03170000451937597\n",
      "loop = 362, loss = 0.03311941440749684\n",
      "loop = 363, loss = 0.03367173355086834\n",
      "loop = 364, loss = 0.03302196052282624\n",
      "loop = 365, loss = 0.03193473261602414\n",
      "loop = 366, loss = 0.034751547359744485\n",
      "loop = 367, loss = 0.03451618603595581\n",
      "loop = 368, loss = 0.03195452150067806\n",
      "loop = 369, loss = 0.03424317986181096\n",
      "loop = 370, loss = 0.03727677024030699\n",
      "loop = 371, loss = 0.03218912999456725\n",
      "loop = 372, loss = 0.03145776642733862\n",
      "loop = 373, loss = 0.03147181439592165\n",
      "loop = 374, loss = 0.031543185949256966\n",
      "loop = 375, loss = 0.03328576167107237\n",
      "loop = 376, loss = 0.0414890273134156\n",
      "loop = 377, loss = 0.038844219709275644\n",
      "loop = 378, loss = 0.03694579478141156\n",
      "loop = 379, loss = 0.03500090320431904\n",
      "loop = 380, loss = 0.032046025329763146\n",
      "loop = 381, loss = 0.030608604813654804\n",
      "loop = 382, loss = 0.03144222136375818\n",
      "loop = 383, loss = 0.03150533623001268\n",
      "loop = 384, loss = 0.029934945638997366\n",
      "loop = 385, loss = 0.028865204002521454\n",
      "loop = 386, loss = 0.02815359365201187\n",
      "loop = 387, loss = 0.03151988573097969\n",
      "loop = 388, loss = 0.028057839487798955\n",
      "loop = 389, loss = 0.02782167910823988\n",
      "loop = 390, loss = 0.02815434746923753\n",
      "loop = 391, loss = 0.02911808542808045\n",
      "loop = 392, loss = 0.02747410453385035\n",
      "loop = 393, loss = 0.026958994188676415\n",
      "loop = 394, loss = 0.027438985847009215\n",
      "loop = 395, loss = 0.03184127313085339\n",
      "loop = 396, loss = 0.027318142651341804\n",
      "loop = 397, loss = 0.026451390446631272\n",
      "loop = 398, loss = 0.02748767020352864\n",
      "loop = 399, loss = 0.028624039043840883\n",
      "loop = 400, loss = 0.02723377050923672\n",
      "loop = 401, loss = 0.027878936034358915\n",
      "loop = 402, loss = 0.027030518059582707\n",
      "loop = 403, loss = 0.026588627982277322\n",
      "loop = 404, loss = 0.02634940768585164\n",
      "loop = 405, loss = 0.028958453443132064\n",
      "loop = 406, loss = 0.02635778142748803\n",
      "loop = 407, loss = 0.025357315601579077\n",
      "loop = 408, loss = 0.02566712583212583\n",
      "loop = 409, loss = 0.024987970061077745\n",
      "loop = 410, loss = 0.026135017185987295\n",
      "loop = 411, loss = 0.02475403587788186\n",
      "loop = 412, loss = 0.024828517556760556\n",
      "loop = 413, loss = 0.02426994893074298\n",
      "loop = 414, loss = 0.02432072006532814\n",
      "loop = 415, loss = 0.024271341016817286\n",
      "loop = 416, loss = 0.023849004338078624\n",
      "loop = 417, loss = 0.023824944031681918\n",
      "loop = 418, loss = 0.024723348334723737\n",
      "loop = 419, loss = 0.02427071474009742\n",
      "loop = 420, loss = 0.024381683527899562\n",
      "loop = 421, loss = 0.023544343674818616\n",
      "loop = 422, loss = 0.022787953074078136\n",
      "loop = 423, loss = 0.02295878827637321\n",
      "loop = 424, loss = 0.022922239379980187\n",
      "loop = 425, loss = 0.02278343280975237\n",
      "loop = 426, loss = 0.02342380674956416\n",
      "loop = 427, loss = 0.022245851070973603\n",
      "loop = 428, loss = 0.02227379641760925\n",
      "loop = 429, loss = 0.02246937543814962\n",
      "loop = 430, loss = 0.022364903568019345\n",
      "loop = 431, loss = 0.022300624644319596\n",
      "loop = 432, loss = 0.02206085260824349\n",
      "loop = 433, loss = 0.02191120306368993\n",
      "loop = 434, loss = 0.023831156537076834\n",
      "loop = 435, loss = 0.022698092371341343\n",
      "loop = 436, loss = 0.02200710372346024\n",
      "loop = 437, loss = 0.021448003717922364\n",
      "loop = 438, loss = 0.02128151475689048\n",
      "loop = 439, loss = 0.021445602967852775\n",
      "loop = 440, loss = 0.021561536745406375\n",
      "loop = 441, loss = 0.021352310323295553\n",
      "loop = 442, loss = 0.021541735645804142\n",
      "loop = 443, loss = 0.021336842944975228\n",
      "loop = 444, loss = 0.020745728846281397\n",
      "loop = 445, loss = 0.02079438431394736\n",
      "loop = 446, loss = 0.020386035392682997\n",
      "loop = 447, loss = 0.02038238122178226\n",
      "loop = 448, loss = 0.019602289961889563\n",
      "loop = 449, loss = 0.02024122568296994\n",
      "loop = 450, loss = 0.020311240113345928\n",
      "loop = 451, loss = 0.019641556597205692\n",
      "loop = 452, loss = 0.01946289791284703\n",
      "loop = 453, loss = 0.021158532176133834\n",
      "loop = 454, loss = 0.032052159605277665\n",
      "loop = 455, loss = 0.023044046523945056\n",
      "loop = 456, loss = 0.02113712778100105\n",
      "loop = 457, loss = 0.02118762252970099\n",
      "loop = 458, loss = 0.020622990502130116\n",
      "loop = 459, loss = 0.0203445940877106\n",
      "loop = 460, loss = 0.019918382225608346\n",
      "loop = 461, loss = 0.01930321071671869\n",
      "loop = 462, loss = 0.019205604358982387\n",
      "loop = 463, loss = 0.018956170367044625\n",
      "loop = 464, loss = 0.018755556207320924\n",
      "loop = 465, loss = 0.018998703179939347\n",
      "loop = 466, loss = 0.0190393875138153\n",
      "loop = 467, loss = 0.018771459244534352\n",
      "loop = 468, loss = 0.018686039083227468\n",
      "loop = 469, loss = 0.018874794264650406\n",
      "loop = 470, loss = 0.018495749880327546\n",
      "loop = 471, loss = 0.01853317141074437\n",
      "loop = 472, loss = 0.01895238601616499\n",
      "loop = 473, loss = 0.01924987973962201\n",
      "loop = 474, loss = 0.018843189191792054\n",
      "loop = 475, loss = 0.018381364111971017\n",
      "loop = 476, loss = 0.01826402377849082\n",
      "loop = 477, loss = 0.017971215132437813\n",
      "loop = 478, loss = 0.017535867494027756\n",
      "loop = 479, loss = 0.017682368387278116\n",
      "loop = 480, loss = 0.017833507323473923\n",
      "loop = 481, loss = 0.018164275068131133\n",
      "loop = 482, loss = 0.01747040160316045\n",
      "loop = 483, loss = 0.01725760903953455\n",
      "loop = 484, loss = 0.01745074275157139\n",
      "loop = 485, loss = 0.017114184763879083\n",
      "loop = 486, loss = 0.01717670942674181\n",
      "loop = 487, loss = 0.016927555142289108\n",
      "loop = 488, loss = 0.01738136246804425\n",
      "loop = 489, loss = 0.01693528740855027\n",
      "loop = 490, loss = 0.017598883205929665\n",
      "loop = 491, loss = 0.016819261019013404\n",
      "loop = 492, loss = 0.017494774697479093\n",
      "loop = 493, loss = 0.01716396167847229\n",
      "loop = 494, loss = 0.016628765288435588\n",
      "loop = 495, loss = 0.016797688904650953\n",
      "loop = 496, loss = 0.01761338797632989\n",
      "loop = 497, loss = 0.016296239439535856\n",
      "loop = 498, loss = 0.016215494337663637\n",
      "loop = 499, loss = 0.01616343421722956\n"
     ]
    }
   ],
   "source": [
    "output = forward_and_train_cnn(\n",
    "    X[0:number_train_points], \n",
    "    one_hot(Y[0:number_train_points]), \n",
    "    0.1, \n",
    "    500,\n",
    "    5000)\n",
    "params = output[\"params\"]\n",
    "config_size = output[\"config_size\"]\n",
    "\n",
    "\n",
    "    # X[number_train_points:number_train_points + 10]"
   ]
  },
  {
   "cell_type": "code",
   "execution_count": 13,
   "metadata": {},
   "outputs": [],
   "source": [
    "list_X_test = X_test[0:20]\n",
    "output_forward = forward(\n",
    "        \"predict\",\n",
    "        \n",
    "        reshape_list_X(list_X_test),\n",
    "            \n",
    "        params[\"K_11\"],\n",
    "        params[\"K_12\"],\n",
    "        params[\"bk_11\"],\n",
    "        params[\"bk_12\"],\n",
    "        config_size[\"sk_1\"],\n",
    "        config_size[\"sp_1\"],\n",
    "        config_size[\"size_pool_1\"],\n",
    "        \n",
    "        config_size[\"Zk_1_size\"],\n",
    "        config_size[\"C_1_size\"],\n",
    "        config_size[\"P_1_size\"],\n",
    "        \n",
    "        params[\"K_21\"],\n",
    "        params[\"K_22\"],\n",
    "        params[\"K_23\"],\n",
    "        params[\"K_24\"],\n",
    "        params[\"bk_21\"],\n",
    "        params[\"bk_22\"],\n",
    "        params[\"bk_23\"],\n",
    "        params[\"bk_24\"],\n",
    "        config_size[\"sk_2\"],\n",
    "        config_size[\"sp_2\"],\n",
    "        config_size[\"size_pool_2\"],\n",
    "        \n",
    "        config_size[\"Zk_2_size\"],\n",
    "        config_size[\"C_2_size\"],\n",
    "        config_size[\"P_2_size\"],\n",
    "        \n",
    "        params[\"W_1\"],\n",
    "        params[\"b_1\"],\n",
    "        params[\"W_2\"],\n",
    "        params[\"b_2\"],\n",
    "        params[\"W_3\"],\n",
    "        params[\"b_3\"],\n",
    "        \n",
    "        None\n",
    "    )\n",
    "\n",
    "Y_predict = output_forward[\"A_3\"]\n"
   ]
  },
  {
   "cell_type": "code",
   "execution_count": 14,
   "metadata": {},
   "outputs": [
    {
     "data": {
      "text/plain": [
       "(10, 20)"
      ]
     },
     "execution_count": 14,
     "metadata": {},
     "output_type": "execute_result"
    }
   ],
   "source": [
    "Y_predict.shape"
   ]
  },
  {
   "cell_type": "code",
   "execution_count": 15,
   "metadata": {},
   "outputs": [
    {
     "name": "stdout",
     "output_type": "stream",
     "text": [
      "[7 2 1 0 4 1 9 4 2 9 0 0 4 0 1 5 4 7 2 4]\n",
      "[7 2 1 0 4 1 4 9 5 9 0 6 9 0 1 5 9 7 3 4]\n"
     ]
    }
   ],
   "source": [
    "Y_predict_decode = decode_one_hot(Y_predict, Y[0:number_train_points])\n",
    "print(Y_predict_decode)\n",
    "Y_real = Y_test[0:20]\n",
    "print(Y_real)"
   ]
  },
  {
   "cell_type": "code",
   "execution_count": 16,
   "metadata": {},
   "outputs": [],
   "source": [
    "result = Y_predict_decode == Y_real"
   ]
  },
  {
   "cell_type": "code",
   "execution_count": 17,
   "metadata": {},
   "outputs": [
    {
     "data": {
      "text/plain": [
       "13"
      ]
     },
     "execution_count": 17,
     "metadata": {},
     "output_type": "execute_result"
    }
   ],
   "source": [
    "len(result[result == True])"
   ]
  },
  {
   "cell_type": "code",
   "execution_count": 18,
   "metadata": {},
   "outputs": [
    {
     "data": {
      "text/plain": [
       "7"
      ]
     },
     "execution_count": 18,
     "metadata": {},
     "output_type": "execute_result"
    }
   ],
   "source": [
    "len(result[result == False])"
   ]
  },
  {
   "cell_type": "code",
   "execution_count": 19,
   "metadata": {},
   "outputs": [
    {
     "data": {
      "text/plain": [
       "<matplotlib.image.AxesImage at 0x1d5d8c44190>"
      ]
     },
     "execution_count": 19,
     "metadata": {},
     "output_type": "execute_result"
    },
    {
     "data": {
      "image/png": "[encoded data removed]",
      "text/plain": [
       "<Figure size 640x480 with 1 Axes>"
      ]
     },
     "metadata": {},
     "output_type": "display_data"
    }
   ],
   "source": [
    "X_test_1 = list_X_test[4]\n",
    "plt.imshow(X_test_1)\n"
   ]
  },
  {
   "cell_type": "code",
   "execution_count": 20,
   "metadata": {},
   "outputs": [
    {
     "data": {
      "text/plain": [
       "<matplotlib.image.AxesImage at 0x1d5d6af55b0>"
      ]
     },
     "execution_count": 20,
     "metadata": {},
     "output_type": "execute_result"
    },
    {
     "data": {
      "image/png": "[encoded data removed]",
      "text/plain": [
       "<Figure size 640x480 with 1 Axes>"
      ]
     },
     "metadata": {},
     "output_type": "display_data"
    }
   ],
   "source": [
    "Zk_1_m1 = convolution(X_test_1, params[\"K_11\"], bias=params[\"bk_11\"])\n",
    "plt.imshow(Zk_1_m1)"
   ]
  },
  {
   "cell_type": "code",
   "execution_count": 21,
   "metadata": {},
   "outputs": [
    {
     "data": {
      "text/plain": [
       "<matplotlib.image.AxesImage at 0x1d5d6b54d30>"
      ]
     },
     "execution_count": 21,
     "metadata": {},
     "output_type": "execute_result"
    },
    {
     "data": {
      "image/png": "[encoded data removed]",
      "text/plain": [
       "<Figure size 640x480 with 1 Axes>"
      ]
     },
     "metadata": {},
     "output_type": "display_data"
    }
   ],
   "source": [
    "Zk_1_m2 = convolution(X_test_1, params[\"K_12\"], bias=params[\"bk_12\"])\n",
    "plt.imshow(Zk_1_m2)"
   ]
  },
  {
   "cell_type": "code",
   "execution_count": 22,
   "metadata": {},
   "outputs": [
    {
     "data": {
      "text/plain": [
       "<matplotlib.image.AxesImage at 0x1d5d8dd1c70>"
      ]
     },
     "execution_count": 22,
     "metadata": {},
     "output_type": "execute_result"
    },
    {
     "data": {
      "image/png": "[encoded data removed]",
      "text/plain": [
       "<Figure size 640x480 with 1 Axes>"
      ]
     },
     "metadata": {},
     "output_type": "display_data"
    }
   ],
   "source": [
    "C_1_m1 = ReLU(Zk_1_m1)\n",
    "plt.imshow(C_1_m1)"
   ]
  },
  {
   "cell_type": "code",
   "execution_count": 23,
   "metadata": {},
   "outputs": [
    {
     "data": {
      "text/plain": [
       "<matplotlib.image.AxesImage at 0x1d5d8cb51c0>"
      ]
     },
     "execution_count": 23,
     "metadata": {},
     "output_type": "execute_result"
    },
    {
     "data": {
      "image/png": "[encoded data removed]",
      "text/plain": [
       "<Figure size 640x480 with 1 Axes>"
      ]
     },
     "metadata": {},
     "output_type": "display_data"
    }
   ],
   "source": [
    "C_1_m2 = ReLU(Zk_1_m2)\n",
    "plt.imshow(C_1_m2)"
   ]
  },
  {
   "cell_type": "code",
   "execution_count": 24,
   "metadata": {},
   "outputs": [
    {
     "data": {
      "text/plain": [
       "<matplotlib.image.AxesImage at 0x1d5d8d30040>"
      ]
     },
     "execution_count": 24,
     "metadata": {},
     "output_type": "execute_result"
    },
    {
     "data": {
      "image/png": "[encoded data removed]",
      "text/plain": [
       "<Figure size 640x480 with 1 Axes>"
      ]
     },
     "metadata": {},
     "output_type": "display_data"
    }
   ],
   "source": [
    "P_1_m1 = pooling_one_point(C_1_m1, (2, 2), stride=2)\n",
    "plt.imshow(P_1_m1)"
   ]
  },
  {
   "cell_type": "code",
   "execution_count": 25,
   "metadata": {},
   "outputs": [
    {
     "data": {
      "text/plain": [
       "<matplotlib.image.AxesImage at 0x1d5d8da1070>"
      ]
     },
     "execution_count": 25,
     "metadata": {},
     "output_type": "execute_result"
    },
    {
     "data": {
      "image/png": "[encoded data removed]",
      "text/plain": [
       "<Figure size 640x480 with 1 Axes>"
      ]
     },
     "metadata": {},
     "output_type": "display_data"
    }
   ],
   "source": [
    "P_1_m2 = pooling_one_point(C_1_m2, (2, 2), stride=2)\n",
    "plt.imshow(P_1_m2)"
   ]
  },
  {
   "cell_type": "code",
   "execution_count": 26,
   "metadata": {},
   "outputs": [],
   "source": [
    "P_1 = np.zeros((12, 12, 2))\n",
    "P_1[:,:,0] = P_1_m1\n",
    "P_1[:,:,1] = P_1_m2"
   ]
  },
  {
   "cell_type": "code",
   "execution_count": 27,
   "metadata": {},
   "outputs": [
    {
     "data": {
      "text/plain": [
       "<matplotlib.image.AxesImage at 0x1d5d8f957f0>"
      ]
     },
     "execution_count": 27,
     "metadata": {},
     "output_type": "execute_result"
    },
    {
     "data": {
      "image/png": "[encoded data removed]",
      "text/plain": [
       "<Figure size 640x480 with 1 Axes>"
      ]
     },
     "metadata": {},
     "output_type": "display_data"
    }
   ],
   "source": [
    "Zk_2_m1 = convolution(P_1, params[\"K_21\"], bias=params[\"bk_21\"])\n",
    "plt.imshow(Zk_2_m1)"
   ]
  },
  {
   "cell_type": "code",
   "execution_count": 28,
   "metadata": {},
   "outputs": [
    {
     "data": {
      "text/plain": [
       "<matplotlib.image.AxesImage at 0x1d5d8e75e50>"
      ]
     },
     "execution_count": 28,
     "metadata": {},
     "output_type": "execute_result"
    },
    {
     "data": {
      "image/png": "[encoded data removed]",
      "text/plain": [
       "<Figure size 640x480 with 1 Axes>"
      ]
     },
     "metadata": {},
     "output_type": "display_data"
    }
   ],
   "source": [
    "Zk_2_m2 = convolution(P_1, params[\"K_22\"], bias=params[\"bk_22\"])\n",
    "plt.imshow(Zk_2_m2)"
   ]
  },
  {
   "cell_type": "code",
   "execution_count": 29,
   "metadata": {},
   "outputs": [
    {
     "data": {
      "text/plain": [
       "<matplotlib.image.AxesImage at 0x1d5d8eea040>"
      ]
     },
     "execution_count": 29,
     "metadata": {},
     "output_type": "execute_result"
    },
    {
     "data": {
      "image/png": "[encoded data removed]",
      "text/plain": [
       "<Figure size 640x480 with 1 Axes>"
      ]
     },
     "metadata": {},
     "output_type": "display_data"
    }
   ],
   "source": [
    "Zk_2_m3 = convolution(P_1, params[\"K_23\"], bias=params[\"bk_23\"])\n",
    "plt.imshow(Zk_2_m3)"
   ]
  },
  {
   "cell_type": "code",
   "execution_count": 30,
   "metadata": {},
   "outputs": [
    {
     "data": {
      "text/plain": [
       "<matplotlib.image.AxesImage at 0x1d5d8f3f520>"
      ]
     },
     "execution_count": 30,
     "metadata": {},
     "output_type": "execute_result"
    },
    {
     "data": {
      "image/png": "[encoded data removed]",
      "text/plain": [
       "<Figure size 640x480 with 1 Axes>"
      ]
     },
     "metadata": {},
     "output_type": "display_data"
    }
   ],
   "source": [
    "Zk_2_m4 = convolution(P_1, params[\"K_24\"], bias=params[\"bk_24\"])\n",
    "plt.imshow(Zk_2_m4)"
   ]
  },
  {
   "cell_type": "code",
   "execution_count": 31,
   "metadata": {},
   "outputs": [],
   "source": [
    "Zk_2 = np.zeros((10, 10, 4))\n",
    "Zk_2[:,:,0] = Zk_2_m1\n",
    "Zk_2[:,:,1] = Zk_2_m2\n",
    "Zk_2[:,:,2] = Zk_2_m3\n",
    "Zk_2[:,:,3] = Zk_2_m4"
   ]
  },
  {
   "cell_type": "code",
   "execution_count": 32,
   "metadata": {},
   "outputs": [],
   "source": [
    "C_2 = Sigmoid(Zk_2)"
   ]
  },
  {
   "cell_type": "code",
   "execution_count": 33,
   "metadata": {},
   "outputs": [
    {
     "data": {
      "text/plain": [
       "<matplotlib.image.AxesImage at 0x1d5d9136b20>"
      ]
     },
     "execution_count": 33,
     "metadata": {},
     "output_type": "execute_result"
    },
    {
     "data": {
      "image/png": "[encoded data removed]",
      "text/plain": [
       "<Figure size 640x480 with 1 Axes>"
      ]
     },
     "metadata": {},
     "output_type": "display_data"
    }
   ],
   "source": [
    "plt.imshow(C_2[:,:,0])\n"
   ]
  },
  {
   "cell_type": "code",
   "execution_count": 34,
   "metadata": {},
   "outputs": [
    {
     "data": {
      "text/plain": [
       "<matplotlib.image.AxesImage at 0x1d5d8cc08b0>"
      ]
     },
     "execution_count": 34,
     "metadata": {},
     "output_type": "execute_result"
    },
    {
     "data": {
      "image/png": "[encoded data removed]",
      "text/plain": [
       "<Figure size 640x480 with 1 Axes>"
      ]
     },
     "metadata": {},
     "output_type": "display_data"
    }
   ],
   "source": [
    "plt.imshow(C_2[:,:,1])\n"
   ]
  },
  {
   "cell_type": "code",
   "execution_count": 35,
   "metadata": {},
   "outputs": [
    {
     "data": {
      "text/plain": [
       "<matplotlib.image.AxesImage at 0x1d5d91363a0>"
      ]
     },
     "execution_count": 35,
     "metadata": {},
     "output_type": "execute_result"
    },
    {
     "data": {
      "image/png": "[encoded data removed]",
      "text/plain": [
       "<Figure size 640x480 with 1 Axes>"
      ]
     },
     "metadata": {},
     "output_type": "display_data"
    }
   ],
   "source": [
    "plt.imshow(C_2[:,:,2])\n"
   ]
  },
  {
   "cell_type": "code",
   "execution_count": 36,
   "metadata": {},
   "outputs": [
    {
     "data": {
      "text/plain": [
       "<matplotlib.image.AxesImage at 0x1d5d90ee0d0>"
      ]
     },
     "execution_count": 36,
     "metadata": {},
     "output_type": "execute_result"
    },
    {
     "data": {
      "image/png": "[encoded data removed]",
      "text/plain": [
       "<Figure size 640x480 with 1 Axes>"
      ]
     },
     "metadata": {},
     "output_type": "display_data"
    }
   ],
   "source": [
    "plt.imshow(C_2[:,:,3])"
   ]
  },
  {
   "cell_type": "code",
   "execution_count": 37,
   "metadata": {},
   "outputs": [],
   "source": [
    "P_2 = pooling_one_point(C_2, (2, 2), stride=2)"
   ]
  },
  {
   "cell_type": "code",
   "execution_count": 38,
   "metadata": {},
   "outputs": [
    {
     "data": {
      "text/plain": [
       "<matplotlib.image.AxesImage at 0x1d5d92cef70>"
      ]
     },
     "execution_count": 38,
     "metadata": {},
     "output_type": "execute_result"
    },
    {
     "data": {
      "image/png": "[encoded data removed]",
      "text/plain": [
       "<Figure size 640x480 with 1 Axes>"
      ]
     },
     "metadata": {},
     "output_type": "display_data"
    }
   ],
   "source": [
    "plt.imshow(P_2[:,:,0])\n"
   ]
  },
  {
   "cell_type": "code",
   "execution_count": 39,
   "metadata": {},
   "outputs": [
    {
     "data": {
      "text/plain": [
       "<matplotlib.image.AxesImage at 0x1d5d91baf10>"
      ]
     },
     "execution_count": 39,
     "metadata": {},
     "output_type": "execute_result"
    },
    {
     "data": {
      "image/png": "[encoded data removed]",
      "text/plain": [
       "<Figure size 640x480 with 1 Axes>"
      ]
     },
     "metadata": {},
     "output_type": "display_data"
    }
   ],
   "source": [
    "plt.imshow(P_2[:,:,1])\n"
   ]
  },
  {
   "cell_type": "code",
   "execution_count": 40,
   "metadata": {},
   "outputs": [
    {
     "data": {
      "text/plain": [
       "<matplotlib.image.AxesImage at 0x1d5d925efd0>"
      ]
     },
     "execution_count": 40,
     "metadata": {},
     "output_type": "execute_result"
    },
    {
     "data": {
      "image/png": "[encoded data removed]",
      "text/plain": [
       "<Figure size 640x480 with 1 Axes>"
      ]
     },
     "metadata": {},
     "output_type": "display_data"
    }
   ],
   "source": [
    "plt.imshow(P_2[:,:,2])\n"
   ]
  },
  {
   "cell_type": "code",
   "execution_count": 41,
   "metadata": {},
   "outputs": [
    {
     "data": {
      "text/plain": [
       "<matplotlib.image.AxesImage at 0x1d5d9296f10>"
      ]
     },
     "execution_count": 41,
     "metadata": {},
     "output_type": "execute_result"
    },
    {
     "data": {
      "image/png": "[encoded data removed]",
      "text/plain": [
       "<Figure size 640x480 with 1 Axes>"
      ]
     },
     "metadata": {},
     "output_type": "display_data"
    }
   ],
   "source": [
    "plt.imshow(P_2[:,:,3])"
   ]
  },
  {
   "cell_type": "code",
   "execution_count": null,
   "metadata": {},
   "outputs": [],
   "source": []
  }
 ],
 "metadata": {
  "kernelspec": {
   "display_name": "venv_py_39",
   "language": "python",
   "name": "python3"
  },
  "language_info": {
   "codemirror_mode": {
    "name": "ipython",
    "version": 3
   },
   "file_extension": ".py",
   "mimetype": "text/x-python",
   "name": "python",
   "nbconvert_exporter": "python",
   "pygments_lexer": "ipython3",
   "version": "3.9.7"
  }
 },
 "nbformat": 4,
 "nbformat_minor": 2
}
