{
 "cells": [
  {
   "cell_type": "code",
   "execution_count": 1,
   "metadata": {},
   "outputs": [],
   "source": [
    "import tensorflow as tf\n",
    "from tensorflow.keras.datasets import mnist\n",
    "import matplotlib.pyplot as plt\n",
    "import numpy as np\n",
    "from typing import Union, Literal"
   ]
  },
  {
   "cell_type": "code",
   "execution_count": 2,
   "metadata": {},
   "outputs": [],
   "source": [
    "from utils_cnn import (\n",
    "    convolution,\n",
    "    pooling,\n",
    "    init_kernel,\n",
    "    init_bias_kernel,\n",
    "    convolution_multiple_kernel,\n",
    "    ReLU,\n",
    "    init_weights,\n",
    "    init_bias,\n",
    "    softmax,\n",
    "    one_hot,\n",
    "    cross_entropy_loss,\n",
    "    calculate_cross_entropy_loss_without_softmax_value,\n",
    "    add_padding_multiple_point,\n",
    "    add_dilation_multiple_point,\n",
    "    decode_one_hot,\n",
    "    Sigmoid,\n",
    "    split_chunk_X_Y,\n",
    ")\n",
    "\n",
    "from derivative_cnn import (\n",
    "    derivative_ReLU,\n",
    "    derivative_for_filter_one_point,\n",
    "    derivative_layer_before_max_pooling_for_multiple_point,\n",
    "    derivative_for_filter_multiple_point,\n",
    "    derivative_for_bias_kernel_multiple_point,\n",
    "    derivative_layer_input_convolution_multiple_point,\n",
    "    derivative_Sigmoid,\n",
    ")"
   ]
  },
  {
   "cell_type": "code",
   "execution_count": 3,
   "metadata": {},
   "outputs": [
    {
     "name": "stdout",
     "output_type": "stream",
     "text": [
      "Training data shape: (60000, 28, 28)\n",
      "Testing data shape: (10000, 28, 28)\n"
     ]
    }
   ],
   "source": [
    "# Tải xuống dataset MNIST\n",
    "(X, Y), (X_test, Y_test) = mnist.load_data()\n",
    "\n",
    "# Kiểm tra kích thước của dữ liệu\n",
    "print(\"Training data shape:\", X.shape)  # (60000, 28, 28)\n",
    "print(\"Testing data shape:\", X_test.shape)    # (10000, 28, 28)"
   ]
  },
  {
   "cell_type": "code",
   "execution_count": 4,
   "metadata": {},
   "outputs": [
    {
     "data": {
      "text/plain": [
       "60000"
      ]
     },
     "execution_count": 4,
     "metadata": {},
     "output_type": "execute_result"
    }
   ],
   "source": [
    "len(X)"
   ]
  },
  {
   "cell_type": "code",
   "execution_count": 5,
   "metadata": {},
   "outputs": [
    {
     "data": {
      "text/plain": [
       "<matplotlib.image.AxesImage at 0x2b4fe9485e0>"
      ]
     },
     "execution_count": 5,
     "metadata": {},
     "output_type": "execute_result"
    },
    {
     "data": {
      "image/png": "[encoded data removed]",
      "text/plain": [
       "<Figure size 640x480 with 1 Axes>"
      ]
     },
     "metadata": {},
     "output_type": "display_data"
    }
   ],
   "source": [
    "plt.imshow(X[0])"
   ]
  },
  {
   "cell_type": "code",
   "execution_count": 6,
   "metadata": {},
   "outputs": [
    {
     "data": {
      "text/plain": [
       "5"
      ]
     },
     "execution_count": 6,
     "metadata": {},
     "output_type": "execute_result"
    }
   ],
   "source": [
    "Y[0]"
   ]
  },
  {
   "cell_type": "code",
   "execution_count": null,
   "metadata": {},
   "outputs": [],
   "source": [
    "forward()"
   ]
  },
  {
   "cell_type": "code",
   "execution_count": 17,
   "metadata": {},
   "outputs": [],
   "source": [
    "def forward_and_train_cnn(\n",
    "    list_X: Union[list[np.ndarray], np.ndarray], \n",
    "    Y: np.ndarray, \n",
    "    learning_rate: float, \n",
    "    epochs: int,\n",
    "    list_X_predict: Union[list[np.ndarray], np.ndarray]):\n",
    "    \"\"\"\n",
    "    \n",
    "    \"\"\"\n",
    "    \n",
    "    \n",
    "    def reshape_list_X(list_X: Union[list[np.ndarray], np.ndarray]):\n",
    "        N = len(list_X)\n",
    "        list_P_0 = list_X\n",
    "        \n",
    "        if (type(list_X) == list and len(list_X[0].shape) == 3) or len(list_X.shape) == 4:\n",
    "            pass\n",
    "        elif type(list_X) == np.ndarray and len(list_X.shape) == 3:\n",
    "            first_X = list_X[0]\n",
    "            X_number_row = first_X.shape[0]\n",
    "            X_number_col = first_X.shape[1]\n",
    "            list_P_0 = list_X.reshape([N, X_number_row, X_number_col, 1])\n",
    "        \n",
    "        return list_P_0\n",
    "    \n",
    "    list_P_0 = reshape_list_X(list_X)\n",
    "    \n",
    "    # Init value for convolution layers\n",
    "    K_11 = init_kernel((5, 5, 1)) # Kernel 11 \n",
    "    K_12 = init_kernel((5, 5, 1)) # Kernel 12\n",
    "    bk_11 = init_bias_kernel() # Bias kernel 11\n",
    "    bk_12 = init_bias_kernel() # Bias kernel 12\n",
    "    sk_1 = 1 # Stride kernel 1\n",
    "    sp_1 = 2 # Stride pool 1\n",
    "    size_pool_1 = (2, 2) # Size of pooling 1\n",
    "    \n",
    "    K_21 = init_kernel((3, 3, 2)) # Kernel 21\n",
    "    K_22 = init_kernel((3, 3, 2)) # Kernel 22\n",
    "    K_23 = init_kernel((3, 3, 2)) # Kernel 23 \n",
    "    K_24 = init_kernel((3, 3, 2)) # Kernel 24\n",
    "    bk_21 = init_bias_kernel() # Bias kernel 21\n",
    "    bk_22 = init_bias_kernel() # Bias kernel 22\n",
    "    bk_23 = init_bias_kernel() # Bias kernel 23\n",
    "    bk_24 = init_bias_kernel() # Bias kernel 24\n",
    "    sk_2 = 1 # Stride kernel 2\n",
    "    sp_2 = 2 # Stride pool 2\n",
    "    size_pool_2 = (2, 2) # Size of pooling 1\n",
    "    \n",
    "    Zk_1_size = [24, 24, 2]\n",
    "    C_1_size = [24, 24, 2]\n",
    "    P_1_size = [12, 12, 2]\n",
    "    \n",
    "    Zk_2_size = [10, 10, 4]\n",
    "    C_2_size = [10, 10, 4]\n",
    "    P_2_size = [5, 5, 4]\n",
    "    \n",
    "    # Init value for fully connected layers\n",
    "    number_nn_layer_1 = 100\n",
    "    W_1 = init_weights((np.prod(P_2_size), number_nn_layer_1))\n",
    "    b_1 = init_bias((number_nn_layer_1, 1))\n",
    "    \n",
    "    number_nn_layer_2 = 100\n",
    "    W_2 = init_weights((number_nn_layer_1, number_nn_layer_2))\n",
    "    b_2 = init_bias((number_nn_layer_2, 1))\n",
    "    \n",
    "    number_nn_layer_3 = Y.shape[0] # Number of categories into which the data is classified.\n",
    "    W_3 = init_weights((number_nn_layer_2, number_nn_layer_3))\n",
    "    b_3 = init_bias((number_nn_layer_3, 1))\n",
    "    \n",
    "    def forward(mode: Literal[\"train\", \"predict\"],\n",
    "\n",
    "                list_P_0,\n",
    "                \n",
    "                K_11,\n",
    "                K_12,\n",
    "                bk_11,\n",
    "                bk_12,\n",
    "                sk_1,\n",
    "                sp_1,\n",
    "                size_pool_1,\n",
    "                \n",
    "                Zk_1_size,\n",
    "                C_1_size,\n",
    "                P_1_size,\n",
    "                \n",
    "                K_21,\n",
    "                K_22,\n",
    "                K_23,\n",
    "                K_24,\n",
    "                bk_21,\n",
    "                bk_22,\n",
    "                bk_23,\n",
    "                bk_24,\n",
    "                sk_2,\n",
    "                sp_2,\n",
    "                size_pool_2,\n",
    "\n",
    "                Zk_2_size,\n",
    "                C_2_size,\n",
    "                P_2_size,\n",
    "                \n",
    "                W_1,\n",
    "                b_1,\n",
    "                \n",
    "                W_2,\n",
    "                b_2,\n",
    "                \n",
    "                W_3,\n",
    "                b_3,\n",
    "                \n",
    "                Y=None):\n",
    "        \n",
    "        N = len(list_P_0)\n",
    "        \n",
    "        list_Zk_1 = np.zeros([N] + Zk_1_size)\n",
    "        list_C_1 = np.zeros([N] + C_1_size)\n",
    "        list_P_1 = np.zeros([N] + P_1_size)\n",
    "        \n",
    "        list_Zk_2 = np.zeros([N] + Zk_2_size)\n",
    "        list_C_2 = np.zeros([N] + C_2_size)\n",
    "        list_P_2 = np.zeros([N] + P_2_size)\n",
    "        \n",
    "        A_0 = np.zeros((np.prod(P_2_size), N))\n",
    "        \n",
    "        # Calculate for kernel layers and input A_0 for fully connected layres\n",
    "        for i, each_point_data_p_0 in enumerate(list_P_0):        \n",
    "            Zk_1 = convolution_multiple_kernel(each_point_data_p_0, (K_11, K_12), (bk_11, bk_12), sk_1)\n",
    "            C_1 = ReLU(Zk_1)\n",
    "            P_1 = pooling(C_1, size_pool_1, stride=sp_1)\n",
    "            \n",
    "            Zk_2 = convolution_multiple_kernel(P_1, (K_21, K_22, K_23, K_24), (bk_21, bk_22, bk_23, bk_24), sk_2)\n",
    "            C_2 = Sigmoid(Zk_2)\n",
    "            P_2 = pooling(C_2, size_pool_2, stride=sp_2)\n",
    "            \n",
    "            list_Zk_1[i] = Zk_1\n",
    "            list_C_1[i] = C_1\n",
    "            list_P_1[i] = P_1\n",
    "            \n",
    "            list_Zk_2[i] = Zk_2\n",
    "            list_C_2[i] = C_2\n",
    "            list_P_2[i] = P_2\n",
    "            \n",
    "            A_0[:, i] = P_2.flatten()\n",
    "        \n",
    "        # Calculate for fully connected layers\n",
    "        Z_1 = W_1.T.dot(A_0) + b_1\n",
    "        A_1 = ReLU(Z_1)\n",
    "        \n",
    "        Z_2 = W_2.T.dot(A_1) + b_2\n",
    "        A_2 = ReLU(Z_2)\n",
    "        \n",
    "        Z_3 = W_3.T.dot(A_2) + b_3\n",
    "        A_3 = softmax(Z_3) # This is prediction output\n",
    "        \n",
    "        # calculate loss value by cross entropy\n",
    "        loss = 0\n",
    "        if mode == \"train\":\n",
    "            loss = calculate_cross_entropy_loss_without_softmax_value(Y, Z_3)\n",
    "        \n",
    "        return (\n",
    "            list_Zk_1,\n",
    "            list_C_1,\n",
    "            list_P_1,\n",
    "            \n",
    "            list_Zk_2,\n",
    "            list_C_2,\n",
    "            list_P_2,\n",
    "\n",
    "            A_0,\n",
    "            \n",
    "            Z_1,\n",
    "            A_1,\n",
    "                    \n",
    "            Z_2,\n",
    "            A_2,\n",
    "            \n",
    "            Z_3,\n",
    "            A_3,\n",
    "            \n",
    "            loss\n",
    "        )\n",
    "    \n",
    "    chunk_count = 0  \n",
    "    for chunk_P_0, chunk_Y in split_chunk_X_Y(list_P_0, Y, 300):\n",
    "        print(f\"Chunk {chunk_count}\")\n",
    "        chunk_count += 1\n",
    "        \n",
    "        # Backpropagation \n",
    "        for i in range(epochs):\n",
    "            (\n",
    "            list_Zk_1,\n",
    "            list_C_1,\n",
    "            list_P_1,\n",
    "            list_Zk_2,\n",
    "            list_C_2,\n",
    "            list_P_2,\n",
    "            A_0,\n",
    "            Z_1,\n",
    "            A_1,\n",
    "            Z_2,\n",
    "            A_2,\n",
    "            Z_3, \n",
    "            A_3,\n",
    "            loss\n",
    "            ) = forward(\n",
    "                \"train\",\n",
    "                \n",
    "                chunk_P_0,\n",
    "                \n",
    "                K_11,\n",
    "                K_12,\n",
    "                bk_11,\n",
    "                bk_12,\n",
    "                sk_1,\n",
    "                sp_1,\n",
    "                size_pool_1,\n",
    "                \n",
    "                Zk_1_size,\n",
    "                C_1_size,\n",
    "                P_1_size,\n",
    "                \n",
    "                K_21,\n",
    "                K_22,\n",
    "                K_23,\n",
    "                K_24,\n",
    "                bk_21,\n",
    "                bk_22,\n",
    "                bk_23,\n",
    "                bk_24,\n",
    "                sk_2,\n",
    "                sp_2,\n",
    "                size_pool_2,\n",
    "                \n",
    "                Zk_2_size,\n",
    "                C_2_size,\n",
    "                P_2_size,\n",
    "                \n",
    "                W_1,\n",
    "                b_1,\n",
    "                W_2,\n",
    "                b_2,\n",
    "                W_3,\n",
    "                b_3,\n",
    "                \n",
    "                chunk_Y\n",
    "            )\n",
    "            N = len(chunk_P_0)\n",
    "            print(f\"loop = {i}, loss = {loss}\")\n",
    "            \n",
    "            # Backpropagation for fully connected layers\n",
    "        \n",
    "            E_3 = 1/N * (A_3 - chunk_Y)\n",
    "            dL_dW_3 = A_2.dot(E_3.T)\n",
    "            dL_db_3 = np.sum(E_3, axis=1, keepdims=True)\n",
    "            \n",
    "            E_2 = W_3.dot(E_3) * derivative_ReLU(Z_2)\n",
    "            dL_dW_2 = A_1.dot(E_2.T)\n",
    "            dL_db_2 = np.sum(E_2, axis=1, keepdims=True)\n",
    "            \n",
    "            E_1 = W_2.dot(E_2) * derivative_ReLU(Z_1)\n",
    "            dL_dW_1 = A_0.dot(E_1.T)\n",
    "            dL_db_1 = np.sum(E_1, axis=1, keepdims=True)\n",
    "            \n",
    "            # Backpropagation for kernel layers\n",
    "            \n",
    "            # Number of rows in dL_dP_2 = number of columns in dL_dA_0 = N\n",
    "            # We loop through the columns of dL_dA_0 (respectively for each point data in X) and reshape it to size of P_2 and set that value in dL_dP_2\n",
    "            dL_dA_0: np.ndarray = W_1.dot(E_1)\n",
    "            list_dL_dP_2 = np.zeros([N] + P_2_size)\n",
    "            \n",
    "            for i in range(N):\n",
    "                list_dL_dP_2[i] = dL_dA_0[:, i].reshape(P_2_size)\n",
    "\n",
    "            list_dL_dC_2 = derivative_layer_before_max_pooling_for_multiple_point(list_C_2, list_P_2, list_dL_dP_2, size_pool_2, sp_2)\n",
    "            list_dL_dZk_2 = list_dL_dC_2 * derivative_Sigmoid(list_Zk_2)\n",
    "            \n",
    "            dL_dK_21 = derivative_for_filter_multiple_point(list_P_1, list_dL_dZk_2[:, :, :, 0], K_21.shape, sk_2)\n",
    "            dL_dK_22 = derivative_for_filter_multiple_point(list_P_1, list_dL_dZk_2[:, :, :, 1], K_22.shape, sk_2)\n",
    "            dL_dK_23 = derivative_for_filter_multiple_point(list_P_1, list_dL_dZk_2[:, :, :, 2], K_23.shape, sk_2)\n",
    "            dL_dK_24 = derivative_for_filter_multiple_point(list_P_1, list_dL_dZk_2[:, :, :, 3], K_24.shape, sk_2)\n",
    "            \n",
    "            dL_dbk_21 = derivative_for_bias_kernel_multiple_point(list_dL_dZk_2[:, :, :, 0])\n",
    "            dL_dbk_22 = derivative_for_bias_kernel_multiple_point(list_dL_dZk_2[:, :, :, 1])\n",
    "            dL_dbk_23 = derivative_for_bias_kernel_multiple_point(list_dL_dZk_2[:, :, :, 2])\n",
    "            dL_dbk_24 = derivative_for_bias_kernel_multiple_point(list_dL_dZk_2[:, :, :, 3])\n",
    "            \n",
    "            list_dL_dP_1 = derivative_layer_input_convolution_multiple_point(list_P_1, [K_21, K_22, K_23, K_24], list_dL_dZk_2)\n",
    "            list_dL_dC_1 = derivative_layer_before_max_pooling_for_multiple_point(list_C_1, list_P_1, list_dL_dP_1, size_pool_1, sp_1)\n",
    "            list_dL_dZk_1 = list_dL_dC_1 * derivative_ReLU(list_Zk_1)\n",
    "            \n",
    "            dL_dK_11 = derivative_for_filter_multiple_point(chunk_P_0, list_dL_dZk_1[:, :, :, 0], K_11.shape, sk_1)\n",
    "            dL_dK_12 = derivative_for_filter_multiple_point(chunk_P_0, list_dL_dZk_1[:, :, :, 1], K_12.shape, sk_1)\n",
    "            \n",
    "            dL_dbk_11 = derivative_for_bias_kernel_multiple_point(list_dL_dZk_1[:, :, :, 0])\n",
    "            dL_dbk_12 = derivative_for_bias_kernel_multiple_point(list_dL_dZk_1[:, :, :, 1])\n",
    "            \n",
    "            W_3 = W_3 - learning_rate*dL_dW_3\n",
    "            b_3 = b_3 - learning_rate*dL_db_3\n",
    "            \n",
    "            W_2 = W_2 - learning_rate*dL_dW_2\n",
    "            b_2 = b_2 - learning_rate*dL_db_2\n",
    "            \n",
    "            W_1 = W_1 - learning_rate*dL_dW_1\n",
    "            b_1 = b_1 - learning_rate*dL_db_1\n",
    "            \n",
    "            K_21 = K_21 - learning_rate*dL_dK_21\n",
    "            K_22 = K_22 - learning_rate*dL_dK_22\n",
    "            K_23 = K_23 - learning_rate*dL_dK_23\n",
    "            K_24 = K_24 - learning_rate*dL_dK_24\n",
    "            \n",
    "            bk_21 = bk_21 - learning_rate*dL_dbk_21\n",
    "            bk_22 = bk_22 - learning_rate*dL_dbk_22\n",
    "            bk_23 = bk_23 - learning_rate*dL_dbk_23\n",
    "            bk_24 = bk_24 - learning_rate*dL_dbk_24\n",
    "            \n",
    "            K_11 = K_11 - learning_rate*dL_dK_11\n",
    "            K_12 = K_12 - learning_rate*dL_dK_12\n",
    "            \n",
    "            bk_11 = bk_11 - learning_rate*dL_dbk_11\n",
    "            bk_12 = bk_12 - learning_rate*dL_dbk_12\n",
    "    \n",
    "    \n",
    "    (\n",
    "    list_Zk_1, \n",
    "    list_C_1, \n",
    "    \n",
    "    list_P_1,\n",
    "    list_Zk_2,\n",
    "    \n",
    "    list_C_2,\n",
    "    list_P_2,\n",
    "    \n",
    "    A_0,\n",
    "    \n",
    "    Z_1,\n",
    "    A_1,\n",
    "    \n",
    "    Z_2,\n",
    "    A_2,\n",
    "    \n",
    "    Z_3,\n",
    "    A_3,\n",
    "    \n",
    "    loss\n",
    "    ) = forward(\n",
    "            \"predict\",\n",
    "            \n",
    "            reshape_list_X(list_X_predict),\n",
    "                \n",
    "            K_11,\n",
    "            K_12,\n",
    "            bk_11,\n",
    "            bk_12,\n",
    "            sk_1,\n",
    "            sp_1,\n",
    "            size_pool_1,\n",
    "            \n",
    "            Zk_1_size,\n",
    "            C_1_size,\n",
    "            P_1_size,\n",
    "            \n",
    "            K_21,\n",
    "            K_22,\n",
    "            K_23,\n",
    "            K_24,\n",
    "            bk_21,\n",
    "            bk_22,\n",
    "            bk_23,\n",
    "            bk_24,\n",
    "            sk_2,\n",
    "            sp_2,\n",
    "            size_pool_2,\n",
    "            \n",
    "            Zk_2_size,\n",
    "            C_2_size,\n",
    "            P_2_size,\n",
    "            \n",
    "            W_1,\n",
    "            b_1,\n",
    "            W_2,\n",
    "            b_2,\n",
    "            W_3,\n",
    "            b_3,\n",
    "            \n",
    "            None\n",
    "        )\n",
    "    return {\n",
    "        \"result\": {\n",
    "            \"list_Zk_1\": list_Zk_1, \n",
    "            \"list_C_1\": list_C_1, \n",
    "            \n",
    "            \"list_P_1\": list_P_1,\n",
    "            \"list_Zk_2\": list_Zk_2,\n",
    "            \n",
    "            \"list_C_2\": list_C_2,\n",
    "            \"list_P_2\": list_P_2,\n",
    "            \n",
    "            \"A_0\": A_0,\n",
    "            \n",
    "            \"Z_1\": Z_1,\n",
    "            \"A_1\": A_1,\n",
    "            \n",
    "            \"Z_2\": Z_2,\n",
    "            \"A_2\": A_2,\n",
    "            \n",
    "            \"Z_3\": Z_3,\n",
    "            \"A_3\": A_3,\n",
    "            \n",
    "            \"loss\": loss,\n",
    "        },\n",
    "        \"params\": {\n",
    "            \"K_11\": K_11,\n",
    "            \"K_12\": K_12,\n",
    "            \n",
    "            \"bk_11\": bk_11,\n",
    "            \"bk_12\": bk_12,\n",
    "            \n",
    "            \"K_21\": K_21,\n",
    "            \"K_22\": K_22,\n",
    "            \"K_23\": K_23,\n",
    "            \"K_24\": K_24,\n",
    "            \n",
    "            \"bk_21\": bk_21,\n",
    "            \"bk_22\": bk_22,\n",
    "            \"bk_23\": bk_23,\n",
    "            \"bk_24\": bk_24,\n",
    "            \n",
    "            \"W_1\": W_1,\n",
    "            \"b_1\": b_1,\n",
    "\n",
    "            \"W_2\": W_2,\n",
    "            \"b_2\": b_2,\n",
    "\n",
    "            \"W_3\": W_3,\n",
    "            \"b_3\": b_3,\n",
    "        },\n",
    "        \"forward\": forward,\n",
    "        \"reshape_list_X\": reshape_list_X\n",
    "    }"
   ]
  },
  {
   "cell_type": "code",
   "execution_count": 18,
   "metadata": {},
   "outputs": [],
   "source": [
    "number_train_points = 500"
   ]
  },
  {
   "cell_type": "code",
   "execution_count": 20,
   "metadata": {},
   "outputs": [
    {
     "name": "stdout",
     "output_type": "stream",
     "text": [
      "Chunk 0\n"
     ]
    },
    {
     "name": "stderr",
     "output_type": "stream",
     "text": [
      "d:\\code\\selenium\\data_analytics\\try_cnn\\utils_cnn.py:454: RuntimeWarning: overflow encountered in exp\n",
      "  return 1 / (1 + np.exp((-1) * X))\n"
     ]
    },
    {
     "name": "stdout",
     "output_type": "stream",
     "text": [
      "loop = 0, loss = 2.7530919627460246\n",
      "loop = 1, loss = 2.4270650608317403\n",
      "loop = 2, loss = 2.197300823592948\n",
      "loop = 3, loss = 2.114882129196458\n",
      "loop = 4, loss = 2.0514611624299177\n",
      "loop = 5, loss = 2.004072745143233\n",
      "loop = 6, loss = 1.938155910470811\n",
      "loop = 7, loss = 1.9633803169560968\n",
      "loop = 8, loss = 1.8942425568151757\n",
      "loop = 9, loss = 1.8121742229163313\n",
      "loop = 10, loss = 1.7650210696112967\n",
      "loop = 11, loss = 1.7624938029796489\n",
      "loop = 12, loss = 1.6826637502253312\n",
      "loop = 13, loss = 1.6233217610027635\n",
      "loop = 14, loss = 1.6225521074431675\n",
      "loop = 15, loss = 1.59918234289562\n",
      "loop = 16, loss = 1.5614402481943157\n",
      "loop = 17, loss = 1.5597109654899393\n",
      "loop = 18, loss = 1.5386697470972288\n",
      "loop = 19, loss = 1.514711406683905\n",
      "loop = 20, loss = 1.5408497923429276\n",
      "loop = 21, loss = 1.5129638260218112\n",
      "loop = 22, loss = 1.5601309557447762\n",
      "loop = 23, loss = 1.4274231902987693\n",
      "loop = 24, loss = 1.4159318769258162\n",
      "loop = 25, loss = 1.2950558677920587\n",
      "loop = 26, loss = 1.2715289031450827\n",
      "loop = 27, loss = 1.2274927504222635\n",
      "loop = 28, loss = 1.2616444723648357\n",
      "loop = 29, loss = 1.2494139038664314\n",
      "loop = 30, loss = 1.3170871025639224\n",
      "loop = 31, loss = 1.4458565577443858\n",
      "loop = 32, loss = 1.4539994392030007\n",
      "loop = 33, loss = 1.2173867482347485\n",
      "loop = 34, loss = 1.1689718873767003\n",
      "loop = 35, loss = 1.0074363027451028\n",
      "loop = 36, loss = 0.9576987831348556\n",
      "loop = 37, loss = 1.0354104967313404\n",
      "loop = 38, loss = 1.038218935545866\n",
      "loop = 39, loss = 1.0157027815041724\n",
      "loop = 40, loss = 1.0179114978065473\n",
      "loop = 41, loss = 1.1492853031332362\n",
      "loop = 42, loss = 1.024370024845836\n",
      "loop = 43, loss = 1.061415605978152\n",
      "loop = 44, loss = 0.9558041923484863\n",
      "loop = 45, loss = 0.9258682717063117\n",
      "loop = 46, loss = 0.9729264789370715\n",
      "loop = 47, loss = 0.828679187940477\n",
      "loop = 48, loss = 0.8084545071212942\n",
      "loop = 49, loss = 0.7801743171585701\n",
      "Chunk 1\n",
      "loop = 0, loss = 0.9552695057960984\n",
      "loop = 1, loss = 0.933796259892274\n",
      "loop = 2, loss = 1.1797675989349743\n",
      "loop = 3, loss = 1.356189172306409\n",
      "loop = 4, loss = 1.1642592162568945\n",
      "loop = 5, loss = 1.1243205751441243\n",
      "loop = 6, loss = 0.9281979449772086\n",
      "loop = 7, loss = 0.8863544241448045\n",
      "loop = 8, loss = 0.870045149026756\n",
      "loop = 9, loss = 0.9329964516389607\n",
      "loop = 10, loss = 0.8745598837698733\n",
      "loop = 11, loss = 0.8322838357255876\n",
      "loop = 12, loss = 0.7781408042326905\n",
      "loop = 13, loss = 0.8012960348019967\n",
      "loop = 14, loss = 0.6892268656022088\n",
      "loop = 15, loss = 0.6914342949777857\n",
      "loop = 16, loss = 0.6577324576639663\n",
      "loop = 17, loss = 0.6960499560450037\n",
      "loop = 18, loss = 0.68438837394538\n",
      "loop = 19, loss = 0.7254504862944794\n",
      "loop = 20, loss = 0.6921427311497322\n",
      "loop = 21, loss = 0.7150914438022125\n",
      "loop = 22, loss = 0.6624331233420597\n",
      "loop = 23, loss = 0.6353626600386714\n",
      "loop = 24, loss = 0.5658585905850062\n",
      "loop = 25, loss = 0.6125202931148096\n",
      "loop = 26, loss = 0.6042953889430184\n",
      "loop = 27, loss = 0.562586200769242\n",
      "loop = 28, loss = 0.5382292170956088\n",
      "loop = 29, loss = 0.5291569764610232\n",
      "loop = 30, loss = 0.5655237031871905\n",
      "loop = 31, loss = 0.5489130199478938\n",
      "loop = 32, loss = 0.537082284997056\n",
      "loop = 33, loss = 0.5253331933542327\n",
      "loop = 34, loss = 0.483218192878022\n",
      "loop = 35, loss = 0.6294613709228828\n",
      "loop = 36, loss = 0.5885569808235457\n",
      "loop = 37, loss = 0.5725031988990592\n",
      "loop = 38, loss = 0.4580009360037141\n",
      "loop = 39, loss = 0.4182462772436745\n",
      "loop = 40, loss = 0.38657355560810736\n",
      "loop = 41, loss = 0.3752099032865793\n",
      "loop = 42, loss = 0.3388201655624259\n",
      "loop = 43, loss = 0.35907491365609034\n",
      "loop = 44, loss = 0.33317123646998825\n",
      "loop = 45, loss = 0.3251226088028028\n",
      "loop = 46, loss = 0.32082911149038784\n",
      "loop = 47, loss = 0.3533112183134155\n",
      "loop = 48, loss = 0.32085999767881207\n",
      "loop = 49, loss = 0.4215921123998934\n"
     ]
    }
   ],
   "source": [
    "output = forward_and_train_cnn(\n",
    "    X[0:number_train_points], \n",
    "    one_hot(Y[0:number_train_points]), \n",
    "    0.1, \n",
    "    50, \n",
    "    X[number_train_points:number_train_points + 10])"
   ]
  },
  {
   "cell_type": "code",
   "execution_count": 21,
   "metadata": {},
   "outputs": [],
   "source": [
    "result = output[\"result\"]\n",
    "params = output[\"params\"]"
   ]
  },
  {
   "cell_type": "code",
   "execution_count": 22,
   "metadata": {},
   "outputs": [],
   "source": [
    "Y_predict = result[\"A_3\"]\n",
    "Z_3 = result[\"Z_3\"]"
   ]
  },
  {
   "cell_type": "code",
   "execution_count": 23,
   "metadata": {},
   "outputs": [
    {
     "data": {
      "text/plain": [
       "(10, 10)"
      ]
     },
     "execution_count": 23,
     "metadata": {},
     "output_type": "execute_result"
    }
   ],
   "source": [
    "Y_predict.shape"
   ]
  },
  {
   "cell_type": "code",
   "execution_count": 24,
   "metadata": {},
   "outputs": [
    {
     "data": {
      "text/plain": [
       "array([[7.24576825e-04, 1.22005525e-04, 5.05434839e-03, 5.90422902e-03,\n",
       "        9.59306985e-03, 5.81561487e-04, 3.07590644e-03, 2.86431551e-05,\n",
       "        6.68908967e-03, 5.52462610e-03],\n",
       "       [1.66436304e-03, 1.02895345e-02, 8.03333622e-02, 2.38547223e-01,\n",
       "        4.27295287e-03, 4.74333805e-05, 1.29241372e-02, 9.72245426e-01,\n",
       "        7.37641228e-01, 8.52752244e-04],\n",
       "       [2.00100884e-01, 1.50690413e-03, 7.50808599e-02, 2.98561337e-02,\n",
       "        5.75357934e-02, 1.13493023e-04, 6.22377764e-02, 7.13769388e-03,\n",
       "        3.33040266e-02, 7.01835934e-03],\n",
       "       [5.90206847e-04, 6.68508302e-03, 2.94828055e-01, 4.20035676e-03,\n",
       "        3.71440810e-01, 4.60500923e-05, 6.74680291e-03, 3.95363321e-04,\n",
       "        7.69577972e-04, 7.57409211e-03],\n",
       "       [2.00241533e-03, 6.80069528e-02, 5.14100828e-02, 4.85092959e-02,\n",
       "        1.20583848e-02, 3.75960296e-03, 1.26295782e-01, 2.24584363e-03,\n",
       "        3.27716662e-02, 9.47473863e-02],\n",
       "       [2.83067822e-04, 1.91282783e-02, 2.81228254e-01, 3.93045504e-02,\n",
       "        1.16582358e-01, 6.93605255e-04, 1.72357163e-02, 2.15950350e-04,\n",
       "        5.21689764e-03, 1.03831948e-01],\n",
       "       [6.63137752e-05, 4.08032834e-04, 1.02183313e-01, 1.23397056e-02,\n",
       "        2.04366641e-02, 1.57241249e-04, 7.15250605e-01, 3.37538619e-04,\n",
       "        5.90299080e-03, 2.56185063e-03],\n",
       "       [5.30629286e-01, 4.02318002e-02, 1.17920407e-03, 5.62774039e-03,\n",
       "        1.74668722e-03, 9.49676547e-01, 9.14787748e-03, 3.18348032e-04,\n",
       "        2.96452972e-03, 1.64047915e-01],\n",
       "       [1.62327884e-01, 1.81566001e-02, 6.09310055e-02, 5.26009554e-01,\n",
       "        3.78857730e-01, 1.23480543e-02, 2.82792089e-02, 1.55182269e-02,\n",
       "        1.62265807e-01, 8.79516420e-02],\n",
       "       [1.01611003e-01, 8.35464809e-01, 4.77715149e-02, 8.97012116e-02,\n",
       "        2.74755501e-02, 3.25764109e-02, 1.88061880e-02, 1.55696569e-03,\n",
       "        1.24741858e-02, 5.25889428e-01]])"
      ]
     },
     "execution_count": 24,
     "metadata": {},
     "output_type": "execute_result"
    }
   ],
   "source": [
    "Y_predict"
   ]
  },
  {
   "cell_type": "code",
   "execution_count": 25,
   "metadata": {},
   "outputs": [
    {
     "name": "stdout",
     "output_type": "stream",
     "text": [
      "[7 9 3 8 8 7 6 1 1 9]\n",
      "[3 9 5 8 5 7 6 1 1 3]\n"
     ]
    }
   ],
   "source": [
    "print(decode_one_hot(Y_predict, Y[0:number_train_points]))\n",
    "print(Y[number_train_points:number_train_points + 10])"
   ]
  },
  {
   "cell_type": "code",
   "execution_count": 28,
   "metadata": {},
   "outputs": [
    {
     "data": {
      "text/plain": [
       "<matplotlib.image.AxesImage at 0x2b485e03ee0>"
      ]
     },
     "execution_count": 28,
     "metadata": {},
     "output_type": "execute_result"
    },
    {
     "data": {
      "image/png": "[encoded data removed]",
      "text/plain": [
       "<Figure size 640x480 with 1 Axes>"
      ]
     },
     "metadata": {},
     "output_type": "display_data"
    }
   ],
   "source": [
    "list_X_test = X[number_train_points:number_train_points + 10]\n",
    "X_test_1 = list_X_test[-1]\n",
    "\n",
    "plt.imshow(X_test_1)\n"
   ]
  },
  {
   "cell_type": "code",
   "execution_count": 29,
   "metadata": {},
   "outputs": [
    {
     "data": {
      "text/plain": [
       "<matplotlib.image.AxesImage at 0x2b485e7f1f0>"
      ]
     },
     "execution_count": 29,
     "metadata": {},
     "output_type": "execute_result"
    },
    {
     "data": {
      "image/png": "[encoded data removed]",
      "text/plain": [
       "<Figure size 640x480 with 1 Axes>"
      ]
     },
     "metadata": {},
     "output_type": "display_data"
    }
   ],
   "source": [
    "Zk_1_m1 = convolution(X_test_1, params[\"K_11\"], bias=params[\"bk_11\"])\n",
    "plt.imshow(Zk_1_m1)"
   ]
  },
  {
   "cell_type": "code",
   "execution_count": 30,
   "metadata": {},
   "outputs": [
    {
     "data": {
      "text/plain": [
       "<matplotlib.image.AxesImage at 0x2b485ee9040>"
      ]
     },
     "execution_count": 30,
     "metadata": {},
     "output_type": "execute_result"
    },
    {
     "data": {
      "image/png": "[encoded data removed]",
      "text/plain": [
       "<Figure size 640x480 with 1 Axes>"
      ]
     },
     "metadata": {},
     "output_type": "display_data"
    }
   ],
   "source": [
    "Zk_1_m2 = convolution(X_test_1, params[\"K_12\"], bias=params[\"bk_12\"])\n",
    "plt.imshow(Zk_1_m2)"
   ]
  },
  {
   "cell_type": "code",
   "execution_count": 31,
   "metadata": {},
   "outputs": [
    {
     "data": {
      "text/plain": [
       "<matplotlib.image.AxesImage at 0x2b4860c27c0>"
      ]
     },
     "execution_count": 31,
     "metadata": {},
     "output_type": "execute_result"
    },
    {
     "data": {
      "image/png": "[encoded data removed]",
      "text/plain": [
       "<Figure size 640x480 with 1 Axes>"
      ]
     },
     "metadata": {},
     "output_type": "display_data"
    }
   ],
   "source": [
    "C_1_m1 = ReLU(Zk_1_m1)\n",
    "plt.imshow(C_1_m1)"
   ]
  },
  {
   "cell_type": "code",
   "execution_count": 32,
   "metadata": {},
   "outputs": [
    {
     "data": {
      "text/plain": [
       "<matplotlib.image.AxesImage at 0x2b485fb1eb0>"
      ]
     },
     "execution_count": 32,
     "metadata": {},
     "output_type": "execute_result"
    },
    {
     "data": {
      "image/png": "[encoded data removed]",
      "text/plain": [
       "<Figure size 640x480 with 1 Axes>"
      ]
     },
     "metadata": {},
     "output_type": "display_data"
    }
   ],
   "source": [
    "C_1_m2 = ReLU(Zk_1_m2)\n",
    "plt.imshow(C_1_m2)"
   ]
  },
  {
   "cell_type": "code",
   "execution_count": 33,
   "metadata": {},
   "outputs": [
    {
     "data": {
      "text/plain": [
       "<matplotlib.image.AxesImage at 0x2b48602a0d0>"
      ]
     },
     "execution_count": 33,
     "metadata": {},
     "output_type": "execute_result"
    },
    {
     "data": {
      "image/png": "[encoded data removed]",
      "text/plain": [
       "<Figure size 640x480 with 1 Axes>"
      ]
     },
     "metadata": {},
     "output_type": "display_data"
    }
   ],
   "source": [
    "P_1_m1 = pooling(C_1_m1, (2, 2), stride=2)\n",
    "plt.imshow(P_1_m1)"
   ]
  },
  {
   "cell_type": "code",
   "execution_count": 34,
   "metadata": {},
   "outputs": [
    {
     "data": {
      "text/plain": [
       "<matplotlib.image.AxesImage at 0x2b48608ce20>"
      ]
     },
     "execution_count": 34,
     "metadata": {},
     "output_type": "execute_result"
    },
    {
     "data": {
      "image/png": "[encoded data removed]",
      "text/plain": [
       "<Figure size 640x480 with 1 Axes>"
      ]
     },
     "metadata": {},
     "output_type": "display_data"
    }
   ],
   "source": [
    "P_1_m2 = pooling(C_1_m2, (2, 2), stride=2)\n",
    "plt.imshow(P_1_m2)"
   ]
  },
  {
   "cell_type": "code",
   "execution_count": 35,
   "metadata": {},
   "outputs": [],
   "source": [
    "P_1 = np.zeros((12, 12, 2))\n",
    "P_1[:,:,0] = P_1_m1\n",
    "P_1[:,:,1] = P_1_m2"
   ]
  },
  {
   "cell_type": "code",
   "execution_count": 36,
   "metadata": {},
   "outputs": [
    {
     "data": {
      "text/plain": [
       "<matplotlib.image.AxesImage at 0x2b48628d1c0>"
      ]
     },
     "execution_count": 36,
     "metadata": {},
     "output_type": "execute_result"
    },
    {
     "data": {
      "image/png": "[encoded data removed]",
      "text/plain": [
       "<Figure size 640x480 with 1 Axes>"
      ]
     },
     "metadata": {},
     "output_type": "display_data"
    }
   ],
   "source": [
    "Zk_2_m1 = convolution(P_1, params[\"K_21\"], bias=params[\"bk_21\"])\n",
    "plt.imshow(Zk_2_m1)"
   ]
  },
  {
   "cell_type": "code",
   "execution_count": 37,
   "metadata": {},
   "outputs": [
    {
     "data": {
      "text/plain": [
       "<matplotlib.image.AxesImage at 0x2b48616cee0>"
      ]
     },
     "execution_count": 37,
     "metadata": {},
     "output_type": "execute_result"
    },
    {
     "data": {
      "image/png": "[encoded data removed]",
      "text/plain": [
       "<Figure size 640x480 with 1 Axes>"
      ]
     },
     "metadata": {},
     "output_type": "display_data"
    }
   ],
   "source": [
    "Zk_2_m2 = convolution(P_1, params[\"K_22\"], bias=params[\"bk_22\"])\n",
    "plt.imshow(Zk_2_m2)"
   ]
  },
  {
   "cell_type": "code",
   "execution_count": 38,
   "metadata": {},
   "outputs": [
    {
     "data": {
      "text/plain": [
       "<matplotlib.image.AxesImage at 0x2b4861d2790>"
      ]
     },
     "execution_count": 38,
     "metadata": {},
     "output_type": "execute_result"
    },
    {
     "data": {
      "image/png": "[encoded data removed]",
      "text/plain": [
       "<Figure size 640x480 with 1 Axes>"
      ]
     },
     "metadata": {},
     "output_type": "display_data"
    }
   ],
   "source": [
    "Zk_2_m3 = convolution(P_1, params[\"K_23\"], bias=params[\"bk_23\"])\n",
    "plt.imshow(Zk_2_m3)"
   ]
  },
  {
   "cell_type": "code",
   "execution_count": 39,
   "metadata": {},
   "outputs": [
    {
     "data": {
      "text/plain": [
       "<matplotlib.image.AxesImage at 0x2b48624e910>"
      ]
     },
     "execution_count": 39,
     "metadata": {},
     "output_type": "execute_result"
    },
    {
     "data": {
      "image/png": "[encoded data removed]",
      "text/plain": [
       "<Figure size 640x480 with 1 Axes>"
      ]
     },
     "metadata": {},
     "output_type": "display_data"
    }
   ],
   "source": [
    "Zk_2_m4 = convolution(P_1, params[\"K_24\"], bias=params[\"bk_24\"])\n",
    "plt.imshow(Zk_2_m4)"
   ]
  },
  {
   "cell_type": "code",
   "execution_count": 40,
   "metadata": {},
   "outputs": [],
   "source": [
    "Zk_2 = np.zeros((10, 10, 4))\n",
    "Zk_2[:,:,0] = Zk_2_m1\n",
    "Zk_2[:,:,1] = Zk_2_m2\n",
    "Zk_2[:,:,2] = Zk_2_m3\n",
    "Zk_2[:,:,3] = Zk_2_m4"
   ]
  },
  {
   "cell_type": "code",
   "execution_count": 41,
   "metadata": {},
   "outputs": [],
   "source": [
    "C_2 = Sigmoid(Zk_2)"
   ]
  },
  {
   "cell_type": "code",
   "execution_count": 42,
   "metadata": {},
   "outputs": [
    {
     "data": {
      "text/plain": [
       "<matplotlib.image.AxesImage at 0x2b4862f4cd0>"
      ]
     },
     "execution_count": 42,
     "metadata": {},
     "output_type": "execute_result"
    },
    {
     "data": {
      "image/png": "[encoded data removed]",
      "text/plain": [
       "<Figure size 640x480 with 1 Axes>"
      ]
     },
     "metadata": {},
     "output_type": "display_data"
    }
   ],
   "source": [
    "plt.imshow(C_2[:,:,0])\n"
   ]
  },
  {
   "cell_type": "code",
   "execution_count": 43,
   "metadata": {},
   "outputs": [
    {
     "data": {
      "text/plain": [
       "<matplotlib.image.AxesImage at 0x2b4864a1820>"
      ]
     },
     "execution_count": 43,
     "metadata": {},
     "output_type": "execute_result"
    },
    {
     "data": {
      "image/png": "[encoded data removed]",
      "text/plain": [
       "<Figure size 640x480 with 1 Axes>"
      ]
     },
     "metadata": {},
     "output_type": "display_data"
    }
   ],
   "source": [
    "plt.imshow(C_2[:,:,1])\n"
   ]
  },
  {
   "cell_type": "code",
   "execution_count": 44,
   "metadata": {},
   "outputs": [
    {
     "data": {
      "text/plain": [
       "<matplotlib.image.AxesImage at 0x2b486389880>"
      ]
     },
     "execution_count": 44,
     "metadata": {},
     "output_type": "execute_result"
    },
    {
     "data": {
      "image/png": "[encoded data removed]",
      "text/plain": [
       "<Figure size 640x480 with 1 Axes>"
      ]
     },
     "metadata": {},
     "output_type": "display_data"
    }
   ],
   "source": [
    "plt.imshow(C_2[:,:,2])\n"
   ]
  },
  {
   "cell_type": "code",
   "execution_count": 45,
   "metadata": {},
   "outputs": [
    {
     "data": {
      "text/plain": [
       "<matplotlib.image.AxesImage at 0x2b4863f9400>"
      ]
     },
     "execution_count": 45,
     "metadata": {},
     "output_type": "execute_result"
    },
    {
     "data": {
      "image/png": "[encoded data removed]",
      "text/plain": [
       "<Figure size 640x480 with 1 Axes>"
      ]
     },
     "metadata": {},
     "output_type": "display_data"
    }
   ],
   "source": [
    "plt.imshow(C_2[:,:,3])"
   ]
  },
  {
   "cell_type": "code",
   "execution_count": 46,
   "metadata": {},
   "outputs": [],
   "source": [
    "P_2 = pooling(C_2, (2, 2), stride=2)"
   ]
  },
  {
   "cell_type": "code",
   "execution_count": 47,
   "metadata": {},
   "outputs": [
    {
     "data": {
      "text/plain": [
       "<matplotlib.image.AxesImage at 0x2b486451af0>"
      ]
     },
     "execution_count": 47,
     "metadata": {},
     "output_type": "execute_result"
    },
    {
     "data": {
      "image/png": "[encoded data removed]",
      "text/plain": [
       "<Figure size 640x480 with 1 Axes>"
      ]
     },
     "metadata": {},
     "output_type": "display_data"
    }
   ],
   "source": [
    "plt.imshow(P_2[:,:,0])\n"
   ]
  },
  {
   "cell_type": "code",
   "execution_count": 48,
   "metadata": {},
   "outputs": [
    {
     "data": {
      "text/plain": [
       "<matplotlib.image.AxesImage at 0x2b4866531c0>"
      ]
     },
     "execution_count": 48,
     "metadata": {},
     "output_type": "execute_result"
    },
    {
     "data": {
      "image/png": "[encoded data removed]",
      "text/plain": [
       "<Figure size 640x480 with 1 Axes>"
      ]
     },
     "metadata": {},
     "output_type": "display_data"
    }
   ],
   "source": [
    "plt.imshow(P_2[:,:,1])\n"
   ]
  },
  {
   "cell_type": "code",
   "execution_count": 49,
   "metadata": {},
   "outputs": [
    {
     "data": {
      "text/plain": [
       "<matplotlib.image.AxesImage at 0x2b48653d2b0>"
      ]
     },
     "execution_count": 49,
     "metadata": {},
     "output_type": "execute_result"
    },
    {
     "data": {
      "image/png": "[encoded data removed]",
      "text/plain": [
       "<Figure size 640x480 with 1 Axes>"
      ]
     },
     "metadata": {},
     "output_type": "display_data"
    }
   ],
   "source": [
    "plt.imshow(P_2[:,:,2])\n"
   ]
  },
  {
   "cell_type": "code",
   "execution_count": 50,
   "metadata": {},
   "outputs": [
    {
     "data": {
      "text/plain": [
       "<matplotlib.image.AxesImage at 0x2b4865a18b0>"
      ]
     },
     "execution_count": 50,
     "metadata": {},
     "output_type": "execute_result"
    },
    {
     "data": {
      "image/png": "[encoded data removed]",
      "text/plain": [
       "<Figure size 640x480 with 1 Axes>"
      ]
     },
     "metadata": {},
     "output_type": "display_data"
    }
   ],
   "source": [
    "plt.imshow(P_2[:,:,3])"
   ]
  },
  {
   "cell_type": "code",
   "execution_count": null,
   "metadata": {},
   "outputs": [],
   "source": []
  }
 ],
 "metadata": {
  "kernelspec": {
   "display_name": "venv_py_39",
   "language": "python",
   "name": "python3"
  },
  "language_info": {
   "codemirror_mode": {
    "name": "ipython",
    "version": 3
   },
   "file_extension": ".py",
   "mimetype": "text/x-python",
   "name": "python",
   "nbconvert_exporter": "python",
   "pygments_lexer": "ipython3",
   "version": "3.9.7"
  }
 },
 "nbformat": 4,
 "nbformat_minor": 2
}
