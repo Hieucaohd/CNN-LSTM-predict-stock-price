{
 "cells": [
  {
   "cell_type": "code",
   "execution_count": 1,
   "metadata": {},
   "outputs": [],
   "source": [
    "import tensorflow as tf\n",
    "from tensorflow.keras.datasets import mnist\n",
    "import matplotlib.pyplot as plt\n",
    "import numpy as np\n",
    "from typing import Union, Literal"
   ]
  },
  {
   "cell_type": "code",
   "execution_count": 2,
   "metadata": {},
   "outputs": [],
   "source": [
    "from utils_cnn import (\n",
    "    convolution,\n",
    "    pooling_one_point,\n",
    "    init_kernel,\n",
    "    init_bias_kernel,\n",
    "    convolution_multiple_kernel,\n",
    "    ReLU,\n",
    "    init_weights,\n",
    "    init_bias,\n",
    "    softmax,\n",
    "    one_hot,\n",
    "    cross_entropy_loss,\n",
    "    calculate_cross_entropy_loss_without_softmax_value,\n",
    "    add_padding_multiple_point,\n",
    "    add_dilation_multiple_point,\n",
    "    decode_one_hot,\n",
    "    Sigmoid,\n",
    "    split_chunk_X_Y,\n",
    "    convolution_multiple_kernel_multiple_point,\n",
    "    pooling_multiple_point,\n",
    ")\n",
    "\n",
    "from derivative_cnn import (\n",
    "    derivative_ReLU,\n",
    "    derivative_for_filter_one_point,\n",
    "    derivative_layer_before_max_pooling_for_multiple_point,\n",
    "    derivative_for_filter_multiple_point,\n",
    "    derivative_for_bias_kernel_multiple_point,\n",
    "    derivative_layer_input_convolution_multiple_point,\n",
    "    derivative_Sigmoid,\n",
    ")"
   ]
  },
  {
   "cell_type": "code",
   "execution_count": 3,
   "metadata": {},
   "outputs": [
    {
     "name": "stdout",
     "output_type": "stream",
     "text": [
      "Training data shape: (60000, 28, 28)\n",
      "Testing data shape: (10000, 28, 28)\n"
     ]
    }
   ],
   "source": [
    "# Tải xuống dataset MNIST\n",
    "(X, Y), (X_test, Y_test) = mnist.load_data()\n",
    "\n",
    "# Kiểm tra kích thước của dữ liệu\n",
    "print(\"Training data shape:\", X.shape)  # (60000, 28, 28)\n",
    "print(\"Testing data shape:\", X_test.shape)    # (10000, 28, 28)"
   ]
  },
  {
   "cell_type": "code",
   "execution_count": 4,
   "metadata": {},
   "outputs": [
    {
     "data": {
      "text/plain": [
       "60000"
      ]
     },
     "execution_count": 4,
     "metadata": {},
     "output_type": "execute_result"
    }
   ],
   "source": [
    "len(X)"
   ]
  },
  {
   "cell_type": "code",
   "execution_count": 5,
   "metadata": {},
   "outputs": [
    {
     "data": {
      "text/plain": [
       "<matplotlib.image.AxesImage at 0x2723275e8b0>"
      ]
     },
     "execution_count": 5,
     "metadata": {},
     "output_type": "execute_result"
    },
    {
     "data": {
      "image/png": "[encoded data removed]",
      "text/plain": [
       "<Figure size 640x480 with 1 Axes>"
      ]
     },
     "metadata": {},
     "output_type": "display_data"
    }
   ],
   "source": [
    "plt.imshow(X[0])"
   ]
  },
  {
   "cell_type": "code",
   "execution_count": 6,
   "metadata": {},
   "outputs": [
    {
     "data": {
      "text/plain": [
       "5"
      ]
     },
     "execution_count": 6,
     "metadata": {},
     "output_type": "execute_result"
    }
   ],
   "source": [
    "Y[0]"
   ]
  },
  {
   "cell_type": "code",
   "execution_count": 7,
   "metadata": {},
   "outputs": [],
   "source": [
    "def reshape_list_X(list_X: Union[list[np.ndarray], np.ndarray]):\n",
    "    N = len(list_X)\n",
    "    list_P_0 = list_X\n",
    "    \n",
    "    if (type(list_X) == list and len(list_X[0].shape) == 3) or len(list_X.shape) == 4:\n",
    "        pass\n",
    "    elif type(list_X) == np.ndarray and len(list_X.shape) == 3:\n",
    "        first_X = list_X[0]\n",
    "        X_number_row = first_X.shape[0]\n",
    "        X_number_col = first_X.shape[1]\n",
    "        list_P_0 = list_X.reshape([N, X_number_row, X_number_col, 1])\n",
    "    \n",
    "    return list_P_0\n",
    "\n"
   ]
  },
  {
   "cell_type": "code",
   "execution_count": 8,
   "metadata": {},
   "outputs": [],
   "source": [
    "def forward(\n",
    "    mode: Literal[\"train\", \"predict\"],\n",
    "\n",
    "    list_P_0,\n",
    "    \n",
    "    K_11,\n",
    "    K_12,\n",
    "    bk_11,\n",
    "    bk_12,\n",
    "    sk_1,\n",
    "    sp_1,\n",
    "    size_pool_1,\n",
    "    \n",
    "    Zk_1_size,\n",
    "    C_1_size,\n",
    "    P_1_size,\n",
    "    \n",
    "    K_21,\n",
    "    K_22,\n",
    "    K_23,\n",
    "    K_24,\n",
    "    bk_21,\n",
    "    bk_22,\n",
    "    bk_23,\n",
    "    bk_24,\n",
    "    sk_2,\n",
    "    sp_2,\n",
    "    size_pool_2,\n",
    "\n",
    "    Zk_2_size,\n",
    "    C_2_size,\n",
    "    P_2_size,\n",
    "    \n",
    "    W_1,\n",
    "    b_1,\n",
    "    \n",
    "    W_2,\n",
    "    b_2,\n",
    "    \n",
    "    W_3,\n",
    "    b_3,\n",
    "    \n",
    "    Y=None):\n",
    "        \n",
    "        N = len(list_P_0)\n",
    "        \n",
    "        A_0 = np.zeros((np.prod(P_2_size), N))\n",
    "            \n",
    "        list_Zk_1 = convolution_multiple_kernel_multiple_point(list_P_0, (K_11, K_12), (bk_11, bk_12), sk_1)\n",
    "        list_C_1 = ReLU(list_Zk_1)\n",
    "        list_P_1 = pooling_multiple_point(list_C_1, size_pool_1, stride=sp_1)\n",
    "        \n",
    "        list_Zk_2 = convolution_multiple_kernel_multiple_point(list_P_1, (K_21, K_22, K_23, K_24), (bk_21, bk_22, bk_23, bk_24), sk_2)\n",
    "        list_C_2 = Sigmoid(list_Zk_2)\n",
    "        list_P_2 = pooling_multiple_point(list_C_2, size_pool_2, stride=sp_2)\n",
    "        \n",
    "        A_0 = list_P_2.flatten(order=\"C\").reshape((np.prod(P_2_size), N), order=\"F\")\n",
    "        \n",
    "        # Calculate for fully connected layers\n",
    "        Z_1 = W_1.T.dot(A_0) + b_1\n",
    "        A_1 = ReLU(Z_1)\n",
    "        \n",
    "        Z_2 = W_2.T.dot(A_1) + b_2\n",
    "        A_2 = ReLU(Z_2)\n",
    "        \n",
    "        Z_3 = W_3.T.dot(A_2) + b_3\n",
    "        A_3 = softmax(Z_3) # This is prediction output\n",
    "        \n",
    "        # calculate loss value by cross entropy\n",
    "        loss = 0\n",
    "        if mode == \"train\":\n",
    "            loss = calculate_cross_entropy_loss_without_softmax_value(Y, Z_3)\n",
    "        \n",
    "        return {\n",
    "            \"list_Zk_1\": list_Zk_1,\n",
    "            \"list_C_1\": list_C_1,\n",
    "            \"list_P_1\": list_P_1,\n",
    "            \n",
    "            \"list_Zk_2\": list_Zk_2,\n",
    "            \"list_C_2\": list_C_2,\n",
    "            \"list_P_2\": list_P_2,\n",
    "\n",
    "            \"A_0\": A_0,\n",
    "            \n",
    "            \"Z_1\": Z_1,\n",
    "            \"A_1\": A_1,\n",
    "                    \n",
    "            \"Z_2\": Z_2,\n",
    "            \"A_2\": A_2,\n",
    "            \n",
    "            \"Z_3\": Z_3,\n",
    "            \"A_3\": A_3,\n",
    "            \n",
    "            \"loss\": loss,\n",
    "        }"
   ]
  },
  {
   "cell_type": "code",
   "execution_count": 9,
   "metadata": {},
   "outputs": [],
   "source": [
    "def backpropagation(\n",
    "    settings,\n",
    "    \n",
    "    list_P_0,\n",
    "            \n",
    "    K_11,\n",
    "    K_12,\n",
    "    bk_11,\n",
    "    bk_12,\n",
    "    sk_1,\n",
    "    sp_1,\n",
    "    size_pool_1,\n",
    "    \n",
    "    Zk_1_size,\n",
    "    C_1_size,\n",
    "    P_1_size,\n",
    "    \n",
    "    K_21,\n",
    "    K_22,\n",
    "    K_23,\n",
    "    K_24,\n",
    "    bk_21,\n",
    "    bk_22,\n",
    "    bk_23,\n",
    "    bk_24,\n",
    "    sk_2,\n",
    "    sp_2,\n",
    "    size_pool_2,\n",
    "    \n",
    "    Zk_2_size,\n",
    "    C_2_size,\n",
    "    P_2_size,\n",
    "    \n",
    "    W_1,\n",
    "    b_1,\n",
    "    \n",
    "    W_2,\n",
    "    b_2,\n",
    "    \n",
    "    W_3,\n",
    "    b_3,\n",
    "    \n",
    "    Y\n",
    "):\n",
    "    \"\"\"\n",
    "    The derivative in this function can be proved in file: ./derivative_in_convolution 1.xlsx\n",
    "    \"\"\"\n",
    "    for i in range(settings[\"epochs\"]):\n",
    "        output_forward = forward(\n",
    "            \"train\",\n",
    "            \n",
    "            list_P_0,\n",
    "            \n",
    "            K_11,\n",
    "            K_12,\n",
    "            bk_11,\n",
    "            bk_12,\n",
    "            sk_1,\n",
    "            sp_1,\n",
    "            size_pool_1,\n",
    "            \n",
    "            Zk_1_size,\n",
    "            C_1_size,\n",
    "            P_1_size,\n",
    "            \n",
    "            K_21,\n",
    "            K_22,\n",
    "            K_23,\n",
    "            K_24,\n",
    "            bk_21,\n",
    "            bk_22,\n",
    "            bk_23,\n",
    "            bk_24,\n",
    "            sk_2,\n",
    "            sp_2,\n",
    "            size_pool_2,\n",
    "            \n",
    "            Zk_2_size,\n",
    "            C_2_size,\n",
    "            P_2_size,\n",
    "            \n",
    "            W_1,\n",
    "            b_1,\n",
    "            W_2,\n",
    "            b_2,\n",
    "            W_3,\n",
    "            b_3,\n",
    "            \n",
    "            Y\n",
    "        )\n",
    "        \n",
    "        \n",
    "        list_Zk_1 = output_forward[\"list_Zk_1\"] \n",
    "        list_C_1 = output_forward[\"list_C_1\"] \n",
    "        list_P_1 = output_forward[\"list_P_1\"] \n",
    "        \n",
    "        list_Zk_2 = output_forward[\"list_Zk_2\"] \n",
    "        list_C_2 = output_forward[\"list_C_2\"] \n",
    "        list_P_2 = output_forward[\"list_P_2\"] \n",
    "        \n",
    "        A_0 = output_forward[\"A_0\"] \n",
    "        \n",
    "        Z_1 = output_forward[\"Z_1\"] \n",
    "        A_1 = output_forward[\"A_1\"] \n",
    "       \n",
    "        Z_2 = output_forward[\"Z_2\"] \n",
    "        A_2 = output_forward[\"A_2\"] \n",
    "        \n",
    "        Z_3 = output_forward[\"Z_3\"] \n",
    "        A_3 = output_forward[\"A_3\"] \n",
    "       \n",
    "        loss = output_forward[\"loss\"] \n",
    "        \n",
    "        \n",
    "        N = len(list_P_0)\n",
    "        print(f\"loop = {i}, loss = {loss}\")\n",
    "        \n",
    "        # Backpropagation for fully connected layers\n",
    "    \n",
    "        E_3 = 1/N * (A_3 - Y)\n",
    "        dL_dW_3 = A_2.dot(E_3.T)\n",
    "        dL_db_3 = np.sum(E_3, axis=1, keepdims=True)\n",
    "        \n",
    "        E_2 = W_3.dot(E_3) * derivative_ReLU(Z_2)\n",
    "        dL_dW_2 = A_1.dot(E_2.T)\n",
    "        dL_db_2 = np.sum(E_2, axis=1, keepdims=True)\n",
    "        \n",
    "        E_1 = W_2.dot(E_2) * derivative_ReLU(Z_1)\n",
    "        dL_dW_1 = A_0.dot(E_1.T)\n",
    "        dL_db_1 = np.sum(E_1, axis=1, keepdims=True)\n",
    "        \n",
    "        # Backpropagation for kernel layers\n",
    "        \n",
    "        # Number of rows in dL_dP_2 = number of columns in dL_dA_0 = N\n",
    "        # We loop through the columns of dL_dA_0 (respectively for each point data in X) and reshape it to size of P_2 and set that value in dL_dP_2\n",
    "        dL_dA_0: np.ndarray = W_1.dot(E_1)\n",
    "            \n",
    "        list_dL_dP_2 = dL_dA_0.T.reshape([N] + P_2_size, order=\"C\")\n",
    "\n",
    "        list_dL_dC_2 = derivative_layer_before_max_pooling_for_multiple_point(list_C_2, list_P_2, list_dL_dP_2, size_pool_2, sp_2)\n",
    "        list_dL_dZk_2 = list_dL_dC_2 * derivative_Sigmoid(list_Zk_2)\n",
    "        \n",
    "        dL_dK_21 = derivative_for_filter_multiple_point(list_P_1, list_dL_dZk_2[:, :, :, 0], K_21.shape, sk_2)\n",
    "        dL_dK_22 = derivative_for_filter_multiple_point(list_P_1, list_dL_dZk_2[:, :, :, 1], K_22.shape, sk_2)\n",
    "        dL_dK_23 = derivative_for_filter_multiple_point(list_P_1, list_dL_dZk_2[:, :, :, 2], K_23.shape, sk_2)\n",
    "        dL_dK_24 = derivative_for_filter_multiple_point(list_P_1, list_dL_dZk_2[:, :, :, 3], K_24.shape, sk_2)\n",
    "        \n",
    "        dL_dbk_21 = derivative_for_bias_kernel_multiple_point(list_dL_dZk_2[:, :, :, 0])\n",
    "        dL_dbk_22 = derivative_for_bias_kernel_multiple_point(list_dL_dZk_2[:, :, :, 1])\n",
    "        dL_dbk_23 = derivative_for_bias_kernel_multiple_point(list_dL_dZk_2[:, :, :, 2])\n",
    "        dL_dbk_24 = derivative_for_bias_kernel_multiple_point(list_dL_dZk_2[:, :, :, 3])\n",
    "        \n",
    "        list_dL_dP_1 = derivative_layer_input_convolution_multiple_point(list_P_1, [K_21, K_22, K_23, K_24], list_dL_dZk_2)\n",
    "        list_dL_dC_1 = derivative_layer_before_max_pooling_for_multiple_point(list_C_1, list_P_1, list_dL_dP_1, size_pool_1, sp_1)\n",
    "        list_dL_dZk_1 = list_dL_dC_1 * derivative_ReLU(list_Zk_1)\n",
    "        \n",
    "        dL_dK_11 = derivative_for_filter_multiple_point(list_P_0, list_dL_dZk_1[:, :, :, 0], K_11.shape, sk_1)\n",
    "        dL_dK_12 = derivative_for_filter_multiple_point(list_P_0, list_dL_dZk_1[:, :, :, 1], K_12.shape, sk_1)\n",
    "        \n",
    "        dL_dbk_11 = derivative_for_bias_kernel_multiple_point(list_dL_dZk_1[:, :, :, 0])\n",
    "        dL_dbk_12 = derivative_for_bias_kernel_multiple_point(list_dL_dZk_1[:, :, :, 1])\n",
    "        \n",
    "        W_3 = W_3 - settings[\"learning_rate\"]*dL_dW_3\n",
    "        b_3 = b_3 - settings[\"learning_rate\"]*dL_db_3\n",
    "        \n",
    "        W_2 = W_2 - settings[\"learning_rate\"]*dL_dW_2\n",
    "        b_2 = b_2 - settings[\"learning_rate\"]*dL_db_2\n",
    "        \n",
    "        W_1 = W_1 - settings[\"learning_rate\"]*dL_dW_1\n",
    "        b_1 = b_1 - settings[\"learning_rate\"]*dL_db_1\n",
    "        \n",
    "        K_21 = K_21 - settings[\"learning_rate\"]*dL_dK_21\n",
    "        K_22 = K_22 - settings[\"learning_rate\"]*dL_dK_22\n",
    "        K_23 = K_23 - settings[\"learning_rate\"]*dL_dK_23\n",
    "        K_24 = K_24 - settings[\"learning_rate\"]*dL_dK_24\n",
    "        \n",
    "        bk_21 = bk_21 - settings[\"learning_rate\"]*dL_dbk_21\n",
    "        bk_22 = bk_22 - settings[\"learning_rate\"]*dL_dbk_22\n",
    "        bk_23 = bk_23 - settings[\"learning_rate\"]*dL_dbk_23\n",
    "        bk_24 = bk_24 - settings[\"learning_rate\"]*dL_dbk_24\n",
    "        \n",
    "        K_11 = K_11 - settings[\"learning_rate\"]*dL_dK_11\n",
    "        K_12 = K_12 - settings[\"learning_rate\"]*dL_dK_12\n",
    "        \n",
    "        bk_11 = bk_11 - settings[\"learning_rate\"]*dL_dbk_11\n",
    "        bk_12 = bk_12 - settings[\"learning_rate\"]*dL_dbk_12\n",
    "    \n",
    "    return {\n",
    "        \"K_11\": K_11,\n",
    "        \"K_12\": K_12,\n",
    "        \n",
    "        \"bk_11\": bk_11,\n",
    "        \"bk_12\": bk_12,\n",
    "        \n",
    "        \"K_21\": K_21,\n",
    "        \"K_22\": K_22,\n",
    "        \"K_23\": K_23,\n",
    "        \"K_24\": K_24,\n",
    "        \n",
    "        \"bk_21\": bk_21,\n",
    "        \"bk_22\": bk_22,\n",
    "        \"bk_23\": bk_23,\n",
    "        \"bk_24\": bk_24,\n",
    "        \n",
    "        \"W_1\": W_1,\n",
    "        \"b_1\": b_1,\n",
    "\n",
    "        \"W_2\": W_2,\n",
    "        \"b_2\": b_2,\n",
    "\n",
    "        \"W_3\": W_3,\n",
    "        \"b_3\": b_3,\n",
    "    }"
   ]
  },
  {
   "cell_type": "code",
   "execution_count": 10,
   "metadata": {},
   "outputs": [],
   "source": [
    "def forward_and_train_cnn(\n",
    "    list_X: Union[list[np.ndarray], np.ndarray], \n",
    "    Y: np.ndarray, \n",
    "    learning_rate: float, \n",
    "    epochs: int,\n",
    "    chunk_size: int = 300):\n",
    "    \"\"\"\n",
    "    \n",
    "    \"\"\"\n",
    "    \n",
    "    list_P_0 = reshape_list_X(list_X)\n",
    "\n",
    "    # Init value for convolution layers\n",
    "    K_11 = init_kernel((5, 5, 1)) # Kernel 11 \n",
    "    K_12 = init_kernel((5, 5, 1)) # Kernel 12\n",
    "    bk_11 = init_bias_kernel() # Bias kernel 11\n",
    "    bk_12 = init_bias_kernel() # Bias kernel 12\n",
    "    sk_1 = 1 # Stride kernel 1\n",
    "    sp_1 = 2 # Stride pool 1\n",
    "    size_pool_1 = (2, 2) # Size of pooling 1\n",
    "    \n",
    "    K_21 = init_kernel((3, 3, 2)) # Kernel 21\n",
    "    K_22 = init_kernel((3, 3, 2)) # Kernel 22\n",
    "    K_23 = init_kernel((3, 3, 2)) # Kernel 23 \n",
    "    K_24 = init_kernel((3, 3, 2)) # Kernel 24\n",
    "    bk_21 = init_bias_kernel() # Bias kernel 21\n",
    "    bk_22 = init_bias_kernel() # Bias kernel 22\n",
    "    bk_23 = init_bias_kernel() # Bias kernel 23\n",
    "    bk_24 = init_bias_kernel() # Bias kernel 24\n",
    "    sk_2 = 1 # Stride kernel 2\n",
    "    sp_2 = 2 # Stride pool 2\n",
    "    size_pool_2 = (2, 2) # Size of pooling 1\n",
    "    \n",
    "    Zk_1_size = [24, 24, 2]\n",
    "    C_1_size = [24, 24, 2]\n",
    "    P_1_size = [12, 12, 2]\n",
    "    \n",
    "    Zk_2_size = [10, 10, 4]\n",
    "    C_2_size = [10, 10, 4]\n",
    "    P_2_size = [5, 5, 4]\n",
    "    \n",
    "    # Init value for fully connected layers\n",
    "    number_nn_layer_1 = 100\n",
    "    W_1 = init_weights((np.prod(P_2_size), number_nn_layer_1))\n",
    "    b_1 = init_bias((number_nn_layer_1, 1))\n",
    "    \n",
    "    number_nn_layer_2 = 100\n",
    "    W_2 = init_weights((number_nn_layer_1, number_nn_layer_2))\n",
    "    b_2 = init_bias((number_nn_layer_2, 1))\n",
    "    \n",
    "    number_nn_layer_3 = Y.shape[0] # Number of categories into which the data is classified.\n",
    "    W_3 = init_weights((number_nn_layer_2, number_nn_layer_3))\n",
    "    b_3 = init_bias((number_nn_layer_3, 1))\n",
    "    \n",
    "    chunk_count = 0  \n",
    "    for chunk_P_0, chunk_Y in split_chunk_X_Y(list_P_0, Y, chunk_size):\n",
    "        print(f\"Chunk {chunk_count}\")\n",
    "        chunk_count += 1\n",
    "        \n",
    "        # Backpropagation \n",
    "        params = backpropagation(\n",
    "            {\"epochs\": epochs, \"learning_rate\": learning_rate},\n",
    "            chunk_P_0,\n",
    "            \n",
    "            K_11,\n",
    "            K_12,\n",
    "            bk_11,\n",
    "            bk_12,\n",
    "            sk_1,\n",
    "            sp_1,\n",
    "            size_pool_1,\n",
    "            \n",
    "            Zk_1_size,\n",
    "            C_1_size,\n",
    "            P_1_size,\n",
    "            \n",
    "            K_21,\n",
    "            K_22,\n",
    "            K_23,\n",
    "            K_24,\n",
    "            bk_21,\n",
    "            bk_22,\n",
    "            bk_23,\n",
    "            bk_24,\n",
    "            sk_2,\n",
    "            sp_2,\n",
    "            size_pool_2,\n",
    "            \n",
    "            Zk_2_size,\n",
    "            C_2_size,\n",
    "            P_2_size,\n",
    "            \n",
    "            W_1,\n",
    "            b_1,\n",
    "            W_2,\n",
    "            b_2,\n",
    "            W_3,\n",
    "            b_3,\n",
    "            \n",
    "            chunk_Y\n",
    "        )\n",
    "    \n",
    "    \n",
    "\n",
    "    return {\n",
    "        \"params\": {\n",
    "            \"K_11\": params[\"K_11\"],\n",
    "            \"K_12\": params[\"K_12\"],\n",
    "            \n",
    "            \"bk_11\": params[\"bk_11\"],\n",
    "            \"bk_12\": params[\"bk_12\"],\n",
    "            \n",
    "            \"K_21\": params[\"K_21\"],\n",
    "            \"K_22\": params[\"K_22\"],\n",
    "            \"K_23\": params[\"K_23\"],\n",
    "            \"K_24\": params[\"K_24\"],\n",
    "            \n",
    "            \"bk_21\": params[\"bk_21\"],\n",
    "            \"bk_22\": params[\"bk_22\"],\n",
    "            \"bk_23\": params[\"bk_23\"],\n",
    "            \"bk_24\": params[\"bk_24\"],\n",
    "            \n",
    "            \"W_1\": params[\"W_1\"],\n",
    "            \"b_1\": params[\"b_1\"],\n",
    "\n",
    "            \"W_2\": params[\"W_2\"],\n",
    "            \"b_2\": params[\"b_2\"],\n",
    "\n",
    "            \"W_3\": params[\"W_3\"],\n",
    "            \"b_3\": params[\"b_3\"],\n",
    "        },\n",
    "        \"config_size\": {\n",
    "            \"sk_1\": sk_1,\n",
    "            \"sp_1\": sp_1,\n",
    "            \"size_pool_1\": size_pool_1,\n",
    "            \n",
    "            \"Zk_1_size\": Zk_1_size,\n",
    "            \"C_1_size\": C_1_size,\n",
    "            \"P_1_size\": P_1_size,\n",
    "            \"sk_2\": sk_2,\n",
    "            \"sp_2\": sp_2,\n",
    "            \"size_pool_2\": size_pool_2,\n",
    "            \n",
    "            \"Zk_2_size\": Zk_2_size,\n",
    "            \"C_2_size\": C_2_size,\n",
    "            \"P_2_size\": P_2_size,\n",
    "        }\n",
    "    }"
   ]
  },
  {
   "cell_type": "code",
   "execution_count": 58,
   "metadata": {},
   "outputs": [],
   "source": [
    "number_train_points = 300"
   ]
  },
  {
   "cell_type": "code",
   "execution_count": 60,
   "metadata": {},
   "outputs": [
    {
     "name": "stdout",
     "output_type": "stream",
     "text": [
      "Chunk 0\n",
      "loop = 0, loss = 2.733938783236278\n"
     ]
    },
    {
     "name": "stderr",
     "output_type": "stream",
     "text": [
      "d:\\code\\selenium\\data_analytics\\try_cnn\\utils_cnn.py:596: RuntimeWarning: overflow encountered in exp\n",
      "  return 1 / (1 + np.exp((-1) * X))\n"
     ]
    },
    {
     "name": "stdout",
     "output_type": "stream",
     "text": [
      "loop = 1, loss = 2.3497212602497553\n",
      "loop = 2, loss = 2.252548365076439\n",
      "loop = 3, loss = 2.198036114944879\n",
      "loop = 4, loss = 2.1467237932999303\n",
      "loop = 5, loss = 2.0778865618237923\n",
      "loop = 6, loss = 2.026306879207391\n",
      "loop = 7, loss = 1.982642223138723\n",
      "loop = 8, loss = 1.953517912622865\n",
      "loop = 9, loss = 1.887499524095271\n",
      "loop = 10, loss = 1.8568505396484656\n",
      "loop = 11, loss = 1.795939674299961\n",
      "loop = 12, loss = 1.7820051391993987\n",
      "loop = 13, loss = 1.7146806072376535\n",
      "loop = 14, loss = 1.6877136060461233\n",
      "loop = 15, loss = 1.6553965263614647\n",
      "loop = 16, loss = 1.5895870205065676\n",
      "loop = 17, loss = 1.5634537457512547\n",
      "loop = 18, loss = 1.5202222070980245\n",
      "loop = 19, loss = 1.4653258222156589\n",
      "loop = 20, loss = 1.4813014722770752\n",
      "loop = 21, loss = 1.40391591808454\n",
      "loop = 22, loss = 1.3573952959795952\n",
      "loop = 23, loss = 1.3300518220496507\n",
      "loop = 24, loss = 1.336399070090029\n",
      "loop = 25, loss = 1.2939065358469801\n",
      "loop = 26, loss = 1.330268061037658\n",
      "loop = 27, loss = 1.338692724975932\n",
      "loop = 28, loss = 1.3280773598214168\n",
      "loop = 29, loss = 1.3966169751488553\n",
      "loop = 30, loss = 1.3553614803156262\n",
      "loop = 31, loss = 1.2998401510938722\n",
      "loop = 32, loss = 1.2251857721791164\n",
      "loop = 33, loss = 1.2657195044361176\n",
      "loop = 34, loss = 1.151536134950231\n",
      "loop = 35, loss = 1.265074006878282\n",
      "loop = 36, loss = 1.1138341811423038\n",
      "loop = 37, loss = 1.033421951633175\n",
      "loop = 38, loss = 0.9872369283640793\n",
      "loop = 39, loss = 0.9963327897572669\n",
      "loop = 40, loss = 0.9735282844465833\n",
      "loop = 41, loss = 0.9817653364768502\n",
      "loop = 42, loss = 1.0515066902858026\n",
      "loop = 43, loss = 1.0237117783001974\n",
      "loop = 44, loss = 1.0619895261010117\n",
      "loop = 45, loss = 0.9232632732343701\n",
      "loop = 46, loss = 0.924853148839341\n",
      "loop = 47, loss = 0.9498914295378935\n",
      "loop = 48, loss = 0.9620693095619629\n",
      "loop = 49, loss = 0.9005078893548961\n",
      "loop = 50, loss = 0.8596421309359334\n",
      "loop = 51, loss = 0.830846797041231\n",
      "loop = 52, loss = 0.8398378301999764\n",
      "loop = 53, loss = 0.776114838784436\n",
      "loop = 54, loss = 0.7422794291706508\n",
      "loop = 55, loss = 0.7042078324696527\n",
      "loop = 56, loss = 0.7275752580222763\n",
      "loop = 57, loss = 0.6818549409072953\n",
      "loop = 58, loss = 0.716050299928786\n",
      "loop = 59, loss = 0.6892015743684918\n",
      "loop = 60, loss = 0.6943918709653728\n",
      "loop = 61, loss = 0.6311946615510913\n",
      "loop = 62, loss = 0.6225666848389247\n",
      "loop = 63, loss = 0.6025285502951296\n",
      "loop = 64, loss = 0.6196445703077644\n",
      "loop = 65, loss = 0.5675573875345468\n",
      "loop = 66, loss = 0.551919437325565\n",
      "loop = 67, loss = 0.5399172004749424\n",
      "loop = 68, loss = 0.5316062270225369\n",
      "loop = 69, loss = 0.5487741498903432\n",
      "loop = 70, loss = 0.5091324670382682\n",
      "loop = 71, loss = 0.5164705669591676\n",
      "loop = 72, loss = 0.5070044212972477\n",
      "loop = 73, loss = 0.48669022669895834\n",
      "loop = 74, loss = 0.4830589223355778\n",
      "loop = 75, loss = 0.46056511387351634\n",
      "loop = 76, loss = 0.4977099888442405\n",
      "loop = 77, loss = 0.574342548654607\n",
      "loop = 78, loss = 0.5598377709018079\n",
      "loop = 79, loss = 0.49944391616714906\n",
      "loop = 80, loss = 0.47320539285815416\n",
      "loop = 81, loss = 0.5265373085647048\n",
      "loop = 82, loss = 0.44738567775652277\n",
      "loop = 83, loss = 0.42030516435091897\n",
      "loop = 84, loss = 0.38855983470352534\n",
      "loop = 85, loss = 0.40069483320064897\n",
      "loop = 86, loss = 0.3653035227213116\n",
      "loop = 87, loss = 0.3513027524868416\n",
      "loop = 88, loss = 0.34965995219542495\n",
      "loop = 89, loss = 0.3354597232681321\n",
      "loop = 90, loss = 0.35614639223893413\n",
      "loop = 91, loss = 0.3420210428145994\n",
      "loop = 92, loss = 0.34413308595473774\n",
      "loop = 93, loss = 0.3368815264922116\n",
      "loop = 94, loss = 0.33204101354832194\n",
      "loop = 95, loss = 0.3185071438816622\n",
      "loop = 96, loss = 0.3245875735466318\n",
      "loop = 97, loss = 0.3002215005345451\n",
      "loop = 98, loss = 0.2877820431829965\n",
      "loop = 99, loss = 0.29136627510330043\n",
      "loop = 100, loss = 0.28853122226854133\n",
      "loop = 101, loss = 0.2784551741510367\n",
      "loop = 102, loss = 0.2662134694743294\n",
      "loop = 103, loss = 0.2684426976759479\n",
      "loop = 104, loss = 0.26830423851361884\n",
      "loop = 105, loss = 0.2543113768310272\n",
      "loop = 106, loss = 0.23678147268815386\n",
      "loop = 107, loss = 0.24002947596440807\n",
      "loop = 108, loss = 0.24075268484145693\n",
      "loop = 109, loss = 0.2840382973181967\n",
      "loop = 110, loss = 0.25046136396182533\n",
      "loop = 111, loss = 0.2667187397814004\n",
      "loop = 112, loss = 0.2580062012912133\n",
      "loop = 113, loss = 0.2558151696155819\n",
      "loop = 114, loss = 0.25802727678557585\n",
      "loop = 115, loss = 0.23423475158882665\n",
      "loop = 116, loss = 0.23534818634708124\n",
      "loop = 117, loss = 0.2307469887885152\n",
      "loop = 118, loss = 0.22960498579524988\n",
      "loop = 119, loss = 0.21935926533021227\n",
      "loop = 120, loss = 0.20694804745270173\n",
      "loop = 121, loss = 0.19169451394532644\n",
      "loop = 122, loss = 0.18985878939184103\n",
      "loop = 123, loss = 0.20090989789739586\n",
      "loop = 124, loss = 0.20278218680162888\n",
      "loop = 125, loss = 0.19176861402751835\n",
      "loop = 126, loss = 0.20181275834088874\n",
      "loop = 127, loss = 0.19460069331176533\n",
      "loop = 128, loss = 0.18908225887895533\n",
      "loop = 129, loss = 0.1790442670261041\n",
      "loop = 130, loss = 0.16638815082858238\n",
      "loop = 131, loss = 0.17167041970731034\n",
      "loop = 132, loss = 0.16521957412218619\n",
      "loop = 133, loss = 0.1626899384738587\n",
      "loop = 134, loss = 0.18175044898229312\n",
      "loop = 135, loss = 0.26331993985252294\n",
      "loop = 136, loss = 0.17501190691528604\n",
      "loop = 137, loss = 0.17150985441164612\n",
      "loop = 138, loss = 0.14986439276315155\n",
      "loop = 139, loss = 0.14104790387453975\n",
      "loop = 140, loss = 0.13952256056488918\n",
      "loop = 141, loss = 0.14062479514575463\n",
      "loop = 142, loss = 0.14203610389456434\n",
      "loop = 143, loss = 0.16723593847794327\n",
      "loop = 144, loss = 0.18503119660447545\n",
      "loop = 145, loss = 0.14932099902828785\n",
      "loop = 146, loss = 0.17119827278018565\n",
      "loop = 147, loss = 0.14775475216798337\n",
      "loop = 148, loss = 0.1270311976280931\n",
      "loop = 149, loss = 0.12212161711821684\n",
      "loop = 150, loss = 0.12847571552994694\n",
      "loop = 151, loss = 0.1679109326064326\n",
      "loop = 152, loss = 0.15582484873763403\n",
      "loop = 153, loss = 0.1453988191498048\n",
      "loop = 154, loss = 0.14590323807065692\n",
      "loop = 155, loss = 0.13132733653555237\n",
      "loop = 156, loss = 0.12084810880648936\n",
      "loop = 157, loss = 0.11483929260339902\n",
      "loop = 158, loss = 0.1071557942894691\n",
      "loop = 159, loss = 0.10332623088190046\n",
      "loop = 160, loss = 0.10417679405803042\n",
      "loop = 161, loss = 0.09860710987695746\n",
      "loop = 162, loss = 0.101153894341335\n",
      "loop = 163, loss = 0.0998716176075888\n",
      "loop = 164, loss = 0.10586402048070036\n",
      "loop = 165, loss = 0.13218372270117143\n",
      "loop = 166, loss = 0.09415760509479985\n",
      "loop = 167, loss = 0.08912951377989448\n",
      "loop = 168, loss = 0.08881574895987866\n",
      "loop = 169, loss = 0.0928102938171168\n",
      "loop = 170, loss = 0.08594256889601723\n",
      "loop = 171, loss = 0.08743984435887257\n",
      "loop = 172, loss = 0.08821199616885532\n",
      "loop = 173, loss = 0.08469024537118099\n",
      "loop = 174, loss = 0.08700384073326246\n",
      "loop = 175, loss = 0.08395159903190544\n",
      "loop = 176, loss = 0.08884093222711267\n",
      "loop = 177, loss = 0.09022234514808013\n",
      "loop = 178, loss = 0.09983158280194697\n",
      "loop = 179, loss = 0.13915139675935792\n",
      "loop = 180, loss = 0.10746875196546929\n",
      "loop = 181, loss = 0.0879388622078069\n",
      "loop = 182, loss = 0.10219382012298305\n",
      "loop = 183, loss = 0.08687590818475469\n",
      "loop = 184, loss = 0.08165226463228427\n",
      "loop = 185, loss = 0.07648066179077574\n",
      "loop = 186, loss = 0.07796500316146623\n",
      "loop = 187, loss = 0.07760395987633625\n",
      "loop = 188, loss = 0.07234200446223618\n",
      "loop = 189, loss = 0.06727055311747092\n",
      "loop = 190, loss = 0.07120548184915944\n",
      "loop = 191, loss = 0.0775007300386685\n",
      "loop = 192, loss = 0.08079258551565266\n",
      "loop = 193, loss = 0.08914543037511487\n",
      "loop = 194, loss = 0.08036106987608768\n",
      "loop = 195, loss = 0.06574369580455725\n",
      "loop = 196, loss = 0.06698275607580699\n",
      "loop = 197, loss = 0.06511806587920807\n",
      "loop = 198, loss = 0.062404823815033886\n",
      "loop = 199, loss = 0.05849561819472114\n",
      "loop = 200, loss = 0.05710562904317591\n",
      "loop = 201, loss = 0.058412571315467315\n",
      "loop = 202, loss = 0.06628392375295188\n",
      "loop = 203, loss = 0.06079554031616917\n",
      "loop = 204, loss = 0.057680109469833034\n",
      "loop = 205, loss = 0.054815913034145874\n",
      "loop = 206, loss = 0.05367784544350135\n",
      "loop = 207, loss = 0.05287944589394596\n",
      "loop = 208, loss = 0.05226960834146096\n",
      "loop = 209, loss = 0.05215616736559168\n",
      "loop = 210, loss = 0.057204614558474046\n",
      "loop = 211, loss = 0.05744415023486973\n",
      "loop = 212, loss = 0.05369021748667449\n",
      "loop = 213, loss = 0.05255102916272505\n",
      "loop = 214, loss = 0.050665034066246006\n",
      "loop = 215, loss = 0.04940771894491282\n",
      "loop = 216, loss = 0.05074474258963297\n",
      "loop = 217, loss = 0.054775784743142715\n",
      "loop = 218, loss = 0.051308217533876495\n",
      "loop = 219, loss = 0.04782926154766171\n",
      "loop = 220, loss = 0.04785036816751883\n",
      "loop = 221, loss = 0.05181027575895895\n",
      "loop = 222, loss = 0.05234898771744693\n",
      "loop = 223, loss = 0.0466813922325893\n",
      "loop = 224, loss = 0.045225675757017324\n",
      "loop = 225, loss = 0.04803014130311766\n",
      "loop = 226, loss = 0.05507410882507645\n",
      "loop = 227, loss = 0.05627741752671161\n",
      "loop = 228, loss = 0.048222781068827665\n",
      "loop = 229, loss = 0.044872370648811145\n",
      "loop = 230, loss = 0.04828968215703449\n",
      "loop = 231, loss = 0.04446696768861855\n",
      "loop = 232, loss = 0.05801006958997574\n",
      "loop = 233, loss = 0.046584591378123506\n",
      "loop = 234, loss = 0.045793835859970766\n",
      "loop = 235, loss = 0.04159379468738334\n",
      "loop = 236, loss = 0.04074066032014868\n",
      "loop = 237, loss = 0.04009520813012087\n",
      "loop = 238, loss = 0.03941686033379241\n",
      "loop = 239, loss = 0.03900061307882951\n",
      "loop = 240, loss = 0.04150247434524968\n",
      "loop = 241, loss = 0.04277233538354267\n",
      "loop = 242, loss = 0.041444041079268565\n",
      "loop = 243, loss = 0.04342856456350291\n",
      "loop = 244, loss = 0.04572177787902534\n",
      "loop = 245, loss = 0.0409105700508686\n",
      "loop = 246, loss = 0.03846824849229957\n",
      "loop = 247, loss = 0.03700928904629885\n",
      "loop = 248, loss = 0.03681198934969185\n",
      "loop = 249, loss = 0.03799305292425621\n",
      "loop = 250, loss = 0.04034645344738726\n",
      "loop = 251, loss = 0.036818592340111804\n",
      "loop = 252, loss = 0.038423605593591315\n",
      "loop = 253, loss = 0.03715672784502536\n",
      "loop = 254, loss = 0.0348464603132918\n",
      "loop = 255, loss = 0.03433620479252408\n",
      "loop = 256, loss = 0.033950552433246184\n",
      "loop = 257, loss = 0.0333837847453227\n",
      "loop = 258, loss = 0.032855572395318666\n",
      "loop = 259, loss = 0.0334039073985028\n",
      "loop = 260, loss = 0.034117827412123006\n",
      "loop = 261, loss = 0.03417701143086785\n",
      "loop = 262, loss = 0.033026577968022046\n",
      "loop = 263, loss = 0.03214174842953975\n",
      "loop = 264, loss = 0.03243506192930308\n",
      "loop = 265, loss = 0.033173571986278926\n",
      "loop = 266, loss = 0.032251428297662574\n",
      "loop = 267, loss = 0.03236599644546207\n",
      "loop = 268, loss = 0.033364090580863794\n",
      "loop = 269, loss = 0.03155752425731436\n",
      "loop = 270, loss = 0.030644943666051166\n",
      "loop = 271, loss = 0.030050020787999284\n",
      "loop = 272, loss = 0.0295585482099975\n",
      "loop = 273, loss = 0.029398955520570112\n",
      "loop = 274, loss = 0.029500775654923834\n",
      "loop = 275, loss = 0.030052953467162965\n",
      "loop = 276, loss = 0.029927248925892106\n",
      "loop = 277, loss = 0.03070459128059876\n",
      "loop = 278, loss = 0.029639421065808292\n",
      "loop = 279, loss = 0.030162541201032945\n",
      "loop = 280, loss = 0.03286000365181611\n",
      "loop = 281, loss = 0.03219365784525324\n",
      "loop = 282, loss = 0.03718912389773762\n",
      "loop = 283, loss = 0.037217121386233676\n",
      "loop = 284, loss = 0.033282643752549544\n",
      "loop = 285, loss = 0.03100252001217894\n",
      "loop = 286, loss = 0.028662884077355347\n",
      "loop = 287, loss = 0.028480657678414796\n",
      "loop = 288, loss = 0.027832590063130692\n",
      "loop = 289, loss = 0.02735671180239733\n",
      "loop = 290, loss = 0.02696823194272041\n",
      "loop = 291, loss = 0.02626629121658481\n",
      "loop = 292, loss = 0.025996796276810973\n",
      "loop = 293, loss = 0.025878481607633\n",
      "loop = 294, loss = 0.025742671343425182\n",
      "loop = 295, loss = 0.02607202490904446\n",
      "loop = 296, loss = 0.025561932205443727\n",
      "loop = 297, loss = 0.025758962643660687\n",
      "loop = 298, loss = 0.02502835777322755\n",
      "loop = 299, loss = 0.02486985265074921\n",
      "loop = 300, loss = 0.024581606469016606\n",
      "loop = 301, loss = 0.024737627560743002\n",
      "loop = 302, loss = 0.024437884206412547\n",
      "loop = 303, loss = 0.024603536537146295\n",
      "loop = 304, loss = 0.024518366431165672\n",
      "loop = 305, loss = 0.025431957927764582\n",
      "loop = 306, loss = 0.027470518376105466\n",
      "loop = 307, loss = 0.025632006133042524\n",
      "loop = 308, loss = 0.024774881083986795\n",
      "loop = 309, loss = 0.023741143032113287\n",
      "loop = 310, loss = 0.023299480807280254\n",
      "loop = 311, loss = 0.02301949366455578\n",
      "loop = 312, loss = 0.022950590203804497\n",
      "loop = 313, loss = 0.022711857150821396\n",
      "loop = 314, loss = 0.022978684410651998\n",
      "loop = 315, loss = 0.023141651762369847\n",
      "loop = 316, loss = 0.023769640211267797\n",
      "loop = 317, loss = 0.024897026762375537\n",
      "loop = 318, loss = 0.027033069871274094\n",
      "loop = 319, loss = 0.022806282902245692\n",
      "loop = 320, loss = 0.02207475957549787\n",
      "loop = 321, loss = 0.021760951849314963\n",
      "loop = 322, loss = 0.021580569341954663\n",
      "loop = 323, loss = 0.021563244596436774\n",
      "loop = 324, loss = 0.021537701876876706\n",
      "loop = 325, loss = 0.02173267022678871\n",
      "loop = 326, loss = 0.021865826634686242\n",
      "loop = 327, loss = 0.02119626369976238\n",
      "loop = 328, loss = 0.02102283243337899\n",
      "loop = 329, loss = 0.02082721255295369\n",
      "loop = 330, loss = 0.020699936967455108\n",
      "loop = 331, loss = 0.02052196147673667\n",
      "loop = 332, loss = 0.020430403926353348\n",
      "loop = 333, loss = 0.020576759153891656\n",
      "loop = 334, loss = 0.0208463828266696\n",
      "loop = 335, loss = 0.020330374179724428\n",
      "loop = 336, loss = 0.0201879287393054\n",
      "loop = 337, loss = 0.0202850483385224\n",
      "loop = 338, loss = 0.020243943115440765\n",
      "loop = 339, loss = 0.019871540102899873\n",
      "loop = 340, loss = 0.01968097881796269\n",
      "loop = 341, loss = 0.019445471379369843\n",
      "loop = 342, loss = 0.019274777494810987\n",
      "loop = 343, loss = 0.019201775880641293\n",
      "loop = 344, loss = 0.01922336246262555\n",
      "loop = 345, loss = 0.01915972109041088\n",
      "loop = 346, loss = 0.01898824034853195\n",
      "loop = 347, loss = 0.01877888651997747\n",
      "loop = 348, loss = 0.018700687589020677\n",
      "loop = 349, loss = 0.018653377474572772\n",
      "loop = 350, loss = 0.018622190741437547\n",
      "loop = 351, loss = 0.01856064274906949\n",
      "loop = 352, loss = 0.018505090594094085\n",
      "loop = 353, loss = 0.018956426443194004\n",
      "loop = 354, loss = 0.019556255080049278\n",
      "loop = 355, loss = 0.018316117704712642\n",
      "loop = 356, loss = 0.018163485710242316\n",
      "loop = 357, loss = 0.018169257194970718\n",
      "loop = 358, loss = 0.018515125294749513\n",
      "loop = 359, loss = 0.018158284487638895\n",
      "loop = 360, loss = 0.018412493092768184\n",
      "loop = 361, loss = 0.01772299153257808\n",
      "loop = 362, loss = 0.017665991285887497\n",
      "loop = 363, loss = 0.01748727425741515\n",
      "loop = 364, loss = 0.0175402851203655\n",
      "loop = 365, loss = 0.01765483055164897\n",
      "loop = 366, loss = 0.017851118212018142\n",
      "loop = 367, loss = 0.017219298441127226\n",
      "loop = 368, loss = 0.017161216956452358\n",
      "loop = 369, loss = 0.017033136105266765\n",
      "loop = 370, loss = 0.01702455822862448\n",
      "loop = 371, loss = 0.017146633811020044\n",
      "loop = 372, loss = 0.01724077814757579\n",
      "loop = 373, loss = 0.017131555894838852\n",
      "loop = 374, loss = 0.01741581289571233\n",
      "loop = 375, loss = 0.016705620517885607\n",
      "loop = 376, loss = 0.016603593250855475\n",
      "loop = 377, loss = 0.016358859759048914\n",
      "loop = 378, loss = 0.016267093916610045\n",
      "loop = 379, loss = 0.016194923515761708\n",
      "loop = 380, loss = 0.016079163348341273\n",
      "loop = 381, loss = 0.01606957085378829\n",
      "loop = 382, loss = 0.0159703733497484\n",
      "loop = 383, loss = 0.01612953309659415\n",
      "loop = 384, loss = 0.016046143239682953\n",
      "loop = 385, loss = 0.016397211424916177\n",
      "loop = 386, loss = 0.016715002954236644\n",
      "loop = 387, loss = 0.016318131590473666\n",
      "loop = 388, loss = 0.016587748714763702\n",
      "loop = 389, loss = 0.016056924988859862\n",
      "loop = 390, loss = 0.01613090423864769\n",
      "loop = 391, loss = 0.015368362330563623\n",
      "loop = 392, loss = 0.015191305496637237\n",
      "loop = 393, loss = 0.01506526675042943\n",
      "loop = 394, loss = 0.014973843599656167\n",
      "loop = 395, loss = 0.014919600071584565\n",
      "loop = 396, loss = 0.014854229625017682\n",
      "loop = 397, loss = 0.014974831556830182\n",
      "loop = 398, loss = 0.014753988826465102\n",
      "loop = 399, loss = 0.01484178665213527\n",
      "loop = 400, loss = 0.014574825220181829\n",
      "loop = 401, loss = 0.01452775005261339\n",
      "loop = 402, loss = 0.014529950834940191\n",
      "loop = 403, loss = 0.014617052573578142\n",
      "loop = 404, loss = 0.014313965231108193\n",
      "loop = 405, loss = 0.014224010770551266\n",
      "loop = 406, loss = 0.014199689428409783\n",
      "loop = 407, loss = 0.014261309281763796\n",
      "loop = 408, loss = 0.014201179653277112\n",
      "loop = 409, loss = 0.014358995322511283\n",
      "loop = 410, loss = 0.014087606104486148\n",
      "loop = 411, loss = 0.01441591800904209\n",
      "loop = 412, loss = 0.014359482792974883\n",
      "loop = 413, loss = 0.014959033739737011\n",
      "loop = 414, loss = 0.01582408738976776\n",
      "loop = 415, loss = 0.01529452349884295\n",
      "loop = 416, loss = 0.01708323364816649\n",
      "loop = 417, loss = 0.014606263416789562\n",
      "loop = 418, loss = 0.014079315324201624\n",
      "loop = 419, loss = 0.013740251905894136\n",
      "loop = 420, loss = 0.013539670268877889\n",
      "loop = 421, loss = 0.013557074036604229\n",
      "loop = 422, loss = 0.013461362102040464\n",
      "loop = 423, loss = 0.01355920490317373\n",
      "loop = 424, loss = 0.013436734025067133\n",
      "loop = 425, loss = 0.013334232966818328\n",
      "loop = 426, loss = 0.013431550972598405\n",
      "loop = 427, loss = 0.01308041891885642\n",
      "loop = 428, loss = 0.013164629914651135\n",
      "loop = 429, loss = 0.013065725386364826\n",
      "loop = 430, loss = 0.013172788051398173\n",
      "loop = 431, loss = 0.012856502749127561\n",
      "loop = 432, loss = 0.01289054608548557\n",
      "loop = 433, loss = 0.012938257436688342\n",
      "loop = 434, loss = 0.01313666643102295\n",
      "loop = 435, loss = 0.012696946201046808\n",
      "loop = 436, loss = 0.01275864049465511\n",
      "loop = 437, loss = 0.012624433825852802\n",
      "loop = 438, loss = 0.012748031371421538\n",
      "loop = 439, loss = 0.012463456603499698\n",
      "loop = 440, loss = 0.012467204776576446\n",
      "loop = 441, loss = 0.012498448931549588\n",
      "loop = 442, loss = 0.012661773699014996\n",
      "loop = 443, loss = 0.012269919234298573\n",
      "loop = 444, loss = 0.012217358607908234\n",
      "loop = 445, loss = 0.012182487284366128\n",
      "loop = 446, loss = 0.01224192450849185\n",
      "loop = 447, loss = 0.012221204542127122\n",
      "loop = 448, loss = 0.012393346028093858\n",
      "loop = 449, loss = 0.011999250421895803\n",
      "loop = 450, loss = 0.011947700752749889\n",
      "loop = 451, loss = 0.011910413570216508\n",
      "loop = 452, loss = 0.011945013756676936\n",
      "loop = 453, loss = 0.011975003381700924\n",
      "loop = 454, loss = 0.01219300628060194\n",
      "loop = 455, loss = 0.01176333193998043\n",
      "loop = 456, loss = 0.011759779070866396\n",
      "loop = 457, loss = 0.011720391780644478\n",
      "loop = 458, loss = 0.011830243438599551\n",
      "loop = 459, loss = 0.011597769849861585\n",
      "loop = 460, loss = 0.011623190878779478\n",
      "loop = 461, loss = 0.011667978183422573\n",
      "loop = 462, loss = 0.011830483724925796\n",
      "loop = 463, loss = 0.011428623822823926\n",
      "loop = 464, loss = 0.011431499272356961\n",
      "loop = 465, loss = 0.011419198127822513\n",
      "loop = 466, loss = 0.011547770641468466\n",
      "loop = 467, loss = 0.011257146543458154\n",
      "loop = 468, loss = 0.011229004843474534\n",
      "loop = 469, loss = 0.011247005599200159\n",
      "loop = 470, loss = 0.011358210087756882\n",
      "loop = 471, loss = 0.011124488694703944\n",
      "loop = 472, loss = 0.011151054374030724\n",
      "loop = 473, loss = 0.011187574161090825\n",
      "loop = 474, loss = 0.01135236754343039\n",
      "loop = 475, loss = 0.010968890875174577\n",
      "loop = 476, loss = 0.010937345147673933\n",
      "loop = 477, loss = 0.01089144380632316\n",
      "loop = 478, loss = 0.010916794159664641\n",
      "loop = 479, loss = 0.01095200585910925\n",
      "loop = 480, loss = 0.01113868077025828\n",
      "loop = 481, loss = 0.010751233593409983\n",
      "loop = 482, loss = 0.010712177227182268\n",
      "loop = 483, loss = 0.01066818616751538\n",
      "loop = 484, loss = 0.010654546736108125\n",
      "loop = 485, loss = 0.010684848210724648\n",
      "loop = 486, loss = 0.010848139630609046\n",
      "loop = 487, loss = 0.01053489554479983\n",
      "loop = 488, loss = 0.01053595518355037\n",
      "loop = 489, loss = 0.010606785480730843\n",
      "loop = 490, loss = 0.0107814706411156\n",
      "loop = 491, loss = 0.010403657583931414\n",
      "loop = 492, loss = 0.010364934108452746\n",
      "loop = 493, loss = 0.010335285986336323\n",
      "loop = 494, loss = 0.010334516531226735\n",
      "loop = 495, loss = 0.010411549303494786\n",
      "loop = 496, loss = 0.01034836164156413\n",
      "loop = 497, loss = 0.010494451669863568\n",
      "loop = 498, loss = 0.010164512368106176\n",
      "loop = 499, loss = 0.010128642173692071\n"
     ]
    }
   ],
   "source": [
    "output = forward_and_train_cnn(\n",
    "    X[0:number_train_points], \n",
    "    one_hot(Y[0:number_train_points]), \n",
    "    0.1, \n",
    "    500,\n",
    "    5000)\n",
    "params = output[\"params\"]\n",
    "config_size = output[\"config_size\"]\n",
    "\n",
    "\n",
    "    # X[number_train_points:number_train_points + 10]"
   ]
  },
  {
   "cell_type": "code",
   "execution_count": 61,
   "metadata": {},
   "outputs": [],
   "source": [
    "list_X_test = X_test[0:20]\n",
    "output_forward = forward(\n",
    "        \"predict\",\n",
    "        \n",
    "        reshape_list_X(list_X_test),\n",
    "            \n",
    "        params[\"K_11\"],\n",
    "        params[\"K_12\"],\n",
    "        params[\"bk_11\"],\n",
    "        params[\"bk_12\"],\n",
    "        config_size[\"sk_1\"],\n",
    "        config_size[\"sp_1\"],\n",
    "        config_size[\"size_pool_1\"],\n",
    "        \n",
    "        config_size[\"Zk_1_size\"],\n",
    "        config_size[\"C_1_size\"],\n",
    "        config_size[\"P_1_size\"],\n",
    "        \n",
    "        params[\"K_21\"],\n",
    "        params[\"K_22\"],\n",
    "        params[\"K_23\"],\n",
    "        params[\"K_24\"],\n",
    "        params[\"bk_21\"],\n",
    "        params[\"bk_22\"],\n",
    "        params[\"bk_23\"],\n",
    "        params[\"bk_24\"],\n",
    "        config_size[\"sk_2\"],\n",
    "        config_size[\"sp_2\"],\n",
    "        config_size[\"size_pool_2\"],\n",
    "        \n",
    "        config_size[\"Zk_2_size\"],\n",
    "        config_size[\"C_2_size\"],\n",
    "        config_size[\"P_2_size\"],\n",
    "        \n",
    "        params[\"W_1\"],\n",
    "        params[\"b_1\"],\n",
    "        params[\"W_2\"],\n",
    "        params[\"b_2\"],\n",
    "        params[\"W_3\"],\n",
    "        params[\"b_3\"],\n",
    "        \n",
    "        None\n",
    "    )\n",
    "\n",
    "Y_predict = output_forward[\"A_3\"]\n"
   ]
  },
  {
   "cell_type": "code",
   "execution_count": 62,
   "metadata": {},
   "outputs": [
    {
     "data": {
      "text/plain": [
       "(10, 20)"
      ]
     },
     "execution_count": 62,
     "metadata": {},
     "output_type": "execute_result"
    }
   ],
   "source": [
    "Y_predict.shape"
   ]
  },
  {
   "cell_type": "code",
   "execution_count": 63,
   "metadata": {},
   "outputs": [
    {
     "name": "stdout",
     "output_type": "stream",
     "text": [
      "[7 2 1 0 4 1 9 9 8 9 0 8 9 0 1 5 9 0 2 4]\n",
      "[7 2 1 0 4 1 4 9 5 9 0 6 9 0 1 5 9 7 3 4]\n"
     ]
    }
   ],
   "source": [
    "Y_predict_decode = decode_one_hot(Y_predict, Y[0:number_train_points])\n",
    "print(Y_predict_decode)\n",
    "Y_real = Y_test[0:20]\n",
    "print(Y_real)"
   ]
  },
  {
   "cell_type": "code",
   "execution_count": 64,
   "metadata": {},
   "outputs": [],
   "source": [
    "result = Y_predict_decode == Y_real"
   ]
  },
  {
   "cell_type": "code",
   "execution_count": 65,
   "metadata": {},
   "outputs": [
    {
     "data": {
      "text/plain": [
       "15"
      ]
     },
     "execution_count": 65,
     "metadata": {},
     "output_type": "execute_result"
    }
   ],
   "source": [
    "len(result[result == True])"
   ]
  },
  {
   "cell_type": "code",
   "execution_count": 66,
   "metadata": {},
   "outputs": [
    {
     "data": {
      "text/plain": [
       "5"
      ]
     },
     "execution_count": 66,
     "metadata": {},
     "output_type": "execute_result"
    }
   ],
   "source": [
    "len(result[result == False])"
   ]
  },
  {
   "cell_type": "code",
   "execution_count": 143,
   "metadata": {},
   "outputs": [
    {
     "data": {
      "text/plain": [
       "<matplotlib.image.AxesImage at 0x27239b1da90>"
      ]
     },
     "execution_count": 143,
     "metadata": {},
     "output_type": "execute_result"
    },
    {
     "data": {
      "image/png": "[encoded data removed]",
      "text/plain": [
       "<Figure size 640x480 with 1 Axes>"
      ]
     },
     "metadata": {},
     "output_type": "display_data"
    }
   ],
   "source": [
    "X_test_1 = list_X_test[4]\n",
    "plt.imshow(X_test_1)\n"
   ]
  },
  {
   "cell_type": "code",
   "execution_count": 118,
   "metadata": {},
   "outputs": [
    {
     "data": {
      "text/plain": [
       "<matplotlib.image.AxesImage at 0x27238d8d820>"
      ]
     },
     "execution_count": 118,
     "metadata": {},
     "output_type": "execute_result"
    },
    {
     "data": {
      "image/png": "[encoded data removed]",
      "text/plain": [
       "<Figure size 640x480 with 1 Axes>"
      ]
     },
     "metadata": {},
     "output_type": "display_data"
    }
   ],
   "source": [
    "Zk_1_m1 = convolution(X_test_1, params[\"K_11\"], bias=params[\"bk_11\"])\n",
    "plt.imshow(Zk_1_m1)"
   ]
  },
  {
   "cell_type": "code",
   "execution_count": 119,
   "metadata": {},
   "outputs": [
    {
     "data": {
      "text/plain": [
       "<matplotlib.image.AxesImage at 0x272393a6820>"
      ]
     },
     "execution_count": 119,
     "metadata": {},
     "output_type": "execute_result"
    },
    {
     "data": {
      "image/png": "[encoded data removed]",
      "text/plain": [
       "<Figure size 640x480 with 1 Axes>"
      ]
     },
     "metadata": {},
     "output_type": "display_data"
    }
   ],
   "source": [
    "Zk_1_m2 = convolution(X_test_1, params[\"K_12\"], bias=params[\"bk_12\"])\n",
    "plt.imshow(Zk_1_m2)"
   ]
  },
  {
   "cell_type": "code",
   "execution_count": 120,
   "metadata": {},
   "outputs": [
    {
     "data": {
      "text/plain": [
       "<matplotlib.image.AxesImage at 0x27239288ee0>"
      ]
     },
     "execution_count": 120,
     "metadata": {},
     "output_type": "execute_result"
    },
    {
     "data": {
      "image/png": "[encoded data removed]",
      "text/plain": [
       "<Figure size 640x480 with 1 Axes>"
      ]
     },
     "metadata": {},
     "output_type": "display_data"
    }
   ],
   "source": [
    "C_1_m1 = ReLU(Zk_1_m1)\n",
    "plt.imshow(C_1_m1)"
   ]
  },
  {
   "cell_type": "code",
   "execution_count": 121,
   "metadata": {},
   "outputs": [
    {
     "data": {
      "text/plain": [
       "<matplotlib.image.AxesImage at 0x27239278730>"
      ]
     },
     "execution_count": 121,
     "metadata": {},
     "output_type": "execute_result"
    },
    {
     "data": {
      "image/png": "[encoded data removed]",
      "text/plain": [
       "<Figure size 640x480 with 1 Axes>"
      ]
     },
     "metadata": {},
     "output_type": "display_data"
    }
   ],
   "source": [
    "C_1_m2 = ReLU(Zk_1_m2)\n",
    "plt.imshow(C_1_m2)"
   ]
  },
  {
   "cell_type": "code",
   "execution_count": 122,
   "metadata": {},
   "outputs": [
    {
     "data": {
      "text/plain": [
       "<matplotlib.image.AxesImage at 0x27239364a90>"
      ]
     },
     "execution_count": 122,
     "metadata": {},
     "output_type": "execute_result"
    },
    {
     "data": {
      "image/png": "[encoded data removed]",
      "text/plain": [
       "<Figure size 640x480 with 1 Axes>"
      ]
     },
     "metadata": {},
     "output_type": "display_data"
    }
   ],
   "source": [
    "P_1_m1 = pooling_one_point(C_1_m1, (2, 2), stride=2)\n",
    "plt.imshow(P_1_m1)"
   ]
  },
  {
   "cell_type": "code",
   "execution_count": 123,
   "metadata": {},
   "outputs": [
    {
     "data": {
      "text/plain": [
       "<matplotlib.image.AxesImage at 0x27239556dc0>"
      ]
     },
     "execution_count": 123,
     "metadata": {},
     "output_type": "execute_result"
    },
    {
     "data": {
      "image/png": "[encoded data removed]",
      "text/plain": [
       "<Figure size 640x480 with 1 Axes>"
      ]
     },
     "metadata": {},
     "output_type": "display_data"
    }
   ],
   "source": [
    "P_1_m2 = pooling_one_point(C_1_m2, (2, 2), stride=2)\n",
    "plt.imshow(P_1_m2)"
   ]
  },
  {
   "cell_type": "code",
   "execution_count": 124,
   "metadata": {},
   "outputs": [],
   "source": [
    "P_1 = np.zeros((12, 12, 2))\n",
    "P_1[:,:,0] = P_1_m1\n",
    "P_1[:,:,1] = P_1_m2"
   ]
  },
  {
   "cell_type": "code",
   "execution_count": 125,
   "metadata": {},
   "outputs": [
    {
     "data": {
      "text/plain": [
       "<matplotlib.image.AxesImage at 0x272394341f0>"
      ]
     },
     "execution_count": 125,
     "metadata": {},
     "output_type": "execute_result"
    },
    {
     "data": {
      "image/png": "[encoded data removed]",
      "text/plain": [
       "<Figure size 640x480 with 1 Axes>"
      ]
     },
     "metadata": {},
     "output_type": "display_data"
    }
   ],
   "source": [
    "Zk_2_m1 = convolution(P_1, params[\"K_21\"], bias=params[\"bk_21\"])\n",
    "plt.imshow(Zk_2_m1)"
   ]
  },
  {
   "cell_type": "code",
   "execution_count": 126,
   "metadata": {},
   "outputs": [
    {
     "data": {
      "text/plain": [
       "<matplotlib.image.AxesImage at 0x2723949b520>"
      ]
     },
     "execution_count": 126,
     "metadata": {},
     "output_type": "execute_result"
    },
    {
     "data": {
      "image/png": "[encoded data removed]",
      "text/plain": [
       "<Figure size 640x480 with 1 Axes>"
      ]
     },
     "metadata": {},
     "output_type": "display_data"
    }
   ],
   "source": [
    "Zk_2_m2 = convolution(P_1, params[\"K_22\"], bias=params[\"bk_22\"])\n",
    "plt.imshow(Zk_2_m2)"
   ]
  },
  {
   "cell_type": "code",
   "execution_count": 127,
   "metadata": {},
   "outputs": [
    {
     "data": {
      "text/plain": [
       "<matplotlib.image.AxesImage at 0x2723951ecd0>"
      ]
     },
     "execution_count": 127,
     "metadata": {},
     "output_type": "execute_result"
    },
    {
     "data": {
      "image/png": "[encoded data removed]",
      "text/plain": [
       "<Figure size 640x480 with 1 Axes>"
      ]
     },
     "metadata": {},
     "output_type": "display_data"
    }
   ],
   "source": [
    "Zk_2_m3 = convolution(P_1, params[\"K_23\"], bias=params[\"bk_23\"])\n",
    "plt.imshow(Zk_2_m3)"
   ]
  },
  {
   "cell_type": "code",
   "execution_count": 128,
   "metadata": {},
   "outputs": [
    {
     "data": {
      "text/plain": [
       "<matplotlib.image.AxesImage at 0x2723e0b8b50>"
      ]
     },
     "execution_count": 128,
     "metadata": {},
     "output_type": "execute_result"
    },
    {
     "data": {
      "image/png": "[encoded data removed]",
      "text/plain": [
       "<Figure size 640x480 with 1 Axes>"
      ]
     },
     "metadata": {},
     "output_type": "display_data"
    }
   ],
   "source": [
    "Zk_2_m4 = convolution(P_1, params[\"K_24\"], bias=params[\"bk_24\"])\n",
    "plt.imshow(Zk_2_m4)"
   ]
  },
  {
   "cell_type": "code",
   "execution_count": 129,
   "metadata": {},
   "outputs": [],
   "source": [
    "Zk_2 = np.zeros((10, 10, 4))\n",
    "Zk_2[:,:,0] = Zk_2_m1\n",
    "Zk_2[:,:,1] = Zk_2_m2\n",
    "Zk_2[:,:,2] = Zk_2_m3\n",
    "Zk_2[:,:,3] = Zk_2_m4"
   ]
  },
  {
   "cell_type": "code",
   "execution_count": 130,
   "metadata": {},
   "outputs": [],
   "source": [
    "C_2 = Sigmoid(Zk_2)"
   ]
  },
  {
   "cell_type": "code",
   "execution_count": 131,
   "metadata": {},
   "outputs": [
    {
     "data": {
      "text/plain": [
       "<matplotlib.image.AxesImage at 0x27238166b20>"
      ]
     },
     "execution_count": 131,
     "metadata": {},
     "output_type": "execute_result"
    },
    {
     "data": {
      "image/png": "[encoded data removed]",
      "text/plain": [
       "<Figure size 640x480 with 1 Axes>"
      ]
     },
     "metadata": {},
     "output_type": "display_data"
    }
   ],
   "source": [
    "plt.imshow(C_2[:,:,0])\n"
   ]
  },
  {
   "cell_type": "code",
   "execution_count": 132,
   "metadata": {},
   "outputs": [
    {
     "data": {
      "text/plain": [
       "<matplotlib.image.AxesImage at 0x27237f31d90>"
      ]
     },
     "execution_count": 132,
     "metadata": {},
     "output_type": "execute_result"
    },
    {
     "data": {
      "image/png": "[encoded data removed]",
      "text/plain": [
       "<Figure size 640x480 with 1 Axes>"
      ]
     },
     "metadata": {},
     "output_type": "display_data"
    }
   ],
   "source": [
    "plt.imshow(C_2[:,:,1])\n"
   ]
  },
  {
   "cell_type": "code",
   "execution_count": 133,
   "metadata": {},
   "outputs": [
    {
     "data": {
      "text/plain": [
       "<matplotlib.image.AxesImage at 0x27239667130>"
      ]
     },
     "execution_count": 133,
     "metadata": {},
     "output_type": "execute_result"
    },
    {
     "data": {
      "image/png": "[encoded data removed]",
      "text/plain": [
       "<Figure size 640x480 with 1 Axes>"
      ]
     },
     "metadata": {},
     "output_type": "display_data"
    }
   ],
   "source": [
    "plt.imshow(C_2[:,:,2])\n"
   ]
  },
  {
   "cell_type": "code",
   "execution_count": 134,
   "metadata": {},
   "outputs": [
    {
     "data": {
      "text/plain": [
       "<matplotlib.image.AxesImage at 0x272396ca970>"
      ]
     },
     "execution_count": 134,
     "metadata": {},
     "output_type": "execute_result"
    },
    {
     "data": {
      "image/png": "[encoded data removed]",
      "text/plain": [
       "<Figure size 640x480 with 1 Axes>"
      ]
     },
     "metadata": {},
     "output_type": "display_data"
    }
   ],
   "source": [
    "plt.imshow(C_2[:,:,3])"
   ]
  },
  {
   "cell_type": "code",
   "execution_count": 135,
   "metadata": {},
   "outputs": [],
   "source": [
    "P_2 = pooling_one_point(C_2, (2, 2), stride=2)"
   ]
  },
  {
   "cell_type": "code",
   "execution_count": 136,
   "metadata": {},
   "outputs": [
    {
     "data": {
      "text/plain": [
       "<matplotlib.image.AxesImage at 0x272397b6d30>"
      ]
     },
     "execution_count": 136,
     "metadata": {},
     "output_type": "execute_result"
    },
    {
     "data": {
      "image/png": "[encoded data removed]",
      "text/plain": [
       "<Figure size 640x480 with 1 Axes>"
      ]
     },
     "metadata": {},
     "output_type": "display_data"
    }
   ],
   "source": [
    "plt.imshow(P_2[:,:,0])\n"
   ]
  },
  {
   "cell_type": "code",
   "execution_count": 137,
   "metadata": {},
   "outputs": [
    {
     "data": {
      "text/plain": [
       "<matplotlib.image.AxesImage at 0x27239a73a90>"
      ]
     },
     "execution_count": 137,
     "metadata": {},
     "output_type": "execute_result"
    },
    {
     "data": {
      "image/png": "[encoded data removed]",
      "text/plain": [
       "<Figure size 640x480 with 1 Axes>"
      ]
     },
     "metadata": {},
     "output_type": "display_data"
    }
   ],
   "source": [
    "plt.imshow(P_2[:,:,1])\n"
   ]
  },
  {
   "cell_type": "code",
   "execution_count": 138,
   "metadata": {},
   "outputs": [
    {
     "data": {
      "text/plain": [
       "<matplotlib.image.AxesImage at 0x272399829a0>"
      ]
     },
     "execution_count": 138,
     "metadata": {},
     "output_type": "execute_result"
    },
    {
     "data": {
      "image/png": "[encoded data removed]",
      "text/plain": [
       "<Figure size 640x480 with 1 Axes>"
      ]
     },
     "metadata": {},
     "output_type": "display_data"
    }
   ],
   "source": [
    "plt.imshow(P_2[:,:,2])\n"
   ]
  },
  {
   "cell_type": "code",
   "execution_count": 139,
   "metadata": {},
   "outputs": [
    {
     "data": {
      "text/plain": [
       "<matplotlib.image.AxesImage at 0x2723987d3a0>"
      ]
     },
     "execution_count": 139,
     "metadata": {},
     "output_type": "execute_result"
    },
    {
     "data": {
      "image/png": "[encoded data removed]",
      "text/plain": [
       "<Figure size 640x480 with 1 Axes>"
      ]
     },
     "metadata": {},
     "output_type": "display_data"
    }
   ],
   "source": [
    "plt.imshow(P_2[:,:,3])"
   ]
  },
  {
   "cell_type": "code",
   "execution_count": null,
   "metadata": {},
   "outputs": [],
   "source": []
  }
 ],
 "metadata": {
  "kernelspec": {
   "display_name": "venv_py_39",
   "language": "python",
   "name": "python3"
  },
  "language_info": {
   "codemirror_mode": {
    "name": "ipython",
    "version": 3
   },
   "file_extension": ".py",
   "mimetype": "text/x-python",
   "name": "python",
   "nbconvert_exporter": "python",
   "pygments_lexer": "ipython3",
   "version": "3.9.7"
  }
 },
 "nbformat": 4,
 "nbformat_minor": 2
}
