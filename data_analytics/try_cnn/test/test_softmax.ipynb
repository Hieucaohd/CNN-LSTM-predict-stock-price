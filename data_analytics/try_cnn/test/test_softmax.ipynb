{
 "cells": [
  {
   "cell_type": "code",
   "execution_count": 1,
   "metadata": {},
   "outputs": [],
   "source": [
    "import sys\n",
    "sys.path.append(r\"D:\\code\\selenium\\data_analytics\\try_cnn\")"
   ]
  },
  {
   "cell_type": "code",
   "execution_count": 4,
   "metadata": {},
   "outputs": [],
   "source": [
    "import numpy as np\n",
    "from utils_cnn import softmax"
   ]
  },
  {
   "cell_type": "code",
   "execution_count": 3,
   "metadata": {},
   "outputs": [],
   "source": [
    "Z = np.random.randint(2, 4, (10, 5))"
   ]
  },
  {
   "cell_type": "code",
   "execution_count": 5,
   "metadata": {},
   "outputs": [
    {
     "data": {
      "text/plain": [
       "array([[0.05926584, 0.14621172, 0.11447202, 0.04923758, 0.04923758],\n",
       "       [0.05926584, 0.05378828, 0.11447202, 0.13384161, 0.13384161],\n",
       "       [0.16110125, 0.05378828, 0.11447202, 0.13384161, 0.13384161],\n",
       "       [0.05926584, 0.05378828, 0.11447202, 0.13384161, 0.13384161],\n",
       "       [0.05926584, 0.14621172, 0.11447202, 0.04923758, 0.04923758],\n",
       "       [0.16110125, 0.14621172, 0.11447202, 0.13384161, 0.13384161],\n",
       "       [0.05926584, 0.14621172, 0.0421119 , 0.04923758, 0.04923758],\n",
       "       [0.16110125, 0.14621172, 0.11447202, 0.13384161, 0.13384161],\n",
       "       [0.05926584, 0.05378828, 0.0421119 , 0.13384161, 0.13384161],\n",
       "       [0.16110125, 0.05378828, 0.11447202, 0.04923758, 0.04923758]])"
      ]
     },
     "execution_count": 5,
     "metadata": {},
     "output_type": "execute_result"
    }
   ],
   "source": [
    "softmax(Z)"
   ]
  },
  {
   "cell_type": "code",
   "execution_count": null,
   "metadata": {},
   "outputs": [],
   "source": []
  }
 ],
 "metadata": {
  "kernelspec": {
   "display_name": "venv_py_39",
   "language": "python",
   "name": "python3"
  },
  "language_info": {
   "codemirror_mode": {
    "name": "ipython",
    "version": 3
   },
   "file_extension": ".py",
   "mimetype": "text/x-python",
   "name": "python",
   "nbconvert_exporter": "python",
   "pygments_lexer": "ipython3",
   "version": "3.9.7"
  }
 },
 "nbformat": 4,
 "nbformat_minor": 2
}
