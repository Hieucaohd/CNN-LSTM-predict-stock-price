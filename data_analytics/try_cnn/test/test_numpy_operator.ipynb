{
 "cells": [
  {
   "cell_type": "code",
   "execution_count": 2,
   "metadata": {},
   "outputs": [],
   "source": [
    "import numpy as np"
   ]
  },
  {
   "cell_type": "code",
   "execution_count": 2,
   "metadata": {},
   "outputs": [],
   "source": [
    "o = np.array([[[[0., 0., 0., 0.],\n",
    "         [0., 0., 0., 0.]],\n",
    "\n",
    "        [[0., 0., 0., 0.],\n",
    "         [1., 1., 4., 1.]]],\n",
    "\n",
    "\n",
    "       [[[0., 0., 0., 0.],\n",
    "         [0., 0., 0., 0.]],\n",
    "\n",
    "        [[0., 0., 0., 0.],\n",
    "         [2., 1., 4., 2.]]],\n",
    "\n",
    "\n",
    "       [[[0., 0., 0., 0.],\n",
    "         [0., 0., 0., 0.]],\n",
    "\n",
    "        [[0., 0., 0., 0.],\n",
    "         [2., 2., 4., 1.]]],\n",
    "\n",
    "\n",
    "       [[[0., 0., 0., 0.],\n",
    "         [0., 0., 0., 0.]],\n",
    "\n",
    "        [[0., 0., 0., 0.],\n",
    "         [2., 1., 2., 1.]]],\n",
    "\n",
    "\n",
    "       [[[0., 0., 0., 0.],\n",
    "         [0., 0., 0., 0.]],\n",
    "\n",
    "        [[0., 0., 0., 0.],\n",
    "         [2., 2., 4., 2.]]]])"
   ]
  },
  {
   "cell_type": "code",
   "execution_count": 3,
   "metadata": {},
   "outputs": [
    {
     "data": {
      "text/plain": [
       "(5, 2, 2, 4)"
      ]
     },
     "execution_count": 3,
     "metadata": {},
     "output_type": "execute_result"
    }
   ],
   "source": [
    "o.shape"
   ]
  },
  {
   "cell_type": "code",
   "execution_count": 4,
   "metadata": {},
   "outputs": [
    {
     "data": {
      "text/plain": [
       "array([[[0., 0., 0., 0.],\n",
       "        [0., 0., 0., 0.]],\n",
       "\n",
       "       [[0., 0., 0., 0.],\n",
       "        [1., 1., 4., 1.]]])"
      ]
     },
     "execution_count": 4,
     "metadata": {},
     "output_type": "execute_result"
    }
   ],
   "source": [
    "o[0]"
   ]
  },
  {
   "cell_type": "code",
   "execution_count": 7,
   "metadata": {},
   "outputs": [
    {
     "data": {
      "text/plain": [
       "(5, 1, 1, 1)"
      ]
     },
     "execution_count": 7,
     "metadata": {},
     "output_type": "execute_result"
    }
   ],
   "source": [
    "np.sum(o, axis=(1, 2, 3), keepdims=True).shape"
   ]
  },
  {
   "cell_type": "code",
   "execution_count": 6,
   "metadata": {},
   "outputs": [
    {
     "data": {
      "text/plain": [
       "array([1, 2, 3])"
      ]
     },
     "execution_count": 6,
     "metadata": {},
     "output_type": "execute_result"
    }
   ],
   "source": [
    "np.sort(np.unique([1, 2, 3, 3]))"
   ]
  },
  {
   "cell_type": "code",
   "execution_count": null,
   "metadata": {},
   "outputs": [],
   "source": []
  }
 ],
 "metadata": {
  "kernelspec": {
   "display_name": "venv_py_39",
   "language": "python",
   "name": "python3"
  },
  "language_info": {
   "codemirror_mode": {
    "name": "ipython",
    "version": 3
   },
   "file_extension": ".py",
   "mimetype": "text/x-python",
   "name": "python",
   "nbconvert_exporter": "python",
   "pygments_lexer": "ipython3",
   "version": "3.9.7"
  }
 },
 "nbformat": 4,
 "nbformat_minor": 2
}
