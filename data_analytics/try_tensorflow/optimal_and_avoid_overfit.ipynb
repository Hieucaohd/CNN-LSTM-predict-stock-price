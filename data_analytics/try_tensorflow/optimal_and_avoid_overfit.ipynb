{
 "cells": [
  {
   "cell_type": "code",
   "execution_count": 1,
   "metadata": {},
   "outputs": [],
   "source": [
    "import tensorflow as tf\n",
    "import keras\n",
    "import numpy as np\n",
    "import pandas as pd\n",
    "import tensorflow_docs as tfdocs\n",
    "import tensorflow_docs.modeling\n",
    "import tensorflow_docs.plots\n",
    "from  IPython import display\n",
    "from matplotlib import pyplot as plt\n",
    "\n",
    "import numpy as np\n",
    "\n",
    "import pathlib\n",
    "import shutil\n",
    "import tempfile"
   ]
  },
  {
   "cell_type": "code",
   "execution_count": 2,
   "metadata": {},
   "outputs": [],
   "source": [
    "logdir = pathlib.Path(tempfile.mkdtemp())/\"tensorboard_logs\"\n",
    "shutil.rmtree(logdir, ignore_errors=True)"
   ]
  },
  {
   "cell_type": "code",
   "execution_count": 51,
   "metadata": {},
   "outputs": [
    {
     "name": "stdout",
     "output_type": "stream",
     "text": [
      "C:\\Users\\ADMIN\\AppData\\Local\\Temp\\tmpxsmuwade\\tensorboard_logs\n"
     ]
    }
   ],
   "source": [
    "print(logdir)"
   ]
  },
  {
   "cell_type": "code",
   "execution_count": 3,
   "metadata": {},
   "outputs": [],
   "source": [
    "gz = keras.utils.get_file('HIGGS.csv.gz', 'http://mlphysics.ics.uci.edu/data/higgs/HIGGS.csv.gz')"
   ]
  },
  {
   "cell_type": "code",
   "execution_count": 4,
   "metadata": {},
   "outputs": [],
   "source": [
    "FEATURES = 28"
   ]
  },
  {
   "cell_type": "code",
   "execution_count": 5,
   "metadata": {},
   "outputs": [],
   "source": [
    "ds = tf.data.experimental.CsvDataset(gz,[float(),]*(FEATURES+1), compression_type=\"GZIP\")"
   ]
  },
  {
   "cell_type": "code",
   "execution_count": 6,
   "metadata": {},
   "outputs": [],
   "source": [
    "def pack_row(*row):\n",
    "    label = row[0]\n",
    "    features = tf.stack(row[1:], 1)\n",
    "    return features, label"
   ]
  },
  {
   "cell_type": "code",
   "execution_count": 7,
   "metadata": {},
   "outputs": [],
   "source": [
    "packed_ds = ds.batch(10000).map(pack_row).unbatch()"
   ]
  },
  {
   "cell_type": "code",
   "execution_count": 8,
   "metadata": {},
   "outputs": [
    {
     "name": "stdout",
     "output_type": "stream",
     "text": [
      "tf.Tensor(\n",
      "[ 0.8692932  -0.6350818   0.22569026  0.32747006 -0.6899932   0.75420225\n",
      " -0.24857314 -1.0920639   0.          1.3749921  -0.6536742   0.9303491\n",
      "  1.1074361   1.1389043  -1.5781983  -1.0469854   0.          0.65792954\n",
      " -0.01045457 -0.04576717  3.1019614   1.35376     0.9795631   0.97807616\n",
      "  0.92000484  0.72165745  0.98875093  0.87667835], shape=(28,), dtype=float32)\n"
     ]
    },
    {
     "data": {
      "image/png": "[encoded data removed]",
      "text/plain": [
       "<Figure size 640x480 with 1 Axes>"
      ]
     },
     "metadata": {},
     "output_type": "display_data"
    }
   ],
   "source": [
    "for features, label in packed_ds.batch(1000).take(1):\n",
    "    print(features[0])\n",
    "    plt.hist(features.numpy().flatten(), bins = 101)"
   ]
  },
  {
   "cell_type": "code",
   "execution_count": 9,
   "metadata": {},
   "outputs": [],
   "source": [
    "N_VALIDATION = int(1e3)"
   ]
  },
  {
   "cell_type": "code",
   "execution_count": 10,
   "metadata": {},
   "outputs": [
    {
     "data": {
      "text/plain": [
       "1000"
      ]
     },
     "execution_count": 10,
     "metadata": {},
     "output_type": "execute_result"
    }
   ],
   "source": [
    "N_VALIDATION"
   ]
  },
  {
   "cell_type": "code",
   "execution_count": 11,
   "metadata": {},
   "outputs": [],
   "source": [
    "N_TRAIN = int(1e4)"
   ]
  },
  {
   "cell_type": "code",
   "execution_count": 12,
   "metadata": {},
   "outputs": [
    {
     "data": {
      "text/plain": [
       "10000"
      ]
     },
     "execution_count": 12,
     "metadata": {},
     "output_type": "execute_result"
    }
   ],
   "source": [
    "N_TRAIN"
   ]
  },
  {
   "cell_type": "code",
   "execution_count": 13,
   "metadata": {},
   "outputs": [],
   "source": [
    "BUFFER_SIZE = int(1e4)"
   ]
  },
  {
   "cell_type": "code",
   "execution_count": 14,
   "metadata": {},
   "outputs": [],
   "source": [
    "BATCH_SIZE = 500"
   ]
  },
  {
   "cell_type": "code",
   "execution_count": 15,
   "metadata": {},
   "outputs": [],
   "source": [
    "STEPS_PER_EPOCH = N_TRAIN // BATCH_SIZE"
   ]
  },
  {
   "cell_type": "code",
   "execution_count": 16,
   "metadata": {},
   "outputs": [
    {
     "data": {
      "text/plain": [
       "20"
      ]
     },
     "execution_count": 16,
     "metadata": {},
     "output_type": "execute_result"
    }
   ],
   "source": [
    "STEPS_PER_EPOCH"
   ]
  },
  {
   "cell_type": "code",
   "execution_count": 17,
   "metadata": {},
   "outputs": [],
   "source": [
    "validate_ds = packed_ds.take(N_VALIDATION).cache()"
   ]
  },
  {
   "cell_type": "code",
   "execution_count": 18,
   "metadata": {},
   "outputs": [],
   "source": [
    "train_ds = packed_ds.skip(N_VALIDATION).take(N_TRAIN).cache()"
   ]
  },
  {
   "cell_type": "code",
   "execution_count": 19,
   "metadata": {},
   "outputs": [],
   "source": [
    "validate_ds = validate_ds.batch(BATCH_SIZE)"
   ]
  },
  {
   "cell_type": "code",
   "execution_count": 20,
   "metadata": {},
   "outputs": [],
   "source": [
    "train_ds = train_ds.shuffle(BUFFER_SIZE).repeat().batch(BATCH_SIZE)"
   ]
  },
  {
   "cell_type": "code",
   "execution_count": 21,
   "metadata": {},
   "outputs": [],
   "source": [
    "lr_schedule = keras.optimizers.schedules.InverseTimeDecay(\n",
    "    0.001,\n",
    "    decay_steps=STEPS_PER_EPOCH*1000,\n",
    "    decay_rate=1,\n",
    "    staircase=False\n",
    ")"
   ]
  },
  {
   "cell_type": "code",
   "execution_count": 22,
   "metadata": {},
   "outputs": [],
   "source": [
    "def get_optimizer():\n",
    "    return keras.optimizers.Adam(lr_schedule)"
   ]
  },
  {
   "cell_type": "code",
   "execution_count": 23,
   "metadata": {},
   "outputs": [],
   "source": [
    "step = np.linspace(0, 100000)"
   ]
  },
  {
   "cell_type": "code",
   "execution_count": 24,
   "metadata": {},
   "outputs": [
    {
     "data": {
      "text/plain": [
       "array([     0.        ,   2040.81632653,   4081.63265306,   6122.44897959,\n",
       "         8163.26530612,  10204.08163265,  12244.89795918,  14285.71428571,\n",
       "        16326.53061224,  18367.34693878,  20408.16326531,  22448.97959184,\n",
       "        24489.79591837,  26530.6122449 ,  28571.42857143,  30612.24489796,\n",
       "        32653.06122449,  34693.87755102,  36734.69387755,  38775.51020408,\n",
       "        40816.32653061,  42857.14285714,  44897.95918367,  46938.7755102 ,\n",
       "        48979.59183673,  51020.40816327,  53061.2244898 ,  55102.04081633,\n",
       "        57142.85714286,  59183.67346939,  61224.48979592,  63265.30612245,\n",
       "        65306.12244898,  67346.93877551,  69387.75510204,  71428.57142857,\n",
       "        73469.3877551 ,  75510.20408163,  77551.02040816,  79591.83673469,\n",
       "        81632.65306122,  83673.46938776,  85714.28571429,  87755.10204082,\n",
       "        89795.91836735,  91836.73469388,  93877.55102041,  95918.36734694,\n",
       "        97959.18367347, 100000.        ])"
      ]
     },
     "execution_count": 24,
     "metadata": {},
     "output_type": "execute_result"
    }
   ],
   "source": [
    "step"
   ]
  },
  {
   "cell_type": "code",
   "execution_count": 25,
   "metadata": {},
   "outputs": [],
   "source": [
    "lr = lr_schedule(step)"
   ]
  },
  {
   "cell_type": "code",
   "execution_count": 27,
   "metadata": {},
   "outputs": [
    {
     "data": {
      "text/plain": [
       "<tf.Tensor: shape=(50,), dtype=float32, numpy=\n",
       "array([0.001     , 0.00090741, 0.00083051, 0.00076563, 0.00071014,\n",
       "       0.00066216, 0.00062025, 0.00058333, 0.00055056, 0.00052128,\n",
       "       0.00049495, 0.00047115, 0.00044954, 0.00042982, 0.00041176,\n",
       "       0.00039516, 0.00037984, 0.00036567, 0.00035252, 0.00034028,\n",
       "       0.00032886, 0.00031818, 0.00030818, 0.00029878, 0.00028994,\n",
       "       0.00028161, 0.00027374, 0.0002663 , 0.00025926, 0.00025258,\n",
       "       0.00024623, 0.0002402 , 0.00023445, 0.00022897, 0.00022374,\n",
       "       0.00021875, 0.00021397, 0.0002094 , 0.00020502, 0.00020082,\n",
       "       0.00019679, 0.00019291, 0.00018919, 0.00018561, 0.00018216,\n",
       "       0.00017883, 0.00017563, 0.00017254, 0.00016955, 0.00016667],\n",
       "      dtype=float32)>"
      ]
     },
     "execution_count": 27,
     "metadata": {},
     "output_type": "execute_result"
    }
   ],
   "source": [
    "lr"
   ]
  },
  {
   "cell_type": "code",
   "execution_count": 28,
   "metadata": {},
   "outputs": [
    {
     "data": {
      "image/png": "[encoded data removed]",
      "text/plain": [
       "<Figure size 800x600 with 1 Axes>"
      ]
     },
     "metadata": {},
     "output_type": "display_data"
    }
   ],
   "source": [
    "plt.figure(figsize=(8, 6))\n",
    "plt.plot(step/STEPS_PER_EPOCH, lr)\n",
    "plt.ylim([0, max(plt.ylim())])\n",
    "plt.xlabel('Epoch')\n",
    "_ = plt.ylabel('Learning Rate')"
   ]
  },
  {
   "cell_type": "code",
   "execution_count": 29,
   "metadata": {},
   "outputs": [],
   "source": [
    "def get_callbacks(name):\n",
    "    return [\n",
    "        tfdocs.modeling.EpochDots(),\n",
    "        keras.callbacks.EarlyStopping(monitor='val_binary_crossentropy', patience=200),\n",
    "        keras.callbacks.TensorBoard(logdir/name)\n",
    "    ]"
   ]
  },
  {
   "cell_type": "code",
   "execution_count": 34,
   "metadata": {},
   "outputs": [],
   "source": [
    "def compile_and_fit(model, name, optimizer=None, max_epochs=10000):\n",
    "    if optimizer is None:\n",
    "        optimizer = get_optimizer()\n",
    "    model.compile(optimizer=optimizer,\n",
    "                  loss=tf.keras.losses.BinaryCrossentropy(from_logits=True),\n",
    "                  metrics=[\n",
    "                      tf.keras.metrics.BinaryCrossentropy(\n",
    "                          from_logits=True, name='binary_crossentropy'),\n",
    "                      'accuracy'])\n",
    "\n",
    "    model.summary()\n",
    "\n",
    "    history = model.fit(\n",
    "        train_ds.map(lambda x, y: (x, tf.expand_dims(y, axis=-1))),\n",
    "        steps_per_epoch=STEPS_PER_EPOCH,\n",
    "        epochs=max_epochs,\n",
    "        validation_data=validate_ds.map(\n",
    "            lambda x, y: (x, tf.expand_dims(y, axis=-1))),\n",
    "        callbacks=get_callbacks(name),\n",
    "        verbose=0)\n",
    "    return history"
   ]
  },
  {
   "cell_type": "code",
   "execution_count": 35,
   "metadata": {},
   "outputs": [],
   "source": [
    "# tiny model\n",
    "tiny_model = keras.Sequential([\n",
    "    keras.layers.Dense(16, activation='elu', input_shape=(FEATURES,)),\n",
    "    keras.layers.Dense(1)\n",
    "])"
   ]
  },
  {
   "cell_type": "code",
   "execution_count": 36,
   "metadata": {},
   "outputs": [],
   "source": [
    "size_histories = {}"
   ]
  },
  {
   "cell_type": "code",
   "execution_count": null,
   "metadata": {},
   "outputs": [
    {
     "data": {
      "text/html": [
       "<pre style=\"white-space:pre;overflow-x:auto;line-height:normal;font-family:Menlo,'DejaVu Sans Mono',consolas,'Courier New',monospace\"><span style=\"font-weight: bold\">Model: \"sequential_1\"</span>\n",
       "</pre>\n"
      ],
      "text/plain": [
       "\u001b[1mModel: \"sequential_1\"\u001b[0m\n"
      ]
     },
     "metadata": {},
     "output_type": "display_data"
    },
    {
     "data": {
      "text/html": [
       "<pre style=\"white-space:pre;overflow-x:auto;line-height:normal;font-family:Menlo,'DejaVu Sans Mono',consolas,'Courier New',monospace\">┏━━━━━━━━━━━━━━━━━━━━━━━━━━━━━━━━━┳━━━━━━━━━━━━━━━━━━━━━━━━┳━━━━━━━━━━━━━━━┓\n",
       "┃<span style=\"font-weight: bold\"> Layer (type)                    </span>┃<span style=\"font-weight: bold\"> Output Shape           </span>┃<span style=\"font-weight: bold\">       Param # </span>┃\n",
       "┡━━━━━━━━━━━━━━━━━━━━━━━━━━━━━━━━━╇━━━━━━━━━━━━━━━━━━━━━━━━╇━━━━━━━━━━━━━━━┩\n",
       "│ dense_2 (<span style=\"color: #0087ff; text-decoration-color: #0087ff\">Dense</span>)                 │ (<span style=\"color: #00d7ff; text-decoration-color: #00d7ff\">None</span>, <span style=\"color: #00af00; text-decoration-color: #00af00\">16</span>)             │           <span style=\"color: #00af00; text-decoration-color: #00af00\">464</span> │\n",
       "├─────────────────────────────────┼────────────────────────┼───────────────┤\n",
       "│ dense_3 (<span style=\"color: #0087ff; text-decoration-color: #0087ff\">Dense</span>)                 │ (<span style=\"color: #00d7ff; text-decoration-color: #00d7ff\">None</span>, <span style=\"color: #00af00; text-decoration-color: #00af00\">1</span>)              │            <span style=\"color: #00af00; text-decoration-color: #00af00\">17</span> │\n",
       "└─────────────────────────────────┴────────────────────────┴───────────────┘\n",
       "</pre>\n"
      ],
      "text/plain": [
       "┏━━━━━━━━━━━━━━━━━━━━━━━━━━━━━━━━━┳━━━━━━━━━━━━━━━━━━━━━━━━┳━━━━━━━━━━━━━━━┓\n",
       "┃\u001b[1m \u001b[0m\u001b[1mLayer (type)                   \u001b[0m\u001b[1m \u001b[0m┃\u001b[1m \u001b[0m\u001b[1mOutput Shape          \u001b[0m\u001b[1m \u001b[0m┃\u001b[1m \u001b[0m\u001b[1m      Param #\u001b[0m\u001b[1m \u001b[0m┃\n",
       "┡━━━━━━━━━━━━━━━━━━━━━━━━━━━━━━━━━╇━━━━━━━━━━━━━━━━━━━━━━━━╇━━━━━━━━━━━━━━━┩\n",
       "│ dense_2 (\u001b[38;5;33mDense\u001b[0m)                 │ (\u001b[38;5;45mNone\u001b[0m, \u001b[38;5;34m16\u001b[0m)             │           \u001b[38;5;34m464\u001b[0m │\n",
       "├─────────────────────────────────┼────────────────────────┼───────────────┤\n",
       "│ dense_3 (\u001b[38;5;33mDense\u001b[0m)                 │ (\u001b[38;5;45mNone\u001b[0m, \u001b[38;5;34m1\u001b[0m)              │            \u001b[38;5;34m17\u001b[0m │\n",
       "└─────────────────────────────────┴────────────────────────┴───────────────┘\n"
      ]
     },
     "metadata": {},
     "output_type": "display_data"
    },
    {
     "data": {
      "text/html": [
       "<pre style=\"white-space:pre;overflow-x:auto;line-height:normal;font-family:Menlo,'DejaVu Sans Mono',consolas,'Courier New',monospace\"><span style=\"font-weight: bold\"> Total params: </span><span style=\"color: #00af00; text-decoration-color: #00af00\">481</span> (1.88 KB)\n",
       "</pre>\n"
      ],
      "text/plain": [
       "\u001b[1m Total params: \u001b[0m\u001b[38;5;34m481\u001b[0m (1.88 KB)\n"
      ]
     },
     "metadata": {},
     "output_type": "display_data"
    },
    {
     "data": {
      "text/html": [
       "<pre style=\"white-space:pre;overflow-x:auto;line-height:normal;font-family:Menlo,'DejaVu Sans Mono',consolas,'Courier New',monospace\"><span style=\"font-weight: bold\"> Trainable params: </span><span style=\"color: #00af00; text-decoration-color: #00af00\">481</span> (1.88 KB)\n",
       "</pre>\n"
      ],
      "text/plain": [
       "\u001b[1m Trainable params: \u001b[0m\u001b[38;5;34m481\u001b[0m (1.88 KB)\n"
      ]
     },
     "metadata": {},
     "output_type": "display_data"
    },
    {
     "data": {
      "text/html": [
       "<pre style=\"white-space:pre;overflow-x:auto;line-height:normal;font-family:Menlo,'DejaVu Sans Mono',consolas,'Courier New',monospace\"><span style=\"font-weight: bold\"> Non-trainable params: </span><span style=\"color: #00af00; text-decoration-color: #00af00\">0</span> (0.00 B)\n",
       "</pre>\n"
      ],
      "text/plain": [
       "\u001b[1m Non-trainable params: \u001b[0m\u001b[38;5;34m0\u001b[0m (0.00 B)\n"
      ]
     },
     "metadata": {},
     "output_type": "display_data"
    },
    {
     "name": "stdout",
     "output_type": "stream",
     "text": [
      "\n",
      "Epoch: 0, accuracy:0.4870,  binary_crossentropy:0.8518,  loss:0.8518,  val_accuracy:0.4350,  val_binary_crossentropy:0.8285,  val_loss:0.8285,  \n",
      "....."
     ]
    },
    {
     "name": "stderr",
     "output_type": "stream",
     "text": [
      "C:\\Users\\ADMIN\\AppData\\Local\\Programs\\Python\\Python39\\lib\\contextlib.py:137: UserWarning: Your input ran out of data; interrupting training. Make sure that your dataset or generator can generate at least `steps_per_epoch * epochs` batches. You may need to use the `.repeat()` function when building your dataset.\n",
      "  self.gen.throw(typ, value, traceback)\n"
     ]
    },
    {
     "name": "stdout",
     "output_type": "stream",
     "text": [
      "...............................................................................................\n",
      "Epoch: 100, accuracy:0.5880,  binary_crossentropy:0.6333,  loss:0.6333,  val_accuracy:0.5740,  val_binary_crossentropy:0.6338,  val_loss:0.6338,  \n",
      "....................................................................................................\n",
      "Epoch: 200, accuracy:0.6091,  binary_crossentropy:0.6227,  loss:0.6227,  val_accuracy:0.5800,  val_binary_crossentropy:0.6288,  val_loss:0.6288,  \n",
      "....................................................................................................\n",
      "Epoch: 300, accuracy:0.6202,  binary_crossentropy:0.6146,  loss:0.6146,  val_accuracy:0.5920,  val_binary_crossentropy:0.6252,  val_loss:0.6252,  \n",
      "....................................................................................................\n",
      "Epoch: 400, accuracy:0.6311,  binary_crossentropy:0.6069,  loss:0.6069,  val_accuracy:0.6190,  val_binary_crossentropy:0.6177,  val_loss:0.6177,  \n",
      "....................................................................................................\n",
      "Epoch: 500, accuracy:0.6464,  binary_crossentropy:0.5989,  loss:0.5989,  val_accuracy:0.6160,  val_binary_crossentropy:0.6120,  val_loss:0.6120,  \n",
      "....................................................................................................\n",
      "Epoch: 600, accuracy:0.6533,  binary_crossentropy:0.5931,  loss:0.5931,  val_accuracy:0.6430,  val_binary_crossentropy:0.6027,  val_loss:0.6027,  \n",
      "....................................................................................................\n",
      "Epoch: 700, accuracy:0.6636,  binary_crossentropy:0.5884,  loss:0.5884,  val_accuracy:0.6380,  val_binary_crossentropy:0.6000,  val_loss:0.6000,  \n",
      "....................................................................................................\n",
      "Epoch: 800, accuracy:0.6677,  binary_crossentropy:0.5848,  loss:0.5848,  val_accuracy:0.6410,  val_binary_crossentropy:0.5980,  val_loss:0.5980,  \n",
      "....................................................................................................\n",
      "Epoch: 900, accuracy:0.6721,  binary_crossentropy:0.5827,  loss:0.5827,  val_accuracy:0.6500,  val_binary_crossentropy:0.5977,  val_loss:0.5977,  \n",
      "....................................................................................................\n",
      "Epoch: 1000, accuracy:0.6746,  binary_crossentropy:0.5796,  loss:0.5796,  val_accuracy:0.6440,  val_binary_crossentropy:0.5983,  val_loss:0.5983,  \n",
      "....................................................................................................\n",
      "Epoch: 1100, accuracy:0.6713,  binary_crossentropy:0.5775,  loss:0.5775,  val_accuracy:0.6640,  val_binary_crossentropy:0.5982,  val_loss:0.5982,  \n",
      "......................................................................."
     ]
    }
   ],
   "source": [
    "size_histories['Tiny'] = compile_and_fit(tiny_model, 'sizes/Tiny')"
   ]
  },
  {
   "cell_type": "code",
   "execution_count": 38,
   "metadata": {},
   "outputs": [
    {
     "data": {
      "text/plain": [
       "(0.5, 0.7)"
      ]
     },
     "execution_count": 38,
     "metadata": {},
     "output_type": "execute_result"
    },
    {
     "data": {
      "image/png": "[encoded data removed]",
      "text/plain": [
       "<Figure size 640x480 with 1 Axes>"
      ]
     },
     "metadata": {},
     "output_type": "display_data"
    }
   ],
   "source": [
    "plotter = tfdocs.plots.HistoryPlotter(metric = 'binary_crossentropy', smoothing_std=10)\n",
    "plotter.plot(size_histories)\n",
    "plt.ylim([0.5, 0.7])"
   ]
  },
  {
   "cell_type": "code",
   "execution_count": 40,
   "metadata": {},
   "outputs": [
    {
     "name": "stderr",
     "output_type": "stream",
     "text": [
      "d:\\code\\selenium\\.venv\\lib\\site-packages\\keras\\src\\layers\\core\\dense.py:87: UserWarning: Do not pass an `input_shape`/`input_dim` argument to a layer. When using Sequential models, prefer using an `Input(shape)` object as the first layer in the model instead.\n",
      "  super().__init__(activity_regularizer=activity_regularizer, **kwargs)\n"
     ]
    }
   ],
   "source": [
    "small_model = keras.Sequential([\n",
    "    # `input_shape` is only required here so that `.summary` works.\n",
    "    keras.layers.Dense(16, activation='elu', input_shape=(FEATURES,)),\n",
    "    keras.layers.Dense(16, activation='elu'),\n",
    "    keras.layers.Dense(1)\n",
    "])"
   ]
  },
  {
   "cell_type": "code",
   "execution_count": 41,
   "metadata": {},
   "outputs": [
    {
     "data": {
      "text/html": [
       "<pre style=\"white-space:pre;overflow-x:auto;line-height:normal;font-family:Menlo,'DejaVu Sans Mono',consolas,'Courier New',monospace\"><span style=\"font-weight: bold\">Model: \"sequential_2\"</span>\n",
       "</pre>\n"
      ],
      "text/plain": [
       "\u001b[1mModel: \"sequential_2\"\u001b[0m\n"
      ]
     },
     "metadata": {},
     "output_type": "display_data"
    },
    {
     "data": {
      "text/html": [
       "<pre style=\"white-space:pre;overflow-x:auto;line-height:normal;font-family:Menlo,'DejaVu Sans Mono',consolas,'Courier New',monospace\">┏━━━━━━━━━━━━━━━━━━━━━━━━━━━━━━━━━┳━━━━━━━━━━━━━━━━━━━━━━━━┳━━━━━━━━━━━━━━━┓\n",
       "┃<span style=\"font-weight: bold\"> Layer (type)                    </span>┃<span style=\"font-weight: bold\"> Output Shape           </span>┃<span style=\"font-weight: bold\">       Param # </span>┃\n",
       "┡━━━━━━━━━━━━━━━━━━━━━━━━━━━━━━━━━╇━━━━━━━━━━━━━━━━━━━━━━━━╇━━━━━━━━━━━━━━━┩\n",
       "│ dense_4 (<span style=\"color: #0087ff; text-decoration-color: #0087ff\">Dense</span>)                 │ (<span style=\"color: #00d7ff; text-decoration-color: #00d7ff\">None</span>, <span style=\"color: #00af00; text-decoration-color: #00af00\">16</span>)             │           <span style=\"color: #00af00; text-decoration-color: #00af00\">464</span> │\n",
       "├─────────────────────────────────┼────────────────────────┼───────────────┤\n",
       "│ dense_5 (<span style=\"color: #0087ff; text-decoration-color: #0087ff\">Dense</span>)                 │ (<span style=\"color: #00d7ff; text-decoration-color: #00d7ff\">None</span>, <span style=\"color: #00af00; text-decoration-color: #00af00\">16</span>)             │           <span style=\"color: #00af00; text-decoration-color: #00af00\">272</span> │\n",
       "├─────────────────────────────────┼────────────────────────┼───────────────┤\n",
       "│ dense_6 (<span style=\"color: #0087ff; text-decoration-color: #0087ff\">Dense</span>)                 │ (<span style=\"color: #00d7ff; text-decoration-color: #00d7ff\">None</span>, <span style=\"color: #00af00; text-decoration-color: #00af00\">1</span>)              │            <span style=\"color: #00af00; text-decoration-color: #00af00\">17</span> │\n",
       "└─────────────────────────────────┴────────────────────────┴───────────────┘\n",
       "</pre>\n"
      ],
      "text/plain": [
       "┏━━━━━━━━━━━━━━━━━━━━━━━━━━━━━━━━━┳━━━━━━━━━━━━━━━━━━━━━━━━┳━━━━━━━━━━━━━━━┓\n",
       "┃\u001b[1m \u001b[0m\u001b[1mLayer (type)                   \u001b[0m\u001b[1m \u001b[0m┃\u001b[1m \u001b[0m\u001b[1mOutput Shape          \u001b[0m\u001b[1m \u001b[0m┃\u001b[1m \u001b[0m\u001b[1m      Param #\u001b[0m\u001b[1m \u001b[0m┃\n",
       "┡━━━━━━━━━━━━━━━━━━━━━━━━━━━━━━━━━╇━━━━━━━━━━━━━━━━━━━━━━━━╇━━━━━━━━━━━━━━━┩\n",
       "│ dense_4 (\u001b[38;5;33mDense\u001b[0m)                 │ (\u001b[38;5;45mNone\u001b[0m, \u001b[38;5;34m16\u001b[0m)             │           \u001b[38;5;34m464\u001b[0m │\n",
       "├─────────────────────────────────┼────────────────────────┼───────────────┤\n",
       "│ dense_5 (\u001b[38;5;33mDense\u001b[0m)                 │ (\u001b[38;5;45mNone\u001b[0m, \u001b[38;5;34m16\u001b[0m)             │           \u001b[38;5;34m272\u001b[0m │\n",
       "├─────────────────────────────────┼────────────────────────┼───────────────┤\n",
       "│ dense_6 (\u001b[38;5;33mDense\u001b[0m)                 │ (\u001b[38;5;45mNone\u001b[0m, \u001b[38;5;34m1\u001b[0m)              │            \u001b[38;5;34m17\u001b[0m │\n",
       "└─────────────────────────────────┴────────────────────────┴───────────────┘\n"
      ]
     },
     "metadata": {},
     "output_type": "display_data"
    },
    {
     "data": {
      "text/html": [
       "<pre style=\"white-space:pre;overflow-x:auto;line-height:normal;font-family:Menlo,'DejaVu Sans Mono',consolas,'Courier New',monospace\"><span style=\"font-weight: bold\"> Total params: </span><span style=\"color: #00af00; text-decoration-color: #00af00\">753</span> (2.94 KB)\n",
       "</pre>\n"
      ],
      "text/plain": [
       "\u001b[1m Total params: \u001b[0m\u001b[38;5;34m753\u001b[0m (2.94 KB)\n"
      ]
     },
     "metadata": {},
     "output_type": "display_data"
    },
    {
     "data": {
      "text/html": [
       "<pre style=\"white-space:pre;overflow-x:auto;line-height:normal;font-family:Menlo,'DejaVu Sans Mono',consolas,'Courier New',monospace\"><span style=\"font-weight: bold\"> Trainable params: </span><span style=\"color: #00af00; text-decoration-color: #00af00\">753</span> (2.94 KB)\n",
       "</pre>\n"
      ],
      "text/plain": [
       "\u001b[1m Trainable params: \u001b[0m\u001b[38;5;34m753\u001b[0m (2.94 KB)\n"
      ]
     },
     "metadata": {},
     "output_type": "display_data"
    },
    {
     "data": {
      "text/html": [
       "<pre style=\"white-space:pre;overflow-x:auto;line-height:normal;font-family:Menlo,'DejaVu Sans Mono',consolas,'Courier New',monospace\"><span style=\"font-weight: bold\"> Non-trainable params: </span><span style=\"color: #00af00; text-decoration-color: #00af00\">0</span> (0.00 B)\n",
       "</pre>\n"
      ],
      "text/plain": [
       "\u001b[1m Non-trainable params: \u001b[0m\u001b[38;5;34m0\u001b[0m (0.00 B)\n"
      ]
     },
     "metadata": {},
     "output_type": "display_data"
    },
    {
     "name": "stdout",
     "output_type": "stream",
     "text": [
      "\n",
      "Epoch: 0, accuracy:0.4882,  binary_crossentropy:0.8030,  loss:0.8030,  val_accuracy:0.4830,  val_binary_crossentropy:0.7494,  val_loss:0.7494,  \n",
      "...."
     ]
    },
    {
     "name": "stderr",
     "output_type": "stream",
     "text": [
      "C:\\Users\\ADMIN\\AppData\\Local\\Programs\\Python\\Python39\\lib\\contextlib.py:137: UserWarning: Your input ran out of data; interrupting training. Make sure that your dataset or generator can generate at least `steps_per_epoch * epochs` batches. You may need to use the `.repeat()` function when building your dataset.\n",
      "  self.gen.throw(typ, value, traceback)\n"
     ]
    },
    {
     "name": "stdout",
     "output_type": "stream",
     "text": [
      "................................................................................................\n",
      "Epoch: 100, accuracy:0.6165,  binary_crossentropy:0.6180,  loss:0.6180,  val_accuracy:0.5860,  val_binary_crossentropy:0.6297,  val_loss:0.6297,  \n",
      "....................................................................................................\n",
      "Epoch: 200, accuracy:0.6432,  binary_crossentropy:0.6021,  loss:0.6021,  val_accuracy:0.6250,  val_binary_crossentropy:0.6213,  val_loss:0.6213,  \n",
      "....................................................................................................\n",
      "Epoch: 300, accuracy:0.6564,  binary_crossentropy:0.5883,  loss:0.5883,  val_accuracy:0.6250,  val_binary_crossentropy:0.6107,  val_loss:0.6107,  \n",
      "....................................................................................................\n",
      "Epoch: 400, accuracy:0.6770,  binary_crossentropy:0.5791,  loss:0.5791,  val_accuracy:0.6550,  val_binary_crossentropy:0.6019,  val_loss:0.6019,  \n",
      "....................................................................................................\n",
      "Epoch: 500, accuracy:0.6805,  binary_crossentropy:0.5720,  loss:0.5720,  val_accuracy:0.6420,  val_binary_crossentropy:0.6009,  val_loss:0.6009,  \n",
      "....................................................................................................\n",
      "Epoch: 600, accuracy:0.6859,  binary_crossentropy:0.5668,  loss:0.5668,  val_accuracy:0.6660,  val_binary_crossentropy:0.5970,  val_loss:0.5970,  \n",
      "....................................................................................................\n",
      "Epoch: 700, accuracy:0.6912,  binary_crossentropy:0.5620,  loss:0.5620,  val_accuracy:0.6570,  val_binary_crossentropy:0.5995,  val_loss:0.5995,  \n",
      "....................................................................................................\n",
      "Epoch: 800, accuracy:0.6919,  binary_crossentropy:0.5586,  loss:0.5586,  val_accuracy:0.6520,  val_binary_crossentropy:0.6013,  val_loss:0.6013,  \n",
      "."
     ]
    }
   ],
   "source": [
    "size_histories['Small'] = compile_and_fit(small_model, 'sizes/Small')"
   ]
  },
  {
   "cell_type": "code",
   "execution_count": 44,
   "metadata": {},
   "outputs": [
    {
     "name": "stderr",
     "output_type": "stream",
     "text": [
      "d:\\code\\selenium\\.venv\\lib\\site-packages\\keras\\src\\layers\\core\\dense.py:87: UserWarning: Do not pass an `input_shape`/`input_dim` argument to a layer. When using Sequential models, prefer using an `Input(shape)` object as the first layer in the model instead.\n",
      "  super().__init__(activity_regularizer=activity_regularizer, **kwargs)\n"
     ]
    }
   ],
   "source": [
    "medium_model = keras.Sequential([\n",
    "    keras.layers.Dense(64, activation='elu', input_shape=(FEATURES,)),\n",
    "    keras.layers.Dense(64, activation='elu'),\n",
    "    keras.layers.Dense(64, activation='elu'),\n",
    "    keras.layers.Dense(1)\n",
    "])"
   ]
  },
  {
   "cell_type": "code",
   "execution_count": 45,
   "metadata": {},
   "outputs": [
    {
     "data": {
      "text/html": [
       "<pre style=\"white-space:pre;overflow-x:auto;line-height:normal;font-family:Menlo,'DejaVu Sans Mono',consolas,'Courier New',monospace\"><span style=\"font-weight: bold\">Model: \"sequential_3\"</span>\n",
       "</pre>\n"
      ],
      "text/plain": [
       "\u001b[1mModel: \"sequential_3\"\u001b[0m\n"
      ]
     },
     "metadata": {},
     "output_type": "display_data"
    },
    {
     "data": {
      "text/html": [
       "<pre style=\"white-space:pre;overflow-x:auto;line-height:normal;font-family:Menlo,'DejaVu Sans Mono',consolas,'Courier New',monospace\">┏━━━━━━━━━━━━━━━━━━━━━━━━━━━━━━━━━┳━━━━━━━━━━━━━━━━━━━━━━━━┳━━━━━━━━━━━━━━━┓\n",
       "┃<span style=\"font-weight: bold\"> Layer (type)                    </span>┃<span style=\"font-weight: bold\"> Output Shape           </span>┃<span style=\"font-weight: bold\">       Param # </span>┃\n",
       "┡━━━━━━━━━━━━━━━━━━━━━━━━━━━━━━━━━╇━━━━━━━━━━━━━━━━━━━━━━━━╇━━━━━━━━━━━━━━━┩\n",
       "│ dense_7 (<span style=\"color: #0087ff; text-decoration-color: #0087ff\">Dense</span>)                 │ (<span style=\"color: #00d7ff; text-decoration-color: #00d7ff\">None</span>, <span style=\"color: #00af00; text-decoration-color: #00af00\">64</span>)             │         <span style=\"color: #00af00; text-decoration-color: #00af00\">1,856</span> │\n",
       "├─────────────────────────────────┼────────────────────────┼───────────────┤\n",
       "│ dense_8 (<span style=\"color: #0087ff; text-decoration-color: #0087ff\">Dense</span>)                 │ (<span style=\"color: #00d7ff; text-decoration-color: #00d7ff\">None</span>, <span style=\"color: #00af00; text-decoration-color: #00af00\">64</span>)             │         <span style=\"color: #00af00; text-decoration-color: #00af00\">4,160</span> │\n",
       "├─────────────────────────────────┼────────────────────────┼───────────────┤\n",
       "│ dense_9 (<span style=\"color: #0087ff; text-decoration-color: #0087ff\">Dense</span>)                 │ (<span style=\"color: #00d7ff; text-decoration-color: #00d7ff\">None</span>, <span style=\"color: #00af00; text-decoration-color: #00af00\">64</span>)             │         <span style=\"color: #00af00; text-decoration-color: #00af00\">4,160</span> │\n",
       "├─────────────────────────────────┼────────────────────────┼───────────────┤\n",
       "│ dense_10 (<span style=\"color: #0087ff; text-decoration-color: #0087ff\">Dense</span>)                │ (<span style=\"color: #00d7ff; text-decoration-color: #00d7ff\">None</span>, <span style=\"color: #00af00; text-decoration-color: #00af00\">1</span>)              │            <span style=\"color: #00af00; text-decoration-color: #00af00\">65</span> │\n",
       "└─────────────────────────────────┴────────────────────────┴───────────────┘\n",
       "</pre>\n"
      ],
      "text/plain": [
       "┏━━━━━━━━━━━━━━━━━━━━━━━━━━━━━━━━━┳━━━━━━━━━━━━━━━━━━━━━━━━┳━━━━━━━━━━━━━━━┓\n",
       "┃\u001b[1m \u001b[0m\u001b[1mLayer (type)                   \u001b[0m\u001b[1m \u001b[0m┃\u001b[1m \u001b[0m\u001b[1mOutput Shape          \u001b[0m\u001b[1m \u001b[0m┃\u001b[1m \u001b[0m\u001b[1m      Param #\u001b[0m\u001b[1m \u001b[0m┃\n",
       "┡━━━━━━━━━━━━━━━━━━━━━━━━━━━━━━━━━╇━━━━━━━━━━━━━━━━━━━━━━━━╇━━━━━━━━━━━━━━━┩\n",
       "│ dense_7 (\u001b[38;5;33mDense\u001b[0m)                 │ (\u001b[38;5;45mNone\u001b[0m, \u001b[38;5;34m64\u001b[0m)             │         \u001b[38;5;34m1,856\u001b[0m │\n",
       "├─────────────────────────────────┼────────────────────────┼───────────────┤\n",
       "│ dense_8 (\u001b[38;5;33mDense\u001b[0m)                 │ (\u001b[38;5;45mNone\u001b[0m, \u001b[38;5;34m64\u001b[0m)             │         \u001b[38;5;34m4,160\u001b[0m │\n",
       "├─────────────────────────────────┼────────────────────────┼───────────────┤\n",
       "│ dense_9 (\u001b[38;5;33mDense\u001b[0m)                 │ (\u001b[38;5;45mNone\u001b[0m, \u001b[38;5;34m64\u001b[0m)             │         \u001b[38;5;34m4,160\u001b[0m │\n",
       "├─────────────────────────────────┼────────────────────────┼───────────────┤\n",
       "│ dense_10 (\u001b[38;5;33mDense\u001b[0m)                │ (\u001b[38;5;45mNone\u001b[0m, \u001b[38;5;34m1\u001b[0m)              │            \u001b[38;5;34m65\u001b[0m │\n",
       "└─────────────────────────────────┴────────────────────────┴───────────────┘\n"
      ]
     },
     "metadata": {},
     "output_type": "display_data"
    },
    {
     "data": {
      "text/html": [
       "<pre style=\"white-space:pre;overflow-x:auto;line-height:normal;font-family:Menlo,'DejaVu Sans Mono',consolas,'Courier New',monospace\"><span style=\"font-weight: bold\"> Total params: </span><span style=\"color: #00af00; text-decoration-color: #00af00\">10,241</span> (40.00 KB)\n",
       "</pre>\n"
      ],
      "text/plain": [
       "\u001b[1m Total params: \u001b[0m\u001b[38;5;34m10,241\u001b[0m (40.00 KB)\n"
      ]
     },
     "metadata": {},
     "output_type": "display_data"
    },
    {
     "data": {
      "text/html": [
       "<pre style=\"white-space:pre;overflow-x:auto;line-height:normal;font-family:Menlo,'DejaVu Sans Mono',consolas,'Courier New',monospace\"><span style=\"font-weight: bold\"> Trainable params: </span><span style=\"color: #00af00; text-decoration-color: #00af00\">10,241</span> (40.00 KB)\n",
       "</pre>\n"
      ],
      "text/plain": [
       "\u001b[1m Trainable params: \u001b[0m\u001b[38;5;34m10,241\u001b[0m (40.00 KB)\n"
      ]
     },
     "metadata": {},
     "output_type": "display_data"
    },
    {
     "data": {
      "text/html": [
       "<pre style=\"white-space:pre;overflow-x:auto;line-height:normal;font-family:Menlo,'DejaVu Sans Mono',consolas,'Courier New',monospace\"><span style=\"font-weight: bold\"> Non-trainable params: </span><span style=\"color: #00af00; text-decoration-color: #00af00\">0</span> (0.00 B)\n",
       "</pre>\n"
      ],
      "text/plain": [
       "\u001b[1m Non-trainable params: \u001b[0m\u001b[38;5;34m0\u001b[0m (0.00 B)\n"
      ]
     },
     "metadata": {},
     "output_type": "display_data"
    },
    {
     "name": "stdout",
     "output_type": "stream",
     "text": [
      "\n",
      "Epoch: 0, accuracy:0.5052,  binary_crossentropy:0.6873,  loss:0.6873,  val_accuracy:0.4920,  val_binary_crossentropy:0.6712,  val_loss:0.6712,  \n",
      "...."
     ]
    },
    {
     "name": "stderr",
     "output_type": "stream",
     "text": [
      "C:\\Users\\ADMIN\\AppData\\Local\\Programs\\Python\\Python39\\lib\\contextlib.py:137: UserWarning: Your input ran out of data; interrupting training. Make sure that your dataset or generator can generate at least `steps_per_epoch * epochs` batches. You may need to use the `.repeat()` function when building your dataset.\n",
      "  self.gen.throw(typ, value, traceback)\n"
     ]
    },
    {
     "name": "stdout",
     "output_type": "stream",
     "text": [
      "................................................................................................\n",
      "Epoch: 100, accuracy:0.7154,  binary_crossentropy:0.5328,  loss:0.5328,  val_accuracy:0.6480,  val_binary_crossentropy:0.6103,  val_loss:0.6103,  \n",
      "....................................................................................................\n",
      "Epoch: 200, accuracy:0.7911,  binary_crossentropy:0.4293,  loss:0.4293,  val_accuracy:0.6350,  val_binary_crossentropy:0.6929,  val_loss:0.6929,  \n",
      "....................................................................................."
     ]
    }
   ],
   "source": [
    "size_histories['Medium']  = compile_and_fit(medium_model, \"sizes/Medium\")"
   ]
  },
  {
   "cell_type": "code",
   "execution_count": 47,
   "metadata": {},
   "outputs": [
    {
     "name": "stderr",
     "output_type": "stream",
     "text": [
      "d:\\code\\selenium\\.venv\\lib\\site-packages\\keras\\src\\layers\\core\\dense.py:87: UserWarning: Do not pass an `input_shape`/`input_dim` argument to a layer. When using Sequential models, prefer using an `Input(shape)` object as the first layer in the model instead.\n",
      "  super().__init__(activity_regularizer=activity_regularizer, **kwargs)\n"
     ]
    }
   ],
   "source": [
    "large_model = keras.Sequential([\n",
    "    keras.layers.Dense(512, activation='elu', input_shape=(FEATURES,)),\n",
    "    keras.layers.Dense(512, activation='elu'),\n",
    "    keras.layers.Dense(512, activation='elu'),\n",
    "    keras.layers.Dense(512, activation='elu'),\n",
    "    keras.layers.Dense(1)\n",
    "])"
   ]
  },
  {
   "cell_type": "code",
   "execution_count": 48,
   "metadata": {},
   "outputs": [
    {
     "data": {
      "text/html": [
       "<pre style=\"white-space:pre;overflow-x:auto;line-height:normal;font-family:Menlo,'DejaVu Sans Mono',consolas,'Courier New',monospace\"><span style=\"font-weight: bold\">Model: \"sequential_4\"</span>\n",
       "</pre>\n"
      ],
      "text/plain": [
       "\u001b[1mModel: \"sequential_4\"\u001b[0m\n"
      ]
     },
     "metadata": {},
     "output_type": "display_data"
    },
    {
     "data": {
      "text/html": [
       "<pre style=\"white-space:pre;overflow-x:auto;line-height:normal;font-family:Menlo,'DejaVu Sans Mono',consolas,'Courier New',monospace\">┏━━━━━━━━━━━━━━━━━━━━━━━━━━━━━━━━━┳━━━━━━━━━━━━━━━━━━━━━━━━┳━━━━━━━━━━━━━━━┓\n",
       "┃<span style=\"font-weight: bold\"> Layer (type)                    </span>┃<span style=\"font-weight: bold\"> Output Shape           </span>┃<span style=\"font-weight: bold\">       Param # </span>┃\n",
       "┡━━━━━━━━━━━━━━━━━━━━━━━━━━━━━━━━━╇━━━━━━━━━━━━━━━━━━━━━━━━╇━━━━━━━━━━━━━━━┩\n",
       "│ dense_11 (<span style=\"color: #0087ff; text-decoration-color: #0087ff\">Dense</span>)                │ (<span style=\"color: #00d7ff; text-decoration-color: #00d7ff\">None</span>, <span style=\"color: #00af00; text-decoration-color: #00af00\">512</span>)            │        <span style=\"color: #00af00; text-decoration-color: #00af00\">14,848</span> │\n",
       "├─────────────────────────────────┼────────────────────────┼───────────────┤\n",
       "│ dense_12 (<span style=\"color: #0087ff; text-decoration-color: #0087ff\">Dense</span>)                │ (<span style=\"color: #00d7ff; text-decoration-color: #00d7ff\">None</span>, <span style=\"color: #00af00; text-decoration-color: #00af00\">512</span>)            │       <span style=\"color: #00af00; text-decoration-color: #00af00\">262,656</span> │\n",
       "├─────────────────────────────────┼────────────────────────┼───────────────┤\n",
       "│ dense_13 (<span style=\"color: #0087ff; text-decoration-color: #0087ff\">Dense</span>)                │ (<span style=\"color: #00d7ff; text-decoration-color: #00d7ff\">None</span>, <span style=\"color: #00af00; text-decoration-color: #00af00\">512</span>)            │       <span style=\"color: #00af00; text-decoration-color: #00af00\">262,656</span> │\n",
       "├─────────────────────────────────┼────────────────────────┼───────────────┤\n",
       "│ dense_14 (<span style=\"color: #0087ff; text-decoration-color: #0087ff\">Dense</span>)                │ (<span style=\"color: #00d7ff; text-decoration-color: #00d7ff\">None</span>, <span style=\"color: #00af00; text-decoration-color: #00af00\">512</span>)            │       <span style=\"color: #00af00; text-decoration-color: #00af00\">262,656</span> │\n",
       "├─────────────────────────────────┼────────────────────────┼───────────────┤\n",
       "│ dense_15 (<span style=\"color: #0087ff; text-decoration-color: #0087ff\">Dense</span>)                │ (<span style=\"color: #00d7ff; text-decoration-color: #00d7ff\">None</span>, <span style=\"color: #00af00; text-decoration-color: #00af00\">1</span>)              │           <span style=\"color: #00af00; text-decoration-color: #00af00\">513</span> │\n",
       "└─────────────────────────────────┴────────────────────────┴───────────────┘\n",
       "</pre>\n"
      ],
      "text/plain": [
       "┏━━━━━━━━━━━━━━━━━━━━━━━━━━━━━━━━━┳━━━━━━━━━━━━━━━━━━━━━━━━┳━━━━━━━━━━━━━━━┓\n",
       "┃\u001b[1m \u001b[0m\u001b[1mLayer (type)                   \u001b[0m\u001b[1m \u001b[0m┃\u001b[1m \u001b[0m\u001b[1mOutput Shape          \u001b[0m\u001b[1m \u001b[0m┃\u001b[1m \u001b[0m\u001b[1m      Param #\u001b[0m\u001b[1m \u001b[0m┃\n",
       "┡━━━━━━━━━━━━━━━━━━━━━━━━━━━━━━━━━╇━━━━━━━━━━━━━━━━━━━━━━━━╇━━━━━━━━━━━━━━━┩\n",
       "│ dense_11 (\u001b[38;5;33mDense\u001b[0m)                │ (\u001b[38;5;45mNone\u001b[0m, \u001b[38;5;34m512\u001b[0m)            │        \u001b[38;5;34m14,848\u001b[0m │\n",
       "├─────────────────────────────────┼────────────────────────┼───────────────┤\n",
       "│ dense_12 (\u001b[38;5;33mDense\u001b[0m)                │ (\u001b[38;5;45mNone\u001b[0m, \u001b[38;5;34m512\u001b[0m)            │       \u001b[38;5;34m262,656\u001b[0m │\n",
       "├─────────────────────────────────┼────────────────────────┼───────────────┤\n",
       "│ dense_13 (\u001b[38;5;33mDense\u001b[0m)                │ (\u001b[38;5;45mNone\u001b[0m, \u001b[38;5;34m512\u001b[0m)            │       \u001b[38;5;34m262,656\u001b[0m │\n",
       "├─────────────────────────────────┼────────────────────────┼───────────────┤\n",
       "│ dense_14 (\u001b[38;5;33mDense\u001b[0m)                │ (\u001b[38;5;45mNone\u001b[0m, \u001b[38;5;34m512\u001b[0m)            │       \u001b[38;5;34m262,656\u001b[0m │\n",
       "├─────────────────────────────────┼────────────────────────┼───────────────┤\n",
       "│ dense_15 (\u001b[38;5;33mDense\u001b[0m)                │ (\u001b[38;5;45mNone\u001b[0m, \u001b[38;5;34m1\u001b[0m)              │           \u001b[38;5;34m513\u001b[0m │\n",
       "└─────────────────────────────────┴────────────────────────┴───────────────┘\n"
      ]
     },
     "metadata": {},
     "output_type": "display_data"
    },
    {
     "data": {
      "text/html": [
       "<pre style=\"white-space:pre;overflow-x:auto;line-height:normal;font-family:Menlo,'DejaVu Sans Mono',consolas,'Courier New',monospace\"><span style=\"font-weight: bold\"> Total params: </span><span style=\"color: #00af00; text-decoration-color: #00af00\">803,329</span> (3.06 MB)\n",
       "</pre>\n"
      ],
      "text/plain": [
       "\u001b[1m Total params: \u001b[0m\u001b[38;5;34m803,329\u001b[0m (3.06 MB)\n"
      ]
     },
     "metadata": {},
     "output_type": "display_data"
    },
    {
     "data": {
      "text/html": [
       "<pre style=\"white-space:pre;overflow-x:auto;line-height:normal;font-family:Menlo,'DejaVu Sans Mono',consolas,'Courier New',monospace\"><span style=\"font-weight: bold\"> Trainable params: </span><span style=\"color: #00af00; text-decoration-color: #00af00\">803,329</span> (3.06 MB)\n",
       "</pre>\n"
      ],
      "text/plain": [
       "\u001b[1m Trainable params: \u001b[0m\u001b[38;5;34m803,329\u001b[0m (3.06 MB)\n"
      ]
     },
     "metadata": {},
     "output_type": "display_data"
    },
    {
     "data": {
      "text/html": [
       "<pre style=\"white-space:pre;overflow-x:auto;line-height:normal;font-family:Menlo,'DejaVu Sans Mono',consolas,'Courier New',monospace\"><span style=\"font-weight: bold\"> Non-trainable params: </span><span style=\"color: #00af00; text-decoration-color: #00af00\">0</span> (0.00 B)\n",
       "</pre>\n"
      ],
      "text/plain": [
       "\u001b[1m Non-trainable params: \u001b[0m\u001b[38;5;34m0\u001b[0m (0.00 B)\n"
      ]
     },
     "metadata": {},
     "output_type": "display_data"
    },
    {
     "name": "stdout",
     "output_type": "stream",
     "text": [
      "\n",
      "Epoch: 0, accuracy:0.5162,  binary_crossentropy:0.7653,  loss:0.7653,  val_accuracy:0.4900,  val_binary_crossentropy:0.6677,  val_loss:0.6677,  \n",
      "."
     ]
    },
    {
     "name": "stderr",
     "output_type": "stream",
     "text": [
      "C:\\Users\\ADMIN\\AppData\\Local\\Programs\\Python\\Python39\\lib\\contextlib.py:137: UserWarning: Your input ran out of data; interrupting training. Make sure that your dataset or generator can generate at least `steps_per_epoch * epochs` batches. You may need to use the `.repeat()` function when building your dataset.\n",
      "  self.gen.throw(typ, value, traceback)\n"
     ]
    },
    {
     "name": "stdout",
     "output_type": "stream",
     "text": [
      "...................................................................................................\n",
      "Epoch: 100, accuracy:1.0000,  binary_crossentropy:0.0020,  loss:0.0020,  val_accuracy:0.6520,  val_binary_crossentropy:1.8491,  val_loss:1.8491,  \n",
      "....................................................................................................\n",
      "Epoch: 200, accuracy:1.0000,  binary_crossentropy:0.0001,  loss:0.0001,  val_accuracy:0.6540,  val_binary_crossentropy:2.5047,  val_loss:2.5047,  \n",
      "........................."
     ]
    }
   ],
   "source": [
    "size_histories['large'] = compile_and_fit(large_model, \"sizes/large\")"
   ]
  },
  {
   "cell_type": "code",
   "execution_count": 49,
   "metadata": {},
   "outputs": [
    {
     "data": {
      "text/plain": [
       "Text(0.5, 0, 'Epochs [Log Scale]')"
      ]
     },
     "execution_count": 49,
     "metadata": {},
     "output_type": "execute_result"
    },
    {
     "data": {
      "image/png": "[encoded data removed]",
      "text/plain": [
       "<Figure size 640x480 with 1 Axes>"
      ]
     },
     "metadata": {},
     "output_type": "display_data"
    }
   ],
   "source": [
    "plotter.plot(size_histories)\n",
    "a = plt.xscale('log')\n",
    "plt.xlim([5, max(plt.xlim())])\n",
    "plt.ylim([0.5, 0.7])\n",
    "plt.xlabel(\"Epochs [Log Scale]\")"
   ]
  },
  {
   "cell_type": "code",
   "execution_count": null,
   "metadata": {},
   "outputs": [],
   "source": [
    "# Load the TensorBoard notebook extension\n",
    "%load_ext tensorboard\n",
    "\n",
    "# Open an embedded TensorBoard viewer\n",
    "%tensorboard --logdir {logdir}/sizes"
   ]
  },
  {
   "cell_type": "code",
   "execution_count": 52,
   "metadata": {},
   "outputs": [
    {
     "name": "stdout",
     "output_type": "stream",
     "text": [
      "C:\\Users\\ADMIN\\AppData\\Local\\Temp\\tmpxsmuwade\\tensorboard_logs\n"
     ]
    }
   ],
   "source": [
    "print(logdir)"
   ]
  },
  {
   "cell_type": "code",
   "execution_count": null,
   "metadata": {},
   "outputs": [],
   "source": []
  },
  {
   "cell_type": "code",
   "execution_count": null,
   "metadata": {},
   "outputs": [],
   "source": []
  },
  {
   "cell_type": "code",
   "execution_count": null,
   "metadata": {},
   "outputs": [],
   "source": []
  },
  {
   "cell_type": "code",
   "execution_count": null,
   "metadata": {},
   "outputs": [],
   "source": []
  },
  {
   "cell_type": "code",
   "execution_count": null,
   "metadata": {},
   "outputs": [],
   "source": []
  },
  {
   "cell_type": "code",
   "execution_count": null,
   "metadata": {},
   "outputs": [],
   "source": []
  },
  {
   "cell_type": "code",
   "execution_count": null,
   "metadata": {},
   "outputs": [],
   "source": []
  },
  {
   "cell_type": "code",
   "execution_count": null,
   "metadata": {},
   "outputs": [],
   "source": []
  },
  {
   "cell_type": "code",
   "execution_count": null,
   "metadata": {},
   "outputs": [],
   "source": []
  },
  {
   "cell_type": "code",
   "execution_count": null,
   "metadata": {},
   "outputs": [],
   "source": []
  },
  {
   "cell_type": "code",
   "execution_count": null,
   "metadata": {},
   "outputs": [],
   "source": []
  },
  {
   "cell_type": "code",
   "execution_count": null,
   "metadata": {},
   "outputs": [],
   "source": []
  },
  {
   "cell_type": "markdown",
   "metadata": {},
   "source": [
    "`tf.stack` trong TensorFlow là hàm giúp xếp chồng các tensor lại với nhau dọc theo một chiều mới (được chỉ định bởi tham số `axis`). Điều này có nghĩa là nó tạo ra một tensor mới có một chiều lớn hơn tensor ban đầu.\n",
    "\n",
    "### Cách Hoạt Động của `tf.stack`\n",
    "Hàm `tf.stack` kết hợp một danh sách các tensor có cùng shape lại với nhau để tạo ra một tensor mới có shape lớn hơn.\n",
    "\n",
    "- **Tham số `axis`** xác định chiều mà các tensor sẽ được xếp chồng. Khi `axis=0`, các tensor được xếp chồng thành một chiều mới đầu tiên (tương đương với việc thêm một chiều mới ở đầu). Khi `axis=1`, chiều mới sẽ được thêm vào vị trí thứ hai, và cứ tiếp tục như vậy.\n",
    "\n",
    "### Giải Thích `axis`\n",
    "Giả sử có hai tensor `a` và `b` có shape `(3,)`:\n",
    "```python\n",
    "a = tf.constant([1, 2, 3])\n",
    "b = tf.constant([4, 5, 6])\n",
    "```\n",
    "- **axis=0**: Thêm một chiều mới ở đầu (tạo thành một \"batch\"):\n",
    "  ```python\n",
    "  tf.stack([a, b], axis=0)\n",
    "  ```\n",
    "  Output:\n",
    "  ```\n",
    "  [[1, 2, 3],\n",
    "   [4, 5, 6]]\n",
    "  ```\n",
    "  Shape của tensor mới: `(2, 3)`.\n",
    "\n",
    "- **axis=1**: Thêm một chiều mới vào vị trí thứ hai (tạo thành cột):\n",
    "  ```python\n",
    "  tf.stack([a, b], axis=1)\n",
    "  ```\n",
    "  Output:\n",
    "  ```\n",
    "  [[1, 4],\n",
    "   [2, 5],\n",
    "   [3, 6]]\n",
    "  ```\n",
    "  Shape của tensor mới: `(3, 2)`.\n",
    "\n",
    "### Ví dụ Với Tensor 2D\n",
    "Nếu `a` và `b` có shape `(2, 3)`:\n",
    "```python\n",
    "a = tf.constant([[1, 2, 3], [4, 5, 6]])\n",
    "b = tf.constant([[7, 8, 9], [10, 11, 12]])\n",
    "```\n",
    "\n",
    "- **axis=0**:\n",
    "  ```python\n",
    "  tf.stack([a, b], axis=0)\n",
    "  ```\n",
    "  Output:\n",
    "  ```\n",
    "  [[[ 1,  2,  3],\n",
    "    [ 4,  5,  6]],\n",
    "\n",
    "   [[ 7,  8,  9],\n",
    "    [10, 11, 12]]]\n",
    "  ```\n",
    "  Shape của tensor mới: `(2, 2, 3)`.\n",
    "\n",
    "- **axis=1**:\n",
    "  ```python\n",
    "  tf.stack([a, b], axis=1)\n",
    "  ```\n",
    "  Output:\n",
    "  ```\n",
    "  [[[ 1,  2,  3],\n",
    "    [ 7,  8,  9]],\n",
    "\n",
    "   [[ 4,  5,  6],\n",
    "    [10, 11, 12]]]\n",
    "  ```\n",
    "  Shape của tensor mới: `(2, 2, 3)`.\n",
    "\n",
    "### Tóm Lại\n",
    "- `axis=0` xếp tensor theo chiều \"batch\" (thêm một chiều ở đầu).\n",
    "- `axis=1` xếp tensor theo chiều tiếp theo, giữ nguyên batch đầu tiên.\n",
    "\n"
   ]
  },
  {
   "cell_type": "code",
   "execution_count": null,
   "metadata": {},
   "outputs": [],
   "source": []
  },
  {
   "cell_type": "markdown",
   "metadata": {},
   "source": [
    "**Dịch**:\n",
    "\n",
    "Trái ngược với quá khớp (overfitting) là hiện tượng dưới khớp (underfitting). Dưới khớp xảy ra khi mô hình vẫn có thể cải thiện được trên dữ liệu huấn luyện. Điều này có thể xảy ra vì một số lý do: khi mô hình không đủ mạnh, bị điều chuẩn quá mức hoặc đơn giản là chưa được huấn luyện đủ lâu. Điều này có nghĩa là mạng chưa học được các mẫu liên quan trong dữ liệu huấn luyện.\n",
    "\n",
    "**Giải thích**:\n",
    "\n",
    "- **Underfitting (dưới khớp)** xảy ra khi mô hình chưa đạt được hiệu quả cần thiết ngay cả trên dữ liệu huấn luyện. Nghĩa là, mô hình còn dư địa để cải thiện và có thể làm tốt hơn nếu được điều chỉnh.\n",
    "\n",
    "- **Các nguyên nhân**:\n",
    "  - **Mô hình không đủ mạnh**: Mô hình có thể quá đơn giản, chưa đủ phức tạp để học các mẫu từ dữ liệu.\n",
    "  - **Điều chuẩn quá mức** (over-regularization): Các kỹ thuật điều chuẩn (như dropout hoặc regularization) nếu sử dụng quá mức có thể ngăn mô hình học đủ chi tiết từ dữ liệu.\n",
    "  - **Thời gian huấn luyện chưa đủ**: Nếu mô hình chưa được huấn luyện đủ số lần (epochs), nó sẽ chưa kịp học hết các đặc trưng của dữ liệu.\n",
    "\n",
    "Khi xảy ra underfitting, mô hình không nắm bắt được các mẫu quan trọng trong dữ liệu huấn luyện, do đó cả hiệu suất trên dữ liệu huấn luyện và dữ liệu kiểm tra đều thấp."
   ]
  },
  {
   "cell_type": "code",
   "execution_count": null,
   "metadata": {},
   "outputs": [],
   "source": []
  },
  {
   "cell_type": "markdown",
   "metadata": {},
   "source": [
    "**Dịch**:\n",
    "\n",
    "Để ngăn chặn hiện tượng quá khớp (overfitting), giải pháp tốt nhất là sử dụng dữ liệu huấn luyện đầy đủ hơn. Tập dữ liệu nên bao quát toàn bộ các đầu vào mà mô hình dự kiến sẽ xử lý. Dữ liệu bổ sung chỉ có thể hữu ích nếu nó bao gồm các trường hợp mới và thú vị.\n",
    "\n",
    "**Giải thích**:\n",
    "\n",
    "- **Ngăn chặn quá khớp** (overfitting): Quá khớp xảy ra khi mô hình học quá mức các đặc trưng của dữ liệu huấn luyện, dẫn đến hiệu suất kém trên dữ liệu kiểm tra (dữ liệu chưa thấy trước). Để ngăn chặn điều này, việc cung cấp dữ liệu huấn luyện phong phú và đa dạng là rất quan trọng.\n",
    "\n",
    "- **Dữ liệu huấn luyện đầy đủ**: Dữ liệu cần phải bao quát toàn bộ các tình huống mà mô hình sẽ gặp phải trong thực tế. Nếu dữ liệu huấn luyện không đầy đủ, mô hình có thể không học được các mẫu cần thiết, dẫn đến tình trạng quá khớp.\n",
    "\n",
    "- **Dữ liệu bổ sung**: Việc bổ sung dữ liệu mới chỉ thật sự hữu ích nếu nó mang lại các tình huống hoặc trường hợp mà mô hình chưa thấy trước đây. Những dữ liệu này có thể giúp mô hình học được nhiều đặc trưng hơn, từ đó cải thiện khả năng tổng quát (generalization) và hiệu suất trên dữ liệu chưa thấy."
   ]
  },
  {
   "cell_type": "code",
   "execution_count": null,
   "metadata": {},
   "outputs": [],
   "source": []
  },
  {
   "cell_type": "markdown",
   "metadata": {},
   "source": [
    "**Dịch**:\n",
    "\n",
    "Một mô hình được huấn luyện trên dữ liệu đầy đủ hơn sẽ tự nhiên tổng quát tốt hơn. Khi điều đó không còn khả thi, giải pháp tốt tiếp theo là sử dụng các kỹ thuật như chuẩn hóa (regularization). Những kỹ thuật này đặt ra các ràng buộc về số lượng và loại thông tin mà mô hình của bạn có thể lưu trữ. Nếu một mạng chỉ có thể ghi nhớ một số lượng mẫu nhỏ, quá trình tối ưu hóa sẽ buộc nó phải tập trung vào các mẫu nổi bật nhất, những mẫu này có khả năng tổng quát tốt hơn.\n",
    "\n",
    "**Giải thích**:\n",
    "\n",
    "- **Tổng quát tốt hơn**: Một mô hình được huấn luyện trên tập dữ liệu phong phú và đầy đủ sẽ có khả năng áp dụng tốt hơn cho dữ liệu chưa thấy, tức là nó có thể đưa ra dự đoán chính xác hơn cho các trường hợp khác nhau.\n",
    "\n",
    "- **Kỹ thuật chuẩn hóa**: Khi không thể mở rộng tập dữ liệu hoặc khi dữ liệu hiện có vẫn không đủ, các kỹ thuật như chuẩn hóa trở nên cần thiết. Chuẩn hóa giúp ngăn chặn hiện tượng quá khớp bằng cách giới hạn số lượng thông tin mà mô hình có thể ghi nhớ.\n",
    "\n",
    "- **Ràng buộc về mẫu**: Nếu mô hình chỉ có khả năng ghi nhớ một số lượng mẫu nhỏ, thì trong quá trình huấn luyện, nó sẽ được tối ưu hóa để chỉ tập trung vào các mẫu quan trọng và nổi bật nhất. Những mẫu này thường có khả năng tổng quát tốt hơn khi gặp dữ liệu mới, giúp mô hình hoạt động hiệu quả hơn trên các trường hợp chưa thấy."
   ]
  },
  {
   "cell_type": "code",
   "execution_count": null,
   "metadata": {},
   "outputs": [],
   "source": []
  },
  {
   "cell_type": "markdown",
   "metadata": {},
   "source": [
    "**Dịch:** Trong học sâu, số lượng tham số có thể học được trong một mô hình thường được gọi là \"khả năng\" của mô hình.\n",
    "\n",
    "**Giải thích:** \n",
    "\n",
    "Trong một mô hình học sâu (deep learning), *capacity* hay \"khả năng\" đề cập đến khả năng của mô hình trong việc học và ghi nhớ các mối quan hệ trong dữ liệu. Số lượng tham số có thể học được—ví dụ như weights và biases trong các lớp mạng nơ-ron—sẽ quyết định khả năng này. Mô hình với nhiều tham số hơn có khả năng học các mẫu phức tạp hơn và điều chỉnh tốt hơn theo dữ liệu. Tuy nhiên, nếu số lượng tham số quá lớn so với dữ liệu, mô hình có thể bị *overfitting*, tức là học quá sát với dữ liệu huấn luyện và không tổng quát hóa tốt cho dữ liệu mới.\n",
    "\n"
   ]
  },
  {
   "cell_type": "code",
   "execution_count": null,
   "metadata": {},
   "outputs": [],
   "source": []
  },
  {
   "cell_type": "markdown",
   "metadata": {},
   "source": [
    "**Dịch:** Về mặt trực quan, một mô hình có nhiều tham số hơn sẽ có \"khả năng ghi nhớ\" cao hơn, và do đó sẽ dễ dàng học được một sự ánh xạ hoàn hảo kiểu từ điển giữa các mẫu huấn luyện và mục tiêu của chúng. Tuy nhiên, đây là một dạng ánh xạ không có sức mạnh tổng quát, và sẽ trở nên vô ích khi dự đoán trên dữ liệu chưa từng thấy trước đó.\n",
    "\n",
    "**Giải thích:** \n",
    "\n",
    "Một mô hình có nhiều tham số sẽ có khả năng ghi nhớ rất tốt, cho phép nó \"nhớ\" chính xác từng mẫu trong tập dữ liệu huấn luyện và tạo một ánh xạ chính xác từ đầu vào đến đầu ra tương ứng. Tuy nhiên, khả năng ghi nhớ này không đồng nghĩa với khả năng tổng quát hóa. Khi một mô hình chỉ dựa vào ghi nhớ (memorization) mà thiếu tính tổng quát (generalization), nó sẽ không thể dự đoán chính xác khi gặp dữ liệu mới, vì nó không hiểu được các đặc trưng chung của dữ liệu. Trong học sâu, mục tiêu là mô hình phải có khả năng tổng quát hóa, tức là học được các quy luật chung để có thể đưa ra dự đoán chính xác trên cả dữ liệu chưa thấy trước đó."
   ]
  },
  {
   "cell_type": "markdown",
   "metadata": {},
   "source": []
  },
  {
   "cell_type": "markdown",
   "metadata": {},
   "source": [
    "**Dịch:** Luôn ghi nhớ điều này: các mô hình học sâu thường có khả năng phù hợp tốt với dữ liệu huấn luyện, nhưng thách thức thực sự là khả năng tổng quát hóa, chứ không phải chỉ là việc khớp với dữ liệu.\n",
    "\n",
    "**Giải thích:**\n",
    "\n",
    "Trong học sâu, các mô hình thường rất giỏi trong việc \"học\" và \"nhớ\" dữ liệu huấn luyện, nghĩa là chúng có thể dự đoán chính xác các đầu ra trên dữ liệu đã thấy trong quá trình huấn luyện. Tuy nhiên, việc chỉ học khớp với dữ liệu đã thấy không phải là mục tiêu cuối cùng, vì một mô hình như vậy có thể gặp khó khăn khi xử lý dữ liệu mới. Thách thức lớn nhất trong học sâu là làm sao để mô hình không chỉ ghi nhớ mà còn học được các đặc trưng chung, giúp nó dự đoán chính xác trên dữ liệu chưa gặp trước đó. Đây là yếu tố quan trọng để đánh giá hiệu quả của một mô hình khi áp dụng vào thực tế."
   ]
  },
  {
   "cell_type": "code",
   "execution_count": null,
   "metadata": {},
   "outputs": [],
   "source": []
  },
  {
   "cell_type": "markdown",
   "metadata": {},
   "source": [
    "**Dịch:** Mặt khác, nếu mạng nơ-ron có tài nguyên ghi nhớ hạn chế, nó sẽ không dễ dàng học được mối quan hệ giữa dữ liệu đầu vào và đầu ra. Để giảm thiểu mất mát, mạng sẽ phải học các biểu diễn nén có khả năng dự đoán tốt hơn. Tuy nhiên, nếu mô hình quá nhỏ, nó sẽ gặp khó khăn trong việc khớp với dữ liệu huấn luyện. Có một sự cân bằng giữa \"quá nhiều khả năng ghi nhớ\" và \"không đủ khả năng ghi nhớ.\"\n",
    "\n",
    "**Giải thích:**\n",
    "\n",
    "Câu này nói về sự cân bằng giữa kích thước của mô hình và khả năng dự đoán của nó. Khi mô hình có ít tham số (tài nguyên ghi nhớ hạn chế), nó phải nén và khái quát hóa dữ liệu để tìm ra các đặc trưng quan trọng, thay vì chỉ ghi nhớ. Điều này giúp mô hình có khả năng tổng quát hóa tốt hơn, vì nó phải học cách đơn giản hóa thông tin để dự đoán tốt hơn trên dữ liệu mới. Tuy nhiên, nếu mô hình quá nhỏ, nó sẽ không đủ \"dung lượng\" để ghi nhớ tất cả các chi tiết trong dữ liệu huấn luyện, dẫn đến việc không thể học tốt được cả trên tập huấn luyện lẫn dữ liệu mới. Vậy nên, cần điều chỉnh kích thước mô hình sao cho nó vừa đủ để học tốt dữ liệu huấn luyện, vừa có khả năng tổng quát hóa tốt trên dữ liệu chưa thấy."
   ]
  },
  {
   "cell_type": "code",
   "execution_count": null,
   "metadata": {},
   "outputs": [],
   "source": []
  },
  {
   "cell_type": "markdown",
   "metadata": {},
   "source": [
    "**Dịch:** Thật không may, không có công thức kỳ diệu nào để xác định kích thước hay cấu trúc đúng đắn cho mô hình của bạn (về số lượng lớp, hoặc kích thước phù hợp cho mỗi lớp). Bạn sẽ phải thử nghiệm với một loạt các cấu trúc khác nhau.\n",
    "\n",
    "**Giải thích:** \n",
    "\n",
    "Câu này nói lên thực tế trong việc thiết kế mô hình học sâu: không có quy tắc cố định nào để xác định trước số lớp hay số lượng nơ-ron cho mỗi lớp là “tốt nhất” cho mọi bài toán. Thay vào đó, người phát triển phải thử nghiệm nhiều kiến trúc khác nhau, điều chỉnh các thành phần của mô hình để tìm ra cấu trúc mang lại kết quả tốt nhất trên dữ liệu cụ thể. Mỗi bài toán có đặc điểm riêng, và do đó đòi hỏi một mô hình có cấu trúc phù hợp với các yêu cầu và dữ liệu của bài toán đó."
   ]
  },
  {
   "cell_type": "code",
   "execution_count": null,
   "metadata": {},
   "outputs": [],
   "source": []
  },
  {
   "cell_type": "markdown",
   "metadata": {},
   "source": [
    "**Dịch:** Để tìm kích thước mô hình phù hợp, tốt nhất bạn nên bắt đầu với số lượng lớp và tham số tương đối ít, sau đó dần dần tăng kích thước của các lớp hoặc thêm các lớp mới cho đến khi bạn thấy độ giảm của mất mát trên tập xác thực (validation loss) dần ít đi.\n",
    "\n",
    "**Giải thích:** \n",
    "\n",
    "Câu này gợi ý chiến lược tăng dần kích thước mô hình để đạt được hiệu quả tối ưu. Bằng cách bắt đầu từ mô hình đơn giản và nhỏ gọn, sau đó thêm các tham số hoặc lớp dần dần, bạn có thể quan sát xem việc mở rộng mô hình có còn giúp giảm mất mát trên tập xác thực hay không. Khi mất mát giảm dần ít lại (diminishing returns), điều đó báo hiệu rằng mô hình đã đạt tới giới hạn tối ưu, và việc tiếp tục tăng thêm tham số có thể không cải thiện hoặc thậm chí làm giảm hiệu quả trên dữ liệu mới (do khả năng quá khớp)."
   ]
  },
  {
   "cell_type": "code",
   "execution_count": null,
   "metadata": {},
   "outputs": [],
   "source": []
  },
  {
   "cell_type": "markdown",
   "metadata": {},
   "source": [
    "**Dịch:** Hãy bắt đầu với một mô hình đơn giản chỉ sử dụng các lớp kết nối dày đặc (tf.keras.layers.Dense) làm chuẩn cơ bản, sau đó tạo các mô hình lớn hơn và so sánh chúng.\n",
    "\n",
    "**Giải thích:**\n",
    "\n",
    "Đây là lời khuyên để xây dựng mô hình hiệu quả hơn. Trước tiên, hãy thiết kế một mô hình cơ bản với các lớp Dense (Fully Connected Layers) để có kết quả ban đầu. Mô hình đơn giản này giúp xác định mức độ hiệu quả của cách tiếp cận cơ bản. Từ đây, bạn có thể dần tăng kích thước hoặc độ phức tạp bằng cách thêm các lớp hoặc điều chỉnh số lượng nơ-ron, sau đó so sánh hiệu suất của các mô hình lớn hơn với mô hình cơ bản ban đầu. Điều này giúp dễ dàng nhận thấy sự cải thiện và tránh lãng phí tài nguyên với các mô hình phức tạp hơn mức cần thiết."
   ]
  },
  {
   "cell_type": "code",
   "execution_count": null,
   "metadata": {},
   "outputs": [],
   "source": []
  },
  {
   "cell_type": "markdown",
   "metadata": {},
   "source": [
    "**Dịch:** Nhiều mô hình sẽ được huấn luyện tốt hơn nếu bạn dần dần giảm tốc độ học trong quá trình huấn luyện. Hãy sử dụng `tf.keras.optimizers.schedules` để giảm tốc độ học theo thời gian:\n",
    "\n",
    "```python\n",
    "lr_schedule = tf.keras.optimizers.schedules.InverseTimeDecay(\n",
    "  0.001,                  # Tốc độ học ban đầu\n",
    "  decay_steps=STEPS_PER_EPOCH * 1000,  # Số bước trước khi giảm tốc độ\n",
    "  decay_rate=1,           # Tỉ lệ giảm\n",
    "  staircase=False)        # Điều chỉnh giảm mượt mà\n",
    "\n",
    "def get_optimizer():\n",
    "  return tf.keras.optimizers.Adam(lr_schedule) # Dùng lịch giảm tốc độ học\n",
    "```\n",
    "\n",
    "**Giải thích:**\n",
    "\n",
    "Trong quá trình huấn luyện mô hình, thay vì giữ tốc độ học (learning rate) cố định, giảm dần tốc độ học có thể giúp mô hình hội tụ ổn định hơn, đặc biệt là khi đến gần mức tối ưu. Ở đây, `tf.keras.optimizers.schedules.InverseTimeDecay` được sử dụng để giảm dần tốc độ học theo công thức “nghịch đảo thời gian”:\n",
    "\n",
    "1. **`initial_learning_rate=0.001`**: Đây là tốc độ học ban đầu, bắt đầu từ 0.001.\n",
    "  \n",
    "2. **`decay_steps=STEPS_PER_EPOCH * 1000`**: Xác định số bước sau đó tốc độ học sẽ được giảm dần.\n",
    "\n",
    "3. **`decay_rate=1`**: Tỉ lệ giảm tốc độ học. Giá trị này giúp điều chỉnh mức độ giảm, và ở đây đặt bằng 1 để giảm nhẹ tốc độ học khi số bước tăng.\n",
    "\n",
    "4. **`staircase=False`**: Nếu `False`, tốc độ học giảm mượt theo hàm số; nếu `True`, tốc độ học sẽ giảm từng bước lớn ở các điểm đã chọn.\n",
    "\n",
    "**Tóm tắt:** `get_optimizer()` trả về một `Adam` optimizer với lịch trình giảm tốc độ học."
   ]
  },
  {
   "cell_type": "code",
   "execution_count": null,
   "metadata": {},
   "outputs": [],
   "source": []
  },
  {
   "cell_type": "markdown",
   "metadata": {},
   "source": [
    "Lịch trình giảm `InverseTimeDecay` giảm tốc độ học theo một hàm nghịch đảo dựa trên số bước đã đi qua. Cụ thể, công thức giảm tốc độ học (learning rate) sẽ là:\n",
    "\n",
    "\\[\n",
    "\\text{learning\\_rate} = \\frac{\\text{initial\\_learning\\_rate}}{1 + \\text{decay\\_rate} \\times \\frac{\\text{step}}{\\text{decay\\_steps}}}\n",
    "\\]\n",
    "\n",
    "### Giải thích các tham số và cách hoạt động:\n",
    "\n",
    "- **initial_learning_rate (tốc độ học ban đầu)**: Giá trị tốc độ học lúc đầu của quá trình huấn luyện.\n",
    "  \n",
    "- **step**: Là số bước hiện tại trong quá trình huấn luyện. Bước này tăng lên sau mỗi lần cập nhật trọng số trong quá trình huấn luyện.\n",
    "\n",
    "- **decay_rate**: Hệ số điều chỉnh tốc độ giảm. Giá trị này càng lớn, tốc độ học giảm càng nhanh.\n",
    "\n",
    "- **decay_steps**: Xác định khoảng cách (số bước) trước khi giảm tốc độ học. Nếu `staircase=True`, tốc độ học sẽ giảm một cách đột ngột theo từng nấc sau mỗi `decay_steps`; nếu `staircase=False`, tốc độ học sẽ giảm từ từ (mượt mà) theo một hàm nghịch đảo.\n",
    "\n",
    "### Ví dụ minh họa\n",
    "\n",
    "Giả sử các tham số sau:\n",
    "- `initial_learning_rate = 0.001`\n",
    "- `decay_steps = 1000`\n",
    "- `decay_rate = 1`\n",
    "\n",
    "Với mỗi bước `step`, tốc độ học sẽ được tính như sau:\n",
    "\n",
    "- **Bước 0:** \n",
    "  \\[\n",
    "  \\text{learning\\_rate} = \\frac{0.001}{1 + 1 \\times \\frac{0}{1000}} = 0.001\n",
    "  \\]\n",
    "\n",
    "- **Bước 500:**\n",
    "  \\[\n",
    "  \\text{learning\\_rate} = \\frac{0.001}{1 + 1 \\times \\frac{500}{1000}} = \\frac{0.001}{1.5} \\approx 0.00067\n",
    "  \\]\n",
    "\n",
    "- **Bước 1000:**\n",
    "  \\[\n",
    "  \\text{learning\\_rate} = \\frac{0.001}{1 + 1 \\times \\frac{1000}{1000}} = \\frac{0.001}{2} = 0.0005\n",
    "  \\]\n",
    "\n",
    "Cứ sau mỗi 1000 bước, tốc độ học sẽ giảm xuống một nửa so với tốc độ học trước đó (nếu `decay_rate` là 1), giúp mô hình hội tụ một cách ổn định hơn khi đến gần mức tối ưu."
   ]
  }
 ],
 "metadata": {
  "kernelspec": {
   "display_name": ".venv",
   "language": "python",
   "name": "python3"
  },
  "language_info": {
   "codemirror_mode": {
    "name": "ipython",
    "version": 3
   },
   "file_extension": ".py",
   "mimetype": "text/x-python",
   "name": "python",
   "nbconvert_exporter": "python",
   "pygments_lexer": "ipython3",
   "version": "3.9.7"
  }
 },
 "nbformat": 4,
 "nbformat_minor": 2
}
