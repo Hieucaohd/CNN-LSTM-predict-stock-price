{
 "cells": [
  {
   "cell_type": "code",
   "execution_count": 1,
   "metadata": {},
   "outputs": [],
   "source": [
    "import tensorflow as tf\n",
    "\n",
    "# Ví dụ tensor inputs với shape (batch_size, timestep, 4)\n",
    "batch_size, timestep, feature = 2, 3, 4\n",
    "inputs = tf.random.uniform((batch_size, timestep, feature))\n"
   ]
  },
  {
   "cell_type": "code",
   "execution_count": 3,
   "metadata": {},
   "outputs": [
    {
     "data": {
      "text/plain": [
       "<tf.Tensor: shape=(2, 3, 4), dtype=float32, numpy=\n",
       "array([[[0.05347204, 0.23174131, 0.356853  , 0.01264489],\n",
       "        [0.8748212 , 0.9204689 , 0.20400429, 0.55215275],\n",
       "        [0.13530612, 0.96285844, 0.2902509 , 0.974977  ]],\n",
       "\n",
       "       [[0.03828859, 0.55735946, 0.98155844, 0.02991629],\n",
       "        [0.73911345, 0.3835374 , 0.30400229, 0.03143156],\n",
       "        [0.25717103, 0.2473135 , 0.45186186, 0.15905678]]], dtype=float32)>"
      ]
     },
     "execution_count": 3,
     "metadata": {},
     "output_type": "execute_result"
    }
   ],
   "source": [
    "inputs"
   ]
  },
  {
   "cell_type": "code",
   "execution_count": 4,
   "metadata": {},
   "outputs": [
    {
     "name": "stdout",
     "output_type": "stream",
     "text": [
      "Original Tensor:\n",
      " tf.Tensor(\n",
      "[[[0.05347204 0.23174131 0.356853   0.01264489]\n",
      "  [0.8748212  0.9204689  0.20400429 0.55215275]\n",
      "  [0.13530612 0.96285844 0.2902509  0.974977  ]]\n",
      "\n",
      " [[0.03828859 0.55735946 0.98155844 0.02991629]\n",
      "  [0.73911345 0.3835374  0.30400229 0.03143156]\n",
      "  [0.25717103 0.2473135  0.45186186 0.15905678]]], shape=(2, 3, 4), dtype=float32)\n",
      "\n",
      "Swapped Tensor:\n",
      " tf.Tensor(\n",
      "[[[0.05347204 0.356853   0.23174131 0.01264489]\n",
      "  [0.8748212  0.9204689  0.20400429 0.55215275]\n",
      "  [0.13530612 0.96285844 0.2902509  0.974977  ]]\n",
      "\n",
      " [[0.03828859 0.98155844 0.55735946 0.02991629]\n",
      "  [0.73911345 0.3835374  0.30400229 0.03143156]\n",
      "  [0.25717103 0.45186186 0.2473135  0.15905678]]], shape=(2, 3, 4), dtype=float32)\n"
     ]
    }
   ],
   "source": [
    "# Chọn các giá trị ở index 1 và 2 của mỗi timestep trong feature\n",
    "selected_features = inputs[:, :, 1:3]  # Shape: (batch_size, timestep, 2)\n",
    "\n",
    "# Tìm giá trị max và min ở cặp (1, 2)\n",
    "max_vals = tf.reduce_max(selected_features, axis=-1, keepdims=True)  # Shape: (batch_size, timestep, 1)\n",
    "min_vals = tf.reduce_min(selected_features, axis=-1, keepdims=True)  # Shape: (batch_size, timestep, 1)\n",
    "\n",
    "# Kết hợp max và min thành tensor mới có max tại index 1 và min tại index 2\n",
    "swapped_features = tf.concat([max_vals, min_vals], axis=-1)  # Shape: (batch_size, timestep, 2)\n",
    "\n",
    "# Ghép các feature lại với nhau, thay thế các giá trị ở index 1 và 2 bằng tensor đã hoán đổi\n",
    "outputs = tf.concat([inputs[:, :, :1], swapped_features, inputs[:, :, 3:]], axis=-1)\n",
    "\n",
    "print(\"Original Tensor:\\n\", inputs)\n",
    "print(\"\\nSwapped Tensor:\\n\", outputs)\n"
   ]
  },
  {
   "cell_type": "code",
   "execution_count": 5,
   "metadata": {},
   "outputs": [],
   "source": [
    "import numpy as np"
   ]
  },
  {
   "cell_type": "code",
   "execution_count": 16,
   "metadata": {},
   "outputs": [
    {
     "data": {
      "text/plain": [
       "<tf.Tensor: shape=(2, 3, 1), dtype=int32, numpy=\n",
       "array([[[1],\n",
       "        [1],\n",
       "        [0]],\n",
       "\n",
       "       [[0],\n",
       "        [0],\n",
       "        [0]]])>"
      ]
     },
     "execution_count": 16,
     "metadata": {},
     "output_type": "execute_result"
    }
   ],
   "source": [
    "inputs = np.random.randint(0, 3, size=(2, 3, 4))\n",
    "inputs_1_2 = tf.gather(inputs, [1, 2], axis=-1)\n",
    "tf.reduce_min(inputs_1_2,  axis=-1, keepdims=True)"
   ]
  },
  {
   "cell_type": "code",
   "execution_count": 17,
   "metadata": {},
   "outputs": [
    {
     "data": {
      "text/plain": [
       "array([[[1, 2, 1, 0],\n",
       "        [2, 2, 1, 1],\n",
       "        [0, 0, 2, 0]],\n",
       "\n",
       "       [[0, 1, 0, 1],\n",
       "        [0, 0, 0, 0],\n",
       "        [2, 1, 0, 0]]])"
      ]
     },
     "execution_count": 17,
     "metadata": {},
     "output_type": "execute_result"
    }
   ],
   "source": [
    "inputs"
   ]
  },
  {
   "cell_type": "code",
   "execution_count": null,
   "metadata": {},
   "outputs": [],
   "source": []
  }
 ],
 "metadata": {
  "kernelspec": {
   "display_name": ".venv",
   "language": "python",
   "name": "python3"
  },
  "language_info": {
   "codemirror_mode": {
    "name": "ipython",
    "version": 3
   },
   "file_extension": ".py",
   "mimetype": "text/x-python",
   "name": "python",
   "nbconvert_exporter": "python",
   "pygments_lexer": "ipython3",
   "version": "3.9.7"
  }
 },
 "nbformat": 4,
 "nbformat_minor": 2
}
