{
 "cells": [
  {
   "cell_type": "code",
   "execution_count": 12,
   "metadata": {},
   "outputs": [],
   "source": [
    "from selenium import webdriver\n",
    "from selenium.webdriver.common.by import By\n",
    "import time\n",
    "from selenium.webdriver.common.desired_capabilities import DesiredCapabilities\n",
    "\n",
    "\n"
   ]
  },
  {
   "cell_type": "code",
   "execution_count": 13,
   "metadata": {},
   "outputs": [],
   "source": [
    "driver = webdriver.Chrome()\n",
    "\n",
    "driver.get('https://shopee.vn/')\n",
    "driver.maximize_window()\n",
    "\n",
    "# element = driver.find_element(By.ID, 'sb_form_q')\n",
    "# element.send_keys('WebDriver')\n",
    "# element.submit()"
   ]
  },
  {
   "cell_type": "code",
   "execution_count": null,
   "metadata": {},
   "outputs": [],
   "source": []
  },
  {
   "cell_type": "code",
   "execution_count": 9,
   "metadata": {},
   "outputs": [],
   "source": [
    "driver.execute_cdp_cmd('Performance.enable', {})\n",
    "\n",
    "metric_list = driver.execute_cdp_cmd('Performance.getMetrics', {})[\"metrics\"]"
   ]
  },
  {
   "cell_type": "code",
   "execution_count": 10,
   "metadata": {},
   "outputs": [
    {
     "data": {
      "text/plain": [
       "[{'name': 'Timestamp', 'value': 1050141.504172},\n",
       " {'name': 'AudioHandlers', 'value': 0},\n",
       " {'name': 'AudioWorkletProcessors', 'value': 0},\n",
       " {'name': 'Documents', 'value': 17},\n",
       " {'name': 'Frames', 'value': 16},\n",
       " {'name': 'JSEventListeners', 'value': 1819},\n",
       " {'name': 'LayoutObjects', 'value': 1731},\n",
       " {'name': 'MediaKeySessions', 'value': 0},\n",
       " {'name': 'MediaKeys', 'value': 0},\n",
       " {'name': 'Nodes', 'value': 10833},\n",
       " {'name': 'Resources', 'value': 58},\n",
       " {'name': 'ContextLifecycleStateObservers', 'value': 43},\n",
       " {'name': 'V8PerContextDatas', 'value': 5},\n",
       " {'name': 'WorkerGlobalScopes', 'value': 0},\n",
       " {'name': 'UACSSResources', 'value': 0},\n",
       " {'name': 'RTCPeerConnections', 'value': 0},\n",
       " {'name': 'ResourceFetchers', 'value': 17},\n",
       " {'name': 'AdSubframes', 'value': 0},\n",
       " {'name': 'DetachedScriptStates', 'value': 0},\n",
       " {'name': 'ArrayBufferContents', 'value': 5},\n",
       " {'name': 'LayoutCount', 'value': 0},\n",
       " {'name': 'RecalcStyleCount', 'value': 0},\n",
       " {'name': 'LayoutDuration', 'value': 0},\n",
       " {'name': 'RecalcStyleDuration', 'value': 0},\n",
       " {'name': 'DevToolsCommandDuration', 'value': 0.000115},\n",
       " {'name': 'ScriptDuration', 'value': 0},\n",
       " {'name': 'V8CompileDuration', 'value': 0},\n",
       " {'name': 'TaskDuration', 'value': 0.000155},\n",
       " {'name': 'TaskOtherDuration', 'value': 4e-05},\n",
       " {'name': 'ThreadTime', 'value': 0.000209},\n",
       " {'name': 'ProcessTime', 'value': 4.30957},\n",
       " {'name': 'JSHeapUsedSize', 'value': 23602168},\n",
       " {'name': 'JSHeapTotalSize', 'value': 57135104},\n",
       " {'name': 'FirstMeaningfulPaint', 'value': 1050137.202714},\n",
       " {'name': 'DomContentLoaded', 'value': 1050137.22472},\n",
       " {'name': 'NavigationStart', 'value': 1050136.393442}]"
      ]
     },
     "execution_count": 10,
     "metadata": {},
     "output_type": "execute_result"
    }
   ],
   "source": [
    "metric_list"
   ]
  },
  {
   "cell_type": "code",
   "execution_count": 15,
   "metadata": {},
   "outputs": [],
   "source": [
    "driver.quit()"
   ]
  },
  {
   "cell_type": "code",
   "execution_count": 4,
   "metadata": {},
   "outputs": [],
   "source": [
    "\n"
   ]
  },
  {
   "cell_type": "code",
   "execution_count": 5,
   "metadata": {},
   "outputs": [],
   "source": []
  },
  {
   "cell_type": "code",
   "execution_count": 6,
   "metadata": {},
   "outputs": [],
   "source": []
  },
  {
   "cell_type": "code",
   "execution_count": null,
   "metadata": {},
   "outputs": [],
   "source": []
  }
 ],
 "metadata": {
  "kernelspec": {
   "display_name": "venv",
   "language": "python",
   "name": "python3"
  },
  "language_info": {
   "codemirror_mode": {
    "name": "ipython",
    "version": 3
   },
   "file_extension": ".py",
   "mimetype": "text/x-python",
   "name": "python",
   "nbconvert_exporter": "python",
   "pygments_lexer": "ipython3",
   "version": "3.12.2"
  }
 },
 "nbformat": 4,
 "nbformat_minor": 2
}
