{
 "cells": [
  {
   "cell_type": "code",
   "execution_count": 1,
   "metadata": {},
   "outputs": [],
   "source": [
    "import yfinance as yf\n",
    "import matplotlib.pyplot as plt\n",
    "import numpy as np\n",
    "from pyspark.sql import SparkSession\n",
    "from pyspark import  SparkContext\n",
    "import os"
   ]
  },
  {
   "cell_type": "code",
   "execution_count": 2,
   "metadata": {},
   "outputs": [],
   "source": [
    "os.environ[\"JAVA_HOME\"] = r'C:\\Program Files\\Java\\jre-1.8'\n",
    "os.environ[\"PYSPARK_PYTHON\"] = \"python\""
   ]
  },
  {
   "cell_type": "code",
   "execution_count": 16,
   "metadata": {},
   "outputs": [
    {
     "name": "stderr",
     "output_type": "stream",
     "text": [
      "[*********************100%%**********************]  1 of 1 completed\n"
     ]
    }
   ],
   "source": [
    "# Define the ticker symbol\n",
    "ticker_symbol = 'TR'  # Apple Inc. as an example\n",
    "\n",
    "# Get the stock data\n",
    "stock_data = yf.download(ticker_symbol, start='1987-12-30', end='2017-02-15')\n",
    "stock_data[\"Date\"] = stock_data.index\n",
    "stock_data.index = np.arange(len(stock_data))"
   ]
  },
  {
   "cell_type": "code",
   "execution_count": 17,
   "metadata": {},
   "outputs": [
    {
     "data": {
      "text/html": [
       "<div>\n",
       "<style scoped>\n",
       "    .dataframe tbody tr th:only-of-type {\n",
       "        vertical-align: middle;\n",
       "    }\n",
       "\n",
       "    .dataframe tbody tr th {\n",
       "        vertical-align: top;\n",
       "    }\n",
       "\n",
       "    .dataframe thead th {\n",
       "        text-align: right;\n",
       "    }\n",
       "</style>\n",
       "<table border=\"1\" class=\"dataframe\">\n",
       "  <thead>\n",
       "    <tr style=\"text-align: right;\">\n",
       "      <th></th>\n",
       "      <th>Open</th>\n",
       "      <th>High</th>\n",
       "      <th>Low</th>\n",
       "      <th>Close</th>\n",
       "      <th>Adj Close</th>\n",
       "      <th>Volume</th>\n",
       "      <th>Date</th>\n",
       "    </tr>\n",
       "  </thead>\n",
       "  <tbody>\n",
       "    <tr>\n",
       "      <th>0</th>\n",
       "      <td>3.546842</td>\n",
       "      <td>3.736852</td>\n",
       "      <td>3.515174</td>\n",
       "      <td>3.736852</td>\n",
       "      <td>2.337734</td>\n",
       "      <td>49734</td>\n",
       "      <td>1987-12-30</td>\n",
       "    </tr>\n",
       "    <tr>\n",
       "      <th>1</th>\n",
       "      <td>3.736852</td>\n",
       "      <td>3.895193</td>\n",
       "      <td>3.736852</td>\n",
       "      <td>3.895193</td>\n",
       "      <td>2.436791</td>\n",
       "      <td>27630</td>\n",
       "      <td>1987-12-31</td>\n",
       "    </tr>\n",
       "    <tr>\n",
       "      <th>2</th>\n",
       "      <td>3.895193</td>\n",
       "      <td>4.021866</td>\n",
       "      <td>3.863525</td>\n",
       "      <td>3.926861</td>\n",
       "      <td>2.456603</td>\n",
       "      <td>44208</td>\n",
       "      <td>1988-01-04</td>\n",
       "    </tr>\n",
       "    <tr>\n",
       "      <th>3</th>\n",
       "      <td>3.990198</td>\n",
       "      <td>4.243543</td>\n",
       "      <td>3.990198</td>\n",
       "      <td>4.085202</td>\n",
       "      <td>2.555659</td>\n",
       "      <td>124731</td>\n",
       "      <td>1988-01-05</td>\n",
       "    </tr>\n",
       "    <tr>\n",
       "      <th>4</th>\n",
       "      <td>4.148539</td>\n",
       "      <td>4.164373</td>\n",
       "      <td>3.990198</td>\n",
       "      <td>4.132705</td>\n",
       "      <td>2.585376</td>\n",
       "      <td>66313</td>\n",
       "      <td>1988-01-06</td>\n",
       "    </tr>\n",
       "    <tr>\n",
       "      <th>...</th>\n",
       "      <td>...</td>\n",
       "      <td>...</td>\n",
       "      <td>...</td>\n",
       "      <td>...</td>\n",
       "      <td>...</td>\n",
       "      <td>...</td>\n",
       "      <td>...</td>\n",
       "    </tr>\n",
       "    <tr>\n",
       "      <th>7337</th>\n",
       "      <td>31.573156</td>\n",
       "      <td>31.740652</td>\n",
       "      <td>31.321911</td>\n",
       "      <td>31.531282</td>\n",
       "      <td>29.125160</td>\n",
       "      <td>46807</td>\n",
       "      <td>2017-02-08</td>\n",
       "    </tr>\n",
       "    <tr>\n",
       "      <th>7338</th>\n",
       "      <td>31.573156</td>\n",
       "      <td>32.243145</td>\n",
       "      <td>31.531282</td>\n",
       "      <td>31.740652</td>\n",
       "      <td>29.318556</td>\n",
       "      <td>77613</td>\n",
       "      <td>2017-02-09</td>\n",
       "    </tr>\n",
       "    <tr>\n",
       "      <th>7339</th>\n",
       "      <td>31.908150</td>\n",
       "      <td>32.075645</td>\n",
       "      <td>31.531282</td>\n",
       "      <td>31.615030</td>\n",
       "      <td>29.202517</td>\n",
       "      <td>59344</td>\n",
       "      <td>2017-02-10</td>\n",
       "    </tr>\n",
       "    <tr>\n",
       "      <th>7340</th>\n",
       "      <td>31.866276</td>\n",
       "      <td>31.908150</td>\n",
       "      <td>30.861296</td>\n",
       "      <td>31.112539</td>\n",
       "      <td>28.738367</td>\n",
       "      <td>114748</td>\n",
       "      <td>2017-02-13</td>\n",
       "    </tr>\n",
       "    <tr>\n",
       "      <th>7341</th>\n",
       "      <td>31.028791</td>\n",
       "      <td>32.117519</td>\n",
       "      <td>30.986917</td>\n",
       "      <td>31.698778</td>\n",
       "      <td>29.279879</td>\n",
       "      <td>143047</td>\n",
       "      <td>2017-02-14</td>\n",
       "    </tr>\n",
       "  </tbody>\n",
       "</table>\n",
       "<p>7342 rows × 7 columns</p>\n",
       "</div>"
      ],
      "text/plain": [
       "           Open       High        Low      Close  Adj Close  Volume       Date\n",
       "0      3.546842   3.736852   3.515174   3.736852   2.337734   49734 1987-12-30\n",
       "1      3.736852   3.895193   3.736852   3.895193   2.436791   27630 1987-12-31\n",
       "2      3.895193   4.021866   3.863525   3.926861   2.456603   44208 1988-01-04\n",
       "3      3.990198   4.243543   3.990198   4.085202   2.555659  124731 1988-01-05\n",
       "4      4.148539   4.164373   3.990198   4.132705   2.585376   66313 1988-01-06\n",
       "...         ...        ...        ...        ...        ...     ...        ...\n",
       "7337  31.573156  31.740652  31.321911  31.531282  29.125160   46807 2017-02-08\n",
       "7338  31.573156  32.243145  31.531282  31.740652  29.318556   77613 2017-02-09\n",
       "7339  31.908150  32.075645  31.531282  31.615030  29.202517   59344 2017-02-10\n",
       "7340  31.866276  31.908150  30.861296  31.112539  28.738367  114748 2017-02-13\n",
       "7341  31.028791  32.117519  30.986917  31.698778  29.279879  143047 2017-02-14\n",
       "\n",
       "[7342 rows x 7 columns]"
      ]
     },
     "execution_count": 17,
     "metadata": {},
     "output_type": "execute_result"
    }
   ],
   "source": [
    "stock_data"
   ]
  },
  {
   "cell_type": "code",
   "execution_count": null,
   "metadata": {},
   "outputs": [],
   "source": []
  },
  {
   "cell_type": "code",
   "execution_count": 21,
   "metadata": {},
   "outputs": [],
   "source": [
    "spark: SparkSession = SparkSession.builder.master(\"local\").getOrCreate()"
   ]
  },
  {
   "cell_type": "code",
   "execution_count": 50,
   "metadata": {},
   "outputs": [],
   "source": [
    "df_TR = spark.createDataFrame(stock_data)\n",
    "df_TR.createOrReplaceTempView(\"tr_stock\")"
   ]
  },
  {
   "cell_type": "code",
   "execution_count": 51,
   "metadata": {},
   "outputs": [
    {
     "name": "stdout",
     "output_type": "stream",
     "text": [
      "+------------------+------------------+------------------+------------------+------------------+------+-------------------+\n",
      "|              Open|              High|               Low|             Close|         Adj Close|Volume|               Date|\n",
      "+------------------+------------------+------------------+------------------+------------------+------+-------------------+\n",
      "| 3.546842098236084| 3.736851930618286|  3.51517391204834| 3.736851930618286| 2.337735414505005| 49734|1987-12-30 00:00:00|\n",
      "| 3.736851930618286| 3.895193099975586| 3.736851930618286| 3.895193099975586|  2.43679141998291| 27630|1987-12-31 00:00:00|\n",
      "| 3.895193099975586|4.0218658447265625| 3.863524913787842| 3.926861047744751|2.4566032886505127| 44208|1988-01-04 00:00:00|\n",
      "|3.9901978969573975|4.2435431480407715|3.9901978969573975| 4.085202217102051|2.5556585788726807|124731|1988-01-05 00:00:00|\n",
      "| 4.148539066314697|  4.16437292098999|3.9901978969573975| 4.132705211639404|2.5853776931762695| 66313|1988-01-06 00:00:00|\n",
      "| 4.116869926452637|4.6393961906433105| 4.116869926452637| 4.591894149780273|  2.87264084815979|112889|1988-01-07 00:00:00|\n",
      "| 4.496889114379883| 4.496889114379883| 4.053534030914307| 4.053534030914307|2.5358479022979736|191043|1988-01-08 00:00:00|\n",
      "| 4.116869926452637| 4.275211811065674|4.0218658447265625|4.0218658447265625|2.5160372257232666|177623|1988-01-11 00:00:00|\n",
      "| 4.053534030914307| 4.085202217102051|4.0218658447265625| 4.053534030914307|2.5358479022979736| 61576|1988-01-12 00:00:00|\n",
      "|4.0218658447265625| 4.148539066314697|4.0218658447265625| 4.148539066314697| 2.595282793045044| 33156|1988-01-13 00:00:00|\n",
      "| 4.085202217102051| 4.132705211639404|   4.0693678855896| 4.085202217102051|2.5556585788726807| 41840|1988-01-14 00:00:00|\n",
      "| 4.148539066314697| 4.211874961853027| 4.053534030914307| 4.053534030914307|2.5358479022979736| 47366|1988-01-15 00:00:00|\n",
      "|3.9901978969573975| 4.037700176239014|3.9901978969573975| 4.037700176239014|2.5259416103363037| 37893|1988-01-18 00:00:00|\n",
      "|4.0060319900512695| 4.085202217102051|4.0060319900512695| 4.053534030914307|2.5358479022979736| 18946|1988-01-19 00:00:00|\n",
      "|4.0218658447265625| 4.085202217102051|3.9901978969573975|3.9901978969573975| 2.496225357055664| 36314|1988-01-20 00:00:00|\n",
      "| 3.958528995513916|4.0060319900512695| 3.958528995513916|4.0060319900512695|2.5061306953430176|  7894|1988-01-21 00:00:00|\n",
      "|4.0060319900512695|4.0060319900512695| 3.958528995513916| 3.958528995513916|2.4764134883880615| 38682|1988-01-22 00:00:00|\n",
      "|3.9901978969573975|4.0218658447265625| 3.958528995513916|3.9901978969573975| 2.496225357055664| 49734|1988-01-25 00:00:00|\n",
      "|3.9901978969573975|3.9901978969573975| 3.958528995513916| 3.974363088607788|2.4863193035125732| 21315|1988-01-26 00:00:00|\n",
      "| 3.942694902420044| 3.958528995513916| 3.926861047744751| 3.926861047744751|2.4566032886505127| 22894|1988-01-27 00:00:00|\n",
      "+------------------+------------------+------------------+------------------+------------------+------+-------------------+\n",
      "only showing top 20 rows\n",
      "\n"
     ]
    }
   ],
   "source": [
    "df_TR.show()"
   ]
  },
  {
   "cell_type": "code",
   "execution_count": 52,
   "metadata": {},
   "outputs": [
    {
     "data": {
      "text/plain": [
       "['Open', 'High', 'Low', 'Close', 'Adj Close', 'Volume', 'Date']"
      ]
     },
     "execution_count": 52,
     "metadata": {},
     "output_type": "execute_result"
    }
   ],
   "source": [
    "df_TR.columns"
   ]
  },
  {
   "cell_type": "code",
   "execution_count": 53,
   "metadata": {},
   "outputs": [
    {
     "name": "stdout",
     "output_type": "stream",
     "text": [
      "+----------+------------------+--------------------+\n",
      "|date_trade|       close_price|        return_value|\n",
      "+----------+------------------+--------------------+\n",
      "|1987-12-31|  2.43679141998291| 0.04149949293710022|\n",
      "|1988-01-04|2.4566032886505127|0.008097436687612624|\n",
      "|1988-01-05|2.5556585788726807| 0.03953033243028412|\n",
      "|1988-01-06|2.5853776931762695|0.011561655581095434|\n",
      "|1988-01-07|  2.87264084815979| 0.10536015600723131|\n",
      "|1988-01-08|2.5358479022979736|-0.12470370349878103|\n",
      "|1988-01-11|2.5160372257232666|-0.00784292501560...|\n",
      "|1988-01-12|2.5358479022979736|  0.0078429250156051|\n",
      "|1988-01-13| 2.595282793045044|0.023167427463814935|\n",
      "|1988-01-14|2.5556585788726807|-0.01538553555336...|\n",
      "|1988-01-15|2.5358479022979736|-0.00778189191045...|\n",
      "|1988-01-18|2.5259416103363037|-0.00391415114534...|\n",
      "|1988-01-19|2.5358479022979736|0.003914151145341422|\n",
      "|1988-01-20| 2.496225357055664|-0.01574832562838...|\n",
      "|1988-01-21|2.5061306953430176|0.003960274370589895|\n",
      "|1988-01-22|2.4764134883880615|-0.01192866866317...|\n",
      "|1988-01-25| 2.496225357055664|0.007968394292580727|\n",
      "|1988-01-26|2.4863193035125732|-0.00397630819992...|\n",
      "|1988-01-27|2.4566032886505127|-0.01202380669152...|\n",
      "|1988-01-28| 2.466507911682129|0.004023730519947128|\n",
      "+----------+------------------+--------------------+\n",
      "only showing top 20 rows\n",
      "\n"
     ]
    }
   ],
   "source": [
    "df_return = spark.sql(\"\"\"\n",
    "    SELECT\n",
    "        date_trade,\n",
    "        close_price,\n",
    "        LOG(close_price/previous_close) AS return_value\n",
    "    FROM ( \n",
    "        SELECT\n",
    "            *,\n",
    "            TO_DATE(Date) as date_trade,\n",
    "            LAG(`Adj Close`) OVER(ORDER BY Date) AS previous_close,\n",
    "            `Adj Close` as close_price\n",
    "        FROM tr_stock\n",
    "    ) WHERE previous_close IS NOT NULL\n",
    "    ORDER BY date_trade\n",
    "\"\"\")\n",
    "df_return.show(20)"
   ]
  },
  {
   "cell_type": "code",
   "execution_count": 54,
   "metadata": {},
   "outputs": [],
   "source": [
    "df_return_pandas = df_return.toPandas()"
   ]
  },
  {
   "cell_type": "code",
   "execution_count": 55,
   "metadata": {},
   "outputs": [
    {
     "data": {
      "text/html": [
       "<div>\n",
       "<style scoped>\n",
       "    .dataframe tbody tr th:only-of-type {\n",
       "        vertical-align: middle;\n",
       "    }\n",
       "\n",
       "    .dataframe tbody tr th {\n",
       "        vertical-align: top;\n",
       "    }\n",
       "\n",
       "    .dataframe thead th {\n",
       "        text-align: right;\n",
       "    }\n",
       "</style>\n",
       "<table border=\"1\" class=\"dataframe\">\n",
       "  <thead>\n",
       "    <tr style=\"text-align: right;\">\n",
       "      <th></th>\n",
       "      <th>date_trade</th>\n",
       "      <th>close_price</th>\n",
       "      <th>return_value</th>\n",
       "    </tr>\n",
       "  </thead>\n",
       "  <tbody>\n",
       "    <tr>\n",
       "      <th>0</th>\n",
       "      <td>1987-12-31</td>\n",
       "      <td>2.436791</td>\n",
       "      <td>0.041499</td>\n",
       "    </tr>\n",
       "    <tr>\n",
       "      <th>1</th>\n",
       "      <td>1988-01-04</td>\n",
       "      <td>2.456603</td>\n",
       "      <td>0.008097</td>\n",
       "    </tr>\n",
       "    <tr>\n",
       "      <th>2</th>\n",
       "      <td>1988-01-05</td>\n",
       "      <td>2.555659</td>\n",
       "      <td>0.039530</td>\n",
       "    </tr>\n",
       "    <tr>\n",
       "      <th>3</th>\n",
       "      <td>1988-01-06</td>\n",
       "      <td>2.585378</td>\n",
       "      <td>0.011562</td>\n",
       "    </tr>\n",
       "    <tr>\n",
       "      <th>4</th>\n",
       "      <td>1988-01-07</td>\n",
       "      <td>2.872641</td>\n",
       "      <td>0.105360</td>\n",
       "    </tr>\n",
       "    <tr>\n",
       "      <th>...</th>\n",
       "      <td>...</td>\n",
       "      <td>...</td>\n",
       "      <td>...</td>\n",
       "    </tr>\n",
       "    <tr>\n",
       "      <th>7336</th>\n",
       "      <td>2017-02-08</td>\n",
       "      <td>29.125158</td>\n",
       "      <td>-0.002653</td>\n",
       "    </tr>\n",
       "    <tr>\n",
       "      <th>7337</th>\n",
       "      <td>2017-02-09</td>\n",
       "      <td>29.318552</td>\n",
       "      <td>0.006618</td>\n",
       "    </tr>\n",
       "    <tr>\n",
       "      <th>7338</th>\n",
       "      <td>2017-02-10</td>\n",
       "      <td>29.202520</td>\n",
       "      <td>-0.003965</td>\n",
       "    </tr>\n",
       "    <tr>\n",
       "      <th>7339</th>\n",
       "      <td>2017-02-13</td>\n",
       "      <td>28.738373</td>\n",
       "      <td>-0.016022</td>\n",
       "    </tr>\n",
       "    <tr>\n",
       "      <th>7340</th>\n",
       "      <td>2017-02-14</td>\n",
       "      <td>29.279875</td>\n",
       "      <td>0.018667</td>\n",
       "    </tr>\n",
       "  </tbody>\n",
       "</table>\n",
       "<p>7341 rows × 3 columns</p>\n",
       "</div>"
      ],
      "text/plain": [
       "      date_trade  close_price  return_value\n",
       "0     1987-12-31     2.436791      0.041499\n",
       "1     1988-01-04     2.456603      0.008097\n",
       "2     1988-01-05     2.555659      0.039530\n",
       "3     1988-01-06     2.585378      0.011562\n",
       "4     1988-01-07     2.872641      0.105360\n",
       "...          ...          ...           ...\n",
       "7336  2017-02-08    29.125158     -0.002653\n",
       "7337  2017-02-09    29.318552      0.006618\n",
       "7338  2017-02-10    29.202520     -0.003965\n",
       "7339  2017-02-13    28.738373     -0.016022\n",
       "7340  2017-02-14    29.279875      0.018667\n",
       "\n",
       "[7341 rows x 3 columns]"
      ]
     },
     "execution_count": 55,
     "metadata": {},
     "output_type": "execute_result"
    }
   ],
   "source": [
    "df_return_pandas"
   ]
  },
  {
   "cell_type": "code",
   "execution_count": 57,
   "metadata": {},
   "outputs": [],
   "source": [
    "x = np.arange(1, len(df_return_pandas) + 1)"
   ]
  },
  {
   "cell_type": "code",
   "execution_count": 58,
   "metadata": {},
   "outputs": [],
   "source": [
    "y  = df_return_pandas[\"return_value\"]"
   ]
  },
  {
   "cell_type": "code",
   "execution_count": 59,
   "metadata": {},
   "outputs": [
    {
     "data": {
      "text/plain": [
       "<matplotlib.lines.Line2D at 0x215fd2c4eb0>"
      ]
     },
     "execution_count": 59,
     "metadata": {},
     "output_type": "execute_result"
    },
    {
     "data": {
      "image/png": "[encoded data removed]",
      "text/plain": [
       "<Figure size 640x480 with 1 Axes>"
      ]
     },
     "metadata": {},
     "output_type": "display_data"
    }
   ],
   "source": [
    "plt.plot(x, y)\n",
    "plt.axhline(y=0, color='r', linestyle='-')"
   ]
  },
  {
   "cell_type": "code",
   "execution_count": 60,
   "metadata": {},
   "outputs": [
    {
     "data": {
      "text/plain": [
       "0.0003443288004340364"
      ]
     },
     "execution_count": 60,
     "metadata": {},
     "output_type": "execute_result"
    }
   ],
   "source": [
    "np.mean(df_return_pandas[\"return_value\"])"
   ]
  },
  {
   "cell_type": "code",
   "execution_count": 61,
   "metadata": {},
   "outputs": [
    {
     "data": {
      "text/plain": [
       "-0.1527466396527211"
      ]
     },
     "execution_count": 61,
     "metadata": {},
     "output_type": "execute_result"
    }
   ],
   "source": [
    "np.min(df_return_pandas[\"return_value\"])"
   ]
  },
  {
   "cell_type": "code",
   "execution_count": 63,
   "metadata": {},
   "outputs": [
    {
     "data": {
      "text/plain": [
       "0.24433443985175624"
      ]
     },
     "execution_count": 63,
     "metadata": {},
     "output_type": "execute_result"
    }
   ],
   "source": [
    "np.std(df_return_pandas[\"return_value\"])*np.sqrt(252)"
   ]
  },
  {
   "cell_type": "code",
   "execution_count": 65,
   "metadata": {},
   "outputs": [
    {
     "data": {
      "text/plain": [
       "(array([  1.,   0.,   0.,   0.,   0.,   0.,   0.,   0.,   1.,   0.,   0.,\n",
       "          0.,   0.,   0.,   0.,   0.,   1.,   1.,   0.,   0.,   0.,   1.,\n",
       "          1.,   1.,   2.,   1.,   3.,   0.,   3.,   1.,   4.,  11.,  10.,\n",
       "         16.,  15.,  25.,  33.,  55.,  78.,  99., 181., 225., 338., 439.,\n",
       "        604., 776., 946., 642., 686., 577., 425., 318., 225., 175., 111.,\n",
       "         83.,  67.,  44.,  31.,  22.,  11.,   9.,   9.,   6.,   4.,   3.,\n",
       "          3.,   4.,   1.,   0.,   1.,   2.,   3.,   0.,   2.,   1.,   0.,\n",
       "          0.,   0.,   2.,   1.,   0.,   0.,   0.,   0.,   0.,   0.,   0.,\n",
       "          0.,   0.,   0.,   0.,   0.,   0.,   0.,   0.,   0.,   0.,   0.,\n",
       "          1.]),\n",
       " array([-0.15274664, -0.14949285, -0.14623905, -0.14298526, -0.13973147,\n",
       "        -0.13647767, -0.13322388, -0.12997009, -0.12671629, -0.1234625 ,\n",
       "        -0.12020871, -0.11695491, -0.11370112, -0.11044733, -0.10719353,\n",
       "        -0.10393974, -0.10068595, -0.09743215, -0.09417836, -0.09092457,\n",
       "        -0.08767077, -0.08441698, -0.08116319, -0.07790939, -0.0746556 ,\n",
       "        -0.07140181, -0.06814801, -0.06489422, -0.06164043, -0.05838663,\n",
       "        -0.05513284, -0.05187905, -0.04862525, -0.04537146, -0.04211766,\n",
       "        -0.03886387, -0.03561008, -0.03235628, -0.02910249, -0.0258487 ,\n",
       "        -0.0225949 , -0.01934111, -0.01608732, -0.01283352, -0.00957973,\n",
       "        -0.00632594, -0.00307214,  0.00018165,  0.00343544,  0.00668924,\n",
       "         0.00994303,  0.01319682,  0.01645062,  0.01970441,  0.0229582 ,\n",
       "         0.026212  ,  0.02946579,  0.03271958,  0.03597338,  0.03922717,\n",
       "         0.04248096,  0.04573476,  0.04898855,  0.05224234,  0.05549614,\n",
       "         0.05874993,  0.06200372,  0.06525752,  0.06851131,  0.0717651 ,\n",
       "         0.0750189 ,  0.07827269,  0.08152648,  0.08478028,  0.08803407,\n",
       "         0.09128786,  0.09454166,  0.09779545,  0.10104924,  0.10430304,\n",
       "         0.10755683,  0.11081062,  0.11406442,  0.11731821,  0.120572  ,\n",
       "         0.1238258 ,  0.12707959,  0.13033338,  0.13358718,  0.13684097,\n",
       "         0.14009476,  0.14334856,  0.14660235,  0.14985614,  0.15310994,\n",
       "         0.15636373,  0.15961752,  0.16287132,  0.16612511,  0.1693789 ,\n",
       "         0.1726327 ]),\n",
       " <BarContainer object of 100 artists>)"
      ]
     },
     "execution_count": 65,
     "metadata": {},
     "output_type": "execute_result"
    },
    {
     "data": {
      "image/png": "[encoded data removed]",
      "text/plain": [
       "<Figure size 640x480 with 1 Axes>"
      ]
     },
     "metadata": {},
     "output_type": "display_data"
    }
   ],
   "source": [
    "plt.hist(df_return_pandas[\"return_value\"], 100)"
   ]
  },
  {
   "cell_type": "code",
   "execution_count": null,
   "metadata": {},
   "outputs": [],
   "source": []
  }
 ],
 "metadata": {
  "kernelspec": {
   "display_name": "venv_py_39",
   "language": "python",
   "name": "python3"
  },
  "language_info": {
   "codemirror_mode": {
    "name": "ipython",
    "version": 3
   },
   "file_extension": ".py",
   "mimetype": "text/x-python",
   "name": "python",
   "nbconvert_exporter": "python",
   "pygments_lexer": "ipython3",
   "version": "3.9.7"
  }
 },
 "nbformat": 4,
 "nbformat_minor": 2
}
