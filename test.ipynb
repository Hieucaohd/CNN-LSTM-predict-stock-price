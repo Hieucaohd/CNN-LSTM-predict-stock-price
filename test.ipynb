{
 "cells": [
  {
   "cell_type": "code",
   "execution_count": null,
   "metadata": {},
   "outputs": [],
   "source": [
    "from browsermobproxy import Server\n",
    "from selenium import webdriver\n",
    "from selenium.webdriver.common.desired_capabilities import DesiredCapabilities\n",
    "import json\n",
    "\n",
    "# Path to the BrowserMob Proxy binary\n",
    "browsermob_proxy_path = '/path/to/browsermob-proxy/bin/browsermob-proxy'\n",
    "\n",
    "# Start the BrowserMob Proxy server\n",
    "server = Server(browsermob_proxy_path)\n",
    "server.start()\n",
    "proxy = server.create_proxy()\n",
    "\n",
    "# Set up Selenium to use the proxy\n",
    "chrome_options = webdriver.ChromeOptions()\n",
    "chrome_options.add_argument('--proxy-server={0}'.format(proxy.proxy))\n",
    "\n",
    "# Enable performance logging in Chrome\n",
    "capabilities = DesiredCapabilities.CHROME\n",
    "capabilities['goog:loggingPrefs'] = {'performance': 'ALL'}\n",
    "\n",
    "# Start the browser with the proxy\n",
    "driver = webdriver.Chrome(desired_capabilities=capabilities, options=chrome_options)\n",
    "\n",
    "# Create a new HAR (HTTP Archive) entry for the desired URL\n",
    "proxy.new_har('example')\n",
    "\n",
    "# Navigate to the desired URL\n",
    "driver.get('https://www.example.com')\n",
    "\n",
    "# Wait for the page to load completely\n",
    "driver.implicitly_wait(10)\n",
    "\n",
    "# Retrieve the HAR data\n",
    "har_data = proxy.har\n",
    "\n",
    "# Stop the proxy server\n",
    "server.stop()\n",
    "\n",
    "# Quit the browser\n",
    "driver.quit()\n",
    "\n",
    "# Save the HAR data to a file\n",
    "with open('network_traffic.json', 'w') as f:\n",
    "    json.dump(har_data, f)\n",
    "\n",
    "# Print the HAR data (optional)\n",
    "print(json.dumps(har_data, indent=4))\n"
   ]
  }
 ],
 "metadata": {
  "kernelspec": {
   "display_name": "venv",
   "language": "python",
   "name": "python3"
  },
  "language_info": {
   "name": "python",
   "version": "3.12.2"
  }
 },
 "nbformat": 4,
 "nbformat_minor": 2
}
