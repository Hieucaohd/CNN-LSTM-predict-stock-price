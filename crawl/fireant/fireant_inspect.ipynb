{
 "cells": [
  {
   "cell_type": "code",
   "execution_count": 1,
   "metadata": {},
   "outputs": [],
   "source": [
    "import sys\n",
    "sys.path.append(\"../../\")"
   ]
  },
  {
   "cell_type": "code",
   "execution_count": 2,
   "metadata": {},
   "outputs": [],
   "source": [
    "from utils.read_har import *\n",
    "from datetime import datetime\n",
    "from urllib.parse import urlparse, urlunparse"
   ]
  },
  {
   "cell_type": "code",
   "execution_count": 3,
   "metadata": {},
   "outputs": [],
   "source": [
    "PARENT_FOLDER = \"fireant\"\n",
    "REQUEST_FOLDER_PATH, RESPONSE_FOLDER_PATH = construct_folder(PARENT_FOLDER)"
   ]
  },
  {
   "cell_type": "code",
   "execution_count": 28,
   "metadata": {},
   "outputs": [],
   "source": [
    "# Access the entries in the HAR file\n",
    "file_name = \"fireant.vn\"\n",
    "entries = read_data_network(\n",
    "    f\"../../network_har/{PARENT_FOLDER}/{file_name}.har\")\n",
    "\n",
    "list_text = [\n",
    "    \"symbols\",\n",
    "]\n",
    "entries_find = find_list_request_have_text(\n",
    "    list_text, entries)\n",
    "write_dict_to_json_file(\n",
    "    entries_find, f\"{REQUEST_FOLDER_PATH}/entries_find_{file_name}.json\")"
   ]
  },
  {
   "cell_type": "code",
   "execution_count": 29,
   "metadata": {},
   "outputs": [
    {
     "data": {
      "text/plain": [
       "21"
      ]
     },
     "execution_count": 29,
     "metadata": {},
     "output_type": "execute_result"
    }
   ],
   "source": [
    "len(entries_find)"
   ]
  },
  {
   "cell_type": "code",
   "execution_count": 23,
   "metadata": {},
   "outputs": [],
   "source": [
    "entry_have_data = entries_find[0]\n",
    "request_of_entry = entry_have_data[\"request\"]\n",
    "\n",
    "index = f\"{file_name}_0\"\n",
    "inspect_entry(entry_have_data, index, \"file\", REQUEST_FOLDER_PATH, RESPONSE_FOLDER_PATH)\n",
    "# inspect_json_data(entry_have_data[\"response\"][\"content\"][\"text\"], f\"{index}_1\", \"file\", RESPONSE_FOLDER_PATH)"
   ]
  },
  {
   "cell_type": "code",
   "execution_count": 8,
   "metadata": {},
   "outputs": [],
   "source": [
    "headers = construct_name_value(request_of_entry[\"headers\"])\n",
    "\n",
    "headers_keys = list(headers.keys())[:]\n",
    "for key in headers_keys:\n",
    "    if key[0] == \":\":\n",
    "        del headers[key]\n",
    "\n",
    "cockies = construct_name_value(request_of_entry[\"cookies\"])"
   ]
  },
  {
   "cell_type": "code",
   "execution_count": 9,
   "metadata": {},
   "outputs": [
    {
     "data": {
      "text/plain": [
       "{'accept': 'application/json, text/plain, */*',\n",
       " 'accept-encoding': 'gzip, deflate, br, zstd',\n",
       " 'accept-language': 'en-US,en;q=0.9',\n",
       " 'origin': 'https://iboard.ssi.com.vn',\n",
       " 'priority': 'u=1, i',\n",
       " 'referer': 'https://iboard.ssi.com.vn/',\n",
       " 'sec-ch-ua': '\"Not/A)Brand\";v=\"8\", \"Chromium\";v=\"126\", \"Microsoft Edge\";v=\"126\"',\n",
       " 'sec-ch-ua-mobile': '?0',\n",
       " 'sec-ch-ua-platform': '\"Windows\"',\n",
       " 'sec-fetch-dest': 'empty',\n",
       " 'sec-fetch-mode': 'cors',\n",
       " 'sec-fetch-site': 'same-site',\n",
       " 'user-agent': 'Mozilla/5.0 (Windows NT 10.0; Win64; x64) AppleWebKit/537.36 (KHTML, like Gecko) Chrome/126.0.0.0 Safari/537.36 Edg/126.0.0.0'}"
      ]
     },
     "execution_count": 9,
     "metadata": {},
     "output_type": "execute_result"
    }
   ],
   "source": [
    "headers"
   ]
  },
  {
   "cell_type": "code",
   "execution_count": 10,
   "metadata": {},
   "outputs": [
    {
     "data": {
      "text/plain": [
       "{}"
      ]
     },
     "execution_count": 10,
     "metadata": {},
     "output_type": "execute_result"
    }
   ],
   "source": [
    "cockies"
   ]
  },
  {
   "cell_type": "code",
   "execution_count": 12,
   "metadata": {},
   "outputs": [],
   "source": [
    "query_string = construct_name_value(request_of_entry[\"queryString\"])"
   ]
  },
  {
   "cell_type": "code",
   "execution_count": 13,
   "metadata": {},
   "outputs": [
    {
     "data": {
      "text/plain": [
       "{'resolution': '1D', 'symbol': 'FPT', 'from': '1496275200', 'to': '1719187200'}"
      ]
     },
     "execution_count": 13,
     "metadata": {},
     "output_type": "execute_result"
    }
   ],
   "source": [
    "query_string"
   ]
  },
  {
   "cell_type": "code",
   "execution_count": 30,
   "metadata": {},
   "outputs": [],
   "source": [
    "# 1D = 1 day\n",
    "# 1 = 1 minute \n",
    "# 5 = 5 minutes\n",
    "# 15 = 15 minutes\n",
    "# 30\n",
    "# \n",
    "# \n",
    "# \n",
    "# \n",
    "# \n",
    "# "
   ]
  },
  {
   "cell_type": "code",
   "execution_count": 41,
   "metadata": {},
   "outputs": [],
   "source": [
    "query_string[\"resolution\"] = \"30\"\n",
    "query_string[\"from\"] = str(datetime(2000, 1, 1).timestamp())\n",
    "query_string[\"to\"] = str(datetime.now().timestamp())"
   ]
  },
  {
   "cell_type": "code",
   "execution_count": 42,
   "metadata": {},
   "outputs": [
    {
     "data": {
      "text/plain": [
       "{'resolution': '30',\n",
       " 'symbol': 'FPT',\n",
       " 'from': '946659600.0',\n",
       " 'to': '1718909172.985469'}"
      ]
     },
     "execution_count": 42,
     "metadata": {},
     "output_type": "execute_result"
    }
   ],
   "source": [
    "query_string"
   ]
  },
  {
   "cell_type": "code",
   "execution_count": 43,
   "metadata": {},
   "outputs": [],
   "source": [
    "parsed_url = urlparse(request_of_entry[\"url\"])\n",
    "url_without_params = urlunparse((parsed_url.scheme, parsed_url.netloc, parsed_url.path, '', '', ''))\n"
   ]
  },
  {
   "cell_type": "code",
   "execution_count": 44,
   "metadata": {},
   "outputs": [
    {
     "data": {
      "text/plain": [
       "'https://iboard-api.ssi.com.vn/statistics/charts/history'"
      ]
     },
     "execution_count": 44,
     "metadata": {},
     "output_type": "execute_result"
    }
   ],
   "source": [
    "url_without_params\n"
   ]
  },
  {
   "cell_type": "code",
   "execution_count": 45,
   "metadata": {},
   "outputs": [],
   "source": [
    "response = requests.get(\n",
    "    url=url_without_params,\n",
    "    headers=headers,\n",
    "    params=query_string\n",
    ")"
   ]
  },
  {
   "cell_type": "code",
   "execution_count": 46,
   "metadata": {},
   "outputs": [
    {
     "data": {
      "text/plain": [
       "200"
      ]
     },
     "execution_count": 46,
     "metadata": {},
     "output_type": "execute_result"
    }
   ],
   "source": [
    "response.status_code"
   ]
  },
  {
   "cell_type": "code",
   "execution_count": 47,
   "metadata": {},
   "outputs": [],
   "source": [
    "write_dict_to_json_file(response.json(), \"./data.json\")"
   ]
  },
  {
   "cell_type": "code",
   "execution_count": 48,
   "metadata": {},
   "outputs": [],
   "source": [
    "# write_data_to_text(response.text, f\"{RESPONSE_FOLDER_PATH}/{file_name}_but_2.html\")"
   ]
  },
  {
   "cell_type": "code",
   "execution_count": 49,
   "metadata": {},
   "outputs": [],
   "source": [
    "# write_dict_to_json_file(response.json(), \"product_iphone_manual_get.json\")\n",
    "\n",
    "# url = request_of_entry[\"url\"]\n",
    "\n",
    "# # Encode the URL\n",
    "# encoded_url = quote(url, safe='')\n",
    "\n",
    "# # Print the encoded URL\n",
    "# print(encoded_url)\n",
    "\n",
    "# # Encode the URL\n",
    "# encoded_url = quote(\"máy giặt\", safe=' ')\n",
    "\n",
    "# # Print the encoded URL\n",
    "# print(encoded_url)\n",
    "\n",
    "# decoded_url = unquote(url)\n",
    "\n",
    "# # Print the decoded URL\n",
    "# print(decoded_url)"
   ]
  }
 ],
 "metadata": {
  "kernelspec": {
   "display_name": "venv",
   "language": "python",
   "name": "python3"
  },
  "language_info": {
   "codemirror_mode": {
    "name": "ipython",
    "version": 3
   },
   "file_extension": ".py",
   "mimetype": "text/x-python",
   "name": "python",
   "nbconvert_exporter": "python",
   "pygments_lexer": "ipython3",
   "version": "3.12.2"
  }
 },
 "nbformat": 4,
 "nbformat_minor": 2
}
