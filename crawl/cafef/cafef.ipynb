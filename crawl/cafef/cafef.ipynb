{
 "cells": [
  {
   "cell_type": "code",
   "execution_count": 1,
   "metadata": {},
   "outputs": [],
   "source": [
    "import sys\n",
    "sys.path.append(\"../../\")"
   ]
  },
  {
   "cell_type": "code",
   "execution_count": 2,
   "metadata": {},
   "outputs": [],
   "source": [
    "from utils.read_har import *"
   ]
  },
  {
   "cell_type": "code",
   "execution_count": 3,
   "metadata": {},
   "outputs": [],
   "source": [
    "PARENT_FOLDER = \"cafef\"\n",
    "REQUEST_FOLDER_PATH, RESPONSE_FOLDER_PATH = construct_folder(PARENT_FOLDER)"
   ]
  },
  {
   "cell_type": "code",
   "execution_count": 4,
   "metadata": {},
   "outputs": [],
   "source": [
    "# Access the entries in the HAR file\n",
    "file_name = \"chungkhoan_2024_05_16_page1to7\"\n",
    "entries = read_data_network(\n",
    "    f\"../../network_har/{PARENT_FOLDER}/{file_name}.har\")\n",
    "\n",
    "list_text = [\n",
    "    \"sinh-loi-an-toan-hieu-qua-cung-trai-phieu-bac-a-bank-18824051521001811.chn\",\n",
    "    \"lich-chot-quyen-co-tuc-tuan-13-17-5-gan-30-doanh-nghiep-tra-co-tuc-tien-mat-cao-nhat-30-188240511161708776.chn\",\n",
    "    \"lam-the-nao-de-giao-dich-phai-sinh-thanh-cong-khi-thi-truong-rung-lac-kho-doan-188240507170003781.chn\",\n",
    "    \"khoi-ngoai-tung-gan-300-ty-mua-rong-trong-phien-vn-index-but-pha-mot-ma-chung-khoan-duoc-gom-manh-7-phien-lien-tiep-188240506162537227.chn\",\n",
    "    \"huong-loi-tu-cac-mat-hang-nong-san-ty-usd-cua-viet-nam-doanh-nghiep-ban-thuoc-tru-sau-khu-trung-lai-lon-co-phieu-vuot-dinh-188240503105658168.chn\",\n",
    "    \"no-vay-cua-hoa-phat-bat-ngo-tang-vot-len-cao-ky-luc-bao-nhieu-tien-rot-vao-qua-dam-thep-dung-quat-2-188240425234217243.chn\",\n",
    "    \"hai-ma-chung-khoan-bi-tu-doanh-ctck-ban-rong-dot-bien-hang-tram-ty-trong-phien-25-4-188240425171253469.chn\",\n",
    "    \n",
    "]\n",
    "entries_find = find_list_request_have_text(\n",
    "    list_text, entries)\n",
    "write_dict_to_json_file(\n",
    "    entries_find, f\"{REQUEST_FOLDER_PATH}/entries_find_{file_name}.json\")"
   ]
  },
  {
   "cell_type": "code",
   "execution_count": 5,
   "metadata": {},
   "outputs": [
    {
     "data": {
      "text/plain": [
       "7"
      ]
     },
     "execution_count": 5,
     "metadata": {},
     "output_type": "execute_result"
    }
   ],
   "source": [
    "len(entries_find)"
   ]
  },
  {
   "cell_type": "code",
   "execution_count": 14,
   "metadata": {},
   "outputs": [
    {
     "ename": "",
     "evalue": "",
     "output_type": "error",
     "traceback": [
      "\u001b[1;31mThe Kernel crashed while executing code in the current cell or a previous cell. \n",
      "\u001b[1;31mPlease review the code in the cell(s) to identify a possible cause of the failure. \n",
      "\u001b[1;31mClick <a href='https://aka.ms/vscodeJupyterKernelCrash'>here</a> for more info. \n",
      "\u001b[1;31mView Jupyter <a href='command:jupyter.viewOutput'>log</a> for further details."
     ]
    }
   ],
   "source": [
    "index_array = 6\n",
    "entry_have_data = entries_find[index_array]\n",
    "request_of_entry = entry_have_data[\"request\"]\n",
    "\n",
    "index = f\"{file_name}_{index_array}\"\n",
    "inspect_entry(entry_have_data, index, \"file\", REQUEST_FOLDER_PATH, RESPONSE_FOLDER_PATH)\n",
    "# inspect_json_data(entry_have_data[\"response\"][\"content\"][\"text\"], f\"{index}_1\", \"file\", RESPONSE_FOLDER_PATH)"
   ]
  },
  {
   "cell_type": "code",
   "execution_count": null,
   "metadata": {},
   "outputs": [],
   "source": [
    "headers = construct_name_value(request_of_entry[\"headers\"])\n",
    "\n",
    "headers_keys = list(headers.keys())[:]\n",
    "for key in headers_keys:\n",
    "    if key[0] == \":\":\n",
    "        del headers[key]\n",
    "\n",
    "cockies = construct_name_value(request_of_entry[\"cookies\"])"
   ]
  },
  {
   "cell_type": "code",
   "execution_count": null,
   "metadata": {},
   "outputs": [],
   "source": [
    "response = requests.get(\n",
    "    url=request_of_entry[\"url\"],\n",
    "    headers=headers,\n",
    "    cookies=cockies\n",
    ")"
   ]
  },
  {
   "cell_type": "code",
   "execution_count": null,
   "metadata": {},
   "outputs": [],
   "source": [
    "write_dict_to_json_file(response.json(), \"product_iphone_manual_get.json\")\n",
    "\n",
    "url = request_of_entry[\"url\"]\n",
    "\n",
    "# Encode the URL\n",
    "encoded_url = quote(url, safe='')\n",
    "\n",
    "# Print the encoded URL\n",
    "print(encoded_url)\n",
    "\n",
    "# Encode the URL\n",
    "encoded_url = quote(\"máy giặt\", safe=' ')\n",
    "\n",
    "# Print the encoded URL\n",
    "print(encoded_url)\n",
    "\n",
    "decoded_url = unquote(url)\n",
    "\n",
    "# Print the decoded URL\n",
    "print(decoded_url)"
   ]
  }
 ],
 "metadata": {
  "kernelspec": {
   "display_name": "venv",
   "language": "python",
   "name": "python3"
  },
  "language_info": {
   "codemirror_mode": {
    "name": "ipython",
    "version": 3
   },
   "file_extension": ".py",
   "mimetype": "text/x-python",
   "name": "python",
   "nbconvert_exporter": "python",
   "pygments_lexer": "ipython3",
   "version": "3.12.2"
  }
 },
 "nbformat": 4,
 "nbformat_minor": 2
}
