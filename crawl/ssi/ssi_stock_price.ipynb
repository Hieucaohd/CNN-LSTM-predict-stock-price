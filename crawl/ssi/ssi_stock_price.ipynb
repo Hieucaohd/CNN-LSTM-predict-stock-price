{
 "cells": [
  {
   "cell_type": "code",
   "execution_count": 1,
   "metadata": {},
   "outputs": [],
   "source": [
    "import sys\n",
    "sys.path.append(\"../../\")"
   ]
  },
  {
   "cell_type": "code",
   "execution_count": 2,
   "metadata": {},
   "outputs": [],
   "source": [
    "from utils.read_har import *\n",
    "from datetime import datetime\n",
    "from urllib.parse import urlparse, urlunparse\n",
    "import pandas as pd\n",
    "from hdfs import InsecureClient\n",
    "from ta import add_all_ta_features\n",
    "from ta.utils import dropna\n",
    "import ta\n",
    "from pyspark.sql import SparkSession\n",
    "from pyspark import  SparkContext\n",
    "import os\n",
    "from sklearn.preprocessing import MinMaxScaler\n",
    "import torch\n",
    "import numpy as np\n",
    "from torch.nn.utils.rnn import pad_sequence, pack_padded_sequence, pad_packed_sequence\n",
    "import torch.nn as nn\n",
    "import matplotlib.pyplot as plt\n",
    "import ta.momentum\n",
    "from pathlib import Path"
   ]
  },
  {
   "cell_type": "code",
   "execution_count": 3,
   "metadata": {},
   "outputs": [],
   "source": [
    "selenium_folder_path = str(get_selenium_path())"
   ]
  },
  {
   "cell_type": "code",
   "execution_count": 4,
   "metadata": {},
   "outputs": [
    {
     "data": {
      "text/plain": [
       "'D:\\\\code\\\\selenium'"
      ]
     },
     "execution_count": 4,
     "metadata": {},
     "output_type": "execute_result"
    }
   ],
   "source": [
    "selenium_folder_path"
   ]
  },
  {
   "cell_type": "code",
   "execution_count": 5,
   "metadata": {},
   "outputs": [],
   "source": [
    "os.environ[\"JAVA_HOME\"] = r'C:\\Program Files\\Java\\jre-1.8'\n",
    "os.environ[\"PYSPARK_PYTHON\"] = \"python\" "
   ]
  },
  {
   "cell_type": "code",
   "execution_count": 6,
   "metadata": {},
   "outputs": [],
   "source": [
    "PARENT_FOLDER = \"ssi\"\n",
    "REQUEST_FOLDER_PATH, RESPONSE_FOLDER_PATH = construct_folder(PARENT_FOLDER)"
   ]
  },
  {
   "cell_type": "code",
   "execution_count": 7,
   "metadata": {},
   "outputs": [],
   "source": [
    "# Access the entries in the HAR file\n",
    "file_name = \"stock_price\"\n",
    "entries = read_data_network(os.path.abspath(os.path.join(selenium_folder_path, f\"network_har/{PARENT_FOLDER}/{file_name}.har\")))\n",
    "\n",
    "list_text = [\n",
    "    \"https://iboard-api.ssi.com.vn/statistics/charts/history\",\n",
    "]\n",
    "entries_find = find_list_request_have_text(\n",
    "    list_text, entries)\n",
    "write_dict_to_json_file(\n",
    "    entries_find, f\"{REQUEST_FOLDER_PATH}/entries_find_{file_name}.json\")"
   ]
  },
  {
   "cell_type": "code",
   "execution_count": 8,
   "metadata": {},
   "outputs": [
    {
     "data": {
      "text/plain": [
       "13"
      ]
     },
     "execution_count": 8,
     "metadata": {},
     "output_type": "execute_result"
    }
   ],
   "source": [
    "len(entries_find)"
   ]
  },
  {
   "cell_type": "code",
   "execution_count": 9,
   "metadata": {},
   "outputs": [],
   "source": [
    "index = 0\n",
    "entry_have_data = entries_find[index]\n",
    "request_of_entry = entry_have_data[\"request\"]\n",
    "\n",
    "index = f\"{file_name}_{index}\"\n",
    "inspect_entry(entry_have_data, index, \"file\", REQUEST_FOLDER_PATH, RESPONSE_FOLDER_PATH)\n",
    "# inspect_json_data(entry_have_data[\"response\"][\"content\"][\"text\"], f\"{index}_1\", \"file\", RESPONSE_FOLDER_PATH)"
   ]
  },
  {
   "cell_type": "code",
   "execution_count": 10,
   "metadata": {},
   "outputs": [],
   "source": [
    "headers = construct_name_value(request_of_entry[\"headers\"])\n",
    "\n",
    "headers_keys = list(headers.keys())[:]\n",
    "for key in headers_keys:\n",
    "    if key[0] == \":\":\n",
    "        del headers[key]\n",
    "\n",
    "cockies = construct_name_value(request_of_entry[\"cookies\"])"
   ]
  },
  {
   "cell_type": "code",
   "execution_count": 11,
   "metadata": {},
   "outputs": [
    {
     "data": {
      "text/plain": [
       "{'accept': 'application/json, text/plain, */*',\n",
       " 'accept-encoding': 'gzip, deflate, br, zstd',\n",
       " 'accept-language': 'en-US,en;q=0.9',\n",
       " 'origin': 'https://iboard.ssi.com.vn',\n",
       " 'priority': 'u=1, i',\n",
       " 'referer': 'https://iboard.ssi.com.vn/',\n",
       " 'sec-ch-ua': '\"Not/A)Brand\";v=\"8\", \"Chromium\";v=\"126\", \"Microsoft Edge\";v=\"126\"',\n",
       " 'sec-ch-ua-mobile': '?0',\n",
       " 'sec-ch-ua-platform': '\"Windows\"',\n",
       " 'sec-fetch-dest': 'empty',\n",
       " 'sec-fetch-mode': 'cors',\n",
       " 'sec-fetch-site': 'same-site',\n",
       " 'user-agent': 'Mozilla/5.0 (Windows NT 10.0; Win64; x64) AppleWebKit/537.36 (KHTML, like Gecko) Chrome/126.0.0.0 Safari/537.36 Edg/126.0.0.0'}"
      ]
     },
     "execution_count": 11,
     "metadata": {},
     "output_type": "execute_result"
    }
   ],
   "source": [
    "headers"
   ]
  },
  {
   "cell_type": "code",
   "execution_count": 12,
   "metadata": {},
   "outputs": [
    {
     "data": {
      "text/plain": [
       "{}"
      ]
     },
     "execution_count": 12,
     "metadata": {},
     "output_type": "execute_result"
    }
   ],
   "source": [
    "cockies"
   ]
  },
  {
   "cell_type": "code",
   "execution_count": 13,
   "metadata": {},
   "outputs": [],
   "source": [
    "query_string = construct_name_value(request_of_entry[\"queryString\"])"
   ]
  },
  {
   "cell_type": "code",
   "execution_count": 14,
   "metadata": {},
   "outputs": [
    {
     "data": {
      "text/plain": [
       "{'resolution': '1D', 'symbol': 'FPT', 'from': '1496275200', 'to': '1719187200'}"
      ]
     },
     "execution_count": 14,
     "metadata": {},
     "output_type": "execute_result"
    }
   ],
   "source": [
    "query_string"
   ]
  },
  {
   "cell_type": "code",
   "execution_count": 15,
   "metadata": {},
   "outputs": [],
   "source": [
    "# ONE_MINUTE = \"1\"\n",
    "# FIVE_MINUTES = \"5\"\n",
    "# FIFTEEN_MINUTES = \"15\"\n",
    "# THIRTY_MINUTES = \"30\"\n",
    "\n",
    "# ONE_HOUR = \"1H\"\n",
    "\n",
    "# ONE_DAY = \"1D\"\n",
    "# ONE_WEEK = \"1W\"\n",
    "# ONE_MONTH = \"1M\""
   ]
  },
  {
   "cell_type": "code",
   "execution_count": 16,
   "metadata": {},
   "outputs": [],
   "source": [
    "query_string[\"resolution\"] = \"1D\"\n",
    "query_string[\"from\"] = str(datetime(2000, 1, 1).timestamp())\n",
    "query_string[\"to\"] = str(datetime.now().timestamp())"
   ]
  },
  {
   "cell_type": "code",
   "execution_count": 17,
   "metadata": {},
   "outputs": [
    {
     "data": {
      "text/plain": [
       "datetime.datetime(2006, 12, 13, 7, 0)"
      ]
     },
     "execution_count": 17,
     "metadata": {},
     "output_type": "execute_result"
    }
   ],
   "source": [
    "datetime.fromtimestamp(1165968000)"
   ]
  },
  {
   "cell_type": "code",
   "execution_count": 18,
   "metadata": {},
   "outputs": [
    {
     "data": {
      "text/plain": [
       "{'resolution': '1D',\n",
       " 'symbol': 'FPT',\n",
       " 'from': '946659600.0',\n",
       " 'to': '1731411370.073062'}"
      ]
     },
     "execution_count": 18,
     "metadata": {},
     "output_type": "execute_result"
    }
   ],
   "source": [
    "query_string"
   ]
  },
  {
   "cell_type": "code",
   "execution_count": 19,
   "metadata": {},
   "outputs": [],
   "source": [
    "parsed_url = urlparse(request_of_entry[\"url\"])\n",
    "url_without_params = urlunparse((parsed_url.scheme, parsed_url.netloc, parsed_url.path, '', '', ''))\n"
   ]
  },
  {
   "cell_type": "code",
   "execution_count": 20,
   "metadata": {},
   "outputs": [
    {
     "data": {
      "text/plain": [
       "'https://iboard-api.ssi.com.vn/statistics/charts/history'"
      ]
     },
     "execution_count": 20,
     "metadata": {},
     "output_type": "execute_result"
    }
   ],
   "source": [
    "url_without_params"
   ]
  },
  {
   "cell_type": "code",
   "execution_count": 21,
   "metadata": {},
   "outputs": [
    {
     "data": {
      "text/plain": [
       "{'accept': 'application/json, text/plain, */*',\n",
       " 'accept-encoding': 'gzip, deflate, br, zstd',\n",
       " 'accept-language': 'en-US,en;q=0.9',\n",
       " 'origin': 'https://iboard.ssi.com.vn',\n",
       " 'priority': 'u=1, i',\n",
       " 'referer': 'https://iboard.ssi.com.vn/',\n",
       " 'sec-ch-ua': '\"Not/A)Brand\";v=\"8\", \"Chromium\";v=\"126\", \"Microsoft Edge\";v=\"126\"',\n",
       " 'sec-ch-ua-mobile': '?0',\n",
       " 'sec-ch-ua-platform': '\"Windows\"',\n",
       " 'sec-fetch-dest': 'empty',\n",
       " 'sec-fetch-mode': 'cors',\n",
       " 'sec-fetch-site': 'same-site',\n",
       " 'user-agent': 'Mozilla/5.0 (Windows NT 10.0; Win64; x64) AppleWebKit/537.36 (KHTML, like Gecko) Chrome/126.0.0.0 Safari/537.36 Edg/126.0.0.0'}"
      ]
     },
     "execution_count": 21,
     "metadata": {},
     "output_type": "execute_result"
    }
   ],
   "source": [
    "headers"
   ]
  },
  {
   "cell_type": "code",
   "execution_count": 22,
   "metadata": {},
   "outputs": [
    {
     "data": {
      "text/plain": [
       "{'resolution': '1D',\n",
       " 'symbol': 'FPT',\n",
       " 'from': '946659600.0',\n",
       " 'to': '1731411370.073062'}"
      ]
     },
     "execution_count": 22,
     "metadata": {},
     "output_type": "execute_result"
    }
   ],
   "source": [
    "query_string"
   ]
  },
  {
   "cell_type": "code",
   "execution_count": 21,
   "metadata": {},
   "outputs": [],
   "source": [
    "response = requests.get(\n",
    "    url=url_without_params,\n",
    "    headers=headers,\n",
    "    params=query_string\n",
    ")"
   ]
  },
  {
   "cell_type": "code",
   "execution_count": 22,
   "metadata": {},
   "outputs": [
    {
     "data": {
      "text/plain": [
       "200"
      ]
     },
     "execution_count": 22,
     "metadata": {},
     "output_type": "execute_result"
    }
   ],
   "source": [
    "response.status_code"
   ]
  },
  {
   "cell_type": "code",
   "execution_count": 23,
   "metadata": {},
   "outputs": [],
   "source": [
    "df_fpt = pd.DataFrame(response.json()[\"data\"])"
   ]
  },
  {
   "cell_type": "code",
   "execution_count": 24,
   "metadata": {},
   "outputs": [
    {
     "data": {
      "text/html": [
       "<div>\n",
       "<style scoped>\n",
       "    .dataframe tbody tr th:only-of-type {\n",
       "        vertical-align: middle;\n",
       "    }\n",
       "\n",
       "    .dataframe tbody tr th {\n",
       "        vertical-align: top;\n",
       "    }\n",
       "\n",
       "    .dataframe thead th {\n",
       "        text-align: right;\n",
       "    }\n",
       "</style>\n",
       "<table border=\"1\" class=\"dataframe\">\n",
       "  <thead>\n",
       "    <tr style=\"text-align: right;\">\n",
       "      <th></th>\n",
       "      <th>t</th>\n",
       "      <th>c</th>\n",
       "      <th>o</th>\n",
       "      <th>h</th>\n",
       "      <th>l</th>\n",
       "      <th>v</th>\n",
       "      <th>s</th>\n",
       "    </tr>\n",
       "  </thead>\n",
       "  <tbody>\n",
       "    <tr>\n",
       "      <th>0</th>\n",
       "      <td>1165968000</td>\n",
       "      <td>11.52</td>\n",
       "      <td>11.52</td>\n",
       "      <td>11.52</td>\n",
       "      <td>11.52</td>\n",
       "      <td>83530</td>\n",
       "      <td>ok</td>\n",
       "    </tr>\n",
       "    <tr>\n",
       "      <th>1</th>\n",
       "      <td>1166054400</td>\n",
       "      <td>12.09</td>\n",
       "      <td>12.09</td>\n",
       "      <td>12.09</td>\n",
       "      <td>12.09</td>\n",
       "      <td>280710</td>\n",
       "      <td>ok</td>\n",
       "    </tr>\n",
       "    <tr>\n",
       "      <th>2</th>\n",
       "      <td>1166140800</td>\n",
       "      <td>12.70</td>\n",
       "      <td>12.70</td>\n",
       "      <td>12.70</td>\n",
       "      <td>12.70</td>\n",
       "      <td>265300</td>\n",
       "      <td>ok</td>\n",
       "    </tr>\n",
       "    <tr>\n",
       "      <th>3</th>\n",
       "      <td>1166400000</td>\n",
       "      <td>13.33</td>\n",
       "      <td>13.33</td>\n",
       "      <td>13.33</td>\n",
       "      <td>13.33</td>\n",
       "      <td>215790</td>\n",
       "      <td>ok</td>\n",
       "    </tr>\n",
       "    <tr>\n",
       "      <th>4</th>\n",
       "      <td>1166486400</td>\n",
       "      <td>13.99</td>\n",
       "      <td>13.99</td>\n",
       "      <td>13.99</td>\n",
       "      <td>13.99</td>\n",
       "      <td>137520</td>\n",
       "      <td>ok</td>\n",
       "    </tr>\n",
       "    <tr>\n",
       "      <th>...</th>\n",
       "      <td>...</td>\n",
       "      <td>...</td>\n",
       "      <td>...</td>\n",
       "      <td>...</td>\n",
       "      <td>...</td>\n",
       "      <td>...</td>\n",
       "      <td>...</td>\n",
       "    </tr>\n",
       "    <tr>\n",
       "      <th>4380</th>\n",
       "      <td>1723161600</td>\n",
       "      <td>126.90</td>\n",
       "      <td>122.40</td>\n",
       "      <td>126.90</td>\n",
       "      <td>122.00</td>\n",
       "      <td>5496400</td>\n",
       "      <td>ok</td>\n",
       "    </tr>\n",
       "    <tr>\n",
       "      <th>4381</th>\n",
       "      <td>1723420800</td>\n",
       "      <td>130.00</td>\n",
       "      <td>126.90</td>\n",
       "      <td>130.20</td>\n",
       "      <td>126.20</td>\n",
       "      <td>6183500</td>\n",
       "      <td>ok</td>\n",
       "    </tr>\n",
       "    <tr>\n",
       "      <th>4382</th>\n",
       "      <td>1723507200</td>\n",
       "      <td>129.70</td>\n",
       "      <td>129.70</td>\n",
       "      <td>130.20</td>\n",
       "      <td>128.00</td>\n",
       "      <td>4097900</td>\n",
       "      <td>ok</td>\n",
       "    </tr>\n",
       "    <tr>\n",
       "      <th>4383</th>\n",
       "      <td>1723593600</td>\n",
       "      <td>129.50</td>\n",
       "      <td>130.70</td>\n",
       "      <td>131.50</td>\n",
       "      <td>129.50</td>\n",
       "      <td>2862200</td>\n",
       "      <td>ok</td>\n",
       "    </tr>\n",
       "    <tr>\n",
       "      <th>4384</th>\n",
       "      <td>1723680000</td>\n",
       "      <td>128.30</td>\n",
       "      <td>129.10</td>\n",
       "      <td>129.50</td>\n",
       "      <td>128.20</td>\n",
       "      <td>1016300</td>\n",
       "      <td>ok</td>\n",
       "    </tr>\n",
       "  </tbody>\n",
       "</table>\n",
       "<p>4385 rows × 7 columns</p>\n",
       "</div>"
      ],
      "text/plain": [
       "               t       c       o       h       l        v   s\n",
       "0     1165968000   11.52   11.52   11.52   11.52    83530  ok\n",
       "1     1166054400   12.09   12.09   12.09   12.09   280710  ok\n",
       "2     1166140800   12.70   12.70   12.70   12.70   265300  ok\n",
       "3     1166400000   13.33   13.33   13.33   13.33   215790  ok\n",
       "4     1166486400   13.99   13.99   13.99   13.99   137520  ok\n",
       "...          ...     ...     ...     ...     ...      ...  ..\n",
       "4380  1723161600  126.90  122.40  126.90  122.00  5496400  ok\n",
       "4381  1723420800  130.00  126.90  130.20  126.20  6183500  ok\n",
       "4382  1723507200  129.70  129.70  130.20  128.00  4097900  ok\n",
       "4383  1723593600  129.50  130.70  131.50  129.50  2862200  ok\n",
       "4384  1723680000  128.30  129.10  129.50  128.20  1016300  ok\n",
       "\n",
       "[4385 rows x 7 columns]"
      ]
     },
     "execution_count": 24,
     "metadata": {},
     "output_type": "execute_result"
    }
   ],
   "source": [
    "df_fpt"
   ]
  },
  {
   "cell_type": "code",
   "execution_count": 25,
   "metadata": {},
   "outputs": [],
   "source": [
    "write_dict_to_json_file(response.json(), \"./data.json\")"
   ]
  },
  {
   "cell_type": "code",
   "execution_count": 26,
   "metadata": {},
   "outputs": [],
   "source": [
    "# if response.status_code == 200:\n",
    "#     data = response.text  # Lấy nội dung của phản hồi dưới dạng text\n",
    "    \n",
    "#     # Kết nối tới HDFS\n",
    "#     hdfs_url = \"http://localhost:50070\"  # Địa chỉ NameNode của HDFS\n",
    "#     hdfs_client = InsecureClient(hdfs_url, user='hdfs')  # Tên người dùng trong HDFS\n",
    "    \n",
    "#     # Đường dẫn tệp trên HDFS để lưu dữ liệu\n",
    "#     hdfs_path = \"/user/hdfs/api_data.json\"\n",
    "    \n",
    "#     # Ghi dữ liệu vào tệp trên HDFS\n",
    "#     with hdfs_client.write(hdfs_path, encoding='utf-8') as writer:\n",
    "#         writer.write(data)\n",
    "    \n",
    "#     print(f\"Dữ liệu đã được lưu vào HDFS tại {hdfs_path}\")\n",
    "# else:\n",
    "#     print(f\"Yêu cầu không thành công, mã trạng thái: {response.status_code}\")"
   ]
  },
  {
   "cell_type": "code",
   "execution_count": 27,
   "metadata": {},
   "outputs": [],
   "source": [
    "# if response.status_code == 200:\n",
    "#     # Giả sử dữ liệu trả về là JSON và bạn muốn chuyển đổi nó thành DataFrame\n",
    "#     data = response.json()  # Lấy nội dung của phản hồi dưới dạng JSON\n",
    "#     df = pd.DataFrame(data)  # Chuyển đổi JSON thành DataFrame\n",
    "    \n",
    "#     # Lưu DataFrame dưới dạng Parquet vào một tệp cục bộ tạm thời\n",
    "#     local_parquet_path = \"data.parquet\"\n",
    "#     df.to_parquet(local_parquet_path, engine='pyarrow', index=False)\n",
    "    \n",
    "#     # Kết nối tới HDFS\n",
    "#     hdfs_url = \"http://localhost:50070\"  # Địa chỉ NameNode của HDFS\n",
    "#     hdfs_client = InsecureClient(hdfs_url, user='hdfs')  # Tên người dùng trong HDFS\n",
    "    \n",
    "#     # Đường dẫn tệp trên HDFS để lưu dữ liệu\n",
    "#     hdfs_path = \"/user/hdfs/api_data.parquet\"\n",
    "    \n",
    "#     # Ghi tệp Parquet từ máy cục bộ vào HDFS\n",
    "#     hdfs_client.upload(hdfs_path, local_parquet_path)\n",
    "    \n",
    "#     print(f\"Dữ liệu đã được lưu vào HDFS dưới dạng Parquet tại {hdfs_path}\")\n",
    "# else:\n",
    "#     print(f\"Yêu cầu không thành công, mã trạng thái: {response.status_code}\")"
   ]
  },
  {
   "cell_type": "code",
   "execution_count": 28,
   "metadata": {},
   "outputs": [
    {
     "data": {
      "text/html": [
       "<div>\n",
       "<style scoped>\n",
       "    .dataframe tbody tr th:only-of-type {\n",
       "        vertical-align: middle;\n",
       "    }\n",
       "\n",
       "    .dataframe tbody tr th {\n",
       "        vertical-align: top;\n",
       "    }\n",
       "\n",
       "    .dataframe thead th {\n",
       "        text-align: right;\n",
       "    }\n",
       "</style>\n",
       "<table border=\"1\" class=\"dataframe\">\n",
       "  <thead>\n",
       "    <tr style=\"text-align: right;\">\n",
       "      <th></th>\n",
       "      <th>t</th>\n",
       "      <th>c</th>\n",
       "      <th>o</th>\n",
       "      <th>h</th>\n",
       "      <th>l</th>\n",
       "      <th>v</th>\n",
       "      <th>s</th>\n",
       "    </tr>\n",
       "  </thead>\n",
       "  <tbody>\n",
       "    <tr>\n",
       "      <th>0</th>\n",
       "      <td>1165968000</td>\n",
       "      <td>11.52</td>\n",
       "      <td>11.52</td>\n",
       "      <td>11.52</td>\n",
       "      <td>11.52</td>\n",
       "      <td>83530</td>\n",
       "      <td>ok</td>\n",
       "    </tr>\n",
       "    <tr>\n",
       "      <th>1</th>\n",
       "      <td>1166054400</td>\n",
       "      <td>12.09</td>\n",
       "      <td>12.09</td>\n",
       "      <td>12.09</td>\n",
       "      <td>12.09</td>\n",
       "      <td>280710</td>\n",
       "      <td>ok</td>\n",
       "    </tr>\n",
       "    <tr>\n",
       "      <th>2</th>\n",
       "      <td>1166140800</td>\n",
       "      <td>12.70</td>\n",
       "      <td>12.70</td>\n",
       "      <td>12.70</td>\n",
       "      <td>12.70</td>\n",
       "      <td>265300</td>\n",
       "      <td>ok</td>\n",
       "    </tr>\n",
       "    <tr>\n",
       "      <th>3</th>\n",
       "      <td>1166400000</td>\n",
       "      <td>13.33</td>\n",
       "      <td>13.33</td>\n",
       "      <td>13.33</td>\n",
       "      <td>13.33</td>\n",
       "      <td>215790</td>\n",
       "      <td>ok</td>\n",
       "    </tr>\n",
       "    <tr>\n",
       "      <th>4</th>\n",
       "      <td>1166486400</td>\n",
       "      <td>13.99</td>\n",
       "      <td>13.99</td>\n",
       "      <td>13.99</td>\n",
       "      <td>13.99</td>\n",
       "      <td>137520</td>\n",
       "      <td>ok</td>\n",
       "    </tr>\n",
       "    <tr>\n",
       "      <th>...</th>\n",
       "      <td>...</td>\n",
       "      <td>...</td>\n",
       "      <td>...</td>\n",
       "      <td>...</td>\n",
       "      <td>...</td>\n",
       "      <td>...</td>\n",
       "      <td>...</td>\n",
       "    </tr>\n",
       "    <tr>\n",
       "      <th>4380</th>\n",
       "      <td>1723161600</td>\n",
       "      <td>126.90</td>\n",
       "      <td>122.40</td>\n",
       "      <td>126.90</td>\n",
       "      <td>122.00</td>\n",
       "      <td>5496400</td>\n",
       "      <td>ok</td>\n",
       "    </tr>\n",
       "    <tr>\n",
       "      <th>4381</th>\n",
       "      <td>1723420800</td>\n",
       "      <td>130.00</td>\n",
       "      <td>126.90</td>\n",
       "      <td>130.20</td>\n",
       "      <td>126.20</td>\n",
       "      <td>6183500</td>\n",
       "      <td>ok</td>\n",
       "    </tr>\n",
       "    <tr>\n",
       "      <th>4382</th>\n",
       "      <td>1723507200</td>\n",
       "      <td>129.70</td>\n",
       "      <td>129.70</td>\n",
       "      <td>130.20</td>\n",
       "      <td>128.00</td>\n",
       "      <td>4097900</td>\n",
       "      <td>ok</td>\n",
       "    </tr>\n",
       "    <tr>\n",
       "      <th>4383</th>\n",
       "      <td>1723593600</td>\n",
       "      <td>129.50</td>\n",
       "      <td>130.70</td>\n",
       "      <td>131.50</td>\n",
       "      <td>129.50</td>\n",
       "      <td>2862200</td>\n",
       "      <td>ok</td>\n",
       "    </tr>\n",
       "    <tr>\n",
       "      <th>4384</th>\n",
       "      <td>1723680000</td>\n",
       "      <td>128.30</td>\n",
       "      <td>129.10</td>\n",
       "      <td>129.50</td>\n",
       "      <td>128.20</td>\n",
       "      <td>1016300</td>\n",
       "      <td>ok</td>\n",
       "    </tr>\n",
       "  </tbody>\n",
       "</table>\n",
       "<p>4385 rows × 7 columns</p>\n",
       "</div>"
      ],
      "text/plain": [
       "               t       c       o       h       l        v   s\n",
       "0     1165968000   11.52   11.52   11.52   11.52    83530  ok\n",
       "1     1166054400   12.09   12.09   12.09   12.09   280710  ok\n",
       "2     1166140800   12.70   12.70   12.70   12.70   265300  ok\n",
       "3     1166400000   13.33   13.33   13.33   13.33   215790  ok\n",
       "4     1166486400   13.99   13.99   13.99   13.99   137520  ok\n",
       "...          ...     ...     ...     ...     ...      ...  ..\n",
       "4380  1723161600  126.90  122.40  126.90  122.00  5496400  ok\n",
       "4381  1723420800  130.00  126.90  130.20  126.20  6183500  ok\n",
       "4382  1723507200  129.70  129.70  130.20  128.00  4097900  ok\n",
       "4383  1723593600  129.50  130.70  131.50  129.50  2862200  ok\n",
       "4384  1723680000  128.30  129.10  129.50  128.20  1016300  ok\n",
       "\n",
       "[4385 rows x 7 columns]"
      ]
     },
     "execution_count": 28,
     "metadata": {},
     "output_type": "execute_result"
    }
   ],
   "source": [
    "df_fpt"
   ]
  },
  {
   "cell_type": "code",
   "execution_count": 29,
   "metadata": {},
   "outputs": [],
   "source": [
    "# Thêm chỉ số MACD vào DataFrame\n",
    "df_fpt[\"macd\"] = ta.trend.macd(df_fpt[\"c\"])\n",
    "df_fpt[\"macd_signal\"] = ta.trend.macd_signal(df_fpt[\"c\"])\n",
    "df_fpt[\"histogram\"] = ta.trend.macd_diff(df_fpt[\"c\"])"
   ]
  },
  {
   "cell_type": "code",
   "execution_count": 30,
   "metadata": {},
   "outputs": [],
   "source": [
    "\n",
    "\n",
    "\n",
    "df_fpt[\"rsi\"] = ta.momentum.rsi(df_fpt[\"c\"])"
   ]
  },
  {
   "cell_type": "code",
   "execution_count": 31,
   "metadata": {},
   "outputs": [
    {
     "data": {
      "text/html": [
       "<div>\n",
       "<style scoped>\n",
       "    .dataframe tbody tr th:only-of-type {\n",
       "        vertical-align: middle;\n",
       "    }\n",
       "\n",
       "    .dataframe tbody tr th {\n",
       "        vertical-align: top;\n",
       "    }\n",
       "\n",
       "    .dataframe thead th {\n",
       "        text-align: right;\n",
       "    }\n",
       "</style>\n",
       "<table border=\"1\" class=\"dataframe\">\n",
       "  <thead>\n",
       "    <tr style=\"text-align: right;\">\n",
       "      <th></th>\n",
       "      <th>t</th>\n",
       "      <th>c</th>\n",
       "      <th>o</th>\n",
       "      <th>h</th>\n",
       "      <th>l</th>\n",
       "      <th>v</th>\n",
       "      <th>s</th>\n",
       "      <th>macd</th>\n",
       "      <th>macd_signal</th>\n",
       "      <th>histogram</th>\n",
       "      <th>rsi</th>\n",
       "    </tr>\n",
       "  </thead>\n",
       "  <tbody>\n",
       "    <tr>\n",
       "      <th>0</th>\n",
       "      <td>1165968000</td>\n",
       "      <td>11.52</td>\n",
       "      <td>11.52</td>\n",
       "      <td>11.52</td>\n",
       "      <td>11.52</td>\n",
       "      <td>83530</td>\n",
       "      <td>ok</td>\n",
       "      <td>NaN</td>\n",
       "      <td>NaN</td>\n",
       "      <td>NaN</td>\n",
       "      <td>NaN</td>\n",
       "    </tr>\n",
       "    <tr>\n",
       "      <th>1</th>\n",
       "      <td>1166054400</td>\n",
       "      <td>12.09</td>\n",
       "      <td>12.09</td>\n",
       "      <td>12.09</td>\n",
       "      <td>12.09</td>\n",
       "      <td>280710</td>\n",
       "      <td>ok</td>\n",
       "      <td>NaN</td>\n",
       "      <td>NaN</td>\n",
       "      <td>NaN</td>\n",
       "      <td>NaN</td>\n",
       "    </tr>\n",
       "    <tr>\n",
       "      <th>2</th>\n",
       "      <td>1166140800</td>\n",
       "      <td>12.70</td>\n",
       "      <td>12.70</td>\n",
       "      <td>12.70</td>\n",
       "      <td>12.70</td>\n",
       "      <td>265300</td>\n",
       "      <td>ok</td>\n",
       "      <td>NaN</td>\n",
       "      <td>NaN</td>\n",
       "      <td>NaN</td>\n",
       "      <td>NaN</td>\n",
       "    </tr>\n",
       "    <tr>\n",
       "      <th>3</th>\n",
       "      <td>1166400000</td>\n",
       "      <td>13.33</td>\n",
       "      <td>13.33</td>\n",
       "      <td>13.33</td>\n",
       "      <td>13.33</td>\n",
       "      <td>215790</td>\n",
       "      <td>ok</td>\n",
       "      <td>NaN</td>\n",
       "      <td>NaN</td>\n",
       "      <td>NaN</td>\n",
       "      <td>NaN</td>\n",
       "    </tr>\n",
       "    <tr>\n",
       "      <th>4</th>\n",
       "      <td>1166486400</td>\n",
       "      <td>13.99</td>\n",
       "      <td>13.99</td>\n",
       "      <td>13.99</td>\n",
       "      <td>13.99</td>\n",
       "      <td>137520</td>\n",
       "      <td>ok</td>\n",
       "      <td>NaN</td>\n",
       "      <td>NaN</td>\n",
       "      <td>NaN</td>\n",
       "      <td>NaN</td>\n",
       "    </tr>\n",
       "    <tr>\n",
       "      <th>...</th>\n",
       "      <td>...</td>\n",
       "      <td>...</td>\n",
       "      <td>...</td>\n",
       "      <td>...</td>\n",
       "      <td>...</td>\n",
       "      <td>...</td>\n",
       "      <td>...</td>\n",
       "      <td>...</td>\n",
       "      <td>...</td>\n",
       "      <td>...</td>\n",
       "      <td>...</td>\n",
       "    </tr>\n",
       "    <tr>\n",
       "      <th>4380</th>\n",
       "      <td>1723161600</td>\n",
       "      <td>126.90</td>\n",
       "      <td>122.40</td>\n",
       "      <td>126.90</td>\n",
       "      <td>122.00</td>\n",
       "      <td>5496400</td>\n",
       "      <td>ok</td>\n",
       "      <td>-1.722477</td>\n",
       "      <td>-1.336433</td>\n",
       "      <td>-0.386043</td>\n",
       "      <td>51.089572</td>\n",
       "    </tr>\n",
       "    <tr>\n",
       "      <th>4381</th>\n",
       "      <td>1723420800</td>\n",
       "      <td>130.00</td>\n",
       "      <td>126.90</td>\n",
       "      <td>130.20</td>\n",
       "      <td>126.20</td>\n",
       "      <td>6183500</td>\n",
       "      <td>ok</td>\n",
       "      <td>-1.158721</td>\n",
       "      <td>-1.300891</td>\n",
       "      <td>0.142170</td>\n",
       "      <td>55.972507</td>\n",
       "    </tr>\n",
       "    <tr>\n",
       "      <th>4382</th>\n",
       "      <td>1723507200</td>\n",
       "      <td>129.70</td>\n",
       "      <td>129.70</td>\n",
       "      <td>130.20</td>\n",
       "      <td>128.00</td>\n",
       "      <td>4097900</td>\n",
       "      <td>ok</td>\n",
       "      <td>-0.727759</td>\n",
       "      <td>-1.186265</td>\n",
       "      <td>0.458505</td>\n",
       "      <td>55.396135</td>\n",
       "    </tr>\n",
       "    <tr>\n",
       "      <th>4383</th>\n",
       "      <td>1723593600</td>\n",
       "      <td>129.50</td>\n",
       "      <td>130.70</td>\n",
       "      <td>131.50</td>\n",
       "      <td>129.50</td>\n",
       "      <td>2862200</td>\n",
       "      <td>ok</td>\n",
       "      <td>-0.397772</td>\n",
       "      <td>-1.028566</td>\n",
       "      <td>0.630794</td>\n",
       "      <td>54.989596</td>\n",
       "    </tr>\n",
       "    <tr>\n",
       "      <th>4384</th>\n",
       "      <td>1723680000</td>\n",
       "      <td>128.30</td>\n",
       "      <td>129.10</td>\n",
       "      <td>129.50</td>\n",
       "      <td>128.20</td>\n",
       "      <td>1016300</td>\n",
       "      <td>ok</td>\n",
       "      <td>-0.230428</td>\n",
       "      <td>-0.868938</td>\n",
       "      <td>0.638510</td>\n",
       "      <td>52.500058</td>\n",
       "    </tr>\n",
       "  </tbody>\n",
       "</table>\n",
       "<p>4385 rows × 11 columns</p>\n",
       "</div>"
      ],
      "text/plain": [
       "               t       c       o       h       l        v   s      macd  \\\n",
       "0     1165968000   11.52   11.52   11.52   11.52    83530  ok       NaN   \n",
       "1     1166054400   12.09   12.09   12.09   12.09   280710  ok       NaN   \n",
       "2     1166140800   12.70   12.70   12.70   12.70   265300  ok       NaN   \n",
       "3     1166400000   13.33   13.33   13.33   13.33   215790  ok       NaN   \n",
       "4     1166486400   13.99   13.99   13.99   13.99   137520  ok       NaN   \n",
       "...          ...     ...     ...     ...     ...      ...  ..       ...   \n",
       "4380  1723161600  126.90  122.40  126.90  122.00  5496400  ok -1.722477   \n",
       "4381  1723420800  130.00  126.90  130.20  126.20  6183500  ok -1.158721   \n",
       "4382  1723507200  129.70  129.70  130.20  128.00  4097900  ok -0.727759   \n",
       "4383  1723593600  129.50  130.70  131.50  129.50  2862200  ok -0.397772   \n",
       "4384  1723680000  128.30  129.10  129.50  128.20  1016300  ok -0.230428   \n",
       "\n",
       "      macd_signal  histogram        rsi  \n",
       "0             NaN        NaN        NaN  \n",
       "1             NaN        NaN        NaN  \n",
       "2             NaN        NaN        NaN  \n",
       "3             NaN        NaN        NaN  \n",
       "4             NaN        NaN        NaN  \n",
       "...           ...        ...        ...  \n",
       "4380    -1.336433  -0.386043  51.089572  \n",
       "4381    -1.300891   0.142170  55.972507  \n",
       "4382    -1.186265   0.458505  55.396135  \n",
       "4383    -1.028566   0.630794  54.989596  \n",
       "4384    -0.868938   0.638510  52.500058  \n",
       "\n",
       "[4385 rows x 11 columns]"
      ]
     },
     "execution_count": 31,
     "metadata": {},
     "output_type": "execute_result"
    }
   ],
   "source": [
    "df_fpt"
   ]
  },
  {
   "cell_type": "code",
   "execution_count": null,
   "metadata": {},
   "outputs": [],
   "source": []
  },
  {
   "cell_type": "code",
   "execution_count": 32,
   "metadata": {},
   "outputs": [],
   "source": [
    "spark: SparkSession = SparkSession.builder.master(\"local\").getOrCreate()"
   ]
  },
  {
   "cell_type": "code",
   "execution_count": 33,
   "metadata": {},
   "outputs": [],
   "source": [
    "df_person = spark.createDataFrame(df_fpt)\n",
    "df_person.createOrReplaceTempView(\"fpt_stock\")"
   ]
  },
  {
   "cell_type": "code",
   "execution_count": 34,
   "metadata": {},
   "outputs": [
    {
     "name": "stdout",
     "output_type": "stream",
     "text": [
      "+----------+-----------+------------------+------------------+--------------------+--------------------+--------------------+------------------+------------------+------------------+\n",
      "|date_trade|close_price|              macd|       macd_signal|           histogram|  previous_histogram|      next_histogram|               rsi|      previous_rsi|          next_rsi|\n",
      "+----------+-----------+------------------+------------------+--------------------+--------------------+--------------------+------------------+------------------+------------------+\n",
      "|2006-12-13|      11.52|               NaN|               NaN|                 NaN|                NULL|                 NaN|               NaN|              NULL|               NaN|\n",
      "|2006-12-14|      12.09|               NaN|               NaN|                 NaN|                 NaN|                 NaN|               NaN|               NaN|               NaN|\n",
      "|2006-12-15|       12.7|               NaN|               NaN|                 NaN|                 NaN|                 NaN|               NaN|               NaN|               NaN|\n",
      "|2006-12-18|      13.33|               NaN|               NaN|                 NaN|                 NaN|                 NaN|               NaN|               NaN|               NaN|\n",
      "|2006-12-19|      13.99|               NaN|               NaN|                 NaN|                 NaN|                 NaN|               NaN|               NaN|               NaN|\n",
      "|2006-12-20|      14.68|               NaN|               NaN|                 NaN|                 NaN|                 NaN|               NaN|               NaN|               NaN|\n",
      "|2006-12-21|      13.96|               NaN|               NaN|                 NaN|                 NaN|                 NaN|               NaN|               NaN|               NaN|\n",
      "|2006-12-22|      13.27|               NaN|               NaN|                 NaN|                 NaN|                 NaN|               NaN|               NaN|               NaN|\n",
      "|2006-12-25|      12.61|               NaN|               NaN|                 NaN|                 NaN|                 NaN|               NaN|               NaN|               NaN|\n",
      "|2006-12-26|      13.21|               NaN|               NaN|                 NaN|                 NaN|                 NaN|               NaN|               NaN|               NaN|\n",
      "|2006-12-27|      13.82|               NaN|               NaN|                 NaN|                 NaN|                 NaN|               NaN|               NaN|               NaN|\n",
      "|2006-12-28|      13.82|               NaN|               NaN|                 NaN|                 NaN|                 NaN|               NaN|               NaN|               NaN|\n",
      "|2006-12-29|      13.24|               NaN|               NaN|                 NaN|                 NaN|                 NaN|               NaN|               NaN| 50.24474933049987|\n",
      "|2007-01-02|      12.67|               NaN|               NaN|                 NaN|                 NaN|                 NaN| 50.24474933049987|               NaN| 53.22927251639165|\n",
      "|2007-01-03|      12.96|               NaN|               NaN|                 NaN|                 NaN|                 NaN| 53.22927251639165| 50.24474933049987|58.985067015316154|\n",
      "|2007-01-04|      13.59|               NaN|               NaN|                 NaN|                 NaN|                 NaN|58.985067015316154| 53.22927251639165| 63.98538881530242|\n",
      "|2007-01-05|      14.25|               NaN|               NaN|                 NaN|                 NaN|                 NaN| 63.98538881530242|58.985067015316154|62.251681356417215|\n",
      "|2007-01-08|      14.11|               NaN|               NaN|                 NaN|                 NaN|                 NaN|62.251681356417215| 63.98538881530242|62.251681356417215|\n",
      "|2007-01-09|      14.11|               NaN|               NaN|                 NaN|                 NaN|                 NaN|62.251681356417215|62.251681356417215|63.401752382215754|\n",
      "|2007-01-10|      14.25|               NaN|               NaN|                 NaN|                 NaN|                 NaN|63.401752382215754|62.251681356417215| 64.56440885916476|\n",
      "|2007-01-11|      14.39|               NaN|               NaN|                 NaN|                 NaN|                 NaN| 64.56440885916476|63.401752382215754| 69.92881000451136|\n",
      "|2007-01-12|      15.12|               NaN|               NaN|                 NaN|                 NaN|                 NaN| 69.92881000451136| 64.56440885916476| 74.19364113625771|\n",
      "|2007-01-15|      15.86|               NaN|               NaN|                 NaN|                 NaN|                 NaN| 74.19364113625771| 69.92881000451136| 77.77210849246688|\n",
      "|2007-01-16|      16.64|               NaN|               NaN|                 NaN|                 NaN|                 NaN| 77.77210849246688| 74.19364113625771| 67.44249599073794|\n",
      "|2007-01-17|      15.84|               NaN|               NaN|                 NaN|                 NaN|                 NaN| 67.44249599073794| 77.77210849246688| 67.55850340044466|\n",
      "|2007-01-18|      15.86|0.9024139048668296|               NaN|                 NaN|                 NaN|                 NaN| 67.55850340044466| 67.44249599073794| 71.78147555672875|\n",
      "|2007-01-19|      16.64|0.9679862972700288|               NaN|                 NaN|                 NaN|                 NaN| 71.78147555672875| 67.55850340044466| 74.65158688905046|\n",
      "|2007-01-22|      17.27|1.0585859061640441|               NaN|                 NaN|                 NaN|                 NaN| 74.65158688905046| 71.78147555672875| 74.91328681021649|\n",
      "|2007-01-23|      17.33|1.1222911734609031|               NaN|                 NaN|                 NaN|                 NaN| 74.91328681021649| 74.65158688905046| 67.08200532041855|\n",
      "|2007-01-24|       16.7|1.1091566544090306|               NaN|                 NaN|                 NaN|                 NaN| 67.08200532041855| 74.91328681021649| 67.08200532041855|\n",
      "|2007-01-25|       16.7|  1.08622611493068|               NaN|                 NaN|                 NaN|                 NaN| 67.08200532041855| 67.08200532041855| 67.08200532041855|\n",
      "|2007-01-26|       16.7|1.0558819473629626|               NaN|                 NaN|                 NaN|                 NaN| 67.08200532041855| 67.08200532041855| 71.35616842489316|\n",
      "|2007-01-29|      17.42|  1.07751108163483|               NaN|                 NaN|                 NaN| 0.08992790493164815| 71.35616842489316| 67.08200532041855| 75.45557684067893|\n",
      "|2007-01-30|      18.28| 1.150781644592735|1.0608537396610869| 0.08992790493164815|                 NaN| 0.12588255923888814| 75.45557684067893| 71.35616842489316| 76.66819122411282|\n",
      "|2007-01-31|      18.57| 1.218206938709697|1.0923243794708088| 0.12588255923888814| 0.08992790493164815| 0.08591203742489828| 76.66819122411282| 75.45557684067893| 67.72235179129751|\n",
      "|2007-02-01|      17.85|1.1997144262519317|1.1138023888270334| 0.08591203742489828| 0.12588255923888814| 0.06470843647919278| 67.72235179129751| 76.66819122411282| 69.27729835739576|\n",
      "|2007-02-02|      18.14|1.1946879344260246|1.1299794979468318| 0.06470843647919278| 0.08591203742489828|-0.01907322116383...| 69.27729835739576| 67.72235179129751| 59.76213248039417|\n",
      "|2007-02-05|      17.25|1.1061379714920427| 1.125211192655874|-0.01907322116383...| 0.06470843647919278|-0.03361935571810...| 59.76213248039417| 69.27729835739576| 64.16882607498567|\n",
      "|2007-02-06|      17.99|1.0831869980082445|1.1168063537263482|-0.03361935571810...|-0.01907322116383...|-0.03264879671141...| 64.16882607498567| 59.76213248039417| 65.75177508760828|\n",
      "|2007-02-07|      18.28|1.0759953578370833|1.1086441545484953|-0.03264879671141...|-0.03361935571810...| -0.0972339831888851| 65.75177508760828| 64.16882607498567|57.374521570955075|\n",
      "|2007-02-08|      17.39|0.9871016755623891|1.0843356587512742| -0.0972339831888851|-0.03264879671141...|-0.19738643288225366|57.374521570955075| 65.75177508760828| 50.65812384440153|\n",
      "|2007-02-09|      16.53|0.8376026176484572|1.0349890505307109|-0.19738643288225366| -0.0972339831888851|-0.20819439165491882| 50.65812384440153|57.374521570955075|55.837177067487744|\n",
      "|2007-02-12|      17.33|0.7747460609620624|0.9829404526169813|-0.20819439165491882|-0.19738643288225366|-0.16132368958059118|55.837177067487744| 50.65812384440153| 60.37252707308617|\n",
      "|2007-02-13|      18.14|0.7812858406412424|0.9426095302218336|-0.16132368958059118|-0.20819439165491882| -0.1690970233471859| 60.37252707308617|55.837177067487744|  55.9423380791835|\n",
      "|2007-02-14|      17.56|0.7312382510378512|0.9003352743850371| -0.1690970233471859|-0.16132368958059118|-0.17331303781184437|  55.9423380791835| 60.37252707308617|  55.9423380791835|\n",
      "|2007-02-15|      17.56|0.6836939771202317|0.8570070149320761|-0.17331303781184437| -0.1690970233471859| -0.1191620000177408|  55.9423380791835|  55.9423380791835| 60.92989742316428|\n",
      "|2007-02-26|      18.43|0.7080545149099002| 0.827216514927641| -0.1191620000177408|-0.17331303781184437|-0.04120554341585836| 60.92989742316428|  55.9423380791835|  64.4653310133143|\n",
      "|2007-02-27|      19.14|0.7757095856578182|0.8169151290736766|-0.04120554341585836| -0.1191620000177408| -0.0576201472955451|  64.4653310133143| 60.92989742316428|  57.0985554065062|\n",
      "|2007-02-28|       18.2|0.7448899449542452|0.8025100922497903| -0.0576201472955451|-0.04120554341585836|-0.10347494626560705|  57.0985554065062|  64.4653310133143| 53.65643581640067|\n",
      "|2007-03-01|      17.71|0.6731664094177816|0.7766413556833887|-0.10347494626560705| -0.0576201472955451| -0.0789888183462697| 53.65643581640067|  57.0985554065062|58.396828586351546|\n",
      "+----------+-----------+------------------+------------------+--------------------+--------------------+--------------------+------------------+------------------+------------------+\n",
      "only showing top 50 rows\n",
      "\n"
     ]
    }
   ],
   "source": [
    "D = spark.sql(\"\"\"\n",
    "    WITH fpt_stock_plus AS (\n",
    "        SELECT\n",
    "            to_date(CAST(t AS TIMESTAMP)) AS date_trade,\n",
    "            c AS close_price,\n",
    "            macd, \n",
    "            macd_signal,\n",
    "            histogram,\n",
    "            LAG(histogram) OVER(ORDER BY t) AS previous_histogram,\n",
    "            LEAD(histogram) OVER(ORDER BY t) AS next_histogram,\n",
    "            rsi,\n",
    "            LAG(rsi) OVER(ORDER BY t) AS previous_rsi,\n",
    "            LEAD(rsi) OVER(ORDER BY t) AS next_rsi\n",
    "        FROM fpt_stock\n",
    "    )\n",
    "          \n",
    "    SELECT\n",
    "        *\n",
    "    FROM fpt_stock_plus\n",
    "\"\"\")\n",
    "D.show(50)"
   ]
  },
  {
   "cell_type": "code",
   "execution_count": 35,
   "metadata": {},
   "outputs": [
    {
     "name": "stdout",
     "output_type": "stream",
     "text": [
      "+----------+-----------+--------------------+--------------------+--------------------+--------------------+--------------------+------------------+------------------+------------------+-----+--------------+----------------+\n",
      "|date_trade|close_price|                macd|         macd_signal|           histogram|  previous_histogram|      next_histogram|               rsi|      previous_rsi|          next_rsi| type|end_trend_date|start_trend_date|\n",
      "+----------+-----------+--------------------+--------------------+--------------------+--------------------+--------------------+------------------+------------------+------------------+-----+--------------+----------------+\n",
      "|2007-04-10|      15.01| -0.5653527464718167| -0.5442612383980054|-0.02109150807381...|-0.05940704714403755|0.016649626703627685| 42.77451615423417| 40.87680123612303| 44.13756040388646|START|    2007-04-20|      2007-04-10|\n",
      "|2007-05-07|      14.03| -0.7165373787914611| -0.7036175677226337|-0.01291981106882...|-0.11599278979090433| 0.08302707229081896| 46.86523731673191|40.113670218045954| 50.33688161088788|START|    2007-05-29|      2007-05-07|\n",
      "|2007-06-25|      13.36| -0.5162019034256655|-0.44625563201835083|-0.06994627140731469|-0.12006132368045075| 0.01068148049138351|41.622494453569985|31.230369425396745|50.249724298688065|START|    2007-07-16|      2007-06-25|\n",
      "|2007-08-08|      10.35| -0.8926710689910955| -0.8192473403943359|-0.07342372859675961|-0.14782669747096144|0.015161004302862824| 34.23709314389299| 24.78991984069617| 42.21952147251887|START|    2007-10-17|      2007-08-08|\n",
      "|2007-12-18|       9.77| -0.3379887165734452|  -0.311832539847239|-0.02615617672620618|-0.04019981471175299|0.004090940470642068| 33.28996301989149|27.992954407816924| 42.71534730932379|START|    2008-01-04|      2007-12-18|\n",
      "|2008-01-29|       8.33| -0.4716748030335438|-0.46394185173352925|-0.00773295130001...|-0.04974426545738...| 0.04876103543528465|  41.6648299945008|33.247062974939695| 48.79671619544357|START|    2008-02-19|      2008-01-29|\n",
      "|2008-03-11|       5.85| -0.6925697044228665| -0.6891958618592493|-0.00337384256361...|-0.02875320044303...| 0.02728987309049402| 33.42468946527758|36.212292850782745|36.074435312511234|START|    2008-03-21|      2008-03-11|\n",
      "|2008-04-01|       4.21| -0.7435408867323616| -0.7206286722298909|-0.02291221450247...|-0.04522638070863616|1.211560483490581...|21.620288178470744|20.933714449851905| 22.34646396654088|START|    2008-09-11|      2008-04-01|\n",
      "|2008-10-30|       3.18|-0.24829110097241314|-0.23949946153794174|-0.00879163943447...|-0.02538741846427872|0.014465442699640896| 41.45888501109006| 37.35654101080687| 46.13439709560216|START|    2008-11-20|      2008-10-30|\n",
      "|2008-12-12|       3.46|-0.09997753900638529|-0.08646905703581595|-0.01350848197056...|  -0.030482196452395|0.009475775114258927| 48.47284484286643| 43.35277871462025|53.302379958034685|START|    2008-12-26|      2008-12-12|\n",
      "|2008-12-29|       3.33|-0.05451219419828801| -0.0470664767314443|-0.00744571746684...|-0.00480295690134...|1.356060301786060...|43.657727608688695|43.657727608688695|49.404197833148984|START|    2009-01-21|      2008-12-29|\n",
      "|2009-01-21|        3.4|-0.01494329517819...|-0.01288000357162...|-0.00206329160657...|9.184370628937972E-4|1.224641475815607...| 45.96908202896236| 47.09703285854452| 49.84949435201191|START|    2009-01-21|      2009-01-21|\n",
      "|2009-02-27|       2.94|-0.16329440185760058|-0.14730207067891463|-0.01599233117868...|-0.03671247192620586|0.002366804104261...| 43.70041390173734|36.625804941711515|46.188560303285904|START|    2009-04-21|      2009-02-27|\n",
      "|2009-05-04|       3.97|  0.1365351350423163| 0.14262474771177014|-0.00608961266945...|-0.01821959084015...|0.011381170458737877| 63.51055264894479| 58.55467569450806| 67.67339320403937|START|    2009-05-22|      2009-05-04|\n",
      "|2009-06-03|       4.79| 0.20466453281737795|  0.2110398225549202|-0.00637528973754...|-0.01142340305013...|0.002218906352956...| 68.27518237613228| 68.27518237613228|  71.0840554766225|START|    2009-06-12|      2009-06-03|\n",
      "|2009-07-23|       5.07| 0.04896231083472102| 0.05331491422863157|-0.00435260339391...|-0.01072387684485...| 0.01533731209362317| 56.07961386188708|53.541944220613914| 63.70479200927439|START|    2009-09-04|      2009-07-23|\n",
      "|2009-09-16|       6.04| 0.14953090952384507| 0.15481521319980301|-0.00528430367595...|-0.00294019810916...|0.005513756952825438|59.058048997426496| 69.14696535864336| 64.61764037091885|START|    2009-09-23|      2009-09-16|\n",
      "|2009-10-13|       6.08| 0.03479354005723323|0.039104584782057694|-0.00431104472482...|-0.01171660199114...|0.006581864535075782| 57.46924952475346| 57.46924952475346| 61.88434150972716|START|    2009-10-27|      2009-10-13|\n",
      "|2009-11-18|       5.77|-0.07998792672627708|-0.07729556524014837|-0.00269236148612...|-0.00889845329591...|0.006510560047392755|46.212610611695794| 44.51155231587865| 49.15043988708995|START|    2009-11-24|      2009-11-18|\n",
      "|2009-12-14|       5.25| -0.1723990262481685|-0.15864200774865034|-0.01375701849951...|-0.02888185662084...| 4.43118115522112E-4| 43.39862249995825| 33.32873018606567| 44.83430968109957|START|    2009-12-16|      2009-12-14|\n",
      "+----------+-----------+--------------------+--------------------+--------------------+--------------------+--------------------+------------------+------------------+------------------+-----+--------------+----------------+\n",
      "only showing top 20 rows\n",
      "\n"
     ]
    }
   ],
   "source": [
    "D1 = spark.sql(\"\"\"\n",
    "    WITH fpt_stock_plus AS (\n",
    "        SELECT\n",
    "            to_date(CAST(t AS TIMESTAMP)) AS date_trade,\n",
    "            c AS close_price,\n",
    "            macd, \n",
    "            macd_signal,\n",
    "            histogram,\n",
    "            LAG(histogram) OVER(ORDER BY t) AS previous_histogram,\n",
    "            LEAD(histogram) OVER(ORDER BY t) AS next_histogram,\n",
    "            rsi,\n",
    "            LAG(rsi) OVER(ORDER BY t) AS previous_rsi,\n",
    "            LEAD(rsi) OVER(ORDER BY t) AS next_rsi\n",
    "        FROM fpt_stock\n",
    "    )\n",
    "    \n",
    "    SELECT\n",
    "        *,\n",
    "        date_trade AS start_trend_date\n",
    "    FROM (\n",
    "        SELECT\n",
    "            *,\n",
    "            LEAD(date_trade) OVER(ORDER BY date_trade) AS end_trend_date\n",
    "        FROM (   \n",
    "            (SELECT\n",
    "                *,\n",
    "                \"START\" as type\n",
    "            FROM fpt_stock_plus \n",
    "                WHERE histogram < 0\n",
    "                AND next_histogram > 0)\n",
    "            UNION ALL\n",
    "            (SELECT\n",
    "                *,\n",
    "                \"END\" as type\n",
    "            FROM fpt_stock_plus \n",
    "                WHERE histogram < 0\n",
    "                AND previous_histogram > 0)\n",
    "        )        \n",
    "    )\n",
    "    WHERE type = \"START\"\n",
    "    ORDER BY date_trade\n",
    "\"\"\")\n",
    "D1.show(20)"
   ]
  },
  {
   "cell_type": "code",
   "execution_count": 36,
   "metadata": {},
   "outputs": [],
   "source": [
    "df_D = D.toPandas()"
   ]
  },
  {
   "cell_type": "code",
   "execution_count": 37,
   "metadata": {},
   "outputs": [],
   "source": [
    "df_D[\"date_trade\"] = pd.to_datetime(df_D[\"date_trade\"])"
   ]
  },
  {
   "cell_type": "code",
   "execution_count": 38,
   "metadata": {},
   "outputs": [
    {
     "data": {
      "text/plain": [
       "date_trade            datetime64[ns]\n",
       "close_price                  float64\n",
       "macd                         float64\n",
       "macd_signal                  float64\n",
       "histogram                    float64\n",
       "previous_histogram           float64\n",
       "next_histogram               float64\n",
       "rsi                          float64\n",
       "previous_rsi                 float64\n",
       "next_rsi                     float64\n",
       "dtype: object"
      ]
     },
     "execution_count": 38,
     "metadata": {},
     "output_type": "execute_result"
    }
   ],
   "source": [
    "df_D.dtypes"
   ]
  },
  {
   "cell_type": "code",
   "execution_count": 39,
   "metadata": {},
   "outputs": [],
   "source": [
    "df_D1 = D1.toPandas()"
   ]
  },
  {
   "cell_type": "code",
   "execution_count": 40,
   "metadata": {},
   "outputs": [],
   "source": [
    "df_D1 = df_D1[df_D1[\"end_trend_date\"].notna()]"
   ]
  },
  {
   "cell_type": "code",
   "execution_count": 41,
   "metadata": {},
   "outputs": [
    {
     "data": {
      "text/html": [
       "<div>\n",
       "<style scoped>\n",
       "    .dataframe tbody tr th:only-of-type {\n",
       "        vertical-align: middle;\n",
       "    }\n",
       "\n",
       "    .dataframe tbody tr th {\n",
       "        vertical-align: top;\n",
       "    }\n",
       "\n",
       "    .dataframe thead th {\n",
       "        text-align: right;\n",
       "    }\n",
       "</style>\n",
       "<table border=\"1\" class=\"dataframe\">\n",
       "  <thead>\n",
       "    <tr style=\"text-align: right;\">\n",
       "      <th></th>\n",
       "      <th>date_trade</th>\n",
       "      <th>close_price</th>\n",
       "      <th>macd</th>\n",
       "      <th>macd_signal</th>\n",
       "      <th>histogram</th>\n",
       "      <th>previous_histogram</th>\n",
       "      <th>next_histogram</th>\n",
       "      <th>rsi</th>\n",
       "      <th>previous_rsi</th>\n",
       "      <th>next_rsi</th>\n",
       "      <th>type</th>\n",
       "      <th>end_trend_date</th>\n",
       "      <th>start_trend_date</th>\n",
       "    </tr>\n",
       "  </thead>\n",
       "  <tbody>\n",
       "    <tr>\n",
       "      <th>0</th>\n",
       "      <td>2007-04-10</td>\n",
       "      <td>15.01</td>\n",
       "      <td>-0.565353</td>\n",
       "      <td>-0.544261</td>\n",
       "      <td>-0.021092</td>\n",
       "      <td>-0.059407</td>\n",
       "      <td>0.016650</td>\n",
       "      <td>42.774516</td>\n",
       "      <td>40.876801</td>\n",
       "      <td>44.137560</td>\n",
       "      <td>START</td>\n",
       "      <td>2007-04-20</td>\n",
       "      <td>2007-04-10</td>\n",
       "    </tr>\n",
       "    <tr>\n",
       "      <th>1</th>\n",
       "      <td>2007-05-07</td>\n",
       "      <td>14.03</td>\n",
       "      <td>-0.716537</td>\n",
       "      <td>-0.703618</td>\n",
       "      <td>-0.012920</td>\n",
       "      <td>-0.115993</td>\n",
       "      <td>0.083027</td>\n",
       "      <td>46.865237</td>\n",
       "      <td>40.113670</td>\n",
       "      <td>50.336882</td>\n",
       "      <td>START</td>\n",
       "      <td>2007-05-29</td>\n",
       "      <td>2007-05-07</td>\n",
       "    </tr>\n",
       "    <tr>\n",
       "      <th>2</th>\n",
       "      <td>2007-06-25</td>\n",
       "      <td>13.36</td>\n",
       "      <td>-0.516202</td>\n",
       "      <td>-0.446256</td>\n",
       "      <td>-0.069946</td>\n",
       "      <td>-0.120061</td>\n",
       "      <td>0.010681</td>\n",
       "      <td>41.622494</td>\n",
       "      <td>31.230369</td>\n",
       "      <td>50.249724</td>\n",
       "      <td>START</td>\n",
       "      <td>2007-07-16</td>\n",
       "      <td>2007-06-25</td>\n",
       "    </tr>\n",
       "    <tr>\n",
       "      <th>3</th>\n",
       "      <td>2007-08-08</td>\n",
       "      <td>10.35</td>\n",
       "      <td>-0.892671</td>\n",
       "      <td>-0.819247</td>\n",
       "      <td>-0.073424</td>\n",
       "      <td>-0.147827</td>\n",
       "      <td>0.015161</td>\n",
       "      <td>34.237093</td>\n",
       "      <td>24.789920</td>\n",
       "      <td>42.219521</td>\n",
       "      <td>START</td>\n",
       "      <td>2007-10-17</td>\n",
       "      <td>2007-08-08</td>\n",
       "    </tr>\n",
       "    <tr>\n",
       "      <th>4</th>\n",
       "      <td>2007-12-18</td>\n",
       "      <td>9.77</td>\n",
       "      <td>-0.337989</td>\n",
       "      <td>-0.311833</td>\n",
       "      <td>-0.026156</td>\n",
       "      <td>-0.040200</td>\n",
       "      <td>0.004091</td>\n",
       "      <td>33.289963</td>\n",
       "      <td>27.992954</td>\n",
       "      <td>42.715347</td>\n",
       "      <td>START</td>\n",
       "      <td>2008-01-04</td>\n",
       "      <td>2007-12-18</td>\n",
       "    </tr>\n",
       "    <tr>\n",
       "      <th>...</th>\n",
       "      <td>...</td>\n",
       "      <td>...</td>\n",
       "      <td>...</td>\n",
       "      <td>...</td>\n",
       "      <td>...</td>\n",
       "      <td>...</td>\n",
       "      <td>...</td>\n",
       "      <td>...</td>\n",
       "      <td>...</td>\n",
       "      <td>...</td>\n",
       "      <td>...</td>\n",
       "      <td>...</td>\n",
       "      <td>...</td>\n",
       "    </tr>\n",
       "    <tr>\n",
       "      <th>164</th>\n",
       "      <td>2024-01-31</td>\n",
       "      <td>82.65</td>\n",
       "      <td>0.113798</td>\n",
       "      <td>0.190502</td>\n",
       "      <td>-0.076704</td>\n",
       "      <td>-0.088170</td>\n",
       "      <td>0.163787</td>\n",
       "      <td>51.372390</td>\n",
       "      <td>50.598909</td>\n",
       "      <td>71.024097</td>\n",
       "      <td>START</td>\n",
       "      <td>2024-03-11</td>\n",
       "      <td>2024-01-31</td>\n",
       "    </tr>\n",
       "    <tr>\n",
       "      <th>165</th>\n",
       "      <td>2024-03-12</td>\n",
       "      <td>96.64</td>\n",
       "      <td>2.582153</td>\n",
       "      <td>2.607981</td>\n",
       "      <td>-0.025828</td>\n",
       "      <td>-0.046665</td>\n",
       "      <td>0.245608</td>\n",
       "      <td>69.834398</td>\n",
       "      <td>65.607658</td>\n",
       "      <td>77.739026</td>\n",
       "      <td>START</td>\n",
       "      <td>2024-03-19</td>\n",
       "      <td>2024-03-12</td>\n",
       "    </tr>\n",
       "    <tr>\n",
       "      <th>166</th>\n",
       "      <td>2024-04-24</td>\n",
       "      <td>103.72</td>\n",
       "      <td>0.404940</td>\n",
       "      <td>0.452810</td>\n",
       "      <td>-0.047870</td>\n",
       "      <td>-0.596651</td>\n",
       "      <td>0.465508</td>\n",
       "      <td>64.562312</td>\n",
       "      <td>49.312871</td>\n",
       "      <td>68.606700</td>\n",
       "      <td>START</td>\n",
       "      <td>2024-05-24</td>\n",
       "      <td>2024-04-24</td>\n",
       "    </tr>\n",
       "    <tr>\n",
       "      <th>167</th>\n",
       "      <td>2024-06-07</td>\n",
       "      <td>122.63</td>\n",
       "      <td>3.530503</td>\n",
       "      <td>3.544493</td>\n",
       "      <td>-0.013991</td>\n",
       "      <td>-0.140101</td>\n",
       "      <td>0.143876</td>\n",
       "      <td>69.613883</td>\n",
       "      <td>66.341610</td>\n",
       "      <td>72.058788</td>\n",
       "      <td>START</td>\n",
       "      <td>2024-06-25</td>\n",
       "      <td>2024-06-07</td>\n",
       "    </tr>\n",
       "    <tr>\n",
       "      <th>168</th>\n",
       "      <td>2024-07-05</td>\n",
       "      <td>138.70</td>\n",
       "      <td>3.850933</td>\n",
       "      <td>3.969985</td>\n",
       "      <td>-0.119052</td>\n",
       "      <td>-0.517039</td>\n",
       "      <td>0.157882</td>\n",
       "      <td>68.526927</td>\n",
       "      <td>65.316355</td>\n",
       "      <td>69.471409</td>\n",
       "      <td>START</td>\n",
       "      <td>2024-07-10</td>\n",
       "      <td>2024-07-05</td>\n",
       "    </tr>\n",
       "  </tbody>\n",
       "</table>\n",
       "<p>169 rows × 13 columns</p>\n",
       "</div>"
      ],
      "text/plain": [
       "     date_trade  close_price      macd  macd_signal  histogram  \\\n",
       "0    2007-04-10        15.01 -0.565353    -0.544261  -0.021092   \n",
       "1    2007-05-07        14.03 -0.716537    -0.703618  -0.012920   \n",
       "2    2007-06-25        13.36 -0.516202    -0.446256  -0.069946   \n",
       "3    2007-08-08        10.35 -0.892671    -0.819247  -0.073424   \n",
       "4    2007-12-18         9.77 -0.337989    -0.311833  -0.026156   \n",
       "..          ...          ...       ...          ...        ...   \n",
       "164  2024-01-31        82.65  0.113798     0.190502  -0.076704   \n",
       "165  2024-03-12        96.64  2.582153     2.607981  -0.025828   \n",
       "166  2024-04-24       103.72  0.404940     0.452810  -0.047870   \n",
       "167  2024-06-07       122.63  3.530503     3.544493  -0.013991   \n",
       "168  2024-07-05       138.70  3.850933     3.969985  -0.119052   \n",
       "\n",
       "     previous_histogram  next_histogram        rsi  previous_rsi   next_rsi  \\\n",
       "0             -0.059407        0.016650  42.774516     40.876801  44.137560   \n",
       "1             -0.115993        0.083027  46.865237     40.113670  50.336882   \n",
       "2             -0.120061        0.010681  41.622494     31.230369  50.249724   \n",
       "3             -0.147827        0.015161  34.237093     24.789920  42.219521   \n",
       "4             -0.040200        0.004091  33.289963     27.992954  42.715347   \n",
       "..                  ...             ...        ...           ...        ...   \n",
       "164           -0.088170        0.163787  51.372390     50.598909  71.024097   \n",
       "165           -0.046665        0.245608  69.834398     65.607658  77.739026   \n",
       "166           -0.596651        0.465508  64.562312     49.312871  68.606700   \n",
       "167           -0.140101        0.143876  69.613883     66.341610  72.058788   \n",
       "168           -0.517039        0.157882  68.526927     65.316355  69.471409   \n",
       "\n",
       "      type end_trend_date start_trend_date  \n",
       "0    START     2007-04-20       2007-04-10  \n",
       "1    START     2007-05-29       2007-05-07  \n",
       "2    START     2007-07-16       2007-06-25  \n",
       "3    START     2007-10-17       2007-08-08  \n",
       "4    START     2008-01-04       2007-12-18  \n",
       "..     ...            ...              ...  \n",
       "164  START     2024-03-11       2024-01-31  \n",
       "165  START     2024-03-19       2024-03-12  \n",
       "166  START     2024-05-24       2024-04-24  \n",
       "167  START     2024-06-25       2024-06-07  \n",
       "168  START     2024-07-10       2024-07-05  \n",
       "\n",
       "[169 rows x 13 columns]"
      ]
     },
     "execution_count": 41,
     "metadata": {},
     "output_type": "execute_result"
    }
   ],
   "source": [
    "df_D1"
   ]
  },
  {
   "cell_type": "code",
   "execution_count": 118,
   "metadata": {},
   "outputs": [],
   "source": [
    "start_end_DF = pd.DataFrame()"
   ]
  },
  {
   "cell_type": "code",
   "execution_count": 119,
   "metadata": {},
   "outputs": [],
   "source": [
    "start_end_DF[\"start_trend_date\"] = pd.to_datetime(df_D1[\"start_trend_date\"])\n",
    "start_end_DF[\"end_trend_date\"] = pd.to_datetime(df_D1[\"end_trend_date\"])"
   ]
  },
  {
   "cell_type": "code",
   "execution_count": 120,
   "metadata": {},
   "outputs": [],
   "source": [
    "df_macd = df_D[[\"date_trade\", \"close_price\",\n",
    "                \"macd\",\t\"macd_signal\", \"histogram\"]]"
   ]
  },
  {
   "cell_type": "code",
   "execution_count": 121,
   "metadata": {},
   "outputs": [],
   "source": [
    "scaler = MinMaxScaler(feature_range=(0, 1))"
   ]
  },
  {
   "cell_type": "code",
   "execution_count": 122,
   "metadata": {},
   "outputs": [],
   "source": [
    "def construct_scaler_macd_data(df, scaler):\n",
    "    df_scaled = df[[\"date_trade\"]]\n",
    "    df_scaled[[\"close_price\", \"macd\", \"macd_signal\", \"histogram\"]] = scaler.fit_transform(\n",
    "        df[[\"close_price\", \"macd\", \"macd_signal\", \"histogram\"]])\n",
    "    return df_scaled"
   ]
  },
  {
   "cell_type": "code",
   "execution_count": 123,
   "metadata": {},
   "outputs": [
    {
     "name": "stderr",
     "output_type": "stream",
     "text": [
      "C:\\Users\\ADMIN\\AppData\\Local\\Temp\\ipykernel_17848\\3473851728.py:3: SettingWithCopyWarning: \n",
      "A value is trying to be set on a copy of a slice from a DataFrame.\n",
      "Try using .loc[row_indexer,col_indexer] = value instead\n",
      "\n",
      "See the caveats in the documentation: https://pandas.pydata.org/pandas-docs/stable/user_guide/indexing.html#returning-a-view-versus-a-copy\n",
      "  df_scaled[[\"close_price\", \"macd\", \"macd_signal\", \"histogram\"]] = scaler.fit_transform(\n",
      "C:\\Users\\ADMIN\\AppData\\Local\\Temp\\ipykernel_17848\\3473851728.py:3: SettingWithCopyWarning: \n",
      "A value is trying to be set on a copy of a slice from a DataFrame.\n",
      "Try using .loc[row_indexer,col_indexer] = value instead\n",
      "\n",
      "See the caveats in the documentation: https://pandas.pydata.org/pandas-docs/stable/user_guide/indexing.html#returning-a-view-versus-a-copy\n",
      "  df_scaled[[\"close_price\", \"macd\", \"macd_signal\", \"histogram\"]] = scaler.fit_transform(\n",
      "C:\\Users\\ADMIN\\AppData\\Local\\Temp\\ipykernel_17848\\3473851728.py:3: SettingWithCopyWarning: \n",
      "A value is trying to be set on a copy of a slice from a DataFrame.\n",
      "Try using .loc[row_indexer,col_indexer] = value instead\n",
      "\n",
      "See the caveats in the documentation: https://pandas.pydata.org/pandas-docs/stable/user_guide/indexing.html#returning-a-view-versus-a-copy\n",
      "  df_scaled[[\"close_price\", \"macd\", \"macd_signal\", \"histogram\"]] = scaler.fit_transform(\n"
     ]
    }
   ],
   "source": [
    "df_macd_value = construct_scaler_macd_data(df_macd, scaler)"
   ]
  },
  {
   "cell_type": "code",
   "execution_count": 124,
   "metadata": {},
   "outputs": [],
   "source": [
    "def generate_sequence(start_end_DF, df_macd_value, output_size=1):\n",
    "    xs, ys, seq_lengths = [], [], []\n",
    "    start_end = []\n",
    "    for index, row in start_end_DF.iterrows():\n",
    "        start_date = row[\"start_trend_date\"]\n",
    "        end_date = row[\"end_trend_date\"]\n",
    "\n",
    "        data = df_macd_value[(df_macd_value[\"date_trade\"] >= start_date) & (\n",
    "            df_macd_value[\"date_trade\"] <= end_date)]\n",
    "        \n",
    "\n",
    "        last_index_of_data = int(df_macd_value[df_macd_value[\"date_trade\"] == end_date].index.values[0])\n",
    "        \n",
    "        output = df_macd_value.iloc[last_index_of_data + 1:last_index_of_data + output_size + 1]\n",
    "        \n",
    "        if (len(output) != output_size):\n",
    "            continue\n",
    "        \n",
    "        xs.append(data[[\"close_price\", \"macd\", \"macd_signal\", \"histogram\"]].values)\n",
    "        ys.append(output[\"close_price\"])\n",
    "        seq_lengths.append(len(data))\n",
    "        \n",
    "        start_end.append((start_date, end_date))\n",
    "\n",
    "    return xs, np.array(ys), np.array(seq_lengths), start_end\n"
   ]
  },
  {
   "cell_type": "code",
   "execution_count": 125,
   "metadata": {},
   "outputs": [],
   "source": [
    "X, y, seq_lengths, _ = generate_sequence(start_end_DF, df_macd_value, 10)"
   ]
  },
  {
   "cell_type": "code",
   "execution_count": 126,
   "metadata": {},
   "outputs": [],
   "source": [
    "def create_tensor_data(X, y, seq_lengths):\n",
    "    X_train = [torch.tensor(x, dtype=torch.float32) for x in X]\n",
    "    y_train = torch.tensor(y, dtype=torch.float32)\n",
    "    seq_lengths_train = torch.tensor(seq_lengths)\n",
    "    \n",
    "    X_train_padded = pad_sequence(X_train, batch_first=True)\n",
    "    \n",
    "    return X_train, X_train_padded, y_train, seq_lengths_train"
   ]
  },
  {
   "cell_type": "code",
   "execution_count": 127,
   "metadata": {},
   "outputs": [],
   "source": [
    "X_train, X_train_padded, y_train, seq_lengths_train = create_tensor_data(X, y, seq_lengths)"
   ]
  },
  {
   "cell_type": "code",
   "execution_count": 128,
   "metadata": {},
   "outputs": [],
   "source": [
    "class StockD1LSTM(nn.Module):\n",
    "    def __init__(self, input_size, hidden_size, num_layers, output_size):\n",
    "        super(StockD1LSTM, self).__init__()\n",
    "        self.hidden_size = hidden_size\n",
    "        self.num_layers = num_layers\n",
    "        self.lstm = nn.LSTM(input_size, hidden_size, num_layers, batch_first=True)\n",
    "        self.fc = nn.Linear(hidden_size, output_size)\n",
    "\n",
    "    def forward(self, x, lengths):\n",
    "        h0 = torch.zeros(self.num_layers, x.size(0), self.hidden_size).to(x.device)\n",
    "        c0 = torch.zeros(self.num_layers, x.size(0), self.hidden_size).to(x.device)\n",
    "\n",
    "        packed_input = torch.nn.utils.rnn.pack_padded_sequence(x, lengths, batch_first=True, enforce_sorted=False)\n",
    "        packed_output, _ = self.lstm(packed_input, (h0, c0))\n",
    "        output, _ = torch.nn.utils.rnn.pad_packed_sequence(packed_output, batch_first=True)\n",
    "        out = self.fc(output[torch.arange(x.size(0)), lengths - 1])\n",
    "        return out\n"
   ]
  },
  {
   "cell_type": "code",
   "execution_count": 129,
   "metadata": {},
   "outputs": [],
   "source": [
    "input_size = 4\n",
    "hidden_size = 50\n",
    "num_layers = 2\n",
    "output_size = 10\n",
    "\n",
    "model = StockD1LSTM(input_size, hidden_size, num_layers, output_size)"
   ]
  },
  {
   "cell_type": "code",
   "execution_count": 134,
   "metadata": {},
   "outputs": [
    {
     "name": "stdout",
     "output_type": "stream",
     "text": [
      "Epoch [10/300], Loss: 0.00115229247603565454\n",
      "Epoch [20/300], Loss: 0.00013686741294804960\n",
      "Epoch [30/300], Loss: 0.00008242559124482796\n",
      "Epoch [40/300], Loss: 0.00009249988943338394\n",
      "Epoch [50/300], Loss: 0.00006027486233506352\n",
      "Epoch [60/300], Loss: 0.00004762703974847682\n",
      "Epoch [70/300], Loss: 0.00004385213469504379\n",
      "Epoch [80/300], Loss: 0.00004241876376909204\n",
      "Epoch [90/300], Loss: 0.00004161303149885498\n",
      "Epoch [100/300], Loss: 0.00004123225880903192\n",
      "Epoch [110/300], Loss: 0.00004112366514164023\n",
      "Epoch [120/300], Loss: 0.00004101852027815767\n",
      "Epoch [130/300], Loss: 0.00004090393485967070\n",
      "Epoch [140/300], Loss: 0.00004080513826920651\n",
      "Epoch [150/300], Loss: 0.00004070215072715655\n",
      "Epoch [160/300], Loss: 0.00004060019273310900\n",
      "Epoch [170/300], Loss: 0.00004049685594509356\n",
      "Epoch [180/300], Loss: 0.00004039234772790223\n",
      "Epoch [190/300], Loss: 0.00004028678813483566\n",
      "Epoch [200/300], Loss: 0.00004017987157567404\n",
      "Epoch [210/300], Loss: 0.00004007169627584517\n",
      "Epoch [220/300], Loss: 0.00003996222221758217\n",
      "Epoch [230/300], Loss: 0.00003985153307439759\n",
      "Epoch [240/300], Loss: 0.00003973953789682128\n",
      "Epoch [250/300], Loss: 0.00003962625851272605\n",
      "Epoch [260/300], Loss: 0.00003951172402594239\n",
      "Epoch [270/300], Loss: 0.00003939594171242788\n",
      "Epoch [280/300], Loss: 0.00003927896250388585\n",
      "Epoch [290/300], Loss: 0.00003916075002052821\n",
      "Epoch [300/300], Loss: 0.00003904135155607946\n"
     ]
    }
   ],
   "source": [
    "criterion = nn.MSELoss()\n",
    "optimizer = torch.optim.Adam(model.parameters(), lr=0.001)\n",
    "\n",
    "num_epochs = 300\n",
    "for epoch in range(num_epochs):\n",
    "    model.train()\n",
    "    outputs = model(X_train_padded, seq_lengths_train)\n",
    "    loss = criterion(outputs, y_train)\n",
    "    \n",
    "    loss.backward()\n",
    "    optimizer.step()\n",
    "    optimizer.zero_grad()\n",
    "\n",
    "    if (epoch + 1) % 10 == 0:\n",
    "        print(f'Epoch [{epoch+1}/{num_epochs}], Loss: {loss.item():.20f}')\n"
   ]
  },
  {
   "cell_type": "code",
   "execution_count": 135,
   "metadata": {},
   "outputs": [
    {
     "name": "stdout",
     "output_type": "stream",
     "text": [
      "Test Loss: 0.00003902932439814322\n"
     ]
    }
   ],
   "source": [
    "model.eval()\n",
    "with torch.no_grad():\n",
    "    train_predict = model(X_train_padded, torch.tensor(seq_lengths))\n",
    "    test_loss = criterion(train_predict, y_train)\n",
    "    print(f'Test Loss: {test_loss.item():.20f}')\n",
    "\n",
    "# Chuyển đổi lại giá trị về phạm vi ban đầu\n"
   ]
  },
  {
   "cell_type": "code",
   "execution_count": 132,
   "metadata": {},
   "outputs": [
    {
     "data": {
      "text/plain": [
       "torch.Size([169, 10])"
      ]
     },
     "execution_count": 132,
     "metadata": {},
     "output_type": "execute_result"
    }
   ],
   "source": [
    "train_predict.shape"
   ]
  },
  {
   "cell_type": "code",
   "execution_count": 178,
   "metadata": {},
   "outputs": [],
   "source": [
    "data = df_D[(df_D[\"date_trade\"] >= \"2024-04-23\") & (df_D[\"date_trade\"] <= \"2024-06-25\")].reset_index()"
   ]
  },
  {
   "cell_type": "code",
   "execution_count": 199,
   "metadata": {},
   "outputs": [
    {
     "name": "stderr",
     "output_type": "stream",
     "text": [
      "C:\\Users\\ADMIN\\AppData\\Local\\Temp\\ipykernel_17848\\3473851728.py:3: SettingWithCopyWarning: \n",
      "A value is trying to be set on a copy of a slice from a DataFrame.\n",
      "Try using .loc[row_indexer,col_indexer] = value instead\n",
      "\n",
      "See the caveats in the documentation: https://pandas.pydata.org/pandas-docs/stable/user_guide/indexing.html#returning-a-view-versus-a-copy\n",
      "  df_scaled[[\"close_price\", \"macd\", \"macd_signal\", \"histogram\"]] = scaler.fit_transform(\n",
      "C:\\Users\\ADMIN\\AppData\\Local\\Temp\\ipykernel_17848\\3473851728.py:3: SettingWithCopyWarning: \n",
      "A value is trying to be set on a copy of a slice from a DataFrame.\n",
      "Try using .loc[row_indexer,col_indexer] = value instead\n",
      "\n",
      "See the caveats in the documentation: https://pandas.pydata.org/pandas-docs/stable/user_guide/indexing.html#returning-a-view-versus-a-copy\n",
      "  df_scaled[[\"close_price\", \"macd\", \"macd_signal\", \"histogram\"]] = scaler.fit_transform(\n",
      "C:\\Users\\ADMIN\\AppData\\Local\\Temp\\ipykernel_17848\\3473851728.py:3: SettingWithCopyWarning: \n",
      "A value is trying to be set on a copy of a slice from a DataFrame.\n",
      "Try using .loc[row_indexer,col_indexer] = value instead\n",
      "\n",
      "See the caveats in the documentation: https://pandas.pydata.org/pandas-docs/stable/user_guide/indexing.html#returning-a-view-versus-a-copy\n",
      "  df_scaled[[\"close_price\", \"macd\", \"macd_signal\", \"histogram\"]] = scaler.fit_transform(\n"
     ]
    }
   ],
   "source": [
    "data = construct_scaler_macd_data(df_macd, scaler)"
   ]
  },
  {
   "cell_type": "code",
   "execution_count": 200,
   "metadata": {},
   "outputs": [
    {
     "data": {
      "text/html": [
       "<div>\n",
       "<style scoped>\n",
       "    .dataframe tbody tr th:only-of-type {\n",
       "        vertical-align: middle;\n",
       "    }\n",
       "\n",
       "    .dataframe tbody tr th {\n",
       "        vertical-align: top;\n",
       "    }\n",
       "\n",
       "    .dataframe thead th {\n",
       "        text-align: right;\n",
       "    }\n",
       "</style>\n",
       "<table border=\"1\" class=\"dataframe\">\n",
       "  <thead>\n",
       "    <tr style=\"text-align: right;\">\n",
       "      <th></th>\n",
       "      <th>date_trade</th>\n",
       "      <th>close_price</th>\n",
       "      <th>macd</th>\n",
       "      <th>macd_signal</th>\n",
       "      <th>histogram</th>\n",
       "    </tr>\n",
       "  </thead>\n",
       "  <tbody>\n",
       "    <tr>\n",
       "      <th>0</th>\n",
       "      <td>2006-12-13</td>\n",
       "      <td>0.068374</td>\n",
       "      <td>NaN</td>\n",
       "      <td>NaN</td>\n",
       "      <td>NaN</td>\n",
       "    </tr>\n",
       "    <tr>\n",
       "      <th>1</th>\n",
       "      <td>2006-12-14</td>\n",
       "      <td>0.072520</td>\n",
       "      <td>NaN</td>\n",
       "      <td>NaN</td>\n",
       "      <td>NaN</td>\n",
       "    </tr>\n",
       "    <tr>\n",
       "      <th>2</th>\n",
       "      <td>2006-12-15</td>\n",
       "      <td>0.076957</td>\n",
       "      <td>NaN</td>\n",
       "      <td>NaN</td>\n",
       "      <td>NaN</td>\n",
       "    </tr>\n",
       "    <tr>\n",
       "      <th>3</th>\n",
       "      <td>2006-12-18</td>\n",
       "      <td>0.081539</td>\n",
       "      <td>NaN</td>\n",
       "      <td>NaN</td>\n",
       "      <td>NaN</td>\n",
       "    </tr>\n",
       "    <tr>\n",
       "      <th>4</th>\n",
       "      <td>2006-12-19</td>\n",
       "      <td>0.086340</td>\n",
       "      <td>NaN</td>\n",
       "      <td>NaN</td>\n",
       "      <td>NaN</td>\n",
       "    </tr>\n",
       "    <tr>\n",
       "      <th>...</th>\n",
       "      <td>...</td>\n",
       "      <td>...</td>\n",
       "      <td>...</td>\n",
       "      <td>...</td>\n",
       "      <td>...</td>\n",
       "    </tr>\n",
       "    <tr>\n",
       "      <th>4380</th>\n",
       "      <td>2024-08-09</td>\n",
       "      <td>0.907623</td>\n",
       "      <td>0.061737</td>\n",
       "      <td>0.079941</td>\n",
       "      <td>0.419189</td>\n",
       "    </tr>\n",
       "    <tr>\n",
       "      <th>4381</th>\n",
       "      <td>2024-08-12</td>\n",
       "      <td>0.930172</td>\n",
       "      <td>0.135398</td>\n",
       "      <td>0.085133</td>\n",
       "      <td>0.587483</td>\n",
       "    </tr>\n",
       "    <tr>\n",
       "      <th>4382</th>\n",
       "      <td>2024-08-13</td>\n",
       "      <td>0.927990</td>\n",
       "      <td>0.191708</td>\n",
       "      <td>0.101875</td>\n",
       "      <td>0.688271</td>\n",
       "    </tr>\n",
       "    <tr>\n",
       "      <th>4383</th>\n",
       "      <td>2024-08-14</td>\n",
       "      <td>0.926535</td>\n",
       "      <td>0.234825</td>\n",
       "      <td>0.124909</td>\n",
       "      <td>0.743164</td>\n",
       "    </tr>\n",
       "    <tr>\n",
       "      <th>4384</th>\n",
       "      <td>2024-08-15</td>\n",
       "      <td>0.917806</td>\n",
       "      <td>0.256690</td>\n",
       "      <td>0.148224</td>\n",
       "      <td>0.745623</td>\n",
       "    </tr>\n",
       "  </tbody>\n",
       "</table>\n",
       "<p>4385 rows × 5 columns</p>\n",
       "</div>"
      ],
      "text/plain": [
       "     date_trade  close_price      macd  macd_signal  histogram\n",
       "0    2006-12-13     0.068374       NaN          NaN        NaN\n",
       "1    2006-12-14     0.072520       NaN          NaN        NaN\n",
       "2    2006-12-15     0.076957       NaN          NaN        NaN\n",
       "3    2006-12-18     0.081539       NaN          NaN        NaN\n",
       "4    2006-12-19     0.086340       NaN          NaN        NaN\n",
       "...         ...          ...       ...          ...        ...\n",
       "4380 2024-08-09     0.907623  0.061737     0.079941   0.419189\n",
       "4381 2024-08-12     0.930172  0.135398     0.085133   0.587483\n",
       "4382 2024-08-13     0.927990  0.191708     0.101875   0.688271\n",
       "4383 2024-08-14     0.926535  0.234825     0.124909   0.743164\n",
       "4384 2024-08-15     0.917806  0.256690     0.148224   0.745623\n",
       "\n",
       "[4385 rows x 5 columns]"
      ]
     },
     "execution_count": 200,
     "metadata": {},
     "output_type": "execute_result"
    }
   ],
   "source": [
    "data"
   ]
  },
  {
   "cell_type": "code",
   "execution_count": 201,
   "metadata": {},
   "outputs": [],
   "source": [
    "start_end_DF = pd.DataFrame({\n",
    "    \"start_trend_date\": [\"2024-04-24\"],\n",
    "    \"end_trend_date\": [\"2024-05-10\"],\n",
    "})\n",
    "X_test, y_test, seq_lengths_test, _ = generate_sequence(\n",
    "    start_end_DF=start_end_DF,\n",
    "    df_macd_value=data,\n",
    "    output_size=10\n",
    ")"
   ]
  },
  {
   "cell_type": "code",
   "execution_count": 202,
   "metadata": {},
   "outputs": [],
   "source": [
    "X_test, X_test_padded, y_test, seq_lengths_test = create_tensor_data(X_test, y_test, seq_lengths_test)"
   ]
  },
  {
   "cell_type": "code",
   "execution_count": 203,
   "metadata": {},
   "outputs": [
    {
     "name": "stderr",
     "output_type": "stream",
     "text": [
      "C:\\Users\\ADMIN\\AppData\\Local\\Temp\\ipykernel_17848\\3608567555.py:3: UserWarning: To copy construct from a tensor, it is recommended to use sourceTensor.clone().detach() or sourceTensor.clone().detach().requires_grad_(True), rather than torch.tensor(sourceTensor).\n",
      "  test_predict = model(X_test_padded, torch.tensor(seq_lengths_test))\n"
     ]
    }
   ],
   "source": [
    "model.eval()\n",
    "with torch.no_grad():\n",
    "    test_predict = model(X_test_padded, torch.tensor(seq_lengths_test))\n",
    "    "
   ]
  },
  {
   "cell_type": "code",
   "execution_count": 204,
   "metadata": {},
   "outputs": [
    {
     "data": {
      "text/plain": [
       "tensor([[0.7993, 0.8043, 0.8270, 0.8351, 0.8294, 0.8200, 0.8389, 0.8515, 0.8483,\n",
       "         0.8131]])"
      ]
     },
     "execution_count": 204,
     "metadata": {},
     "output_type": "execute_result"
    }
   ],
   "source": [
    "y_test"
   ]
  },
  {
   "cell_type": "code",
   "execution_count": 205,
   "metadata": {},
   "outputs": [
    {
     "data": {
      "text/plain": [
       "tensor([[0.8295, 0.8538, 0.8480, 0.8520, 0.8439, 0.8487, 0.8557, 0.8547, 0.8662,\n",
       "         0.8587]])"
      ]
     },
     "execution_count": 205,
     "metadata": {},
     "output_type": "execute_result"
    }
   ],
   "source": [
    "test_predict"
   ]
  },
  {
   "cell_type": "code",
   "execution_count": 212,
   "metadata": {},
   "outputs": [],
   "source": [
    "y_test_array = y_test.numpy()[0]\n",
    "test_predict_array = test_predict.numpy()[0]"
   ]
  },
  {
   "cell_type": "code",
   "execution_count": 213,
   "metadata": {},
   "outputs": [],
   "source": [
    "x = np.array([\"13\", \"14\", \"15\", \"16\", \"17\", \"20\", \"21\", \"22\", \"23\", \"24\"])"
   ]
  },
  {
   "cell_type": "code",
   "execution_count": 214,
   "metadata": {},
   "outputs": [
    {
     "data": {
      "text/plain": [
       "array(['13', '14', '15', '16', '17', '20', '21', '22', '23', '24'],\n",
       "      dtype='<U2')"
      ]
     },
     "execution_count": 214,
     "metadata": {},
     "output_type": "execute_result"
    }
   ],
   "source": [
    "x"
   ]
  },
  {
   "cell_type": "code",
   "execution_count": 216,
   "metadata": {},
   "outputs": [
    {
     "data": {
      "image/png": "[encoded data removed]",
      "text/plain": [
       "<Figure size 640x480 with 1 Axes>"
      ]
     },
     "metadata": {},
     "output_type": "display_data"
    }
   ],
   "source": [
    "plt.plot(x, y_test_array, label=\"Giá trị thực tế\", color=\"blue\")\n",
    "plt.plot(x, test_predict_array, label=\"Giá trị dự đoán\", color=\"red\")\n",
    "\n",
    "# Thêm tiêu đề, nhãn trục và chú thích\n",
    "plt.title(\"Multiple Line Plots\")\n",
    "plt.xlabel(\"Các ngày của tháng 05/2024\")\n",
    "plt.ylabel(\"Giá đóng cửa\")\n",
    "plt.legend()\n",
    "\n",
    "# Hiển thị biểu đồ\n",
    "plt.show()"
   ]
  }
 ],
 "metadata": {
  "kernelspec": {
   "display_name": "venv_py_39",
   "language": "python",
   "name": "python3"
  },
  "language_info": {
   "codemirror_mode": {
    "name": "ipython",
    "version": 3
   },
   "file_extension": ".py",
   "mimetype": "text/x-python",
   "name": "python",
   "nbconvert_exporter": "python",
   "pygments_lexer": "ipython3",
   "version": "3.9.7"
  }
 },
 "nbformat": 4,
 "nbformat_minor": 2
}
