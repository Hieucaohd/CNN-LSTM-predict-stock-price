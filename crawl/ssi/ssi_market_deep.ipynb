{
 "cells": [
  {
   "cell_type": "code",
   "execution_count": 1,
   "metadata": {},
   "outputs": [],
   "source": [
    "import sys\n",
    "sys.path.append(\"../../\")"
   ]
  },
  {
   "cell_type": "code",
   "execution_count": 2,
   "metadata": {},
   "outputs": [],
   "source": [
    "from utils.read_har import *\n",
    "from datetime import datetime\n",
    "from urllib.parse import urlparse, urlunparse"
   ]
  },
  {
   "cell_type": "code",
   "execution_count": 3,
   "metadata": {},
   "outputs": [],
   "source": [
    "PARENT_FOLDER = \"ssi\"\n",
    "REQUEST_FOLDER_PATH, RESPONSE_FOLDER_PATH = construct_folder(PARENT_FOLDER)"
   ]
  },
  {
   "cell_type": "code",
   "execution_count": 4,
   "metadata": {},
   "outputs": [],
   "source": [
    "# Access the entries in the HAR file\n",
    "file_name = \"market_deep\"\n",
    "entries = read_data_network(\n",
    "    f\"../../network_har/{PARENT_FOLDER}/{file_name}.har\")\n",
    "\n",
    "list_text = [\n",
    "    \"https://iboard-query.ssi.com.vn/v2/stock/FPT\",\n",
    "    \"https://iboard-query.ssi.com.vn/v2/stock/group/VN30\",\n",
    "]\n",
    "entries_find = find_list_request_have_text(\n",
    "    list_text, entries)\n",
    "write_dict_to_json_file(\n",
    "    entries_find, f\"{REQUEST_FOLDER_PATH}/entries_find_{file_name}.json\")"
   ]
  },
  {
   "cell_type": "code",
   "execution_count": 5,
   "metadata": {},
   "outputs": [
    {
     "data": {
      "text/plain": [
       "8"
      ]
     },
     "execution_count": 5,
     "metadata": {},
     "output_type": "execute_result"
    }
   ],
   "source": [
    "len(entries_find)"
   ]
  },
  {
   "cell_type": "code",
   "execution_count": 6,
   "metadata": {},
   "outputs": [],
   "source": [
    "index = 0\n",
    "entry_have_data = entries_find[index]\n",
    "request_of_entry = entry_have_data[\"request\"]\n",
    "\n",
    "index = f\"{file_name}_{index}\"\n",
    "inspect_entry(entry_have_data, index, \"file\", REQUEST_FOLDER_PATH, RESPONSE_FOLDER_PATH)\n",
    "# inspect_json_data(entry_have_data[\"response\"][\"content\"][\"text\"], f\"{index}_1\", \"file\", RESPONSE_FOLDER_PATH)"
   ]
  },
  {
   "cell_type": "code",
   "execution_count": 7,
   "metadata": {},
   "outputs": [],
   "source": [
    "headers = construct_name_value(request_of_entry[\"headers\"])\n",
    "\n",
    "headers_keys = list(headers.keys())[:]\n",
    "for key in headers_keys:\n",
    "    if key[0] == \":\":\n",
    "        del headers[key]\n",
    "\n",
    "cockies = construct_name_value(request_of_entry[\"cookies\"])"
   ]
  },
  {
   "cell_type": "code",
   "execution_count": 8,
   "metadata": {},
   "outputs": [
    {
     "data": {
      "text/plain": [
       "{'accept': 'application/json, text/plain, */*',\n",
       " 'accept-encoding': 'gzip, deflate, br, zstd',\n",
       " 'accept-language': 'vi',\n",
       " 'device-id': '5E60E6C8-B645-4850-91AE-2EEEFBA23B2C',\n",
       " 'if-none-match': 'W/\"461-JNxhCiIB0ds1uXX9Ifj+SbCNeeY\"',\n",
       " 'newrelic': 'eyJ2IjpbMCwxXSwiZCI6eyJ0eSI6IkJyb3dzZXIiLCJhYyI6IjM5NjY4NDAiLCJhcCI6IjU5NDQzMzA3MiIsImlkIjoiZDYyMGRiNzZiZmUzNDY1NyIsInRyIjoiNjBlODdlYWQ3M2NlNTgxOTRiZmYyMzJiY2I3YzcwMDAiLCJ0aSI6MTcxOTE1NzI0NDE4M319',\n",
       " 'origin': 'https://iboard.ssi.com.vn',\n",
       " 'priority': 'u=1, i',\n",
       " 'referer': 'https://iboard.ssi.com.vn/',\n",
       " 'sec-ch-ua': '\"Not/A)Brand\";v=\"8\", \"Chromium\";v=\"126\", \"Microsoft Edge\";v=\"126\"',\n",
       " 'sec-ch-ua-mobile': '?0',\n",
       " 'sec-ch-ua-platform': '\"Windows\"',\n",
       " 'sec-fetch-dest': 'empty',\n",
       " 'sec-fetch-mode': 'cors',\n",
       " 'sec-fetch-site': 'same-site',\n",
       " 'traceparent': '00-60e87ead73ce58194bff232bcb7c7000-d620db76bfe34657-01',\n",
       " 'tracestate': '3966840@nr=0-1-3966840-594433072-d620db76bfe34657----1719157244183',\n",
       " 'user-agent': 'Mozilla/5.0 (Windows NT 10.0; Win64; x64) AppleWebKit/537.36 (KHTML, like Gecko) Chrome/126.0.0.0 Safari/537.36 Edg/126.0.0.0'}"
      ]
     },
     "execution_count": 8,
     "metadata": {},
     "output_type": "execute_result"
    }
   ],
   "source": [
    "headers"
   ]
  },
  {
   "cell_type": "code",
   "execution_count": 9,
   "metadata": {},
   "outputs": [
    {
     "data": {
      "text/plain": [
       "dict_keys(['accept', 'accept-encoding', 'accept-language', 'device-id', 'if-none-match', 'newrelic', 'origin', 'priority', 'referer', 'sec-ch-ua', 'sec-ch-ua-mobile', 'sec-ch-ua-platform', 'sec-fetch-dest', 'sec-fetch-mode', 'sec-fetch-site', 'traceparent', 'tracestate', 'user-agent'])"
      ]
     },
     "execution_count": 9,
     "metadata": {},
     "output_type": "execute_result"
    }
   ],
   "source": [
    "headers.keys()"
   ]
  },
  {
   "cell_type": "code",
   "execution_count": 10,
   "metadata": {},
   "outputs": [],
   "source": [
    "del headers[\"device-id\"]\n",
    "del headers[\"if-none-match\"]\n",
    "del headers[\"newrelic\"]\n",
    "del headers[\"traceparent\"]\n",
    "del headers[\"tracestate\"]\n",
    "\n",
    "headers[\"accept\"] = \"application/json\""
   ]
  },
  {
   "cell_type": "code",
   "execution_count": 11,
   "metadata": {},
   "outputs": [
    {
     "data": {
      "text/plain": [
       "{'accept': 'application/json',\n",
       " 'accept-encoding': 'gzip, deflate, br, zstd',\n",
       " 'accept-language': 'vi',\n",
       " 'origin': 'https://iboard.ssi.com.vn',\n",
       " 'priority': 'u=1, i',\n",
       " 'referer': 'https://iboard.ssi.com.vn/',\n",
       " 'sec-ch-ua': '\"Not/A)Brand\";v=\"8\", \"Chromium\";v=\"126\", \"Microsoft Edge\";v=\"126\"',\n",
       " 'sec-ch-ua-mobile': '?0',\n",
       " 'sec-ch-ua-platform': '\"Windows\"',\n",
       " 'sec-fetch-dest': 'empty',\n",
       " 'sec-fetch-mode': 'cors',\n",
       " 'sec-fetch-site': 'same-site',\n",
       " 'user-agent': 'Mozilla/5.0 (Windows NT 10.0; Win64; x64) AppleWebKit/537.36 (KHTML, like Gecko) Chrome/126.0.0.0 Safari/537.36 Edg/126.0.0.0'}"
      ]
     },
     "execution_count": 11,
     "metadata": {},
     "output_type": "execute_result"
    }
   ],
   "source": [
    "headers"
   ]
  },
  {
   "cell_type": "code",
   "execution_count": 12,
   "metadata": {},
   "outputs": [
    {
     "data": {
      "text/plain": [
       "{}"
      ]
     },
     "execution_count": 12,
     "metadata": {},
     "output_type": "execute_result"
    }
   ],
   "source": [
    "cockies"
   ]
  },
  {
   "cell_type": "code",
   "execution_count": 13,
   "metadata": {},
   "outputs": [],
   "source": [
    "query_string = construct_name_value(request_of_entry[\"queryString\"])"
   ]
  },
  {
   "cell_type": "code",
   "execution_count": 15,
   "metadata": {},
   "outputs": [],
   "source": [
    "parsed_url = urlparse(request_of_entry[\"url\"])\n",
    "url_without_params = urlunparse((parsed_url.scheme, parsed_url.netloc, parsed_url.path, '', '', ''))\n"
   ]
  },
  {
   "cell_type": "code",
   "execution_count": 16,
   "metadata": {},
   "outputs": [
    {
     "data": {
      "text/plain": [
       "'https://iboard-query.ssi.com.vn/v2/stock/FPT'"
      ]
     },
     "execution_count": 16,
     "metadata": {},
     "output_type": "execute_result"
    }
   ],
   "source": [
    "url_without_params\n"
   ]
  },
  {
   "cell_type": "code",
   "execution_count": 17,
   "metadata": {},
   "outputs": [],
   "source": [
    "response = requests.get(\n",
    "    url=url_without_params,\n",
    "    headers=headers,\n",
    "    params=query_string\n",
    ")"
   ]
  },
  {
   "cell_type": "code",
   "execution_count": 18,
   "metadata": {},
   "outputs": [
    {
     "data": {
      "text/plain": [
       "200"
      ]
     },
     "execution_count": 18,
     "metadata": {},
     "output_type": "execute_result"
    }
   ],
   "source": [
    "response.status_code"
   ]
  },
  {
   "cell_type": "code",
   "execution_count": 19,
   "metadata": {},
   "outputs": [],
   "source": [
    "write_dict_to_json_file(response.json(), \"./market_deep.json\")"
   ]
  }
 ],
 "metadata": {
  "kernelspec": {
   "display_name": "venv",
   "language": "python",
   "name": "python3"
  },
  "language_info": {
   "codemirror_mode": {
    "name": "ipython",
    "version": 3
   },
   "file_extension": ".py",
   "mimetype": "text/x-python",
   "name": "python",
   "nbconvert_exporter": "python",
   "pygments_lexer": "ipython3",
   "version": "3.12.2"
  }
 },
 "nbformat": 4,
 "nbformat_minor": 2
}
