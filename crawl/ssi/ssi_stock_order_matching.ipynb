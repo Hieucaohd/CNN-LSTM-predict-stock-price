{
 "cells": [
  {
   "cell_type": "code",
   "execution_count": 1,
   "metadata": {},
   "outputs": [],
   "source": [
    "import sys\n",
    "sys.path.append(\"../../\")"
   ]
  },
  {
   "cell_type": "code",
   "execution_count": 2,
   "metadata": {},
   "outputs": [],
   "source": [
    "from utils.read_har import *\n",
    "from datetime import datetime\n",
    "from urllib.parse import urlparse, urlunparse"
   ]
  },
  {
   "cell_type": "code",
   "execution_count": 3,
   "metadata": {},
   "outputs": [],
   "source": [
    "PARENT_FOLDER = \"ssi\"\n",
    "REQUEST_FOLDER_PATH, RESPONSE_FOLDER_PATH = construct_folder(PARENT_FOLDER)"
   ]
  },
  {
   "cell_type": "code",
   "execution_count": 4,
   "metadata": {},
   "outputs": [],
   "source": [
    "# Access the entries in the HAR file\n",
    "file_name = \"order_matching\"\n",
    "entries = read_data_network(\n",
    "    f\"../../network_har/{PARENT_FOLDER}/{file_name}.har\")\n",
    "\n",
    "list_text = [\n",
    "    \"https://iboard-query.ssi.com.vn/le-table?stockSymbol=FPT&pageSize=50\",\n",
    "]\n",
    "entries_find = find_list_request_have_text(\n",
    "    list_text, entries)\n",
    "write_dict_to_json_file(\n",
    "    entries_find, f\"{REQUEST_FOLDER_PATH}/entries_find_{file_name}.json\")"
   ]
  },
  {
   "cell_type": "code",
   "execution_count": 5,
   "metadata": {},
   "outputs": [
    {
     "data": {
      "text/plain": [
       "8"
      ]
     },
     "execution_count": 5,
     "metadata": {},
     "output_type": "execute_result"
    }
   ],
   "source": [
    "len(entries_find)"
   ]
  },
  {
   "cell_type": "code",
   "execution_count": 6,
   "metadata": {},
   "outputs": [],
   "source": [
    "index = 0\n",
    "entry_have_data = entries_find[index]\n",
    "request_of_entry = entry_have_data[\"request\"]\n",
    "\n",
    "index = f\"{file_name}_{index}\"\n",
    "inspect_entry(entry_have_data, index, \"file\", REQUEST_FOLDER_PATH, RESPONSE_FOLDER_PATH)\n",
    "# inspect_json_data(entry_have_data[\"response\"][\"content\"][\"text\"], f\"{index}_1\", \"file\", RESPONSE_FOLDER_PATH)"
   ]
  },
  {
   "cell_type": "code",
   "execution_count": 7,
   "metadata": {},
   "outputs": [],
   "source": [
    "headers = construct_name_value(request_of_entry[\"headers\"])\n",
    "\n",
    "headers_keys = list(headers.keys())[:]\n",
    "for key in headers_keys:\n",
    "    if key[0] == \":\":\n",
    "        del headers[key]\n",
    "\n",
    "cockies = construct_name_value(request_of_entry[\"cookies\"])"
   ]
  },
  {
   "cell_type": "code",
   "execution_count": 8,
   "metadata": {},
   "outputs": [
    {
     "data": {
      "text/plain": [
       "{'accept': 'application/json, text/plain, */*',\n",
       " 'accept-encoding': 'gzip, deflate, br, zstd',\n",
       " 'accept-language': 'vi',\n",
       " 'device-id': '5E60E6C8-B645-4850-91AE-2EEEFBA23B2C',\n",
       " 'if-none-match': 'W/\"2f6b-ekPG7fAIvTpZl8FSJN0UqUn446U\"',\n",
       " 'newrelic': 'eyJ2IjpbMCwxXSwiZCI6eyJ0eSI6IkJyb3dzZXIiLCJhYyI6IjM5NjY4NDAiLCJhcCI6IjU5NDQzMzA3MiIsImlkIjoiMWZjMjYxZmZiMDRmNWY3YSIsInRyIjoiYzI5ZTE2MGY1YTIwMDUzMGE4ZjY3MzE0YmE5OTZlMDAiLCJ0aSI6MTcxOTE1NzI0NDE5Mn19',\n",
       " 'origin': 'https://iboard.ssi.com.vn',\n",
       " 'priority': 'u=1, i',\n",
       " 'referer': 'https://iboard.ssi.com.vn/',\n",
       " 'sec-ch-ua': '\"Not/A)Brand\";v=\"8\", \"Chromium\";v=\"126\", \"Microsoft Edge\";v=\"126\"',\n",
       " 'sec-ch-ua-mobile': '?0',\n",
       " 'sec-ch-ua-platform': '\"Windows\"',\n",
       " 'sec-fetch-dest': 'empty',\n",
       " 'sec-fetch-mode': 'cors',\n",
       " 'sec-fetch-site': 'same-site',\n",
       " 'traceparent': '00-c29e160f5a200530a8f67314ba996e00-1fc261ffb04f5f7a-01',\n",
       " 'tracestate': '3966840@nr=0-1-3966840-594433072-1fc261ffb04f5f7a----1719157244192',\n",
       " 'user-agent': 'Mozilla/5.0 (Windows NT 10.0; Win64; x64) AppleWebKit/537.36 (KHTML, like Gecko) Chrome/126.0.0.0 Safari/537.36 Edg/126.0.0.0'}"
      ]
     },
     "execution_count": 8,
     "metadata": {},
     "output_type": "execute_result"
    }
   ],
   "source": [
    "headers"
   ]
  },
  {
   "cell_type": "code",
   "execution_count": 9,
   "metadata": {},
   "outputs": [],
   "source": [
    "del headers[\"device-id\"]\n",
    "del headers[\"if-none-match\"]\n",
    "del headers[\"newrelic\"]\n",
    "del headers[\"traceparent\"]\n",
    "del headers[\"tracestate\"]"
   ]
  },
  {
   "cell_type": "code",
   "execution_count": 10,
   "metadata": {},
   "outputs": [
    {
     "data": {
      "text/plain": [
       "{'accept': 'application/json, text/plain, */*',\n",
       " 'accept-encoding': 'gzip, deflate, br, zstd',\n",
       " 'accept-language': 'vi',\n",
       " 'origin': 'https://iboard.ssi.com.vn',\n",
       " 'priority': 'u=1, i',\n",
       " 'referer': 'https://iboard.ssi.com.vn/',\n",
       " 'sec-ch-ua': '\"Not/A)Brand\";v=\"8\", \"Chromium\";v=\"126\", \"Microsoft Edge\";v=\"126\"',\n",
       " 'sec-ch-ua-mobile': '?0',\n",
       " 'sec-ch-ua-platform': '\"Windows\"',\n",
       " 'sec-fetch-dest': 'empty',\n",
       " 'sec-fetch-mode': 'cors',\n",
       " 'sec-fetch-site': 'same-site',\n",
       " 'user-agent': 'Mozilla/5.0 (Windows NT 10.0; Win64; x64) AppleWebKit/537.36 (KHTML, like Gecko) Chrome/126.0.0.0 Safari/537.36 Edg/126.0.0.0'}"
      ]
     },
     "execution_count": 10,
     "metadata": {},
     "output_type": "execute_result"
    }
   ],
   "source": [
    "headers"
   ]
  },
  {
   "cell_type": "code",
   "execution_count": 11,
   "metadata": {},
   "outputs": [
    {
     "data": {
      "text/plain": [
       "{}"
      ]
     },
     "execution_count": 11,
     "metadata": {},
     "output_type": "execute_result"
    }
   ],
   "source": [
    "cockies"
   ]
  },
  {
   "cell_type": "code",
   "execution_count": 12,
   "metadata": {},
   "outputs": [],
   "source": [
    "query_string = construct_name_value(request_of_entry[\"queryString\"])"
   ]
  },
  {
   "cell_type": "code",
   "execution_count": 13,
   "metadata": {},
   "outputs": [
    {
     "data": {
      "text/plain": [
       "{'stockSymbol': 'FPT', 'pageSize': '50'}"
      ]
     },
     "execution_count": 13,
     "metadata": {},
     "output_type": "execute_result"
    }
   ],
   "source": [
    "query_string"
   ]
  },
  {
   "cell_type": "code",
   "execution_count": 30,
   "metadata": {},
   "outputs": [],
   "source": [
    "# 1D = 1 day\n",
    "# 1 = 1 minute \n",
    "# 5 = 5 minutes\n",
    "# 15 = 15 minutes\n",
    "# 30\n",
    "# \n",
    "# \n",
    "# \n",
    "# \n",
    "# \n",
    "# "
   ]
  },
  {
   "cell_type": "code",
   "execution_count": 14,
   "metadata": {},
   "outputs": [
    {
     "data": {
      "text/plain": [
       "{'stockSymbol': 'FPT', 'pageSize': '50'}"
      ]
     },
     "execution_count": 14,
     "metadata": {},
     "output_type": "execute_result"
    }
   ],
   "source": [
    "query_string"
   ]
  },
  {
   "cell_type": "code",
   "execution_count": 15,
   "metadata": {},
   "outputs": [],
   "source": [
    "parsed_url = urlparse(request_of_entry[\"url\"])\n",
    "url_without_params = urlunparse((parsed_url.scheme, parsed_url.netloc, parsed_url.path, '', '', ''))\n"
   ]
  },
  {
   "cell_type": "code",
   "execution_count": 16,
   "metadata": {},
   "outputs": [
    {
     "data": {
      "text/plain": [
       "'https://iboard-query.ssi.com.vn/le-table'"
      ]
     },
     "execution_count": 16,
     "metadata": {},
     "output_type": "execute_result"
    }
   ],
   "source": [
    "url_without_params\n"
   ]
  },
  {
   "cell_type": "code",
   "execution_count": 17,
   "metadata": {},
   "outputs": [],
   "source": [
    "response = requests.get(\n",
    "    url=url_without_params,\n",
    "    headers=headers,\n",
    "    params=query_string\n",
    ")"
   ]
  },
  {
   "cell_type": "code",
   "execution_count": 18,
   "metadata": {},
   "outputs": [
    {
     "data": {
      "text/plain": [
       "200"
      ]
     },
     "execution_count": 18,
     "metadata": {},
     "output_type": "execute_result"
    }
   ],
   "source": [
    "response.status_code"
   ]
  },
  {
   "cell_type": "code",
   "execution_count": 19,
   "metadata": {},
   "outputs": [],
   "source": [
    "write_dict_to_json_file(response.json(), \"./order_matching.json\")"
   ]
  }
 ],
 "metadata": {
  "kernelspec": {
   "display_name": "venv",
   "language": "python",
   "name": "python3"
  },
  "language_info": {
   "codemirror_mode": {
    "name": "ipython",
    "version": 3
   },
   "file_extension": ".py",
   "mimetype": "text/x-python",
   "name": "python",
   "nbconvert_exporter": "python",
   "pygments_lexer": "ipython3",
   "version": "3.12.2"
  }
 },
 "nbformat": 4,
 "nbformat_minor": 2
}
