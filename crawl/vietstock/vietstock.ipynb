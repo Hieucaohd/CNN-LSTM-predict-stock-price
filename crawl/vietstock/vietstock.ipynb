{
 "cells": [
  {
   "cell_type": "code",
   "execution_count": 1,
   "metadata": {},
   "outputs": [],
   "source": [
    "import sys\n",
    "sys.path.append(\"../../\")"
   ]
  },
  {
   "cell_type": "code",
   "execution_count": 2,
   "metadata": {},
   "outputs": [],
   "source": [
    "from utils.read_har import *"
   ]
  },
  {
   "cell_type": "code",
   "execution_count": 3,
   "metadata": {},
   "outputs": [],
   "source": [
    "PARENT_FOLDER = \"vietstock\"\n",
    "REQUEST_FOLDER_PATH, RESPONSE_FOLDER_PATH = construct_folder(PARENT_FOLDER)"
   ]
  },
  {
   "cell_type": "code",
   "execution_count": 7,
   "metadata": {},
   "outputs": [],
   "source": [
    "# Access the entries in the HAR file\n",
    "file_name = \"chungkhoan_cophieu_t4tot5_page2\"\n",
    "entries = read_data_network(\n",
    "    f\"../../network_har/{PARENT_FOLDER}/{file_name}.har\")\n",
    "\n",
    "list_text = [\n",
    "    # \"2024/05/chung-khoan-kis-viet-nam-tung-khuyen-mai-36-ty-dong-nhan-dip-ra-mat-ung-dung-ikis-830-1189750\",\n",
    "    # \"2024/05/phan-tich-ky-thuat-phien-chieu-1305-tiep-dien-trang-thai-giang-co-585-1189422\",\n",
    "    # \"2024/05/aat-se-lam-gi-de-khac-phuc-tinh-trang-co-phieu-bi-canh-bao-830-1189330\",\n",
    "    # \"/2024/05/top-co-phieu-dang-chu-y-dau-phien-1605-830-1190254.htm\",\n",
    "    \"/2024/05/co-phieu-van-tai-bien-dien-va-ho-dau-khi-co-tuan-hut-tien-830-1189468.htm\",\n",
    "]\n",
    "entries_find = find_list_request_have_text(\n",
    "    list_text, entries)\n",
    "write_dict_to_json_file(\n",
    "    entries_find, f\"{REQUEST_FOLDER_PATH}/entries_find_{file_name}.json\")"
   ]
  },
  {
   "cell_type": "code",
   "execution_count": 8,
   "metadata": {},
   "outputs": [
    {
     "data": {
      "text/plain": [
       "1"
      ]
     },
     "execution_count": 8,
     "metadata": {},
     "output_type": "execute_result"
    }
   ],
   "source": [
    "len(entries_find)"
   ]
  },
  {
   "cell_type": "code",
   "execution_count": 9,
   "metadata": {},
   "outputs": [],
   "source": [
    "entry_have_data = entries_find[0]\n",
    "request_of_entry = entry_have_data[\"request\"]\n",
    "\n",
    "index = f\"{file_name}_0\"\n",
    "inspect_entry(entry_have_data, index, \"file\", REQUEST_FOLDER_PATH, RESPONSE_FOLDER_PATH)\n",
    "# inspect_json_data(entry_have_data[\"response\"][\"content\"][\"text\"], f\"{index}_1\", \"file\", RESPONSE_FOLDER_PATH)"
   ]
  },
  {
   "cell_type": "code",
   "execution_count": 7,
   "metadata": {},
   "outputs": [],
   "source": [
    "headers = construct_name_value(request_of_entry[\"headers\"])\n",
    "\n",
    "headers_keys = list(headers.keys())[:]\n",
    "for key in headers_keys:\n",
    "    if key[0] == \":\":\n",
    "        del headers[key]\n",
    "\n",
    "cockies = construct_name_value(request_of_entry[\"cookies\"])"
   ]
  },
  {
   "cell_type": "code",
   "execution_count": 8,
   "metadata": {},
   "outputs": [
    {
     "data": {
      "text/plain": [
       "{'Accept': 'text/html, */*; q=0.01',\n",
       " 'Accept-Encoding': 'gzip, deflate, br, zstd',\n",
       " 'Accept-Language': 'en-US,en;q=0.9',\n",
       " 'Connection': 'keep-alive',\n",
       " 'Content-Length': '20',\n",
       " 'Content-Type': 'application/x-www-form-urlencoded; charset=UTF-8',\n",
       " 'Cookie': '_ga=GA1.1.1957772729.1715735238; _pbjs_userid_consent_data=3524755945110770; isShowLogin=true; dable_uid=40942071.1689688464713; ASP.NET_SessionId=vjfifgcupqeez2mozhfympan; __RequestVerificationToken=7aY0Jwnrw1XauGT37NiqQbuDmygBz7uA0d9oLP_F05Vmb4I3QV-Yjr2YFl7qdNYcOXjc9t3M2r9Fup-cF7eKNlewinVSbkA3bdDIZ5FFgns1; _ga_EXMM0DKVEX=GS1.1.1715783000.7.0.1715783000.60.0.0; _ga_400SVTKXBC=GS1.1.1715783003.4.1.1715783003.60.0.0; __gads=ID=b6a5aba35d61f423:T=1715735243:RT=1715783003:S=ALNI_MamK4hK4lGiOC40VrasdoNg0JsMWQ; __gpi=UID=00000e1cdd3c9140:T=1715735243:RT=1715783003:S=ALNI_MZseii-Do_1GhxofE8oijT9VNIEPw; __eoi=ID=1ac5d34db41c6c64:T=1715735243:RT=1715783003:S=AA-Afjb_QFUobmsaYRNmu6qarpIu',\n",
       " 'Host': 'vietstock.vn',\n",
       " 'Origin': 'https://vietstock.vn',\n",
       " 'Referer': 'https://vietstock.vn/chung-khoan/co-phieu.htm',\n",
       " 'Sec-Fetch-Dest': 'empty',\n",
       " 'Sec-Fetch-Mode': 'cors',\n",
       " 'Sec-Fetch-Site': 'same-origin',\n",
       " 'User-Agent': 'Mozilla/5.0 (Windows NT 10.0; Win64; x64) AppleWebKit/537.36 (KHTML, like Gecko) Chrome/124.0.0.0 Safari/537.36 Edg/124.0.0.0',\n",
       " 'X-Requested-With': 'XMLHttpRequest',\n",
       " 'sec-ch-ua': '\"Chromium\";v=\"124\", \"Microsoft Edge\";v=\"124\", \"Not-A.Brand\";v=\"99\"',\n",
       " 'sec-ch-ua-mobile': '?0',\n",
       " 'sec-ch-ua-platform': '\"Windows\"'}"
      ]
     },
     "execution_count": 8,
     "metadata": {},
     "output_type": "execute_result"
    }
   ],
   "source": [
    "headers"
   ]
  },
  {
   "cell_type": "code",
   "execution_count": 9,
   "metadata": {},
   "outputs": [
    {
     "data": {
      "text/plain": [
       "{'_ga': 'GA1.1.1957772729.1715735238',\n",
       " '_pbjs_userid_consent_data': '3524755945110770',\n",
       " 'isShowLogin': 'true',\n",
       " 'dable_uid': '40942071.1689688464713',\n",
       " 'ASP.NET_SessionId': 'vjfifgcupqeez2mozhfympan',\n",
       " '__RequestVerificationToken': '7aY0Jwnrw1XauGT37NiqQbuDmygBz7uA0d9oLP_F05Vmb4I3QV-Yjr2YFl7qdNYcOXjc9t3M2r9Fup-cF7eKNlewinVSbkA3bdDIZ5FFgns1',\n",
       " '_ga_EXMM0DKVEX': 'GS1.1.1715783000.7.0.1715783000.60.0.0',\n",
       " '_ga_400SVTKXBC': 'GS1.1.1715783003.4.1.1715783003.60.0.0',\n",
       " '__gads': 'ID=b6a5aba35d61f423:T=1715735243:RT=1715783003:S=ALNI_MamK4hK4lGiOC40VrasdoNg0JsMWQ',\n",
       " '__gpi': 'UID=00000e1cdd3c9140:T=1715735243:RT=1715783003:S=ALNI_MZseii-Do_1GhxofE8oijT9VNIEPw',\n",
       " '__eoi': 'ID=1ac5d34db41c6c64:T=1715735243:RT=1715783003:S=AA-Afjb_QFUobmsaYRNmu6qarpIu'}"
      ]
     },
     "execution_count": 9,
     "metadata": {},
     "output_type": "execute_result"
    }
   ],
   "source": [
    "cockies"
   ]
  },
  {
   "cell_type": "code",
   "execution_count": 10,
   "metadata": {},
   "outputs": [
    {
     "data": {
      "text/plain": [
       "['mimeType', 'text', 'params']"
      ]
     },
     "execution_count": 10,
     "metadata": {},
     "output_type": "execute_result"
    }
   ],
   "source": [
    "list(request_of_entry[\"postData\"].keys())"
   ]
  },
  {
   "cell_type": "code",
   "execution_count": 11,
   "metadata": {},
   "outputs": [
    {
     "data": {
      "text/plain": [
       "{'channelID': '830', 'page': '3'}"
      ]
     },
     "execution_count": 11,
     "metadata": {},
     "output_type": "execute_result"
    }
   ],
   "source": [
    "construct_name_value(request_of_entry[\"postData\"][\"params\"])"
   ]
  },
  {
   "cell_type": "code",
   "execution_count": 16,
   "metadata": {},
   "outputs": [],
   "source": [
    "response = requests.post(\n",
    "    url=request_of_entry[\"url\"],\n",
    "    headers=headers,\n",
    "    data={'channelID': '830', 'page': '1'}\n",
    ")"
   ]
  },
  {
   "cell_type": "code",
   "execution_count": 17,
   "metadata": {},
   "outputs": [
    {
     "data": {
      "text/plain": [
       "200"
      ]
     },
     "execution_count": 17,
     "metadata": {},
     "output_type": "execute_result"
    }
   ],
   "source": [
    "response.status_code"
   ]
  },
  {
   "cell_type": "code",
   "execution_count": 18,
   "metadata": {},
   "outputs": [
    {
     "data": {
      "text/plain": [
       "'            <div class=\"single_post post_type12 type20 mb20 channelContent\">\\r\\n                <div class=\"post_img\">\\r\\n                    <div class=\"img_wrap  border-radious5\">\\r\\n                        <a href=\"/2024/05/nhip-dap-thi-truong-1605-duy-tri-da-tang-manh-me-nganh-ngan-hang-dan-dat-1636-1190415.htm\" title=\"Nhịp đập Thị trường 16/05: Duy tr&#236; đ&#224; tăng mạnh mẽ, ng&#224;nh ng&#226;n h&#224;ng dẫn dắt\">\\r\\n                            <img class=\"lazy\" data-src=\"https://image.vietstock.vn/2024/05/16/vnindex-lap-dinh-ky-luc_946628-1_946387.jpg\" alt=\"Nhịp đập Thị trường 16/05: Duy tr&#236; đ&#224; tăng mạnh mẽ, ng&#224;nh ng&#226;n h&#224;ng dẫn dắt\" />\\r\\n                        </a>\\r\\n                    </div>\\r\\n                </div>\\r\\n                <div class=\"single_post_text\">\\r\\n                    <div class=\"row\">\\r\\n                        <div class=\"col-12 align-self-cnter\">\\r\\n                            <div class=\"meta3\">\\r\\n                                <a href=\"/nhan-dinh-phan-tich/nhan-dinh-thi-truong.htm\" title=\"Nhận định thị trường\">NHẬN ĐỊNH THỊ TRƯỜNG</a>\\r\\n                                <a href=\"/2024/05/nhip-dap-thi-truong-1605-duy-tri-da-tang-manh-me-nganh-ngan-hang-dan-dat-1636-1190415.htm\" title=\"41 ph&#250;t trước\">41 ph&#250;t trước</a>\\r\\n                            </div>\\r\\n                        </div>\\r\\n                    </div>\\r\\n                    <h4><a class=\"fontbold\" href=\"/2024/05/nhip-dap-thi-truong-1605-duy-tri-da-tang-manh-me-nganh-ngan-hang-dan-dat-1636-1190415.htm\" title=\"Nhịp đập Thị trường 16/05: Duy tr&#236; đ&#224; tăng mạnh mẽ, ng&#224;nh ng&#226;n h&#224;ng dẫn dắt\">Nhịp đập Thị trường 16/05: Duy tr&#236; đ&#224; tăng mạnh mẽ, ng&#224;nh ng&#226;n h&#224;ng dẫn dắt</a></h4>\\r\\n                    <div class=\"space-20\"></div>\\r\\n                    <p class=\"post-p\">Tiếp nối sự t&#237;ch cực từ đầu phi&#234;n, thị trường li&#234;n tục c&#243; những nhịp k&#233;o dứt kho&#225;t trong bối cảnh thanh khoản được cải thiện r&#245; n&#233;t. T&#237;nh đến thời...</p>\\r\\n                </div>\\r\\n            </div>\\r\\n                <div class=\"border4\"></div>\\r\\n                <div class=\"space-20\"></div>\\r\\n            <div class=\"single_post post_type12 type20 mb20 channelContent\">\\r\\n                <div class=\"post_img\">\\r\\n                    <div class=\"img_wrap  border-radious5\">\\r\\n                        <a href=\"/2024/05/ngay-16052024-10-co-phieu-nong-duoi-goc-nhin-ptkt-cua-vietstock-585-1190253.htm\" title=\"Ngày 16/05/2024: 10 cổ phiếu n&#243;ng dưới g&#243;c nh&#236;n PTKT của Vietstock\">\\r\\n                            <img class=\"lazy\" data-src=\"https://image.vietstock.vn/2024/05/15/PTV-Hinh-16_1631949.png\" alt=\"Ngày 16/05/2024: 10 cổ phiếu n&#243;ng dưới g&#243;c nh&#236;n PTKT của Vietstock\" />\\r\\n                        </a>\\r\\n                    </div>\\r\\n                </div>\\r\\n                <div class=\"single_post_text\">\\r\\n                    <div class=\"row\">\\r\\n                        <div class=\"col-12 align-self-cnter\">\\r\\n                            <div class=\"meta3\">\\r\\n                                <a href=\"/nhan-dinh-phan-tich/phan-tich-ky-thuat.htm\" title=\"Ph&#226;n t&#237;ch kỹ thuật\">PH&#194;N T&#205;CH KỸ THUẬT</a>\\r\\n                                <a href=\"/2024/05/ngay-16052024-10-co-phieu-nong-duoi-goc-nhin-ptkt-cua-vietstock-585-1190253.htm\" title=\"1 giờ trước\">1 giờ trước</a>\\r\\n                            </div>\\r\\n                        </div>\\r\\n                    </div>\\r\\n                    <h4><a class=\"fontbold\" href=\"/2024/05/ngay-16052024-10-co-phieu-nong-duoi-goc-nhin-ptkt-cua-vietstock-585-1190253.htm\" title=\"Ngày 16/05/2024: 10 cổ phiếu n&#243;ng dưới g&#243;c nh&#236;n PTKT của Vietstock\">Ngày 16/05/2024: 10 cổ phiếu n&#243;ng dưới g&#243;c nh&#236;n PTKT của Vietstock</a></h4>\\r\\n                    <div class=\"space-20\"></div>\\r\\n                    <p class=\"post-p\">C&#225;c cổ phiếu n&#243;ng được ph&#226;n t&#237;ch trong b&#225;o c&#225;o của Ph&#242;ng Tư vấn Vietstock gồm: BMI, GEX, HPG, HDB, MSN, OCB, STB, TPB, VIB v&#224; VPB.</p>\\r\\n                </div>\\r\\n            </div>\\r\\n                <div class=\"border4\"></div>\\r\\n                <div class=\"space-20\"></div>\\r\\n            <div class=\"single_post post_type12 type20 mb20 channelContent\">\\r\\n                <div class=\"post_img\">\\r\\n                    <div class=\"img_wrap  border-radious5\">\\r\\n                        <a href=\"/2024/05/top-co-phieu-dang-chu-y-dau-phien-1605-830-1190254.htm\" title=\"Top cổ phiếu đ&#225;ng ch&#250; &#253; đầu phi&#234;n 16/05\">\\r\\n                            <img class=\"lazy\" data-src=\"https://image.vietstock.vn/2024/05/15/top-cp-0706-ava_1631980.jpg\" alt=\"Top cổ phiếu đ&#225;ng ch&#250; &#253; đầu phi&#234;n 16/05\" />\\r\\n                        </a>\\r\\n                    </div>\\r\\n                </div>\\r\\n                <div class=\"single_post_text\">\\r\\n                    <div class=\"row\">\\r\\n                        <div class=\"col-12 align-self-cnter\">\\r\\n                            <div class=\"meta3\">\\r\\n                                <a href=\"/chung-khoan/co-phieu.htm\" title=\"Cổ phiếu\">CỔ PHIẾU</a>\\r\\n                                <a href=\"/2024/05/top-co-phieu-dang-chu-y-dau-phien-1605-830-1190254.htm\" title=\"3 giờ trước\">3 giờ trước</a>\\r\\n                            </div>\\r\\n                        </div>\\r\\n                    </div>\\r\\n                    <h4><a class=\"fontbold\" href=\"/2024/05/top-co-phieu-dang-chu-y-dau-phien-1605-830-1190254.htm\" title=\"Top cổ phiếu đ&#225;ng ch&#250; &#253; đầu phi&#234;n 16/05\">Top cổ phiếu đ&#225;ng ch&#250; &#253; đầu phi&#234;n 16/05</a></h4>\\r\\n                    <div class=\"space-20\"></div>\\r\\n                    <p class=\"post-p\">Danh s&#225;ch c&#225;c m&#227; cổ phiếu tăng v&#224; giảm mạnh nhất những phi&#234;n gần đ&#226;y theo số liệu thống k&#234; của Vietstock.</p>\\r\\n                </div>\\r\\n            </div>\\r\\n                <div class=\"border4\"></div>\\r\\n                <div class=\"space-20\"></div>\\r\\n            <div class=\"single_post post_type12 type20 mb20 channelContent\">\\r\\n                <div class=\"post_img\">\\r\\n                    <div class=\"img_wrap  border-radious5\">\\r\\n                        <a href=\"/2024/05/1605-doc-gi-truoc-gio-giao-dich-chung-khoan-830-1190377.htm\" title=\"16/05: Đọc g&#236; trước giờ giao dịch chứng kho&#225;n?\">\\r\\n                            <img class=\"lazy\" data-src=\"https://image.vietstock.vn/2024/05/15/doc-gi-1611_2124113.jpg\" alt=\"16/05: Đọc g&#236; trước giờ giao dịch chứng kho&#225;n?\" />\\r\\n                        </a>\\r\\n                    </div>\\r\\n                </div>\\r\\n                <div class=\"single_post_text\">\\r\\n                    <div class=\"row\">\\r\\n                        <div class=\"col-12 align-self-cnter\">\\r\\n                            <div class=\"meta3\">\\r\\n                                <a href=\"/chung-khoan/co-phieu.htm\" title=\"Cổ phiếu\">CỔ PHIẾU</a>\\r\\n                                <a href=\"/2024/05/1605-doc-gi-truoc-gio-giao-dich-chung-khoan-830-1190377.htm\" title=\"16/05 06:00\">16/05 06:00</a>\\r\\n                            </div>\\r\\n                        </div>\\r\\n                    </div>\\r\\n                    <h4><a class=\"fontbold\" href=\"/2024/05/1605-doc-gi-truoc-gio-giao-dich-chung-khoan-830-1190377.htm\" title=\"16/05: Đọc g&#236; trước giờ giao dịch chứng kho&#225;n?\">16/05: Đọc g&#236; trước giờ giao dịch chứng kho&#225;n?</a></h4>\\r\\n                    <div class=\"space-20\"></div>\\r\\n                    <p class=\"post-p\">C&#249;ng điểm lại những tin tức t&#224;i ch&#237;nh kinh tế trong nước v&#224; quốc tế đ&#225;ng ch&#250; &#253; diễn ra trong 24h qua trước giờ giao dịch h&#244;m nay.&#160;</p>\\r\\n                </div>\\r\\n            </div>\\r\\n                <div class=\"border4\"></div>\\r\\n                <div class=\"space-20\"></div>\\r\\n            <div class=\"single_post post_type12 type20 mb20 channelContent\">\\r\\n                <div class=\"post_img\">\\r\\n                    <div class=\"img_wrap  border-radious5\">\\r\\n                        <a href=\"/2024/05/theo-dau-dong-tien-ca-map-1505-khoi-ngoai-quay-tro-lai-mua-rong-sau-5-phien-ban-lien-tiep-830-1190370.htm\" title=\"Theo dấu d&#242;ng tiền c&#225; mập 15/05: Khối ngoại quay trở lại mua r&#242;ng sau 5 phi&#234;n b&#225;n li&#234;n tiếp\">\\r\\n                            <img class=\"lazy\" data-src=\"https://image.vietstock.vn/2024/05/15/20240515.Camap.cd_1810459.png\" alt=\"Theo dấu d&#242;ng tiền c&#225; mập 15/05: Khối ngoại quay trở lại mua r&#242;ng sau 5 phi&#234;n b&#225;n li&#234;n tiếp\" />\\r\\n                        </a>\\r\\n                    </div>\\r\\n                </div>\\r\\n                <div class=\"single_post_text\">\\r\\n                    <div class=\"row\">\\r\\n                        <div class=\"col-12 align-self-cnter\">\\r\\n                            <div class=\"meta3\">\\r\\n                                <a href=\"/chung-khoan/co-phieu.htm\" title=\"Cổ phiếu\">CỔ PHIẾU</a>\\r\\n                                <a href=\"/2024/05/theo-dau-dong-tien-ca-map-1505-khoi-ngoai-quay-tro-lai-mua-rong-sau-5-phien-ban-lien-tiep-830-1190370.htm\" title=\"15/05 18:25\">15/05 18:25</a>\\r\\n                            </div>\\r\\n                        </div>\\r\\n                    </div>\\r\\n                    <h4><a class=\"fontbold\" href=\"/2024/05/theo-dau-dong-tien-ca-map-1505-khoi-ngoai-quay-tro-lai-mua-rong-sau-5-phien-ban-lien-tiep-830-1190370.htm\" title=\"Theo dấu d&#242;ng tiền c&#225; mập 15/05: Khối ngoại quay trở lại mua r&#242;ng sau 5 phi&#234;n b&#225;n li&#234;n tiếp\">Theo dấu d&#242;ng tiền c&#225; mập 15/05: Khối ngoại quay trở lại mua r&#242;ng sau 5 phi&#234;n b&#225;n li&#234;n tiếp</a></h4>\\r\\n                    <div class=\"space-20\"></div>\\r\\n                    <p class=\"post-p\">Sau 5 phi&#234;n &quot;xả&quot; li&#234;n tiếp, khối ngoại đ&#227; mua r&#242;ng hơn 291 tỷ đồng trong phi&#234;n ng&#224;y 15/05. C&#249;ng chiều, tự doanh c&#244;ng ty chứng kho&#225;n cũng mua r&#242;ng hơn...</p>\\r\\n                </div>\\r\\n            </div>\\r\\n                <div class=\"border4\"></div>\\r\\n                <div class=\"space-20\"></div>\\r\\n            <div class=\"single_post post_type12 type20 mb20 channelContent\">\\r\\n                <div class=\"post_img\">\\r\\n                    <div class=\"img_wrap  border-radious5\">\\r\\n                        <a href=\"/2024/05/cong-bo-thong-tin-khong-dung-quy-dinh-mot-cong-ty-bat-dong-san-bi-xu-phat-830-1190346.htm\" title=\"C&#244;ng bố th&#244;ng tin kh&#244;ng đ&#250;ng quy định, một c&#244;ng ty bất động sản bị xử phạt\">\\r\\n                            <img class=\"lazy\" data-src=\"https://image.vietstock.vn/2024/05/15/xu-phat-ava-1_1723781.jpg\" alt=\"C&#244;ng bố th&#244;ng tin kh&#244;ng đ&#250;ng quy định, một c&#244;ng ty bất động sản bị xử phạt\" />\\r\\n                        </a>\\r\\n                    </div>\\r\\n                </div>\\r\\n                <div class=\"single_post_text\">\\r\\n                    <div class=\"row\">\\r\\n                        <div class=\"col-12 align-self-cnter\">\\r\\n                            <div class=\"meta3\">\\r\\n                                <a href=\"/chung-khoan/co-phieu.htm\" title=\"Cổ phiếu\">CỔ PHIẾU</a>\\r\\n                                <a href=\"/2024/05/cong-bo-thong-tin-khong-dung-quy-dinh-mot-cong-ty-bat-dong-san-bi-xu-phat-830-1190346.htm\" title=\"15/05 17:32\">15/05 17:32</a>\\r\\n                            </div>\\r\\n                        </div>\\r\\n                    </div>\\r\\n                    <h4><a class=\"fontbold\" href=\"/2024/05/cong-bo-thong-tin-khong-dung-quy-dinh-mot-cong-ty-bat-dong-san-bi-xu-phat-830-1190346.htm\" title=\"C&#244;ng bố th&#244;ng tin kh&#244;ng đ&#250;ng quy định, một c&#244;ng ty bất động sản bị xử phạt\">C&#244;ng bố th&#244;ng tin kh&#244;ng đ&#250;ng quy định, một c&#244;ng ty bất động sản bị xử phạt</a></h4>\\r\\n                    <div class=\"space-20\"></div>\\r\\n                    <p class=\"post-p\">Ng&#224;y 14/05/2024, Ủy ban Chứng kho&#225;n Nh&#224; nước (UBCKNN) đ&#227; ban h&#224;nh quyết định về việc xử phạt vi phạm h&#224;nh ch&#237;nh trong lĩnh vực chứng kho&#225;n v&#224; thị...</p>\\r\\n                </div>\\r\\n            </div>\\r\\n                <div class=\"border4\"></div>\\r\\n                <div class=\"space-20\"></div>\\r\\n            <div class=\"single_post post_type12 type20 mb20 channelContent\">\\r\\n                <div class=\"post_img\">\\r\\n                    <div class=\"img_wrap  border-radious5\">\\r\\n                        <a href=\"/2024/05/vietstock-daily-16052024-tam-ly-lac-quan-quay-tro-lai-1636-1190306.htm\" title=\"Vietstock Daily 16/05/2024: T&#226;m l&#253; lạc quan quay trở lại\">\\r\\n                            <img class=\"lazy\" data-src=\"https://image.vietstock.vn/2024/05/15/3_1655510.png\" alt=\"Vietstock Daily 16/05/2024: T&#226;m l&#253; lạc quan quay trở lại\" />\\r\\n                        </a>\\r\\n                    </div>\\r\\n                </div>\\r\\n                <div class=\"single_post_text\">\\r\\n                    <div class=\"row\">\\r\\n                        <div class=\"col-12 align-self-cnter\">\\r\\n                            <div class=\"meta3\">\\r\\n                                <a href=\"/nhan-dinh-phan-tich/nhan-dinh-thi-truong.htm\" title=\"Nhận định thị trường\">NHẬN ĐỊNH THỊ TRƯỜNG</a>\\r\\n                                <a href=\"/2024/05/vietstock-daily-16052024-tam-ly-lac-quan-quay-tro-lai-1636-1190306.htm\" title=\"15/05 17:20\">15/05 17:20</a>\\r\\n                            </div>\\r\\n                        </div>\\r\\n                    </div>\\r\\n                    <h4><a class=\"fontbold\" href=\"/2024/05/vietstock-daily-16052024-tam-ly-lac-quan-quay-tro-lai-1636-1190306.htm\" title=\"Vietstock Daily 16/05/2024: T&#226;m l&#253; lạc quan quay trở lại\">Vietstock Daily 16/05/2024: T&#226;m l&#253; lạc quan quay trở lại</a></h4>\\r\\n                    <div class=\"space-20\"></div>\\r\\n                    <p class=\"post-p\">VN-Index tăng mạnh đồng thời xuất hiện mẫu h&#236;nh nến High Wave Candle sau khi test đường SMA 50 ng&#224;y. Hiện tại, khối lượng giao dịch vượt l&#234;n tr&#234;n mức...</p>\\r\\n                </div>\\r\\n            </div>\\r\\n                <div class=\"border4\"></div>\\r\\n                <div class=\"space-20\"></div>\\r\\n            <div class=\"single_post post_type12 type20 mb20 channelContent\">\\r\\n                <div class=\"post_img\">\\r\\n                    <div class=\"img_wrap  border-radious5\">\\r\\n                        <a href=\"/2024/05/nhip-dap-thi-truong-1505-vn-index-bat-tang-tich-cuc-1636-1189882.htm\" title=\"Nhịp đập Thị trường 15/05: VN-Index bật tăng t&#237;ch cực\">\\r\\n                            <img class=\"lazy\" data-src=\"https://image.vietstock.vn/2024/05/15/bo-gau-tang-lien-tiep_948521.jpg\" alt=\"Nhịp đập Thị trường 15/05: VN-Index bật tăng t&#237;ch cực\" />\\r\\n                        </a>\\r\\n                    </div>\\r\\n                </div>\\r\\n                <div class=\"single_post_text\">\\r\\n                    <div class=\"row\">\\r\\n                        <div class=\"col-12 align-self-cnter\">\\r\\n                            <div class=\"meta3\">\\r\\n                                <a href=\"/nhan-dinh-phan-tich/nhan-dinh-thi-truong.htm\" title=\"Nhận định thị trường\">NHẬN ĐỊNH THỊ TRƯỜNG</a>\\r\\n                                <a href=\"/2024/05/nhip-dap-thi-truong-1505-vn-index-bat-tang-tich-cuc-1636-1189882.htm\" title=\"15/05 15:47\">15/05 15:47</a>\\r\\n                            </div>\\r\\n                        </div>\\r\\n                    </div>\\r\\n                    <h4><a class=\"fontbold\" href=\"/2024/05/nhip-dap-thi-truong-1505-vn-index-bat-tang-tich-cuc-1636-1189882.htm\" title=\"Nhịp đập Thị trường 15/05: VN-Index bật tăng t&#237;ch cực\">Nhịp đập Thị trường 15/05: VN-Index bật tăng t&#237;ch cực</a></h4>\\r\\n                    <div class=\"space-20\"></div>\\r\\n                    <p class=\"post-p\">Kết th&#250;c phi&#234;n giao dịch, VN-Index tăng 11.11 điểm (0.89%), l&#234;n mức 1,254.39 điểm; HNX-Index tăng 1.83 điểm (0.77%), l&#234;n mức 238.78 điểm. Độ rộng...</p>\\r\\n                </div>\\r\\n            </div>\\r\\n                <div class=\"border4\"></div>\\r\\n                <div class=\"space-20\"></div>\\r\\n            <div class=\"single_post post_type12 type20 mb20 channelContent\">\\r\\n                <div class=\"post_img\">\\r\\n                    <div class=\"img_wrap  border-radious5\">\\r\\n                        <a href=\"/2024/05/phan-tich-ky-thuat-phien-chieu-1505-tam-ly-lac-quan-quay-tro-lai-585-1189984.htm\" title=\"Ph&#226;n t&#237;ch kỹ thuật phi&#234;n chiều 15/05: T&#226;m l&#253; lạc quan quay trở lại\">\\r\\n                            <img class=\"lazy\" data-src=\"https://image.vietstock.vn/2024/05/15/nhan-dinh-thi-truong-phai-sinh-weekly-18_121408.png\" alt=\"Ph&#226;n t&#237;ch kỹ thuật phi&#234;n chiều 15/05: T&#226;m l&#253; lạc quan quay trở lại\" />\\r\\n                        </a>\\r\\n                    </div>\\r\\n                </div>\\r\\n                <div class=\"single_post_text\">\\r\\n                    <div class=\"row\">\\r\\n                        <div class=\"col-12 align-self-cnter\">\\r\\n                            <div class=\"meta3\">\\r\\n                                <a href=\"/nhan-dinh-phan-tich/phan-tich-ky-thuat.htm\" title=\"Ph&#226;n t&#237;ch kỹ thuật\">PH&#194;N T&#205;CH KỸ THUẬT</a>\\r\\n                                <a href=\"/2024/05/phan-tich-ky-thuat-phien-chieu-1505-tam-ly-lac-quan-quay-tro-lai-585-1189984.htm\" title=\"15/05 12:36\">15/05 12:36</a>\\r\\n                            </div>\\r\\n                        </div>\\r\\n                    </div>\\r\\n                    <h4><a class=\"fontbold\" href=\"/2024/05/phan-tich-ky-thuat-phien-chieu-1505-tam-ly-lac-quan-quay-tro-lai-585-1189984.htm\" title=\"Ph&#226;n t&#237;ch kỹ thuật phi&#234;n chiều 15/05: T&#226;m l&#253; lạc quan quay trở lại\">Ph&#226;n t&#237;ch kỹ thuật phi&#234;n chiều 15/05: T&#226;m l&#253; lạc quan quay trở lại</a></h4>\\r\\n                    <div class=\"space-20\"></div>\\r\\n                    <p class=\"post-p\">VN-Index v&#224; HNX-Index đồng loạt tăng điểm c&#249;ng với khối lượng giao dịch c&#243; sự gia tăng trong phi&#234;n s&#225;ng cho thấy t&#226;m l&#253; nh&#224; đầu tư đang kh&#225; lạc quan.</p>\\r\\n                </div>\\r\\n            </div>\\r\\n                <div class=\"border4\"></div>\\r\\n                <div class=\"space-20\"></div>\\r\\n            <div class=\"single_post post_type12 type20 mb20 channelContent\">\\r\\n                <div class=\"post_img\">\\r\\n                    <div class=\"img_wrap  border-radious5\">\\r\\n                        <a href=\"/2024/05/top-co-phieu-dang-chu-y-dau-phien-1505-830-1189789.htm\" title=\"Top cổ phiếu đ&#225;ng ch&#250; &#253; đầu phi&#234;n 15/05\">\\r\\n                            <img class=\"lazy\" data-src=\"https://image.vietstock.vn/2024/05/14/topcp_20210423_164844.jpg\" alt=\"Top cổ phiếu đ&#225;ng ch&#250; &#253; đầu phi&#234;n 15/05\" />\\r\\n                        </a>\\r\\n                    </div>\\r\\n                </div>\\r\\n                <div class=\"single_post_text\">\\r\\n                    <div class=\"row\">\\r\\n                        <div class=\"col-12 align-self-cnter\">\\r\\n                            <div class=\"meta3\">\\r\\n                                <a href=\"/chung-khoan/co-phieu.htm\" title=\"Cổ phiếu\">CỔ PHIẾU</a>\\r\\n                                <a href=\"/2024/05/top-co-phieu-dang-chu-y-dau-phien-1505-830-1189789.htm\" title=\"15/05 08:00\">15/05 08:00</a>\\r\\n                            </div>\\r\\n                        </div>\\r\\n                    </div>\\r\\n                    <h4><a class=\"fontbold\" href=\"/2024/05/top-co-phieu-dang-chu-y-dau-phien-1505-830-1189789.htm\" title=\"Top cổ phiếu đ&#225;ng ch&#250; &#253; đầu phi&#234;n 15/05\">Top cổ phiếu đ&#225;ng ch&#250; &#253; đầu phi&#234;n 15/05</a></h4>\\r\\n                    <div class=\"space-20\"></div>\\r\\n                    <p class=\"post-p\">Danh s&#225;ch c&#225;c m&#227; cổ phiếu tăng v&#224; giảm mạnh nhất những phi&#234;n gần đ&#226;y theo số liệu thống k&#234; của Vietstock.</p>\\r\\n                </div>\\r\\n            </div>\\r\\n    <script>var totalChannelRow = 2884;</script>\\r\\n\\r\\n    <div class=\"vst-ads-center p-b\">\\r\\n        <!-- op27-Vietstock.vn_BTF -->\\r\\n        <ins class=\"staticpubads89354\"\\r\\n             data-sizes-desktop=\"640x180,640x190,640x200\"\\r\\n             data-sizes-mobile=\"300x250,336x280\"\\r\\n             data-slot=\"3\">\\r\\n        </ins>\\r\\n    </div>\\r\\n'"
      ]
     },
     "execution_count": 18,
     "metadata": {},
     "output_type": "execute_result"
    }
   ],
   "source": [
    "response.text"
   ]
  },
  {
   "cell_type": "code",
   "execution_count": 15,
   "metadata": {},
   "outputs": [],
   "source": [
    "write_data_to_text(response.text, f\"{RESPONSE_FOLDER_PATH}/{file_name}_but_2.html\")"
   ]
  },
  {
   "cell_type": "code",
   "execution_count": null,
   "metadata": {},
   "outputs": [],
   "source": [
    "write_dict_to_json_file(response.json(), \"product_iphone_manual_get.json\")\n",
    "\n",
    "url = request_of_entry[\"url\"]\n",
    "\n",
    "# Encode the URL\n",
    "encoded_url = quote(url, safe='')\n",
    "\n",
    "# Print the encoded URL\n",
    "print(encoded_url)\n",
    "\n",
    "# Encode the URL\n",
    "encoded_url = quote(\"máy giặt\", safe=' ')\n",
    "\n",
    "# Print the encoded URL\n",
    "print(encoded_url)\n",
    "\n",
    "decoded_url = unquote(url)\n",
    "\n",
    "# Print the decoded URL\n",
    "print(decoded_url)"
   ]
  }
 ],
 "metadata": {
  "kernelspec": {
   "display_name": "venv",
   "language": "python",
   "name": "python3"
  },
  "language_info": {
   "codemirror_mode": {
    "name": "ipython",
    "version": 3
   },
   "file_extension": ".py",
   "mimetype": "text/x-python",
   "name": "python",
   "nbconvert_exporter": "python",
   "pygments_lexer": "ipython3",
   "version": "3.12.2"
  }
 },
 "nbformat": 4,
 "nbformat_minor": 2
}
