{
 "cells": [
  {
   "cell_type": "code",
   "execution_count": 34,
   "metadata": {},
   "outputs": [],
   "source": [
    "import json\n",
    "from pprint import  pprint\n",
    "import requests\n",
    "from urllib.parse import quote, unquote\n",
    "import os"
   ]
  },
  {
   "cell_type": "code",
   "execution_count": 38,
   "metadata": {},
   "outputs": [],
   "source": [
    "PARENT_FOLDER = \"vietstock\"\n",
    "REQUEST_FOLDER_PATH = f\"./json/{PARENT_FOLDER}/request\"\n",
    "RESPONSE_FOLDER_PATH = f\"./json/{PARENT_FOLDER}/response\"\n",
    "\n",
    "if not os.path.exists(REQUEST_FOLDER_PATH) \\\n",
    "    and not os.path.exists(RESPONSE_FOLDER_PATH):\n",
    "        os.makedirs(REQUEST_FOLDER_PATH, exist_ok=True)\n",
    "        os.makedirs(RESPONSE_FOLDER_PATH, exist_ok=True)\n",
    "    "
   ]
  },
  {
   "cell_type": "code",
   "execution_count": 2,
   "metadata": {},
   "outputs": [],
   "source": [
    "def write_dict_to_json_file(dict_data, json_file):\n",
    "    with open(json_file, \"w\") as file:\n",
    "        json.dump(dict_data, file)"
   ]
  },
  {
   "cell_type": "code",
   "execution_count": 4,
   "metadata": {},
   "outputs": [],
   "source": [
    "def read_data_network(filename):\n",
    "    # Load the HAR file\n",
    "    with open(filename, 'r', encoding=\"utf8\") as file:\n",
    "        har_data = json.load(file)\n",
    "    \n",
    "    # Access the entries in the HAR file\n",
    "    entries = har_data['log']['entries']\n",
    "\n",
    "    return entries"
   ]
  },
  {
   "cell_type": "code",
   "execution_count": 39,
   "metadata": {},
   "outputs": [],
   "source": [
    "# Access the entries in the HAR file\n",
    "entries = read_data_network(f\"./network_har/{PARENT_FOLDER}/vietstock.vn.har\")"
   ]
  },
  {
   "cell_type": "code",
   "execution_count": 40,
   "metadata": {},
   "outputs": [],
   "source": [
    "def find_list_request_have_text(text, entries):\n",
    "    # Extract and print URLs and response status codes\n",
    "    entries_find = []\n",
    "    for entry in entries:\n",
    "        request = entry['request']\n",
    "        response = entry['response']\n",
    "        response_str = str(response)\n",
    "        \n",
    "        if text in response_str:\n",
    "            entries_find.append(entry)\n",
    "    return entries_find"
   ]
  },
  {
   "cell_type": "code",
   "execution_count": 41,
   "metadata": {},
   "outputs": [],
   "source": [
    "entries_find = find_list_request_have_text(\"Sửa quy định về hoạt động của nhà đầu tư nước ngoài trên thị trường chứng khoán Việt Nam\", entries)\n",
    "write_dict_to_json_file(entries_find, f\"{REQUEST_FOLDER_PATH}/entries_find.json\")"
   ]
  },
  {
   "cell_type": "code",
   "execution_count": 43,
   "metadata": {},
   "outputs": [],
   "source": [
    "len(entries_find)"
   ]
  },
  {
   "cell_type": "code",
   "execution_count": 28,
   "metadata": {},
   "outputs": [],
   "source": [
    "list_product = entries_find[0]\n",
    "request_of_list_product_api = list_product[\"request\"]\n",
    "product = json.loads(list_product[\"response\"][\"content\"][\"text\"])\n",
    "write_dict_to_json_file(product, \"product_iphone.json\")"
   ]
  },
  {
   "cell_type": "code",
   "execution_count": 12,
   "metadata": {},
   "outputs": [],
   "source": [
    "def construct_name_value(data):\n",
    "    data_converted = {}\n",
    "    for item in data:\n",
    "        # if item[\"name\"][0] == \":\":\n",
    "        #     continue\n",
    "        data_converted[item[\"name\"]] = item[\"value\"]\n",
    "    return data_converted"
   ]
  },
  {
   "cell_type": "code",
   "execution_count": 13,
   "metadata": {},
   "outputs": [],
   "source": [
    "write_dict_to_json_file(request_of_list_product_api, \"request_data.json\")"
   ]
  },
  {
   "cell_type": "code",
   "execution_count": 14,
   "metadata": {},
   "outputs": [],
   "source": [
    "headers = construct_name_value(request_of_list_product_api[\"headers\"])"
   ]
  },
  {
   "cell_type": "code",
   "execution_count": 15,
   "metadata": {},
   "outputs": [],
   "source": [
    "headers_keys = list(headers.keys())[:]\n",
    "for key in headers_keys:\n",
    "    if key[0] == \":\":\n",
    "        del headers[key]"
   ]
  },
  {
   "cell_type": "code",
   "execution_count": 16,
   "metadata": {},
   "outputs": [
    {
     "data": {
      "text/plain": [
       "{'accept': 'application/json',\n",
       " 'accept-encoding': 'gzip, deflate, br, zstd',\n",
       " 'accept-language': 'en-US,en;q=0.9',\n",
       " 'af-ac-enc-dat': 'fb07a15c556356cd',\n",
       " 'af-ac-enc-sz-token': '4fLXR17CMZ7UQvvsi19o0A==|4vaP3t+oWhHC0FF+pe5Yf5JY9MVNay6lquYmVSxizbwwZucdtliKpywEtckOk3kukXjwRCFxSQI=|an5QGlMIQike1XEy|08|3',\n",
       " 'content-type': 'application/json',\n",
       " 'cookie': 'SPC_F=pyTTfaZGkbbZi7jcBe12BT8ack4JgUy4; REC_T_ID=4c64ddcc-a597-11ee-bc7a-86eb8c8837a9; _fbp=fb.1.1703777974786.1590549233; _hjSessionUser_868286=eyJpZCI6ImMyNzg5ZDgyLWYwYWMtNWJkMi04OGQzLTIxZWY3MTMwOTZkNiIsImNyZWF0ZWQiOjE3MDM3Nzc5NzcyNjQsImV4aXN0aW5nIjp0cnVlfQ==; SPC_CLIENTID=cHlUVGZhWkdrYmJadmcsmnuiuwqcupeu; _gcl_au=1.1.1313459435.1715315627; _ga_3XVGTY3603=GS1.1.1715656097.1.0.1715656097.60.0.0; _gid=GA1.2.1080460511.1715656098; SPC_SC_SA_TK=; SPC_SC_SA_UD=; SPC_SC_OFFLINE_TOKEN=; SC_SSO=-; SC_SSO_U=-; SPC_SC_SESSION=; __LOCALE__null=VN; csrftoken=0NMwlARK15OPAgEC03pnxOvn8yI5xUHP; _QPWSDCXHZQA=2285a077-e06a-4bef-c31b-1d44be9e3595; REC7iLP4Q=c9be3aed-dca5-4375-a74b-80faaf270220; SPC_SI=Qr04ZgAAAABCUUpJa3VWTGBH8gAAAAAAWTR0V0luME4=; SPC_SEC_SI=v1-OXRJZWFCWTFwSTg2YTdhWvHTVvSwt9zcd2gUTMFMFjQbUe7e5kmMllIXt6Lc7aEAPjp4CurhhsdoRQSWHC2mJ6xXlw7p0t1uzI96Xx/ljZ0=; _sapid=6a9d4172dc0bcc17f2a2115450421446db6f06c6e516e1271fa6ee0a; _med=ext_88a7a3a4-c5c0-4d7e-9822-0d807174abf9__default; SPC_EC=.c2dEVzIxZHFkcmRaWkZTdPZvrMDNxSpeEvhVq0JtyZ7z/SlTeK+IKUWE1euEATkoMbPDQZrX468TO2SZ94vTMAVQSzyuEkTvA30CTHE1+r+8qm2LU1kH1ZUXSLMDNETf3O/DgnV8hb9xQ8/7w6kjW98zCWC/tieQmKmhQwPXUf6wh3Ofe45LQ8AhFS++omE9qafm6YCvcMqhSg+RyxM2Ew==; SPC_ST=.c2dEVzIxZHFkcmRaWkZTdPZvrMDNxSpeEvhVq0JtyZ7z/SlTeK+IKUWE1euEATkoMbPDQZrX468TO2SZ94vTMAVQSzyuEkTvA30CTHE1+r+8qm2LU1kH1ZUXSLMDNETf3O/DgnV8hb9xQ8/7w6kjW98zCWC/tieQmKmhQwPXUf6wh3Ofe45LQ8AhFS++omE9qafm6YCvcMqhSg+RyxM2Ew==; SPC_U=43254992; SPC_T_ID=/djNCljKx5QTG7l1JJZQwygRilGsIX04llSUzKnOjxneimkqXQa7CJ4/YjNA45EyPy7/tHSvKBXJCaFSp7EFWQ4vsOzMGkodDndMeSw2LFznd8r2TJcIO6bYkI20sFNx7EyPFakfVSaCGGMH9IP7LdTSfkGYrCgTAGagCT3AVzI=; SPC_T_IV=OFZZSW1MdFk3a1ZvSFdRcw==; SPC_R_T_ID=/djNCljKx5QTG7l1JJZQwygRilGsIX04llSUzKnOjxneimkqXQa7CJ4/YjNA45EyPy7/tHSvKBXJCaFSp7EFWQ4vsOzMGkodDndMeSw2LFznd8r2TJcIO6bYkI20sFNx7EyPFakfVSaCGGMH9IP7LdTSfkGYrCgTAGagCT3AVzI=; SPC_R_T_IV=OFZZSW1MdFk3a1ZvSFdRcw==; SPC_IA=1; SPC_CDS_CHAT=d8b05265-254d-4f26-bf36-61aa80fd4ed3; shopee_webUnique_ccd=4fLXR17CMZ7UQvvsi19o0A%3D%3D%7C4vaP3t%2BoWhHC0FF%2Bpe5Yf5JY9MVNay6lquYmVSxizbwwZucdtliKpywEtckOk3kukXjwRCFxSQI%3D%7Can5QGlMIQike1XEy%7C08%7C3; ds=60b66d82c9c80077d646626ad3aa846b; AMP_TOKEN=%24NOT_FOUND; _ga=GA1.2.713950442.1703777977; _hjSession_868286=eyJpZCI6IjhjYzA5MWVlLTdmMjMtNDg2YS04OTVlLWYwODdhODQxNDhlZiIsImMiOjE3MTU2NzU3NjE0MTMsInMiOjAsInIiOjAsInNiIjowLCJzciI6MCwic2UiOjAsImZzIjowLCJzcCI6MH0=; _dc_gtm_UA-61914164-6=1; _ga_4GPP1ZXG63=GS1.1.1715675762.19.0.1715675781.41.0.0',\n",
       " 'priority': 'u=1, i',\n",
       " 'referer': 'https://shopee.vn/search?keyword=%C4%91i%E1%BB%87n%20tho%E1%BA%A1i%20iphone',\n",
       " 'sec-ch-ua': '\"Chromium\";v=\"124\", \"Microsoft Edge\";v=\"124\", \"Not-A.Brand\";v=\"99\"',\n",
       " 'sec-ch-ua-mobile': '?0',\n",
       " 'sec-ch-ua-platform': '\"Windows\"',\n",
       " 'sec-fetch-dest': 'empty',\n",
       " 'sec-fetch-mode': 'cors',\n",
       " 'sec-fetch-site': 'same-origin',\n",
       " 'user-agent': 'Mozilla/5.0 (Windows NT 10.0; Win64; x64) AppleWebKit/537.36 (KHTML, like Gecko) Chrome/124.0.0.0 Safari/537.36 Edg/124.0.0.0',\n",
       " 'x-api-source': 'pc',\n",
       " 'x-csrftoken': '0NMwlARK15OPAgEC03pnxOvn8yI5xUHP',\n",
       " 'x-requested-with': 'XMLHttpRequest',\n",
       " 'x-sap-ri': '8d2243665b3cdb4a9c64013f030109b606a4a7cc77afe4b5343e',\n",
       " 'x-sap-sec': 'jslc53cR3ZFN7ZFN63F27ZmN63FN7ZmN7ZFB7ZFNOZFN7acN7ZFR7ZFNGi0v8eJN7ZFH7ZFN2ZFN7zVVIf0axlB8Cxxg4kQ9rCaDjfRt/ZFN7aOi+wnf57G97ZFN7fTv8kL27ZFNLZFN7xmN7ZTPStaczFQ8kM6c3wUqBlfEn+3H/eGN7ZDm5aP9N1FW7ZJN3ZF27ZmN/ZFN7ZJN7ZDz7eFNhZtN7CrRTPFipTztksbAfdbKMuT2u8vUnScgP63f6HfTuIlunvoPdisyGoauaW94fikr7wnALFhqxErMzDLMNSCUqszi1wZa/jR18jLcSea8IvwKDkqwEn3eADqRZY7NF6GEJHw2vHVb8glNhi3z2f3b5z6jBRkSSjC9jZJPdVaX5fbgJocgRD/+Rwcqx/+5D/oid3nXymtHbfxOkkIbC2GotTnSAktAoxYnVDH+4CgI1kFaqPvn9qV7jbwoz+OMsdX/Ash8cbRBlMPAGVLMYkrefLKegTvapmM1oZzMnaAoJLCE83v8OrXBFaoQnq0O0xGt419OgNIqEYXORjArRAIIVbunfCsyndVtJf50IMgIOMmQPwcqH2mS2uaeOUEaoM+1ZQX09VIOq1exPq3mSRCTK1GmuXccd9INOVh/kDvdKSLCXY/YmC+QrJ5bD13a6hNenxjX4kot3Ip9fVISovYNTHrDG+jkOQYn2rem/k6+d6IrvlPMK58gURrAqnniUI8FLefZQ9EdPyN46pUXkeI6TZSjEVj/fF6iJTWUbY9dI7Asv91f+NmjGXYnaDU7u6Q1fT+lSgc1FHGdTSESlnB4VFfy8YApDifb32Z8GftgLqNDD1pHkDJsJUosbTf5C9NfhNxSo63DjRGjDbNqbtVcmMW+rUX9cvc1Xtr8SyqfJSeLWmzA9FMW7oMD13fAPMjoBY/8/52hDbfaM15WDBpzVW7nKGng/2TloHnQJSeTfYFf+wfXkIYFgBerr3MlZT/4cAt3rHFUPe9NvWh+jbmUsFPPC1wcxeX/D23VdJfhe5SQ/jGfsPpMNfl/y9Lnq/r+C9knQHlOCjlP4/16O3hHh+m7J6ckp4pkWUSRhYVSz+pMimWKdyZLTUGBsyCDn4C8xFPkT06b1B7ZWvL3QxDumZnHZPOoGNT2gvb2QkMaNrp4LyEj0n/wRreRIqy3aeKNvnwxwyM19g1uMp44wJc5iD93wADXAJ/IxgnABDLybDWLzJiNCwFWhnV1Hm7TXxQ7C0GA31ZH391ePOyDZ3U7hx2NRPdwlv+IN6iYZ409Tn1mzw22Igjnl3iouQOqNralqvv0UcInYhop2RoA02rerRuNW8I6rRifNQ9Wo8gTsAVMCq25djpeFsYUjuF4/ZFN7aJ9B1ZTN1UD7ZFN7C==',\n",
       " 'x-shopee-language': 'vi',\n",
       " 'x-sz-sdk-version': '1.9.1'}"
      ]
     },
     "execution_count": 16,
     "metadata": {},
     "output_type": "execute_result"
    }
   ],
   "source": [
    "headers"
   ]
  },
  {
   "cell_type": "code",
   "execution_count": 17,
   "metadata": {},
   "outputs": [],
   "source": [
    "cockies = construct_name_value(request_of_list_product_api[\"cookies\"])"
   ]
  },
  {
   "cell_type": "code",
   "execution_count": 18,
   "metadata": {},
   "outputs": [
    {
     "data": {
      "text/plain": [
       "{'SPC_F': 'pyTTfaZGkbbZi7jcBe12BT8ack4JgUy4',\n",
       " 'REC_T_ID': '4c64ddcc-a597-11ee-bc7a-86eb8c8837a9',\n",
       " '_fbp': 'fb.1.1703777974786.1590549233',\n",
       " '_hjSessionUser_868286': 'eyJpZCI6ImMyNzg5ZDgyLWYwYWMtNWJkMi04OGQzLTIxZWY3MTMwOTZkNiIsImNyZWF0ZWQiOjE3MDM3Nzc5NzcyNjQsImV4aXN0aW5nIjp0cnVlfQ==',\n",
       " 'SPC_CLIENTID': 'cHlUVGZhWkdrYmJadmcsmnuiuwqcupeu',\n",
       " '_gcl_au': '1.1.1313459435.1715315627',\n",
       " '_ga_3XVGTY3603': 'GS1.1.1715656097.1.0.1715656097.60.0.0',\n",
       " '_gid': 'GA1.2.1080460511.1715656098',\n",
       " 'SPC_SC_SA_TK': '',\n",
       " 'SPC_SC_SA_UD': '',\n",
       " 'SPC_SC_OFFLINE_TOKEN': '',\n",
       " 'SC_SSO': '-',\n",
       " 'SC_SSO_U': '-',\n",
       " 'SPC_SC_SESSION': '',\n",
       " '__LOCALE__null': 'VN',\n",
       " 'csrftoken': '0NMwlARK15OPAgEC03pnxOvn8yI5xUHP',\n",
       " '_QPWSDCXHZQA': '2285a077-e06a-4bef-c31b-1d44be9e3595',\n",
       " 'REC7iLP4Q': 'c9be3aed-dca5-4375-a74b-80faaf270220',\n",
       " 'SPC_SI': 'Qr04ZgAAAABCUUpJa3VWTGBH8gAAAAAAWTR0V0luME4=',\n",
       " 'SPC_SEC_SI': 'v1-OXRJZWFCWTFwSTg2YTdhWvHTVvSwt9zcd2gUTMFMFjQbUe7e5kmMllIXt6Lc7aEAPjp4CurhhsdoRQSWHC2mJ6xXlw7p0t1uzI96Xx/ljZ0=',\n",
       " '_sapid': '6a9d4172dc0bcc17f2a2115450421446db6f06c6e516e1271fa6ee0a',\n",
       " '_med': 'ext_88a7a3a4-c5c0-4d7e-9822-0d807174abf9__default',\n",
       " 'SPC_EC': '.c2dEVzIxZHFkcmRaWkZTdPZvrMDNxSpeEvhVq0JtyZ7z/SlTeK+IKUWE1euEATkoMbPDQZrX468TO2SZ94vTMAVQSzyuEkTvA30CTHE1+r+8qm2LU1kH1ZUXSLMDNETf3O/DgnV8hb9xQ8/7w6kjW98zCWC/tieQmKmhQwPXUf6wh3Ofe45LQ8AhFS++omE9qafm6YCvcMqhSg+RyxM2Ew==',\n",
       " 'SPC_ST': '.c2dEVzIxZHFkcmRaWkZTdPZvrMDNxSpeEvhVq0JtyZ7z/SlTeK+IKUWE1euEATkoMbPDQZrX468TO2SZ94vTMAVQSzyuEkTvA30CTHE1+r+8qm2LU1kH1ZUXSLMDNETf3O/DgnV8hb9xQ8/7w6kjW98zCWC/tieQmKmhQwPXUf6wh3Ofe45LQ8AhFS++omE9qafm6YCvcMqhSg+RyxM2Ew==',\n",
       " 'SPC_U': '43254992',\n",
       " 'SPC_T_ID': '/djNCljKx5QTG7l1JJZQwygRilGsIX04llSUzKnOjxneimkqXQa7CJ4/YjNA45EyPy7/tHSvKBXJCaFSp7EFWQ4vsOzMGkodDndMeSw2LFznd8r2TJcIO6bYkI20sFNx7EyPFakfVSaCGGMH9IP7LdTSfkGYrCgTAGagCT3AVzI=',\n",
       " 'SPC_T_IV': 'OFZZSW1MdFk3a1ZvSFdRcw==',\n",
       " 'SPC_R_T_ID': '/djNCljKx5QTG7l1JJZQwygRilGsIX04llSUzKnOjxneimkqXQa7CJ4/YjNA45EyPy7/tHSvKBXJCaFSp7EFWQ4vsOzMGkodDndMeSw2LFznd8r2TJcIO6bYkI20sFNx7EyPFakfVSaCGGMH9IP7LdTSfkGYrCgTAGagCT3AVzI=',\n",
       " 'SPC_R_T_IV': 'OFZZSW1MdFk3a1ZvSFdRcw==',\n",
       " 'SPC_IA': '1',\n",
       " 'SPC_CDS_CHAT': 'd8b05265-254d-4f26-bf36-61aa80fd4ed3',\n",
       " 'shopee_webUnique_ccd': '4fLXR17CMZ7UQvvsi19o0A%3D%3D%7C4vaP3t%2BoWhHC0FF%2Bpe5Yf5JY9MVNay6lquYmVSxizbwwZucdtliKpywEtckOk3kukXjwRCFxSQI%3D%7Can5QGlMIQike1XEy%7C08%7C3',\n",
       " 'ds': '60b66d82c9c80077d646626ad3aa846b',\n",
       " 'AMP_TOKEN': '%24NOT_FOUND',\n",
       " '_ga': 'GA1.2.713950442.1703777977',\n",
       " '_hjSession_868286': 'eyJpZCI6IjhjYzA5MWVlLTdmMjMtNDg2YS04OTVlLWYwODdhODQxNDhlZiIsImMiOjE3MTU2NzU3NjE0MTMsInMiOjAsInIiOjAsInNiIjowLCJzciI6MCwic2UiOjAsImZzIjowLCJzcCI6MH0=',\n",
       " '_dc_gtm_UA-61914164-6': '1',\n",
       " '_ga_4GPP1ZXG63': 'GS1.1.1715675762.19.0.1715675781.41.0.0'}"
      ]
     },
     "execution_count": 18,
     "metadata": {},
     "output_type": "execute_result"
    }
   ],
   "source": [
    "cockies"
   ]
  },
  {
   "cell_type": "code",
   "execution_count": 21,
   "metadata": {},
   "outputs": [],
   "source": [
    "response = requests.get(\n",
    "    url=request_of_list_product_api[\"url\"],\n",
    "    headers=headers,\n",
    "    cookies=cockies\n",
    ")"
   ]
  },
  {
   "cell_type": "code",
   "execution_count": 22,
   "metadata": {},
   "outputs": [
    {
     "data": {
      "text/plain": [
       "200"
      ]
     },
     "execution_count": 22,
     "metadata": {},
     "output_type": "execute_result"
    }
   ],
   "source": [
    "response.status_code"
   ]
  },
  {
   "cell_type": "code",
   "execution_count": 23,
   "metadata": {},
   "outputs": [
    {
     "data": {
      "text/plain": [
       "{'5': False,\n",
       " '2': True,\n",
       " '4': 1,\n",
       " '0': 3,\n",
       " '3': 90309999,\n",
       " 'error': 90309999,\n",
       " '6': {'1': 'Search',\n",
       "  '0': 'VTJGc2RHVmtYMStMaEdyaVlKVEFpenlMbGZvN1FxalVRejJMTnpybUFITnZmdC9UcHQ5WHBWTUtOaXdWSVY5Wk00WndSS3dJaUM5SXh5SnNrVE5LY2EzTlh0eG9WUkNoZXBIT0JGMG44N09mVkRXT3dib2hFdjJyanNMU0VYMmFENEN1Rzd6TEJPTlY5OUdILzlYU2N3U2JZUnNRUG9qOGJUS2xRT1hqRFU0c3VaWWdacVVWek41K0dUNFlDRmYvSmFVQmZ6d1BWN1lYMmdMQzR0YmtDZjNvbzAzYXpOcnRIc2MxZnJ0ZHFQYVFUT04zR0ZNMWIxb1FHcHkzandSNA'}}"
      ]
     },
     "execution_count": 23,
     "metadata": {},
     "output_type": "execute_result"
    }
   ],
   "source": [
    "response.json()"
   ]
  },
  {
   "cell_type": "code",
   "execution_count": null,
   "metadata": {},
   "outputs": [],
   "source": [
    "response.text"
   ]
  },
  {
   "cell_type": "code",
   "execution_count": null,
   "metadata": {},
   "outputs": [],
   "source": [
    "write_dict_to_json_file(response.json(), \"product_iphone_manual_get.json\")"
   ]
  },
  {
   "cell_type": "code",
   "execution_count": null,
   "metadata": {},
   "outputs": [],
   "source": [
    "url = request_of_list_product_api[\"url\"]"
   ]
  },
  {
   "cell_type": "code",
   "execution_count": null,
   "metadata": {},
   "outputs": [],
   "source": [
    "url"
   ]
  },
  {
   "cell_type": "code",
   "execution_count": null,
   "metadata": {},
   "outputs": [],
   "source": [
    "\n"
   ]
  },
  {
   "cell_type": "code",
   "execution_count": null,
   "metadata": {},
   "outputs": [],
   "source": [
    "# Encode the URL\n",
    "encoded_url = quote(url, safe='')\n",
    "\n",
    "# Print the encoded URL\n",
    "print(encoded_url)"
   ]
  },
  {
   "cell_type": "code",
   "execution_count": null,
   "metadata": {},
   "outputs": [],
   "source": [
    "# Encode the URL\n",
    "encoded_url = quote(\"máy giặt\", safe=' ')\n",
    "\n",
    "# Print the encoded URL\n",
    "print(encoded_url)"
   ]
  },
  {
   "cell_type": "code",
   "execution_count": null,
   "metadata": {},
   "outputs": [],
   "source": [
    "decoded_url = unquote(url)\n",
    "\n",
    "# Print the decoded URL\n",
    "print(decoded_url)"
   ]
  },
  {
   "cell_type": "code",
   "execution_count": null,
   "metadata": {},
   "outputs": [],
   "source": []
  }
 ],
 "metadata": {
  "kernelspec": {
   "display_name": "venv",
   "language": "python",
   "name": "python3"
  },
  "language_info": {
   "codemirror_mode": {
    "name": "ipython",
    "version": 3
   },
   "file_extension": ".py",
   "mimetype": "text/x-python",
   "name": "python",
   "nbconvert_exporter": "python",
   "pygments_lexer": "ipython3",
   "version": "3.12.2"
  }
 },
 "nbformat": 4,
 "nbformat_minor": 2
}
