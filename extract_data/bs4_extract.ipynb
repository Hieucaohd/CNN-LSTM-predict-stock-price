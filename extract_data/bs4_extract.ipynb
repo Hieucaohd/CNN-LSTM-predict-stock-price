{
 "cells": [
  {
   "cell_type": "code",
   "execution_count": 1,
   "metadata": {},
   "outputs": [],
   "source": [
    "from bs4 import BeautifulSoup"
   ]
  },
  {
   "cell_type": "code",
   "execution_count": 4,
   "metadata": {},
   "outputs": [],
   "source": [
    "with open(\"../json/vietstock/response/chungkhoan_cophieu_page3_but_2.html\", \"r\", encoding=\"utf8\") as file:\n",
    "    html_content = file.read()"
   ]
  },
  {
   "cell_type": "code",
   "execution_count": 5,
   "metadata": {},
   "outputs": [
    {
     "data": {
      "text/plain": [
       "'            <div class=\"single_post post_type12 type20 mb20 channelContent\">\\n\\n                <div class=\"post_img\">\\n\\n                    <div class=\"img_wrap  border-radious5\">\\n\\n                        <a href=\"/2024/05/chung-khoan-kis-viet-nam-tung-khuyen-mai-36-ty-dong-nhan-dip-ra-mat-ung-dung-ikis-830-1189750.htm\" title=\"Chứng kho&#225;n KIS Việt Nam tung khuyến mại 3.6 tỷ đồng nh&#226;n dịp ra mắt ứng dụng iKIS\">\\n\\n                            <img class=\"lazy\" data-src=\"https://image.vietstock.vn/2024/05/15/chung-khoan-kis-ra-mat-ung-dung-giao-dich-moi_1514218.jpg\" alt=\"Chứng kho&#225;n KIS Việt Nam tung khuyến mại 3.6 tỷ đồng nh&#226;n dịp ra mắt ứng dụng iKIS\" />\\n\\n                        </a>\\n\\n                    </div>\\n\\n                </div>\\n\\n                <div class=\"single_post_text\">\\n\\n                    <div class=\"row\">\\n\\n                        <div class=\"col-12 align-self-cnter\">\\n\\n                            <div class=\"meta3\">\\n\\n                                <a href=\"/chung-khoan/co-phieu.htm\" title=\"Cổ phiếu\">CỔ PHIẾU</a>\\n\\n                                <a href=\"/2024/05/chung-khoan-kis-viet-nam-tung-khuyen-mai-36-ty-dong-nhan-dip-ra-mat-ung-dung-ikis-830-1189750.htm\" title=\"15/05 07:02\">15/05 07:02</a>\\n\\n                            </div>\\n\\n                        </div>\\n\\n                    </div>\\n\\n                    <h4><a class=\"fontbold\" href=\"/2024/05/chung-khoan-kis-viet-nam-tung-khuyen-mai-36-ty-dong-nhan-dip-ra-mat-ung-dung-ikis-830-1189750.htm\" title=\"Chứng kho&#225;n KIS Việt Nam tung khuyến mại 3.6 tỷ đồng nh&#226;n dịp ra mắt ứng dụng iKIS\">Chứng kho&#225;n KIS Việt Nam tung khuyến mại 3.6 tỷ đồng nh&#226;n dịp ra mắt ứng dụng iKIS</a></h4>\\n\\n                    <div class=\"space-20\"></div>\\n\\n                    <p class=\"post-p\">&#173;Với chiến lược tăng cường ph&#225;t triển ứng dụng c&#244;ng nghệ đẩy mạnh c&#244;ng t&#225;c chuyển đổi số, C&#244;ng ty cổ phần chứng kho&#225;n KIS Việt Nam (KIS) ch&#237;nh thức...</p>\\n\\n                </div>\\n\\n            </div>\\n\\n                <div class=\"border4\"></div>\\n\\n                <div class=\"space-20\"></div>\\n\\n            <div class=\"single_post post_type12 type20 mb20 channelContent\">\\n\\n                <div class=\"post_img\">\\n\\n                    <div class=\"img_wrap  border-radious5\">\\n\\n                        <a href=\"/2024/05/1505-doc-gi-truoc-gio-giao-dich-chung-khoan-830-1189859.htm\" title=\"15/05: Đọc g&#236; trước giờ giao dịch chứng kho&#225;n?\">\\n\\n                            <img class=\"lazy\" data-src=\"https://image.vietstock.vn/2024/05/14/doc-gi-truoc-gio-giao-dich-chung-khoan_2053375.jpg\" alt=\"15/05: Đọc g&#236; trước giờ giao dịch chứng kho&#225;n?\" />\\n\\n                        </a>\\n\\n                    </div>\\n\\n                </div>\\n\\n                <div class=\"single_post_text\">\\n\\n                    <div class=\"row\">\\n\\n                        <div class=\"col-12 align-self-cnter\">\\n\\n                            <div class=\"meta3\">\\n\\n                                <a href=\"/chung-khoan/co-phieu.htm\" title=\"Cổ phiếu\">CỔ PHIẾU</a>\\n\\n                                <a href=\"/2024/05/1505-doc-gi-truoc-gio-giao-dich-chung-khoan-830-1189859.htm\" title=\"15/05 06:02\">15/05 06:02</a>\\n\\n                            </div>\\n\\n                        </div>\\n\\n                    </div>\\n\\n                    <h4><a class=\"fontbold\" href=\"/2024/05/1505-doc-gi-truoc-gio-giao-dich-chung-khoan-830-1189859.htm\" title=\"15/05: Đọc g&#236; trước giờ giao dịch chứng kho&#225;n?\">15/05: Đọc g&#236; trước giờ giao dịch chứng kho&#225;n?</a></h4>\\n\\n                    <div class=\"space-20\"></div>\\n\\n                    <p class=\"post-p\">C&#249;ng điểm lại những tin tức t&#224;i ch&#237;nh kinh tế trong nước v&#224; quốc tế đ&#225;ng ch&#250; &#253; diễn ra trong 24h qua trước giờ giao dịch h&#244;m nay.&#160;</p>\\n\\n                </div>\\n\\n            </div>\\n\\n                <div class=\"border4\"></div>\\n\\n                <div class=\"space-20\"></div>\\n\\n            <div class=\"single_post post_type12 type20 mb20 channelContent\">\\n\\n                <div class=\"post_img\">\\n\\n                    <div class=\"img_wrap  border-radious5\">\\n\\n                        <a href=\"/2024/05/theo-dau-dong-tien-ca-map-1405-khoi-ngoai-ban-rong-hon-850-ty-van-gom-manh-mwg-830-1189820.htm\" title=\"Theo dấu d&#242;ng tiền c&#225; mập 14/05: Khối ngoại b&#225;n r&#242;ng hơn 850 tỷ, vẫn gom mạnh MWG\">\\n\\n                            <img class=\"lazy\" data-src=\"https://image.vietstock.vn/2024/05/14/1405_181659.png\" alt=\"Theo dấu d&#242;ng tiền c&#225; mập 14/05: Khối ngoại b&#225;n r&#242;ng hơn 850 tỷ, vẫn gom mạnh MWG\" />\\n\\n                        </a>\\n\\n                    </div>\\n\\n                </div>\\n\\n                <div class=\"single_post_text\">\\n\\n                    <div class=\"row\">\\n\\n                        <div class=\"col-12 align-self-cnter\">\\n\\n                            <div class=\"meta3\">\\n\\n                                <a href=\"/chung-khoan/co-phieu.htm\" title=\"Cổ phiếu\">CỔ PHIẾU</a>\\n\\n                                <a href=\"/2024/05/theo-dau-dong-tien-ca-map-1405-khoi-ngoai-ban-rong-hon-850-ty-van-gom-manh-mwg-830-1189820.htm\" title=\"14/05 18:20\">14/05 18:20</a>\\n\\n                            </div>\\n\\n                        </div>\\n\\n                    </div>\\n\\n                    <h4><a class=\"fontbold\" href=\"/2024/05/theo-dau-dong-tien-ca-map-1405-khoi-ngoai-ban-rong-hon-850-ty-van-gom-manh-mwg-830-1189820.htm\" title=\"Theo dấu d&#242;ng tiền c&#225; mập 14/05: Khối ngoại b&#225;n r&#242;ng hơn 850 tỷ, vẫn gom mạnh MWG\">Theo dấu d&#242;ng tiền c&#225; mập 14/05: Khối ngoại b&#225;n r&#242;ng hơn 850 tỷ, vẫn gom mạnh MWG</a></h4>\\n\\n                    <div class=\"space-20\"></div>\\n\\n                    <p class=\"post-p\">Khối ngoại đ&#225;nh dấu 5 phi&#234;n &quot;xả&quot; li&#234;n tiếp trong ng&#224;y 14/05 khi b&#225;n r&#242;ng tới hơn 850 tỷ đồng. C&#249;ng chiều, tự doanh c&#244;ng ty chứng kho&#225;n trở lại b&#225;n...</p>\\n\\n                </div>\\n\\n            </div>\\n\\n                <div class=\"border4\"></div>\\n\\n                <div class=\"space-20\"></div>\\n\\n            <div class=\"single_post post_type12 type20 mb20 channelContent\">\\n\\n                <div class=\"post_img\">\\n\\n                    <div class=\"img_wrap  border-radious5\">\\n\\n                        <a href=\"/2024/05/vietstock-daily-15052024-duy-tri-the-tran-giang-co-1636-1189776.htm\" title=\"Vietstock Daily 15/05/2024: Duy tr&#236; thế trận giằng co\">\\n\\n                            <img class=\"lazy\" data-src=\"https://image.vietstock.vn/2024/05/14/11_1641939.jpg\" alt=\"Vietstock Daily 15/05/2024: Duy tr&#236; thế trận giằng co\" />\\n\\n                        </a>\\n\\n                    </div>\\n\\n                </div>\\n\\n                <div class=\"single_post_text\">\\n\\n                    <div class=\"row\">\\n\\n                        <div class=\"col-12 align-self-cnter\">\\n\\n                            <div class=\"meta3\">\\n\\n                                <a href=\"/nhan-dinh-phan-tich/nhan-dinh-thi-truong.htm\" title=\"Nhận định thị trường\">NHẬN ĐỊNH THỊ TRƯỜNG</a>\\n\\n                                <a href=\"/2024/05/vietstock-daily-15052024-duy-tri-the-tran-giang-co-1636-1189776.htm\" title=\"14/05 17:15\">14/05 17:15</a>\\n\\n                            </div>\\n\\n                        </div>\\n\\n                    </div>\\n\\n                    <h4><a class=\"fontbold\" href=\"/2024/05/vietstock-daily-15052024-duy-tri-the-tran-giang-co-1636-1189776.htm\" title=\"Vietstock Daily 15/05/2024: Duy tr&#236; thế trận giằng co\">Vietstock Daily 15/05/2024: Duy tr&#236; thế trận giằng co</a></h4>\\n\\n                    <div class=\"space-20\"></div>\\n\\n                    <p class=\"post-p\">VN-Index tăng điểm đồng thời li&#234;n tục giằng co quanh v&#249;ng 1,235-1,255 điểm (tương đương đỉnh cũ th&#225;ng 9/2023) trong c&#225;c phi&#234;n gần đ&#226;y. Nhiều khả năng...</p>\\n\\n                </div>\\n\\n            </div>\\n\\n                <div class=\"border4\"></div>\\n\\n                <div class=\"space-20\"></div>\\n\\n            <div class=\"single_post post_type12 type20 mb20 channelContent\">\\n\\n                <div class=\"post_img\">\\n\\n                    <div class=\"img_wrap  border-radious5\">\\n\\n                        <a href=\"/2024/05/phan-tich-ky-thuat-phien-chieu-1405-tam-ly-phan-van-dang-hien-huu-585-1189726.htm\" title=\"Ph&#226;n t&#237;ch kỹ thuật phi&#234;n chiều 14/05: T&#226;m l&#253; ph&#226;n v&#226;n đang hiện hữu\">\\n\\n                            <img class=\"lazy\" data-src=\"https://image.vietstock.vn/2024/05/14/nhan-dinh-thi-truong-phai-sinh-weekly-6_125261.png\" alt=\"Ph&#226;n t&#237;ch kỹ thuật phi&#234;n chiều 14/05: T&#226;m l&#253; ph&#226;n v&#226;n đang hiện hữu\" />\\n\\n                        </a>\\n\\n                    </div>\\n\\n                </div>\\n\\n                <div class=\"single_post_text\">\\n\\n                    <div class=\"row\">\\n\\n                        <div class=\"col-12 align-self-cnter\">\\n\\n                            <div class=\"meta3\">\\n\\n                                <a href=\"/nhan-dinh-phan-tich/phan-tich-ky-thuat.htm\" title=\"Ph&#226;n t&#237;ch kỹ thuật\">PH&#194;N T&#205;CH KỸ THUẬT</a>\\n\\n                                <a href=\"/2024/05/phan-tich-ky-thuat-phien-chieu-1405-tam-ly-phan-van-dang-hien-huu-585-1189726.htm\" title=\"14/05 12:37\">14/05 12:37</a>\\n\\n                            </div>\\n\\n                        </div>\\n\\n                    </div>\\n\\n                    <h4><a class=\"fontbold\" href=\"/2024/05/phan-tich-ky-thuat-phien-chieu-1405-tam-ly-phan-van-dang-hien-huu-585-1189726.htm\" title=\"Ph&#226;n t&#237;ch kỹ thuật phi&#234;n chiều 14/05: T&#226;m l&#253; ph&#226;n v&#226;n đang hiện hữu\">Ph&#226;n t&#237;ch kỹ thuật phi&#234;n chiều 14/05: T&#226;m l&#253; ph&#226;n v&#226;n đang hiện hữu</a></h4>\\n\\n                    <div class=\"space-20\"></div>\\n\\n                    <p class=\"post-p\">VN-Index v&#224; HNX-Index đồng loạt tăng điểm c&#249;ng với khối lượng giao dịch chưa c&#243; sự cải thiện r&#245; r&#224;ng trong phi&#234;n s&#225;ng cho thấy t&#226;m l&#253; kh&#225; ph&#226;n v&#226;n...</p>\\n\\n                </div>\\n\\n            </div>\\n\\n                <div class=\"border4\"></div>\\n\\n                <div class=\"space-20\"></div>\\n\\n            <div class=\"single_post post_type12 type20 mb20 channelContent\">\\n\\n                <div class=\"post_img\">\\n\\n                    <div class=\"img_wrap  border-radious5\">\\n\\n                        <a href=\"/2024/05/ngay-14052024-10-co-phieu-nong-duoi-goc-nhin-ptkt-cua-vietstock-585-1189531.htm\" title=\"Ng&#224;y 14/05/2024: 10 cổ phiếu n&#243;ng dưới g&#243;c nh&#236;n PTKT của Vietstock\">\\n\\n                            <img class=\"lazy\" data-src=\"https://image.vietstock.vn/2024/05/13/PTV-Hinh-7_1644197.png\" alt=\"Ng&#224;y 14/05/2024: 10 cổ phiếu n&#243;ng dưới g&#243;c nh&#236;n PTKT của Vietstock\" />\\n\\n                        </a>\\n\\n                    </div>\\n\\n                </div>\\n\\n                <div class=\"single_post_text\">\\n\\n                    <div class=\"row\">\\n\\n                        <div class=\"col-12 align-self-cnter\">\\n\\n                            <div class=\"meta3\">\\n\\n                                <a href=\"/nhan-dinh-phan-tich/phan-tich-ky-thuat.htm\" title=\"Ph&#226;n t&#237;ch kỹ thuật\">PH&#194;N T&#205;CH KỸ THUẬT</a>\\n\\n                                <a href=\"/2024/05/ngay-14052024-10-co-phieu-nong-duoi-goc-nhin-ptkt-cua-vietstock-585-1189531.htm\" title=\"14/05 10:00\">14/05 10:00</a>\\n\\n                            </div>\\n\\n                        </div>\\n\\n                    </div>\\n\\n                    <h4><a class=\"fontbold\" href=\"/2024/05/ngay-14052024-10-co-phieu-nong-duoi-goc-nhin-ptkt-cua-vietstock-585-1189531.htm\" title=\"Ng&#224;y 14/05/2024: 10 cổ phiếu n&#243;ng dưới g&#243;c nh&#236;n PTKT của Vietstock\">Ng&#224;y 14/05/2024: 10 cổ phiếu n&#243;ng dưới g&#243;c nh&#236;n PTKT của Vietstock</a></h4>\\n\\n                    <div class=\"space-20\"></div>\\n\\n                    <p class=\"post-p\">C&#225;c cổ phiếu n&#243;ng được ph&#226;n t&#237;ch trong b&#225;o c&#225;o của Ph&#242;ng Tư vấn Vietstock gồm: GAS, GEX, HPG, HDB, MSN, OCB, STB, TPB, VIB v&#224; VPB.</p>\\n\\n                </div>\\n\\n            </div>\\n\\n                <div class=\"border4\"></div>\\n\\n                <div class=\"space-20\"></div>\\n\\n            <div class=\"single_post post_type12 type20 mb20 channelContent\">\\n\\n                <div class=\"post_img\">\\n\\n                    <div class=\"img_wrap  border-radious5\">\\n\\n                        <a href=\"/2024/05/top-co-phieu-dang-chu-y-dau-phien-1405-830-1189517.htm\" title=\"Top cổ phiếu đ&#225;ng ch&#250; &#253; đầu phi&#234;n 14/05\">\\n\\n                            <img class=\"lazy\" data-src=\"https://image.vietstock.vn/2024/05/13/Top-cp_1622919.png\" alt=\"Top cổ phiếu đ&#225;ng ch&#250; &#253; đầu phi&#234;n 14/05\" />\\n\\n                        </a>\\n\\n                    </div>\\n\\n                </div>\\n\\n                <div class=\"single_post_text\">\\n\\n                    <div class=\"row\">\\n\\n                        <div class=\"col-12 align-self-cnter\">\\n\\n                            <div class=\"meta3\">\\n\\n                                <a href=\"/chung-khoan/co-phieu.htm\" title=\"Cổ phiếu\">CỔ PHIẾU</a>\\n\\n                                <a href=\"/2024/05/top-co-phieu-dang-chu-y-dau-phien-1405-830-1189517.htm\" title=\"14/05 08:00\">14/05 08:00</a>\\n\\n                            </div>\\n\\n                        </div>\\n\\n                    </div>\\n\\n                    <h4><a class=\"fontbold\" href=\"/2024/05/top-co-phieu-dang-chu-y-dau-phien-1405-830-1189517.htm\" title=\"Top cổ phiếu đ&#225;ng ch&#250; &#253; đầu phi&#234;n 14/05\">Top cổ phiếu đ&#225;ng ch&#250; &#253; đầu phi&#234;n 14/05</a></h4>\\n\\n                    <div class=\"space-20\"></div>\\n\\n                    <p class=\"post-p\">Danh s&#225;ch c&#225;c m&#227; cổ phiếu tăng v&#224; giảm mạnh nhất những phi&#234;n gần đ&#226;y theo số liệu thống k&#234; của Vietstock.</p>\\n\\n                </div>\\n\\n            </div>\\n\\n                <div class=\"border4\"></div>\\n\\n                <div class=\"space-20\"></div>\\n\\n            <div class=\"single_post post_type12 type20 mb20 channelContent\">\\n\\n                <div class=\"post_img\">\\n\\n                    <div class=\"img_wrap  border-radious5\">\\n\\n                        <a href=\"/2024/05/1405-doc-gi-truoc-gio-giao-dich-chung-khoan-830-1189658.htm\" title=\"14/05: Đọc g&#236; trước giờ giao dịch chứng kho&#225;n?\">\\n\\n                            <img class=\"lazy\" data-src=\"https://image.vietstock.vn/2024/05/13/dj-0_2059620_2352545.jpg\" alt=\"14/05: Đọc g&#236; trước giờ giao dịch chứng kho&#225;n?\" />\\n\\n                        </a>\\n\\n                    </div>\\n\\n                </div>\\n\\n                <div class=\"single_post_text\">\\n\\n                    <div class=\"row\">\\n\\n                        <div class=\"col-12 align-self-cnter\">\\n\\n                            <div class=\"meta3\">\\n\\n                                <a href=\"/chung-khoan/co-phieu.htm\" title=\"Cổ phiếu\">CỔ PHIẾU</a>\\n\\n                                <a href=\"/2024/05/1405-doc-gi-truoc-gio-giao-dich-chung-khoan-830-1189658.htm\" title=\"14/05 06:02\">14/05 06:02</a>\\n\\n                            </div>\\n\\n                        </div>\\n\\n                    </div>\\n\\n                    <h4><a class=\"fontbold\" href=\"/2024/05/1405-doc-gi-truoc-gio-giao-dich-chung-khoan-830-1189658.htm\" title=\"14/05: Đọc g&#236; trước giờ giao dịch chứng kho&#225;n?\">14/05: Đọc g&#236; trước giờ giao dịch chứng kho&#225;n?</a></h4>\\n\\n                    <div class=\"space-20\"></div>\\n\\n                    <p class=\"post-p\">C&#249;ng điểm lại những tin tức t&#224;i ch&#237;nh kinh tế trong nước v&#224; quốc tế đ&#225;ng ch&#250; &#253; diễn ra trong 24h qua trước giờ giao dịch h&#244;m nay.&#160;</p>\\n\\n                </div>\\n\\n            </div>\\n\\n                <div class=\"border4\"></div>\\n\\n                <div class=\"space-20\"></div>\\n\\n            <div class=\"single_post post_type12 type20 mb20 channelContent\">\\n\\n                <div class=\"post_img\">\\n\\n                    <div class=\"img_wrap  border-radious5\">\\n\\n                        <a href=\"/2024/05/co-phieu-van-tai-bien-dien-va-ho-dau-khi-co-tuan-hut-tien-830-1189468.htm\" title=\"Cổ phiếu vận tải biển, điện v&#224; họ dầu kh&#237; c&#243; tuần h&#250;t tiền\">\\n\\n                            <img class=\"lazy\" data-src=\"https://image.vietstock.vn/2024/05/13/bull-market-dong-tien-lan-toa_1446771.png\" alt=\"Cổ phiếu vận tải biển, điện v&#224; họ dầu kh&#237; c&#243; tuần h&#250;t tiền\" />\\n\\n                        </a>\\n\\n                    </div>\\n\\n                </div>\\n\\n                <div class=\"single_post_text\">\\n\\n                    <div class=\"row\">\\n\\n                        <div class=\"col-12 align-self-cnter\">\\n\\n                            <div class=\"meta3\">\\n\\n                                <a href=\"/chung-khoan/co-phieu.htm\" title=\"Cổ phiếu\">CỔ PHIẾU</a>\\n\\n                                <a href=\"/2024/05/co-phieu-van-tai-bien-dien-va-ho-dau-khi-co-tuan-hut-tien-830-1189468.htm\" title=\"13/05 20:30\">13/05 20:30</a>\\n\\n                            </div>\\n\\n                        </div>\\n\\n                    </div>\\n\\n                    <h4><a class=\"fontbold\" href=\"/2024/05/co-phieu-van-tai-bien-dien-va-ho-dau-khi-co-tuan-hut-tien-830-1189468.htm\" title=\"Cổ phiếu vận tải biển, điện v&#224; họ dầu kh&#237; c&#243; tuần h&#250;t tiền\">Cổ phiếu vận tải biển, điện v&#224; họ dầu kh&#237; c&#243; tuần h&#250;t tiền</a></h4>\\n\\n                    <div class=\"space-20\"></div>\\n\\n                    <p class=\"post-p\">T&#226;m l&#253; thị trường t&#237;ch cực hơn khi điểm số v&#224; thanh khoản đều được cải thiện trong tuần 06 - 10/05. D&#242;ng tiền hồi phục đ&#227; lan tỏa ở nhiều nh&#243;m ng&#224;nh.</p>\\n\\n                </div>\\n\\n            </div>\\n\\n                <div class=\"border4\"></div>\\n\\n                <div class=\"space-20\"></div>\\n\\n            <div class=\"single_post post_type12 type20 mb20 channelContent\">\\n\\n                <div class=\"post_img\">\\n\\n                    <div class=\"img_wrap  border-radious5\">\\n\\n                        <a href=\"/2024/05/theo-dau-dong-tien-ca-map-1305-vhm-mwg-tiep-tuc-duoc-khoi-ngoai-va-tu-doanh-giao-dich-trai-chieu-830-1189634.htm\" title=\"Theo dấu d&#242;ng tiền c&#225; mập 13/05: VHM, MWG tiếp tục được khối ngoại v&#224; tự doanh giao dịch tr&#225;i chiều\">\\n\\n                            <img class=\"lazy\" data-src=\"https://image.vietstock.vn/2024/05/13/20240513_theodaucamap_ava2_1820333.png\" alt=\"Theo dấu d&#242;ng tiền c&#225; mập 13/05: VHM, MWG tiếp tục được khối ngoại v&#224; tự doanh giao dịch tr&#225;i chiều\" />\\n\\n                        </a>\\n\\n                    </div>\\n\\n                </div>\\n\\n                <div class=\"single_post_text\">\\n\\n                    <div class=\"row\">\\n\\n                        <div class=\"col-12 align-self-cnter\">\\n\\n                            <div class=\"meta3\">\\n\\n                                <a href=\"/chung-khoan/co-phieu.htm\" title=\"Cổ phiếu\">CỔ PHIẾU</a>\\n\\n                                <a href=\"/2024/05/theo-dau-dong-tien-ca-map-1305-vhm-mwg-tiep-tuc-duoc-khoi-ngoai-va-tu-doanh-giao-dich-trai-chieu-830-1189634.htm\" title=\"13/05 18:32\">13/05 18:32</a>\\n\\n                            </div>\\n\\n                        </div>\\n\\n                    </div>\\n\\n                    <h4><a class=\"fontbold\" href=\"/2024/05/theo-dau-dong-tien-ca-map-1305-vhm-mwg-tiep-tuc-duoc-khoi-ngoai-va-tu-doanh-giao-dich-trai-chieu-830-1189634.htm\" title=\"Theo dấu d&#242;ng tiền c&#225; mập 13/05: VHM, MWG tiếp tục được khối ngoại v&#224; tự doanh giao dịch tr&#225;i chiều\">Theo dấu d&#242;ng tiền c&#225; mập 13/05: VHM, MWG tiếp tục được khối ngoại v&#224; tự doanh giao dịch tr&#225;i chiều</a></h4>\\n\\n                    <div class=\"space-20\"></div>\\n\\n                    <p class=\"post-p\">Trong khi tự doanh mua r&#242;ng VHM th&#236; khối ngoại ra sức b&#225;n cổ phiếu n&#224;y v&#224; điều ngược lại diễn ra với MWG.</p>\\n\\n                </div>\\n\\n            </div>\\n\\n    <script>var totalChannelRow = 2884;</script>\\n\\n\\n\\n    <div class=\"vst-ads-center p-b\">\\n\\n        <!-- op27-Vietstock.vn_BTF -->\\n\\n        <ins class=\"staticpubads89354\"\\n\\n             data-sizes-desktop=\"640x180,640x190,640x200\"\\n\\n             data-sizes-mobile=\"300x250,336x280\"\\n\\n             data-slot=\"3\">\\n\\n        </ins>\\n\\n    </div>\\n\\n'"
      ]
     },
     "execution_count": 5,
     "metadata": {},
     "output_type": "execute_result"
    }
   ],
   "source": [
    "html_content"
   ]
  },
  {
   "cell_type": "code",
   "execution_count": 12,
   "metadata": {},
   "outputs": [],
   "source": [
    "soup = BeautifulSoup(html_content, 'lxml')"
   ]
  },
  {
   "cell_type": "code",
   "execution_count": 13,
   "metadata": {},
   "outputs": [],
   "source": [
    "text = soup.get_text()"
   ]
  },
  {
   "cell_type": "code",
   "execution_count": 29,
   "metadata": {},
   "outputs": [
    {
     "name": "stdout",
     "output_type": "stream",
     "text": [
      "\n",
      "\n",
      "\n",
      "\n",
      "\n",
      "\n",
      "\n",
      "\n",
      "\n",
      "\n",
      "\n",
      "\n",
      "CỔ PHIẾU\n",
      "15/05 07:02\n",
      "\n",
      "\n",
      "\n",
      "Chứng khoán KIS Việt Nam tung khuyến mại 3.6 tỷ đồng nhân dịp ra mắt ứng dụng iKIS\n",
      "\n",
      "­Với chiến lược tăng cường phát triển ứng dụng công nghệ đẩy mạnh công tác chuyển đổi số, Công ty cổ phần chứng khoán KIS Việt Nam (KIS) chính thức...\n",
      "\n",
      "\n",
      "\n",
      "\n",
      "\n",
      "\n",
      "\n",
      "\n",
      "\n",
      "\n",
      "\n",
      "\n",
      "\n",
      "\n",
      "\n",
      "\n",
      "CỔ PHIẾU\n",
      "15/05 06:02\n",
      "\n",
      "\n",
      "\n",
      "15/05: Đọc gì trước giờ giao dịch chứng khoán?\n",
      "\n",
      "Cùng điểm lại những tin tức tài chính kinh tế trong nước và quốc tế đáng chú ý diễn ra trong 24h qua trước giờ giao dịch hôm nay. \n",
      "\n",
      "\n",
      "\n",
      "\n",
      "\n",
      "\n",
      "\n",
      "\n",
      "\n",
      "\n",
      "\n",
      "\n",
      "\n",
      "\n",
      "\n",
      "\n",
      "CỔ PHIẾU\n",
      "14/05 18:20\n",
      "\n",
      "\n",
      "\n",
      "Theo dấu dòng tiền cá mập 14/05: Khối ngoại bán ròng hơn 850 tỷ, vẫn gom mạnh MWG\n",
      "\n",
      "Khối ngoại đánh dấu 5 phiên \"xả\" liên tiếp trong ngày 14/05 khi bán ròng tới hơn 850 tỷ đồng. Cùng chiều, tự doanh công ty chứng khoán trở lại bán...\n",
      "\n",
      "\n",
      "\n",
      "\n",
      "\n",
      "\n",
      "\n",
      "\n",
      "\n",
      "\n",
      "\n",
      "\n",
      "\n",
      "\n",
      "\n",
      "\n",
      "NHẬN ĐỊNH THỊ TRƯỜNG\n",
      "14/05 17:15\n",
      "\n",
      "\n",
      "\n",
      "Vietstock Daily 15/05/2024: Duy trì thế trận giằng co\n",
      "\n",
      "VN-Index tăng điểm đồng thời liên tục giằng co quanh vùng 1,235-1,255 điểm (tương đương đỉnh cũ tháng 9/2023) trong các phiên gần đây. Nhiều khả năng...\n",
      "\n",
      "\n",
      "\n",
      "\n",
      "\n",
      "\n",
      "\n",
      "\n",
      "\n",
      "\n",
      "\n",
      "\n",
      "\n",
      "\n",
      "\n",
      "\n",
      "PHÂN TÍCH KỸ THUẬT\n",
      "14/05 12:37\n",
      "\n",
      "\n",
      "\n",
      "Phân tích kỹ thuật phiên chiều 14/05: Tâm lý phân vân đang hiện hữu\n",
      "\n",
      "VN-Index và HNX-Index đồng loạt tăng điểm cùng với khối lượng giao dịch chưa có sự cải thiện rõ ràng trong phiên sáng cho thấy tâm lý khá phân vân...\n",
      "\n",
      "\n",
      "\n",
      "\n",
      "\n",
      "\n",
      "\n",
      "\n",
      "\n",
      "\n",
      "\n",
      "\n",
      "\n",
      "\n",
      "\n",
      "\n",
      "PHÂN TÍCH KỸ THUẬT\n",
      "14/05 10:00\n",
      "\n",
      "\n",
      "\n",
      "Ngày 14/05/2024: 10 cổ phiếu nóng dưới góc nhìn PTKT của Vietstock\n",
      "\n",
      "Các cổ phiếu nóng được phân tích trong báo cáo của Phòng Tư vấn Vietstock gồm: GAS, GEX, HPG, HDB, MSN, OCB, STB, TPB, VIB và VPB.\n",
      "\n",
      "\n",
      "\n",
      "\n",
      "\n",
      "\n",
      "\n",
      "\n",
      "\n",
      "\n",
      "\n",
      "\n",
      "\n",
      "\n",
      "\n",
      "\n",
      "CỔ PHIẾU\n",
      "14/05 08:00\n",
      "\n",
      "\n",
      "\n",
      "Top cổ phiếu đáng chú ý đầu phiên 14/05\n",
      "\n",
      "Danh sách các mã cổ phiếu tăng và giảm mạnh nhất những phiên gần đây theo số liệu thống kê của Vietstock.\n",
      "\n",
      "\n",
      "\n",
      "\n",
      "\n",
      "\n",
      "\n",
      "\n",
      "\n",
      "\n",
      "\n",
      "\n",
      "\n",
      "\n",
      "\n",
      "\n",
      "CỔ PHIẾU\n",
      "14/05 06:02\n",
      "\n",
      "\n",
      "\n",
      "14/05: Đọc gì trước giờ giao dịch chứng khoán?\n",
      "\n",
      "Cùng điểm lại những tin tức tài chính kinh tế trong nước và quốc tế đáng chú ý diễn ra trong 24h qua trước giờ giao dịch hôm nay. \n",
      "\n",
      "\n",
      "\n",
      "\n",
      "\n",
      "\n",
      "\n",
      "\n",
      "\n",
      "\n",
      "\n",
      "\n",
      "\n",
      "\n",
      "\n",
      "\n",
      "CỔ PHIẾU\n",
      "13/05 20:30\n",
      "\n",
      "\n",
      "\n",
      "Cổ phiếu vận tải biển, điện và họ dầu khí có tuần hút tiền\n",
      "\n",
      "Tâm lý thị trường tích cực hơn khi điểm số và thanh khoản đều được cải thiện trong tuần 06 - 10/05. Dòng tiền hồi phục đã lan tỏa ở nhiều nhóm ngành.\n",
      "\n",
      "\n",
      "\n",
      "\n",
      "\n",
      "\n",
      "\n",
      "\n",
      "\n",
      "\n",
      "\n",
      "\n",
      "\n",
      "\n",
      "\n",
      "\n",
      "CỔ PHIẾU\n",
      "13/05 18:32\n",
      "\n",
      "\n",
      "\n",
      "Theo dấu dòng tiền cá mập 13/05: VHM, MWG tiếp tục được khối ngoại và tự doanh giao dịch trái chiều\n",
      "\n",
      "Trong khi tự doanh mua ròng VHM thì khối ngoại ra sức bán cổ phiếu này và điều ngược lại diễn ra với MWG.\n",
      "\n",
      "\n",
      "\n",
      "\n",
      "\n",
      "\n",
      "\n",
      "\n",
      "\n"
     ]
    }
   ],
   "source": [
    "print(text)"
   ]
  },
  {
   "cell_type": "code",
   "execution_count": 25,
   "metadata": {},
   "outputs": [],
   "source": [
    "first_a = soup.find_all(\"a\")[0]"
   ]
  },
  {
   "cell_type": "code",
   "execution_count": 34,
   "metadata": {},
   "outputs": [
    {
     "name": "stdout",
     "output_type": "stream",
     "text": [
      "\n",
      "\n",
      "\n",
      "/2024/05/chung-khoan-kis-viet-nam-tung-khuyen-mai-36-ty-dong-nhan-dip-ra-mat-ung-dung-ikis-830-1189750.htm\n",
      "=============================\n",
      "CỔ PHIẾU\n",
      "/chung-khoan/co-phieu.htm\n",
      "=============================\n",
      "15/05 07:02\n",
      "/2024/05/chung-khoan-kis-viet-nam-tung-khuyen-mai-36-ty-dong-nhan-dip-ra-mat-ung-dung-ikis-830-1189750.htm\n",
      "=============================\n",
      "Chứng khoán KIS Việt Nam tung khuyến mại 3.6 tỷ đồng nhân dịp ra mắt ứng dụng iKIS\n",
      "/2024/05/chung-khoan-kis-viet-nam-tung-khuyen-mai-36-ty-dong-nhan-dip-ra-mat-ung-dung-ikis-830-1189750.htm\n",
      "=============================\n",
      "\n",
      "\n",
      "\n",
      "/2024/05/1505-doc-gi-truoc-gio-giao-dich-chung-khoan-830-1189859.htm\n",
      "=============================\n",
      "CỔ PHIẾU\n",
      "/chung-khoan/co-phieu.htm\n",
      "=============================\n",
      "15/05 06:02\n",
      "/2024/05/1505-doc-gi-truoc-gio-giao-dich-chung-khoan-830-1189859.htm\n",
      "=============================\n",
      "15/05: Đọc gì trước giờ giao dịch chứng khoán?\n",
      "/2024/05/1505-doc-gi-truoc-gio-giao-dich-chung-khoan-830-1189859.htm\n",
      "=============================\n",
      "\n",
      "\n",
      "\n",
      "/2024/05/theo-dau-dong-tien-ca-map-1405-khoi-ngoai-ban-rong-hon-850-ty-van-gom-manh-mwg-830-1189820.htm\n",
      "=============================\n",
      "CỔ PHIẾU\n",
      "/chung-khoan/co-phieu.htm\n",
      "=============================\n",
      "14/05 18:20\n",
      "/2024/05/theo-dau-dong-tien-ca-map-1405-khoi-ngoai-ban-rong-hon-850-ty-van-gom-manh-mwg-830-1189820.htm\n",
      "=============================\n",
      "Theo dấu dòng tiền cá mập 14/05: Khối ngoại bán ròng hơn 850 tỷ, vẫn gom mạnh MWG\n",
      "/2024/05/theo-dau-dong-tien-ca-map-1405-khoi-ngoai-ban-rong-hon-850-ty-van-gom-manh-mwg-830-1189820.htm\n",
      "=============================\n",
      "\n",
      "\n",
      "\n",
      "/2024/05/vietstock-daily-15052024-duy-tri-the-tran-giang-co-1636-1189776.htm\n",
      "=============================\n",
      "NHẬN ĐỊNH THỊ TRƯỜNG\n",
      "/nhan-dinh-phan-tich/nhan-dinh-thi-truong.htm\n",
      "=============================\n",
      "14/05 17:15\n",
      "/2024/05/vietstock-daily-15052024-duy-tri-the-tran-giang-co-1636-1189776.htm\n",
      "=============================\n",
      "Vietstock Daily 15/05/2024: Duy trì thế trận giằng co\n",
      "/2024/05/vietstock-daily-15052024-duy-tri-the-tran-giang-co-1636-1189776.htm\n",
      "=============================\n",
      "\n",
      "\n",
      "\n",
      "/2024/05/phan-tich-ky-thuat-phien-chieu-1405-tam-ly-phan-van-dang-hien-huu-585-1189726.htm\n",
      "=============================\n",
      "PHÂN TÍCH KỸ THUẬT\n",
      "/nhan-dinh-phan-tich/phan-tich-ky-thuat.htm\n",
      "=============================\n",
      "14/05 12:37\n",
      "/2024/05/phan-tich-ky-thuat-phien-chieu-1405-tam-ly-phan-van-dang-hien-huu-585-1189726.htm\n",
      "=============================\n",
      "Phân tích kỹ thuật phiên chiều 14/05: Tâm lý phân vân đang hiện hữu\n",
      "/2024/05/phan-tich-ky-thuat-phien-chieu-1405-tam-ly-phan-van-dang-hien-huu-585-1189726.htm\n",
      "=============================\n",
      "\n",
      "\n",
      "\n",
      "/2024/05/ngay-14052024-10-co-phieu-nong-duoi-goc-nhin-ptkt-cua-vietstock-585-1189531.htm\n",
      "=============================\n",
      "PHÂN TÍCH KỸ THUẬT\n",
      "/nhan-dinh-phan-tich/phan-tich-ky-thuat.htm\n",
      "=============================\n",
      "14/05 10:00\n",
      "/2024/05/ngay-14052024-10-co-phieu-nong-duoi-goc-nhin-ptkt-cua-vietstock-585-1189531.htm\n",
      "=============================\n",
      "Ngày 14/05/2024: 10 cổ phiếu nóng dưới góc nhìn PTKT của Vietstock\n",
      "/2024/05/ngay-14052024-10-co-phieu-nong-duoi-goc-nhin-ptkt-cua-vietstock-585-1189531.htm\n",
      "=============================\n",
      "\n",
      "\n",
      "\n",
      "/2024/05/top-co-phieu-dang-chu-y-dau-phien-1405-830-1189517.htm\n",
      "=============================\n",
      "CỔ PHIẾU\n",
      "/chung-khoan/co-phieu.htm\n",
      "=============================\n",
      "14/05 08:00\n",
      "/2024/05/top-co-phieu-dang-chu-y-dau-phien-1405-830-1189517.htm\n",
      "=============================\n",
      "Top cổ phiếu đáng chú ý đầu phiên 14/05\n",
      "/2024/05/top-co-phieu-dang-chu-y-dau-phien-1405-830-1189517.htm\n",
      "=============================\n",
      "\n",
      "\n",
      "\n",
      "/2024/05/1405-doc-gi-truoc-gio-giao-dich-chung-khoan-830-1189658.htm\n",
      "=============================\n",
      "CỔ PHIẾU\n",
      "/chung-khoan/co-phieu.htm\n",
      "=============================\n",
      "14/05 06:02\n",
      "/2024/05/1405-doc-gi-truoc-gio-giao-dich-chung-khoan-830-1189658.htm\n",
      "=============================\n",
      "14/05: Đọc gì trước giờ giao dịch chứng khoán?\n",
      "/2024/05/1405-doc-gi-truoc-gio-giao-dich-chung-khoan-830-1189658.htm\n",
      "=============================\n",
      "\n",
      "\n",
      "\n",
      "/2024/05/co-phieu-van-tai-bien-dien-va-ho-dau-khi-co-tuan-hut-tien-830-1189468.htm\n",
      "=============================\n",
      "CỔ PHIẾU\n",
      "/chung-khoan/co-phieu.htm\n",
      "=============================\n",
      "13/05 20:30\n",
      "/2024/05/co-phieu-van-tai-bien-dien-va-ho-dau-khi-co-tuan-hut-tien-830-1189468.htm\n",
      "=============================\n",
      "Cổ phiếu vận tải biển, điện và họ dầu khí có tuần hút tiền\n",
      "/2024/05/co-phieu-van-tai-bien-dien-va-ho-dau-khi-co-tuan-hut-tien-830-1189468.htm\n",
      "=============================\n",
      "\n",
      "\n",
      "\n",
      "/2024/05/theo-dau-dong-tien-ca-map-1305-vhm-mwg-tiep-tuc-duoc-khoi-ngoai-va-tu-doanh-giao-dich-trai-chieu-830-1189634.htm\n",
      "=============================\n",
      "CỔ PHIẾU\n",
      "/chung-khoan/co-phieu.htm\n",
      "=============================\n",
      "13/05 18:32\n",
      "/2024/05/theo-dau-dong-tien-ca-map-1305-vhm-mwg-tiep-tuc-duoc-khoi-ngoai-va-tu-doanh-giao-dich-trai-chieu-830-1189634.htm\n",
      "=============================\n",
      "Theo dấu dòng tiền cá mập 13/05: VHM, MWG tiếp tục được khối ngoại và tự doanh giao dịch trái chiều\n",
      "/2024/05/theo-dau-dong-tien-ca-map-1305-vhm-mwg-tiep-tuc-duoc-khoi-ngoai-va-tu-doanh-giao-dich-trai-chieu-830-1189634.htm\n",
      "=============================\n"
     ]
    }
   ],
   "source": [
    "for a in soup.find_all(\"a\"):\n",
    "    print(a.get_text())\n",
    "    print(a.attrs[\"href\"])\n",
    "    print(\"=============================\")"
   ]
  },
  {
   "cell_type": "code",
   "execution_count": 27,
   "metadata": {},
   "outputs": [
    {
     "data": {
      "text/plain": [
       "{'href': '/2024/05/chung-khoan-kis-viet-nam-tung-khuyen-mai-36-ty-dong-nhan-dip-ra-mat-ung-dung-ikis-830-1189750.htm',\n",
       " 'title': 'Chứng khoán KIS Việt Nam tung khuyến mại 3.6 tỷ đồng nhân dịp ra mắt ứng dụng iKIS'}"
      ]
     },
     "execution_count": 27,
     "metadata": {},
     "output_type": "execute_result"
    }
   ],
   "source": [
    "first_a.attrs"
   ]
  },
  {
   "cell_type": "code",
   "execution_count": 15,
   "metadata": {},
   "outputs": [
    {
     "data": {
      "text/plain": [
       "[<p class=\"post-p\">­Với chiến lược tăng cường phát triển ứng dụng công nghệ đẩy mạnh công tác chuyển đổi số, Công ty cổ phần chứng khoán KIS Việt Nam (KIS) chính thức...</p>,\n",
       " <p class=\"post-p\">Cùng điểm lại những tin tức tài chính kinh tế trong nước và quốc tế đáng chú ý diễn ra trong 24h qua trước giờ giao dịch hôm nay. </p>,\n",
       " <p class=\"post-p\">Khối ngoại đánh dấu 5 phiên \"xả\" liên tiếp trong ngày 14/05 khi bán ròng tới hơn 850 tỷ đồng. Cùng chiều, tự doanh công ty chứng khoán trở lại bán...</p>,\n",
       " <p class=\"post-p\">VN-Index tăng điểm đồng thời liên tục giằng co quanh vùng 1,235-1,255 điểm (tương đương đỉnh cũ tháng 9/2023) trong các phiên gần đây. Nhiều khả năng...</p>,\n",
       " <p class=\"post-p\">VN-Index và HNX-Index đồng loạt tăng điểm cùng với khối lượng giao dịch chưa có sự cải thiện rõ ràng trong phiên sáng cho thấy tâm lý khá phân vân...</p>,\n",
       " <p class=\"post-p\">Các cổ phiếu nóng được phân tích trong báo cáo của Phòng Tư vấn Vietstock gồm: GAS, GEX, HPG, HDB, MSN, OCB, STB, TPB, VIB và VPB.</p>,\n",
       " <p class=\"post-p\">Danh sách các mã cổ phiếu tăng và giảm mạnh nhất những phiên gần đây theo số liệu thống kê của Vietstock.</p>,\n",
       " <p class=\"post-p\">Cùng điểm lại những tin tức tài chính kinh tế trong nước và quốc tế đáng chú ý diễn ra trong 24h qua trước giờ giao dịch hôm nay. </p>,\n",
       " <p class=\"post-p\">Tâm lý thị trường tích cực hơn khi điểm số và thanh khoản đều được cải thiện trong tuần 06 - 10/05. Dòng tiền hồi phục đã lan tỏa ở nhiều nhóm ngành.</p>,\n",
       " <p class=\"post-p\">Trong khi tự doanh mua ròng VHM thì khối ngoại ra sức bán cổ phiếu này và điều ngược lại diễn ra với MWG.</p>]"
      ]
     },
     "execution_count": 15,
     "metadata": {},
     "output_type": "execute_result"
    }
   ],
   "source": [
    "soup.find_all(\"p\")"
   ]
  },
  {
   "cell_type": "code",
   "execution_count": 16,
   "metadata": {},
   "outputs": [],
   "source": [
    "first_p = soup.find_all(\"p\")[0]"
   ]
  },
  {
   "cell_type": "code",
   "execution_count": 17,
   "metadata": {},
   "outputs": [
    {
     "data": {
      "text/plain": [
       "{'class': ['post-p']}"
      ]
     },
     "execution_count": 17,
     "metadata": {},
     "output_type": "execute_result"
    }
   ],
   "source": [
    "first_p.attrs"
   ]
  },
  {
   "cell_type": "code",
   "execution_count": 20,
   "metadata": {},
   "outputs": [
    {
     "data": {
      "text/plain": [
       "['post-p']"
      ]
     },
     "execution_count": 20,
     "metadata": {},
     "output_type": "execute_result"
    }
   ],
   "source": [
    "first_p.attrs[\"class\"]"
   ]
  },
  {
   "cell_type": "code",
   "execution_count": 32,
   "metadata": {},
   "outputs": [
    {
     "data": {
      "text/plain": [
       "'\\n\\n'"
      ]
     },
     "execution_count": 32,
     "metadata": {},
     "output_type": "execute_result"
    }
   ],
   "source": [
    "soup.a.get_text()"
   ]
  },
  {
   "cell_type": "code",
   "execution_count": null,
   "metadata": {},
   "outputs": [],
   "source": []
  }
 ],
 "metadata": {
  "kernelspec": {
   "display_name": "venv",
   "language": "python",
   "name": "python3"
  },
  "language_info": {
   "codemirror_mode": {
    "name": "ipython",
    "version": 3
   },
   "file_extension": ".py",
   "mimetype": "text/x-python",
   "name": "python",
   "nbconvert_exporter": "python",
   "pygments_lexer": "ipython3",
   "version": "3.12.2"
  }
 },
 "nbformat": 4,
 "nbformat_minor": 2
}
